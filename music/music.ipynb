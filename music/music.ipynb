{
  "cells": [
    {
      "cell_type": "markdown",
      "metadata": {
        "deletable": false,
        "editable": false,
        "id": "E0vqbgi9ay0H"
      },
      "source": [
        "# Музыка больших городов"
      ]
    },
    {
      "cell_type": "markdown",
      "metadata": {
        "deletable": false,
        "editable": false,
        "id": "VUC88oWjTJw2"
      },
      "source": [
        "**Цель проекта**\n",
        "\n",
        "Сравнить поведение пользователей «Яндекс.Музыки» в Москве и Санкт-Петербурге, проверив три гипотезы:\n",
        "1. Активность пользователей зависит от дня недели. Причём в Москве и Петербурге это проявляется по-разному.\n",
        "2. В понедельник утром в Москве преобладают одни жанры, а в Петербурге — другие. Так же и вечером пятницы преобладают разные жанры — в зависимости от города. \n",
        "3. Москва и Петербург предпочитают разные жанры музыки. В Москве чаще слушают поп-музыку, в Петербурге — русский рэп.\n",
        "\n",
        "**Ход исследования**\n",
        "\n",
        "1. Загрузить данные и провести их обзор\n",
        "2. Оценить наличие ошибок в данных, провести предобработку\n",
        "3. Проверить гипотезы \n",
        "\n"
      ]
    },
    {
      "cell_type": "markdown",
      "source": [
        "## Обзор данных"
      ],
      "metadata": {
        "id": "J7aKRAAQkwt-"
      }
    },
    {
      "cell_type": "code",
      "execution_count": 1,
      "metadata": {
        "deletable": false,
        "id": "AXN7PHPN_Zcs"
      },
      "outputs": [],
      "source": [
        "import pandas as pd"
      ]
    },
    {
      "cell_type": "code",
      "execution_count": 2,
      "metadata": {
        "deletable": false,
        "id": "fFVu7vqh_Zct"
      },
      "outputs": [],
      "source": [
        "try:\n",
        "    df = pd.read_csv('/datasets/yandex_music_project.csv')\n",
        "except:\n",
        "    df = pd.read_csv('/content/yandex_music_project.csv')"
      ]
    },
    {
      "cell_type": "code",
      "execution_count": 3,
      "metadata": {
        "deletable": false,
        "id": "oWTVX3gW_Zct",
        "colab": {
          "base_uri": "https://localhost:8080/",
          "height": 511
        },
        "outputId": "6971f85c-05a7-403b-95dc-232eb194ac15"
      },
      "outputs": [
        {
          "output_type": "execute_result",
          "data": {
            "text/plain": [
              "     userID                        Track            artist   genre  \\\n",
              "0  FFB692EC            Kamigata To Boots  The Mass Missile    rock   \n",
              "1  55204538  Delayed Because of Accident  Andreas Rönnberg    rock   \n",
              "2    20EC38            Funiculì funiculà       Mario Lanza     pop   \n",
              "3  A3DD03C9        Dragons in the Sunset        Fire + Ice    folk   \n",
              "4  E2DC1FAE                  Soul People        Space Echo   dance   \n",
              "5  842029A1                    Преданная         IMPERVTOR  rusrap   \n",
              "6  4CB90AA5                         True      Roman Messer   dance   \n",
              "7  F03E1C1F             Feeling This Way   Polina Griffith   dance   \n",
              "8  8FA1D3BE     И вновь продолжается бой               NaN  ruspop   \n",
              "9  E772D5C0                    Pessimist               NaN   dance   \n",
              "\n",
              "             City        time        Day  \n",
              "0  Saint-Petersburg  20:28:33  Wednesday  \n",
              "1            Moscow  14:07:09     Friday  \n",
              "2  Saint-Petersburg  20:58:07  Wednesday  \n",
              "3  Saint-Petersburg  08:37:09     Monday  \n",
              "4            Moscow  08:34:34     Monday  \n",
              "5  Saint-Petersburg  13:09:41     Friday  \n",
              "6            Moscow  13:00:07  Wednesday  \n",
              "7            Moscow  20:47:49  Wednesday  \n",
              "8            Moscow  09:17:40     Friday  \n",
              "9  Saint-Petersburg  21:20:49  Wednesday  "
            ],
            "text/html": [
              "\n",
              "  <div id=\"df-1d4a12e4-a0c3-4a24-8bd6-afb8ee7c4071\">\n",
              "    <div class=\"colab-df-container\">\n",
              "      <div>\n",
              "<style scoped>\n",
              "    .dataframe tbody tr th:only-of-type {\n",
              "        vertical-align: middle;\n",
              "    }\n",
              "\n",
              "    .dataframe tbody tr th {\n",
              "        vertical-align: top;\n",
              "    }\n",
              "\n",
              "    .dataframe thead th {\n",
              "        text-align: right;\n",
              "    }\n",
              "</style>\n",
              "<table border=\"1\" class=\"dataframe\">\n",
              "  <thead>\n",
              "    <tr style=\"text-align: right;\">\n",
              "      <th></th>\n",
              "      <th>userID</th>\n",
              "      <th>Track</th>\n",
              "      <th>artist</th>\n",
              "      <th>genre</th>\n",
              "      <th>City</th>\n",
              "      <th>time</th>\n",
              "      <th>Day</th>\n",
              "    </tr>\n",
              "  </thead>\n",
              "  <tbody>\n",
              "    <tr>\n",
              "      <th>0</th>\n",
              "      <td>FFB692EC</td>\n",
              "      <td>Kamigata To Boots</td>\n",
              "      <td>The Mass Missile</td>\n",
              "      <td>rock</td>\n",
              "      <td>Saint-Petersburg</td>\n",
              "      <td>20:28:33</td>\n",
              "      <td>Wednesday</td>\n",
              "    </tr>\n",
              "    <tr>\n",
              "      <th>1</th>\n",
              "      <td>55204538</td>\n",
              "      <td>Delayed Because of Accident</td>\n",
              "      <td>Andreas Rönnberg</td>\n",
              "      <td>rock</td>\n",
              "      <td>Moscow</td>\n",
              "      <td>14:07:09</td>\n",
              "      <td>Friday</td>\n",
              "    </tr>\n",
              "    <tr>\n",
              "      <th>2</th>\n",
              "      <td>20EC38</td>\n",
              "      <td>Funiculì funiculà</td>\n",
              "      <td>Mario Lanza</td>\n",
              "      <td>pop</td>\n",
              "      <td>Saint-Petersburg</td>\n",
              "      <td>20:58:07</td>\n",
              "      <td>Wednesday</td>\n",
              "    </tr>\n",
              "    <tr>\n",
              "      <th>3</th>\n",
              "      <td>A3DD03C9</td>\n",
              "      <td>Dragons in the Sunset</td>\n",
              "      <td>Fire + Ice</td>\n",
              "      <td>folk</td>\n",
              "      <td>Saint-Petersburg</td>\n",
              "      <td>08:37:09</td>\n",
              "      <td>Monday</td>\n",
              "    </tr>\n",
              "    <tr>\n",
              "      <th>4</th>\n",
              "      <td>E2DC1FAE</td>\n",
              "      <td>Soul People</td>\n",
              "      <td>Space Echo</td>\n",
              "      <td>dance</td>\n",
              "      <td>Moscow</td>\n",
              "      <td>08:34:34</td>\n",
              "      <td>Monday</td>\n",
              "    </tr>\n",
              "    <tr>\n",
              "      <th>5</th>\n",
              "      <td>842029A1</td>\n",
              "      <td>Преданная</td>\n",
              "      <td>IMPERVTOR</td>\n",
              "      <td>rusrap</td>\n",
              "      <td>Saint-Petersburg</td>\n",
              "      <td>13:09:41</td>\n",
              "      <td>Friday</td>\n",
              "    </tr>\n",
              "    <tr>\n",
              "      <th>6</th>\n",
              "      <td>4CB90AA5</td>\n",
              "      <td>True</td>\n",
              "      <td>Roman Messer</td>\n",
              "      <td>dance</td>\n",
              "      <td>Moscow</td>\n",
              "      <td>13:00:07</td>\n",
              "      <td>Wednesday</td>\n",
              "    </tr>\n",
              "    <tr>\n",
              "      <th>7</th>\n",
              "      <td>F03E1C1F</td>\n",
              "      <td>Feeling This Way</td>\n",
              "      <td>Polina Griffith</td>\n",
              "      <td>dance</td>\n",
              "      <td>Moscow</td>\n",
              "      <td>20:47:49</td>\n",
              "      <td>Wednesday</td>\n",
              "    </tr>\n",
              "    <tr>\n",
              "      <th>8</th>\n",
              "      <td>8FA1D3BE</td>\n",
              "      <td>И вновь продолжается бой</td>\n",
              "      <td>NaN</td>\n",
              "      <td>ruspop</td>\n",
              "      <td>Moscow</td>\n",
              "      <td>09:17:40</td>\n",
              "      <td>Friday</td>\n",
              "    </tr>\n",
              "    <tr>\n",
              "      <th>9</th>\n",
              "      <td>E772D5C0</td>\n",
              "      <td>Pessimist</td>\n",
              "      <td>NaN</td>\n",
              "      <td>dance</td>\n",
              "      <td>Saint-Petersburg</td>\n",
              "      <td>21:20:49</td>\n",
              "      <td>Wednesday</td>\n",
              "    </tr>\n",
              "  </tbody>\n",
              "</table>\n",
              "</div>\n",
              "      <button class=\"colab-df-convert\" onclick=\"convertToInteractive('df-1d4a12e4-a0c3-4a24-8bd6-afb8ee7c4071')\"\n",
              "              title=\"Convert this dataframe to an interactive table.\"\n",
              "              style=\"display:none;\">\n",
              "        \n",
              "  <svg xmlns=\"http://www.w3.org/2000/svg\" height=\"24px\"viewBox=\"0 0 24 24\"\n",
              "       width=\"24px\">\n",
              "    <path d=\"M0 0h24v24H0V0z\" fill=\"none\"/>\n",
              "    <path d=\"M18.56 5.44l.94 2.06.94-2.06 2.06-.94-2.06-.94-.94-2.06-.94 2.06-2.06.94zm-11 1L8.5 8.5l.94-2.06 2.06-.94-2.06-.94L8.5 2.5l-.94 2.06-2.06.94zm10 10l.94 2.06.94-2.06 2.06-.94-2.06-.94-.94-2.06-.94 2.06-2.06.94z\"/><path d=\"M17.41 7.96l-1.37-1.37c-.4-.4-.92-.59-1.43-.59-.52 0-1.04.2-1.43.59L10.3 9.45l-7.72 7.72c-.78.78-.78 2.05 0 2.83L4 21.41c.39.39.9.59 1.41.59.51 0 1.02-.2 1.41-.59l7.78-7.78 2.81-2.81c.8-.78.8-2.07 0-2.86zM5.41 20L4 18.59l7.72-7.72 1.47 1.35L5.41 20z\"/>\n",
              "  </svg>\n",
              "      </button>\n",
              "      \n",
              "  <style>\n",
              "    .colab-df-container {\n",
              "      display:flex;\n",
              "      flex-wrap:wrap;\n",
              "      gap: 12px;\n",
              "    }\n",
              "\n",
              "    .colab-df-convert {\n",
              "      background-color: #E8F0FE;\n",
              "      border: none;\n",
              "      border-radius: 50%;\n",
              "      cursor: pointer;\n",
              "      display: none;\n",
              "      fill: #1967D2;\n",
              "      height: 32px;\n",
              "      padding: 0 0 0 0;\n",
              "      width: 32px;\n",
              "    }\n",
              "\n",
              "    .colab-df-convert:hover {\n",
              "      background-color: #E2EBFA;\n",
              "      box-shadow: 0px 1px 2px rgba(60, 64, 67, 0.3), 0px 1px 3px 1px rgba(60, 64, 67, 0.15);\n",
              "      fill: #174EA6;\n",
              "    }\n",
              "\n",
              "    [theme=dark] .colab-df-convert {\n",
              "      background-color: #3B4455;\n",
              "      fill: #D2E3FC;\n",
              "    }\n",
              "\n",
              "    [theme=dark] .colab-df-convert:hover {\n",
              "      background-color: #434B5C;\n",
              "      box-shadow: 0px 1px 3px 1px rgba(0, 0, 0, 0.15);\n",
              "      filter: drop-shadow(0px 1px 2px rgba(0, 0, 0, 0.3));\n",
              "      fill: #FFFFFF;\n",
              "    }\n",
              "  </style>\n",
              "\n",
              "      <script>\n",
              "        const buttonEl =\n",
              "          document.querySelector('#df-1d4a12e4-a0c3-4a24-8bd6-afb8ee7c4071 button.colab-df-convert');\n",
              "        buttonEl.style.display =\n",
              "          google.colab.kernel.accessAllowed ? 'block' : 'none';\n",
              "\n",
              "        async function convertToInteractive(key) {\n",
              "          const element = document.querySelector('#df-1d4a12e4-a0c3-4a24-8bd6-afb8ee7c4071');\n",
              "          const dataTable =\n",
              "            await google.colab.kernel.invokeFunction('convertToInteractive',\n",
              "                                                     [key], {});\n",
              "          if (!dataTable) return;\n",
              "\n",
              "          const docLinkHtml = 'Like what you see? Visit the ' +\n",
              "            '<a target=\"_blank\" href=https://colab.research.google.com/notebooks/data_table.ipynb>data table notebook</a>'\n",
              "            + ' to learn more about interactive tables.';\n",
              "          element.innerHTML = '';\n",
              "          dataTable['output_type'] = 'display_data';\n",
              "          await google.colab.output.renderOutput(dataTable, element);\n",
              "          const docLink = document.createElement('div');\n",
              "          docLink.innerHTML = docLinkHtml;\n",
              "          element.appendChild(docLink);\n",
              "        }\n",
              "      </script>\n",
              "    </div>\n",
              "  </div>\n",
              "  "
            ]
          },
          "metadata": {},
          "execution_count": 3
        }
      ],
      "source": [
        "df.head(10)"
      ]
    },
    {
      "cell_type": "code",
      "execution_count": 4,
      "metadata": {
        "deletable": false,
        "id": "DSf2kIb-_Zct",
        "colab": {
          "base_uri": "https://localhost:8080/"
        },
        "outputId": "e70b534d-2ade-4532-da68-949a8dbdb863"
      },
      "outputs": [
        {
          "output_type": "stream",
          "name": "stdout",
          "text": [
            "<class 'pandas.core.frame.DataFrame'>\n",
            "RangeIndex: 65079 entries, 0 to 65078\n",
            "Data columns (total 7 columns):\n",
            " #   Column    Non-Null Count  Dtype \n",
            "---  ------    --------------  ----- \n",
            " 0     userID  65079 non-null  object\n",
            " 1   Track     63848 non-null  object\n",
            " 2   artist    57876 non-null  object\n",
            " 3   genre     63881 non-null  object\n",
            " 4     City    65079 non-null  object\n",
            " 5   time      65079 non-null  object\n",
            " 6   Day       65079 non-null  object\n",
            "dtypes: object(7)\n",
            "memory usage: 3.5+ MB\n"
          ]
        }
      ],
      "source": [
        "# получение общей информации о данных в таблице df\n",
        "df.info()"
      ]
    },
    {
      "cell_type": "markdown",
      "metadata": {
        "deletable": false,
        "editable": false,
        "id": "TaQ2Iwbr_Zct"
      },
      "source": [
        "Итак, в таблице семь столбцов. Тип данных во всех столбцах — `object`.\n",
        "\n",
        "Согласно документации к данным:\n",
        "* `userID` — идентификатор пользователя;\n",
        "* `Track` — название трека;  \n",
        "* `artist` — имя исполнителя;\n",
        "* `genre` — название жанра;\n",
        "* `City` — город пользователя;\n",
        "* `time` — время начала прослушивания;\n",
        "* `Day` — день недели.\n",
        "\n",
        "Количество значений в столбцах различается. Значит, в данных есть пропущенные значения."
      ]
    },
    {
      "cell_type": "markdown",
      "metadata": {
        "deletable": false,
        "editable": false,
        "id": "rAfziTBDmf2h",
        "tags": [
          "start_task"
        ]
      },
      "source": [
        "\n",
        "В названиях колонок видны нарушения стиля:\n",
        "* Строчные буквы сочетаются с прописными.\n",
        "* Встречаются пробелы.\n"
      ]
    },
    {
      "cell_type": "markdown",
      "metadata": {
        "deletable": false,
        "editable": false,
        "id": "MCB6-dXG_Zct"
      },
      "source": [
        "**Выводы**\n",
        "\n",
        "В каждой строке таблицы — данные о прослушанном треке. Часть колонок описывает саму композицию: название, исполнителя и жанр. Остальные данные рассказывают о пользователе: из какого он города, когда он слушал музыку. \n",
        "\n",
        "Предварительно можно утверждать, что данных достаточно для проверки гипотез. Но встречаются пропуски в данных, а в названиях колонок — расхождения с хорошим стилем.\n",
        "\n",
        "Чтобы двигаться дальше, нужно устранить проблемы в данных."
      ]
    },
    {
      "cell_type": "markdown",
      "metadata": {
        "deletable": false,
        "editable": false,
        "id": "SjYF6Ub9_Zct"
      },
      "source": [
        "## Предобработка данных\n"
      ]
    },
    {
      "cell_type": "markdown",
      "metadata": {
        "deletable": false,
        "editable": false,
        "id": "dIaKXr29_Zct",
        "tags": [
          "start_task"
        ]
      },
      "source": [
        "### Стиль заголовков\n",
        "Выведем названия столбцов."
      ]
    },
    {
      "cell_type": "code",
      "execution_count": 5,
      "metadata": {
        "deletable": false,
        "id": "oKOTdF_Q_Zct",
        "colab": {
          "base_uri": "https://localhost:8080/"
        },
        "outputId": "500e39d1-0e8a-45f1-da20-9ee509c3cab6"
      },
      "outputs": [
        {
          "output_type": "execute_result",
          "data": {
            "text/plain": [
              "Index(['  userID', 'Track', 'artist', 'genre', '  City  ', 'time', 'Day'], dtype='object')"
            ]
          },
          "metadata": {},
          "execution_count": 5
        }
      ],
      "source": [
        "df.columns"
      ]
    },
    {
      "cell_type": "markdown",
      "metadata": {
        "deletable": false,
        "editable": false,
        "id": "zj5534cv_Zct",
        "tags": [
          "start_task"
        ]
      },
      "source": [
        "Приведем названия в соответствие с хорошим стилем.\n"
      ]
    },
    {
      "cell_type": "code",
      "execution_count": 6,
      "metadata": {
        "deletable": false,
        "id": "ISlFqs5y_Zct"
      },
      "outputs": [],
      "source": [
        "df = df.rename(columns = \n",
        "               {'  userID':'user_id', \n",
        "                'Track':'track', \n",
        "                '  City  ':'city', \n",
        "                'Day':'day'})"
      ]
    },
    {
      "cell_type": "code",
      "execution_count": 7,
      "metadata": {
        "deletable": false,
        "id": "d4NOAmTW_Zct",
        "colab": {
          "base_uri": "https://localhost:8080/"
        },
        "outputId": "c93a9fb4-f67a-4c9a-ed80-b1ce8900211e"
      },
      "outputs": [
        {
          "output_type": "execute_result",
          "data": {
            "text/plain": [
              "Index(['user_id', 'track', 'artist', 'genre', 'city', 'time', 'day'], dtype='object')"
            ]
          },
          "metadata": {},
          "execution_count": 7
        }
      ],
      "source": [
        "df.columns"
      ]
    },
    {
      "cell_type": "markdown",
      "metadata": {
        "deletable": false,
        "editable": false,
        "id": "5ISfbcfY_Zct",
        "tags": [
          "start_task"
        ]
      },
      "source": [
        "### Пропуски значений\n",
        "\n",
        "Посмотрим, сколько в таблице пропущенных значений."
      ]
    },
    {
      "cell_type": "code",
      "execution_count": 8,
      "metadata": {
        "deletable": false,
        "id": "RskX29qr_Zct",
        "colab": {
          "base_uri": "https://localhost:8080/"
        },
        "outputId": "6012a7f4-b4ba-4409-8fc3-72f32a714180"
      },
      "outputs": [
        {
          "output_type": "execute_result",
          "data": {
            "text/plain": [
              "user_id       0\n",
              "track      1231\n",
              "artist     7203\n",
              "genre      1198\n",
              "city          0\n",
              "time          0\n",
              "day           0\n",
              "dtype: int64"
            ]
          },
          "metadata": {},
          "execution_count": 8
        }
      ],
      "source": [
        "df.isna().sum()"
      ]
    },
    {
      "cell_type": "markdown",
      "metadata": {
        "deletable": false,
        "editable": false,
        "id": "qubhgnlO_Zct"
      },
      "source": [
        "Не все пропущенные значения влияют на исследование. Так в `track` и `artist` пропуски не важны для вашей работы. Достаточно заменить их явными обозначениями.\n",
        "\n",
        "Но пропуски в `genre` могут помешать сравнению музыкальных вкусов в Москве и Санкт-Петербурге. На практике было бы правильно установить причину пропусков и восстановить данные. Такой возможности нет в учебном проекте. Придётся:\n",
        "* заполнить и эти пропуски явными обозначениями;\n",
        "* оценить, насколько они повредят расчётам. "
      ]
    },
    {
      "cell_type": "markdown",
      "metadata": {
        "deletable": false,
        "editable": false,
        "id": "fSv2laPA_Zct",
        "tags": [
          "start_task"
        ]
      },
      "source": [
        "Заменим пропущенные значения в столбцах `track`, `artist` и `genre` на строку `'unknown'`. "
      ]
    },
    {
      "cell_type": "code",
      "execution_count": 9,
      "metadata": {
        "deletable": false,
        "id": "KplB5qWs_Zct"
      },
      "outputs": [],
      "source": [
        "columns_to_replace = ['track', 'artist', 'genre']\n",
        "for column in columns_to_replace:\n",
        "    df[column] = df[column].fillna('unknown')"
      ]
    },
    {
      "cell_type": "markdown",
      "metadata": {
        "deletable": false,
        "editable": false,
        "id": "Ilsm-MZo_Zct",
        "tags": [
          "start_task"
        ]
      },
      "source": [
        "Убедимся, что в таблице не осталось пропусков. "
      ]
    },
    {
      "cell_type": "code",
      "execution_count": 10,
      "metadata": {
        "deletable": false,
        "id": "Tq4nYRX4_Zct",
        "colab": {
          "base_uri": "https://localhost:8080/"
        },
        "outputId": "e0adf7f1-3d76-41cc-c73f-81f0f2f92d67"
      },
      "outputs": [
        {
          "output_type": "execute_result",
          "data": {
            "text/plain": [
              "user_id    0\n",
              "track      0\n",
              "artist     0\n",
              "genre      0\n",
              "city       0\n",
              "time       0\n",
              "day        0\n",
              "dtype: int64"
            ]
          },
          "metadata": {},
          "execution_count": 10
        }
      ],
      "source": [
        "df.isna().sum()"
      ]
    },
    {
      "cell_type": "markdown",
      "metadata": {
        "deletable": false,
        "editable": false,
        "id": "BWKRtBJ3_Zct",
        "tags": [
          "start_task"
        ]
      },
      "source": [
        "### Дубликаты\n",
        "\n",
        "Посчитаем явные дубликаты в таблице."
      ]
    },
    {
      "cell_type": "code",
      "execution_count": 11,
      "metadata": {
        "deletable": false,
        "id": "36eES_S0_Zct",
        "colab": {
          "base_uri": "https://localhost:8080/"
        },
        "outputId": "67bd902e-ba3b-4f0f-bfa7-4132a81a09da"
      },
      "outputs": [
        {
          "output_type": "execute_result",
          "data": {
            "text/plain": [
              "3826"
            ]
          },
          "metadata": {},
          "execution_count": 11
        }
      ],
      "source": [
        "df.duplicated().sum()"
      ]
    },
    {
      "cell_type": "code",
      "execution_count": 12,
      "metadata": {
        "deletable": false,
        "id": "exFHq6tt_Zct"
      },
      "outputs": [],
      "source": [
        "# удаление явных дубликатов\n",
        "df = df.drop_duplicates()"
      ]
    },
    {
      "cell_type": "code",
      "execution_count": 13,
      "metadata": {
        "deletable": false,
        "id": "-8PuNWQ0_Zct",
        "colab": {
          "base_uri": "https://localhost:8080/"
        },
        "outputId": "cdfb64bb-9e18-43c5-d0cb-453f88ca49f1"
      },
      "outputs": [
        {
          "output_type": "execute_result",
          "data": {
            "text/plain": [
              "0"
            ]
          },
          "metadata": {},
          "execution_count": 13
        }
      ],
      "source": [
        "# проверка на отсутствие дубликатов\n",
        "df.duplicated().sum() "
      ]
    },
    {
      "cell_type": "markdown",
      "metadata": {
        "deletable": false,
        "editable": false,
        "id": "QlFBsxAr_Zct"
      },
      "source": [
        "Теперь избавимся от неявных дубликатов в колонке `genre`. Например, название одного и того же жанра может быть записано немного по-разному. Такие ошибки тоже повлияют на результат исследования."
      ]
    },
    {
      "cell_type": "code",
      "execution_count": 14,
      "metadata": {
        "deletable": false,
        "id": "JIUcqzZN_Zct",
        "colab": {
          "base_uri": "https://localhost:8080/"
        },
        "outputId": "be04cb0c-2f74-4899-a8b3-527f8f51558f"
      },
      "outputs": [
        {
          "output_type": "execute_result",
          "data": {
            "text/plain": [
              "array(['acid', 'acoustic', 'action', 'adult', 'africa', 'afrikaans',\n",
              "       'alternative', 'alternativepunk', 'ambient', 'americana',\n",
              "       'animated', 'anime', 'arabesk', 'arabic', 'arena',\n",
              "       'argentinetango', 'art', 'audiobook', 'author', 'avantgarde',\n",
              "       'axé', 'baile', 'balkan', 'beats', 'bigroom', 'black', 'bluegrass',\n",
              "       'blues', 'bollywood', 'bossa', 'brazilian', 'breakbeat', 'breaks',\n",
              "       'broadway', 'cantautori', 'cantopop', 'canzone', 'caribbean',\n",
              "       'caucasian', 'celtic', 'chamber', 'chanson', 'children', 'chill',\n",
              "       'chinese', 'choral', 'christian', 'christmas', 'classical',\n",
              "       'classicmetal', 'club', 'colombian', 'comedy', 'conjazz',\n",
              "       'contemporary', 'country', 'cuban', 'dance', 'dancehall',\n",
              "       'dancepop', 'dark', 'death', 'deep', 'deutschrock', 'deutschspr',\n",
              "       'dirty', 'disco', 'dnb', 'documentary', 'downbeat', 'downtempo',\n",
              "       'drum', 'dub', 'dubstep', 'eastern', 'easy', 'electronic',\n",
              "       'electropop', 'emo', 'entehno', 'epicmetal', 'estrada', 'ethnic',\n",
              "       'eurofolk', 'european', 'experimental', 'extrememetal', 'fado',\n",
              "       'fairytail', 'film', 'fitness', 'flamenco', 'folk', 'folklore',\n",
              "       'folkmetal', 'folkrock', 'folktronica', 'forró', 'frankreich',\n",
              "       'französisch', 'french', 'funk', 'future', 'gangsta', 'garage',\n",
              "       'german', 'ghazal', 'gitarre', 'glitch', 'gospel', 'gothic',\n",
              "       'grime', 'grunge', 'gypsy', 'handsup', \"hard'n'heavy\", 'hardcore',\n",
              "       'hardstyle', 'hardtechno', 'hip', 'hip-hop', 'hiphop',\n",
              "       'historisch', 'holiday', 'hop', 'horror', 'house', 'hymn', 'idm',\n",
              "       'independent', 'indian', 'indie', 'indipop', 'industrial',\n",
              "       'inspirational', 'instrumental', 'international', 'irish', 'jam',\n",
              "       'japanese', 'jazz', 'jewish', 'jpop', 'jungle', 'k-pop',\n",
              "       'karadeniz', 'karaoke', 'kayokyoku', 'korean', 'laiko', 'latin',\n",
              "       'latino', 'leftfield', 'local', 'lounge', 'loungeelectronic',\n",
              "       'lovers', 'malaysian', 'mandopop', 'marschmusik', 'meditative',\n",
              "       'mediterranean', 'melodic', 'metal', 'metalcore', 'mexican',\n",
              "       'middle', 'minimal', 'miscellaneous', 'modern', 'mood', 'mpb',\n",
              "       'muslim', 'native', 'neoklassik', 'neue', 'new', 'newage',\n",
              "       'newwave', 'nu', 'nujazz', 'numetal', 'oceania', 'old', 'opera',\n",
              "       'orchestral', 'other', 'piano', 'podcasts', 'pop', 'popdance',\n",
              "       'popelectronic', 'popeurodance', 'poprussian', 'post',\n",
              "       'posthardcore', 'postrock', 'power', 'progmetal', 'progressive',\n",
              "       'psychedelic', 'punjabi', 'punk', 'quebecois', 'ragga', 'ram',\n",
              "       'rancheras', 'rap', 'rave', 'reggae', 'reggaeton', 'regional',\n",
              "       'relax', 'religious', 'retro', 'rhythm', 'rnb', 'rnr', 'rock',\n",
              "       'rockabilly', 'rockalternative', 'rockindie', 'rockother',\n",
              "       'romance', 'roots', 'ruspop', 'rusrap', 'rusrock', 'russian',\n",
              "       'salsa', 'samba', 'scenic', 'schlager', 'self', 'sertanejo',\n",
              "       'shanson', 'shoegazing', 'showtunes', 'singer', 'ska', 'skarock',\n",
              "       'slow', 'smooth', 'soft', 'soul', 'soulful', 'sound', 'soundtrack',\n",
              "       'southern', 'specialty', 'speech', 'spiritual', 'sport',\n",
              "       'stonerrock', 'surf', 'swing', 'synthpop', 'synthrock',\n",
              "       'sängerportrait', 'tango', 'tanzorchester', 'taraftar', 'tatar',\n",
              "       'tech', 'techno', 'teen', 'thrash', 'top', 'traditional',\n",
              "       'tradjazz', 'trance', 'tribal', 'trip', 'triphop', 'tropical',\n",
              "       'türk', 'türkçe', 'ukrrock', 'unknown', 'urban', 'uzbek',\n",
              "       'variété', 'vi', 'videogame', 'vocal', 'western', 'world',\n",
              "       'worldbeat', 'ïîï', 'электроника'], dtype=object)"
            ]
          },
          "metadata": {},
          "execution_count": 14
        }
      ],
      "source": [
        "# просмотр уникальных названий жанров\n",
        "df['genre'].sort_values().unique()"
      ]
    },
    {
      "cell_type": "markdown",
      "metadata": {
        "deletable": false,
        "editable": false,
        "id": "qej-Qmuo_Zct",
        "tags": [
          "start_task"
        ]
      },
      "source": [
        "Мы видим неявные дубликаты названия `hiphop`. Это названия с ошибками или альтернативные названия того же жанра. Очистим от них нашу таблицу."
      ]
    },
    {
      "cell_type": "code",
      "execution_count": 15,
      "metadata": {
        "deletable": false,
        "id": "ErNDkmns_Zct",
        "colab": {
          "base_uri": "https://localhost:8080/"
        },
        "outputId": "e57c1c5f-7bdc-4744-9623-740165f193c4"
      },
      "outputs": [
        {
          "output_type": "stream",
          "name": "stderr",
          "text": [
            "<ipython-input-15-fdedd49e518f>:2: SettingWithCopyWarning: \n",
            "A value is trying to be set on a copy of a slice from a DataFrame.\n",
            "Try using .loc[row_indexer,col_indexer] = value instead\n",
            "\n",
            "See the caveats in the documentation: https://pandas.pydata.org/pandas-docs/stable/user_guide/indexing.html#returning-a-view-versus-a-copy\n",
            "  df['genre'] = df['genre'].replace(hiphop_duplicates, 'hiphop')\n"
          ]
        }
      ],
      "source": [
        "hiphop_duplicates = ['hip', 'hop', 'hip-hop']\n",
        "df['genre'] = df['genre'].replace(hiphop_duplicates, 'hiphop')"
      ]
    },
    {
      "cell_type": "code",
      "execution_count": 16,
      "metadata": {
        "deletable": false,
        "id": "wvixALnFG15m",
        "colab": {
          "base_uri": "https://localhost:8080/"
        },
        "outputId": "a804dd32-870f-4b5b-a977-600813de1e9e"
      },
      "outputs": [
        {
          "output_type": "execute_result",
          "data": {
            "text/plain": [
              "array(['acid', 'acoustic', 'action', 'adult', 'africa', 'afrikaans',\n",
              "       'alternative', 'alternativepunk', 'ambient', 'americana',\n",
              "       'animated', 'anime', 'arabesk', 'arabic', 'arena',\n",
              "       'argentinetango', 'art', 'audiobook', 'author', 'avantgarde',\n",
              "       'axé', 'baile', 'balkan', 'beats', 'bigroom', 'black', 'bluegrass',\n",
              "       'blues', 'bollywood', 'bossa', 'brazilian', 'breakbeat', 'breaks',\n",
              "       'broadway', 'cantautori', 'cantopop', 'canzone', 'caribbean',\n",
              "       'caucasian', 'celtic', 'chamber', 'chanson', 'children', 'chill',\n",
              "       'chinese', 'choral', 'christian', 'christmas', 'classical',\n",
              "       'classicmetal', 'club', 'colombian', 'comedy', 'conjazz',\n",
              "       'contemporary', 'country', 'cuban', 'dance', 'dancehall',\n",
              "       'dancepop', 'dark', 'death', 'deep', 'deutschrock', 'deutschspr',\n",
              "       'dirty', 'disco', 'dnb', 'documentary', 'downbeat', 'downtempo',\n",
              "       'drum', 'dub', 'dubstep', 'eastern', 'easy', 'electronic',\n",
              "       'electropop', 'emo', 'entehno', 'epicmetal', 'estrada', 'ethnic',\n",
              "       'eurofolk', 'european', 'experimental', 'extrememetal', 'fado',\n",
              "       'fairytail', 'film', 'fitness', 'flamenco', 'folk', 'folklore',\n",
              "       'folkmetal', 'folkrock', 'folktronica', 'forró', 'frankreich',\n",
              "       'französisch', 'french', 'funk', 'future', 'gangsta', 'garage',\n",
              "       'german', 'ghazal', 'gitarre', 'glitch', 'gospel', 'gothic',\n",
              "       'grime', 'grunge', 'gypsy', 'handsup', \"hard'n'heavy\", 'hardcore',\n",
              "       'hardstyle', 'hardtechno', 'hiphop', 'historisch', 'holiday',\n",
              "       'horror', 'house', 'hymn', 'idm', 'independent', 'indian', 'indie',\n",
              "       'indipop', 'industrial', 'inspirational', 'instrumental',\n",
              "       'international', 'irish', 'jam', 'japanese', 'jazz', 'jewish',\n",
              "       'jpop', 'jungle', 'k-pop', 'karadeniz', 'karaoke', 'kayokyoku',\n",
              "       'korean', 'laiko', 'latin', 'latino', 'leftfield', 'local',\n",
              "       'lounge', 'loungeelectronic', 'lovers', 'malaysian', 'mandopop',\n",
              "       'marschmusik', 'meditative', 'mediterranean', 'melodic', 'metal',\n",
              "       'metalcore', 'mexican', 'middle', 'minimal', 'miscellaneous',\n",
              "       'modern', 'mood', 'mpb', 'muslim', 'native', 'neoklassik', 'neue',\n",
              "       'new', 'newage', 'newwave', 'nu', 'nujazz', 'numetal', 'oceania',\n",
              "       'old', 'opera', 'orchestral', 'other', 'piano', 'podcasts', 'pop',\n",
              "       'popdance', 'popelectronic', 'popeurodance', 'poprussian', 'post',\n",
              "       'posthardcore', 'postrock', 'power', 'progmetal', 'progressive',\n",
              "       'psychedelic', 'punjabi', 'punk', 'quebecois', 'ragga', 'ram',\n",
              "       'rancheras', 'rap', 'rave', 'reggae', 'reggaeton', 'regional',\n",
              "       'relax', 'religious', 'retro', 'rhythm', 'rnb', 'rnr', 'rock',\n",
              "       'rockabilly', 'rockalternative', 'rockindie', 'rockother',\n",
              "       'romance', 'roots', 'ruspop', 'rusrap', 'rusrock', 'russian',\n",
              "       'salsa', 'samba', 'scenic', 'schlager', 'self', 'sertanejo',\n",
              "       'shanson', 'shoegazing', 'showtunes', 'singer', 'ska', 'skarock',\n",
              "       'slow', 'smooth', 'soft', 'soul', 'soulful', 'sound', 'soundtrack',\n",
              "       'southern', 'specialty', 'speech', 'spiritual', 'sport',\n",
              "       'stonerrock', 'surf', 'swing', 'synthpop', 'synthrock',\n",
              "       'sängerportrait', 'tango', 'tanzorchester', 'taraftar', 'tatar',\n",
              "       'tech', 'techno', 'teen', 'thrash', 'top', 'traditional',\n",
              "       'tradjazz', 'trance', 'tribal', 'trip', 'triphop', 'tropical',\n",
              "       'türk', 'türkçe', 'ukrrock', 'unknown', 'urban', 'uzbek',\n",
              "       'variété', 'vi', 'videogame', 'vocal', 'western', 'world',\n",
              "       'worldbeat', 'ïîï', 'электроника'], dtype=object)"
            ]
          },
          "metadata": {},
          "execution_count": 16
        }
      ],
      "source": [
        "df['genre'].sort_values().unique()"
      ]
    },
    {
      "cell_type": "markdown",
      "metadata": {
        "deletable": false,
        "editable": false,
        "id": "jz6a9-7HQUDd"
      },
      "source": [
        "**Выводы**\n",
        "\n",
        "Предобработка обнаружила три проблемы в данных:\n",
        "\n",
        "- нарушения в стиле заголовков,\n",
        "- пропущенные значения,\n",
        "- дубликаты — явные и неявные.\n",
        "\n",
        "Мы исправили заголовки, чтобы упростить работу с таблицей. Без дубликатов исследование станет более точным.\n",
        "\n",
        "Пропущенные значения заменили на `'unknown'`. Ещё предстоит увидеть, не повредят ли исследованию пропуски в колонке `genre`.\n",
        "\n",
        "Теперь можно перейти к проверке гипотез. "
      ]
    },
    {
      "cell_type": "markdown",
      "metadata": {
        "deletable": false,
        "editable": false,
        "id": "WttZHXH0SqKk"
      },
      "source": [
        "## Проверка гипотез"
      ]
    },
    {
      "cell_type": "markdown",
      "metadata": {
        "deletable": false,
        "editable": false,
        "id": "Im936VVi_Zcu"
      },
      "source": [
        "### Сравнение поведения пользователей двух столиц"
      ]
    },
    {
      "cell_type": "markdown",
      "metadata": {
        "deletable": false,
        "editable": false,
        "id": "nwt_MuaL_Zcu"
      },
      "source": [
        "Первая гипотеза утверждает, что пользователи по-разному слушают музыку в Москве и Санкт-Петербурге. Проверим это предположение по данным о трёх днях недели — понедельнике, среде и пятнице. Для этого:\n",
        "\n",
        "* Разделим пользователей Москвы и Санкт-Петербурга.\n",
        "* Сравним, сколько треков послушала каждая группа пользователей в понедельник, среду и пятницу.\n"
      ]
    },
    {
      "cell_type": "code",
      "execution_count": 17,
      "metadata": {
        "deletable": false,
        "id": "0_Qs96oh_Zcu",
        "colab": {
          "base_uri": "https://localhost:8080/"
        },
        "outputId": "b8499efb-e814-46e0-dbf0-5c7c09afc851"
      },
      "outputs": [
        {
          "output_type": "execute_result",
          "data": {
            "text/plain": [
              "city\n",
              "Moscow              42741\n",
              "Saint-Petersburg    18512\n",
              "Name: track, dtype: int64"
            ]
          },
          "metadata": {},
          "execution_count": 17
        }
      ],
      "source": [
        "# подсчёт прослушиваний в каждом городе\n",
        "df.groupby('city') ['track'].count()"
      ]
    },
    {
      "cell_type": "markdown",
      "metadata": {
        "deletable": false,
        "editable": false,
        "id": "dzli3w8o_Zcu",
        "tags": [
          "start_task"
        ]
      },
      "source": [
        "В Москве прослушиваний больше, чем в Петербурге. Из этого не следует, что московские пользователи чаще слушают музыку. Просто самих пользователей в Москве больше.\n",
        "\n",
        "Сгруппируем данные по дню недели и посчитаем прослушивания в понедельник, среду и пятницу. \n"
      ]
    },
    {
      "cell_type": "code",
      "execution_count": 18,
      "metadata": {
        "deletable": false,
        "id": "uZMKjiJz_Zcu",
        "colab": {
          "base_uri": "https://localhost:8080/"
        },
        "outputId": "4dd22833-34f4-43df-fa43-cfb324635a95"
      },
      "outputs": [
        {
          "output_type": "execute_result",
          "data": {
            "text/plain": [
              "day\n",
              "Friday       21840\n",
              "Monday       21354\n",
              "Wednesday    18059\n",
              "Name: city, dtype: int64"
            ]
          },
          "metadata": {},
          "execution_count": 18
        }
      ],
      "source": [
        "# подсчёт прослушиваний в каждый из трёх дней\n",
        "df.groupby('day') ['city'].count() \n"
      ]
    },
    {
      "cell_type": "markdown",
      "metadata": {
        "deletable": false,
        "editable": false,
        "id": "cC2tNrlL_Zcu"
      },
      "source": [
        "В среднем пользователи из двух городов менее активны по средам. Но картина может измениться, если рассмотреть каждый город в отдельности."
      ]
    },
    {
      "cell_type": "markdown",
      "metadata": {
        "deletable": false,
        "editable": false,
        "id": "POzs8bGa_Zcu",
        "tags": [
          "start_task"
        ]
      },
      "source": [
        "Посчитаем прослушивания для заданного дня и города. \n",
        "\n"
      ]
    },
    {
      "cell_type": "code",
      "execution_count": 19,
      "metadata": {
        "deletable": false,
        "id": "Nz3GdQB1_Zcu"
      },
      "outputs": [],
      "source": [
        "# создание функции number_tracks\n",
        "def number_tracks (day, city):\n",
        "    '''\n",
        "    Функция с двумя параметрами: day, city.\n",
        "    В переменной track_list сохраняются те строки таблицы df, для которых \n",
        "    значение в столбце 'day' равно параметру day и одновременно значение\n",
        "    в столбце 'city' равно параметру city.\n",
        "    Функция возвращает число — значение track_list_count —\n",
        "    количество значений в колонке user_id.\n",
        "    '''\n",
        "\n",
        "    track_list = df[df['day'] == day] \n",
        "    track_list = track_list[track_list['city'] == city]\n",
        "    track_list_count = track_list['user_id'].count()\n",
        "    return track_list_count\n",
        "    \n",
        "\n"
      ]
    },
    {
      "cell_type": "markdown",
      "metadata": {
        "deletable": false,
        "editable": false,
        "id": "ytf7xFrFJQ2r",
        "tags": [
          "start_task"
        ]
      },
      "source": [
        "Получим данные для каждого города в каждый из трёх дней."
      ]
    },
    {
      "cell_type": "code",
      "execution_count": 20,
      "metadata": {
        "deletable": false,
        "id": "rJcRATNQ_Zcu"
      },
      "outputs": [],
      "source": [
        "# количество прослушиваний в Москве по понедельникам\n",
        "monday_msk = number_tracks('Monday', 'Moscow')"
      ]
    },
    {
      "cell_type": "code",
      "execution_count": 21,
      "metadata": {
        "deletable": false,
        "id": "hq_ncZ5T_Zcu"
      },
      "outputs": [],
      "source": [
        "# количество прослушиваний в Санкт-Петербурге по понедельникам\n",
        "monday_spb = number_tracks('Monday', 'Saint-Petersburg') "
      ]
    },
    {
      "cell_type": "code",
      "execution_count": 22,
      "metadata": {
        "deletable": false,
        "id": "_NTy2VPU_Zcu"
      },
      "outputs": [],
      "source": [
        "# количество прослушиваний в Москве по средам\n",
        "wed_msk = number_tracks('Wednesday', 'Moscow')"
      ]
    },
    {
      "cell_type": "code",
      "execution_count": 23,
      "metadata": {
        "deletable": false,
        "id": "j2y3TAwo_Zcu"
      },
      "outputs": [],
      "source": [
        "# количество прослушиваний в Санкт-Петербурге по средам\n",
        "wed_spb = number_tracks('Wednesday', 'Saint-Petersburg')"
      ]
    },
    {
      "cell_type": "code",
      "execution_count": 24,
      "metadata": {
        "deletable": false,
        "id": "vYDw5u_K_Zcu"
      },
      "outputs": [],
      "source": [
        "# количество прослушиваний в Москве по пятницам\n",
        "friday_msk = number_tracks('Friday', 'Moscow')"
      ]
    },
    {
      "cell_type": "code",
      "execution_count": 25,
      "metadata": {
        "deletable": false,
        "id": "8_yzFtW3_Zcu"
      },
      "outputs": [],
      "source": [
        "# количество прослушиваний в Санкт-Петербурге по пятницам\n",
        "friday_spb = number_tracks('Friday', 'Saint-Petersburg')"
      ]
    },
    {
      "cell_type": "markdown",
      "metadata": {
        "deletable": false,
        "editable": false,
        "id": "7QXffbO-_Zcu",
        "tags": [
          "start_task"
        ]
      },
      "source": [
        "Посмотрим на данные в сводной таблице."
      ]
    },
    {
      "cell_type": "code",
      "execution_count": 26,
      "metadata": {
        "deletable": false,
        "id": "APAcLpOr_Zcu",
        "colab": {
          "base_uri": "https://localhost:8080/",
          "height": 143
        },
        "outputId": "ab7766f5-5790-491e-bb6d-c0cadc953aed"
      },
      "outputs": [
        {
          "output_type": "execute_result",
          "data": {
            "text/plain": [
              "                  monday  wednesday  friday\n",
              "city                                       \n",
              "Moscow             15740      11056   15945\n",
              "Saint-Petersburg    5614       7003    5895"
            ],
            "text/html": [
              "\n",
              "  <div id=\"df-c56c39b8-7909-46ff-a586-73578d8ba4bd\">\n",
              "    <div class=\"colab-df-container\">\n",
              "      <div>\n",
              "<style scoped>\n",
              "    .dataframe tbody tr th:only-of-type {\n",
              "        vertical-align: middle;\n",
              "    }\n",
              "\n",
              "    .dataframe tbody tr th {\n",
              "        vertical-align: top;\n",
              "    }\n",
              "\n",
              "    .dataframe thead th {\n",
              "        text-align: right;\n",
              "    }\n",
              "</style>\n",
              "<table border=\"1\" class=\"dataframe\">\n",
              "  <thead>\n",
              "    <tr style=\"text-align: right;\">\n",
              "      <th></th>\n",
              "      <th>monday</th>\n",
              "      <th>wednesday</th>\n",
              "      <th>friday</th>\n",
              "    </tr>\n",
              "    <tr>\n",
              "      <th>city</th>\n",
              "      <th></th>\n",
              "      <th></th>\n",
              "      <th></th>\n",
              "    </tr>\n",
              "  </thead>\n",
              "  <tbody>\n",
              "    <tr>\n",
              "      <th>Moscow</th>\n",
              "      <td>15740</td>\n",
              "      <td>11056</td>\n",
              "      <td>15945</td>\n",
              "    </tr>\n",
              "    <tr>\n",
              "      <th>Saint-Petersburg</th>\n",
              "      <td>5614</td>\n",
              "      <td>7003</td>\n",
              "      <td>5895</td>\n",
              "    </tr>\n",
              "  </tbody>\n",
              "</table>\n",
              "</div>\n",
              "      <button class=\"colab-df-convert\" onclick=\"convertToInteractive('df-c56c39b8-7909-46ff-a586-73578d8ba4bd')\"\n",
              "              title=\"Convert this dataframe to an interactive table.\"\n",
              "              style=\"display:none;\">\n",
              "        \n",
              "  <svg xmlns=\"http://www.w3.org/2000/svg\" height=\"24px\"viewBox=\"0 0 24 24\"\n",
              "       width=\"24px\">\n",
              "    <path d=\"M0 0h24v24H0V0z\" fill=\"none\"/>\n",
              "    <path d=\"M18.56 5.44l.94 2.06.94-2.06 2.06-.94-2.06-.94-.94-2.06-.94 2.06-2.06.94zm-11 1L8.5 8.5l.94-2.06 2.06-.94-2.06-.94L8.5 2.5l-.94 2.06-2.06.94zm10 10l.94 2.06.94-2.06 2.06-.94-2.06-.94-.94-2.06-.94 2.06-2.06.94z\"/><path d=\"M17.41 7.96l-1.37-1.37c-.4-.4-.92-.59-1.43-.59-.52 0-1.04.2-1.43.59L10.3 9.45l-7.72 7.72c-.78.78-.78 2.05 0 2.83L4 21.41c.39.39.9.59 1.41.59.51 0 1.02-.2 1.41-.59l7.78-7.78 2.81-2.81c.8-.78.8-2.07 0-2.86zM5.41 20L4 18.59l7.72-7.72 1.47 1.35L5.41 20z\"/>\n",
              "  </svg>\n",
              "      </button>\n",
              "      \n",
              "  <style>\n",
              "    .colab-df-container {\n",
              "      display:flex;\n",
              "      flex-wrap:wrap;\n",
              "      gap: 12px;\n",
              "    }\n",
              "\n",
              "    .colab-df-convert {\n",
              "      background-color: #E8F0FE;\n",
              "      border: none;\n",
              "      border-radius: 50%;\n",
              "      cursor: pointer;\n",
              "      display: none;\n",
              "      fill: #1967D2;\n",
              "      height: 32px;\n",
              "      padding: 0 0 0 0;\n",
              "      width: 32px;\n",
              "    }\n",
              "\n",
              "    .colab-df-convert:hover {\n",
              "      background-color: #E2EBFA;\n",
              "      box-shadow: 0px 1px 2px rgba(60, 64, 67, 0.3), 0px 1px 3px 1px rgba(60, 64, 67, 0.15);\n",
              "      fill: #174EA6;\n",
              "    }\n",
              "\n",
              "    [theme=dark] .colab-df-convert {\n",
              "      background-color: #3B4455;\n",
              "      fill: #D2E3FC;\n",
              "    }\n",
              "\n",
              "    [theme=dark] .colab-df-convert:hover {\n",
              "      background-color: #434B5C;\n",
              "      box-shadow: 0px 1px 3px 1px rgba(0, 0, 0, 0.15);\n",
              "      filter: drop-shadow(0px 1px 2px rgba(0, 0, 0, 0.3));\n",
              "      fill: #FFFFFF;\n",
              "    }\n",
              "  </style>\n",
              "\n",
              "      <script>\n",
              "        const buttonEl =\n",
              "          document.querySelector('#df-c56c39b8-7909-46ff-a586-73578d8ba4bd button.colab-df-convert');\n",
              "        buttonEl.style.display =\n",
              "          google.colab.kernel.accessAllowed ? 'block' : 'none';\n",
              "\n",
              "        async function convertToInteractive(key) {\n",
              "          const element = document.querySelector('#df-c56c39b8-7909-46ff-a586-73578d8ba4bd');\n",
              "          const dataTable =\n",
              "            await google.colab.kernel.invokeFunction('convertToInteractive',\n",
              "                                                     [key], {});\n",
              "          if (!dataTable) return;\n",
              "\n",
              "          const docLinkHtml = 'Like what you see? Visit the ' +\n",
              "            '<a target=\"_blank\" href=https://colab.research.google.com/notebooks/data_table.ipynb>data table notebook</a>'\n",
              "            + ' to learn more about interactive tables.';\n",
              "          element.innerHTML = '';\n",
              "          dataTable['output_type'] = 'display_data';\n",
              "          await google.colab.output.renderOutput(dataTable, element);\n",
              "          const docLink = document.createElement('div');\n",
              "          docLink.innerHTML = docLinkHtml;\n",
              "          element.appendChild(docLink);\n",
              "        }\n",
              "      </script>\n",
              "    </div>\n",
              "  </div>\n",
              "  "
            ]
          },
          "metadata": {},
          "execution_count": 26
        }
      ],
      "source": [
        "columns = ['city', 'monday', 'wednesday', 'friday'] \n",
        "data = [\n",
        "    ['Moscow', monday_msk, wed_msk, friday_msk],\n",
        "    ['Saint-Petersburg', monday_spb, wed_spb, friday_spb]\n",
        "]\n",
        "results = pd.DataFrame (data = data, columns = columns)\n",
        "results.set_index('city')"
      ]
    },
    {
      "cell_type": "markdown",
      "metadata": {
        "deletable": false,
        "editable": false,
        "id": "-EgPIHYu_Zcu"
      },
      "source": [
        "**Выводы**\n",
        "\n",
        "Данные показывают разницу поведения пользователей:\n",
        "\n",
        "- В Москве пик прослушиваний приходится на понедельник и пятницу, а в среду заметен спад.\n",
        "- В Петербурге, наоборот, больше слушают музыку по средам. Активность в понедельник и пятницу здесь почти в равной мере уступает среде.\n",
        "\n",
        "Значит, данные говорят в пользу первой гипотезы."
      ]
    },
    {
      "cell_type": "markdown",
      "metadata": {
        "deletable": false,
        "editable": false,
        "id": "atZAxtq4_Zcu"
      },
      "source": [
        "### Музыка в начале и в конце недели"
      ]
    },
    {
      "cell_type": "markdown",
      "metadata": {
        "deletable": false,
        "editable": false,
        "id": "eXrQqXFH_Zcu"
      },
      "source": [
        "Согласно второй гипотезе, утром в понедельник в Москве преобладают одни жанры, а в Петербурге — другие. Так же и вечером пятницы преобладают разные жанры — в зависимости от города."
      ]
    },
    {
      "cell_type": "markdown",
      "metadata": {
        "deletable": false,
        "editable": false,
        "id": "S8UcW6Hw_Zcu",
        "tags": [
          "start_task"
        ]
      },
      "source": [
        "Сохраним таблицы с данными в две переменные: \n",
        "* по Москве — в `moscow_general`;\n",
        "* по Санкт-Петербургу — в `spb_general`."
      ]
    },
    {
      "cell_type": "code",
      "execution_count": 27,
      "metadata": {
        "deletable": false,
        "id": "qeaFfM_P_Zcu"
      },
      "outputs": [],
      "source": [
        "moscow_general = df[df['city'] == 'Moscow']\n"
      ]
    },
    {
      "cell_type": "code",
      "execution_count": 28,
      "metadata": {
        "deletable": false,
        "id": "ORaVRKto_Zcu"
      },
      "outputs": [],
      "source": [
        "spb_general = df[df['city'] == 'Saint-Petersburg']\n"
      ]
    },
    {
      "cell_type": "markdown",
      "metadata": {
        "deletable": false,
        "editable": false,
        "id": "MEJV-CX2_Zcu",
        "tags": [
          "start_task"
        ]
      },
      "source": [
        "\n",
        "Посмотрим на топ-10 жанров тех треков, которые прослушивали в указанный день, в промежутке между двумя отметками времени."
      ]
    },
    {
      "cell_type": "code",
      "execution_count": 29,
      "metadata": {
        "deletable": false,
        "id": "laJT9BYl_Zcu"
      },
      "outputs": [],
      "source": [
        "def genre_weekday(df, day, time1, time2):\n",
        "    '''\n",
        "    Функция с параметрами table, day, time1, time2,\n",
        "    которая возвращает информацию о самых популярных жанрах в указанный день в\n",
        "    заданное время:\n",
        "    1) в переменную genre_df сохраняются те строки переданного датафрейма table, для\n",
        "    которых одновременно:\n",
        "    - значение в столбце day равно значению аргумента day\n",
        "    - значение в столбце time больше значения аргумента time1\n",
        "    - значение в столбце time меньше значения аргумента time2\n",
        "    2) датафрейм genre_df группирвется по столбцу genre, \n",
        "    подсчитывается количество записей для каждого жанра (genre_df_count)\n",
        "    3) genre_df_count сортируется по убыванию встречаемости (genre_df_sorted)\n",
        "    4) функция возвращает Series из 10 первых значений genre_df_sorted, \n",
        "    это будут топ-10 популярных жанров (в указанный день, в заданное время)\n",
        "    '''\n",
        "    genre_df = df[df['day'] == day]\n",
        "    genre_df = genre_df[genre_df['time'] < time2]\n",
        "    genre_df = genre_df[genre_df['time'] > time1]\n",
        "    genre_df_grouped = genre_df.groupby('genre') ['genre'].count()\n",
        "    genre_df_sorted = genre_df_grouped.sort_values(ascending=False)\n",
        "    return genre_df_sorted[:10]\n"
      ]
    },
    {
      "cell_type": "markdown",
      "metadata": {
        "deletable": false,
        "editable": false,
        "id": "la2s2_PF_Zcu",
        "tags": [
          "start_task"
        ]
      },
      "source": [
        "Сравним результаты функции `genre_weekday()` для Москвы и Санкт-Петербурга в понедельник утром (с 7:00 до 11:00) и в пятницу вечером (с 17:00 до 23:00):"
      ]
    },
    {
      "cell_type": "code",
      "execution_count": 30,
      "metadata": {
        "deletable": false,
        "id": "yz7itPUQ_Zcu",
        "colab": {
          "base_uri": "https://localhost:8080/"
        },
        "outputId": "2183ce0e-ee54-4908-ffec-ee3d985e46c2"
      },
      "outputs": [
        {
          "output_type": "execute_result",
          "data": {
            "text/plain": [
              "genre\n",
              "pop            781\n",
              "dance          549\n",
              "electronic     480\n",
              "rock           474\n",
              "hiphop         286\n",
              "ruspop         186\n",
              "world          181\n",
              "rusrap         175\n",
              "alternative    164\n",
              "unknown        161\n",
              "Name: genre, dtype: int64"
            ]
          },
          "metadata": {},
          "execution_count": 30
        }
      ],
      "source": [
        "# утро понедельника в Москве\n",
        "genre_weekday(moscow_general, 'Monday', '07:00', '11:00')"
      ]
    },
    {
      "cell_type": "code",
      "execution_count": 31,
      "metadata": {
        "deletable": false,
        "id": "kwUcHPdy_Zcu",
        "colab": {
          "base_uri": "https://localhost:8080/"
        },
        "outputId": "9de44ebf-7248-4dfc-ff21-2ff47d7a86bc"
      },
      "outputs": [
        {
          "output_type": "execute_result",
          "data": {
            "text/plain": [
              "genre\n",
              "pop            218\n",
              "dance          182\n",
              "rock           162\n",
              "electronic     147\n",
              "hiphop          80\n",
              "ruspop          64\n",
              "alternative     58\n",
              "rusrap          55\n",
              "jazz            44\n",
              "classical       40\n",
              "Name: genre, dtype: int64"
            ]
          },
          "metadata": {},
          "execution_count": 31
        }
      ],
      "source": [
        "# утро понедельника в Санкт-Петербурге\n",
        "genre_weekday(spb_general, 'Monday', '07:00', '11:00') "
      ]
    },
    {
      "cell_type": "code",
      "execution_count": 32,
      "metadata": {
        "deletable": false,
        "id": "EzXVRE1o_Zcu",
        "colab": {
          "base_uri": "https://localhost:8080/"
        },
        "outputId": "4aff1af5-2e60-44d7-e2bd-0ab08b0cca8c"
      },
      "outputs": [
        {
          "output_type": "execute_result",
          "data": {
            "text/plain": [
              "genre\n",
              "pop            713\n",
              "rock           517\n",
              "dance          495\n",
              "electronic     482\n",
              "hiphop         273\n",
              "world          208\n",
              "ruspop         170\n",
              "alternative    163\n",
              "classical      163\n",
              "rusrap         142\n",
              "Name: genre, dtype: int64"
            ]
          },
          "metadata": {},
          "execution_count": 32
        }
      ],
      "source": [
        "# вечер пятницы в Москве\n",
        "genre_weekday(moscow_general, 'Friday', '17:00', '23:00')"
      ]
    },
    {
      "cell_type": "code",
      "execution_count": 33,
      "metadata": {
        "deletable": false,
        "id": "JZaEKu5v_Zcu",
        "colab": {
          "base_uri": "https://localhost:8080/"
        },
        "outputId": "dd7df51a-41ac-47c5-8f3f-f10d04ed32dc"
      },
      "outputs": [
        {
          "output_type": "execute_result",
          "data": {
            "text/plain": [
              "genre\n",
              "pop            256\n",
              "electronic     216\n",
              "rock           216\n",
              "dance          210\n",
              "hiphop          97\n",
              "alternative     63\n",
              "jazz            61\n",
              "classical       60\n",
              "rusrap          59\n",
              "world           54\n",
              "Name: genre, dtype: int64"
            ]
          },
          "metadata": {},
          "execution_count": 33
        }
      ],
      "source": [
        "# вечер пятницы в Санкт-Петербурге\n",
        "genre_weekday(spb_general, 'Friday', '17:00', '23:00')"
      ]
    },
    {
      "cell_type": "markdown",
      "metadata": {
        "deletable": false,
        "editable": false,
        "id": "wrCe4MNX_Zcu"
      },
      "source": [
        "**Выводы**\n",
        "\n",
        "Если сравнить топ-10 жанров в понедельник утром, можно сделать такие выводы:\n",
        "\n",
        "1. В Москве и Петербурге слушают похожую музыку. Единственное отличие — в московский рейтинг вошёл жанр `world`, а в петербургский — джаз и классика.\n",
        "\n",
        "2. В Москве пропущенных значений оказалось так много, что значение `'unknown'` заняло десятое место среди самых популярных жанров. Значит, пропущенные значения занимают существенную долю в данных и угрожают достоверности исследования.\n",
        "\n",
        "Вечер пятницы не меняет эту картину. Некоторые жанры поднимаются немного выше, другие спускаются, но в целом топ-10 остаётся тем же самым.\n",
        "\n",
        "Таким образом, вторая гипотеза подтвердилась лишь частично:\n",
        "* Пользователи слушают похожую музыку в начале недели и в конце.\n",
        "* Разница между Москвой и Петербургом не слишком выражена. В Москве чаще слушают русскую популярную музыку, в Петербурге — джаз.\n",
        "\n",
        "Однако пропуски в данных ставят под сомнение этот результат. В Москве их так много, что рейтинг топ-10 мог бы выглядеть иначе, если бы не утерянные  данные о жанрах."
      ]
    },
    {
      "cell_type": "markdown",
      "metadata": {
        "deletable": false,
        "editable": false,
        "id": "JolODAqr_Zcu"
      },
      "source": [
        "### Жанровые предпочтения в Москве и Петербурге\n",
        "\n",
        "Гипотеза: Петербург — столица рэпа, музыку этого жанра там слушают чаще, чем в Москве.  А Москва — город контрастов, в котором, тем не менее, преобладает поп-музыка."
      ]
    },
    {
      "cell_type": "markdown",
      "metadata": {
        "deletable": false,
        "editable": false,
        "id": "DlegSvaT_Zcu",
        "tags": [
          "start_task"
        ]
      },
      "source": [
        "Сгруппируем таблицу `moscow_general` по жанру и посчитаем прослушивания треков каждого жанра. Отсортируем результат в порядке убывания и сохраним его в таблице `moscow_genres`."
      ]
    },
    {
      "cell_type": "code",
      "execution_count": 34,
      "metadata": {
        "deletable": false,
        "id": "r19lIPke_Zcu"
      },
      "outputs": [],
      "source": [
        "\n",
        "moscow_genres = (moscow_general\n",
        "                 .groupby('genre') \n",
        "                 ['genre'].count()\n",
        "                 .sort_values(ascending=False)\n",
        ")\n"
      ]
    },
    {
      "cell_type": "code",
      "execution_count": 36,
      "metadata": {
        "deletable": false,
        "id": "WhCSooF8_Zcv",
        "colab": {
          "base_uri": "https://localhost:8080/"
        },
        "outputId": "ac2b6aad-f412-40d9-f634-eaa4d60d0d1a"
      },
      "outputs": [
        {
          "output_type": "execute_result",
          "data": {
            "text/plain": [
              "genre\n",
              "pop            5892\n",
              "dance          4435\n",
              "rock           3965\n",
              "electronic     3786\n",
              "hiphop         2096\n",
              "classical      1616\n",
              "world          1432\n",
              "alternative    1379\n",
              "ruspop         1372\n",
              "rusrap         1161\n",
              "Name: genre, dtype: int64"
            ]
          },
          "metadata": {},
          "execution_count": 36
        }
      ],
      "source": [
        "# топ-10 жанров в Москве\n",
        "moscow_genres.head(10)"
      ]
    },
    {
      "cell_type": "markdown",
      "metadata": {
        "deletable": false,
        "editable": false,
        "id": "cnPG2vnN_Zcv",
        "tags": [
          "start_task"
        ]
      },
      "source": [
        "Сгруппируем таблицу `spb_general` по жанру. Посчитаем прослушивания треков каждого жанра. Результат отсортируем в порядке убывания и сохраним в таблице `spb_genres`.\n"
      ]
    },
    {
      "cell_type": "code",
      "execution_count": 37,
      "metadata": {
        "deletable": false,
        "id": "gluLIpE7_Zcv"
      },
      "outputs": [],
      "source": [
        "spb_genres = (spb_general\n",
        "              .groupby('genre') \n",
        "              ['genre'].count()\n",
        "              .sort_values(ascending=False)\n",
        ")"
      ]
    },
    {
      "cell_type": "code",
      "execution_count": 38,
      "metadata": {
        "deletable": false,
        "id": "uaGJHjVU_Zcv",
        "colab": {
          "base_uri": "https://localhost:8080/"
        },
        "outputId": "85c5bea9-eef9-4a42-dd9c-bb35c1b4c41f"
      },
      "outputs": [
        {
          "output_type": "execute_result",
          "data": {
            "text/plain": [
              "genre\n",
              "pop            2431\n",
              "dance          1932\n",
              "rock           1879\n",
              "electronic     1736\n",
              "hiphop          960\n",
              "alternative     649\n",
              "classical       646\n",
              "rusrap          564\n",
              "ruspop          538\n",
              "world           515\n",
              "Name: genre, dtype: int64"
            ]
          },
          "metadata": {},
          "execution_count": 38
        }
      ],
      "source": [
        "# топ-10 жанров в Петербурге\n",
        "spb_genres.head(10)"
      ]
    },
    {
      "cell_type": "markdown",
      "metadata": {
        "deletable": false,
        "editable": false,
        "id": "RY51YJYu_Zcv"
      },
      "source": [
        "**Выводы**"
      ]
    },
    {
      "cell_type": "markdown",
      "metadata": {
        "deletable": false,
        "editable": false,
        "id": "nVhnJEm__Zcv"
      },
      "source": [
        "Гипотеза частично подтвердилась:\n",
        "* Поп-музыка — самый популярный жанр в Москве. Более того, в топ-10 жанров встречается близкий жанр — русская популярная музыка.\n",
        "* Вопреки ожиданиям, рэп одинаково популярен в Москве и Петербурге. \n"
      ]
    },
    {
      "cell_type": "markdown",
      "metadata": {
        "deletable": false,
        "editable": false,
        "id": "ykKQ0N65_Zcv"
      },
      "source": [
        "## Итоги исследования"
      ]
    },
    {
      "cell_type": "markdown",
      "metadata": {
        "deletable": false,
        "editable": false,
        "id": "tjUwbHb3_Zcv"
      },
      "source": [
        "Мы проверили три гипотезы и установили:\n",
        "\n",
        "1. День недели по-разному влияет на активность пользователей в Москве и Петербурге. \n",
        "\n",
        "Первая гипотеза полностью подтвердилась.\n",
        "\n",
        "2. Музыкальные предпочтения не сильно меняются в течение недели — будь то Москва или Петербург. Небольшие различия заметны в начале недели, по понедельникам:\n",
        "* в Москве слушают музыку жанра `world`,\n",
        "* в Петербурге — джаз и классику.\n",
        "\n",
        "Таким образом, вторая гипотеза подтвердилась лишь отчасти. Этот результат мог оказаться иным, если бы не пропуски в данных.\n",
        "\n",
        "3. Во вкусах пользователей Москвы и Петербурга больше общего чем различий. Вопреки ожиданиям, предпочтения жанров в Петербурге напоминают московские.\n",
        "\n",
        "Третья гипотеза не подтвердилась. Если различия в предпочтениях и существуют, на основной массе пользователей они незаметны.\n",
        "\n"
      ]
    }
  ],
  "metadata": {
    "ExecuteTimeLog": [
      {
        "duration": 42,
        "start_time": "2022-09-11T14:52:54.361Z"
      },
      {
        "duration": 5,
        "start_time": "2022-09-11T14:53:12.193Z"
      },
      {
        "duration": 6,
        "start_time": "2022-09-11T14:53:18.174Z"
      },
      {
        "duration": 351,
        "start_time": "2022-09-11T14:53:30.239Z"
      },
      {
        "duration": 433,
        "start_time": "2022-09-11T14:53:34.472Z"
      },
      {
        "duration": 15,
        "start_time": "2022-09-11T14:53:43.546Z"
      },
      {
        "duration": 31,
        "start_time": "2022-09-11T14:53:59.758Z"
      },
      {
        "duration": 5,
        "start_time": "2022-09-11T14:58:16.715Z"
      },
      {
        "duration": 20,
        "start_time": "2022-09-11T14:59:58.065Z"
      },
      {
        "duration": 21,
        "start_time": "2022-09-11T15:00:16.620Z"
      },
      {
        "duration": 19,
        "start_time": "2022-09-11T15:00:23.137Z"
      },
      {
        "duration": 4,
        "start_time": "2022-09-11T15:00:35.761Z"
      },
      {
        "duration": 11,
        "start_time": "2022-09-11T15:00:55.646Z"
      },
      {
        "duration": 4,
        "start_time": "2022-09-11T15:01:03.497Z"
      },
      {
        "duration": 22,
        "start_time": "2022-09-11T15:03:37.560Z"
      },
      {
        "duration": 19,
        "start_time": "2022-09-11T15:03:50.117Z"
      },
      {
        "duration": 19,
        "start_time": "2022-09-11T15:04:09.987Z"
      },
      {
        "duration": 19,
        "start_time": "2022-09-11T15:04:15.038Z"
      },
      {
        "duration": 4,
        "start_time": "2022-09-11T15:04:21.017Z"
      },
      {
        "duration": 19,
        "start_time": "2022-09-11T15:04:45.297Z"
      },
      {
        "duration": 19,
        "start_time": "2022-09-11T15:05:24.507Z"
      },
      {
        "duration": 4,
        "start_time": "2022-09-11T15:05:35.619Z"
      },
      {
        "duration": 21,
        "start_time": "2022-09-11T15:05:48.040Z"
      },
      {
        "duration": 396,
        "start_time": "2022-09-11T15:07:47.310Z"
      },
      {
        "duration": 192,
        "start_time": "2022-09-11T15:07:47.709Z"
      },
      {
        "duration": 9,
        "start_time": "2022-09-11T15:07:47.903Z"
      },
      {
        "duration": 26,
        "start_time": "2022-09-11T15:07:47.914Z"
      },
      {
        "duration": 3,
        "start_time": "2022-09-11T15:07:47.942Z"
      },
      {
        "duration": 10,
        "start_time": "2022-09-11T15:07:47.946Z"
      },
      {
        "duration": 22,
        "start_time": "2022-09-11T15:07:47.957Z"
      },
      {
        "duration": 4,
        "start_time": "2022-09-11T15:07:48.006Z"
      },
      {
        "duration": 5,
        "start_time": "2022-09-11T15:07:48.012Z"
      },
      {
        "duration": 7,
        "start_time": "2022-09-11T15:07:48.020Z"
      },
      {
        "duration": 10,
        "start_time": "2022-09-11T15:07:48.029Z"
      },
      {
        "duration": 13,
        "start_time": "2022-09-11T15:07:48.041Z"
      },
      {
        "duration": 4,
        "start_time": "2022-09-11T15:07:48.056Z"
      },
      {
        "duration": 6,
        "start_time": "2022-09-11T15:07:48.062Z"
      },
      {
        "duration": 8,
        "start_time": "2022-09-11T15:07:48.069Z"
      },
      {
        "duration": 5,
        "start_time": "2022-09-11T15:07:48.078Z"
      },
      {
        "duration": 5,
        "start_time": "2022-09-11T15:07:48.084Z"
      },
      {
        "duration": 4,
        "start_time": "2022-09-11T15:07:48.090Z"
      },
      {
        "duration": 6,
        "start_time": "2022-09-11T15:07:48.095Z"
      },
      {
        "duration": 3,
        "start_time": "2022-09-11T15:07:48.106Z"
      },
      {
        "duration": 9,
        "start_time": "2022-09-11T15:07:48.110Z"
      },
      {
        "duration": 5,
        "start_time": "2022-09-11T15:07:48.120Z"
      },
      {
        "duration": 6,
        "start_time": "2022-09-11T15:07:48.126Z"
      },
      {
        "duration": 4,
        "start_time": "2022-09-11T15:07:48.134Z"
      },
      {
        "duration": 7,
        "start_time": "2022-09-11T15:07:48.139Z"
      },
      {
        "duration": 6,
        "start_time": "2022-09-11T15:07:48.147Z"
      },
      {
        "duration": 5,
        "start_time": "2022-09-11T15:07:48.154Z"
      },
      {
        "duration": 3,
        "start_time": "2022-09-11T15:07:48.162Z"
      },
      {
        "duration": 6,
        "start_time": "2022-09-11T15:07:48.166Z"
      },
      {
        "duration": 71,
        "start_time": "2022-09-11T15:07:48.174Z"
      },
      {
        "duration": 0,
        "start_time": "2022-09-11T15:07:48.246Z"
      },
      {
        "duration": 0,
        "start_time": "2022-09-11T15:07:48.248Z"
      },
      {
        "duration": 0,
        "start_time": "2022-09-11T15:07:48.249Z"
      },
      {
        "duration": 0,
        "start_time": "2022-09-11T15:07:48.250Z"
      },
      {
        "duration": 0,
        "start_time": "2022-09-11T15:07:48.252Z"
      },
      {
        "duration": 0,
        "start_time": "2022-09-11T15:07:48.253Z"
      },
      {
        "duration": 0,
        "start_time": "2022-09-11T15:07:48.254Z"
      },
      {
        "duration": 0,
        "start_time": "2022-09-11T15:07:48.255Z"
      },
      {
        "duration": 20,
        "start_time": "2022-09-11T15:08:37.364Z"
      },
      {
        "duration": 3,
        "start_time": "2022-09-11T15:08:45.953Z"
      },
      {
        "duration": 5,
        "start_time": "2022-09-11T15:15:09.760Z"
      },
      {
        "duration": 339,
        "start_time": "2022-09-11T15:15:22.653Z"
      },
      {
        "duration": 155,
        "start_time": "2022-09-11T15:15:22.994Z"
      },
      {
        "duration": 8,
        "start_time": "2022-09-11T15:15:23.150Z"
      },
      {
        "duration": 29,
        "start_time": "2022-09-11T15:15:23.160Z"
      },
      {
        "duration": 15,
        "start_time": "2022-09-11T15:15:23.191Z"
      },
      {
        "duration": 12,
        "start_time": "2022-09-11T15:15:23.208Z"
      },
      {
        "duration": 14,
        "start_time": "2022-09-11T15:15:23.221Z"
      },
      {
        "duration": 8,
        "start_time": "2022-09-11T15:15:23.236Z"
      },
      {
        "duration": 10,
        "start_time": "2022-09-11T15:15:23.246Z"
      },
      {
        "duration": 4,
        "start_time": "2022-09-11T15:15:23.259Z"
      },
      {
        "duration": 6,
        "start_time": "2022-09-11T15:15:23.264Z"
      },
      {
        "duration": 5,
        "start_time": "2022-09-11T15:15:23.272Z"
      },
      {
        "duration": 6,
        "start_time": "2022-09-11T15:15:23.278Z"
      },
      {
        "duration": 5,
        "start_time": "2022-09-11T15:15:23.285Z"
      },
      {
        "duration": 10,
        "start_time": "2022-09-11T15:15:23.291Z"
      },
      {
        "duration": 27,
        "start_time": "2022-09-11T15:15:23.302Z"
      },
      {
        "duration": 4,
        "start_time": "2022-09-11T15:15:23.331Z"
      },
      {
        "duration": 5,
        "start_time": "2022-09-11T15:15:23.336Z"
      },
      {
        "duration": 5,
        "start_time": "2022-09-11T15:15:23.342Z"
      },
      {
        "duration": 6,
        "start_time": "2022-09-11T15:15:23.348Z"
      },
      {
        "duration": 7,
        "start_time": "2022-09-11T15:15:23.355Z"
      },
      {
        "duration": 7,
        "start_time": "2022-09-11T15:15:23.363Z"
      },
      {
        "duration": 4,
        "start_time": "2022-09-11T15:15:23.372Z"
      },
      {
        "duration": 5,
        "start_time": "2022-09-11T15:15:23.377Z"
      },
      {
        "duration": 6,
        "start_time": "2022-09-11T15:15:23.383Z"
      },
      {
        "duration": 5,
        "start_time": "2022-09-11T15:15:23.391Z"
      },
      {
        "duration": 6,
        "start_time": "2022-09-11T15:15:23.398Z"
      },
      {
        "duration": 4,
        "start_time": "2022-09-11T15:15:23.407Z"
      },
      {
        "duration": 5,
        "start_time": "2022-09-11T15:15:23.412Z"
      },
      {
        "duration": 76,
        "start_time": "2022-09-11T15:15:23.418Z"
      },
      {
        "duration": 0,
        "start_time": "2022-09-11T15:15:23.495Z"
      },
      {
        "duration": 0,
        "start_time": "2022-09-11T15:15:23.497Z"
      },
      {
        "duration": 0,
        "start_time": "2022-09-11T15:15:23.498Z"
      },
      {
        "duration": 0,
        "start_time": "2022-09-11T15:15:23.499Z"
      },
      {
        "duration": 0,
        "start_time": "2022-09-11T15:15:23.500Z"
      },
      {
        "duration": 0,
        "start_time": "2022-09-11T15:15:23.501Z"
      },
      {
        "duration": 0,
        "start_time": "2022-09-11T15:15:23.502Z"
      },
      {
        "duration": 0,
        "start_time": "2022-09-11T15:15:23.504Z"
      },
      {
        "duration": 29,
        "start_time": "2022-09-11T15:18:24.814Z"
      },
      {
        "duration": 24,
        "start_time": "2022-09-11T15:19:05.180Z"
      },
      {
        "duration": 24,
        "start_time": "2022-09-11T15:22:24.070Z"
      },
      {
        "duration": 62,
        "start_time": "2022-09-11T15:22:47.616Z"
      },
      {
        "duration": 76,
        "start_time": "2022-09-11T15:23:16.887Z"
      },
      {
        "duration": 65,
        "start_time": "2022-09-11T15:23:24.875Z"
      },
      {
        "duration": 64,
        "start_time": "2022-09-11T15:23:41.038Z"
      },
      {
        "duration": 39,
        "start_time": "2022-09-11T15:26:21.751Z"
      },
      {
        "duration": 89,
        "start_time": "2022-09-11T15:28:27.448Z"
      },
      {
        "duration": 4,
        "start_time": "2022-09-11T15:28:38.472Z"
      },
      {
        "duration": 76,
        "start_time": "2022-09-11T15:29:21.110Z"
      },
      {
        "duration": 12,
        "start_time": "2022-09-11T15:30:16.139Z"
      },
      {
        "duration": 33,
        "start_time": "2022-09-11T15:30:33.719Z"
      },
      {
        "duration": 13,
        "start_time": "2022-09-11T16:08:05.157Z"
      },
      {
        "duration": 59,
        "start_time": "2022-09-12T05:48:44.250Z"
      },
      {
        "duration": 5,
        "start_time": "2022-09-12T05:49:04.592Z"
      },
      {
        "duration": 356,
        "start_time": "2022-09-12T05:49:28.996Z"
      },
      {
        "duration": 439,
        "start_time": "2022-09-12T05:49:29.355Z"
      },
      {
        "duration": 8,
        "start_time": "2022-09-12T05:49:29.795Z"
      },
      {
        "duration": 48,
        "start_time": "2022-09-12T05:49:29.805Z"
      },
      {
        "duration": 6,
        "start_time": "2022-09-12T05:49:29.856Z"
      },
      {
        "duration": 11,
        "start_time": "2022-09-12T05:49:29.863Z"
      },
      {
        "duration": 21,
        "start_time": "2022-09-12T05:49:29.876Z"
      },
      {
        "duration": 7,
        "start_time": "2022-09-12T05:49:29.899Z"
      },
      {
        "duration": 26,
        "start_time": "2022-09-12T05:49:29.907Z"
      },
      {
        "duration": 27,
        "start_time": "2022-09-12T05:49:29.935Z"
      },
      {
        "duration": 24,
        "start_time": "2022-09-12T05:49:29.963Z"
      },
      {
        "duration": 69,
        "start_time": "2022-09-12T05:49:29.988Z"
      },
      {
        "duration": 65,
        "start_time": "2022-09-12T05:49:30.059Z"
      },
      {
        "duration": 71,
        "start_time": "2022-09-12T05:49:30.127Z"
      },
      {
        "duration": 32,
        "start_time": "2022-09-12T05:49:30.200Z"
      },
      {
        "duration": 28,
        "start_time": "2022-09-12T05:49:30.234Z"
      },
      {
        "duration": 50,
        "start_time": "2022-09-12T05:49:30.264Z"
      },
      {
        "duration": 11,
        "start_time": "2022-09-12T05:49:30.315Z"
      },
      {
        "duration": 34,
        "start_time": "2022-09-12T05:49:30.327Z"
      },
      {
        "duration": 34,
        "start_time": "2022-09-12T05:49:30.363Z"
      },
      {
        "duration": 27,
        "start_time": "2022-09-12T05:49:30.399Z"
      },
      {
        "duration": 22,
        "start_time": "2022-09-12T05:49:30.428Z"
      },
      {
        "duration": 25,
        "start_time": "2022-09-12T05:49:30.452Z"
      },
      {
        "duration": 22,
        "start_time": "2022-09-12T05:49:30.479Z"
      },
      {
        "duration": 27,
        "start_time": "2022-09-12T05:49:30.503Z"
      },
      {
        "duration": 23,
        "start_time": "2022-09-12T05:49:30.531Z"
      },
      {
        "duration": 22,
        "start_time": "2022-09-12T05:49:30.556Z"
      },
      {
        "duration": 9,
        "start_time": "2022-09-12T05:49:30.580Z"
      },
      {
        "duration": 34,
        "start_time": "2022-09-12T05:49:30.590Z"
      },
      {
        "duration": 87,
        "start_time": "2022-09-12T05:49:30.626Z"
      },
      {
        "duration": 0,
        "start_time": "2022-09-12T05:49:30.714Z"
      },
      {
        "duration": 0,
        "start_time": "2022-09-12T05:49:30.716Z"
      },
      {
        "duration": 0,
        "start_time": "2022-09-12T05:49:30.717Z"
      },
      {
        "duration": 0,
        "start_time": "2022-09-12T05:49:30.718Z"
      },
      {
        "duration": 0,
        "start_time": "2022-09-12T05:49:30.719Z"
      },
      {
        "duration": 0,
        "start_time": "2022-09-12T05:49:30.720Z"
      },
      {
        "duration": 0,
        "start_time": "2022-09-12T05:49:30.721Z"
      },
      {
        "duration": 0,
        "start_time": "2022-09-12T05:49:30.722Z"
      },
      {
        "duration": 61,
        "start_time": "2022-09-12T05:50:15.000Z"
      },
      {
        "duration": 7,
        "start_time": "2022-09-12T05:51:02.770Z"
      },
      {
        "duration": 8,
        "start_time": "2022-09-12T05:51:10.452Z"
      },
      {
        "duration": 30,
        "start_time": "2022-09-12T05:52:14.427Z"
      },
      {
        "duration": 335,
        "start_time": "2022-09-12T05:52:42.705Z"
      },
      {
        "duration": 150,
        "start_time": "2022-09-12T05:52:43.042Z"
      },
      {
        "duration": 7,
        "start_time": "2022-09-12T05:52:43.194Z"
      },
      {
        "duration": 28,
        "start_time": "2022-09-12T05:52:43.203Z"
      },
      {
        "duration": 2,
        "start_time": "2022-09-12T05:52:43.234Z"
      },
      {
        "duration": 20,
        "start_time": "2022-09-12T05:52:43.237Z"
      },
      {
        "duration": 15,
        "start_time": "2022-09-12T05:52:43.258Z"
      },
      {
        "duration": 5,
        "start_time": "2022-09-12T05:52:43.275Z"
      },
      {
        "duration": 22,
        "start_time": "2022-09-12T05:52:43.282Z"
      },
      {
        "duration": 25,
        "start_time": "2022-09-12T05:52:43.306Z"
      },
      {
        "duration": 36,
        "start_time": "2022-09-12T05:52:43.333Z"
      },
      {
        "duration": 64,
        "start_time": "2022-09-12T05:52:43.371Z"
      },
      {
        "duration": 72,
        "start_time": "2022-09-12T05:52:43.436Z"
      },
      {
        "duration": 58,
        "start_time": "2022-09-12T05:52:43.510Z"
      },
      {
        "duration": 32,
        "start_time": "2022-09-12T05:52:43.570Z"
      },
      {
        "duration": 10,
        "start_time": "2022-09-12T05:52:43.604Z"
      },
      {
        "duration": 53,
        "start_time": "2022-09-12T05:52:43.615Z"
      },
      {
        "duration": 12,
        "start_time": "2022-09-12T05:52:43.669Z"
      },
      {
        "duration": 30,
        "start_time": "2022-09-12T05:52:43.682Z"
      },
      {
        "duration": 3,
        "start_time": "2022-09-12T05:52:43.713Z"
      },
      {
        "duration": 6,
        "start_time": "2022-09-12T05:52:43.717Z"
      },
      {
        "duration": 5,
        "start_time": "2022-09-12T05:52:43.724Z"
      },
      {
        "duration": 4,
        "start_time": "2022-09-12T05:52:43.730Z"
      },
      {
        "duration": 4,
        "start_time": "2022-09-12T05:52:43.755Z"
      },
      {
        "duration": 8,
        "start_time": "2022-09-12T05:52:43.760Z"
      },
      {
        "duration": 5,
        "start_time": "2022-09-12T05:52:43.769Z"
      },
      {
        "duration": 4,
        "start_time": "2022-09-12T05:52:43.775Z"
      },
      {
        "duration": 4,
        "start_time": "2022-09-12T05:52:43.780Z"
      },
      {
        "duration": 5,
        "start_time": "2022-09-12T05:52:43.785Z"
      },
      {
        "duration": 75,
        "start_time": "2022-09-12T05:52:43.791Z"
      },
      {
        "duration": 0,
        "start_time": "2022-09-12T05:52:43.868Z"
      },
      {
        "duration": 0,
        "start_time": "2022-09-12T05:52:43.869Z"
      },
      {
        "duration": 0,
        "start_time": "2022-09-12T05:52:43.870Z"
      },
      {
        "duration": 0,
        "start_time": "2022-09-12T05:52:43.871Z"
      },
      {
        "duration": 0,
        "start_time": "2022-09-12T05:52:43.872Z"
      },
      {
        "duration": 0,
        "start_time": "2022-09-12T05:52:43.873Z"
      },
      {
        "duration": 0,
        "start_time": "2022-09-12T05:52:43.875Z"
      },
      {
        "duration": 0,
        "start_time": "2022-09-12T05:52:43.876Z"
      },
      {
        "duration": 9,
        "start_time": "2022-09-12T05:53:32.496Z"
      },
      {
        "duration": 4,
        "start_time": "2022-09-12T05:57:17.402Z"
      },
      {
        "duration": 90,
        "start_time": "2022-09-12T05:57:54.020Z"
      },
      {
        "duration": 8,
        "start_time": "2022-09-12T05:58:06.049Z"
      },
      {
        "duration": 8,
        "start_time": "2022-09-12T05:58:22.064Z"
      },
      {
        "duration": 2,
        "start_time": "2022-09-12T05:58:24.778Z"
      },
      {
        "duration": 17,
        "start_time": "2022-09-12T05:58:54.797Z"
      },
      {
        "duration": 15,
        "start_time": "2022-09-12T05:59:04.732Z"
      },
      {
        "duration": 18,
        "start_time": "2022-09-12T05:59:37.273Z"
      },
      {
        "duration": 14,
        "start_time": "2022-09-12T05:59:58.169Z"
      },
      {
        "duration": 23,
        "start_time": "2022-09-12T06:00:14.767Z"
      },
      {
        "duration": 16,
        "start_time": "2022-09-12T06:00:36.669Z"
      },
      {
        "duration": 9,
        "start_time": "2022-09-12T06:06:06.032Z"
      },
      {
        "duration": 9,
        "start_time": "2022-09-12T06:06:15.578Z"
      },
      {
        "duration": 11,
        "start_time": "2022-09-12T06:08:58.666Z"
      },
      {
        "duration": 3,
        "start_time": "2022-09-12T06:09:02.594Z"
      },
      {
        "duration": 81,
        "start_time": "2022-09-12T06:16:01.580Z"
      },
      {
        "duration": 5,
        "start_time": "2022-09-12T06:16:26.640Z"
      },
      {
        "duration": 22,
        "start_time": "2022-09-12T06:18:18.609Z"
      },
      {
        "duration": 391,
        "start_time": "2022-09-12T06:18:44.913Z"
      },
      {
        "duration": 158,
        "start_time": "2022-09-12T06:18:45.306Z"
      },
      {
        "duration": 8,
        "start_time": "2022-09-12T06:18:45.466Z"
      },
      {
        "duration": 30,
        "start_time": "2022-09-12T06:18:45.475Z"
      },
      {
        "duration": 3,
        "start_time": "2022-09-12T06:18:45.508Z"
      },
      {
        "duration": 17,
        "start_time": "2022-09-12T06:18:45.512Z"
      },
      {
        "duration": 37,
        "start_time": "2022-09-12T06:18:45.531Z"
      },
      {
        "duration": 5,
        "start_time": "2022-09-12T06:18:45.570Z"
      },
      {
        "duration": 28,
        "start_time": "2022-09-12T06:18:45.576Z"
      },
      {
        "duration": 16,
        "start_time": "2022-09-12T06:18:45.605Z"
      },
      {
        "duration": 37,
        "start_time": "2022-09-12T06:18:45.622Z"
      },
      {
        "duration": 73,
        "start_time": "2022-09-12T06:18:45.660Z"
      },
      {
        "duration": 72,
        "start_time": "2022-09-12T06:18:45.735Z"
      },
      {
        "duration": 85,
        "start_time": "2022-09-12T06:18:45.811Z"
      },
      {
        "duration": 33,
        "start_time": "2022-09-12T06:18:45.897Z"
      },
      {
        "duration": 24,
        "start_time": "2022-09-12T06:18:45.931Z"
      },
      {
        "duration": 33,
        "start_time": "2022-09-12T06:18:45.957Z"
      },
      {
        "duration": 11,
        "start_time": "2022-09-12T06:18:45.992Z"
      },
      {
        "duration": 11,
        "start_time": "2022-09-12T06:18:46.005Z"
      },
      {
        "duration": 4,
        "start_time": "2022-09-12T06:18:46.017Z"
      },
      {
        "duration": 52,
        "start_time": "2022-09-12T06:18:46.022Z"
      },
      {
        "duration": 15,
        "start_time": "2022-09-12T06:18:46.076Z"
      },
      {
        "duration": 15,
        "start_time": "2022-09-12T06:18:46.093Z"
      },
      {
        "duration": 15,
        "start_time": "2022-09-12T06:18:46.110Z"
      },
      {
        "duration": 41,
        "start_time": "2022-09-12T06:18:46.127Z"
      },
      {
        "duration": 18,
        "start_time": "2022-09-12T06:18:46.170Z"
      },
      {
        "duration": 10,
        "start_time": "2022-09-12T06:18:46.189Z"
      },
      {
        "duration": 14,
        "start_time": "2022-09-12T06:18:46.200Z"
      },
      {
        "duration": 10,
        "start_time": "2022-09-12T06:18:46.216Z"
      },
      {
        "duration": 6,
        "start_time": "2022-09-12T06:18:46.254Z"
      },
      {
        "duration": 75,
        "start_time": "2022-09-12T06:18:46.261Z"
      },
      {
        "duration": 0,
        "start_time": "2022-09-12T06:18:46.338Z"
      },
      {
        "duration": 0,
        "start_time": "2022-09-12T06:18:46.339Z"
      },
      {
        "duration": 0,
        "start_time": "2022-09-12T06:18:46.340Z"
      },
      {
        "duration": 0,
        "start_time": "2022-09-12T06:18:46.355Z"
      },
      {
        "duration": 0,
        "start_time": "2022-09-12T06:18:46.356Z"
      },
      {
        "duration": 0,
        "start_time": "2022-09-12T06:18:46.358Z"
      },
      {
        "duration": 0,
        "start_time": "2022-09-12T06:18:46.359Z"
      },
      {
        "duration": 33,
        "start_time": "2022-09-12T06:19:43.670Z"
      },
      {
        "duration": 3,
        "start_time": "2022-09-12T06:19:58.334Z"
      },
      {
        "duration": 370,
        "start_time": "2022-09-12T06:20:11.323Z"
      },
      {
        "duration": 167,
        "start_time": "2022-09-12T06:20:11.695Z"
      },
      {
        "duration": 8,
        "start_time": "2022-09-12T06:20:11.864Z"
      },
      {
        "duration": 27,
        "start_time": "2022-09-12T06:20:11.874Z"
      },
      {
        "duration": 4,
        "start_time": "2022-09-12T06:20:11.903Z"
      },
      {
        "duration": 13,
        "start_time": "2022-09-12T06:20:11.909Z"
      },
      {
        "duration": 39,
        "start_time": "2022-09-12T06:20:11.923Z"
      },
      {
        "duration": 9,
        "start_time": "2022-09-12T06:20:11.964Z"
      },
      {
        "duration": 43,
        "start_time": "2022-09-12T06:20:11.975Z"
      },
      {
        "duration": 39,
        "start_time": "2022-09-12T06:20:12.022Z"
      },
      {
        "duration": 41,
        "start_time": "2022-09-12T06:20:12.063Z"
      },
      {
        "duration": 74,
        "start_time": "2022-09-12T06:20:12.105Z"
      },
      {
        "duration": 78,
        "start_time": "2022-09-12T06:20:12.181Z"
      },
      {
        "duration": 59,
        "start_time": "2022-09-12T06:20:12.261Z"
      },
      {
        "duration": 48,
        "start_time": "2022-09-12T06:20:12.322Z"
      },
      {
        "duration": 14,
        "start_time": "2022-09-12T06:20:12.372Z"
      },
      {
        "duration": 40,
        "start_time": "2022-09-12T06:20:12.389Z"
      },
      {
        "duration": 28,
        "start_time": "2022-09-12T06:20:12.431Z"
      },
      {
        "duration": 15,
        "start_time": "2022-09-12T06:20:12.461Z"
      },
      {
        "duration": 5,
        "start_time": "2022-09-12T06:20:12.477Z"
      },
      {
        "duration": 22,
        "start_time": "2022-09-12T06:20:12.483Z"
      },
      {
        "duration": 14,
        "start_time": "2022-09-12T06:20:12.507Z"
      },
      {
        "duration": 40,
        "start_time": "2022-09-12T06:20:12.523Z"
      },
      {
        "duration": 14,
        "start_time": "2022-09-12T06:20:12.565Z"
      },
      {
        "duration": 16,
        "start_time": "2022-09-12T06:20:12.581Z"
      },
      {
        "duration": 15,
        "start_time": "2022-09-12T06:20:12.598Z"
      },
      {
        "duration": 42,
        "start_time": "2022-09-12T06:20:12.614Z"
      },
      {
        "duration": 12,
        "start_time": "2022-09-12T06:20:12.659Z"
      },
      {
        "duration": 9,
        "start_time": "2022-09-12T06:20:12.673Z"
      },
      {
        "duration": 4,
        "start_time": "2022-09-12T06:20:12.683Z"
      },
      {
        "duration": 83,
        "start_time": "2022-09-12T06:20:12.689Z"
      },
      {
        "duration": 0,
        "start_time": "2022-09-12T06:20:12.773Z"
      },
      {
        "duration": 0,
        "start_time": "2022-09-12T06:20:12.775Z"
      },
      {
        "duration": 0,
        "start_time": "2022-09-12T06:20:12.775Z"
      },
      {
        "duration": 0,
        "start_time": "2022-09-12T06:20:12.776Z"
      },
      {
        "duration": 0,
        "start_time": "2022-09-12T06:20:12.777Z"
      },
      {
        "duration": 0,
        "start_time": "2022-09-12T06:20:12.778Z"
      },
      {
        "duration": 0,
        "start_time": "2022-09-12T06:20:12.779Z"
      },
      {
        "duration": 20,
        "start_time": "2022-09-12T06:21:53.625Z"
      },
      {
        "duration": 15,
        "start_time": "2022-09-12T06:27:48.538Z"
      },
      {
        "duration": 19,
        "start_time": "2022-09-12T06:31:28.499Z"
      },
      {
        "duration": 370,
        "start_time": "2022-09-12T06:31:51.261Z"
      },
      {
        "duration": 143,
        "start_time": "2022-09-12T06:31:51.633Z"
      },
      {
        "duration": 8,
        "start_time": "2022-09-12T06:31:51.777Z"
      },
      {
        "duration": 26,
        "start_time": "2022-09-12T06:31:51.786Z"
      },
      {
        "duration": 3,
        "start_time": "2022-09-12T06:31:51.814Z"
      },
      {
        "duration": 26,
        "start_time": "2022-09-12T06:31:51.818Z"
      },
      {
        "duration": 13,
        "start_time": "2022-09-12T06:31:51.846Z"
      },
      {
        "duration": 6,
        "start_time": "2022-09-12T06:31:51.861Z"
      },
      {
        "duration": 22,
        "start_time": "2022-09-12T06:31:51.869Z"
      },
      {
        "duration": 14,
        "start_time": "2022-09-12T06:31:51.894Z"
      },
      {
        "duration": 19,
        "start_time": "2022-09-12T06:31:51.910Z"
      },
      {
        "duration": 75,
        "start_time": "2022-09-12T06:31:51.930Z"
      },
      {
        "duration": 66,
        "start_time": "2022-09-12T06:31:52.007Z"
      },
      {
        "duration": 51,
        "start_time": "2022-09-12T06:31:52.074Z"
      },
      {
        "duration": 41,
        "start_time": "2022-09-12T06:31:52.126Z"
      },
      {
        "duration": 8,
        "start_time": "2022-09-12T06:31:52.168Z"
      },
      {
        "duration": 29,
        "start_time": "2022-09-12T06:31:52.178Z"
      },
      {
        "duration": 9,
        "start_time": "2022-09-12T06:31:52.209Z"
      },
      {
        "duration": 9,
        "start_time": "2022-09-12T06:31:52.220Z"
      },
      {
        "duration": 26,
        "start_time": "2022-09-12T06:31:52.230Z"
      },
      {
        "duration": 22,
        "start_time": "2022-09-12T06:31:52.257Z"
      },
      {
        "duration": 11,
        "start_time": "2022-09-12T06:31:52.280Z"
      },
      {
        "duration": 12,
        "start_time": "2022-09-12T06:31:52.293Z"
      },
      {
        "duration": 11,
        "start_time": "2022-09-12T06:31:52.307Z"
      },
      {
        "duration": 13,
        "start_time": "2022-09-12T06:31:52.319Z"
      },
      {
        "duration": 31,
        "start_time": "2022-09-12T06:31:52.333Z"
      },
      {
        "duration": 8,
        "start_time": "2022-09-12T06:31:52.365Z"
      },
      {
        "duration": 12,
        "start_time": "2022-09-12T06:31:52.375Z"
      },
      {
        "duration": 8,
        "start_time": "2022-09-12T06:31:52.389Z"
      },
      {
        "duration": 4,
        "start_time": "2022-09-12T06:31:52.398Z"
      },
      {
        "duration": 17,
        "start_time": "2022-09-12T06:31:52.404Z"
      },
      {
        "duration": 33,
        "start_time": "2022-09-12T06:31:52.422Z"
      },
      {
        "duration": 1,
        "start_time": "2022-09-12T06:31:52.457Z"
      },
      {
        "duration": 7,
        "start_time": "2022-09-12T06:31:52.460Z"
      },
      {
        "duration": 8,
        "start_time": "2022-09-12T06:31:52.468Z"
      },
      {
        "duration": 4,
        "start_time": "2022-09-12T06:31:52.477Z"
      },
      {
        "duration": 4,
        "start_time": "2022-09-12T06:31:52.482Z"
      },
      {
        "duration": 4,
        "start_time": "2022-09-12T06:31:52.487Z"
      },
      {
        "duration": 11,
        "start_time": "2022-09-12T06:32:55.831Z"
      },
      {
        "duration": 17,
        "start_time": "2022-09-12T06:33:00.394Z"
      },
      {
        "duration": 338,
        "start_time": "2022-09-12T06:36:17.307Z"
      },
      {
        "duration": 146,
        "start_time": "2022-09-12T06:36:17.647Z"
      },
      {
        "duration": 7,
        "start_time": "2022-09-12T06:36:17.796Z"
      },
      {
        "duration": 23,
        "start_time": "2022-09-12T06:36:17.805Z"
      },
      {
        "duration": 5,
        "start_time": "2022-09-12T06:36:17.830Z"
      },
      {
        "duration": 19,
        "start_time": "2022-09-12T06:36:17.836Z"
      },
      {
        "duration": 13,
        "start_time": "2022-09-12T06:36:17.856Z"
      },
      {
        "duration": 6,
        "start_time": "2022-09-12T06:36:17.870Z"
      },
      {
        "duration": 22,
        "start_time": "2022-09-12T06:36:17.877Z"
      },
      {
        "duration": 13,
        "start_time": "2022-09-12T06:36:17.902Z"
      },
      {
        "duration": 38,
        "start_time": "2022-09-12T06:36:17.917Z"
      },
      {
        "duration": 55,
        "start_time": "2022-09-12T06:36:17.957Z"
      },
      {
        "duration": 70,
        "start_time": "2022-09-12T06:36:18.014Z"
      },
      {
        "duration": 54,
        "start_time": "2022-09-12T06:36:18.085Z"
      },
      {
        "duration": 41,
        "start_time": "2022-09-12T06:36:18.141Z"
      },
      {
        "duration": 9,
        "start_time": "2022-09-12T06:36:18.184Z"
      },
      {
        "duration": 32,
        "start_time": "2022-09-12T06:36:18.194Z"
      },
      {
        "duration": 30,
        "start_time": "2022-09-12T06:36:18.227Z"
      },
      {
        "duration": 11,
        "start_time": "2022-09-12T06:36:18.258Z"
      },
      {
        "duration": 6,
        "start_time": "2022-09-12T06:36:18.270Z"
      },
      {
        "duration": 18,
        "start_time": "2022-09-12T06:36:18.277Z"
      },
      {
        "duration": 11,
        "start_time": "2022-09-12T06:36:18.297Z"
      },
      {
        "duration": 12,
        "start_time": "2022-09-12T06:36:18.309Z"
      },
      {
        "duration": 38,
        "start_time": "2022-09-12T06:36:18.323Z"
      },
      {
        "duration": 14,
        "start_time": "2022-09-12T06:36:18.362Z"
      },
      {
        "duration": 11,
        "start_time": "2022-09-12T06:36:18.377Z"
      },
      {
        "duration": 11,
        "start_time": "2022-09-12T06:36:18.390Z"
      },
      {
        "duration": 9,
        "start_time": "2022-09-12T06:36:18.404Z"
      },
      {
        "duration": 7,
        "start_time": "2022-09-12T06:36:18.415Z"
      },
      {
        "duration": 33,
        "start_time": "2022-09-12T06:36:18.423Z"
      },
      {
        "duration": 19,
        "start_time": "2022-09-12T06:36:18.457Z"
      },
      {
        "duration": 10,
        "start_time": "2022-09-12T06:36:18.477Z"
      },
      {
        "duration": 15,
        "start_time": "2022-09-12T06:36:18.488Z"
      },
      {
        "duration": 10,
        "start_time": "2022-09-12T06:36:18.504Z"
      },
      {
        "duration": 83,
        "start_time": "2022-09-12T06:36:18.515Z"
      },
      {
        "duration": 0,
        "start_time": "2022-09-12T06:36:18.600Z"
      },
      {
        "duration": 0,
        "start_time": "2022-09-12T06:36:18.601Z"
      },
      {
        "duration": 0,
        "start_time": "2022-09-12T06:36:18.602Z"
      },
      {
        "duration": 7,
        "start_time": "2022-09-12T06:38:00.769Z"
      },
      {
        "duration": 4,
        "start_time": "2022-09-12T06:38:30.735Z"
      },
      {
        "duration": 7,
        "start_time": "2022-09-12T06:39:32.871Z"
      },
      {
        "duration": 5,
        "start_time": "2022-09-12T06:39:49.449Z"
      },
      {
        "duration": 7,
        "start_time": "2022-09-12T06:41:19.902Z"
      },
      {
        "duration": 5,
        "start_time": "2022-09-12T06:41:31.362Z"
      },
      {
        "duration": 4,
        "start_time": "2022-09-12T06:41:35.241Z"
      },
      {
        "duration": 51,
        "start_time": "2022-09-12T15:15:31.232Z"
      },
      {
        "duration": 393,
        "start_time": "2022-09-12T15:15:41.142Z"
      },
      {
        "duration": 786,
        "start_time": "2022-09-12T15:15:53.922Z"
      },
      {
        "duration": 361,
        "start_time": "2022-09-12T15:16:05.175Z"
      },
      {
        "duration": 630,
        "start_time": "2022-09-12T15:16:05.538Z"
      },
      {
        "duration": 9,
        "start_time": "2022-09-12T15:16:06.170Z"
      },
      {
        "duration": 41,
        "start_time": "2022-09-12T15:16:06.181Z"
      },
      {
        "duration": 2,
        "start_time": "2022-09-12T15:16:06.225Z"
      },
      {
        "duration": 30,
        "start_time": "2022-09-12T15:16:06.229Z"
      },
      {
        "duration": 16,
        "start_time": "2022-09-12T15:16:06.260Z"
      },
      {
        "duration": 22,
        "start_time": "2022-09-12T15:16:06.277Z"
      },
      {
        "duration": 31,
        "start_time": "2022-09-12T15:16:06.301Z"
      },
      {
        "duration": 19,
        "start_time": "2022-09-12T15:16:06.333Z"
      },
      {
        "duration": 23,
        "start_time": "2022-09-12T15:16:06.354Z"
      },
      {
        "duration": 89,
        "start_time": "2022-09-12T15:16:06.379Z"
      },
      {
        "duration": 80,
        "start_time": "2022-09-12T15:16:06.470Z"
      },
      {
        "duration": 86,
        "start_time": "2022-09-12T15:16:06.553Z"
      },
      {
        "duration": 39,
        "start_time": "2022-09-12T15:16:06.641Z"
      },
      {
        "duration": 11,
        "start_time": "2022-09-12T15:16:06.682Z"
      },
      {
        "duration": 56,
        "start_time": "2022-09-12T15:16:06.694Z"
      },
      {
        "duration": 14,
        "start_time": "2022-09-12T15:16:06.752Z"
      },
      {
        "duration": 11,
        "start_time": "2022-09-12T15:16:06.767Z"
      },
      {
        "duration": 4,
        "start_time": "2022-09-12T15:16:06.780Z"
      },
      {
        "duration": 44,
        "start_time": "2022-09-12T15:16:06.785Z"
      },
      {
        "duration": 16,
        "start_time": "2022-09-12T15:16:06.831Z"
      },
      {
        "duration": 17,
        "start_time": "2022-09-12T15:16:06.849Z"
      },
      {
        "duration": 15,
        "start_time": "2022-09-12T15:16:06.868Z"
      },
      {
        "duration": 46,
        "start_time": "2022-09-12T15:16:06.884Z"
      },
      {
        "duration": 16,
        "start_time": "2022-09-12T15:16:06.932Z"
      },
      {
        "duration": 11,
        "start_time": "2022-09-12T15:16:06.949Z"
      },
      {
        "duration": 23,
        "start_time": "2022-09-12T15:16:06.961Z"
      },
      {
        "duration": 9,
        "start_time": "2022-09-12T15:16:06.986Z"
      },
      {
        "duration": 25,
        "start_time": "2022-09-12T15:16:06.997Z"
      },
      {
        "duration": 29,
        "start_time": "2022-09-12T15:16:07.024Z"
      },
      {
        "duration": 15,
        "start_time": "2022-09-12T15:16:07.055Z"
      },
      {
        "duration": 23,
        "start_time": "2022-09-12T15:16:07.071Z"
      },
      {
        "duration": 32,
        "start_time": "2022-09-12T15:16:07.095Z"
      },
      {
        "duration": 9,
        "start_time": "2022-09-12T15:16:07.128Z"
      },
      {
        "duration": 14,
        "start_time": "2022-09-12T15:16:07.138Z"
      },
      {
        "duration": 10,
        "start_time": "2022-09-12T15:16:07.153Z"
      },
      {
        "duration": 7,
        "start_time": "2022-09-12T15:16:07.165Z"
      },
      {
        "duration": 678,
        "start_time": "2022-09-12T15:16:28.149Z"
      },
      {
        "duration": 604,
        "start_time": "2022-09-12T15:16:36.059Z"
      }
    ],
    "colab": {
      "provenance": []
    },
    "kernelspec": {
      "display_name": "Python 3 (ipykernel)",
      "language": "python",
      "name": "python3"
    },
    "language_info": {
      "codemirror_mode": {
        "name": "ipython",
        "version": 3
      },
      "file_extension": ".py",
      "mimetype": "text/x-python",
      "name": "python",
      "nbconvert_exporter": "python",
      "pygments_lexer": "ipython3",
      "version": "3.9.5"
    },
    "toc": {
      "base_numbering": 1,
      "nav_menu": {
        "height": "215px",
        "width": "403px"
      },
      "number_sections": true,
      "sideBar": true,
      "skip_h1_title": true,
      "title_cell": "Table of Contents",
      "title_sidebar": "Contents",
      "toc_cell": false,
      "toc_position": {
        "height": "calc(100% - 180px)",
        "left": "10px",
        "top": "150px",
        "width": "285.825px"
      },
      "toc_section_display": true,
      "toc_window_display": false
    }
  },
  "nbformat": 4,
  "nbformat_minor": 0
}