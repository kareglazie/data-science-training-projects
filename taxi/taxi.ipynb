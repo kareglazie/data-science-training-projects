{
  "cells": [
    {
      "cell_type": "markdown",
      "metadata": {
        "toc": true,
        "id": "6EmtxE6qzPxN"
      },
      "source": [
        "<h1>Содержание<span class=\"tocSkip\"></span></h1>\n",
        "<div class=\"toc\"><ul class=\"toc-item\"><li><span><a href=\"#Цель-исследования\" data-toc-modified-id=\"Цель-исследования-1\">Цель исследования</a></span></li><li><span><a href=\"#Подготовка-данных\" data-toc-modified-id=\"Подготовка-данных-2\">Подготовка данных</a></span></li><li><span><a href=\"#Анализ\" data-toc-modified-id=\"Анализ-3\">Анализ</a></span></li><li><span><a href=\"#Обучение\" data-toc-modified-id=\"Обучение-4\">Обучение</a></span><ul class=\"toc-item\"><li><span><a href=\"#Подготовка-данных\" data-toc-modified-id=\"Подготовка-данных-4.1\">Подготовка данных</a></span></li><li><span><a href=\"#Линейная-регрессия\" data-toc-modified-id=\"Линейная-регрессия-4.2\">Линейная регрессия</a></span></li><li><span><a href=\"#Решающее-дерево\" data-toc-modified-id=\"Решающее-дерево-4.3\">Решающее дерево</a></span></li><li><span><a href=\"#CatBoost\" data-toc-modified-id=\"CatBoost-4.4\">CatBoost</a></span></li><li><span><a href=\"#Вывод-по-разделу\" data-toc-modified-id=\"Вывод-по-разделу-4.5\">Вывод по разделу</a></span></li></ul></li><li><span><a href=\"#Тестирование\" data-toc-modified-id=\"Тестирование-5\">Тестирование</a></span></li><li><span><a href=\"#Чек-лист-проверки\" data-toc-modified-id=\"Чек-лист-проверки-6\">Чек-лист проверки</a></span></li></ul></div>"
      ]
    },
    {
      "cell_type": "markdown",
      "metadata": {
        "id": "qiLK98WMzPxO"
      },
      "source": [
        "#  Прогнозирование заказов такси"
      ]
    },
    {
      "cell_type": "markdown",
      "metadata": {
        "id": "rTa8OIojzPxO"
      },
      "source": [
        "## Цель исследования"
      ]
    },
    {
      "cell_type": "markdown",
      "metadata": {
        "id": "nh6eDs_NzPxP"
      },
      "source": [
        "**Цель нашего исследования** — обучить модель для прогнозирования количества заказов такси на следующий час. Это необходимо, чтобы привлекать больше водителей к заказам в период пиковой нагрузки. \n",
        "\n",
        "\n",
        "**Этапы исследования:**\n",
        "\n",
        "1. Обучить несколько моделей с различными гиперпараметрами.\n",
        "2. Проверить лучшую модель на тестовой выборке (10% от данных).\n",
        "3. Добиться значения метрики RMSE не более 48.\n",
        "\n"
      ]
    },
    {
      "cell_type": "markdown",
      "metadata": {
        "id": "gOSdDac5zPxQ"
      },
      "source": [
        "## Подготовка данных"
      ]
    },
    {
      "cell_type": "code",
      "source": [
        "#!pip install catboost -q"
      ],
      "metadata": {
        "colab": {
          "base_uri": "https://localhost:8080/"
        },
        "id": "Wjl6_cZb4ALz",
        "outputId": "ce25287f-ea6a-42c6-8b4c-252777cad7ba"
      },
      "execution_count": 1,
      "outputs": [
        {
          "output_type": "stream",
          "name": "stdout",
          "text": [
            "\u001b[2K     \u001b[90m━━━━━━━━━━━━━━━━━━━━━━━━━━━━━━━━━━━━━━━━\u001b[0m \u001b[32m98.6/98.6 MB\u001b[0m \u001b[31m9.2 MB/s\u001b[0m eta \u001b[36m0:00:00\u001b[0m\n",
            "\u001b[?25h"
          ]
        }
      ]
    },
    {
      "cell_type": "code",
      "execution_count": 2,
      "metadata": {
        "id": "q0iGtqqHzPxR"
      },
      "outputs": [],
      "source": [
        "import pandas as pd\n",
        "import warnings\n",
        "from statsmodels.tsa.seasonal import seasonal_decompose\n",
        "import matplotlib.pyplot as plt\n",
        "import seaborn as sns\n",
        "from sklearn.model_selection import train_test_split\n",
        "from sklearn.linear_model import LinearRegression\n",
        "from sklearn.tree import DecisionTreeRegressor\n",
        "from catboost import CatBoostRegressor\n",
        "from sklearn.metrics import mean_squared_error\n",
        "from sklearn.model_selection import TimeSeriesSplit, RandomizedSearchCV\n",
        "plt.style.use('dark_background')\n",
        "warnings.filterwarnings('ignore')"
      ]
    },
    {
      "cell_type": "code",
      "execution_count": 3,
      "metadata": {
        "id": "92zzrlTdzPxT"
      },
      "outputs": [],
      "source": [
        "try:\n",
        "    d = pd.read_csv('/datasets/taxi.csv')\n",
        "except:\n",
        "    d = pd.read_csv('/content/taxi.csv')"
      ]
    },
    {
      "cell_type": "code",
      "execution_count": 4,
      "metadata": {
        "id": "xo9prdQnzPxU"
      },
      "outputs": [],
      "source": [
        "# Делаем функцию для обзора данных\n",
        "def data_overview(data):\n",
        "    '''\n",
        "    Функция для обзора данных,\n",
        "    принимает на вход датафрейм,\n",
        "    выводит на экран его основные характеристики\n",
        "    и графики\n",
        "    '''\n",
        "    \n",
        "    print('Общая информация о данных (info)', (80 - len('Общая информация о данных (info)')) * '-', '\\n')\n",
        "    data.info()\n",
        "    print('')\n",
        "    print('Статистические показатели (describe)', (80 - len('Статистические показатели (describe)')) * '-')\n",
        "    display(data.describe().T)\n",
        "    print('')\n",
        "    print ('Пропущенные значения в данных', (80 - len('Пропущенные значения в данных')) * '-')\n",
        "    print('')\n",
        "    empty = sum(data.isna().sum())\n",
        "    if empty > 0:\n",
        "        print(f'Общее количество пропусков в данных: {empty}')\n",
        "        print()\n",
        "        (\n",
        "            (data.isna().mean()*100)\n",
        "            .to_frame()\n",
        "            .rename(columns = {0:'space'})\n",
        "            .query('space > 0')\n",
        "            .sort_values(by = 'space', ascending = True)\n",
        "            .plot(kind= 'barh', legend = False, figsize=(40,20),\n",
        "                  fontsize = 22)\n",
        "            .set_title('Количество пропусков по колонкам' + \"\\n\", fontsize = 26)\n",
        "        )\n",
        "    else:\n",
        "        print('Пропущенных значений нет')\n",
        "    print('')\n",
        "    print('Дубликаты в данных', (80 - len('Дубликаты в данных')) * '-')\n",
        "    print('')\n",
        "    if data.duplicated().sum() > 0:\n",
        "        print (f'Количество дубликатов в данных: {data.duplicated().sum()}')\n",
        "    else:\n",
        "        print('Дубликатов нет')\n",
        "    "
      ]
    },
    {
      "cell_type": "code",
      "execution_count": 5,
      "metadata": {
        "scrolled": true,
        "colab": {
          "base_uri": "https://localhost:8080/",
          "height": 455
        },
        "id": "ccRuIVOczPxU",
        "outputId": "c505233c-a65b-4fbf-8a2b-0093c7be2aba"
      },
      "outputs": [
        {
          "output_type": "stream",
          "name": "stdout",
          "text": [
            "Общая информация о данных (info) ------------------------------------------------ \n",
            "\n",
            "<class 'pandas.core.frame.DataFrame'>\n",
            "RangeIndex: 26496 entries, 0 to 26495\n",
            "Data columns (total 2 columns):\n",
            " #   Column      Non-Null Count  Dtype \n",
            "---  ------      --------------  ----- \n",
            " 0   datetime    26496 non-null  object\n",
            " 1   num_orders  26496 non-null  int64 \n",
            "dtypes: int64(1), object(1)\n",
            "memory usage: 414.1+ KB\n",
            "\n",
            "Статистические показатели (describe) --------------------------------------------\n"
          ]
        },
        {
          "output_type": "display_data",
          "data": {
            "text/plain": [
              "              count       mean      std  min  25%   50%   75%    max\n",
              "num_orders  26496.0  14.070463  9.21133  0.0  8.0  13.0  19.0  119.0"
            ],
            "text/html": [
              "\n",
              "  <div id=\"df-e9560fe4-2481-41a9-9b73-bb25b3e06aa5\">\n",
              "    <div class=\"colab-df-container\">\n",
              "      <div>\n",
              "<style scoped>\n",
              "    .dataframe tbody tr th:only-of-type {\n",
              "        vertical-align: middle;\n",
              "    }\n",
              "\n",
              "    .dataframe tbody tr th {\n",
              "        vertical-align: top;\n",
              "    }\n",
              "\n",
              "    .dataframe thead th {\n",
              "        text-align: right;\n",
              "    }\n",
              "</style>\n",
              "<table border=\"1\" class=\"dataframe\">\n",
              "  <thead>\n",
              "    <tr style=\"text-align: right;\">\n",
              "      <th></th>\n",
              "      <th>count</th>\n",
              "      <th>mean</th>\n",
              "      <th>std</th>\n",
              "      <th>min</th>\n",
              "      <th>25%</th>\n",
              "      <th>50%</th>\n",
              "      <th>75%</th>\n",
              "      <th>max</th>\n",
              "    </tr>\n",
              "  </thead>\n",
              "  <tbody>\n",
              "    <tr>\n",
              "      <th>num_orders</th>\n",
              "      <td>26496.0</td>\n",
              "      <td>14.070463</td>\n",
              "      <td>9.21133</td>\n",
              "      <td>0.0</td>\n",
              "      <td>8.0</td>\n",
              "      <td>13.0</td>\n",
              "      <td>19.0</td>\n",
              "      <td>119.0</td>\n",
              "    </tr>\n",
              "  </tbody>\n",
              "</table>\n",
              "</div>\n",
              "      <button class=\"colab-df-convert\" onclick=\"convertToInteractive('df-e9560fe4-2481-41a9-9b73-bb25b3e06aa5')\"\n",
              "              title=\"Convert this dataframe to an interactive table.\"\n",
              "              style=\"display:none;\">\n",
              "        \n",
              "  <svg xmlns=\"http://www.w3.org/2000/svg\" height=\"24px\"viewBox=\"0 0 24 24\"\n",
              "       width=\"24px\">\n",
              "    <path d=\"M0 0h24v24H0V0z\" fill=\"none\"/>\n",
              "    <path d=\"M18.56 5.44l.94 2.06.94-2.06 2.06-.94-2.06-.94-.94-2.06-.94 2.06-2.06.94zm-11 1L8.5 8.5l.94-2.06 2.06-.94-2.06-.94L8.5 2.5l-.94 2.06-2.06.94zm10 10l.94 2.06.94-2.06 2.06-.94-2.06-.94-.94-2.06-.94 2.06-2.06.94z\"/><path d=\"M17.41 7.96l-1.37-1.37c-.4-.4-.92-.59-1.43-.59-.52 0-1.04.2-1.43.59L10.3 9.45l-7.72 7.72c-.78.78-.78 2.05 0 2.83L4 21.41c.39.39.9.59 1.41.59.51 0 1.02-.2 1.41-.59l7.78-7.78 2.81-2.81c.8-.78.8-2.07 0-2.86zM5.41 20L4 18.59l7.72-7.72 1.47 1.35L5.41 20z\"/>\n",
              "  </svg>\n",
              "      </button>\n",
              "      \n",
              "  <style>\n",
              "    .colab-df-container {\n",
              "      display:flex;\n",
              "      flex-wrap:wrap;\n",
              "      gap: 12px;\n",
              "    }\n",
              "\n",
              "    .colab-df-convert {\n",
              "      background-color: #E8F0FE;\n",
              "      border: none;\n",
              "      border-radius: 50%;\n",
              "      cursor: pointer;\n",
              "      display: none;\n",
              "      fill: #1967D2;\n",
              "      height: 32px;\n",
              "      padding: 0 0 0 0;\n",
              "      width: 32px;\n",
              "    }\n",
              "\n",
              "    .colab-df-convert:hover {\n",
              "      background-color: #E2EBFA;\n",
              "      box-shadow: 0px 1px 2px rgba(60, 64, 67, 0.3), 0px 1px 3px 1px rgba(60, 64, 67, 0.15);\n",
              "      fill: #174EA6;\n",
              "    }\n",
              "\n",
              "    [theme=dark] .colab-df-convert {\n",
              "      background-color: #3B4455;\n",
              "      fill: #D2E3FC;\n",
              "    }\n",
              "\n",
              "    [theme=dark] .colab-df-convert:hover {\n",
              "      background-color: #434B5C;\n",
              "      box-shadow: 0px 1px 3px 1px rgba(0, 0, 0, 0.15);\n",
              "      filter: drop-shadow(0px 1px 2px rgba(0, 0, 0, 0.3));\n",
              "      fill: #FFFFFF;\n",
              "    }\n",
              "  </style>\n",
              "\n",
              "      <script>\n",
              "        const buttonEl =\n",
              "          document.querySelector('#df-e9560fe4-2481-41a9-9b73-bb25b3e06aa5 button.colab-df-convert');\n",
              "        buttonEl.style.display =\n",
              "          google.colab.kernel.accessAllowed ? 'block' : 'none';\n",
              "\n",
              "        async function convertToInteractive(key) {\n",
              "          const element = document.querySelector('#df-e9560fe4-2481-41a9-9b73-bb25b3e06aa5');\n",
              "          const dataTable =\n",
              "            await google.colab.kernel.invokeFunction('convertToInteractive',\n",
              "                                                     [key], {});\n",
              "          if (!dataTable) return;\n",
              "\n",
              "          const docLinkHtml = 'Like what you see? Visit the ' +\n",
              "            '<a target=\"_blank\" href=https://colab.research.google.com/notebooks/data_table.ipynb>data table notebook</a>'\n",
              "            + ' to learn more about interactive tables.';\n",
              "          element.innerHTML = '';\n",
              "          dataTable['output_type'] = 'display_data';\n",
              "          await google.colab.output.renderOutput(dataTable, element);\n",
              "          const docLink = document.createElement('div');\n",
              "          docLink.innerHTML = docLinkHtml;\n",
              "          element.appendChild(docLink);\n",
              "        }\n",
              "      </script>\n",
              "    </div>\n",
              "  </div>\n",
              "  "
            ]
          },
          "metadata": {}
        },
        {
          "output_type": "stream",
          "name": "stdout",
          "text": [
            "\n",
            "Пропущенные значения в данных ---------------------------------------------------\n",
            "\n",
            "Пропущенных значений нет\n",
            "\n",
            "Дубликаты в данных --------------------------------------------------------------\n",
            "\n",
            "Дубликатов нет\n"
          ]
        }
      ],
      "source": [
        "data_overview(d)"
      ]
    },
    {
      "cell_type": "markdown",
      "metadata": {
        "id": "k6-ukv4XzPxW"
      },
      "source": [
        "Изменим тип данных c object на datetime у столбца `datetime` и сделаем этот столбец индексом."
      ]
    },
    {
      "cell_type": "code",
      "execution_count": 6,
      "metadata": {
        "id": "C9N3Gnf7zPxW"
      },
      "outputs": [],
      "source": [
        "d['datetime'] = pd.to_datetime(d['datetime'])"
      ]
    },
    {
      "cell_type": "code",
      "execution_count": 7,
      "metadata": {
        "colab": {
          "base_uri": "https://localhost:8080/"
        },
        "id": "CTi-L_VNzPxW",
        "outputId": "670c9128-07fd-450e-893c-801318f3c7d5"
      },
      "outputs": [
        {
          "output_type": "execute_result",
          "data": {
            "text/plain": [
              "True"
            ]
          },
          "metadata": {},
          "execution_count": 7
        }
      ],
      "source": [
        "d = d.set_index('datetime')\n",
        "d = d.sort_index()\n",
        "d.index.is_monotonic"
      ]
    },
    {
      "cell_type": "markdown",
      "metadata": {
        "id": "TQrFDzFSzPxY"
      },
      "source": [
        "Сделаем ресемплинг данных по часам."
      ]
    },
    {
      "cell_type": "code",
      "execution_count": 8,
      "metadata": {
        "id": "h90h4OFczPxY"
      },
      "outputs": [],
      "source": [
        "d = d.resample('1H').sum()"
      ]
    },
    {
      "cell_type": "code",
      "execution_count": 9,
      "metadata": {
        "colab": {
          "base_uri": "https://localhost:8080/"
        },
        "id": "VPeF320RzPxY",
        "outputId": "fb43079b-bdbd-4c77-a58e-62adec086d82"
      },
      "outputs": [
        {
          "output_type": "stream",
          "name": "stdout",
          "text": [
            "<class 'pandas.core.frame.DataFrame'>\n",
            "DatetimeIndex: 4416 entries, 2018-03-01 00:00:00 to 2018-08-31 23:00:00\n",
            "Freq: H\n",
            "Data columns (total 1 columns):\n",
            " #   Column      Non-Null Count  Dtype\n",
            "---  ------      --------------  -----\n",
            " 0   num_orders  4416 non-null   int64\n",
            "dtypes: int64(1)\n",
            "memory usage: 69.0 KB\n"
          ]
        }
      ],
      "source": [
        "d.info()"
      ]
    },
    {
      "cell_type": "markdown",
      "metadata": {
        "id": "aiywVy8nzPxZ"
      },
      "source": [
        "## Анализ"
      ]
    },
    {
      "cell_type": "markdown",
      "metadata": {
        "id": "Q_R_3ea9zPxZ"
      },
      "source": [
        "Посмотрим на такие характеристики временного ряда, как тренд, сезонность и остаток."
      ]
    },
    {
      "cell_type": "code",
      "execution_count": 10,
      "metadata": {
        "scrolled": false,
        "colab": {
          "base_uri": "https://localhost:8080/",
          "height": 926
        },
        "id": "FYbmBFVSzPxZ",
        "outputId": "0c814c4a-09a5-4145-8306-98bacead230f"
      },
      "outputs": [
        {
          "output_type": "display_data",
          "data": {
            "text/plain": [
              "<Figure size 1000x1200 with 3 Axes>"
            ],
            "image/png": "[encoded data removed]"
          },
          "metadata": {}
        }
      ],
      "source": [
        "dd = seasonal_decompose(d) \n",
        "\n",
        "plt.figure(figsize=(10, 12))\n",
        "plt.subplot(311)\n",
        "dd.trend.plot(ax=plt.gca())\n",
        "plt.title('Тренд')\n",
        "plt.subplot(312)\n",
        "dd.seasonal.plot(ax=plt.gca())\n",
        "plt.title('Сезонность')\n",
        "plt.subplot(313)\n",
        "dd.resid.plot(ax=plt.gca())\n",
        "plt.title('Остатки')\n",
        "plt.tight_layout();"
      ]
    },
    {
      "cell_type": "markdown",
      "metadata": {
        "id": "XEhYJT_jzPxa"
      },
      "source": [
        "На графике виден восходящий тренд. Посмотрим на сезонность на меньшем интервале. Возьмем неделю в марте."
      ]
    },
    {
      "cell_type": "code",
      "execution_count": 11,
      "metadata": {
        "id": "21njGK1gzPxa"
      },
      "outputs": [],
      "source": [
        "dd_week = seasonal_decompose(d['2018-03-01':'2018-03-07']) "
      ]
    },
    {
      "cell_type": "code",
      "execution_count": 12,
      "metadata": {
        "scrolled": true,
        "colab": {
          "base_uri": "https://localhost:8080/",
          "height": 504
        },
        "id": "IpLE1wkYzPxa",
        "outputId": "a8183e2b-29f2-4699-bd78-867a745eec4c"
      },
      "outputs": [
        {
          "output_type": "display_data",
          "data": {
            "text/plain": [
              "<Figure size 640x480 with 1 Axes>"
            ],
            "image/png": "[encoded data removed]"
          },
          "metadata": {}
        }
      ],
      "source": [
        "dd_week.seasonal.plot()\n",
        "plt.title('Сезонность за неделю (по дням)');"
      ]
    },
    {
      "cell_type": "code",
      "execution_count": 13,
      "metadata": {
        "scrolled": false,
        "colab": {
          "base_uri": "https://localhost:8080/",
          "height": 504
        },
        "id": "TPMMWOeZzPxb",
        "outputId": "1ed883c2-f219-4daf-dda6-da34dd790c03"
      },
      "outputs": [
        {
          "output_type": "display_data",
          "data": {
            "text/plain": [
              "<Figure size 640x480 with 1 Axes>"
            ],
            "image/png": "[encoded data removed]"
          },
          "metadata": {}
        }
      ],
      "source": [
        "dd_day = seasonal_decompose(d['2018-03-01':'2018-03-02'])\n",
        "dd_day.seasonal.plot()\n",
        "plt.title('Сезонность за день (по часам)');\n"
      ]
    },
    {
      "cell_type": "markdown",
      "metadata": {
        "id": "7TuJzV-CzPxb"
      },
      "source": [
        "На графиках видно, что у нашего ряда есть стационарные сезонные колебания в течение дня — в начале дня дня (рано утром) спрос на такси падает, затем, к полудню, растет, есть пиковый спрос в вечернее время (около 22:00) и сразу после полуночи, затем, ночью, спрос падает и достигает минимума в районе 6 часов утра."
      ]
    },
    {
      "cell_type": "markdown",
      "metadata": {
        "id": "BdM2WU1ezPxc"
      },
      "source": [
        "## Обучение"
      ]
    },
    {
      "cell_type": "markdown",
      "metadata": {
        "id": "vI1XoOl3zPxc"
      },
      "source": [
        "### Подготовка данных"
      ]
    },
    {
      "cell_type": "markdown",
      "metadata": {
        "id": "3glgyppbzPxc"
      },
      "source": [
        "Сначала извлечем нужные признаки из данных — месяц, день, день недели, скользящее среднее и лаги. Максимальный лаг возьмем равным неделе, а скользящее среднее будем считать в интервале 24 часа."
      ]
    },
    {
      "cell_type": "code",
      "execution_count": 14,
      "metadata": {
        "id": "RXtPOv7vzPxd"
      },
      "outputs": [],
      "source": [
        "def make_features(data, max_lag, rolling_mean_size):\n",
        "    data['dayofweek'] = data.index.dayofweek\n",
        "    data['hour'] = data.index.hour\n",
        "    \n",
        "    for lag in range(1, max_lag + 1):\n",
        "        data['lag_{}'.format(lag)] = data['num_orders'].shift(lag)\n",
        "\n",
        "    data['rolling_mean'] = data['num_orders'].shift().rolling(rolling_mean_size).mean()\n",
        "\n"
      ]
    },
    {
      "cell_type": "code",
      "execution_count": 15,
      "metadata": {
        "colab": {
          "base_uri": "https://localhost:8080/",
          "height": 455
        },
        "id": "TBL6r-ZRzPxr",
        "outputId": "554ee04e-50f7-4ef6-e173-2701f22faad9"
      },
      "outputs": [
        {
          "output_type": "execute_result",
          "data": {
            "text/plain": [
              "                     num_orders  dayofweek  hour  lag_1  rolling_mean\n",
              "datetime                                                             \n",
              "2018-03-01 00:00:00         124          3     0    NaN           NaN\n",
              "2018-03-01 01:00:00          85          3     1  124.0           NaN\n",
              "2018-03-01 02:00:00          71          3     2   85.0           NaN\n",
              "2018-03-01 03:00:00          66          3     3   71.0           NaN\n",
              "2018-03-01 04:00:00          43          3     4   66.0           NaN\n",
              "...                         ...        ...   ...    ...           ...\n",
              "2018-08-31 19:00:00         136          4    19  207.0    164.875000\n",
              "2018-08-31 20:00:00         154          4    20  136.0    167.541667\n",
              "2018-08-31 21:00:00         159          4    21  154.0    168.041667\n",
              "2018-08-31 22:00:00         223          4    22  159.0    166.416667\n",
              "2018-08-31 23:00:00         205          4    23  223.0    169.125000\n",
              "\n",
              "[4416 rows x 5 columns]"
            ],
            "text/html": [
              "\n",
              "  <div id=\"df-446970b7-ca27-4c35-970c-71d931b6f055\">\n",
              "    <div class=\"colab-df-container\">\n",
              "      <div>\n",
              "<style scoped>\n",
              "    .dataframe tbody tr th:only-of-type {\n",
              "        vertical-align: middle;\n",
              "    }\n",
              "\n",
              "    .dataframe tbody tr th {\n",
              "        vertical-align: top;\n",
              "    }\n",
              "\n",
              "    .dataframe thead th {\n",
              "        text-align: right;\n",
              "    }\n",
              "</style>\n",
              "<table border=\"1\" class=\"dataframe\">\n",
              "  <thead>\n",
              "    <tr style=\"text-align: right;\">\n",
              "      <th></th>\n",
              "      <th>num_orders</th>\n",
              "      <th>dayofweek</th>\n",
              "      <th>hour</th>\n",
              "      <th>lag_1</th>\n",
              "      <th>rolling_mean</th>\n",
              "    </tr>\n",
              "    <tr>\n",
              "      <th>datetime</th>\n",
              "      <th></th>\n",
              "      <th></th>\n",
              "      <th></th>\n",
              "      <th></th>\n",
              "      <th></th>\n",
              "    </tr>\n",
              "  </thead>\n",
              "  <tbody>\n",
              "    <tr>\n",
              "      <th>2018-03-01 00:00:00</th>\n",
              "      <td>124</td>\n",
              "      <td>3</td>\n",
              "      <td>0</td>\n",
              "      <td>NaN</td>\n",
              "      <td>NaN</td>\n",
              "    </tr>\n",
              "    <tr>\n",
              "      <th>2018-03-01 01:00:00</th>\n",
              "      <td>85</td>\n",
              "      <td>3</td>\n",
              "      <td>1</td>\n",
              "      <td>124.0</td>\n",
              "      <td>NaN</td>\n",
              "    </tr>\n",
              "    <tr>\n",
              "      <th>2018-03-01 02:00:00</th>\n",
              "      <td>71</td>\n",
              "      <td>3</td>\n",
              "      <td>2</td>\n",
              "      <td>85.0</td>\n",
              "      <td>NaN</td>\n",
              "    </tr>\n",
              "    <tr>\n",
              "      <th>2018-03-01 03:00:00</th>\n",
              "      <td>66</td>\n",
              "      <td>3</td>\n",
              "      <td>3</td>\n",
              "      <td>71.0</td>\n",
              "      <td>NaN</td>\n",
              "    </tr>\n",
              "    <tr>\n",
              "      <th>2018-03-01 04:00:00</th>\n",
              "      <td>43</td>\n",
              "      <td>3</td>\n",
              "      <td>4</td>\n",
              "      <td>66.0</td>\n",
              "      <td>NaN</td>\n",
              "    </tr>\n",
              "    <tr>\n",
              "      <th>...</th>\n",
              "      <td>...</td>\n",
              "      <td>...</td>\n",
              "      <td>...</td>\n",
              "      <td>...</td>\n",
              "      <td>...</td>\n",
              "    </tr>\n",
              "    <tr>\n",
              "      <th>2018-08-31 19:00:00</th>\n",
              "      <td>136</td>\n",
              "      <td>4</td>\n",
              "      <td>19</td>\n",
              "      <td>207.0</td>\n",
              "      <td>164.875000</td>\n",
              "    </tr>\n",
              "    <tr>\n",
              "      <th>2018-08-31 20:00:00</th>\n",
              "      <td>154</td>\n",
              "      <td>4</td>\n",
              "      <td>20</td>\n",
              "      <td>136.0</td>\n",
              "      <td>167.541667</td>\n",
              "    </tr>\n",
              "    <tr>\n",
              "      <th>2018-08-31 21:00:00</th>\n",
              "      <td>159</td>\n",
              "      <td>4</td>\n",
              "      <td>21</td>\n",
              "      <td>154.0</td>\n",
              "      <td>168.041667</td>\n",
              "    </tr>\n",
              "    <tr>\n",
              "      <th>2018-08-31 22:00:00</th>\n",
              "      <td>223</td>\n",
              "      <td>4</td>\n",
              "      <td>22</td>\n",
              "      <td>159.0</td>\n",
              "      <td>166.416667</td>\n",
              "    </tr>\n",
              "    <tr>\n",
              "      <th>2018-08-31 23:00:00</th>\n",
              "      <td>205</td>\n",
              "      <td>4</td>\n",
              "      <td>23</td>\n",
              "      <td>223.0</td>\n",
              "      <td>169.125000</td>\n",
              "    </tr>\n",
              "  </tbody>\n",
              "</table>\n",
              "<p>4416 rows × 5 columns</p>\n",
              "</div>\n",
              "      <button class=\"colab-df-convert\" onclick=\"convertToInteractive('df-446970b7-ca27-4c35-970c-71d931b6f055')\"\n",
              "              title=\"Convert this dataframe to an interactive table.\"\n",
              "              style=\"display:none;\">\n",
              "        \n",
              "  <svg xmlns=\"http://www.w3.org/2000/svg\" height=\"24px\"viewBox=\"0 0 24 24\"\n",
              "       width=\"24px\">\n",
              "    <path d=\"M0 0h24v24H0V0z\" fill=\"none\"/>\n",
              "    <path d=\"M18.56 5.44l.94 2.06.94-2.06 2.06-.94-2.06-.94-.94-2.06-.94 2.06-2.06.94zm-11 1L8.5 8.5l.94-2.06 2.06-.94-2.06-.94L8.5 2.5l-.94 2.06-2.06.94zm10 10l.94 2.06.94-2.06 2.06-.94-2.06-.94-.94-2.06-.94 2.06-2.06.94z\"/><path d=\"M17.41 7.96l-1.37-1.37c-.4-.4-.92-.59-1.43-.59-.52 0-1.04.2-1.43.59L10.3 9.45l-7.72 7.72c-.78.78-.78 2.05 0 2.83L4 21.41c.39.39.9.59 1.41.59.51 0 1.02-.2 1.41-.59l7.78-7.78 2.81-2.81c.8-.78.8-2.07 0-2.86zM5.41 20L4 18.59l7.72-7.72 1.47 1.35L5.41 20z\"/>\n",
              "  </svg>\n",
              "      </button>\n",
              "      \n",
              "  <style>\n",
              "    .colab-df-container {\n",
              "      display:flex;\n",
              "      flex-wrap:wrap;\n",
              "      gap: 12px;\n",
              "    }\n",
              "\n",
              "    .colab-df-convert {\n",
              "      background-color: #E8F0FE;\n",
              "      border: none;\n",
              "      border-radius: 50%;\n",
              "      cursor: pointer;\n",
              "      display: none;\n",
              "      fill: #1967D2;\n",
              "      height: 32px;\n",
              "      padding: 0 0 0 0;\n",
              "      width: 32px;\n",
              "    }\n",
              "\n",
              "    .colab-df-convert:hover {\n",
              "      background-color: #E2EBFA;\n",
              "      box-shadow: 0px 1px 2px rgba(60, 64, 67, 0.3), 0px 1px 3px 1px rgba(60, 64, 67, 0.15);\n",
              "      fill: #174EA6;\n",
              "    }\n",
              "\n",
              "    [theme=dark] .colab-df-convert {\n",
              "      background-color: #3B4455;\n",
              "      fill: #D2E3FC;\n",
              "    }\n",
              "\n",
              "    [theme=dark] .colab-df-convert:hover {\n",
              "      background-color: #434B5C;\n",
              "      box-shadow: 0px 1px 3px 1px rgba(0, 0, 0, 0.15);\n",
              "      filter: drop-shadow(0px 1px 2px rgba(0, 0, 0, 0.3));\n",
              "      fill: #FFFFFF;\n",
              "    }\n",
              "  </style>\n",
              "\n",
              "      <script>\n",
              "        const buttonEl =\n",
              "          document.querySelector('#df-446970b7-ca27-4c35-970c-71d931b6f055 button.colab-df-convert');\n",
              "        buttonEl.style.display =\n",
              "          google.colab.kernel.accessAllowed ? 'block' : 'none';\n",
              "\n",
              "        async function convertToInteractive(key) {\n",
              "          const element = document.querySelector('#df-446970b7-ca27-4c35-970c-71d931b6f055');\n",
              "          const dataTable =\n",
              "            await google.colab.kernel.invokeFunction('convertToInteractive',\n",
              "                                                     [key], {});\n",
              "          if (!dataTable) return;\n",
              "\n",
              "          const docLinkHtml = 'Like what you see? Visit the ' +\n",
              "            '<a target=\"_blank\" href=https://colab.research.google.com/notebooks/data_table.ipynb>data table notebook</a>'\n",
              "            + ' to learn more about interactive tables.';\n",
              "          element.innerHTML = '';\n",
              "          dataTable['output_type'] = 'display_data';\n",
              "          await google.colab.output.renderOutput(dataTable, element);\n",
              "          const docLink = document.createElement('div');\n",
              "          docLink.innerHTML = docLinkHtml;\n",
              "          element.appendChild(docLink);\n",
              "        }\n",
              "      </script>\n",
              "    </div>\n",
              "  </div>\n",
              "  "
            ]
          },
          "metadata": {},
          "execution_count": 15
        }
      ],
      "source": [
        "new_d = d.copy()\n",
        "make_features(new_d, 1, 24)\n",
        "new_d"
      ]
    },
    {
      "cell_type": "code",
      "execution_count": 16,
      "metadata": {
        "id": "RTG07MSmzPxs"
      },
      "outputs": [],
      "source": [
        "# Разбиваем данные на обучающую и тестовую выборки\n",
        "train, test = train_test_split(new_d, shuffle=False, test_size=0.1)\n",
        "\n",
        "# Удаляем пропуски, образовавшиеся после сдвига\n",
        "train = train.dropna()\n",
        "\n",
        "# Выделяем в обучающих и тестовых данных фичи и целевой признак\n",
        "features_train = train.drop('num_orders', axis=1)\n",
        "target_train = train['num_orders']\n",
        "features_test = test.drop('num_orders', axis=1)\n",
        "target_test = test['num_orders']"
      ]
    },
    {
      "cell_type": "markdown",
      "metadata": {
        "id": "o4aSaScrzPxt"
      },
      "source": [
        "### Линейная регрессия\n"
      ]
    },
    {
      "cell_type": "markdown",
      "metadata": {
        "id": "8NC6r49DzPxt"
      },
      "source": [
        "Обучим модель линейной регрессии. Для кросс-валидации будем использовать метод time series split, поскольку он учитывает особенности работы с временным рядом (значения из будущего не должны попадать в валидационный набор)."
      ]
    },
    {
      "cell_type": "code",
      "execution_count": 17,
      "metadata": {
        "colab": {
          "base_uri": "https://localhost:8080/"
        },
        "id": "3yK5ASzVzPxt",
        "outputId": "43835e15-d6f4-4ee8-ca3d-8d1da5e8ebeb"
      },
      "outputs": [
        {
          "output_type": "stream",
          "name": "stdout",
          "text": [
            "RMSE линейной регрессии: 31.366763577025026\n"
          ]
        }
      ],
      "source": [
        "lr_model = LinearRegression()\n",
        "lr_params = {}\n",
        "\n",
        "lrm_rs = RandomizedSearchCV(lr_model, \n",
        "                            lr_params, \n",
        "                            scoring='neg_root_mean_squared_error', \n",
        "                            random_state=1508, \n",
        "                            cv=TimeSeriesSplit(n_splits=8))\n",
        "\n",
        "lrm_rs.fit(features_train, target_train)\n",
        "print('RMSE линейной регрессии:', (rmse_lrm := abs(lrm_rs.best_score_)))"
      ]
    },
    {
      "cell_type": "markdown",
      "metadata": {
        "id": "-1RaFrYkzPxu"
      },
      "source": [
        "Мы получили значение 31,4 у метрики RMSE на линейной регрессии."
      ]
    },
    {
      "cell_type": "markdown",
      "metadata": {
        "id": "eBYT-f6xzPxv"
      },
      "source": [
        "### Решающее дерево"
      ]
    },
    {
      "cell_type": "markdown",
      "metadata": {
        "id": "ABZp9BvxzPxv"
      },
      "source": [
        "Обучим модель дерева. Подберем оптимальные гиперпараметры с помощью randomized search."
      ]
    },
    {
      "cell_type": "code",
      "execution_count": 18,
      "metadata": {
        "colab": {
          "base_uri": "https://localhost:8080/"
        },
        "id": "6aFf8guSzPxv",
        "outputId": "4f1c9dc5-fc00-4c0c-b485-7561f4494d35"
      },
      "outputs": [
        {
          "output_type": "stream",
          "name": "stdout",
          "text": [
            "RMSE дерева: 29.405411365954755\n"
          ]
        }
      ],
      "source": [
        "tree = DecisionTreeRegressor(random_state=1508)\n",
        "tree_params = {'max_depth': range(2, 100, 10),\n",
        "              'min_samples_split': range(2, 10, 2)}\n",
        "\n",
        "tree_rs = RandomizedSearchCV(tree, \n",
        "                            tree_params, \n",
        "                            scoring='neg_root_mean_squared_error', \n",
        "                            random_state=1508, \n",
        "                            cv=TimeSeriesSplit(n_splits=8))\n",
        "\n",
        "tree_rs.fit(features_train, target_train)\n",
        "print('RMSE дерева:', (rmse_tree := abs(tree_rs.best_score_)))"
      ]
    },
    {
      "cell_type": "markdown",
      "metadata": {
        "id": "8wKB1FZPzPxw"
      },
      "source": [
        "Значение RMSE у модели решающего дерева ниже, чем у линейной регрессии, — 29,4."
      ]
    },
    {
      "cell_type": "markdown",
      "metadata": {
        "id": "OxfYeTTQzPxw"
      },
      "source": [
        "### CatBoost "
      ]
    },
    {
      "cell_type": "markdown",
      "metadata": {
        "id": "9wjRk7C7zPxw"
      },
      "source": [
        "Обучим модель CatBoost. Также подберем оптимальные гиперпараметры с помощью randomized search."
      ]
    },
    {
      "cell_type": "code",
      "execution_count": 19,
      "metadata": {
        "scrolled": true,
        "colab": {
          "base_uri": "https://localhost:8080/",
          "height": 153
        },
        "id": "ekvlDTkjzPxx",
        "outputId": "abb1d837-3583-4cc8-ffda-43e305482f40"
      },
      "outputs": [
        {
          "output_type": "stream",
          "name": "stdout",
          "text": [
            "CPU times: user 9min 22s, sys: 6min 23s, total: 15min 46s\n",
            "Wall time: 11min 7s\n"
          ]
        },
        {
          "output_type": "execute_result",
          "data": {
            "text/plain": [
              "RandomizedSearchCV(cv=TimeSeriesSplit(gap=0, max_train_size=None, n_splits=8, test_size=None),\n",
              "                   estimator=<catboost.core.CatBoostRegressor object at 0x7f7d0b00b3a0>,\n",
              "                   param_distributions={'max_depth': [10, 15, 25],\n",
              "                                        'n_estimators': range(25, 100, 10)},\n",
              "                   random_state=1508, scoring='neg_root_mean_squared_error')"
            ],
            "text/html": [
              "<style>#sk-container-id-1 {color: black;background-color: white;}#sk-container-id-1 pre{padding: 0;}#sk-container-id-1 div.sk-toggleable {background-color: white;}#sk-container-id-1 label.sk-toggleable__label {cursor: pointer;display: block;width: 100%;margin-bottom: 0;padding: 0.3em;box-sizing: border-box;text-align: center;}#sk-container-id-1 label.sk-toggleable__label-arrow:before {content: \"▸\";float: left;margin-right: 0.25em;color: #696969;}#sk-container-id-1 label.sk-toggleable__label-arrow:hover:before {color: black;}#sk-container-id-1 div.sk-estimator:hover label.sk-toggleable__label-arrow:before {color: black;}#sk-container-id-1 div.sk-toggleable__content {max-height: 0;max-width: 0;overflow: hidden;text-align: left;background-color: #f0f8ff;}#sk-container-id-1 div.sk-toggleable__content pre {margin: 0.2em;color: black;border-radius: 0.25em;background-color: #f0f8ff;}#sk-container-id-1 input.sk-toggleable__control:checked~div.sk-toggleable__content {max-height: 200px;max-width: 100%;overflow: auto;}#sk-container-id-1 input.sk-toggleable__control:checked~label.sk-toggleable__label-arrow:before {content: \"▾\";}#sk-container-id-1 div.sk-estimator input.sk-toggleable__control:checked~label.sk-toggleable__label {background-color: #d4ebff;}#sk-container-id-1 div.sk-label input.sk-toggleable__control:checked~label.sk-toggleable__label {background-color: #d4ebff;}#sk-container-id-1 input.sk-hidden--visually {border: 0;clip: rect(1px 1px 1px 1px);clip: rect(1px, 1px, 1px, 1px);height: 1px;margin: -1px;overflow: hidden;padding: 0;position: absolute;width: 1px;}#sk-container-id-1 div.sk-estimator {font-family: monospace;background-color: #f0f8ff;border: 1px dotted black;border-radius: 0.25em;box-sizing: border-box;margin-bottom: 0.5em;}#sk-container-id-1 div.sk-estimator:hover {background-color: #d4ebff;}#sk-container-id-1 div.sk-parallel-item::after {content: \"\";width: 100%;border-bottom: 1px solid gray;flex-grow: 1;}#sk-container-id-1 div.sk-label:hover label.sk-toggleable__label {background-color: #d4ebff;}#sk-container-id-1 div.sk-serial::before {content: \"\";position: absolute;border-left: 1px solid gray;box-sizing: border-box;top: 0;bottom: 0;left: 50%;z-index: 0;}#sk-container-id-1 div.sk-serial {display: flex;flex-direction: column;align-items: center;background-color: white;padding-right: 0.2em;padding-left: 0.2em;position: relative;}#sk-container-id-1 div.sk-item {position: relative;z-index: 1;}#sk-container-id-1 div.sk-parallel {display: flex;align-items: stretch;justify-content: center;background-color: white;position: relative;}#sk-container-id-1 div.sk-item::before, #sk-container-id-1 div.sk-parallel-item::before {content: \"\";position: absolute;border-left: 1px solid gray;box-sizing: border-box;top: 0;bottom: 0;left: 50%;z-index: -1;}#sk-container-id-1 div.sk-parallel-item {display: flex;flex-direction: column;z-index: 1;position: relative;background-color: white;}#sk-container-id-1 div.sk-parallel-item:first-child::after {align-self: flex-end;width: 50%;}#sk-container-id-1 div.sk-parallel-item:last-child::after {align-self: flex-start;width: 50%;}#sk-container-id-1 div.sk-parallel-item:only-child::after {width: 0;}#sk-container-id-1 div.sk-dashed-wrapped {border: 1px dashed gray;margin: 0 0.4em 0.5em 0.4em;box-sizing: border-box;padding-bottom: 0.4em;background-color: white;}#sk-container-id-1 div.sk-label label {font-family: monospace;font-weight: bold;display: inline-block;line-height: 1.2em;}#sk-container-id-1 div.sk-label-container {text-align: center;}#sk-container-id-1 div.sk-container {/* jupyter's `normalize.less` sets `[hidden] { display: none; }` but bootstrap.min.css set `[hidden] { display: none !important; }` so we also need the `!important` here to be able to override the default hidden behavior on the sphinx rendered scikit-learn.org. See: https://github.com/scikit-learn/scikit-learn/issues/21755 */display: inline-block !important;position: relative;}#sk-container-id-1 div.sk-text-repr-fallback {display: none;}</style><div id=\"sk-container-id-1\" class=\"sk-top-container\"><div class=\"sk-text-repr-fallback\"><pre>RandomizedSearchCV(cv=TimeSeriesSplit(gap=0, max_train_size=None, n_splits=8, test_size=None),\n",
              "                   estimator=&lt;catboost.core.CatBoostRegressor object at 0x7f7d0b00b3a0&gt;,\n",
              "                   param_distributions={&#x27;max_depth&#x27;: [10, 15, 25],\n",
              "                                        &#x27;n_estimators&#x27;: range(25, 100, 10)},\n",
              "                   random_state=1508, scoring=&#x27;neg_root_mean_squared_error&#x27;)</pre><b>In a Jupyter environment, please rerun this cell to show the HTML representation or trust the notebook. <br />On GitHub, the HTML representation is unable to render, please try loading this page with nbviewer.org.</b></div><div class=\"sk-container\" hidden><div class=\"sk-item sk-dashed-wrapped\"><div class=\"sk-label-container\"><div class=\"sk-label sk-toggleable\"><input class=\"sk-toggleable__control sk-hidden--visually\" id=\"sk-estimator-id-1\" type=\"checkbox\" ><label for=\"sk-estimator-id-1\" class=\"sk-toggleable__label sk-toggleable__label-arrow\">RandomizedSearchCV</label><div class=\"sk-toggleable__content\"><pre>RandomizedSearchCV(cv=TimeSeriesSplit(gap=0, max_train_size=None, n_splits=8, test_size=None),\n",
              "                   estimator=&lt;catboost.core.CatBoostRegressor object at 0x7f7d0b00b3a0&gt;,\n",
              "                   param_distributions={&#x27;max_depth&#x27;: [10, 15, 25],\n",
              "                                        &#x27;n_estimators&#x27;: range(25, 100, 10)},\n",
              "                   random_state=1508, scoring=&#x27;neg_root_mean_squared_error&#x27;)</pre></div></div></div><div class=\"sk-parallel\"><div class=\"sk-parallel-item\"><div class=\"sk-item\"><div class=\"sk-label-container\"><div class=\"sk-label sk-toggleable\"><input class=\"sk-toggleable__control sk-hidden--visually\" id=\"sk-estimator-id-2\" type=\"checkbox\" ><label for=\"sk-estimator-id-2\" class=\"sk-toggleable__label sk-toggleable__label-arrow\">estimator: CatBoostRegressor</label><div class=\"sk-toggleable__content\"><pre>&lt;catboost.core.CatBoostRegressor object at 0x7f7d0b00b3a0&gt;</pre></div></div></div><div class=\"sk-serial\"><div class=\"sk-item\"><div class=\"sk-estimator sk-toggleable\"><input class=\"sk-toggleable__control sk-hidden--visually\" id=\"sk-estimator-id-3\" type=\"checkbox\" ><label for=\"sk-estimator-id-3\" class=\"sk-toggleable__label sk-toggleable__label-arrow\">CatBoostRegressor</label><div class=\"sk-toggleable__content\"><pre>&lt;catboost.core.CatBoostRegressor object at 0x7f7d0b00b3a0&gt;</pre></div></div></div></div></div></div></div></div></div></div>"
            ]
          },
          "metadata": {},
          "execution_count": 19
        }
      ],
      "source": [
        "%%time\n",
        "catm = CatBoostRegressor(random_state=1508)\n",
        "\n",
        "catm_params = {'n_estimators': range(25, 100, 10),\n",
        "               'max_depth': [10, 15, 25]}\n",
        "\n",
        "catm_rs = RandomizedSearchCV(catm, \n",
        "                             catm_params, \n",
        "                             scoring='neg_root_mean_squared_error', \n",
        "                             random_state=1508, \n",
        "                             cv=TimeSeriesSplit(n_splits=8))\n",
        "\n",
        "catm_rs.fit(features_train, target_train, verbose=False)"
      ]
    },
    {
      "cell_type": "code",
      "execution_count": 20,
      "metadata": {
        "id": "PYKZBBqbzPxx"
      },
      "outputs": [],
      "source": [
        "rmse_cat = abs(catm_rs.best_score_)"
      ]
    },
    {
      "cell_type": "markdown",
      "metadata": {
        "id": "YmW1tR5XzPxy"
      },
      "source": [
        "RMSE модели CatBoost меньше, чем у леса — 25."
      ]
    },
    {
      "cell_type": "code",
      "execution_count": 21,
      "metadata": {
        "colab": {
          "base_uri": "https://localhost:8080/"
        },
        "id": "5VS0DYrjzPxy",
        "outputId": "51118150-76b0-4c94-83aa-0ad53c7cf40d"
      },
      "outputs": [
        {
          "output_type": "execute_result",
          "data": {
            "text/plain": [
              "{'n_estimators': 55, 'max_depth': 10}"
            ]
          },
          "metadata": {},
          "execution_count": 21
        }
      ],
      "source": [
        "catm_rs.best_params_"
      ]
    },
    {
      "cell_type": "markdown",
      "metadata": {
        "id": "68I7srUzzPxz"
      },
      "source": [
        "### Вывод по разделу"
      ]
    },
    {
      "cell_type": "code",
      "execution_count": 22,
      "metadata": {
        "colab": {
          "base_uri": "https://localhost:8080/",
          "height": 143
        },
        "id": "5wQgxtbNzPxz",
        "outputId": "df2eb8e8-d7fa-41cd-f5b5-4a38cc0c8095"
      },
      "outputs": [
        {
          "output_type": "execute_result",
          "data": {
            "text/plain": [
              "                         RMSE\n",
              "Линейная регрессия  31.366764\n",
              "Дерево              29.405411\n",
              "CatBoost            25.069151"
            ],
            "text/html": [
              "\n",
              "  <div id=\"df-bd7cdd95-81ac-48c3-aef1-9c37b0e9e35a\">\n",
              "    <div class=\"colab-df-container\">\n",
              "      <div>\n",
              "<style scoped>\n",
              "    .dataframe tbody tr th:only-of-type {\n",
              "        vertical-align: middle;\n",
              "    }\n",
              "\n",
              "    .dataframe tbody tr th {\n",
              "        vertical-align: top;\n",
              "    }\n",
              "\n",
              "    .dataframe thead th {\n",
              "        text-align: right;\n",
              "    }\n",
              "</style>\n",
              "<table border=\"1\" class=\"dataframe\">\n",
              "  <thead>\n",
              "    <tr style=\"text-align: right;\">\n",
              "      <th></th>\n",
              "      <th>RMSE</th>\n",
              "    </tr>\n",
              "  </thead>\n",
              "  <tbody>\n",
              "    <tr>\n",
              "      <th>Линейная регрессия</th>\n",
              "      <td>31.366764</td>\n",
              "    </tr>\n",
              "    <tr>\n",
              "      <th>Дерево</th>\n",
              "      <td>29.405411</td>\n",
              "    </tr>\n",
              "    <tr>\n",
              "      <th>CatBoost</th>\n",
              "      <td>25.069151</td>\n",
              "    </tr>\n",
              "  </tbody>\n",
              "</table>\n",
              "</div>\n",
              "      <button class=\"colab-df-convert\" onclick=\"convertToInteractive('df-bd7cdd95-81ac-48c3-aef1-9c37b0e9e35a')\"\n",
              "              title=\"Convert this dataframe to an interactive table.\"\n",
              "              style=\"display:none;\">\n",
              "        \n",
              "  <svg xmlns=\"http://www.w3.org/2000/svg\" height=\"24px\"viewBox=\"0 0 24 24\"\n",
              "       width=\"24px\">\n",
              "    <path d=\"M0 0h24v24H0V0z\" fill=\"none\"/>\n",
              "    <path d=\"M18.56 5.44l.94 2.06.94-2.06 2.06-.94-2.06-.94-.94-2.06-.94 2.06-2.06.94zm-11 1L8.5 8.5l.94-2.06 2.06-.94-2.06-.94L8.5 2.5l-.94 2.06-2.06.94zm10 10l.94 2.06.94-2.06 2.06-.94-2.06-.94-.94-2.06-.94 2.06-2.06.94z\"/><path d=\"M17.41 7.96l-1.37-1.37c-.4-.4-.92-.59-1.43-.59-.52 0-1.04.2-1.43.59L10.3 9.45l-7.72 7.72c-.78.78-.78 2.05 0 2.83L4 21.41c.39.39.9.59 1.41.59.51 0 1.02-.2 1.41-.59l7.78-7.78 2.81-2.81c.8-.78.8-2.07 0-2.86zM5.41 20L4 18.59l7.72-7.72 1.47 1.35L5.41 20z\"/>\n",
              "  </svg>\n",
              "      </button>\n",
              "      \n",
              "  <style>\n",
              "    .colab-df-container {\n",
              "      display:flex;\n",
              "      flex-wrap:wrap;\n",
              "      gap: 12px;\n",
              "    }\n",
              "\n",
              "    .colab-df-convert {\n",
              "      background-color: #E8F0FE;\n",
              "      border: none;\n",
              "      border-radius: 50%;\n",
              "      cursor: pointer;\n",
              "      display: none;\n",
              "      fill: #1967D2;\n",
              "      height: 32px;\n",
              "      padding: 0 0 0 0;\n",
              "      width: 32px;\n",
              "    }\n",
              "\n",
              "    .colab-df-convert:hover {\n",
              "      background-color: #E2EBFA;\n",
              "      box-shadow: 0px 1px 2px rgba(60, 64, 67, 0.3), 0px 1px 3px 1px rgba(60, 64, 67, 0.15);\n",
              "      fill: #174EA6;\n",
              "    }\n",
              "\n",
              "    [theme=dark] .colab-df-convert {\n",
              "      background-color: #3B4455;\n",
              "      fill: #D2E3FC;\n",
              "    }\n",
              "\n",
              "    [theme=dark] .colab-df-convert:hover {\n",
              "      background-color: #434B5C;\n",
              "      box-shadow: 0px 1px 3px 1px rgba(0, 0, 0, 0.15);\n",
              "      filter: drop-shadow(0px 1px 2px rgba(0, 0, 0, 0.3));\n",
              "      fill: #FFFFFF;\n",
              "    }\n",
              "  </style>\n",
              "\n",
              "      <script>\n",
              "        const buttonEl =\n",
              "          document.querySelector('#df-bd7cdd95-81ac-48c3-aef1-9c37b0e9e35a button.colab-df-convert');\n",
              "        buttonEl.style.display =\n",
              "          google.colab.kernel.accessAllowed ? 'block' : 'none';\n",
              "\n",
              "        async function convertToInteractive(key) {\n",
              "          const element = document.querySelector('#df-bd7cdd95-81ac-48c3-aef1-9c37b0e9e35a');\n",
              "          const dataTable =\n",
              "            await google.colab.kernel.invokeFunction('convertToInteractive',\n",
              "                                                     [key], {});\n",
              "          if (!dataTable) return;\n",
              "\n",
              "          const docLinkHtml = 'Like what you see? Visit the ' +\n",
              "            '<a target=\"_blank\" href=https://colab.research.google.com/notebooks/data_table.ipynb>data table notebook</a>'\n",
              "            + ' to learn more about interactive tables.';\n",
              "          element.innerHTML = '';\n",
              "          dataTable['output_type'] = 'display_data';\n",
              "          await google.colab.output.renderOutput(dataTable, element);\n",
              "          const docLink = document.createElement('div');\n",
              "          docLink.innerHTML = docLinkHtml;\n",
              "          element.appendChild(docLink);\n",
              "        }\n",
              "      </script>\n",
              "    </div>\n",
              "  </div>\n",
              "  "
            ]
          },
          "metadata": {},
          "execution_count": 22
        }
      ],
      "source": [
        "final_metrics = pd.DataFrame(\n",
        "    data = [rmse_lrm, rmse_tree, rmse_cat],\n",
        "    index = ['Линейная регрессия', 'Дерево', 'CatBoost'],\n",
        "    columns = ['RMSE']\n",
        ")\n",
        "final_metrics"
      ]
    },
    {
      "cell_type": "markdown",
      "metadata": {
        "id": "yPBBG2EdzPxz"
      },
      "source": [
        "Мы обучили три модели — линейную регрессию, дерево и CatBoost. Наилучший результат по метрике RMSE показала модель CatBoost — 25. Эту модель мы и будем проверять на тестовой выборке."
      ]
    },
    {
      "cell_type": "markdown",
      "metadata": {
        "id": "Z01FQDptzPx0"
      },
      "source": [
        "## Тестирование"
      ]
    },
    {
      "cell_type": "markdown",
      "metadata": {
        "id": "CIyQCbwDzPx0"
      },
      "source": [
        "Протестируем нашу лучшую модель."
      ]
    },
    {
      "cell_type": "code",
      "execution_count": 25,
      "metadata": {
        "colab": {
          "base_uri": "https://localhost:8080/"
        },
        "id": "VYvKIqhfzPx1",
        "outputId": "d75478f6-be4a-4328-9442-4b3ed8fa43ab"
      },
      "outputs": [
        {
          "output_type": "stream",
          "name": "stdout",
          "text": [
            "RMSE модели CatBoost на тесте: 44.64644860587923\n"
          ]
        }
      ],
      "source": [
        "test_preds = catm_rs.best_estimator_.predict(features_test)\n",
        "print('RMSE модели CatBoost на тесте:', (mean_squared_error(target_test, test_preds))**0.5)"
      ]
    },
    {
      "cell_type": "markdown",
      "metadata": {
        "id": "0G315tbxzPx1"
      },
      "source": [
        "RMSE модели CatBoost на тестовой выборке — около 45. Поставленная задача выполнена. Визуализируем предсказанные и целевые значения."
      ]
    },
    {
      "cell_type": "code",
      "execution_count": 26,
      "metadata": {
        "id": "dY4H568LzPx1"
      },
      "outputs": [],
      "source": [
        "test_preds=pd.DataFrame(data = test_preds, index = target_test.index)\n"
      ]
    },
    {
      "cell_type": "code",
      "execution_count": 27,
      "metadata": {
        "id": "CBAh8URczPx2"
      },
      "outputs": [],
      "source": [
        "test_preds = test_preds.rename(columns={0:'num_orders'})"
      ]
    },
    {
      "cell_type": "code",
      "execution_count": 28,
      "metadata": {
        "scrolled": false,
        "colab": {
          "base_uri": "https://localhost:8080/",
          "height": 566
        },
        "id": "DqcYkuS3zPx2",
        "outputId": "e84738d8-1413-4204-b7a3-cff357f915d1"
      },
      "outputs": [
        {
          "output_type": "display_data",
          "data": {
            "text/plain": [
              "<Figure size 1500x1000 with 1 Axes>"
            ],
            "image/png": "[encoded data removed]"
          },
          "metadata": {}
        }
      ],
      "source": [
        "plt.figure(figsize=(15,10))\n",
        "sns.lineplot(data=test_preds['num_orders'], label='Предсказания')\n",
        "sns.lineplot(data=target_test.to_frame()['num_orders'], label='Реальные значения')\n",
        "plt.legend()\n",
        "plt.xticks(rotation=90);"
      ]
    },
    {
      "cell_type": "markdown",
      "metadata": {
        "id": "BhVV0pquzPx2"
      },
      "source": [
        "Сократим интервал до недели."
      ]
    },
    {
      "cell_type": "code",
      "execution_count": 29,
      "metadata": {
        "scrolled": false,
        "colab": {
          "base_uri": "https://localhost:8080/",
          "height": 543
        },
        "id": "2PMDCAMMzPx2",
        "outputId": "31eba71e-54b0-4ee3-e1e2-67ce0591ca7f"
      },
      "outputs": [
        {
          "output_type": "display_data",
          "data": {
            "text/plain": [
              "<Figure size 1000x600 with 1 Axes>"
            ],
            "image/png": "[encoded data removed]"
          },
          "metadata": {}
        }
      ],
      "source": [
        "plt.figure(figsize=(10,6))\n",
        "sns.lineplot(data=test_preds.loc['2018-08-14':'2018-08-21', 'num_orders'], label='Предсказания')\n",
        "sns.lineplot(data=target_test.to_frame().loc['2018-08-14':'2018-08-21', 'num_orders'], label='Реальные значения')\n",
        "plt.ylabel('Число заказов')\n",
        "plt.xlabel('Дата')\n",
        "plt.legend()\n",
        "plt.xticks(rotation=90);"
      ]
    },
    {
      "cell_type": "markdown",
      "source": [
        "###Вывод по разделу\n",
        "Модель CatBoost показала на тестовой выборке значение RMSE 45. Поставленная задача выполенена."
      ],
      "metadata": {
        "id": "Pnk5m-5X55Uf"
      }
    }
  ],
  "metadata": {
    "ExecuteTimeLog": [
      {
        "duration": 381,
        "start_time": "2023-02-15T11:09:28.340Z"
      },
      {
        "duration": 143,
        "start_time": "2023-02-15T11:09:36.589Z"
      },
      {
        "duration": 11,
        "start_time": "2023-02-15T11:10:26.522Z"
      },
      {
        "duration": 7,
        "start_time": "2023-02-15T11:13:04.292Z"
      },
      {
        "duration": 39,
        "start_time": "2023-02-15T11:13:13.151Z"
      },
      {
        "duration": 7,
        "start_time": "2023-02-15T11:18:45.662Z"
      },
      {
        "duration": 9,
        "start_time": "2023-02-15T11:23:09.759Z"
      },
      {
        "duration": 5,
        "start_time": "2023-02-15T11:23:20.110Z"
      },
      {
        "duration": 5,
        "start_time": "2023-02-15T11:23:38.587Z"
      },
      {
        "duration": 8,
        "start_time": "2023-02-15T11:25:09.622Z"
      },
      {
        "duration": 63,
        "start_time": "2023-02-15T11:25:14.091Z"
      },
      {
        "duration": 8,
        "start_time": "2023-02-15T11:25:24.197Z"
      },
      {
        "duration": 369,
        "start_time": "2023-02-15T11:28:01.264Z"
      },
      {
        "duration": 40,
        "start_time": "2023-02-15T11:28:01.638Z"
      },
      {
        "duration": 7,
        "start_time": "2023-02-15T11:28:01.679Z"
      },
      {
        "duration": 61,
        "start_time": "2023-02-15T11:28:01.689Z"
      },
      {
        "duration": 10,
        "start_time": "2023-02-15T11:28:01.752Z"
      },
      {
        "duration": 44,
        "start_time": "2023-02-15T11:28:01.764Z"
      },
      {
        "duration": 9,
        "start_time": "2023-02-15T11:29:31.132Z"
      },
      {
        "duration": 10,
        "start_time": "2023-02-15T11:29:32.922Z"
      },
      {
        "duration": 389,
        "start_time": "2023-02-15T11:29:47.323Z"
      },
      {
        "duration": 36,
        "start_time": "2023-02-15T11:29:47.714Z"
      },
      {
        "duration": 7,
        "start_time": "2023-02-15T11:29:47.751Z"
      },
      {
        "duration": 46,
        "start_time": "2023-02-15T11:29:47.759Z"
      },
      {
        "duration": 8,
        "start_time": "2023-02-15T11:29:47.806Z"
      },
      {
        "duration": 6,
        "start_time": "2023-02-15T11:29:47.816Z"
      },
      {
        "duration": 16,
        "start_time": "2023-02-15T11:29:47.823Z"
      },
      {
        "duration": 9,
        "start_time": "2023-02-15T11:29:47.840Z"
      },
      {
        "duration": 680,
        "start_time": "2023-02-15T11:33:36.212Z"
      },
      {
        "duration": 2,
        "start_time": "2023-02-15T11:33:57.734Z"
      },
      {
        "duration": 469,
        "start_time": "2023-02-15T11:36:50.358Z"
      },
      {
        "duration": 134,
        "start_time": "2023-02-15T11:37:32.603Z"
      },
      {
        "duration": 1335,
        "start_time": "2023-02-15T11:37:40.967Z"
      },
      {
        "duration": 40,
        "start_time": "2023-02-15T11:37:42.304Z"
      },
      {
        "duration": 6,
        "start_time": "2023-02-15T11:37:42.346Z"
      },
      {
        "duration": 58,
        "start_time": "2023-02-15T11:37:42.355Z"
      },
      {
        "duration": 11,
        "start_time": "2023-02-15T11:37:42.415Z"
      },
      {
        "duration": 27,
        "start_time": "2023-02-15T11:37:42.428Z"
      },
      {
        "duration": 33,
        "start_time": "2023-02-15T11:37:42.457Z"
      },
      {
        "duration": 19,
        "start_time": "2023-02-15T11:37:42.492Z"
      },
      {
        "duration": 628,
        "start_time": "2023-02-15T14:57:04.175Z"
      },
      {
        "duration": 705,
        "start_time": "2023-02-15T14:57:10.705Z"
      },
      {
        "duration": 863,
        "start_time": "2023-02-15T14:57:22.405Z"
      },
      {
        "duration": 4,
        "start_time": "2023-02-15T15:00:43.095Z"
      },
      {
        "duration": 6,
        "start_time": "2023-02-15T15:01:16.584Z"
      },
      {
        "duration": 9,
        "start_time": "2023-02-15T15:01:26.705Z"
      },
      {
        "duration": 156,
        "start_time": "2023-02-15T15:02:01.645Z"
      },
      {
        "duration": 193,
        "start_time": "2023-02-15T15:02:43.935Z"
      },
      {
        "duration": 180,
        "start_time": "2023-02-15T16:03:41.106Z"
      },
      {
        "duration": 1327,
        "start_time": "2023-02-15T16:04:56.376Z"
      },
      {
        "duration": 1351,
        "start_time": "2023-02-15T16:05:40.104Z"
      },
      {
        "duration": 38,
        "start_time": "2023-02-15T16:05:41.457Z"
      },
      {
        "duration": 7,
        "start_time": "2023-02-15T16:05:41.496Z"
      },
      {
        "duration": 41,
        "start_time": "2023-02-15T16:05:41.504Z"
      },
      {
        "duration": 8,
        "start_time": "2023-02-15T16:05:41.546Z"
      },
      {
        "duration": 7,
        "start_time": "2023-02-15T16:05:41.555Z"
      },
      {
        "duration": 7,
        "start_time": "2023-02-15T16:05:41.564Z"
      },
      {
        "duration": 8,
        "start_time": "2023-02-15T16:05:41.573Z"
      },
      {
        "duration": 826,
        "start_time": "2023-02-15T16:05:41.582Z"
      },
      {
        "duration": 11,
        "start_time": "2023-02-15T16:05:42.410Z"
      },
      {
        "duration": 302,
        "start_time": "2023-02-15T16:05:42.423Z"
      },
      {
        "duration": 1186,
        "start_time": "2023-02-15T16:05:42.727Z"
      },
      {
        "duration": 1438,
        "start_time": "2023-02-15T16:07:15.944Z"
      },
      {
        "duration": 6,
        "start_time": "2023-02-15T16:07:27.189Z"
      },
      {
        "duration": 10,
        "start_time": "2023-02-15T16:07:36.543Z"
      },
      {
        "duration": 15,
        "start_time": "2023-02-15T16:25:05.169Z"
      },
      {
        "duration": 1514,
        "start_time": "2023-02-15T16:25:21.420Z"
      },
      {
        "duration": 38,
        "start_time": "2023-02-15T16:25:22.936Z"
      },
      {
        "duration": 6,
        "start_time": "2023-02-15T16:25:22.976Z"
      },
      {
        "duration": 54,
        "start_time": "2023-02-15T16:25:22.984Z"
      },
      {
        "duration": 8,
        "start_time": "2023-02-15T16:25:23.040Z"
      },
      {
        "duration": 9,
        "start_time": "2023-02-15T16:25:23.049Z"
      },
      {
        "duration": 10,
        "start_time": "2023-02-15T16:25:23.060Z"
      },
      {
        "duration": 9,
        "start_time": "2023-02-15T16:25:23.072Z"
      },
      {
        "duration": 848,
        "start_time": "2023-02-15T16:25:23.083Z"
      },
      {
        "duration": 9,
        "start_time": "2023-02-15T16:25:23.933Z"
      },
      {
        "duration": 117,
        "start_time": "2023-02-15T16:25:23.943Z"
      },
      {
        "duration": 0,
        "start_time": "2023-02-15T16:25:24.061Z"
      },
      {
        "duration": 12,
        "start_time": "2023-02-15T16:26:16.662Z"
      },
      {
        "duration": 227,
        "start_time": "2023-02-15T16:26:49.578Z"
      },
      {
        "duration": 10,
        "start_time": "2023-02-15T16:28:13.239Z"
      },
      {
        "duration": 806,
        "start_time": "2023-02-15T16:28:25.252Z"
      },
      {
        "duration": 130,
        "start_time": "2023-02-15T16:28:52.007Z"
      },
      {
        "duration": 1374,
        "start_time": "2023-02-15T16:30:43.630Z"
      },
      {
        "duration": 38,
        "start_time": "2023-02-15T16:30:45.006Z"
      },
      {
        "duration": 6,
        "start_time": "2023-02-15T16:30:45.046Z"
      },
      {
        "duration": 48,
        "start_time": "2023-02-15T16:30:45.054Z"
      },
      {
        "duration": 8,
        "start_time": "2023-02-15T16:30:45.104Z"
      },
      {
        "duration": 24,
        "start_time": "2023-02-15T16:30:45.114Z"
      },
      {
        "duration": 10,
        "start_time": "2023-02-15T16:30:45.140Z"
      },
      {
        "duration": 21,
        "start_time": "2023-02-15T16:30:45.151Z"
      },
      {
        "duration": 829,
        "start_time": "2023-02-15T16:30:45.175Z"
      },
      {
        "duration": 16,
        "start_time": "2023-02-15T16:30:46.006Z"
      },
      {
        "duration": 234,
        "start_time": "2023-02-15T16:30:46.025Z"
      },
      {
        "duration": 120,
        "start_time": "2023-02-15T16:30:46.261Z"
      },
      {
        "duration": 132,
        "start_time": "2023-02-15T16:30:54.631Z"
      },
      {
        "duration": 113,
        "start_time": "2023-02-15T16:31:32.188Z"
      },
      {
        "duration": 32,
        "start_time": "2023-02-15T17:29:00.403Z"
      },
      {
        "duration": 54,
        "start_time": "2023-02-15T17:29:13.428Z"
      },
      {
        "duration": 4,
        "start_time": "2023-02-15T17:58:44.781Z"
      },
      {
        "duration": 133,
        "start_time": "2023-02-15T17:58:50.402Z"
      },
      {
        "duration": 11,
        "start_time": "2023-02-15T18:01:36.453Z"
      },
      {
        "duration": 25,
        "start_time": "2023-02-15T18:01:47.504Z"
      },
      {
        "duration": 4698,
        "start_time": "2023-02-15T18:07:14.742Z"
      },
      {
        "duration": 25,
        "start_time": "2023-02-15T18:07:43.130Z"
      },
      {
        "duration": 38367,
        "start_time": "2023-02-15T18:08:37.279Z"
      },
      {
        "duration": 98461,
        "start_time": "2023-02-15T18:18:51.114Z"
      },
      {
        "duration": 62107,
        "start_time": "2023-02-15T18:20:56.851Z"
      },
      {
        "duration": 3,
        "start_time": "2023-02-15T18:21:58.960Z"
      },
      {
        "duration": 3,
        "start_time": "2023-02-15T18:22:05.391Z"
      },
      {
        "duration": 103501,
        "start_time": "2023-02-15T18:22:09.868Z"
      },
      {
        "duration": 16669,
        "start_time": "2023-02-15T18:23:53.371Z"
      },
      {
        "duration": 10288,
        "start_time": "2023-02-15T18:24:46.464Z"
      },
      {
        "duration": 7893,
        "start_time": "2023-02-15T18:25:42.782Z"
      },
      {
        "duration": 90,
        "start_time": "2023-02-15T18:26:07.651Z"
      },
      {
        "duration": 1189125,
        "start_time": "2023-02-15T18:26:27.089Z"
      },
      {
        "duration": 1444,
        "start_time": "2023-02-15T18:46:45.427Z"
      },
      {
        "duration": 40,
        "start_time": "2023-02-15T18:46:46.873Z"
      },
      {
        "duration": 7,
        "start_time": "2023-02-15T18:46:46.915Z"
      },
      {
        "duration": 43,
        "start_time": "2023-02-15T18:46:46.923Z"
      },
      {
        "duration": 8,
        "start_time": "2023-02-15T18:46:46.968Z"
      },
      {
        "duration": 8,
        "start_time": "2023-02-15T18:46:46.978Z"
      },
      {
        "duration": 8,
        "start_time": "2023-02-15T18:46:46.987Z"
      },
      {
        "duration": 11,
        "start_time": "2023-02-15T18:46:46.997Z"
      },
      {
        "duration": 850,
        "start_time": "2023-02-15T18:46:47.010Z"
      },
      {
        "duration": 11,
        "start_time": "2023-02-15T18:46:47.862Z"
      },
      {
        "duration": 204,
        "start_time": "2023-02-15T18:46:47.875Z"
      },
      {
        "duration": 4,
        "start_time": "2023-02-15T18:46:48.081Z"
      },
      {
        "duration": 137,
        "start_time": "2023-02-15T18:46:48.086Z"
      },
      {
        "duration": 32,
        "start_time": "2023-02-15T18:46:48.226Z"
      },
      {
        "duration": 19286,
        "start_time": "2023-02-15T18:46:48.260Z"
      },
      {
        "duration": 11,
        "start_time": "2023-02-15T18:48:43.187Z"
      },
      {
        "duration": 0,
        "start_time": "2023-02-15T18:48:43.201Z"
      },
      {
        "duration": 1778,
        "start_time": "2023-02-16T07:13:37.612Z"
      },
      {
        "duration": 167,
        "start_time": "2023-02-16T07:13:39.392Z"
      },
      {
        "duration": 7,
        "start_time": "2023-02-16T07:13:39.561Z"
      },
      {
        "duration": 52,
        "start_time": "2023-02-16T07:13:39.570Z"
      },
      {
        "duration": 10,
        "start_time": "2023-02-16T07:13:39.625Z"
      },
      {
        "duration": 11,
        "start_time": "2023-02-16T07:13:39.638Z"
      },
      {
        "duration": 30,
        "start_time": "2023-02-16T07:13:39.652Z"
      },
      {
        "duration": 18,
        "start_time": "2023-02-16T07:13:39.683Z"
      },
      {
        "duration": 1144,
        "start_time": "2023-02-16T07:13:39.703Z"
      },
      {
        "duration": 11,
        "start_time": "2023-02-16T07:13:40.849Z"
      },
      {
        "duration": 140,
        "start_time": "2023-02-16T07:13:40.862Z"
      },
      {
        "duration": 6,
        "start_time": "2023-02-16T07:13:41.004Z"
      },
      {
        "duration": 177,
        "start_time": "2023-02-16T07:13:41.012Z"
      },
      {
        "duration": 26,
        "start_time": "2023-02-16T07:13:41.191Z"
      },
      {
        "duration": 18709,
        "start_time": "2023-02-16T07:13:41.219Z"
      },
      {
        "duration": 2993722,
        "start_time": "2023-02-16T07:13:59.930Z"
      },
      {
        "duration": 10,
        "start_time": "2023-02-16T08:03:53.654Z"
      },
      {
        "duration": 257719,
        "start_time": "2023-02-16T08:07:49.807Z"
      },
      {
        "duration": 1465,
        "start_time": "2023-02-16T08:12:16.700Z"
      },
      {
        "duration": 40,
        "start_time": "2023-02-16T08:12:18.167Z"
      },
      {
        "duration": 7,
        "start_time": "2023-02-16T08:12:18.208Z"
      },
      {
        "duration": 45,
        "start_time": "2023-02-16T08:12:18.217Z"
      },
      {
        "duration": 9,
        "start_time": "2023-02-16T08:12:18.265Z"
      },
      {
        "duration": 10,
        "start_time": "2023-02-16T08:12:18.276Z"
      },
      {
        "duration": 13,
        "start_time": "2023-02-16T08:12:18.287Z"
      },
      {
        "duration": 28,
        "start_time": "2023-02-16T08:12:18.302Z"
      },
      {
        "duration": 847,
        "start_time": "2023-02-16T08:12:18.332Z"
      },
      {
        "duration": 13,
        "start_time": "2023-02-16T08:12:19.182Z"
      },
      {
        "duration": 209,
        "start_time": "2023-02-16T08:12:19.196Z"
      },
      {
        "duration": 4,
        "start_time": "2023-02-16T08:12:19.408Z"
      },
      {
        "duration": 153,
        "start_time": "2023-02-16T08:12:19.414Z"
      },
      {
        "duration": 24,
        "start_time": "2023-02-16T08:12:19.571Z"
      },
      {
        "duration": 18133,
        "start_time": "2023-02-16T08:12:19.596Z"
      },
      {
        "duration": 785851,
        "start_time": "2023-02-16T08:12:37.731Z"
      },
      {
        "duration": 11,
        "start_time": "2023-02-16T08:25:43.583Z"
      },
      {
        "duration": 4,
        "start_time": "2023-02-16T08:26:15.571Z"
      },
      {
        "duration": 1497,
        "start_time": "2023-02-16T08:26:26.820Z"
      },
      {
        "duration": 41,
        "start_time": "2023-02-16T08:26:28.319Z"
      },
      {
        "duration": 6,
        "start_time": "2023-02-16T08:26:28.362Z"
      },
      {
        "duration": 43,
        "start_time": "2023-02-16T08:26:28.370Z"
      },
      {
        "duration": 22,
        "start_time": "2023-02-16T08:26:28.415Z"
      },
      {
        "duration": 6,
        "start_time": "2023-02-16T08:26:28.440Z"
      },
      {
        "duration": 10,
        "start_time": "2023-02-16T08:26:28.448Z"
      },
      {
        "duration": 11,
        "start_time": "2023-02-16T08:26:28.460Z"
      },
      {
        "duration": 886,
        "start_time": "2023-02-16T08:26:28.473Z"
      },
      {
        "duration": 11,
        "start_time": "2023-02-16T08:26:29.361Z"
      },
      {
        "duration": 201,
        "start_time": "2023-02-16T08:26:29.374Z"
      },
      {
        "duration": 3,
        "start_time": "2023-02-16T08:26:29.577Z"
      },
      {
        "duration": 158,
        "start_time": "2023-02-16T08:26:29.582Z"
      },
      {
        "duration": 27,
        "start_time": "2023-02-16T08:26:29.741Z"
      },
      {
        "duration": 30274,
        "start_time": "2023-02-16T08:26:29.770Z"
      },
      {
        "duration": 153600,
        "start_time": "2023-02-16T08:27:00.045Z"
      },
      {
        "duration": 3,
        "start_time": "2023-02-16T08:29:33.648Z"
      },
      {
        "duration": 212,
        "start_time": "2023-02-16T08:35:53.868Z"
      },
      {
        "duration": 8052,
        "start_time": "2023-02-16T08:40:31.371Z"
      },
      {
        "duration": 13,
        "start_time": "2023-02-16T08:42:41.621Z"
      },
      {
        "duration": 356966,
        "start_time": "2023-02-16T08:49:44.840Z"
      },
      {
        "duration": 1421,
        "start_time": "2023-02-16T08:56:01.474Z"
      },
      {
        "duration": 46,
        "start_time": "2023-02-16T08:56:02.897Z"
      },
      {
        "duration": 8,
        "start_time": "2023-02-16T08:56:02.945Z"
      },
      {
        "duration": 70,
        "start_time": "2023-02-16T08:56:02.955Z"
      },
      {
        "duration": 14,
        "start_time": "2023-02-16T08:56:03.034Z"
      },
      {
        "duration": 13,
        "start_time": "2023-02-16T08:56:03.049Z"
      },
      {
        "duration": 19,
        "start_time": "2023-02-16T08:56:03.064Z"
      },
      {
        "duration": 15,
        "start_time": "2023-02-16T08:56:03.085Z"
      },
      {
        "duration": 885,
        "start_time": "2023-02-16T08:56:03.102Z"
      },
      {
        "duration": 10,
        "start_time": "2023-02-16T08:56:03.990Z"
      },
      {
        "duration": 242,
        "start_time": "2023-02-16T08:56:04.002Z"
      },
      {
        "duration": 4,
        "start_time": "2023-02-16T08:56:04.246Z"
      },
      {
        "duration": 168,
        "start_time": "2023-02-16T08:56:04.251Z"
      },
      {
        "duration": 36,
        "start_time": "2023-02-16T08:56:04.420Z"
      },
      {
        "duration": 31285,
        "start_time": "2023-02-16T08:56:04.458Z"
      },
      {
        "duration": 8247,
        "start_time": "2023-02-16T08:56:35.746Z"
      },
      {
        "duration": 146977,
        "start_time": "2023-02-16T08:56:43.995Z"
      },
      {
        "duration": 3,
        "start_time": "2023-02-16T08:59:10.974Z"
      },
      {
        "duration": 10,
        "start_time": "2023-02-16T08:59:10.978Z"
      },
      {
        "duration": 3,
        "start_time": "2023-02-16T09:23:14.542Z"
      },
      {
        "duration": 63474,
        "start_time": "2023-02-16T09:23:29.071Z"
      },
      {
        "duration": 82495,
        "start_time": "2023-02-16T09:34:30.557Z"
      },
      {
        "duration": 136944,
        "start_time": "2023-02-16T09:36:08.095Z"
      },
      {
        "duration": 34096,
        "start_time": "2023-02-16T09:39:15.940Z"
      },
      {
        "duration": 129414,
        "start_time": "2023-02-16T09:43:49.498Z"
      },
      {
        "duration": 3,
        "start_time": "2023-02-16T09:47:43.848Z"
      },
      {
        "duration": 968379,
        "start_time": "2023-02-16T09:47:55.886Z"
      },
      {
        "duration": 3,
        "start_time": "2023-02-16T10:09:55.749Z"
      },
      {
        "duration": 144342,
        "start_time": "2023-02-16T10:10:10.342Z"
      },
      {
        "duration": 4,
        "start_time": "2023-02-16T10:13:28.193Z"
      },
      {
        "duration": 188146,
        "start_time": "2023-02-16T10:13:58.062Z"
      },
      {
        "duration": 4,
        "start_time": "2023-02-16T10:18:06.232Z"
      },
      {
        "duration": 2194855,
        "start_time": "2023-02-16T10:18:39.701Z"
      },
      {
        "duration": 1445,
        "start_time": "2023-02-16T10:55:34.852Z"
      },
      {
        "duration": 42,
        "start_time": "2023-02-16T10:55:36.299Z"
      },
      {
        "duration": 7,
        "start_time": "2023-02-16T10:55:36.343Z"
      },
      {
        "duration": 69,
        "start_time": "2023-02-16T10:55:36.353Z"
      },
      {
        "duration": 12,
        "start_time": "2023-02-16T10:55:36.424Z"
      },
      {
        "duration": 19,
        "start_time": "2023-02-16T10:55:36.438Z"
      },
      {
        "duration": 12,
        "start_time": "2023-02-16T10:55:36.459Z"
      },
      {
        "duration": 21,
        "start_time": "2023-02-16T10:55:36.473Z"
      },
      {
        "duration": 888,
        "start_time": "2023-02-16T10:55:36.495Z"
      },
      {
        "duration": 12,
        "start_time": "2023-02-16T10:55:37.386Z"
      },
      {
        "duration": 223,
        "start_time": "2023-02-16T10:55:37.400Z"
      },
      {
        "duration": 4,
        "start_time": "2023-02-16T10:55:37.626Z"
      },
      {
        "duration": 155,
        "start_time": "2023-02-16T10:55:37.631Z"
      },
      {
        "duration": 25,
        "start_time": "2023-02-16T10:55:37.788Z"
      },
      {
        "duration": 19626,
        "start_time": "2023-02-16T10:55:37.815Z"
      },
      {
        "duration": 8550,
        "start_time": "2023-02-16T10:55:57.528Z"
      },
      {
        "duration": 587480,
        "start_time": "2023-02-16T10:56:06.080Z"
      },
      {
        "duration": 12,
        "start_time": "2023-02-16T11:05:53.563Z"
      },
      {
        "duration": 0,
        "start_time": "2023-02-16T11:05:53.576Z"
      },
      {
        "duration": 1768,
        "start_time": "2023-02-16T11:06:11.048Z"
      },
      {
        "duration": 43,
        "start_time": "2023-02-16T11:06:12.819Z"
      },
      {
        "duration": 11,
        "start_time": "2023-02-16T11:06:12.864Z"
      },
      {
        "duration": 61,
        "start_time": "2023-02-16T11:06:12.878Z"
      },
      {
        "duration": 10,
        "start_time": "2023-02-16T11:06:12.941Z"
      },
      {
        "duration": 16,
        "start_time": "2023-02-16T11:06:12.954Z"
      },
      {
        "duration": 29,
        "start_time": "2023-02-16T11:06:12.972Z"
      },
      {
        "duration": 14,
        "start_time": "2023-02-16T11:06:13.004Z"
      },
      {
        "duration": 1155,
        "start_time": "2023-02-16T11:06:13.020Z"
      },
      {
        "duration": 12,
        "start_time": "2023-02-16T11:06:14.179Z"
      },
      {
        "duration": 288,
        "start_time": "2023-02-16T11:06:14.194Z"
      },
      {
        "duration": 5,
        "start_time": "2023-02-16T11:06:14.484Z"
      },
      {
        "duration": 170,
        "start_time": "2023-02-16T11:06:14.491Z"
      },
      {
        "duration": 34,
        "start_time": "2023-02-16T11:06:14.664Z"
      },
      {
        "duration": 34942,
        "start_time": "2023-02-16T11:06:14.700Z"
      },
      {
        "duration": 9931,
        "start_time": "2023-02-16T11:06:49.644Z"
      },
      {
        "duration": 580120,
        "start_time": "2023-02-16T11:06:59.577Z"
      },
      {
        "duration": 13,
        "start_time": "2023-02-16T11:16:39.700Z"
      },
      {
        "duration": 0,
        "start_time": "2023-02-16T11:16:39.715Z"
      },
      {
        "duration": 1714,
        "start_time": "2023-02-16T11:16:59.865Z"
      },
      {
        "duration": 62,
        "start_time": "2023-02-16T11:17:01.581Z"
      },
      {
        "duration": 9,
        "start_time": "2023-02-16T11:17:01.645Z"
      },
      {
        "duration": 97,
        "start_time": "2023-02-16T11:17:01.657Z"
      },
      {
        "duration": 14,
        "start_time": "2023-02-16T11:17:01.756Z"
      },
      {
        "duration": 26,
        "start_time": "2023-02-16T11:17:01.773Z"
      },
      {
        "duration": 25,
        "start_time": "2023-02-16T11:17:01.802Z"
      },
      {
        "duration": 25,
        "start_time": "2023-02-16T11:17:01.829Z"
      },
      {
        "duration": 1111,
        "start_time": "2023-02-16T11:17:01.856Z"
      },
      {
        "duration": 12,
        "start_time": "2023-02-16T11:17:02.970Z"
      },
      {
        "duration": 249,
        "start_time": "2023-02-16T11:17:02.984Z"
      },
      {
        "duration": 6,
        "start_time": "2023-02-16T11:17:03.235Z"
      },
      {
        "duration": 197,
        "start_time": "2023-02-16T11:17:03.242Z"
      },
      {
        "duration": 33,
        "start_time": "2023-02-16T11:17:03.441Z"
      },
      {
        "duration": 46461,
        "start_time": "2023-02-16T11:17:03.476Z"
      },
      {
        "duration": 8403,
        "start_time": "2023-02-16T11:17:49.939Z"
      },
      {
        "duration": 1653071,
        "start_time": "2023-02-16T11:17:58.343Z"
      },
      {
        "duration": 12,
        "start_time": "2023-02-16T11:45:31.415Z"
      },
      {
        "duration": 0,
        "start_time": "2023-02-16T11:45:31.429Z"
      },
      {
        "duration": 1542,
        "start_time": "2023-02-16T11:45:52.034Z"
      },
      {
        "duration": 39,
        "start_time": "2023-02-16T11:45:53.578Z"
      },
      {
        "duration": 8,
        "start_time": "2023-02-16T11:45:53.619Z"
      },
      {
        "duration": 44,
        "start_time": "2023-02-16T11:45:53.630Z"
      },
      {
        "duration": 8,
        "start_time": "2023-02-16T11:45:53.676Z"
      },
      {
        "duration": 12,
        "start_time": "2023-02-16T11:45:53.686Z"
      },
      {
        "duration": 10,
        "start_time": "2023-02-16T11:45:53.700Z"
      },
      {
        "duration": 24,
        "start_time": "2023-02-16T11:45:53.711Z"
      },
      {
        "duration": 830,
        "start_time": "2023-02-16T11:45:53.737Z"
      },
      {
        "duration": 12,
        "start_time": "2023-02-16T11:45:54.571Z"
      },
      {
        "duration": 210,
        "start_time": "2023-02-16T11:45:54.584Z"
      },
      {
        "duration": 4,
        "start_time": "2023-02-16T11:45:54.796Z"
      },
      {
        "duration": 147,
        "start_time": "2023-02-16T11:45:54.801Z"
      },
      {
        "duration": 29,
        "start_time": "2023-02-16T11:45:54.950Z"
      },
      {
        "duration": 18654,
        "start_time": "2023-02-16T11:45:54.981Z"
      },
      {
        "duration": 8332,
        "start_time": "2023-02-16T11:46:13.638Z"
      },
      {
        "duration": 41114,
        "start_time": "2023-02-16T11:46:21.972Z"
      },
      {
        "duration": 4,
        "start_time": "2023-02-16T11:47:03.088Z"
      },
      {
        "duration": 84,
        "start_time": "2023-02-16T11:47:03.094Z"
      },
      {
        "duration": 4,
        "start_time": "2023-02-16T11:47:06.034Z"
      },
      {
        "duration": 7,
        "start_time": "2023-02-16T11:47:08.728Z"
      },
      {
        "duration": 115,
        "start_time": "2023-02-16T11:47:13.244Z"
      },
      {
        "duration": 11,
        "start_time": "2023-02-16T11:47:54.304Z"
      },
      {
        "duration": 29,
        "start_time": "2023-02-16T11:48:08.908Z"
      },
      {
        "duration": 245,
        "start_time": "2023-02-16T11:48:17.903Z"
      },
      {
        "duration": 1551,
        "start_time": "2023-02-16T11:49:02.789Z"
      },
      {
        "duration": 40,
        "start_time": "2023-02-16T11:49:04.342Z"
      },
      {
        "duration": 7,
        "start_time": "2023-02-16T11:49:04.383Z"
      },
      {
        "duration": 46,
        "start_time": "2023-02-16T11:49:04.393Z"
      },
      {
        "duration": 10,
        "start_time": "2023-02-16T11:49:04.441Z"
      },
      {
        "duration": 10,
        "start_time": "2023-02-16T11:49:04.452Z"
      },
      {
        "duration": 12,
        "start_time": "2023-02-16T11:49:04.463Z"
      },
      {
        "duration": 10,
        "start_time": "2023-02-16T11:49:04.476Z"
      },
      {
        "duration": 934,
        "start_time": "2023-02-16T11:49:04.489Z"
      },
      {
        "duration": 11,
        "start_time": "2023-02-16T11:49:05.426Z"
      },
      {
        "duration": 205,
        "start_time": "2023-02-16T11:49:05.439Z"
      },
      {
        "duration": 3,
        "start_time": "2023-02-16T11:49:05.646Z"
      },
      {
        "duration": 149,
        "start_time": "2023-02-16T11:49:05.651Z"
      },
      {
        "duration": 34,
        "start_time": "2023-02-16T11:49:05.802Z"
      },
      {
        "duration": 21692,
        "start_time": "2023-02-16T11:49:05.840Z"
      },
      {
        "duration": 8074,
        "start_time": "2023-02-16T11:49:27.533Z"
      },
      {
        "duration": 42136,
        "start_time": "2023-02-16T11:49:35.609Z"
      },
      {
        "duration": 3,
        "start_time": "2023-02-16T11:50:17.747Z"
      },
      {
        "duration": 9,
        "start_time": "2023-02-16T11:50:17.752Z"
      },
      {
        "duration": 309,
        "start_time": "2023-02-16T11:50:17.763Z"
      },
      {
        "duration": 7,
        "start_time": "2023-02-16T11:57:53.620Z"
      },
      {
        "duration": 6,
        "start_time": "2023-02-16T11:58:01.529Z"
      },
      {
        "duration": 11,
        "start_time": "2023-02-16T11:58:10.727Z"
      },
      {
        "duration": 1718,
        "start_time": "2023-02-16T11:58:39.850Z"
      },
      {
        "duration": 186,
        "start_time": "2023-02-16T11:58:56.859Z"
      },
      {
        "duration": 206,
        "start_time": "2023-02-16T11:59:10.582Z"
      },
      {
        "duration": 10,
        "start_time": "2023-02-16T11:59:37.813Z"
      },
      {
        "duration": 2,
        "start_time": "2023-02-16T11:59:40.278Z"
      },
      {
        "duration": 3,
        "start_time": "2023-02-16T12:00:10.319Z"
      },
      {
        "duration": 12,
        "start_time": "2023-02-16T12:00:18.382Z"
      },
      {
        "duration": 148,
        "start_time": "2023-02-16T12:00:20.836Z"
      },
      {
        "duration": 147,
        "start_time": "2023-02-16T12:00:37.150Z"
      },
      {
        "duration": 189,
        "start_time": "2023-02-16T12:00:50.414Z"
      },
      {
        "duration": 154,
        "start_time": "2023-02-16T12:01:05.558Z"
      },
      {
        "duration": 156,
        "start_time": "2023-02-16T12:01:24.855Z"
      },
      {
        "duration": 152,
        "start_time": "2023-02-16T12:01:33.940Z"
      },
      {
        "duration": 239,
        "start_time": "2023-02-16T12:01:41.074Z"
      },
      {
        "duration": 148,
        "start_time": "2023-02-16T12:01:45.192Z"
      },
      {
        "duration": 177,
        "start_time": "2023-02-16T12:02:03.797Z"
      },
      {
        "duration": 190,
        "start_time": "2023-02-16T12:03:25.637Z"
      },
      {
        "duration": 235,
        "start_time": "2023-02-16T12:04:31.781Z"
      },
      {
        "duration": 237,
        "start_time": "2023-02-16T12:04:57.835Z"
      },
      {
        "duration": 1439,
        "start_time": "2023-02-16T12:18:18.349Z"
      },
      {
        "duration": 39,
        "start_time": "2023-02-16T12:18:19.790Z"
      },
      {
        "duration": 7,
        "start_time": "2023-02-16T12:18:19.830Z"
      },
      {
        "duration": 51,
        "start_time": "2023-02-16T12:18:19.838Z"
      },
      {
        "duration": 8,
        "start_time": "2023-02-16T12:18:19.892Z"
      },
      {
        "duration": 9,
        "start_time": "2023-02-16T12:18:19.902Z"
      },
      {
        "duration": 21,
        "start_time": "2023-02-16T12:18:19.913Z"
      },
      {
        "duration": 11,
        "start_time": "2023-02-16T12:18:19.936Z"
      },
      {
        "duration": 907,
        "start_time": "2023-02-16T12:18:19.948Z"
      },
      {
        "duration": 10,
        "start_time": "2023-02-16T12:18:20.857Z"
      },
      {
        "duration": 215,
        "start_time": "2023-02-16T12:18:20.869Z"
      },
      {
        "duration": 4,
        "start_time": "2023-02-16T12:18:21.085Z"
      },
      {
        "duration": 144,
        "start_time": "2023-02-16T12:18:21.091Z"
      },
      {
        "duration": 25,
        "start_time": "2023-02-16T12:18:21.238Z"
      },
      {
        "duration": 18067,
        "start_time": "2023-02-16T12:18:21.264Z"
      },
      {
        "duration": 8195,
        "start_time": "2023-02-16T12:18:39.336Z"
      },
      {
        "duration": 41051,
        "start_time": "2023-02-16T12:18:47.532Z"
      },
      {
        "duration": 4,
        "start_time": "2023-02-16T12:19:28.584Z"
      },
      {
        "duration": 25,
        "start_time": "2023-02-16T12:19:28.589Z"
      },
      {
        "duration": 3,
        "start_time": "2023-02-16T12:19:28.616Z"
      },
      {
        "duration": 24,
        "start_time": "2023-02-16T12:19:28.620Z"
      },
      {
        "duration": 5,
        "start_time": "2023-02-16T12:19:28.646Z"
      },
      {
        "duration": 1829,
        "start_time": "2023-02-16T12:22:40.599Z"
      },
      {
        "duration": 2478,
        "start_time": "2023-02-16T12:22:46.063Z"
      },
      {
        "duration": 4,
        "start_time": "2023-02-16T12:23:39.798Z"
      },
      {
        "duration": 152,
        "start_time": "2023-02-16T13:15:48.398Z"
      },
      {
        "duration": 257,
        "start_time": "2023-02-16T13:16:13.892Z"
      },
      {
        "duration": 230,
        "start_time": "2023-02-16T13:16:30.655Z"
      },
      {
        "duration": 3,
        "start_time": "2023-02-16T13:18:04.287Z"
      },
      {
        "duration": 268,
        "start_time": "2023-02-16T13:18:06.682Z"
      },
      {
        "duration": 381,
        "start_time": "2023-02-16T13:18:21.204Z"
      },
      {
        "duration": 272,
        "start_time": "2023-02-16T13:18:34.890Z"
      },
      {
        "duration": 361,
        "start_time": "2023-02-16T13:19:00.041Z"
      },
      {
        "duration": 355,
        "start_time": "2023-02-16T13:19:40.544Z"
      },
      {
        "duration": 1910,
        "start_time": "2023-02-16T13:19:53.167Z"
      },
      {
        "duration": 465,
        "start_time": "2023-02-16T13:20:14.508Z"
      },
      {
        "duration": 10,
        "start_time": "2023-02-16T13:20:29.475Z"
      },
      {
        "duration": 12,
        "start_time": "2023-02-16T13:20:50.532Z"
      },
      {
        "duration": 18,
        "start_time": "2023-02-16T13:20:58.829Z"
      },
      {
        "duration": 17,
        "start_time": "2023-02-16T13:21:11.755Z"
      },
      {
        "duration": 4,
        "start_time": "2023-02-16T13:21:20.388Z"
      },
      {
        "duration": 342,
        "start_time": "2023-02-16T13:21:27.382Z"
      },
      {
        "duration": 355,
        "start_time": "2023-02-16T13:26:18.743Z"
      },
      {
        "duration": 351,
        "start_time": "2023-02-16T13:26:34.396Z"
      },
      {
        "duration": 337,
        "start_time": "2023-02-16T13:26:41.700Z"
      },
      {
        "duration": 335,
        "start_time": "2023-02-16T13:27:25.331Z"
      },
      {
        "duration": 402,
        "start_time": "2023-02-16T13:28:10.320Z"
      },
      {
        "duration": 570,
        "start_time": "2023-02-16T13:28:41.103Z"
      },
      {
        "duration": 304,
        "start_time": "2023-02-16T13:29:02.467Z"
      },
      {
        "duration": 264,
        "start_time": "2023-02-16T13:29:24.820Z"
      },
      {
        "duration": 274,
        "start_time": "2023-02-16T13:29:33.711Z"
      },
      {
        "duration": 271,
        "start_time": "2023-02-16T13:31:06.926Z"
      },
      {
        "duration": 308,
        "start_time": "2023-02-16T13:31:14.538Z"
      },
      {
        "duration": 4,
        "start_time": "2023-02-16T13:51:42.943Z"
      },
      {
        "duration": 1754,
        "start_time": "2023-02-16T16:54:09.274Z"
      },
      {
        "duration": 130,
        "start_time": "2023-02-16T16:54:13.303Z"
      },
      {
        "duration": 10,
        "start_time": "2023-02-16T16:54:15.600Z"
      },
      {
        "duration": 52,
        "start_time": "2023-02-16T16:54:18.726Z"
      },
      {
        "duration": 14,
        "start_time": "2023-02-16T16:54:22.083Z"
      },
      {
        "duration": 6,
        "start_time": "2023-02-16T16:54:23.517Z"
      },
      {
        "duration": 13,
        "start_time": "2023-02-16T16:54:25.799Z"
      },
      {
        "duration": 15,
        "start_time": "2023-02-16T16:54:27.237Z"
      },
      {
        "duration": 943,
        "start_time": "2023-02-16T16:54:32.929Z"
      },
      {
        "duration": 13,
        "start_time": "2023-02-16T16:54:40.687Z"
      },
      {
        "duration": 137,
        "start_time": "2023-02-16T16:54:42.072Z"
      },
      {
        "duration": 4,
        "start_time": "2023-02-16T16:54:55.999Z"
      },
      {
        "duration": 156,
        "start_time": "2023-02-16T16:54:58.283Z"
      },
      {
        "duration": 25,
        "start_time": "2023-02-16T16:55:05.202Z"
      },
      {
        "duration": 2637,
        "start_time": "2023-02-16T16:57:17.169Z"
      },
      {
        "duration": 8200,
        "start_time": "2023-02-16T16:58:28.372Z"
      },
      {
        "duration": 38184,
        "start_time": "2023-02-16T16:59:40.008Z"
      },
      {
        "duration": 4,
        "start_time": "2023-02-16T17:01:06.736Z"
      },
      {
        "duration": 9,
        "start_time": "2023-02-16T17:02:21.432Z"
      },
      {
        "duration": 4,
        "start_time": "2023-02-16T17:02:28.807Z"
      },
      {
        "duration": 3,
        "start_time": "2023-02-16T18:51:06.853Z"
      },
      {
        "duration": 3,
        "start_time": "2023-02-16T18:51:08.838Z"
      },
      {
        "duration": 428,
        "start_time": "2023-02-16T18:51:10.851Z"
      },
      {
        "duration": 1258,
        "start_time": "2023-02-16T19:11:29.416Z"
      },
      {
        "duration": 42,
        "start_time": "2023-02-16T19:11:30.676Z"
      },
      {
        "duration": 7,
        "start_time": "2023-02-16T19:35:05.424Z"
      },
      {
        "duration": 38,
        "start_time": "2023-02-16T19:35:13.476Z"
      },
      {
        "duration": 9,
        "start_time": "2023-02-16T19:35:49.413Z"
      },
      {
        "duration": 5,
        "start_time": "2023-02-16T19:35:49.817Z"
      },
      {
        "duration": 8,
        "start_time": "2023-02-16T19:36:06.146Z"
      },
      {
        "duration": 9,
        "start_time": "2023-02-16T19:36:06.481Z"
      },
      {
        "duration": 838,
        "start_time": "2023-02-16T19:36:21.477Z"
      },
      {
        "duration": 10,
        "start_time": "2023-02-16T19:36:23.502Z"
      },
      {
        "duration": 130,
        "start_time": "2023-02-16T19:36:23.939Z"
      },
      {
        "duration": 4,
        "start_time": "2023-02-16T19:36:44.118Z"
      },
      {
        "duration": 139,
        "start_time": "2023-02-16T19:37:37.739Z"
      },
      {
        "duration": 27,
        "start_time": "2023-02-16T19:37:48.483Z"
      },
      {
        "duration": 2126,
        "start_time": "2023-02-16T19:38:29.679Z"
      },
      {
        "duration": 57,
        "start_time": "2023-02-17T05:49:32.829Z"
      },
      {
        "duration": 1710,
        "start_time": "2023-02-17T05:49:44.602Z"
      },
      {
        "duration": 151,
        "start_time": "2023-02-17T05:49:46.314Z"
      },
      {
        "duration": 8,
        "start_time": "2023-02-17T05:49:46.467Z"
      },
      {
        "duration": 55,
        "start_time": "2023-02-17T05:49:46.477Z"
      },
      {
        "duration": 9,
        "start_time": "2023-02-17T05:49:46.534Z"
      },
      {
        "duration": 10,
        "start_time": "2023-02-17T05:49:46.546Z"
      },
      {
        "duration": 26,
        "start_time": "2023-02-17T05:49:46.558Z"
      },
      {
        "duration": 20,
        "start_time": "2023-02-17T05:49:46.586Z"
      },
      {
        "duration": 1135,
        "start_time": "2023-02-17T05:49:46.607Z"
      },
      {
        "duration": 17,
        "start_time": "2023-02-17T05:49:47.744Z"
      },
      {
        "duration": 150,
        "start_time": "2023-02-17T05:49:47.765Z"
      },
      {
        "duration": 140,
        "start_time": "2023-02-17T05:49:47.917Z"
      },
      {
        "duration": 0,
        "start_time": "2023-02-17T05:49:48.065Z"
      },
      {
        "duration": 0,
        "start_time": "2023-02-17T05:49:48.065Z"
      },
      {
        "duration": 0,
        "start_time": "2023-02-17T05:49:48.066Z"
      },
      {
        "duration": 0,
        "start_time": "2023-02-17T05:49:48.067Z"
      },
      {
        "duration": 0,
        "start_time": "2023-02-17T05:49:48.069Z"
      },
      {
        "duration": 0,
        "start_time": "2023-02-17T05:49:48.070Z"
      },
      {
        "duration": 0,
        "start_time": "2023-02-17T05:49:48.071Z"
      },
      {
        "duration": 0,
        "start_time": "2023-02-17T05:49:48.072Z"
      },
      {
        "duration": 0,
        "start_time": "2023-02-17T05:49:48.073Z"
      },
      {
        "duration": 0,
        "start_time": "2023-02-17T05:49:48.075Z"
      },
      {
        "duration": 0,
        "start_time": "2023-02-17T05:49:48.076Z"
      },
      {
        "duration": 0,
        "start_time": "2023-02-17T05:49:48.077Z"
      },
      {
        "duration": 7,
        "start_time": "2023-02-17T05:50:51.740Z"
      },
      {
        "duration": 13,
        "start_time": "2023-02-17T05:52:23.001Z"
      },
      {
        "duration": 179,
        "start_time": "2023-02-17T06:20:03.789Z"
      },
      {
        "duration": 225,
        "start_time": "2023-02-17T06:20:07.183Z"
      },
      {
        "duration": 16,
        "start_time": "2023-02-17T06:20:40.288Z"
      },
      {
        "duration": 17,
        "start_time": "2023-02-17T06:20:57.623Z"
      },
      {
        "duration": 24,
        "start_time": "2023-02-17T06:21:01.127Z"
      },
      {
        "duration": 6,
        "start_time": "2023-02-17T06:21:25.244Z"
      },
      {
        "duration": 76,
        "start_time": "2023-02-17T06:21:25.252Z"
      },
      {
        "duration": 8,
        "start_time": "2023-02-17T06:21:25.330Z"
      },
      {
        "duration": 85,
        "start_time": "2023-02-17T06:21:25.341Z"
      },
      {
        "duration": 11,
        "start_time": "2023-02-17T06:21:25.428Z"
      },
      {
        "duration": 59,
        "start_time": "2023-02-17T06:21:25.441Z"
      },
      {
        "duration": 20,
        "start_time": "2023-02-17T06:21:25.503Z"
      },
      {
        "duration": 39,
        "start_time": "2023-02-17T06:21:25.526Z"
      },
      {
        "duration": 1005,
        "start_time": "2023-02-17T06:21:25.573Z"
      },
      {
        "duration": 13,
        "start_time": "2023-02-17T06:21:26.580Z"
      },
      {
        "duration": 188,
        "start_time": "2023-02-17T06:21:26.595Z"
      },
      {
        "duration": 1632,
        "start_time": "2023-02-17T06:21:57.700Z"
      },
      {
        "duration": 65,
        "start_time": "2023-02-17T06:21:59.334Z"
      },
      {
        "duration": 9,
        "start_time": "2023-02-17T06:21:59.402Z"
      },
      {
        "duration": 79,
        "start_time": "2023-02-17T06:21:59.413Z"
      },
      {
        "duration": 13,
        "start_time": "2023-02-17T06:21:59.495Z"
      },
      {
        "duration": 50,
        "start_time": "2023-02-17T06:21:59.510Z"
      },
      {
        "duration": 43,
        "start_time": "2023-02-17T06:21:59.563Z"
      },
      {
        "duration": 14,
        "start_time": "2023-02-17T06:21:59.609Z"
      },
      {
        "duration": 1089,
        "start_time": "2023-02-17T06:21:59.625Z"
      },
      {
        "duration": 15,
        "start_time": "2023-02-17T06:22:00.717Z"
      },
      {
        "duration": 12,
        "start_time": "2023-02-17T06:22:05.701Z"
      },
      {
        "duration": 294,
        "start_time": "2023-02-17T06:22:07.143Z"
      },
      {
        "duration": 164,
        "start_time": "2023-02-17T06:22:10.476Z"
      },
      {
        "duration": 196,
        "start_time": "2023-02-17T06:22:56.694Z"
      },
      {
        "duration": 247,
        "start_time": "2023-02-17T06:23:11.784Z"
      },
      {
        "duration": 4,
        "start_time": "2023-02-17T06:28:25.566Z"
      },
      {
        "duration": 152,
        "start_time": "2023-02-17T06:28:32.927Z"
      },
      {
        "duration": 24,
        "start_time": "2023-02-17T06:29:03.492Z"
      },
      {
        "duration": 13,
        "start_time": "2023-02-17T06:31:42.527Z"
      },
      {
        "duration": 50,
        "start_time": "2023-02-17T06:33:15.768Z"
      },
      {
        "duration": 805,
        "start_time": "2023-02-17T06:33:50.706Z"
      },
      {
        "duration": 52484,
        "start_time": "2023-02-17T06:34:46.393Z"
      },
      {
        "duration": 4,
        "start_time": "2023-02-17T06:35:43.600Z"
      },
      {
        "duration": 76,
        "start_time": "2023-02-17T06:37:41.695Z"
      },
      {
        "duration": 20,
        "start_time": "2023-02-17T06:39:28.644Z"
      },
      {
        "duration": 8,
        "start_time": "2023-02-17T06:39:48.307Z"
      },
      {
        "duration": 18,
        "start_time": "2023-02-17T06:40:00.683Z"
      },
      {
        "duration": 8,
        "start_time": "2023-02-17T06:40:05.768Z"
      },
      {
        "duration": 6,
        "start_time": "2023-02-17T06:41:06.405Z"
      },
      {
        "duration": 819,
        "start_time": "2023-02-17T06:41:25.483Z"
      },
      {
        "duration": 885,
        "start_time": "2023-02-17T06:41:36.482Z"
      },
      {
        "duration": 899,
        "start_time": "2023-02-17T06:41:44.314Z"
      },
      {
        "duration": 865,
        "start_time": "2023-02-17T06:41:58.604Z"
      },
      {
        "duration": 12,
        "start_time": "2023-02-17T06:42:35.986Z"
      },
      {
        "duration": 10,
        "start_time": "2023-02-17T06:42:58.761Z"
      },
      {
        "duration": 5,
        "start_time": "2023-02-17T06:43:11.210Z"
      },
      {
        "duration": 20,
        "start_time": "2023-02-17T06:43:35.077Z"
      },
      {
        "duration": 10,
        "start_time": "2023-02-17T06:43:39.007Z"
      },
      {
        "duration": 53,
        "start_time": "2023-02-17T06:43:41.641Z"
      },
      {
        "duration": 814,
        "start_time": "2023-02-17T06:43:46.696Z"
      },
      {
        "duration": 42431,
        "start_time": "2023-02-17T06:43:55.042Z"
      },
      {
        "duration": 4,
        "start_time": "2023-02-17T06:44:41.650Z"
      },
      {
        "duration": 11,
        "start_time": "2023-02-17T06:44:51.679Z"
      },
      {
        "duration": 8,
        "start_time": "2023-02-17T06:44:59.941Z"
      },
      {
        "duration": 45469,
        "start_time": "2023-02-17T06:47:09.094Z"
      },
      {
        "duration": 4,
        "start_time": "2023-02-17T06:47:59.033Z"
      },
      {
        "duration": 11,
        "start_time": "2023-02-17T06:48:08.836Z"
      },
      {
        "duration": 7,
        "start_time": "2023-02-17T06:48:17.077Z"
      },
      {
        "duration": 67738,
        "start_time": "2023-02-17T06:48:28.165Z"
      },
      {
        "duration": 3,
        "start_time": "2023-02-17T06:49:38.950Z"
      },
      {
        "duration": 10,
        "start_time": "2023-02-17T06:49:49.540Z"
      },
      {
        "duration": 7,
        "start_time": "2023-02-17T06:49:59.501Z"
      },
      {
        "duration": 53663,
        "start_time": "2023-02-17T06:50:32.184Z"
      },
      {
        "duration": 4,
        "start_time": "2023-02-17T06:51:31.904Z"
      },
      {
        "duration": 101377,
        "start_time": "2023-02-17T06:51:40.242Z"
      },
      {
        "duration": 4,
        "start_time": "2023-02-17T06:53:24.864Z"
      },
      {
        "duration": 381888,
        "start_time": "2023-02-17T06:53:38.695Z"
      },
      {
        "duration": 1619,
        "start_time": "2023-02-17T07:00:12.824Z"
      },
      {
        "duration": 48,
        "start_time": "2023-02-17T07:00:14.445Z"
      },
      {
        "duration": 8,
        "start_time": "2023-02-17T07:00:14.495Z"
      },
      {
        "duration": 73,
        "start_time": "2023-02-17T07:00:14.505Z"
      },
      {
        "duration": 10,
        "start_time": "2023-02-17T07:00:14.580Z"
      },
      {
        "duration": 23,
        "start_time": "2023-02-17T07:00:14.592Z"
      },
      {
        "duration": 32,
        "start_time": "2023-02-17T07:00:14.617Z"
      },
      {
        "duration": 27,
        "start_time": "2023-02-17T07:00:14.651Z"
      },
      {
        "duration": 918,
        "start_time": "2023-02-17T07:00:14.680Z"
      },
      {
        "duration": 13,
        "start_time": "2023-02-17T07:00:15.600Z"
      },
      {
        "duration": 272,
        "start_time": "2023-02-17T07:00:15.615Z"
      },
      {
        "duration": 177,
        "start_time": "2023-02-17T07:00:15.889Z"
      },
      {
        "duration": 4,
        "start_time": "2023-02-17T07:00:16.068Z"
      },
      {
        "duration": 26,
        "start_time": "2023-02-17T07:00:16.075Z"
      },
      {
        "duration": 9,
        "start_time": "2023-02-17T07:00:16.103Z"
      },
      {
        "duration": 80,
        "start_time": "2023-02-17T07:00:16.114Z"
      },
      {
        "duration": 833,
        "start_time": "2023-02-17T07:00:16.196Z"
      },
      {
        "duration": 102617,
        "start_time": "2023-02-17T07:00:17.031Z"
      },
      {
        "duration": 11,
        "start_time": "2023-02-17T07:01:59.650Z"
      },
      {
        "duration": 0,
        "start_time": "2023-02-17T07:01:59.663Z"
      },
      {
        "duration": 0,
        "start_time": "2023-02-17T07:01:59.664Z"
      },
      {
        "duration": 0,
        "start_time": "2023-02-17T07:01:59.665Z"
      },
      {
        "duration": 0,
        "start_time": "2023-02-17T07:01:59.666Z"
      },
      {
        "duration": 0,
        "start_time": "2023-02-17T07:01:59.667Z"
      },
      {
        "duration": 0,
        "start_time": "2023-02-17T07:01:59.668Z"
      },
      {
        "duration": 1597,
        "start_time": "2023-02-17T07:02:20.026Z"
      },
      {
        "duration": 47,
        "start_time": "2023-02-17T07:02:21.625Z"
      },
      {
        "duration": 8,
        "start_time": "2023-02-17T07:02:21.674Z"
      },
      {
        "duration": 74,
        "start_time": "2023-02-17T07:02:21.685Z"
      },
      {
        "duration": 11,
        "start_time": "2023-02-17T07:02:21.760Z"
      },
      {
        "duration": 12,
        "start_time": "2023-02-17T07:02:21.773Z"
      },
      {
        "duration": 28,
        "start_time": "2023-02-17T07:02:21.787Z"
      },
      {
        "duration": 17,
        "start_time": "2023-02-17T07:02:21.817Z"
      },
      {
        "duration": 886,
        "start_time": "2023-02-17T07:02:21.836Z"
      },
      {
        "duration": 12,
        "start_time": "2023-02-17T07:02:22.725Z"
      },
      {
        "duration": 234,
        "start_time": "2023-02-17T07:02:22.739Z"
      },
      {
        "duration": 162,
        "start_time": "2023-02-17T07:02:22.975Z"
      },
      {
        "duration": 3,
        "start_time": "2023-02-17T07:02:23.139Z"
      },
      {
        "duration": 18,
        "start_time": "2023-02-17T07:02:23.153Z"
      },
      {
        "duration": 9,
        "start_time": "2023-02-17T07:02:23.173Z"
      },
      {
        "duration": 70,
        "start_time": "2023-02-17T07:02:23.184Z"
      },
      {
        "duration": 747,
        "start_time": "2023-02-17T07:02:23.255Z"
      },
      {
        "duration": 307480,
        "start_time": "2023-02-17T07:02:24.004Z"
      },
      {
        "duration": 5,
        "start_time": "2023-02-17T07:07:31.486Z"
      },
      {
        "duration": 34,
        "start_time": "2023-02-17T07:07:31.492Z"
      },
      {
        "duration": 16,
        "start_time": "2023-02-17T07:07:31.528Z"
      },
      {
        "duration": 8,
        "start_time": "2023-02-17T07:07:31.546Z"
      },
      {
        "duration": 15,
        "start_time": "2023-02-17T07:07:31.556Z"
      },
      {
        "duration": 436,
        "start_time": "2023-02-17T07:07:31.574Z"
      },
      {
        "duration": 268,
        "start_time": "2023-02-17T07:07:32.012Z"
      },
      {
        "duration": 4,
        "start_time": "2023-02-17T07:07:51.945Z"
      },
      {
        "duration": 106751,
        "start_time": "2023-02-17T07:08:23.176Z"
      },
      {
        "duration": 1534,
        "start_time": "2023-02-17T07:10:23.533Z"
      },
      {
        "duration": 45,
        "start_time": "2023-02-17T07:10:25.069Z"
      },
      {
        "duration": 7,
        "start_time": "2023-02-17T07:10:25.116Z"
      },
      {
        "duration": 61,
        "start_time": "2023-02-17T07:10:25.125Z"
      },
      {
        "duration": 10,
        "start_time": "2023-02-17T07:10:25.189Z"
      },
      {
        "duration": 17,
        "start_time": "2023-02-17T07:10:25.201Z"
      },
      {
        "duration": 15,
        "start_time": "2023-02-17T07:10:25.220Z"
      },
      {
        "duration": 25,
        "start_time": "2023-02-17T07:10:25.238Z"
      },
      {
        "duration": 937,
        "start_time": "2023-02-17T07:10:25.265Z"
      },
      {
        "duration": 11,
        "start_time": "2023-02-17T07:10:26.205Z"
      },
      {
        "duration": 228,
        "start_time": "2023-02-17T07:10:26.218Z"
      },
      {
        "duration": 171,
        "start_time": "2023-02-17T07:10:26.448Z"
      },
      {
        "duration": 4,
        "start_time": "2023-02-17T07:10:26.621Z"
      },
      {
        "duration": 34,
        "start_time": "2023-02-17T07:10:26.628Z"
      },
      {
        "duration": 10,
        "start_time": "2023-02-17T07:10:26.664Z"
      },
      {
        "duration": 51,
        "start_time": "2023-02-17T07:10:26.676Z"
      },
      {
        "duration": 774,
        "start_time": "2023-02-17T07:10:26.729Z"
      },
      {
        "duration": 5,
        "start_time": "2023-02-17T07:10:27.506Z"
      },
      {
        "duration": 188901,
        "start_time": "2023-02-17T07:10:27.513Z"
      },
      {
        "duration": 12,
        "start_time": "2023-02-17T07:13:36.416Z"
      },
      {
        "duration": 0,
        "start_time": "2023-02-17T07:13:36.431Z"
      },
      {
        "duration": 0,
        "start_time": "2023-02-17T07:13:36.432Z"
      },
      {
        "duration": 0,
        "start_time": "2023-02-17T07:13:36.433Z"
      },
      {
        "duration": 0,
        "start_time": "2023-02-17T07:13:36.435Z"
      },
      {
        "duration": 0,
        "start_time": "2023-02-17T07:13:36.436Z"
      },
      {
        "duration": 0,
        "start_time": "2023-02-17T07:13:36.437Z"
      },
      {
        "duration": 0,
        "start_time": "2023-02-17T07:13:36.438Z"
      },
      {
        "duration": 1470,
        "start_time": "2023-02-17T07:13:52.774Z"
      },
      {
        "duration": 44,
        "start_time": "2023-02-17T07:13:54.246Z"
      },
      {
        "duration": 7,
        "start_time": "2023-02-17T07:13:54.292Z"
      },
      {
        "duration": 47,
        "start_time": "2023-02-17T07:13:54.301Z"
      },
      {
        "duration": 11,
        "start_time": "2023-02-17T07:13:54.350Z"
      },
      {
        "duration": 8,
        "start_time": "2023-02-17T07:13:54.363Z"
      },
      {
        "duration": 9,
        "start_time": "2023-02-17T07:13:54.373Z"
      },
      {
        "duration": 24,
        "start_time": "2023-02-17T07:13:54.384Z"
      },
      {
        "duration": 900,
        "start_time": "2023-02-17T07:13:54.410Z"
      },
      {
        "duration": 13,
        "start_time": "2023-02-17T07:13:55.312Z"
      },
      {
        "duration": 243,
        "start_time": "2023-02-17T07:13:55.327Z"
      },
      {
        "duration": 162,
        "start_time": "2023-02-17T07:13:55.572Z"
      },
      {
        "duration": 4,
        "start_time": "2023-02-17T07:13:55.736Z"
      },
      {
        "duration": 18,
        "start_time": "2023-02-17T07:13:55.755Z"
      },
      {
        "duration": 11,
        "start_time": "2023-02-17T07:13:55.775Z"
      },
      {
        "duration": 75,
        "start_time": "2023-02-17T07:13:55.788Z"
      },
      {
        "duration": 806,
        "start_time": "2023-02-17T07:13:55.865Z"
      },
      {
        "duration": 4,
        "start_time": "2023-02-17T07:13:56.672Z"
      },
      {
        "duration": 564435,
        "start_time": "2023-02-17T07:13:56.678Z"
      },
      {
        "duration": 16,
        "start_time": "2023-02-17T07:23:21.115Z"
      },
      {
        "duration": 0,
        "start_time": "2023-02-17T07:23:21.133Z"
      },
      {
        "duration": 0,
        "start_time": "2023-02-17T07:23:21.135Z"
      },
      {
        "duration": 0,
        "start_time": "2023-02-17T07:23:21.136Z"
      },
      {
        "duration": 0,
        "start_time": "2023-02-17T07:23:21.138Z"
      },
      {
        "duration": 0,
        "start_time": "2023-02-17T07:23:21.140Z"
      },
      {
        "duration": 0,
        "start_time": "2023-02-17T07:23:21.141Z"
      },
      {
        "duration": 0,
        "start_time": "2023-02-17T07:23:21.142Z"
      },
      {
        "duration": 1610,
        "start_time": "2023-02-17T07:23:40.165Z"
      },
      {
        "duration": 39,
        "start_time": "2023-02-17T07:23:41.777Z"
      },
      {
        "duration": 6,
        "start_time": "2023-02-17T07:23:41.818Z"
      },
      {
        "duration": 54,
        "start_time": "2023-02-17T07:23:41.826Z"
      },
      {
        "duration": 9,
        "start_time": "2023-02-17T07:23:41.882Z"
      },
      {
        "duration": 8,
        "start_time": "2023-02-17T07:23:41.893Z"
      },
      {
        "duration": 11,
        "start_time": "2023-02-17T07:23:41.903Z"
      },
      {
        "duration": 10,
        "start_time": "2023-02-17T07:23:41.915Z"
      },
      {
        "duration": 892,
        "start_time": "2023-02-17T07:23:41.926Z"
      },
      {
        "duration": 12,
        "start_time": "2023-02-17T07:23:42.820Z"
      },
      {
        "duration": 234,
        "start_time": "2023-02-17T07:23:42.834Z"
      },
      {
        "duration": 157,
        "start_time": "2023-02-17T07:23:43.070Z"
      },
      {
        "duration": 4,
        "start_time": "2023-02-17T07:23:43.229Z"
      },
      {
        "duration": 34,
        "start_time": "2023-02-17T07:23:43.235Z"
      },
      {
        "duration": 9,
        "start_time": "2023-02-17T07:23:43.270Z"
      },
      {
        "duration": 43,
        "start_time": "2023-02-17T07:23:43.280Z"
      },
      {
        "duration": 755,
        "start_time": "2023-02-17T07:23:43.325Z"
      },
      {
        "duration": 4,
        "start_time": "2023-02-17T07:23:44.081Z"
      },
      {
        "duration": 652054,
        "start_time": "2023-02-17T07:23:44.087Z"
      },
      {
        "duration": 3,
        "start_time": "2023-02-17T07:34:36.143Z"
      },
      {
        "duration": 7,
        "start_time": "2023-02-17T07:34:36.148Z"
      },
      {
        "duration": 15,
        "start_time": "2023-02-17T07:34:36.156Z"
      },
      {
        "duration": 9,
        "start_time": "2023-02-17T07:34:36.172Z"
      },
      {
        "duration": 4,
        "start_time": "2023-02-17T07:34:36.183Z"
      },
      {
        "duration": 7,
        "start_time": "2023-02-17T07:34:36.188Z"
      },
      {
        "duration": 470,
        "start_time": "2023-02-17T07:34:36.196Z"
      },
      {
        "duration": 266,
        "start_time": "2023-02-17T07:34:36.668Z"
      },
      {
        "duration": 4,
        "start_time": "2023-02-17T07:36:19.029Z"
      },
      {
        "duration": 8,
        "start_time": "2023-02-17T07:36:37.676Z"
      },
      {
        "duration": 5,
        "start_time": "2023-02-17T07:36:49.949Z"
      },
      {
        "duration": 6,
        "start_time": "2023-02-17T07:37:04.990Z"
      },
      {
        "duration": 3,
        "start_time": "2023-02-17T07:37:24.222Z"
      },
      {
        "duration": 149,
        "start_time": "2023-02-17T07:37:37.787Z"
      },
      {
        "duration": 1556,
        "start_time": "2023-02-17T07:40:35.661Z"
      },
      {
        "duration": 41,
        "start_time": "2023-02-17T07:40:37.219Z"
      },
      {
        "duration": 7,
        "start_time": "2023-02-17T07:40:37.263Z"
      },
      {
        "duration": 65,
        "start_time": "2023-02-17T07:40:37.273Z"
      },
      {
        "duration": 10,
        "start_time": "2023-02-17T07:40:37.340Z"
      },
      {
        "duration": 12,
        "start_time": "2023-02-17T07:40:37.354Z"
      },
      {
        "duration": 29,
        "start_time": "2023-02-17T07:40:37.368Z"
      },
      {
        "duration": 35,
        "start_time": "2023-02-17T07:40:37.399Z"
      },
      {
        "duration": 1038,
        "start_time": "2023-02-17T07:40:37.436Z"
      },
      {
        "duration": 11,
        "start_time": "2023-02-17T07:40:38.477Z"
      },
      {
        "duration": 231,
        "start_time": "2023-02-17T07:40:38.490Z"
      },
      {
        "duration": 175,
        "start_time": "2023-02-17T07:40:38.722Z"
      },
      {
        "duration": 4,
        "start_time": "2023-02-17T07:40:38.899Z"
      },
      {
        "duration": 35,
        "start_time": "2023-02-17T07:40:38.905Z"
      },
      {
        "duration": 17,
        "start_time": "2023-02-17T07:40:38.942Z"
      },
      {
        "duration": 51,
        "start_time": "2023-02-17T07:40:38.961Z"
      },
      {
        "duration": 763,
        "start_time": "2023-02-17T07:40:39.014Z"
      },
      {
        "duration": 645883,
        "start_time": "2023-02-17T07:40:39.779Z"
      },
      {
        "duration": 5,
        "start_time": "2023-02-17T07:51:25.664Z"
      },
      {
        "duration": 13,
        "start_time": "2023-02-17T07:51:25.671Z"
      },
      {
        "duration": 6,
        "start_time": "2023-02-17T07:51:25.686Z"
      },
      {
        "duration": 3,
        "start_time": "2023-02-17T07:51:25.694Z"
      },
      {
        "duration": 6,
        "start_time": "2023-02-17T07:51:25.698Z"
      },
      {
        "duration": 465,
        "start_time": "2023-02-17T07:51:25.705Z"
      },
      {
        "duration": 279,
        "start_time": "2023-02-17T07:51:26.171Z"
      },
      {
        "duration": 5,
        "start_time": "2023-02-17T07:51:29.858Z"
      },
      {
        "duration": 130,
        "start_time": "2023-02-17T07:55:31.352Z"
      },
      {
        "duration": 3,
        "start_time": "2023-02-17T07:55:37.016Z"
      },
      {
        "duration": 11,
        "start_time": "2023-02-17T07:55:45.247Z"
      },
      {
        "duration": 13,
        "start_time": "2023-02-17T07:55:48.537Z"
      },
      {
        "duration": 839,
        "start_time": "2023-02-17T07:56:23.815Z"
      },
      {
        "duration": 830,
        "start_time": "2023-02-17T07:56:34.038Z"
      },
      {
        "duration": 1509,
        "start_time": "2023-02-17T07:56:59.543Z"
      },
      {
        "duration": 50,
        "start_time": "2023-02-17T07:57:01.055Z"
      },
      {
        "duration": 7,
        "start_time": "2023-02-17T07:57:01.107Z"
      },
      {
        "duration": 70,
        "start_time": "2023-02-17T07:57:01.118Z"
      },
      {
        "duration": 9,
        "start_time": "2023-02-17T07:57:01.190Z"
      },
      {
        "duration": 20,
        "start_time": "2023-02-17T07:57:01.201Z"
      },
      {
        "duration": 11,
        "start_time": "2023-02-17T07:57:01.223Z"
      },
      {
        "duration": 46,
        "start_time": "2023-02-17T07:57:01.236Z"
      },
      {
        "duration": 926,
        "start_time": "2023-02-17T07:57:01.284Z"
      },
      {
        "duration": 11,
        "start_time": "2023-02-17T07:57:02.213Z"
      },
      {
        "duration": 239,
        "start_time": "2023-02-17T07:57:02.226Z"
      },
      {
        "duration": 175,
        "start_time": "2023-02-17T07:57:02.467Z"
      },
      {
        "duration": 14,
        "start_time": "2023-02-17T07:57:02.643Z"
      },
      {
        "duration": 48,
        "start_time": "2023-02-17T07:57:02.659Z"
      },
      {
        "duration": 10,
        "start_time": "2023-02-17T07:57:02.709Z"
      },
      {
        "duration": 47,
        "start_time": "2023-02-17T07:57:02.721Z"
      },
      {
        "duration": 693,
        "start_time": "2023-02-17T07:57:02.770Z"
      },
      {
        "duration": 3,
        "start_time": "2023-02-17T07:57:03.465Z"
      },
      {
        "duration": 9,
        "start_time": "2023-02-17T07:57:03.470Z"
      },
      {
        "duration": 13,
        "start_time": "2023-02-17T07:57:03.481Z"
      },
      {
        "duration": 13,
        "start_time": "2023-02-17T07:57:03.497Z"
      },
      {
        "duration": 9,
        "start_time": "2023-02-17T07:57:03.512Z"
      },
      {
        "duration": 11,
        "start_time": "2023-02-17T07:57:03.523Z"
      },
      {
        "duration": 876,
        "start_time": "2023-02-17T07:57:03.536Z"
      },
      {
        "duration": 3,
        "start_time": "2023-02-17T07:57:04.414Z"
      },
      {
        "duration": 12,
        "start_time": "2023-02-17T07:57:04.419Z"
      },
      {
        "duration": 458,
        "start_time": "2023-02-17T07:57:04.433Z"
      },
      {
        "duration": 289,
        "start_time": "2023-02-17T07:57:04.894Z"
      }
    ],
    "kernelspec": {
      "display_name": "Python 3 (ipykernel)",
      "language": "python",
      "name": "python3"
    },
    "language_info": {
      "codemirror_mode": {
        "name": "ipython",
        "version": 3
      },
      "file_extension": ".py",
      "mimetype": "text/x-python",
      "name": "python",
      "nbconvert_exporter": "python",
      "pygments_lexer": "ipython3",
      "version": "3.9.5"
    },
    "toc": {
      "base_numbering": 1,
      "nav_menu": {},
      "number_sections": false,
      "sideBar": true,
      "skip_h1_title": true,
      "title_cell": "Содержание",
      "title_sidebar": "Contents",
      "toc_cell": true,
      "toc_position": {},
      "toc_section_display": true,
      "toc_window_display": true
    },
    "colab": {
      "provenance": []
    }
  },
  "nbformat": 4,
  "nbformat_minor": 0
}