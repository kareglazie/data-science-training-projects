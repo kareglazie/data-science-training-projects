{
  "cells": [
    {
      "cell_type": "markdown",
      "metadata": {
        "toc": true,
        "id": "fFsWWjwn8Mlf"
      },
      "source": [
        "<h1>Содержание<span class=\"tocSkip\"></span></h1>\n",
        "<div class=\"toc\"><ul class=\"toc-item\"><li><span><a href=\"#Цель-проекта\" data-toc-modified-id=\"Цель-проекта-1\">Цель проекта</a></span></li><li><span><a href=\"#Загрузка-данных\" data-toc-modified-id=\"Загрузка-данных-2\">Загрузка данных</a></span><ul class=\"toc-item\"><li><span><a href=\"#Вывод-по-разделу\" data-toc-modified-id=\"Вывод-по-разделу-2.1\">Вывод по разделу</a></span></li></ul></li><li><span><a href=\"#Умножение-матриц\" data-toc-modified-id=\"Умножение-матриц-3\">Умножение матриц</a></span><ul class=\"toc-item\"><li><span><a href=\"#Вывод-по-разделу\" data-toc-modified-id=\"Вывод-по-разделу-3.1\">Вывод по разделу</a></span></li></ul></li><li><span><a href=\"#Алгоритм-преобразования\" data-toc-modified-id=\"Алгоритм-преобразования-4\">Алгоритм преобразования</a></span></li><li><span><a href=\"#Проверка-алгоритма\" data-toc-modified-id=\"Проверка-алгоритма-5\">Проверка алгоритма</a></span><ul class=\"toc-item\"><li><span><a href=\"#Вывод-по-разделу\" data-toc-modified-id=\"Вывод-по-разделу-5.1\">Вывод по разделу</a></span></li></ul></li><li><span><a href=\"#Вывод-по-проекту\" data-toc-modified-id=\"Вывод-по-проекту-6\">Вывод по проекту</a></span></li><li><span><a href=\"#Чек-лист-проверки\" data-toc-modified-id=\"Чек-лист-проверки-7\">Чек-лист проверки</a></span></li></ul></div>"
      ]
    },
    {
      "cell_type": "markdown",
      "metadata": {
        "id": "cSejBrZT8Mlg"
      },
      "source": [
        "# Защита персональных данных клиентов"
      ]
    },
    {
      "cell_type": "markdown",
      "metadata": {
        "id": "oh0wsxRp8Mlg"
      },
      "source": [
        "## Цель проекта\n",
        "Защитить данные клиентов страховой компании, а именно разработать метод преобразования данных, чтобы по ним было сложно восстановить персональную информацию. Необходимо добиться того, чтобы при преобразовании данных качество модели не ухудшилось."
      ]
    },
    {
      "cell_type": "markdown",
      "metadata": {
        "id": "wbnXetrG8Mlg"
      },
      "source": [
        "## Загрузка данных"
      ]
    },
    {
      "cell_type": "code",
      "execution_count": 1,
      "metadata": {
        "id": "PU5UA2SQ8Mlg"
      },
      "outputs": [],
      "source": [
        "import pandas as pd\n",
        "import numpy as np\n",
        "from sklearn.linear_model import LinearRegression\n",
        "from sklearn.metrics import r2_score\n",
        "import matplotlib.pyplot as plt\n",
        "import seaborn as sns\n",
        "from sklearn.model_selection import train_test_split"
      ]
    },
    {
      "cell_type": "code",
      "execution_count": 2,
      "metadata": {
        "id": "seeXUop88Mlh"
      },
      "outputs": [],
      "source": [
        "try:\n",
        "    df = pd.read_csv('/datasets/insurance.csv')\n",
        "except:\n",
        "    df = pd.read_csv('/content/insurance.csv')\n"
      ]
    },
    {
      "cell_type": "code",
      "execution_count": 3,
      "metadata": {
        "id": "KCr1T9yT8Mlh"
      },
      "outputs": [],
      "source": [
        "# Делаем функцию для обзора данных\n",
        "def data_overview(data):\n",
        "    '''\n",
        "    Функция для обзора данных,\n",
        "    принимает на вход датафрейм,\n",
        "    выводит на экран его основные характеристики\n",
        "    и графики\n",
        "    '''\n",
        "    print('Первые пять строк', (80 - len('Первые пять строк')) * '-')\n",
        "    display(data.head())   \n",
        "    print('')\n",
        "    print('Общая информация о данных (info)', (80 - len('Общая информация о данных (info)')) * '-', '\\n')\n",
        "    data.info()\n",
        "    print('')\n",
        "    print('Статистические показатели (describe)', (80 - len('Статистические показатели (describe)')) * '-')\n",
        "    display(data.describe().T)\n",
        "    print('')\n",
        "    print ('Пропущенные значения в данных', (80 - len('Пропущенные значения в данных')) * '-')\n",
        "    print('')\n",
        "    empty = sum(data.isna().sum())\n",
        "    if empty > 0:\n",
        "        print(f'Количество пропусков в данных: {empty}')\n",
        "    else:\n",
        "        print('Пропущенных значений нет')\n",
        "    print('')\n",
        "    print('Дубликаты в данных', (80 - len('Дубликаты в данных')) * '-')\n",
        "    print('')\n",
        "    if data.duplicated().sum() > 0:\n",
        "        print (f'Количество дубликатов в данных: {data.duplicated().sum()}')\n",
        "    else:\n",
        "        print('Дубликатов нет')\n",
        "    "
      ]
    },
    {
      "cell_type": "code",
      "execution_count": 4,
      "metadata": {
        "colab": {
          "base_uri": "https://localhost:8080/",
          "height": 858
        },
        "id": "urimh3Nb8Mlh",
        "outputId": "36e95822-c399-4ebf-cf83-e6d3590815b9"
      },
      "outputs": [
        {
          "output_type": "stream",
          "name": "stdout",
          "text": [
            "Первые пять строк ---------------------------------------------------------------\n"
          ]
        },
        {
          "output_type": "display_data",
          "data": {
            "text/plain": [
              "   Пол  Возраст  Зарплата  Члены семьи  Страховые выплаты\n",
              "0    1     41.0   49600.0            1                  0\n",
              "1    0     46.0   38000.0            1                  1\n",
              "2    0     29.0   21000.0            0                  0\n",
              "3    0     21.0   41700.0            2                  0\n",
              "4    1     28.0   26100.0            0                  0"
            ],
            "text/html": [
              "\n",
              "  <div id=\"df-c0e2bd08-a04a-4329-a1a6-8e14fb56d834\">\n",
              "    <div class=\"colab-df-container\">\n",
              "      <div>\n",
              "<style scoped>\n",
              "    .dataframe tbody tr th:only-of-type {\n",
              "        vertical-align: middle;\n",
              "    }\n",
              "\n",
              "    .dataframe tbody tr th {\n",
              "        vertical-align: top;\n",
              "    }\n",
              "\n",
              "    .dataframe thead th {\n",
              "        text-align: right;\n",
              "    }\n",
              "</style>\n",
              "<table border=\"1\" class=\"dataframe\">\n",
              "  <thead>\n",
              "    <tr style=\"text-align: right;\">\n",
              "      <th></th>\n",
              "      <th>Пол</th>\n",
              "      <th>Возраст</th>\n",
              "      <th>Зарплата</th>\n",
              "      <th>Члены семьи</th>\n",
              "      <th>Страховые выплаты</th>\n",
              "    </tr>\n",
              "  </thead>\n",
              "  <tbody>\n",
              "    <tr>\n",
              "      <th>0</th>\n",
              "      <td>1</td>\n",
              "      <td>41.0</td>\n",
              "      <td>49600.0</td>\n",
              "      <td>1</td>\n",
              "      <td>0</td>\n",
              "    </tr>\n",
              "    <tr>\n",
              "      <th>1</th>\n",
              "      <td>0</td>\n",
              "      <td>46.0</td>\n",
              "      <td>38000.0</td>\n",
              "      <td>1</td>\n",
              "      <td>1</td>\n",
              "    </tr>\n",
              "    <tr>\n",
              "      <th>2</th>\n",
              "      <td>0</td>\n",
              "      <td>29.0</td>\n",
              "      <td>21000.0</td>\n",
              "      <td>0</td>\n",
              "      <td>0</td>\n",
              "    </tr>\n",
              "    <tr>\n",
              "      <th>3</th>\n",
              "      <td>0</td>\n",
              "      <td>21.0</td>\n",
              "      <td>41700.0</td>\n",
              "      <td>2</td>\n",
              "      <td>0</td>\n",
              "    </tr>\n",
              "    <tr>\n",
              "      <th>4</th>\n",
              "      <td>1</td>\n",
              "      <td>28.0</td>\n",
              "      <td>26100.0</td>\n",
              "      <td>0</td>\n",
              "      <td>0</td>\n",
              "    </tr>\n",
              "  </tbody>\n",
              "</table>\n",
              "</div>\n",
              "      <button class=\"colab-df-convert\" onclick=\"convertToInteractive('df-c0e2bd08-a04a-4329-a1a6-8e14fb56d834')\"\n",
              "              title=\"Convert this dataframe to an interactive table.\"\n",
              "              style=\"display:none;\">\n",
              "        \n",
              "  <svg xmlns=\"http://www.w3.org/2000/svg\" height=\"24px\"viewBox=\"0 0 24 24\"\n",
              "       width=\"24px\">\n",
              "    <path d=\"M0 0h24v24H0V0z\" fill=\"none\"/>\n",
              "    <path d=\"M18.56 5.44l.94 2.06.94-2.06 2.06-.94-2.06-.94-.94-2.06-.94 2.06-2.06.94zm-11 1L8.5 8.5l.94-2.06 2.06-.94-2.06-.94L8.5 2.5l-.94 2.06-2.06.94zm10 10l.94 2.06.94-2.06 2.06-.94-2.06-.94-.94-2.06-.94 2.06-2.06.94z\"/><path d=\"M17.41 7.96l-1.37-1.37c-.4-.4-.92-.59-1.43-.59-.52 0-1.04.2-1.43.59L10.3 9.45l-7.72 7.72c-.78.78-.78 2.05 0 2.83L4 21.41c.39.39.9.59 1.41.59.51 0 1.02-.2 1.41-.59l7.78-7.78 2.81-2.81c.8-.78.8-2.07 0-2.86zM5.41 20L4 18.59l7.72-7.72 1.47 1.35L5.41 20z\"/>\n",
              "  </svg>\n",
              "      </button>\n",
              "      \n",
              "  <style>\n",
              "    .colab-df-container {\n",
              "      display:flex;\n",
              "      flex-wrap:wrap;\n",
              "      gap: 12px;\n",
              "    }\n",
              "\n",
              "    .colab-df-convert {\n",
              "      background-color: #E8F0FE;\n",
              "      border: none;\n",
              "      border-radius: 50%;\n",
              "      cursor: pointer;\n",
              "      display: none;\n",
              "      fill: #1967D2;\n",
              "      height: 32px;\n",
              "      padding: 0 0 0 0;\n",
              "      width: 32px;\n",
              "    }\n",
              "\n",
              "    .colab-df-convert:hover {\n",
              "      background-color: #E2EBFA;\n",
              "      box-shadow: 0px 1px 2px rgba(60, 64, 67, 0.3), 0px 1px 3px 1px rgba(60, 64, 67, 0.15);\n",
              "      fill: #174EA6;\n",
              "    }\n",
              "\n",
              "    [theme=dark] .colab-df-convert {\n",
              "      background-color: #3B4455;\n",
              "      fill: #D2E3FC;\n",
              "    }\n",
              "\n",
              "    [theme=dark] .colab-df-convert:hover {\n",
              "      background-color: #434B5C;\n",
              "      box-shadow: 0px 1px 3px 1px rgba(0, 0, 0, 0.15);\n",
              "      filter: drop-shadow(0px 1px 2px rgba(0, 0, 0, 0.3));\n",
              "      fill: #FFFFFF;\n",
              "    }\n",
              "  </style>\n",
              "\n",
              "      <script>\n",
              "        const buttonEl =\n",
              "          document.querySelector('#df-c0e2bd08-a04a-4329-a1a6-8e14fb56d834 button.colab-df-convert');\n",
              "        buttonEl.style.display =\n",
              "          google.colab.kernel.accessAllowed ? 'block' : 'none';\n",
              "\n",
              "        async function convertToInteractive(key) {\n",
              "          const element = document.querySelector('#df-c0e2bd08-a04a-4329-a1a6-8e14fb56d834');\n",
              "          const dataTable =\n",
              "            await google.colab.kernel.invokeFunction('convertToInteractive',\n",
              "                                                     [key], {});\n",
              "          if (!dataTable) return;\n",
              "\n",
              "          const docLinkHtml = 'Like what you see? Visit the ' +\n",
              "            '<a target=\"_blank\" href=https://colab.research.google.com/notebooks/data_table.ipynb>data table notebook</a>'\n",
              "            + ' to learn more about interactive tables.';\n",
              "          element.innerHTML = '';\n",
              "          dataTable['output_type'] = 'display_data';\n",
              "          await google.colab.output.renderOutput(dataTable, element);\n",
              "          const docLink = document.createElement('div');\n",
              "          docLink.innerHTML = docLinkHtml;\n",
              "          element.appendChild(docLink);\n",
              "        }\n",
              "      </script>\n",
              "    </div>\n",
              "  </div>\n",
              "  "
            ]
          },
          "metadata": {}
        },
        {
          "output_type": "stream",
          "name": "stdout",
          "text": [
            "\n",
            "Общая информация о данных (info) ------------------------------------------------ \n",
            "\n",
            "<class 'pandas.core.frame.DataFrame'>\n",
            "RangeIndex: 5000 entries, 0 to 4999\n",
            "Data columns (total 5 columns):\n",
            " #   Column             Non-Null Count  Dtype  \n",
            "---  ------             --------------  -----  \n",
            " 0   Пол                5000 non-null   int64  \n",
            " 1   Возраст            5000 non-null   float64\n",
            " 2   Зарплата           5000 non-null   float64\n",
            " 3   Члены семьи        5000 non-null   int64  \n",
            " 4   Страховые выплаты  5000 non-null   int64  \n",
            "dtypes: float64(2), int64(3)\n",
            "memory usage: 195.4 KB\n",
            "\n",
            "Статистические показатели (describe) --------------------------------------------\n"
          ]
        },
        {
          "output_type": "display_data",
          "data": {
            "text/plain": [
              "                    count        mean          std     min      25%      50%  \\\n",
              "Пол                5000.0      0.4990     0.500049     0.0      0.0      0.0   \n",
              "Возраст            5000.0     30.9528     8.440807    18.0     24.0     30.0   \n",
              "Зарплата           5000.0  39916.3600  9900.083569  5300.0  33300.0  40200.0   \n",
              "Члены семьи        5000.0      1.1942     1.091387     0.0      0.0      1.0   \n",
              "Страховые выплаты  5000.0      0.1480     0.463183     0.0      0.0      0.0   \n",
              "\n",
              "                       75%      max  \n",
              "Пол                    1.0      1.0  \n",
              "Возраст               37.0     65.0  \n",
              "Зарплата           46600.0  79000.0  \n",
              "Члены семьи            2.0      6.0  \n",
              "Страховые выплаты      0.0      5.0  "
            ],
            "text/html": [
              "\n",
              "  <div id=\"df-05b75515-5946-4257-8ac9-cd9d6a2d28f1\">\n",
              "    <div class=\"colab-df-container\">\n",
              "      <div>\n",
              "<style scoped>\n",
              "    .dataframe tbody tr th:only-of-type {\n",
              "        vertical-align: middle;\n",
              "    }\n",
              "\n",
              "    .dataframe tbody tr th {\n",
              "        vertical-align: top;\n",
              "    }\n",
              "\n",
              "    .dataframe thead th {\n",
              "        text-align: right;\n",
              "    }\n",
              "</style>\n",
              "<table border=\"1\" class=\"dataframe\">\n",
              "  <thead>\n",
              "    <tr style=\"text-align: right;\">\n",
              "      <th></th>\n",
              "      <th>count</th>\n",
              "      <th>mean</th>\n",
              "      <th>std</th>\n",
              "      <th>min</th>\n",
              "      <th>25%</th>\n",
              "      <th>50%</th>\n",
              "      <th>75%</th>\n",
              "      <th>max</th>\n",
              "    </tr>\n",
              "  </thead>\n",
              "  <tbody>\n",
              "    <tr>\n",
              "      <th>Пол</th>\n",
              "      <td>5000.0</td>\n",
              "      <td>0.4990</td>\n",
              "      <td>0.500049</td>\n",
              "      <td>0.0</td>\n",
              "      <td>0.0</td>\n",
              "      <td>0.0</td>\n",
              "      <td>1.0</td>\n",
              "      <td>1.0</td>\n",
              "    </tr>\n",
              "    <tr>\n",
              "      <th>Возраст</th>\n",
              "      <td>5000.0</td>\n",
              "      <td>30.9528</td>\n",
              "      <td>8.440807</td>\n",
              "      <td>18.0</td>\n",
              "      <td>24.0</td>\n",
              "      <td>30.0</td>\n",
              "      <td>37.0</td>\n",
              "      <td>65.0</td>\n",
              "    </tr>\n",
              "    <tr>\n",
              "      <th>Зарплата</th>\n",
              "      <td>5000.0</td>\n",
              "      <td>39916.3600</td>\n",
              "      <td>9900.083569</td>\n",
              "      <td>5300.0</td>\n",
              "      <td>33300.0</td>\n",
              "      <td>40200.0</td>\n",
              "      <td>46600.0</td>\n",
              "      <td>79000.0</td>\n",
              "    </tr>\n",
              "    <tr>\n",
              "      <th>Члены семьи</th>\n",
              "      <td>5000.0</td>\n",
              "      <td>1.1942</td>\n",
              "      <td>1.091387</td>\n",
              "      <td>0.0</td>\n",
              "      <td>0.0</td>\n",
              "      <td>1.0</td>\n",
              "      <td>2.0</td>\n",
              "      <td>6.0</td>\n",
              "    </tr>\n",
              "    <tr>\n",
              "      <th>Страховые выплаты</th>\n",
              "      <td>5000.0</td>\n",
              "      <td>0.1480</td>\n",
              "      <td>0.463183</td>\n",
              "      <td>0.0</td>\n",
              "      <td>0.0</td>\n",
              "      <td>0.0</td>\n",
              "      <td>0.0</td>\n",
              "      <td>5.0</td>\n",
              "    </tr>\n",
              "  </tbody>\n",
              "</table>\n",
              "</div>\n",
              "      <button class=\"colab-df-convert\" onclick=\"convertToInteractive('df-05b75515-5946-4257-8ac9-cd9d6a2d28f1')\"\n",
              "              title=\"Convert this dataframe to an interactive table.\"\n",
              "              style=\"display:none;\">\n",
              "        \n",
              "  <svg xmlns=\"http://www.w3.org/2000/svg\" height=\"24px\"viewBox=\"0 0 24 24\"\n",
              "       width=\"24px\">\n",
              "    <path d=\"M0 0h24v24H0V0z\" fill=\"none\"/>\n",
              "    <path d=\"M18.56 5.44l.94 2.06.94-2.06 2.06-.94-2.06-.94-.94-2.06-.94 2.06-2.06.94zm-11 1L8.5 8.5l.94-2.06 2.06-.94-2.06-.94L8.5 2.5l-.94 2.06-2.06.94zm10 10l.94 2.06.94-2.06 2.06-.94-2.06-.94-.94-2.06-.94 2.06-2.06.94z\"/><path d=\"M17.41 7.96l-1.37-1.37c-.4-.4-.92-.59-1.43-.59-.52 0-1.04.2-1.43.59L10.3 9.45l-7.72 7.72c-.78.78-.78 2.05 0 2.83L4 21.41c.39.39.9.59 1.41.59.51 0 1.02-.2 1.41-.59l7.78-7.78 2.81-2.81c.8-.78.8-2.07 0-2.86zM5.41 20L4 18.59l7.72-7.72 1.47 1.35L5.41 20z\"/>\n",
              "  </svg>\n",
              "      </button>\n",
              "      \n",
              "  <style>\n",
              "    .colab-df-container {\n",
              "      display:flex;\n",
              "      flex-wrap:wrap;\n",
              "      gap: 12px;\n",
              "    }\n",
              "\n",
              "    .colab-df-convert {\n",
              "      background-color: #E8F0FE;\n",
              "      border: none;\n",
              "      border-radius: 50%;\n",
              "      cursor: pointer;\n",
              "      display: none;\n",
              "      fill: #1967D2;\n",
              "      height: 32px;\n",
              "      padding: 0 0 0 0;\n",
              "      width: 32px;\n",
              "    }\n",
              "\n",
              "    .colab-df-convert:hover {\n",
              "      background-color: #E2EBFA;\n",
              "      box-shadow: 0px 1px 2px rgba(60, 64, 67, 0.3), 0px 1px 3px 1px rgba(60, 64, 67, 0.15);\n",
              "      fill: #174EA6;\n",
              "    }\n",
              "\n",
              "    [theme=dark] .colab-df-convert {\n",
              "      background-color: #3B4455;\n",
              "      fill: #D2E3FC;\n",
              "    }\n",
              "\n",
              "    [theme=dark] .colab-df-convert:hover {\n",
              "      background-color: #434B5C;\n",
              "      box-shadow: 0px 1px 3px 1px rgba(0, 0, 0, 0.15);\n",
              "      filter: drop-shadow(0px 1px 2px rgba(0, 0, 0, 0.3));\n",
              "      fill: #FFFFFF;\n",
              "    }\n",
              "  </style>\n",
              "\n",
              "      <script>\n",
              "        const buttonEl =\n",
              "          document.querySelector('#df-05b75515-5946-4257-8ac9-cd9d6a2d28f1 button.colab-df-convert');\n",
              "        buttonEl.style.display =\n",
              "          google.colab.kernel.accessAllowed ? 'block' : 'none';\n",
              "\n",
              "        async function convertToInteractive(key) {\n",
              "          const element = document.querySelector('#df-05b75515-5946-4257-8ac9-cd9d6a2d28f1');\n",
              "          const dataTable =\n",
              "            await google.colab.kernel.invokeFunction('convertToInteractive',\n",
              "                                                     [key], {});\n",
              "          if (!dataTable) return;\n",
              "\n",
              "          const docLinkHtml = 'Like what you see? Visit the ' +\n",
              "            '<a target=\"_blank\" href=https://colab.research.google.com/notebooks/data_table.ipynb>data table notebook</a>'\n",
              "            + ' to learn more about interactive tables.';\n",
              "          element.innerHTML = '';\n",
              "          dataTable['output_type'] = 'display_data';\n",
              "          await google.colab.output.renderOutput(dataTable, element);\n",
              "          const docLink = document.createElement('div');\n",
              "          docLink.innerHTML = docLinkHtml;\n",
              "          element.appendChild(docLink);\n",
              "        }\n",
              "      </script>\n",
              "    </div>\n",
              "  </div>\n",
              "  "
            ]
          },
          "metadata": {}
        },
        {
          "output_type": "stream",
          "name": "stdout",
          "text": [
            "\n",
            "Пропущенные значения в данных ---------------------------------------------------\n",
            "\n",
            "Пропущенных значений нет\n",
            "\n",
            "Дубликаты в данных --------------------------------------------------------------\n",
            "\n",
            "Количество дубликатов в данных: 153\n"
          ]
        }
      ],
      "source": [
        "data_overview(df)"
      ]
    },
    {
      "cell_type": "markdown",
      "metadata": {
        "id": "FeC1aw5E8Mli"
      },
      "source": [
        "Количество наблюдений — 5000.\n",
        "\n",
        "Пропусков в даннных нет.\n",
        "\n",
        "Средний возраст клиентов — около 30 лет. Максимальный — 65, минимальный — 18. \n",
        "\n",
        "В наших данных есть дубликаты. Мы не можем утверждать, что это именно дублирующиеся наблюдения, а не совпадающие значения признаков, однако чтобы модель не переобучилась и не были смещены коэффициенты регрессии, дубликаты мы удалим."
      ]
    },
    {
      "cell_type": "code",
      "execution_count": 5,
      "metadata": {
        "id": "kx9aajkN8Mli"
      },
      "outputs": [],
      "source": [
        "df.drop_duplicates(inplace=True)"
      ]
    },
    {
      "cell_type": "code",
      "execution_count": 6,
      "metadata": {
        "colab": {
          "base_uri": "https://localhost:8080/"
        },
        "id": "QG0bEFKq8Mli",
        "outputId": "778c31ea-946b-455d-9fdd-64cd60ef204a"
      },
      "outputs": [
        {
          "output_type": "execute_result",
          "data": {
            "text/plain": [
              "False"
            ]
          },
          "metadata": {},
          "execution_count": 6
        }
      ],
      "source": [
        "df.duplicated().any()"
      ]
    },
    {
      "cell_type": "markdown",
      "metadata": {
        "id": "auI6aMiZ8Mli"
      },
      "source": [
        "Дубликатов в данных не осталось. Посмотрим на данные на графиках. Для количественных переменных (зарплата и возраст) будем использовать гистограммы, а для остальных — столбчатые диаграммы."
      ]
    },
    {
      "cell_type": "code",
      "execution_count": 7,
      "metadata": {
        "id": "wzHlfAnc8Mlj"
      },
      "outputs": [],
      "source": [
        "# Функция для построения гистограмм\n",
        "def make_hist(data, lst:list):\n",
        "    for value in lst:\n",
        "        data[value].hist(figsize=(10,5))"
      ]
    },
    {
      "cell_type": "code",
      "execution_count": 8,
      "metadata": {
        "colab": {
          "base_uri": "https://localhost:8080/",
          "height": 423
        },
        "id": "2CFn8BmB8Mlj",
        "outputId": "e922ff3e-86c7-45e7-c7bc-0f36e058d4f3"
      },
      "outputs": [
        {
          "output_type": "display_data",
          "data": {
            "text/plain": [
              "<Figure size 1000x500 with 2 Axes>"
            ],
            "image/png": "[encoded data removed]"
          },
          "metadata": {}
        }
      ],
      "source": [
        "make_hist(df, [['Зарплата', 'Возраст']])"
      ]
    },
    {
      "cell_type": "code",
      "execution_count": 9,
      "metadata": {
        "id": "RcSXVAAS8Mlj"
      },
      "outputs": [],
      "source": [
        "# Функция для построения каунтплотов\n",
        "\n",
        "def make_countplot(dataframe, lst:list):\n",
        "    for value in lst:\n",
        "        sns.countplot(data=dataframe, x=value)\n",
        "        plt.show()"
      ]
    },
    {
      "cell_type": "code",
      "execution_count": 10,
      "metadata": {
        "colab": {
          "base_uri": "https://localhost:8080/",
          "height": 1000
        },
        "id": "vY9zhYl68Mlj",
        "outputId": "3426f885-5bb1-4ddb-f6dd-4243fac96286"
      },
      "outputs": [
        {
          "output_type": "display_data",
          "data": {
            "text/plain": [
              "<Figure size 640x480 with 1 Axes>"
            ],
            "image/png": "[encoded data removed]"
          },
          "metadata": {}
        },
        {
          "output_type": "display_data",
          "data": {
            "text/plain": [
              "<Figure size 640x480 with 1 Axes>"
            ],
            "image/png": "[encoded data removed]"
          },
          "metadata": {}
        },
        {
          "output_type": "display_data",
          "data": {
            "text/plain": [
              "<Figure size 640x480 with 1 Axes>"
            ],
            "image/png": "[encoded data removed]"
          },
          "metadata": {}
        }
      ],
      "source": [
        "make_countplot(df, ['Пол', 'Члены семьи', 'Страховые выплаты'])"
      ]
    },
    {
      "cell_type": "markdown",
      "metadata": {
        "id": "zaSVCkMG8Mlj"
      },
      "source": [
        "Среди клиентов банка равное количество женщин и мужчин.  \n",
        "\n",
        "Переменная \"Зарплата\" имеет близкое к нормальному распределение.\n",
        "\n",
        "В признаке \"Члены семьи\" преобладают значения 0 и 1, то есть больше всего клиентов не имеют детей. \n",
        "\n",
        "В переменной \"Страховые выплаты\" (целевой признак) больше всего значений приходится на 0, то есть у большинства клиентов страховых выплат не было (имеется дисбаланс признака).\n"
      ]
    },
    {
      "cell_type": "markdown",
      "metadata": {
        "id": "Jo4k7gXa8Mlk"
      },
      "source": [
        "### Вывод по разделу\n",
        "Мы провели обзор данных, посмотрели на распределения и удалили дубликаты (чтобы они не влияли на качество модели). В целевом признаке имеется значительный дисбаланс."
      ]
    },
    {
      "cell_type": "markdown",
      "metadata": {
        "id": "ADg6UjhO8Mlk"
      },
      "source": [
        "## Умножение матриц"
      ]
    },
    {
      "cell_type": "markdown",
      "metadata": {
        "id": "szCXEnUN8Mlk"
      },
      "source": [
        "Обозначения:\n",
        "\n",
        "- $X$ — матрица признаков (нулевой столбец состоит из единиц)\n",
        "\n",
        "- $y$ — вектор целевого признака\n",
        "\n",
        "- $P$ — матрица, на которую умножаются признаки\n",
        "\n",
        "- $w$ — вектор весов линейной регрессии (нулевой элемент равен сдвигу)"
      ]
    },
    {
      "cell_type": "markdown",
      "metadata": {
        "id": "2LshewEL8Mlk"
      },
      "source": [
        "Предсказания:\n",
        "\n",
        "$$\n",
        "ŷ = Xw\n",
        "$$\n",
        "\n",
        "Задача обучения:\n",
        "\n",
        "$$\n",
        "w = \\arg\\min_w MSE(Xw, y)\n",
        "$$\n",
        "\n",
        "Формула обучения:\n",
        "\n",
        "$$\n",
        "w = (X^T X)^{-1} X^T y\n",
        "$$"
      ]
    },
    {
      "cell_type": "markdown",
      "metadata": {
        "id": "koB5w9xf8Mll"
      },
      "source": [
        "**Умножение на обратимую матрицу не меняет качества модели линейной регрессии.**\n",
        "\n",
        "**Обоснование:** \n",
        "Домножим нашу матрицу X на обратимую матрицу R. Подставим значения в формулу обучения:\n",
        "\n",
        "$$\n",
        "X_1 = X R\n",
        "$$\n",
        "\n",
        "$$\n",
        "w_1 = ((X R)^T X R)^{-1} (X R)^T y\n",
        "$$\n",
        "\n",
        "Раскроем скобки. Поскольку транспонированное произведение матриц равно произведению транспонированных матриц, взятых в обратном порядке, у нас получится следующее:\n",
        "\n",
        "$$\n",
        "w_1 = ((R^T X^T X R)^{-1} R^T X^T y\n",
        "$$\n",
        "\n",
        "Раскроем большие скобки и перегруппируем множители:\n",
        "\n",
        "$$\n",
        "w_1 = R^{-1} (X^T X)^{-1} (R^T)^{-1} R^T X^T y\n",
        "$$\n",
        "\n",
        "Поскольку матрица R по условию задачи является обратимой, при умножении на обратную себе она дает единичную матрицу. Сделаем преобразование:\n",
        "\n",
        "$$\n",
        "w_1 = R^{-1} (X^T X)^{-1} E X^T y\n",
        "$$\n",
        "\n",
        "Поскольку при умножении матрицы на единичную матрицу получается исходная матрица, E из формулы можно убрать:\n",
        "\n",
        "$$\n",
        "w_1 = R^{-1} (X^T X)^{-1} X^T y\n",
        "$$\n",
        "\n",
        "$(X^T X)^{-1} X^T y$ — это формула коэффициента w. Подставим его в нашу формулу:\n",
        "\n",
        "$$\n",
        "w_1 = R^{-1} w\n",
        "$$\n",
        "\n",
        "Теперь возьмем формулу линейной регрессии и подставим туда полученное значение:\n",
        "\n",
        "$$\n",
        "ŷ = X w\n",
        "$$\n",
        "\n",
        "$$\n",
        "ŷ_1 = X_1 w_1\n",
        "$$\n",
        "\n",
        "$$\n",
        "ŷ_1 = X_1 R^{-1} w\n",
        "$$\n",
        "\n",
        "$X_1$ — это матрица $X$, домноженная на обратимую матрицу $R$. Подставим значение в формулу:\n",
        "\n",
        "$$\n",
        "ŷ_1 = X_1 R R^{-1} w\n",
        "$$\n",
        "\n",
        "$R R^{-1}$ превращаются в единичную матрицу. В результате получаем:\n",
        "\n",
        "$$\n",
        "ŷ_1 = X_1 w\n",
        "$$\n",
        "\n"
      ]
    },
    {
      "cell_type": "markdown",
      "metadata": {
        "id": "gNl4bXXb8Mll"
      },
      "source": [
        "### Вывод по разделу\n",
        "Мы доказали, что умножение матрицы признаков на случайную обратимую матрицу не меняет качество предсказания модели линейной регрессии."
      ]
    },
    {
      "cell_type": "markdown",
      "metadata": {
        "id": "VumyxTQ28Mll"
      },
      "source": [
        "## Алгоритм преобразования"
      ]
    },
    {
      "cell_type": "markdown",
      "metadata": {
        "id": "YWLLqhoO8Mll"
      },
      "source": [
        "**Алгоритм**\n",
        "\n",
        "1. Для шифрования данных создадим случайную матрицу и проверим ее на обратимость, после чего умножим матрицу признаков на эту обратимую матрицу. \n",
        "2. Обучим модель линейной регрессии на исходных данных. Проверим качество модели метрикой R2.\n",
        "3. Переобучим модель на преобразованных данных и сравним метрики."
      ]
    },
    {
      "cell_type": "markdown",
      "metadata": {
        "id": "XfQd41AE8Mlm"
      },
      "source": [
        "**Обоснование**\n",
        "\n",
        "Ранее мы показали, что при умножении матрицы признаков на случайную обратимую матрицу качество модели линейной регрессии не изменится."
      ]
    },
    {
      "cell_type": "markdown",
      "metadata": {
        "id": "FqS2df978Mlm"
      },
      "source": [
        "## Проверка алгоритма"
      ]
    },
    {
      "cell_type": "code",
      "execution_count": 11,
      "metadata": {
        "id": "5zCkVWVN8Mlm"
      },
      "outputs": [],
      "source": [
        "# Выделим целевой признак и разобьем данные на обучающую и тестовую выборки\n",
        "X = df.drop('Страховые выплаты', axis=1)\n",
        "y = df['Страховые выплаты']\n",
        "X_train, X_test, y_train, y_test = train_test_split(X, y, test_size=0.25)"
      ]
    },
    {
      "cell_type": "code",
      "execution_count": 12,
      "metadata": {
        "id": "J7itWIs28Mlv"
      },
      "outputs": [],
      "source": [
        "# Создаем случайную квадратную матрицу\n",
        "matr = np.random.normal(size=(4,4))"
      ]
    },
    {
      "cell_type": "code",
      "execution_count": 13,
      "metadata": {
        "colab": {
          "base_uri": "https://localhost:8080/"
        },
        "id": "gNipyBB08Mlv",
        "outputId": "736d3eac-e357-48a5-92ef-098a47956cf7"
      },
      "outputs": [
        {
          "output_type": "execute_result",
          "data": {
            "text/plain": [
              "array([[ 1.40843356e-01,  5.51429623e-01,  2.27898027e-03,\n",
              "        -8.76979350e-01],\n",
              "       [-6.55289743e-01,  1.14706359e+00,  9.95842759e-02,\n",
              "        -1.66949618e+00],\n",
              "       [ 9.87179471e-01, -1.31789156e+00,  7.00242524e-01,\n",
              "         2.59798196e+00],\n",
              "       [ 4.29343056e-02,  2.86604329e-01, -3.53702984e-01,\n",
              "        -1.08835543e-01]])"
            ]
          },
          "metadata": {},
          "execution_count": 13
        }
      ],
      "source": [
        "# Проверяем на обратимость\n",
        "np.linalg.inv(matr)"
      ]
    },
    {
      "cell_type": "code",
      "execution_count": 14,
      "metadata": {
        "id": "SGl95vPb8Mlw"
      },
      "outputs": [],
      "source": [
        "# Преобразуем признаки умножением обратимую матрицу\n",
        "X_train_1, X_test_1 = X_train @ matr, X_test @ matr"
      ]
    },
    {
      "cell_type": "code",
      "execution_count": 15,
      "metadata": {
        "colab": {
          "base_uri": "https://localhost:8080/"
        },
        "id": "02capY8-8Mlw",
        "outputId": "326775a4-2403-4bc2-ed0e-dda7b153c60c"
      },
      "outputs": [
        {
          "output_type": "stream",
          "name": "stdout",
          "text": [
            "R2 модели на исходных данных: 0.42035890875446624\n"
          ]
        }
      ],
      "source": [
        "# Обучаем модель линейной регрессии на исходных данных\n",
        "model = LinearRegression()\n",
        "model.fit(X_train, y_train)\n",
        "pred = model.predict(X_test)\n",
        "r2_1 = r2_score(y_test, pred)\n",
        "print(f'R2 модели на исходных данных: {r2_1}')"
      ]
    },
    {
      "cell_type": "code",
      "execution_count": 16,
      "metadata": {
        "colab": {
          "base_uri": "https://localhost:8080/"
        },
        "id": "3_3OxiQU8Mlw",
        "outputId": "7b6e9e42-a16c-462d-b1eb-d4b15c50494f"
      },
      "outputs": [
        {
          "output_type": "stream",
          "name": "stdout",
          "text": [
            "R2 модели на исходных данных: 0.42035890875449633\n"
          ]
        }
      ],
      "source": [
        "# Обучаем модель на преобразованных данных\n",
        "model.fit(X_train_1, y_train)\n",
        "pred = model.predict(X_test_1)\n",
        "r2_2 = r2_score(y_test, pred)\n",
        "print(f'R2 модели на исходных данных: {r2_2}')"
      ]
    },
    {
      "cell_type": "code",
      "execution_count": 17,
      "metadata": {
        "colab": {
          "base_uri": "https://localhost:8080/"
        },
        "id": "OJkPxo0G8Mlx",
        "outputId": "a258855c-29b5-4afa-8a1b-90ff7999323d"
      },
      "outputs": [
        {
          "output_type": "execute_result",
          "data": {
            "text/plain": [
              "-3.008704396734174e-14"
            ]
          },
          "metadata": {},
          "execution_count": 17
        }
      ],
      "source": [
        "# Считаем разницу метрик\n",
        "diff = r2_1 - r2_2\n",
        "diff"
      ]
    },
    {
      "cell_type": "markdown",
      "metadata": {
        "id": "2Y3I-PRq8Mlx"
      },
      "source": [
        "### Вывод по разделу"
      ]
    },
    {
      "cell_type": "markdown",
      "metadata": {
        "id": "aI00Bm_N8Mlx"
      },
      "source": [
        "Значения метрики R2, полученные на моделях из исходных и преобразованных данных, практически не различаются. Следовательно, мы можем сделать вывод о том, что в результате преобразования данных качество модели не изменилось. Это и было нашей задачей."
      ]
    },
    {
      "cell_type": "markdown",
      "metadata": {
        "id": "Mv9wWJ4s8Ml0"
      },
      "source": [
        "## Вывод по проекту"
      ]
    },
    {
      "cell_type": "markdown",
      "metadata": {
        "id": "9xVzk6N78Ml0"
      },
      "source": [
        "В ходе проекта была выполнена задача преобразования данных, чтобы скрыть персональную информацию о клиентах. \n",
        "\n",
        "Использование алгоритма преобразования (умножение матрицы признаков на случайную обратимую матрицу) было обосновано математически, после чего мы провели соответствующее преобразование с нашими данными.\n",
        "\n",
        "Измерение метрики R2 для моделей линейной регрессии, построенных на исходных и преобразованных данных, показало, что качество модели после преобразования данных не меняется.\n"
      ]
    }
  ],
  "metadata": {
    "ExecuteTimeLog": [
      {
        "duration": 380,
        "start_time": "2023-01-21T17:00:01.415Z"
      },
      {
        "duration": 99,
        "start_time": "2023-01-21T17:00:24.809Z"
      },
      {
        "duration": 76,
        "start_time": "2023-01-22T14:00:17.185Z"
      },
      {
        "duration": 9,
        "start_time": "2023-01-22T14:00:20.777Z"
      },
      {
        "duration": 9,
        "start_time": "2023-01-22T14:00:22.644Z"
      },
      {
        "duration": 1182,
        "start_time": "2023-01-22T14:00:27.199Z"
      },
      {
        "duration": 126,
        "start_time": "2023-01-22T14:00:28.384Z"
      },
      {
        "duration": 11,
        "start_time": "2023-01-22T14:00:28.514Z"
      },
      {
        "duration": 172,
        "start_time": "2023-01-22T14:00:30.845Z"
      },
      {
        "duration": 493,
        "start_time": "2023-01-22T14:01:29.788Z"
      },
      {
        "duration": 9,
        "start_time": "2023-01-22T14:01:33.307Z"
      },
      {
        "duration": 82,
        "start_time": "2023-01-22T14:01:36.082Z"
      },
      {
        "duration": 100,
        "start_time": "2023-01-22T14:01:47.778Z"
      },
      {
        "duration": 115,
        "start_time": "2023-01-22T14:01:50.568Z"
      },
      {
        "duration": 90,
        "start_time": "2023-01-22T14:02:13.138Z"
      },
      {
        "duration": 125,
        "start_time": "2023-01-22T14:02:23.976Z"
      },
      {
        "duration": 10,
        "start_time": "2023-01-22T14:02:41.932Z"
      },
      {
        "duration": 1604,
        "start_time": "2023-01-22T14:02:44.181Z"
      },
      {
        "duration": 4,
        "start_time": "2023-01-22T14:03:46.718Z"
      },
      {
        "duration": 14,
        "start_time": "2023-01-22T14:03:56.300Z"
      },
      {
        "duration": 17,
        "start_time": "2023-01-22T14:04:32.029Z"
      },
      {
        "duration": 18,
        "start_time": "2023-01-22T14:04:41.282Z"
      },
      {
        "duration": 1686,
        "start_time": "2023-01-22T14:04:51.830Z"
      },
      {
        "duration": 53,
        "start_time": "2023-01-22T14:04:53.521Z"
      },
      {
        "duration": 14,
        "start_time": "2023-01-22T14:04:53.577Z"
      },
      {
        "duration": 1259,
        "start_time": "2023-01-22T14:04:53.593Z"
      },
      {
        "duration": 25,
        "start_time": "2023-01-22T14:04:54.854Z"
      },
      {
        "duration": 14,
        "start_time": "2023-01-22T14:05:18.289Z"
      },
      {
        "duration": 11,
        "start_time": "2023-01-22T14:05:25.077Z"
      },
      {
        "duration": 9,
        "start_time": "2023-01-22T14:05:27.294Z"
      },
      {
        "duration": 17,
        "start_time": "2023-01-22T14:05:31.368Z"
      },
      {
        "duration": 8,
        "start_time": "2023-01-22T14:05:35.504Z"
      },
      {
        "duration": 1531,
        "start_time": "2023-01-27T06:06:48.108Z"
      },
      {
        "duration": 82,
        "start_time": "2023-01-27T06:06:51.880Z"
      },
      {
        "duration": 6,
        "start_time": "2023-01-27T06:08:24.976Z"
      },
      {
        "duration": 685,
        "start_time": "2023-01-27T06:08:27.790Z"
      },
      {
        "duration": 5,
        "start_time": "2023-01-27T06:11:24.304Z"
      },
      {
        "duration": 6,
        "start_time": "2023-01-27T06:11:25.742Z"
      },
      {
        "duration": 3,
        "start_time": "2023-01-27T06:14:52.539Z"
      },
      {
        "duration": 110,
        "start_time": "2023-01-27T06:41:55.343Z"
      },
      {
        "duration": 5,
        "start_time": "2023-01-27T06:42:13.671Z"
      },
      {
        "duration": 10,
        "start_time": "2023-01-27T13:50:33.825Z"
      },
      {
        "duration": 4,
        "start_time": "2023-01-27T13:51:13.589Z"
      },
      {
        "duration": 13,
        "start_time": "2023-01-27T13:51:19.281Z"
      },
      {
        "duration": 9,
        "start_time": "2023-01-27T13:52:04.297Z"
      },
      {
        "duration": 2,
        "start_time": "2023-01-27T13:52:31.743Z"
      },
      {
        "duration": 3,
        "start_time": "2023-01-27T13:52:53.098Z"
      },
      {
        "duration": 3,
        "start_time": "2023-01-27T13:53:10.957Z"
      },
      {
        "duration": 10,
        "start_time": "2023-01-27T13:53:31.042Z"
      },
      {
        "duration": 9,
        "start_time": "2023-01-27T13:53:36.321Z"
      },
      {
        "duration": 9,
        "start_time": "2023-01-27T13:54:36.919Z"
      },
      {
        "duration": 4,
        "start_time": "2023-01-27T13:54:44.513Z"
      },
      {
        "duration": 12,
        "start_time": "2023-01-27T14:01:27.869Z"
      },
      {
        "duration": 8,
        "start_time": "2023-01-27T14:02:05.621Z"
      },
      {
        "duration": 9,
        "start_time": "2023-01-27T14:03:57.361Z"
      },
      {
        "duration": 9,
        "start_time": "2023-01-27T14:04:09.322Z"
      },
      {
        "duration": 8,
        "start_time": "2023-01-27T14:04:15.131Z"
      },
      {
        "duration": 3,
        "start_time": "2023-01-27T14:04:29.012Z"
      },
      {
        "duration": 1335,
        "start_time": "2023-01-27T14:11:49.402Z"
      },
      {
        "duration": 24,
        "start_time": "2023-01-27T14:11:50.739Z"
      },
      {
        "duration": 7,
        "start_time": "2023-01-27T14:11:50.765Z"
      },
      {
        "duration": 750,
        "start_time": "2023-01-27T14:11:50.774Z"
      },
      {
        "duration": 7,
        "start_time": "2023-01-27T14:11:51.526Z"
      },
      {
        "duration": 20,
        "start_time": "2023-01-27T14:11:51.534Z"
      },
      {
        "duration": 22,
        "start_time": "2023-01-27T14:11:51.556Z"
      },
      {
        "duration": 56,
        "start_time": "2023-01-27T14:11:51.580Z"
      },
      {
        "duration": 9,
        "start_time": "2023-01-27T14:11:51.638Z"
      },
      {
        "duration": 5,
        "start_time": "2023-01-27T14:11:51.649Z"
      },
      {
        "duration": 47,
        "start_time": "2023-01-27T14:11:51.656Z"
      },
      {
        "duration": 10,
        "start_time": "2023-01-27T14:11:51.705Z"
      },
      {
        "duration": 6,
        "start_time": "2023-01-27T14:11:51.717Z"
      },
      {
        "duration": 4,
        "start_time": "2023-01-27T14:14:11.770Z"
      },
      {
        "duration": 1374,
        "start_time": "2023-01-27T14:14:23.789Z"
      },
      {
        "duration": 24,
        "start_time": "2023-01-27T14:14:25.165Z"
      },
      {
        "duration": 7,
        "start_time": "2023-01-27T14:14:25.191Z"
      },
      {
        "duration": 721,
        "start_time": "2023-01-27T14:14:25.201Z"
      },
      {
        "duration": 5,
        "start_time": "2023-01-27T14:14:25.924Z"
      },
      {
        "duration": 23,
        "start_time": "2023-01-27T14:14:25.930Z"
      },
      {
        "duration": 17,
        "start_time": "2023-01-27T14:14:25.955Z"
      },
      {
        "duration": 20,
        "start_time": "2023-01-27T14:14:25.974Z"
      },
      {
        "duration": 21,
        "start_time": "2023-01-27T14:14:25.996Z"
      },
      {
        "duration": 7,
        "start_time": "2023-01-27T14:14:26.019Z"
      },
      {
        "duration": 83,
        "start_time": "2023-01-27T14:14:26.028Z"
      },
      {
        "duration": 91,
        "start_time": "2023-01-27T14:14:26.113Z"
      },
      {
        "duration": 8,
        "start_time": "2023-01-27T14:14:26.206Z"
      },
      {
        "duration": 2289,
        "start_time": "2023-01-27T14:27:07.220Z"
      },
      {
        "duration": 33,
        "start_time": "2023-01-27T14:27:09.511Z"
      },
      {
        "duration": 7,
        "start_time": "2023-01-27T14:27:26.055Z"
      },
      {
        "duration": 700,
        "start_time": "2023-01-27T14:27:27.261Z"
      },
      {
        "duration": 6,
        "start_time": "2023-01-27T14:27:29.461Z"
      },
      {
        "duration": 7,
        "start_time": "2023-01-27T14:27:29.676Z"
      },
      {
        "duration": 7,
        "start_time": "2023-01-27T14:30:02.757Z"
      },
      {
        "duration": 3,
        "start_time": "2023-01-27T14:30:03.386Z"
      },
      {
        "duration": 4,
        "start_time": "2023-01-27T14:30:03.876Z"
      },
      {
        "duration": 3,
        "start_time": "2023-01-27T14:30:25.721Z"
      },
      {
        "duration": 11,
        "start_time": "2023-01-27T14:30:26.336Z"
      },
      {
        "duration": 9,
        "start_time": "2023-01-27T14:30:27.157Z"
      },
      {
        "duration": 5,
        "start_time": "2023-01-27T14:30:28.181Z"
      },
      {
        "duration": 1561,
        "start_time": "2023-01-27T16:19:48.818Z"
      },
      {
        "duration": 8,
        "start_time": "2023-01-27T16:21:13.526Z"
      },
      {
        "duration": 108,
        "start_time": "2023-01-27T16:21:16.127Z"
      },
      {
        "duration": 90,
        "start_time": "2023-01-27T16:21:22.090Z"
      },
      {
        "duration": 6,
        "start_time": "2023-01-27T16:21:26.714Z"
      },
      {
        "duration": 49,
        "start_time": "2023-01-27T16:21:29.153Z"
      },
      {
        "duration": 4,
        "start_time": "2023-01-27T16:58:19.787Z"
      },
      {
        "duration": 23,
        "start_time": "2023-01-27T16:58:42.081Z"
      },
      {
        "duration": 252,
        "start_time": "2023-01-27T16:58:56.730Z"
      },
      {
        "duration": 4,
        "start_time": "2023-01-27T16:59:19.781Z"
      },
      {
        "duration": 267,
        "start_time": "2023-01-27T16:59:23.084Z"
      },
      {
        "duration": 3,
        "start_time": "2023-01-27T16:59:33.467Z"
      },
      {
        "duration": 319,
        "start_time": "2023-01-27T16:59:34.946Z"
      },
      {
        "duration": 4,
        "start_time": "2023-01-27T16:59:50.270Z"
      },
      {
        "duration": 327,
        "start_time": "2023-01-27T16:59:53.657Z"
      },
      {
        "duration": 3,
        "start_time": "2023-01-27T17:02:37.368Z"
      },
      {
        "duration": 87633,
        "start_time": "2023-01-27T17:03:17.603Z"
      },
      {
        "duration": 3,
        "start_time": "2023-01-27T17:15:17.977Z"
      },
      {
        "duration": 85710,
        "start_time": "2023-01-27T17:15:20.532Z"
      },
      {
        "duration": 187587,
        "start_time": "2023-01-27T17:16:55.048Z"
      },
      {
        "duration": 3,
        "start_time": "2023-01-27T17:20:02.637Z"
      },
      {
        "duration": 189991,
        "start_time": "2023-01-27T17:20:36.674Z"
      },
      {
        "duration": 3,
        "start_time": "2023-01-27T17:25:49.907Z"
      },
      {
        "duration": 187208,
        "start_time": "2023-01-27T17:25:52.017Z"
      },
      {
        "duration": 3,
        "start_time": "2023-01-27T17:28:59.227Z"
      },
      {
        "duration": 190708,
        "start_time": "2023-01-27T17:34:14.720Z"
      },
      {
        "duration": 62537,
        "start_time": "2023-01-27T17:37:25.430Z"
      },
      {
        "duration": 111,
        "start_time": "2023-01-27T17:38:58.649Z"
      },
      {
        "duration": 3,
        "start_time": "2023-01-27T17:40:34.088Z"
      },
      {
        "duration": 743,
        "start_time": "2023-01-27T17:41:10.504Z"
      },
      {
        "duration": 3,
        "start_time": "2023-01-27T17:41:55.663Z"
      },
      {
        "duration": 4,
        "start_time": "2023-01-27T17:41:58.150Z"
      },
      {
        "duration": 224,
        "start_time": "2023-01-27T17:41:59.648Z"
      },
      {
        "duration": 5,
        "start_time": "2023-01-27T17:42:17.023Z"
      },
      {
        "duration": 427,
        "start_time": "2023-01-27T17:42:19.151Z"
      },
      {
        "duration": 1418,
        "start_time": "2023-01-27T17:45:46.143Z"
      },
      {
        "duration": 31,
        "start_time": "2023-01-27T17:45:47.563Z"
      },
      {
        "duration": 9,
        "start_time": "2023-01-27T17:45:47.596Z"
      },
      {
        "duration": 84,
        "start_time": "2023-01-27T17:45:47.607Z"
      },
      {
        "duration": 5,
        "start_time": "2023-01-27T17:45:47.694Z"
      },
      {
        "duration": 25,
        "start_time": "2023-01-27T17:45:47.701Z"
      },
      {
        "duration": 4,
        "start_time": "2023-01-27T17:45:47.728Z"
      },
      {
        "duration": 263,
        "start_time": "2023-01-27T17:45:47.734Z"
      },
      {
        "duration": 4,
        "start_time": "2023-01-27T17:45:47.998Z"
      },
      {
        "duration": 402,
        "start_time": "2023-01-27T17:45:48.004Z"
      },
      {
        "duration": 10,
        "start_time": "2023-01-27T17:45:48.427Z"
      },
      {
        "duration": 55,
        "start_time": "2023-01-27T17:45:48.440Z"
      },
      {
        "duration": 22,
        "start_time": "2023-01-27T17:45:48.497Z"
      },
      {
        "duration": 172,
        "start_time": "2023-01-27T17:45:48.522Z"
      },
      {
        "duration": 16,
        "start_time": "2023-01-27T17:45:48.696Z"
      },
      {
        "duration": 14,
        "start_time": "2023-01-27T17:45:48.715Z"
      },
      {
        "duration": 7,
        "start_time": "2023-01-27T17:45:48.731Z"
      }
    ],
    "kernelspec": {
      "display_name": "Python 3 (ipykernel)",
      "language": "python",
      "name": "python3"
    },
    "language_info": {
      "codemirror_mode": {
        "name": "ipython",
        "version": 3
      },
      "file_extension": ".py",
      "mimetype": "text/x-python",
      "name": "python",
      "nbconvert_exporter": "python",
      "pygments_lexer": "ipython3",
      "version": "3.9.5"
    },
    "toc": {
      "base_numbering": 1,
      "nav_menu": {},
      "number_sections": false,
      "sideBar": true,
      "skip_h1_title": true,
      "title_cell": "Содержание",
      "title_sidebar": "Contents",
      "toc_cell": true,
      "toc_position": {},
      "toc_section_display": true,
      "toc_window_display": true
    },
    "colab": {
      "provenance": []
    }
  },
  "nbformat": 4,
  "nbformat_minor": 0
}