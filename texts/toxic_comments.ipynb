{
  "cells": [
    {
      "cell_type": "markdown",
      "metadata": {
        "toc": true,
        "id": "uWI3RnBbjBNy"
      },
      "source": [
        "<h1>Содержание<span class=\"tocSkip\"></span></h1>\n",
        "<div class=\"toc\"><ul class=\"toc-item\"><li><span><a href=\"#Цели-и-задачи-проекта\" data-toc-modified-id=\"Цели-и-задачи-проекта-1\">Цели и задачи проекта</a></span></li><li><span><a href=\"#Подготовка-данных\" data-toc-modified-id=\"Подготовка-данных-2\">Подготовка данных</a></span><ul class=\"toc-item\"><li><span><a href=\"#Вывод-по-разделу\" data-toc-modified-id=\"Вывод-по-разделу-2.1\">Вывод по разделу</a></span></li></ul></li><li><span><a href=\"#Обучение\" data-toc-modified-id=\"Обучение-3\">Обучение</a></span><ul class=\"toc-item\"><li><span><a href=\"#Логистическая-регрессия\" data-toc-modified-id=\"Логистическая-регрессия-3.1\">Логистическая регрессия</a></span></li><li><span><a href=\"#SGDClassifier\" data-toc-modified-id=\"SGDClassifier-3.2\">SGDClassifier</a></span></li><li><span><a href=\"#Тестирование-модели\" data-toc-modified-id=\"Тестирование-модели-3.3\">Тестирование модели</a></span></li></ul></li><li><span><a href=\"#Выводы\" data-toc-modified-id=\"Выводы-4\">Выводы</a></span></li><li><span><a href=\"#Чек-лист-проверки\" data-toc-modified-id=\"Чек-лист-проверки-5\">Чек-лист проверки</a></span></li></ul></div>"
      ]
    },
    {
      "cell_type": "markdown",
      "metadata": {
        "id": "SnDLBIUajBNz"
      },
      "source": [
        "# Классификация комментариев"
      ]
    },
    {
      "cell_type": "markdown",
      "metadata": {
        "id": "gyApxbSRjBN0"
      },
      "source": [
        "## Цели и задачи проекта\n",
        "\n",
        "**Цель исследования**\n",
        "\n",
        "Обучить модель классифицировать комментарии пользователей на позитивные и негативные на основе размеченных текстовых данных. Это необходимо, чтобы магазин мог отслеживать потенциально токсичные комментарии и отправлять их на модерацию.\n",
        "\n",
        "**Этапы исследования**\n",
        "\n",
        "1. Загрузить и подготовить данные\n",
        "2. Обучить несколько моделей, сравнить их качество\n",
        "3. Добиться значения метрики F1 не менее 0.75 на тестовых данных\n",
        "\n",
        "**Описание данных**\n",
        "\n",
        "Столбец `text` содержит текст комментария, а `toxic` — целевой признак."
      ]
    },
    {
      "cell_type": "markdown",
      "metadata": {
        "id": "T-eNBSkkjBN0"
      },
      "source": [
        "## Подготовка данных"
      ]
    },
    {
      "cell_type": "code",
      "execution_count": 1,
      "metadata": {
        "colab": {
          "base_uri": "https://localhost:8080/"
        },
        "id": "-DFWWj-gjBN1",
        "outputId": "98bdb733-d1e8-4745-8e9e-b894c7d7c4f2"
      },
      "outputs": [
        {
          "output_type": "stream",
          "name": "stderr",
          "text": [
            "[nltk_data] Downloading package wordnet to /root/nltk_data...\n",
            "[nltk_data] Downloading package stopwords to /root/nltk_data...\n",
            "[nltk_data]   Unzipping corpora/stopwords.zip.\n"
          ]
        }
      ],
      "source": [
        "import pandas as pd\n",
        "import numpy as np\n",
        "\n",
        "from tqdm import tqdm\n",
        "import seaborn as sns\n",
        "import matplotlib.pyplot as plt\n",
        "\n",
        "import re\n",
        "import warnings\n",
        "from nltk.stem import WordNetLemmatizer\n",
        "\n",
        "from sklearn.feature_extraction.text import TfidfVectorizer\n",
        "from sklearn.metrics import confusion_matrix, f1_score\n",
        "from sklearn.model_selection import train_test_split, RandomizedSearchCV\n",
        "from sklearn.linear_model import SGDClassifier, LogisticRegression\n",
        "\n",
        "from sklearn.pipeline import Pipeline\n",
        "\n",
        "plt.style.use('dark_background')\n",
        "warnings.filterwarnings('ignore')\n",
        "\n",
        "import nltk\n",
        "nltk.download('wordnet')\n",
        "nltk.download('stopwords') \n",
        "from nltk.corpus import stopwords\n"
      ]
    },
    {
      "cell_type": "code",
      "execution_count": 2,
      "metadata": {
        "id": "iZ53r_vVjBN3"
      },
      "outputs": [],
      "source": [
        "try:\n",
        "    w = pd.read_csv('/datasets/toxic_comments.csv')\n",
        "except: \n",
        "    w = pd.read_csv('/content/toxic_comments.csv')"
      ]
    },
    {
      "cell_type": "code",
      "execution_count": 3,
      "metadata": {
        "id": "DdZTMcv8jBN3"
      },
      "outputs": [],
      "source": [
        "# Делаем функцию для обзора данных\n",
        "def data_overview(data):\n",
        "    '''\n",
        "    Функция для обзора данных,\n",
        "    принимает на вход датафрейм,\n",
        "    выводит на экран его основные характеристики\n",
        "    и графики\n",
        "    '''\n",
        "    \n",
        "    print('Общая информация о данных (info)', (80 - len('Общая информация о данных (info)')) * '-', '\\n')\n",
        "    data.info()\n",
        "    print('')\n",
        "    print('Статистические показатели (describe)', (80 - len('Статистические показатели (describe)')) * '-')\n",
        "    display(data.describe().T)\n",
        "    print('')\n",
        "    print ('Пропущенные значения в данных', (80 - len('Пропущенные значения в данных')) * '-')\n",
        "    print('')\n",
        "    empty = sum(data.isna().sum())\n",
        "    if empty > 0:\n",
        "        print(f'Общее количество пропусков в данных: {empty}')\n",
        "        print()\n",
        "        (\n",
        "            (data.isna().mean()*100)\n",
        "            .to_frame()\n",
        "            .rename(columns = {0:'space'})\n",
        "            .query('space > 0')\n",
        "            .sort_values(by = 'space', ascending = True)\n",
        "            .plot(kind= 'barh', legend = False, figsize=(40,20),\n",
        "                  fontsize = 22)\n",
        "            .set_title('Количество пропусков по колонкам' + \"\\n\", fontsize = 26)\n",
        "        )\n",
        "    else:\n",
        "        print('Пропущенных значений нет')\n",
        "    print('')\n",
        "    print('Дубликаты в данных', (80 - len('Дубликаты в данных')) * '-')\n",
        "    print('')\n",
        "    if data.duplicated().sum() > 0:\n",
        "        print (f'Количество дубликатов в данных: {data.duplicated().sum()}')\n",
        "    else:\n",
        "        print('Дубликатов нет')\n",
        "    "
      ]
    },
    {
      "cell_type": "code",
      "execution_count": 4,
      "metadata": {
        "colab": {
          "base_uri": "https://localhost:8080/",
          "height": 504
        },
        "id": "FXt7KgdTjBN4",
        "outputId": "ae2538ee-c930-4d91-e74f-0eece9e94d37"
      },
      "outputs": [
        {
          "output_type": "stream",
          "name": "stdout",
          "text": [
            "Общая информация о данных (info) ------------------------------------------------ \n",
            "\n",
            "<class 'pandas.core.frame.DataFrame'>\n",
            "RangeIndex: 159292 entries, 0 to 159291\n",
            "Data columns (total 3 columns):\n",
            " #   Column      Non-Null Count   Dtype \n",
            "---  ------      --------------   ----- \n",
            " 0   Unnamed: 0  159292 non-null  int64 \n",
            " 1   text        159292 non-null  object\n",
            " 2   toxic       159292 non-null  int64 \n",
            "dtypes: int64(2), object(1)\n",
            "memory usage: 3.6+ MB\n",
            "\n",
            "Статистические показатели (describe) --------------------------------------------\n"
          ]
        },
        {
          "output_type": "display_data",
          "data": {
            "text/plain": [
              "               count          mean           std  min       25%      50%  \\\n",
              "Unnamed: 0  159292.0  79725.697242  46028.837471  0.0  39872.75  79721.5   \n",
              "toxic       159292.0      0.101612      0.302139  0.0      0.00      0.0   \n",
              "\n",
              "                  75%       max  \n",
              "Unnamed: 0  119573.25  159450.0  \n",
              "toxic            0.00       1.0  "
            ],
            "text/html": [
              "\n",
              "  <div id=\"df-bbd74568-10e4-4bb0-81dc-7e0c9bceca1a\">\n",
              "    <div class=\"colab-df-container\">\n",
              "      <div>\n",
              "<style scoped>\n",
              "    .dataframe tbody tr th:only-of-type {\n",
              "        vertical-align: middle;\n",
              "    }\n",
              "\n",
              "    .dataframe tbody tr th {\n",
              "        vertical-align: top;\n",
              "    }\n",
              "\n",
              "    .dataframe thead th {\n",
              "        text-align: right;\n",
              "    }\n",
              "</style>\n",
              "<table border=\"1\" class=\"dataframe\">\n",
              "  <thead>\n",
              "    <tr style=\"text-align: right;\">\n",
              "      <th></th>\n",
              "      <th>count</th>\n",
              "      <th>mean</th>\n",
              "      <th>std</th>\n",
              "      <th>min</th>\n",
              "      <th>25%</th>\n",
              "      <th>50%</th>\n",
              "      <th>75%</th>\n",
              "      <th>max</th>\n",
              "    </tr>\n",
              "  </thead>\n",
              "  <tbody>\n",
              "    <tr>\n",
              "      <th>Unnamed: 0</th>\n",
              "      <td>159292.0</td>\n",
              "      <td>79725.697242</td>\n",
              "      <td>46028.837471</td>\n",
              "      <td>0.0</td>\n",
              "      <td>39872.75</td>\n",
              "      <td>79721.5</td>\n",
              "      <td>119573.25</td>\n",
              "      <td>159450.0</td>\n",
              "    </tr>\n",
              "    <tr>\n",
              "      <th>toxic</th>\n",
              "      <td>159292.0</td>\n",
              "      <td>0.101612</td>\n",
              "      <td>0.302139</td>\n",
              "      <td>0.0</td>\n",
              "      <td>0.00</td>\n",
              "      <td>0.0</td>\n",
              "      <td>0.00</td>\n",
              "      <td>1.0</td>\n",
              "    </tr>\n",
              "  </tbody>\n",
              "</table>\n",
              "</div>\n",
              "      <button class=\"colab-df-convert\" onclick=\"convertToInteractive('df-bbd74568-10e4-4bb0-81dc-7e0c9bceca1a')\"\n",
              "              title=\"Convert this dataframe to an interactive table.\"\n",
              "              style=\"display:none;\">\n",
              "        \n",
              "  <svg xmlns=\"http://www.w3.org/2000/svg\" height=\"24px\"viewBox=\"0 0 24 24\"\n",
              "       width=\"24px\">\n",
              "    <path d=\"M0 0h24v24H0V0z\" fill=\"none\"/>\n",
              "    <path d=\"M18.56 5.44l.94 2.06.94-2.06 2.06-.94-2.06-.94-.94-2.06-.94 2.06-2.06.94zm-11 1L8.5 8.5l.94-2.06 2.06-.94-2.06-.94L8.5 2.5l-.94 2.06-2.06.94zm10 10l.94 2.06.94-2.06 2.06-.94-2.06-.94-.94-2.06-.94 2.06-2.06.94z\"/><path d=\"M17.41 7.96l-1.37-1.37c-.4-.4-.92-.59-1.43-.59-.52 0-1.04.2-1.43.59L10.3 9.45l-7.72 7.72c-.78.78-.78 2.05 0 2.83L4 21.41c.39.39.9.59 1.41.59.51 0 1.02-.2 1.41-.59l7.78-7.78 2.81-2.81c.8-.78.8-2.07 0-2.86zM5.41 20L4 18.59l7.72-7.72 1.47 1.35L5.41 20z\"/>\n",
              "  </svg>\n",
              "      </button>\n",
              "      \n",
              "  <style>\n",
              "    .colab-df-container {\n",
              "      display:flex;\n",
              "      flex-wrap:wrap;\n",
              "      gap: 12px;\n",
              "    }\n",
              "\n",
              "    .colab-df-convert {\n",
              "      background-color: #E8F0FE;\n",
              "      border: none;\n",
              "      border-radius: 50%;\n",
              "      cursor: pointer;\n",
              "      display: none;\n",
              "      fill: #1967D2;\n",
              "      height: 32px;\n",
              "      padding: 0 0 0 0;\n",
              "      width: 32px;\n",
              "    }\n",
              "\n",
              "    .colab-df-convert:hover {\n",
              "      background-color: #E2EBFA;\n",
              "      box-shadow: 0px 1px 2px rgba(60, 64, 67, 0.3), 0px 1px 3px 1px rgba(60, 64, 67, 0.15);\n",
              "      fill: #174EA6;\n",
              "    }\n",
              "\n",
              "    [theme=dark] .colab-df-convert {\n",
              "      background-color: #3B4455;\n",
              "      fill: #D2E3FC;\n",
              "    }\n",
              "\n",
              "    [theme=dark] .colab-df-convert:hover {\n",
              "      background-color: #434B5C;\n",
              "      box-shadow: 0px 1px 3px 1px rgba(0, 0, 0, 0.15);\n",
              "      filter: drop-shadow(0px 1px 2px rgba(0, 0, 0, 0.3));\n",
              "      fill: #FFFFFF;\n",
              "    }\n",
              "  </style>\n",
              "\n",
              "      <script>\n",
              "        const buttonEl =\n",
              "          document.querySelector('#df-bbd74568-10e4-4bb0-81dc-7e0c9bceca1a button.colab-df-convert');\n",
              "        buttonEl.style.display =\n",
              "          google.colab.kernel.accessAllowed ? 'block' : 'none';\n",
              "\n",
              "        async function convertToInteractive(key) {\n",
              "          const element = document.querySelector('#df-bbd74568-10e4-4bb0-81dc-7e0c9bceca1a');\n",
              "          const dataTable =\n",
              "            await google.colab.kernel.invokeFunction('convertToInteractive',\n",
              "                                                     [key], {});\n",
              "          if (!dataTable) return;\n",
              "\n",
              "          const docLinkHtml = 'Like what you see? Visit the ' +\n",
              "            '<a target=\"_blank\" href=https://colab.research.google.com/notebooks/data_table.ipynb>data table notebook</a>'\n",
              "            + ' to learn more about interactive tables.';\n",
              "          element.innerHTML = '';\n",
              "          dataTable['output_type'] = 'display_data';\n",
              "          await google.colab.output.renderOutput(dataTable, element);\n",
              "          const docLink = document.createElement('div');\n",
              "          docLink.innerHTML = docLinkHtml;\n",
              "          element.appendChild(docLink);\n",
              "        }\n",
              "      </script>\n",
              "    </div>\n",
              "  </div>\n",
              "  "
            ]
          },
          "metadata": {}
        },
        {
          "output_type": "stream",
          "name": "stdout",
          "text": [
            "\n",
            "Пропущенные значения в данных ---------------------------------------------------\n",
            "\n",
            "Пропущенных значений нет\n",
            "\n",
            "Дубликаты в данных --------------------------------------------------------------\n",
            "\n",
            "Дубликатов нет\n"
          ]
        }
      ],
      "source": [
        "data_overview(w)"
      ]
    },
    {
      "cell_type": "markdown",
      "metadata": {
        "id": "UbNL5s19jBN4"
      },
      "source": [
        "В нашей таблице больше 150 тыс. строк, пропусков нет, дубликатов нет. В столбце `text` содержатся строковые значения (тексты), в столбце `toxic` — целевой признак. Посмотрим на его распределение."
      ]
    },
    {
      "cell_type": "code",
      "execution_count": 5,
      "metadata": {
        "colab": {
          "base_uri": "https://localhost:8080/"
        },
        "id": "QRt7vWJdjBN4",
        "outputId": "00f3f9e1-b83b-486b-b525-67ad9c907046"
      },
      "outputs": [
        {
          "output_type": "execute_result",
          "data": {
            "text/plain": [
              "0    0.898388\n",
              "1    0.101612\n",
              "Name: toxic, dtype: float64"
            ]
          },
          "metadata": {},
          "execution_count": 5
        }
      ],
      "source": [
        "w.toxic.value_counts(normalize=True)"
      ]
    },
    {
      "cell_type": "code",
      "execution_count": 6,
      "metadata": {
        "colab": {
          "base_uri": "https://localhost:8080/",
          "height": 472
        },
        "id": "67ZxfJ7MjBN5",
        "outputId": "f742d3c1-3ccb-46fa-9498-f5534c911a8c"
      },
      "outputs": [
        {
          "output_type": "display_data",
          "data": {
            "text/plain": [
              "<Figure size 640x480 with 1 Axes>"
            ],
            "image/png": "[encoded data removed]"
          },
          "metadata": {}
        }
      ],
      "source": [
        "sns.countplot(data=w, x='toxic')\n",
        "plt.title('Распределение целевого признака');"
      ]
    },
    {
      "cell_type": "markdown",
      "metadata": {
        "id": "fnybcAT8jBN5"
      },
      "source": [
        "Мы видим, что в целевом признаке имеется дисбаланс. Текстов, помеченных как токсичные (значение 1 у целевой переменной), — около 10% выборки, нейтральных (со значением 0 в столбце `toxic`) — порядка 90%."
      ]
    },
    {
      "cell_type": "markdown",
      "metadata": {
        "id": "oOYqimqDjBN6"
      },
      "source": [
        "Посмотрим, как выглядят наши тексты."
      ]
    },
    {
      "cell_type": "code",
      "execution_count": 7,
      "metadata": {
        "colab": {
          "base_uri": "https://localhost:8080/",
          "height": 206
        },
        "id": "wuHPRvbNjBN6",
        "outputId": "20cebe85-7293-4f54-99b0-3718c4e0f681"
      },
      "outputs": [
        {
          "output_type": "execute_result",
          "data": {
            "text/plain": [
              "   Unnamed: 0                                               text  toxic\n",
              "0           0  Explanation\\nWhy the edits made under my usern...      0\n",
              "1           1  D'aww! He matches this background colour I'm s...      0\n",
              "2           2  Hey man, I'm really not trying to edit war. It...      0\n",
              "3           3  \"\\nMore\\nI can't make any real suggestions on ...      0\n",
              "4           4  You, sir, are my hero. Any chance you remember...      0"
            ],
            "text/html": [
              "\n",
              "  <div id=\"df-909733ce-d31c-4bcb-a941-25e9ead263fd\">\n",
              "    <div class=\"colab-df-container\">\n",
              "      <div>\n",
              "<style scoped>\n",
              "    .dataframe tbody tr th:only-of-type {\n",
              "        vertical-align: middle;\n",
              "    }\n",
              "\n",
              "    .dataframe tbody tr th {\n",
              "        vertical-align: top;\n",
              "    }\n",
              "\n",
              "    .dataframe thead th {\n",
              "        text-align: right;\n",
              "    }\n",
              "</style>\n",
              "<table border=\"1\" class=\"dataframe\">\n",
              "  <thead>\n",
              "    <tr style=\"text-align: right;\">\n",
              "      <th></th>\n",
              "      <th>Unnamed: 0</th>\n",
              "      <th>text</th>\n",
              "      <th>toxic</th>\n",
              "    </tr>\n",
              "  </thead>\n",
              "  <tbody>\n",
              "    <tr>\n",
              "      <th>0</th>\n",
              "      <td>0</td>\n",
              "      <td>Explanation\\nWhy the edits made under my usern...</td>\n",
              "      <td>0</td>\n",
              "    </tr>\n",
              "    <tr>\n",
              "      <th>1</th>\n",
              "      <td>1</td>\n",
              "      <td>D'aww! He matches this background colour I'm s...</td>\n",
              "      <td>0</td>\n",
              "    </tr>\n",
              "    <tr>\n",
              "      <th>2</th>\n",
              "      <td>2</td>\n",
              "      <td>Hey man, I'm really not trying to edit war. It...</td>\n",
              "      <td>0</td>\n",
              "    </tr>\n",
              "    <tr>\n",
              "      <th>3</th>\n",
              "      <td>3</td>\n",
              "      <td>\"\\nMore\\nI can't make any real suggestions on ...</td>\n",
              "      <td>0</td>\n",
              "    </tr>\n",
              "    <tr>\n",
              "      <th>4</th>\n",
              "      <td>4</td>\n",
              "      <td>You, sir, are my hero. Any chance you remember...</td>\n",
              "      <td>0</td>\n",
              "    </tr>\n",
              "  </tbody>\n",
              "</table>\n",
              "</div>\n",
              "      <button class=\"colab-df-convert\" onclick=\"convertToInteractive('df-909733ce-d31c-4bcb-a941-25e9ead263fd')\"\n",
              "              title=\"Convert this dataframe to an interactive table.\"\n",
              "              style=\"display:none;\">\n",
              "        \n",
              "  <svg xmlns=\"http://www.w3.org/2000/svg\" height=\"24px\"viewBox=\"0 0 24 24\"\n",
              "       width=\"24px\">\n",
              "    <path d=\"M0 0h24v24H0V0z\" fill=\"none\"/>\n",
              "    <path d=\"M18.56 5.44l.94 2.06.94-2.06 2.06-.94-2.06-.94-.94-2.06-.94 2.06-2.06.94zm-11 1L8.5 8.5l.94-2.06 2.06-.94-2.06-.94L8.5 2.5l-.94 2.06-2.06.94zm10 10l.94 2.06.94-2.06 2.06-.94-2.06-.94-.94-2.06-.94 2.06-2.06.94z\"/><path d=\"M17.41 7.96l-1.37-1.37c-.4-.4-.92-.59-1.43-.59-.52 0-1.04.2-1.43.59L10.3 9.45l-7.72 7.72c-.78.78-.78 2.05 0 2.83L4 21.41c.39.39.9.59 1.41.59.51 0 1.02-.2 1.41-.59l7.78-7.78 2.81-2.81c.8-.78.8-2.07 0-2.86zM5.41 20L4 18.59l7.72-7.72 1.47 1.35L5.41 20z\"/>\n",
              "  </svg>\n",
              "      </button>\n",
              "      \n",
              "  <style>\n",
              "    .colab-df-container {\n",
              "      display:flex;\n",
              "      flex-wrap:wrap;\n",
              "      gap: 12px;\n",
              "    }\n",
              "\n",
              "    .colab-df-convert {\n",
              "      background-color: #E8F0FE;\n",
              "      border: none;\n",
              "      border-radius: 50%;\n",
              "      cursor: pointer;\n",
              "      display: none;\n",
              "      fill: #1967D2;\n",
              "      height: 32px;\n",
              "      padding: 0 0 0 0;\n",
              "      width: 32px;\n",
              "    }\n",
              "\n",
              "    .colab-df-convert:hover {\n",
              "      background-color: #E2EBFA;\n",
              "      box-shadow: 0px 1px 2px rgba(60, 64, 67, 0.3), 0px 1px 3px 1px rgba(60, 64, 67, 0.15);\n",
              "      fill: #174EA6;\n",
              "    }\n",
              "\n",
              "    [theme=dark] .colab-df-convert {\n",
              "      background-color: #3B4455;\n",
              "      fill: #D2E3FC;\n",
              "    }\n",
              "\n",
              "    [theme=dark] .colab-df-convert:hover {\n",
              "      background-color: #434B5C;\n",
              "      box-shadow: 0px 1px 3px 1px rgba(0, 0, 0, 0.15);\n",
              "      filter: drop-shadow(0px 1px 2px rgba(0, 0, 0, 0.3));\n",
              "      fill: #FFFFFF;\n",
              "    }\n",
              "  </style>\n",
              "\n",
              "      <script>\n",
              "        const buttonEl =\n",
              "          document.querySelector('#df-909733ce-d31c-4bcb-a941-25e9ead263fd button.colab-df-convert');\n",
              "        buttonEl.style.display =\n",
              "          google.colab.kernel.accessAllowed ? 'block' : 'none';\n",
              "\n",
              "        async function convertToInteractive(key) {\n",
              "          const element = document.querySelector('#df-909733ce-d31c-4bcb-a941-25e9ead263fd');\n",
              "          const dataTable =\n",
              "            await google.colab.kernel.invokeFunction('convertToInteractive',\n",
              "                                                     [key], {});\n",
              "          if (!dataTable) return;\n",
              "\n",
              "          const docLinkHtml = 'Like what you see? Visit the ' +\n",
              "            '<a target=\"_blank\" href=https://colab.research.google.com/notebooks/data_table.ipynb>data table notebook</a>'\n",
              "            + ' to learn more about interactive tables.';\n",
              "          element.innerHTML = '';\n",
              "          dataTable['output_type'] = 'display_data';\n",
              "          await google.colab.output.renderOutput(dataTable, element);\n",
              "          const docLink = document.createElement('div');\n",
              "          docLink.innerHTML = docLinkHtml;\n",
              "          element.appendChild(docLink);\n",
              "        }\n",
              "      </script>\n",
              "    </div>\n",
              "  </div>\n",
              "  "
            ]
          },
          "metadata": {},
          "execution_count": 7
        }
      ],
      "source": [
        "w.head()"
      ]
    },
    {
      "cell_type": "markdown",
      "metadata": {
        "id": "Ws47JBycjBN6"
      },
      "source": [
        "В наших текстах есть знаки пунктуации, спецсимволы. Нужно очистить данные от этих символов, а также провести лемматизацию текстов, то есть поставить все слова в их начальную форму. Воспользуемся классом для лемматизации из библиотеки nltk."
      ]
    },
    {
      "cell_type": "code",
      "execution_count": 8,
      "metadata": {
        "id": "dvxZrN7XjBN8"
      },
      "outputs": [],
      "source": [
        "lemmatizer = WordNetLemmatizer()\n",
        "\n",
        "def lemmatize(text):  \n",
        "    clean_text = re.sub(r'[^a-zA-Z ]', ' ', text)\n",
        "    return ' '.join([lemmatizer.lemmatize(x) for x in clean_text.split()]) "
      ]
    },
    {
      "cell_type": "code",
      "execution_count": 9,
      "metadata": {
        "id": "impJTiyKjBN9"
      },
      "outputs": [],
      "source": [
        "w.text =  w.text.apply(lemmatize)"
      ]
    },
    {
      "cell_type": "code",
      "execution_count": 10,
      "metadata": {
        "scrolled": true,
        "colab": {
          "base_uri": "https://localhost:8080/"
        },
        "id": "LGXbJYrgjBN-",
        "outputId": "7349ce89-0e41-420e-96cb-5ea871ba451c"
      },
      "outputs": [
        {
          "output_type": "execute_result",
          "data": {
            "text/plain": [
              "0    Explanation Why the edits made under my userna...\n",
              "1    D aww He match this background colour I m seem...\n",
              "2    Hey man I m really not trying to edit war It s...\n",
              "3    More I can t make any real suggestion on impro...\n",
              "4    You sir are my hero Any chance you remember wh...\n",
              "Name: text, dtype: object"
            ]
          },
          "metadata": {},
          "execution_count": 10
        }
      ],
      "source": [
        "w.text.head()"
      ]
    },
    {
      "cell_type": "markdown",
      "metadata": {
        "id": "-2uhivaJjBN-"
      },
      "source": [
        "Выделим в данных фичи и таргет и разобьем на обучающую и тестовую выборки с учетом дисбаланса."
      ]
    },
    {
      "cell_type": "code",
      "execution_count": 11,
      "metadata": {
        "id": "q1Eb_P6MjBN-"
      },
      "outputs": [],
      "source": [
        "features = w.text\n",
        "target = w.toxic\n",
        "\n",
        "features_train, features_test, target_train, target_test = (\n",
        "    train_test_split(features, target, \n",
        "                     test_size=.25, \n",
        "                     stratify=target, \n",
        "                     random_state=88)\n",
        ")"
      ]
    },
    {
      "cell_type": "code",
      "execution_count": 12,
      "metadata": {
        "colab": {
          "base_uri": "https://localhost:8080/"
        },
        "id": "W8WJM7zrjBN-",
        "outputId": "f574b616-734e-491a-ed8a-91c0c512684c"
      },
      "outputs": [
        {
          "output_type": "stream",
          "name": "stdout",
          "text": [
            "(119469,)\n",
            "(39823,)\n",
            "0    0.898388\n",
            "1    0.101612\n",
            "Name: toxic, dtype: float64\n"
          ]
        }
      ],
      "source": [
        "print(features_train.shape)\n",
        "print(features_test.shape)\n",
        "print(target.value_counts(normalize=True))"
      ]
    },
    {
      "cell_type": "markdown",
      "metadata": {
        "id": "A-4gPAisjBN-"
      },
      "source": [
        "Преобразуем признаки в матрицу."
      ]
    },
    {
      "cell_type": "code",
      "execution_count": 13,
      "metadata": {
        "id": "_FiGwxJpjBN_"
      },
      "outputs": [],
      "source": [
        "corp_train = features_train.values\n",
        "corp_test = features_test.values"
      ]
    },
    {
      "cell_type": "markdown",
      "metadata": {
        "id": "USEEE0cXjBN_"
      },
      "source": [
        "Далее мы рассчитаем матрицу TF-IDF с учетом стоп-слов и выделим n-граммы (1 и 2 слова). Это мы будем делать в пайплайне, чтобы не было утечки данных."
      ]
    },
    {
      "cell_type": "markdown",
      "metadata": {
        "id": "zkjvVgiajBN_"
      },
      "source": [
        "### Вывод по разделу\n",
        "Мы провели лемматизацию и подготовили данные к обучению. Разбили данные на тренировочную и тестовую выборки с учетом дисбаланса целевого признака. Далее мы рассчитаем в пайплайне матрицу TF-IDF с учетом стоп-слов и выделим n-граммы. "
      ]
    },
    {
      "cell_type": "markdown",
      "metadata": {
        "id": "raGAyC1cjBN_"
      },
      "source": [
        "## Обучение"
      ]
    },
    {
      "cell_type": "markdown",
      "metadata": {
        "id": "UFSalNfbjBN_"
      },
      "source": [
        "Обучим на подготовленных данных модели логистической регрессии и SGDClassifier."
      ]
    },
    {
      "cell_type": "markdown",
      "metadata": {
        "id": "7l1ZymEnjBOI"
      },
      "source": [
        "### Логистическая регрессия"
      ]
    },
    {
      "cell_type": "code",
      "execution_count": 14,
      "metadata": {
        "id": "4jQd3WTMjBOI"
      },
      "outputs": [],
      "source": [
        "stops = list(stopwords.words('english'))"
      ]
    },
    {
      "cell_type": "code",
      "execution_count": 15,
      "metadata": {
        "colab": {
          "base_uri": "https://localhost:8080/",
          "height": 188
        },
        "id": "6wKz-O3gjBOI",
        "outputId": "bc9c0fe1-3f9e-4d9c-d6eb-4a5f61f58baa"
      },
      "outputs": [
        {
          "output_type": "stream",
          "name": "stdout",
          "text": [
            "CPU times: user 14min 55s, sys: 5min 42s, total: 20min 37s\n",
            "Wall time: 14min 25s\n"
          ]
        },
        {
          "output_type": "execute_result",
          "data": {
            "text/plain": [
              "RandomizedSearchCV(cv=5,\n",
              "                   estimator=Pipeline(steps=[('vect',\n",
              "                                              TfidfVectorizer(ngram_range=(1,\n",
              "                                                                           2),\n",
              "                                                              stop_words=['i',\n",
              "                                                                          'me',\n",
              "                                                                          'my',\n",
              "                                                                          'myself',\n",
              "                                                                          'we',\n",
              "                                                                          'our',\n",
              "                                                                          'ours',\n",
              "                                                                          'ourselves',\n",
              "                                                                          'you',\n",
              "                                                                          \"you're\",\n",
              "                                                                          \"you've\",\n",
              "                                                                          \"you'll\",\n",
              "                                                                          \"you'd\",\n",
              "                                                                          'your',\n",
              "                                                                          'yours',\n",
              "                                                                          'yourself',\n",
              "                                                                          'yourselves',\n",
              "                                                                          'he',\n",
              "                                                                          'him',\n",
              "                                                                          'his',\n",
              "                                                                          'himself',\n",
              "                                                                          'she',\n",
              "                                                                          \"she's\",\n",
              "                                                                          'her',\n",
              "                                                                          'hers',\n",
              "                                                                          'herself',\n",
              "                                                                          'it',\n",
              "                                                                          \"it's\",\n",
              "                                                                          'its',\n",
              "                                                                          'itself', ...])),\n",
              "                                             ('model',\n",
              "                                              LogisticRegression(class_weight='balanced',\n",
              "                                                                 random_state=88))]),\n",
              "                   param_distributions={'model__C': [7, 9]}, random_state=88,\n",
              "                   scoring='f1')"
            ],
            "text/html": [
              "<style>#sk-container-id-1 {color: black;background-color: white;}#sk-container-id-1 pre{padding: 0;}#sk-container-id-1 div.sk-toggleable {background-color: white;}#sk-container-id-1 label.sk-toggleable__label {cursor: pointer;display: block;width: 100%;margin-bottom: 0;padding: 0.3em;box-sizing: border-box;text-align: center;}#sk-container-id-1 label.sk-toggleable__label-arrow:before {content: \"▸\";float: left;margin-right: 0.25em;color: #696969;}#sk-container-id-1 label.sk-toggleable__label-arrow:hover:before {color: black;}#sk-container-id-1 div.sk-estimator:hover label.sk-toggleable__label-arrow:before {color: black;}#sk-container-id-1 div.sk-toggleable__content {max-height: 0;max-width: 0;overflow: hidden;text-align: left;background-color: #f0f8ff;}#sk-container-id-1 div.sk-toggleable__content pre {margin: 0.2em;color: black;border-radius: 0.25em;background-color: #f0f8ff;}#sk-container-id-1 input.sk-toggleable__control:checked~div.sk-toggleable__content {max-height: 200px;max-width: 100%;overflow: auto;}#sk-container-id-1 input.sk-toggleable__control:checked~label.sk-toggleable__label-arrow:before {content: \"▾\";}#sk-container-id-1 div.sk-estimator input.sk-toggleable__control:checked~label.sk-toggleable__label {background-color: #d4ebff;}#sk-container-id-1 div.sk-label input.sk-toggleable__control:checked~label.sk-toggleable__label {background-color: #d4ebff;}#sk-container-id-1 input.sk-hidden--visually {border: 0;clip: rect(1px 1px 1px 1px);clip: rect(1px, 1px, 1px, 1px);height: 1px;margin: -1px;overflow: hidden;padding: 0;position: absolute;width: 1px;}#sk-container-id-1 div.sk-estimator {font-family: monospace;background-color: #f0f8ff;border: 1px dotted black;border-radius: 0.25em;box-sizing: border-box;margin-bottom: 0.5em;}#sk-container-id-1 div.sk-estimator:hover {background-color: #d4ebff;}#sk-container-id-1 div.sk-parallel-item::after {content: \"\";width: 100%;border-bottom: 1px solid gray;flex-grow: 1;}#sk-container-id-1 div.sk-label:hover label.sk-toggleable__label {background-color: #d4ebff;}#sk-container-id-1 div.sk-serial::before {content: \"\";position: absolute;border-left: 1px solid gray;box-sizing: border-box;top: 0;bottom: 0;left: 50%;z-index: 0;}#sk-container-id-1 div.sk-serial {display: flex;flex-direction: column;align-items: center;background-color: white;padding-right: 0.2em;padding-left: 0.2em;position: relative;}#sk-container-id-1 div.sk-item {position: relative;z-index: 1;}#sk-container-id-1 div.sk-parallel {display: flex;align-items: stretch;justify-content: center;background-color: white;position: relative;}#sk-container-id-1 div.sk-item::before, #sk-container-id-1 div.sk-parallel-item::before {content: \"\";position: absolute;border-left: 1px solid gray;box-sizing: border-box;top: 0;bottom: 0;left: 50%;z-index: -1;}#sk-container-id-1 div.sk-parallel-item {display: flex;flex-direction: column;z-index: 1;position: relative;background-color: white;}#sk-container-id-1 div.sk-parallel-item:first-child::after {align-self: flex-end;width: 50%;}#sk-container-id-1 div.sk-parallel-item:last-child::after {align-self: flex-start;width: 50%;}#sk-container-id-1 div.sk-parallel-item:only-child::after {width: 0;}#sk-container-id-1 div.sk-dashed-wrapped {border: 1px dashed gray;margin: 0 0.4em 0.5em 0.4em;box-sizing: border-box;padding-bottom: 0.4em;background-color: white;}#sk-container-id-1 div.sk-label label {font-family: monospace;font-weight: bold;display: inline-block;line-height: 1.2em;}#sk-container-id-1 div.sk-label-container {text-align: center;}#sk-container-id-1 div.sk-container {/* jupyter's `normalize.less` sets `[hidden] { display: none; }` but bootstrap.min.css set `[hidden] { display: none !important; }` so we also need the `!important` here to be able to override the default hidden behavior on the sphinx rendered scikit-learn.org. See: https://github.com/scikit-learn/scikit-learn/issues/21755 */display: inline-block !important;position: relative;}#sk-container-id-1 div.sk-text-repr-fallback {display: none;}</style><div id=\"sk-container-id-1\" class=\"sk-top-container\"><div class=\"sk-text-repr-fallback\"><pre>RandomizedSearchCV(cv=5,\n",
              "                   estimator=Pipeline(steps=[(&#x27;vect&#x27;,\n",
              "                                              TfidfVectorizer(ngram_range=(1,\n",
              "                                                                           2),\n",
              "                                                              stop_words=[&#x27;i&#x27;,\n",
              "                                                                          &#x27;me&#x27;,\n",
              "                                                                          &#x27;my&#x27;,\n",
              "                                                                          &#x27;myself&#x27;,\n",
              "                                                                          &#x27;we&#x27;,\n",
              "                                                                          &#x27;our&#x27;,\n",
              "                                                                          &#x27;ours&#x27;,\n",
              "                                                                          &#x27;ourselves&#x27;,\n",
              "                                                                          &#x27;you&#x27;,\n",
              "                                                                          &quot;you&#x27;re&quot;,\n",
              "                                                                          &quot;you&#x27;ve&quot;,\n",
              "                                                                          &quot;you&#x27;ll&quot;,\n",
              "                                                                          &quot;you&#x27;d&quot;,\n",
              "                                                                          &#x27;your&#x27;,\n",
              "                                                                          &#x27;yours&#x27;,\n",
              "                                                                          &#x27;yourself&#x27;,\n",
              "                                                                          &#x27;yourselves&#x27;,\n",
              "                                                                          &#x27;he&#x27;,\n",
              "                                                                          &#x27;him&#x27;,\n",
              "                                                                          &#x27;his&#x27;,\n",
              "                                                                          &#x27;himself&#x27;,\n",
              "                                                                          &#x27;she&#x27;,\n",
              "                                                                          &quot;she&#x27;s&quot;,\n",
              "                                                                          &#x27;her&#x27;,\n",
              "                                                                          &#x27;hers&#x27;,\n",
              "                                                                          &#x27;herself&#x27;,\n",
              "                                                                          &#x27;it&#x27;,\n",
              "                                                                          &quot;it&#x27;s&quot;,\n",
              "                                                                          &#x27;its&#x27;,\n",
              "                                                                          &#x27;itself&#x27;, ...])),\n",
              "                                             (&#x27;model&#x27;,\n",
              "                                              LogisticRegression(class_weight=&#x27;balanced&#x27;,\n",
              "                                                                 random_state=88))]),\n",
              "                   param_distributions={&#x27;model__C&#x27;: [7, 9]}, random_state=88,\n",
              "                   scoring=&#x27;f1&#x27;)</pre><b>In a Jupyter environment, please rerun this cell to show the HTML representation or trust the notebook. <br />On GitHub, the HTML representation is unable to render, please try loading this page with nbviewer.org.</b></div><div class=\"sk-container\" hidden><div class=\"sk-item sk-dashed-wrapped\"><div class=\"sk-label-container\"><div class=\"sk-label sk-toggleable\"><input class=\"sk-toggleable__control sk-hidden--visually\" id=\"sk-estimator-id-1\" type=\"checkbox\" ><label for=\"sk-estimator-id-1\" class=\"sk-toggleable__label sk-toggleable__label-arrow\">RandomizedSearchCV</label><div class=\"sk-toggleable__content\"><pre>RandomizedSearchCV(cv=5,\n",
              "                   estimator=Pipeline(steps=[(&#x27;vect&#x27;,\n",
              "                                              TfidfVectorizer(ngram_range=(1,\n",
              "                                                                           2),\n",
              "                                                              stop_words=[&#x27;i&#x27;,\n",
              "                                                                          &#x27;me&#x27;,\n",
              "                                                                          &#x27;my&#x27;,\n",
              "                                                                          &#x27;myself&#x27;,\n",
              "                                                                          &#x27;we&#x27;,\n",
              "                                                                          &#x27;our&#x27;,\n",
              "                                                                          &#x27;ours&#x27;,\n",
              "                                                                          &#x27;ourselves&#x27;,\n",
              "                                                                          &#x27;you&#x27;,\n",
              "                                                                          &quot;you&#x27;re&quot;,\n",
              "                                                                          &quot;you&#x27;ve&quot;,\n",
              "                                                                          &quot;you&#x27;ll&quot;,\n",
              "                                                                          &quot;you&#x27;d&quot;,\n",
              "                                                                          &#x27;your&#x27;,\n",
              "                                                                          &#x27;yours&#x27;,\n",
              "                                                                          &#x27;yourself&#x27;,\n",
              "                                                                          &#x27;yourselves&#x27;,\n",
              "                                                                          &#x27;he&#x27;,\n",
              "                                                                          &#x27;him&#x27;,\n",
              "                                                                          &#x27;his&#x27;,\n",
              "                                                                          &#x27;himself&#x27;,\n",
              "                                                                          &#x27;she&#x27;,\n",
              "                                                                          &quot;she&#x27;s&quot;,\n",
              "                                                                          &#x27;her&#x27;,\n",
              "                                                                          &#x27;hers&#x27;,\n",
              "                                                                          &#x27;herself&#x27;,\n",
              "                                                                          &#x27;it&#x27;,\n",
              "                                                                          &quot;it&#x27;s&quot;,\n",
              "                                                                          &#x27;its&#x27;,\n",
              "                                                                          &#x27;itself&#x27;, ...])),\n",
              "                                             (&#x27;model&#x27;,\n",
              "                                              LogisticRegression(class_weight=&#x27;balanced&#x27;,\n",
              "                                                                 random_state=88))]),\n",
              "                   param_distributions={&#x27;model__C&#x27;: [7, 9]}, random_state=88,\n",
              "                   scoring=&#x27;f1&#x27;)</pre></div></div></div><div class=\"sk-parallel\"><div class=\"sk-parallel-item\"><div class=\"sk-item\"><div class=\"sk-label-container\"><div class=\"sk-label sk-toggleable\"><input class=\"sk-toggleable__control sk-hidden--visually\" id=\"sk-estimator-id-2\" type=\"checkbox\" ><label for=\"sk-estimator-id-2\" class=\"sk-toggleable__label sk-toggleable__label-arrow\">estimator: Pipeline</label><div class=\"sk-toggleable__content\"><pre>Pipeline(steps=[(&#x27;vect&#x27;,\n",
              "                 TfidfVectorizer(ngram_range=(1, 2),\n",
              "                                 stop_words=[&#x27;i&#x27;, &#x27;me&#x27;, &#x27;my&#x27;, &#x27;myself&#x27;, &#x27;we&#x27;,\n",
              "                                             &#x27;our&#x27;, &#x27;ours&#x27;, &#x27;ourselves&#x27;, &#x27;you&#x27;,\n",
              "                                             &quot;you&#x27;re&quot;, &quot;you&#x27;ve&quot;, &quot;you&#x27;ll&quot;,\n",
              "                                             &quot;you&#x27;d&quot;, &#x27;your&#x27;, &#x27;yours&#x27;,\n",
              "                                             &#x27;yourself&#x27;, &#x27;yourselves&#x27;, &#x27;he&#x27;,\n",
              "                                             &#x27;him&#x27;, &#x27;his&#x27;, &#x27;himself&#x27;, &#x27;she&#x27;,\n",
              "                                             &quot;she&#x27;s&quot;, &#x27;her&#x27;, &#x27;hers&#x27;, &#x27;herself&#x27;,\n",
              "                                             &#x27;it&#x27;, &quot;it&#x27;s&quot;, &#x27;its&#x27;, &#x27;itself&#x27;, ...])),\n",
              "                (&#x27;model&#x27;,\n",
              "                 LogisticRegression(class_weight=&#x27;balanced&#x27;, random_state=88))])</pre></div></div></div><div class=\"sk-serial\"><div class=\"sk-item\"><div class=\"sk-serial\"><div class=\"sk-item\"><div class=\"sk-estimator sk-toggleable\"><input class=\"sk-toggleable__control sk-hidden--visually\" id=\"sk-estimator-id-3\" type=\"checkbox\" ><label for=\"sk-estimator-id-3\" class=\"sk-toggleable__label sk-toggleable__label-arrow\">TfidfVectorizer</label><div class=\"sk-toggleable__content\"><pre>TfidfVectorizer(ngram_range=(1, 2),\n",
              "                stop_words=[&#x27;i&#x27;, &#x27;me&#x27;, &#x27;my&#x27;, &#x27;myself&#x27;, &#x27;we&#x27;, &#x27;our&#x27;, &#x27;ours&#x27;,\n",
              "                            &#x27;ourselves&#x27;, &#x27;you&#x27;, &quot;you&#x27;re&quot;, &quot;you&#x27;ve&quot;, &quot;you&#x27;ll&quot;,\n",
              "                            &quot;you&#x27;d&quot;, &#x27;your&#x27;, &#x27;yours&#x27;, &#x27;yourself&#x27;, &#x27;yourselves&#x27;,\n",
              "                            &#x27;he&#x27;, &#x27;him&#x27;, &#x27;his&#x27;, &#x27;himself&#x27;, &#x27;she&#x27;, &quot;she&#x27;s&quot;,\n",
              "                            &#x27;her&#x27;, &#x27;hers&#x27;, &#x27;herself&#x27;, &#x27;it&#x27;, &quot;it&#x27;s&quot;, &#x27;its&#x27;,\n",
              "                            &#x27;itself&#x27;, ...])</pre></div></div></div><div class=\"sk-item\"><div class=\"sk-estimator sk-toggleable\"><input class=\"sk-toggleable__control sk-hidden--visually\" id=\"sk-estimator-id-4\" type=\"checkbox\" ><label for=\"sk-estimator-id-4\" class=\"sk-toggleable__label sk-toggleable__label-arrow\">LogisticRegression</label><div class=\"sk-toggleable__content\"><pre>LogisticRegression(class_weight=&#x27;balanced&#x27;, random_state=88)</pre></div></div></div></div></div></div></div></div></div></div></div></div>"
            ]
          },
          "metadata": {},
          "execution_count": 15
        }
      ],
      "source": [
        "%%time\n",
        "lrm_params = {'model__C': [7, 9]}\n",
        "\n",
        "lrm_pipeline = Pipeline([('vect', \n",
        "                          TfidfVectorizer(stop_words=stops, \n",
        "                                          ngram_range=(1,2))),\n",
        "                         ('model', \n",
        "                          LogisticRegression(random_state=88, \n",
        "                                             class_weight='balanced'))])\n",
        "\n",
        "    \n",
        "lrm_rs = RandomizedSearchCV(lrm_pipeline, \n",
        "                            lrm_params,\n",
        "                            scoring='f1', \n",
        "                            cv=5,\n",
        "                            random_state=88)\n",
        "\n",
        "lrm_rs.fit(corp_train, target_train)\n"
      ]
    },
    {
      "cell_type": "code",
      "execution_count": 16,
      "metadata": {
        "scrolled": true,
        "colab": {
          "base_uri": "https://localhost:8080/"
        },
        "id": "S-mF1LfjjBOJ",
        "outputId": "bf3f6c7e-75b5-448e-8486-d519f75f6823"
      },
      "outputs": [
        {
          "output_type": "stream",
          "name": "stdout",
          "text": [
            "Лучшая метрика F1 у модели логистической регрессии: 0.775621260148031\n"
          ]
        }
      ],
      "source": [
        "print(f'Лучшая метрика F1 у модели логистической регрессии: {lrm_rs.best_score_}')"
      ]
    },
    {
      "cell_type": "markdown",
      "metadata": {
        "id": "8KM61Q0IjBOJ"
      },
      "source": [
        "### SGDClassifier"
      ]
    },
    {
      "cell_type": "code",
      "execution_count": 17,
      "metadata": {
        "colab": {
          "base_uri": "https://localhost:8080/",
          "height": 188
        },
        "id": "JhjUx-jfjBOK",
        "outputId": "ff619f91-e66b-4368-a779-ea5aab43f4f0"
      },
      "outputs": [
        {
          "output_type": "stream",
          "name": "stdout",
          "text": [
            "CPU times: user 13min 50s, sys: 13.7 s, total: 14min 3s\n",
            "Wall time: 14min\n"
          ]
        },
        {
          "output_type": "execute_result",
          "data": {
            "text/plain": [
              "RandomizedSearchCV(cv=5,\n",
              "                   estimator=Pipeline(steps=[('vect',\n",
              "                                              TfidfVectorizer(ngram_range=(1,\n",
              "                                                                           2),\n",
              "                                                              stop_words=['i',\n",
              "                                                                          'me',\n",
              "                                                                          'my',\n",
              "                                                                          'myself',\n",
              "                                                                          'we',\n",
              "                                                                          'our',\n",
              "                                                                          'ours',\n",
              "                                                                          'ourselves',\n",
              "                                                                          'you',\n",
              "                                                                          \"you're\",\n",
              "                                                                          \"you've\",\n",
              "                                                                          \"you'll\",\n",
              "                                                                          \"you'd\",\n",
              "                                                                          'your',\n",
              "                                                                          'yours',\n",
              "                                                                          'yourself',\n",
              "                                                                          'yourselves',\n",
              "                                                                          'he',\n",
              "                                                                          'him',\n",
              "                                                                          'his',\n",
              "                                                                          'himself',\n",
              "                                                                          'she',\n",
              "                                                                          \"she's\",\n",
              "                                                                          'her',\n",
              "                                                                          'hers',\n",
              "                                                                          'herself',\n",
              "                                                                          'it',\n",
              "                                                                          \"it's\",\n",
              "                                                                          'its',\n",
              "                                                                          'itself', ...])),\n",
              "                                             ('sgd',\n",
              "                                              SGDClassifier(class_weight='balanced',\n",
              "                                                            random_state=88))]),\n",
              "                   param_distributions={'sgd__loss': ['hinge', 'log'],\n",
              "                                        'sgd__n_iter_no_change': [20, 30, 40]},\n",
              "                   random_state=88, scoring='f1')"
            ],
            "text/html": [
              "<style>#sk-container-id-2 {color: black;background-color: white;}#sk-container-id-2 pre{padding: 0;}#sk-container-id-2 div.sk-toggleable {background-color: white;}#sk-container-id-2 label.sk-toggleable__label {cursor: pointer;display: block;width: 100%;margin-bottom: 0;padding: 0.3em;box-sizing: border-box;text-align: center;}#sk-container-id-2 label.sk-toggleable__label-arrow:before {content: \"▸\";float: left;margin-right: 0.25em;color: #696969;}#sk-container-id-2 label.sk-toggleable__label-arrow:hover:before {color: black;}#sk-container-id-2 div.sk-estimator:hover label.sk-toggleable__label-arrow:before {color: black;}#sk-container-id-2 div.sk-toggleable__content {max-height: 0;max-width: 0;overflow: hidden;text-align: left;background-color: #f0f8ff;}#sk-container-id-2 div.sk-toggleable__content pre {margin: 0.2em;color: black;border-radius: 0.25em;background-color: #f0f8ff;}#sk-container-id-2 input.sk-toggleable__control:checked~div.sk-toggleable__content {max-height: 200px;max-width: 100%;overflow: auto;}#sk-container-id-2 input.sk-toggleable__control:checked~label.sk-toggleable__label-arrow:before {content: \"▾\";}#sk-container-id-2 div.sk-estimator input.sk-toggleable__control:checked~label.sk-toggleable__label {background-color: #d4ebff;}#sk-container-id-2 div.sk-label input.sk-toggleable__control:checked~label.sk-toggleable__label {background-color: #d4ebff;}#sk-container-id-2 input.sk-hidden--visually {border: 0;clip: rect(1px 1px 1px 1px);clip: rect(1px, 1px, 1px, 1px);height: 1px;margin: -1px;overflow: hidden;padding: 0;position: absolute;width: 1px;}#sk-container-id-2 div.sk-estimator {font-family: monospace;background-color: #f0f8ff;border: 1px dotted black;border-radius: 0.25em;box-sizing: border-box;margin-bottom: 0.5em;}#sk-container-id-2 div.sk-estimator:hover {background-color: #d4ebff;}#sk-container-id-2 div.sk-parallel-item::after {content: \"\";width: 100%;border-bottom: 1px solid gray;flex-grow: 1;}#sk-container-id-2 div.sk-label:hover label.sk-toggleable__label {background-color: #d4ebff;}#sk-container-id-2 div.sk-serial::before {content: \"\";position: absolute;border-left: 1px solid gray;box-sizing: border-box;top: 0;bottom: 0;left: 50%;z-index: 0;}#sk-container-id-2 div.sk-serial {display: flex;flex-direction: column;align-items: center;background-color: white;padding-right: 0.2em;padding-left: 0.2em;position: relative;}#sk-container-id-2 div.sk-item {position: relative;z-index: 1;}#sk-container-id-2 div.sk-parallel {display: flex;align-items: stretch;justify-content: center;background-color: white;position: relative;}#sk-container-id-2 div.sk-item::before, #sk-container-id-2 div.sk-parallel-item::before {content: \"\";position: absolute;border-left: 1px solid gray;box-sizing: border-box;top: 0;bottom: 0;left: 50%;z-index: -1;}#sk-container-id-2 div.sk-parallel-item {display: flex;flex-direction: column;z-index: 1;position: relative;background-color: white;}#sk-container-id-2 div.sk-parallel-item:first-child::after {align-self: flex-end;width: 50%;}#sk-container-id-2 div.sk-parallel-item:last-child::after {align-self: flex-start;width: 50%;}#sk-container-id-2 div.sk-parallel-item:only-child::after {width: 0;}#sk-container-id-2 div.sk-dashed-wrapped {border: 1px dashed gray;margin: 0 0.4em 0.5em 0.4em;box-sizing: border-box;padding-bottom: 0.4em;background-color: white;}#sk-container-id-2 div.sk-label label {font-family: monospace;font-weight: bold;display: inline-block;line-height: 1.2em;}#sk-container-id-2 div.sk-label-container {text-align: center;}#sk-container-id-2 div.sk-container {/* jupyter's `normalize.less` sets `[hidden] { display: none; }` but bootstrap.min.css set `[hidden] { display: none !important; }` so we also need the `!important` here to be able to override the default hidden behavior on the sphinx rendered scikit-learn.org. See: https://github.com/scikit-learn/scikit-learn/issues/21755 */display: inline-block !important;position: relative;}#sk-container-id-2 div.sk-text-repr-fallback {display: none;}</style><div id=\"sk-container-id-2\" class=\"sk-top-container\"><div class=\"sk-text-repr-fallback\"><pre>RandomizedSearchCV(cv=5,\n",
              "                   estimator=Pipeline(steps=[(&#x27;vect&#x27;,\n",
              "                                              TfidfVectorizer(ngram_range=(1,\n",
              "                                                                           2),\n",
              "                                                              stop_words=[&#x27;i&#x27;,\n",
              "                                                                          &#x27;me&#x27;,\n",
              "                                                                          &#x27;my&#x27;,\n",
              "                                                                          &#x27;myself&#x27;,\n",
              "                                                                          &#x27;we&#x27;,\n",
              "                                                                          &#x27;our&#x27;,\n",
              "                                                                          &#x27;ours&#x27;,\n",
              "                                                                          &#x27;ourselves&#x27;,\n",
              "                                                                          &#x27;you&#x27;,\n",
              "                                                                          &quot;you&#x27;re&quot;,\n",
              "                                                                          &quot;you&#x27;ve&quot;,\n",
              "                                                                          &quot;you&#x27;ll&quot;,\n",
              "                                                                          &quot;you&#x27;d&quot;,\n",
              "                                                                          &#x27;your&#x27;,\n",
              "                                                                          &#x27;yours&#x27;,\n",
              "                                                                          &#x27;yourself&#x27;,\n",
              "                                                                          &#x27;yourselves&#x27;,\n",
              "                                                                          &#x27;he&#x27;,\n",
              "                                                                          &#x27;him&#x27;,\n",
              "                                                                          &#x27;his&#x27;,\n",
              "                                                                          &#x27;himself&#x27;,\n",
              "                                                                          &#x27;she&#x27;,\n",
              "                                                                          &quot;she&#x27;s&quot;,\n",
              "                                                                          &#x27;her&#x27;,\n",
              "                                                                          &#x27;hers&#x27;,\n",
              "                                                                          &#x27;herself&#x27;,\n",
              "                                                                          &#x27;it&#x27;,\n",
              "                                                                          &quot;it&#x27;s&quot;,\n",
              "                                                                          &#x27;its&#x27;,\n",
              "                                                                          &#x27;itself&#x27;, ...])),\n",
              "                                             (&#x27;sgd&#x27;,\n",
              "                                              SGDClassifier(class_weight=&#x27;balanced&#x27;,\n",
              "                                                            random_state=88))]),\n",
              "                   param_distributions={&#x27;sgd__loss&#x27;: [&#x27;hinge&#x27;, &#x27;log&#x27;],\n",
              "                                        &#x27;sgd__n_iter_no_change&#x27;: [20, 30, 40]},\n",
              "                   random_state=88, scoring=&#x27;f1&#x27;)</pre><b>In a Jupyter environment, please rerun this cell to show the HTML representation or trust the notebook. <br />On GitHub, the HTML representation is unable to render, please try loading this page with nbviewer.org.</b></div><div class=\"sk-container\" hidden><div class=\"sk-item sk-dashed-wrapped\"><div class=\"sk-label-container\"><div class=\"sk-label sk-toggleable\"><input class=\"sk-toggleable__control sk-hidden--visually\" id=\"sk-estimator-id-5\" type=\"checkbox\" ><label for=\"sk-estimator-id-5\" class=\"sk-toggleable__label sk-toggleable__label-arrow\">RandomizedSearchCV</label><div class=\"sk-toggleable__content\"><pre>RandomizedSearchCV(cv=5,\n",
              "                   estimator=Pipeline(steps=[(&#x27;vect&#x27;,\n",
              "                                              TfidfVectorizer(ngram_range=(1,\n",
              "                                                                           2),\n",
              "                                                              stop_words=[&#x27;i&#x27;,\n",
              "                                                                          &#x27;me&#x27;,\n",
              "                                                                          &#x27;my&#x27;,\n",
              "                                                                          &#x27;myself&#x27;,\n",
              "                                                                          &#x27;we&#x27;,\n",
              "                                                                          &#x27;our&#x27;,\n",
              "                                                                          &#x27;ours&#x27;,\n",
              "                                                                          &#x27;ourselves&#x27;,\n",
              "                                                                          &#x27;you&#x27;,\n",
              "                                                                          &quot;you&#x27;re&quot;,\n",
              "                                                                          &quot;you&#x27;ve&quot;,\n",
              "                                                                          &quot;you&#x27;ll&quot;,\n",
              "                                                                          &quot;you&#x27;d&quot;,\n",
              "                                                                          &#x27;your&#x27;,\n",
              "                                                                          &#x27;yours&#x27;,\n",
              "                                                                          &#x27;yourself&#x27;,\n",
              "                                                                          &#x27;yourselves&#x27;,\n",
              "                                                                          &#x27;he&#x27;,\n",
              "                                                                          &#x27;him&#x27;,\n",
              "                                                                          &#x27;his&#x27;,\n",
              "                                                                          &#x27;himself&#x27;,\n",
              "                                                                          &#x27;she&#x27;,\n",
              "                                                                          &quot;she&#x27;s&quot;,\n",
              "                                                                          &#x27;her&#x27;,\n",
              "                                                                          &#x27;hers&#x27;,\n",
              "                                                                          &#x27;herself&#x27;,\n",
              "                                                                          &#x27;it&#x27;,\n",
              "                                                                          &quot;it&#x27;s&quot;,\n",
              "                                                                          &#x27;its&#x27;,\n",
              "                                                                          &#x27;itself&#x27;, ...])),\n",
              "                                             (&#x27;sgd&#x27;,\n",
              "                                              SGDClassifier(class_weight=&#x27;balanced&#x27;,\n",
              "                                                            random_state=88))]),\n",
              "                   param_distributions={&#x27;sgd__loss&#x27;: [&#x27;hinge&#x27;, &#x27;log&#x27;],\n",
              "                                        &#x27;sgd__n_iter_no_change&#x27;: [20, 30, 40]},\n",
              "                   random_state=88, scoring=&#x27;f1&#x27;)</pre></div></div></div><div class=\"sk-parallel\"><div class=\"sk-parallel-item\"><div class=\"sk-item\"><div class=\"sk-label-container\"><div class=\"sk-label sk-toggleable\"><input class=\"sk-toggleable__control sk-hidden--visually\" id=\"sk-estimator-id-6\" type=\"checkbox\" ><label for=\"sk-estimator-id-6\" class=\"sk-toggleable__label sk-toggleable__label-arrow\">estimator: Pipeline</label><div class=\"sk-toggleable__content\"><pre>Pipeline(steps=[(&#x27;vect&#x27;,\n",
              "                 TfidfVectorizer(ngram_range=(1, 2),\n",
              "                                 stop_words=[&#x27;i&#x27;, &#x27;me&#x27;, &#x27;my&#x27;, &#x27;myself&#x27;, &#x27;we&#x27;,\n",
              "                                             &#x27;our&#x27;, &#x27;ours&#x27;, &#x27;ourselves&#x27;, &#x27;you&#x27;,\n",
              "                                             &quot;you&#x27;re&quot;, &quot;you&#x27;ve&quot;, &quot;you&#x27;ll&quot;,\n",
              "                                             &quot;you&#x27;d&quot;, &#x27;your&#x27;, &#x27;yours&#x27;,\n",
              "                                             &#x27;yourself&#x27;, &#x27;yourselves&#x27;, &#x27;he&#x27;,\n",
              "                                             &#x27;him&#x27;, &#x27;his&#x27;, &#x27;himself&#x27;, &#x27;she&#x27;,\n",
              "                                             &quot;she&#x27;s&quot;, &#x27;her&#x27;, &#x27;hers&#x27;, &#x27;herself&#x27;,\n",
              "                                             &#x27;it&#x27;, &quot;it&#x27;s&quot;, &#x27;its&#x27;, &#x27;itself&#x27;, ...])),\n",
              "                (&#x27;sgd&#x27;,\n",
              "                 SGDClassifier(class_weight=&#x27;balanced&#x27;, random_state=88))])</pre></div></div></div><div class=\"sk-serial\"><div class=\"sk-item\"><div class=\"sk-serial\"><div class=\"sk-item\"><div class=\"sk-estimator sk-toggleable\"><input class=\"sk-toggleable__control sk-hidden--visually\" id=\"sk-estimator-id-7\" type=\"checkbox\" ><label for=\"sk-estimator-id-7\" class=\"sk-toggleable__label sk-toggleable__label-arrow\">TfidfVectorizer</label><div class=\"sk-toggleable__content\"><pre>TfidfVectorizer(ngram_range=(1, 2),\n",
              "                stop_words=[&#x27;i&#x27;, &#x27;me&#x27;, &#x27;my&#x27;, &#x27;myself&#x27;, &#x27;we&#x27;, &#x27;our&#x27;, &#x27;ours&#x27;,\n",
              "                            &#x27;ourselves&#x27;, &#x27;you&#x27;, &quot;you&#x27;re&quot;, &quot;you&#x27;ve&quot;, &quot;you&#x27;ll&quot;,\n",
              "                            &quot;you&#x27;d&quot;, &#x27;your&#x27;, &#x27;yours&#x27;, &#x27;yourself&#x27;, &#x27;yourselves&#x27;,\n",
              "                            &#x27;he&#x27;, &#x27;him&#x27;, &#x27;his&#x27;, &#x27;himself&#x27;, &#x27;she&#x27;, &quot;she&#x27;s&quot;,\n",
              "                            &#x27;her&#x27;, &#x27;hers&#x27;, &#x27;herself&#x27;, &#x27;it&#x27;, &quot;it&#x27;s&quot;, &#x27;its&#x27;,\n",
              "                            &#x27;itself&#x27;, ...])</pre></div></div></div><div class=\"sk-item\"><div class=\"sk-estimator sk-toggleable\"><input class=\"sk-toggleable__control sk-hidden--visually\" id=\"sk-estimator-id-8\" type=\"checkbox\" ><label for=\"sk-estimator-id-8\" class=\"sk-toggleable__label sk-toggleable__label-arrow\">SGDClassifier</label><div class=\"sk-toggleable__content\"><pre>SGDClassifier(class_weight=&#x27;balanced&#x27;, random_state=88)</pre></div></div></div></div></div></div></div></div></div></div></div></div>"
            ]
          },
          "metadata": {},
          "execution_count": 17
        }
      ],
      "source": [
        "%%time\n",
        "\n",
        "sgd_params = {'sgd__loss': ['hinge', 'log'],\n",
        "             'sgd__n_iter_no_change': [20, 30, 40]}\n",
        "\n",
        "sgd_pipeline = Pipeline([('vect', TfidfVectorizer(stop_words=stops, \n",
        "                                                  ngram_range=(1,2))),\n",
        "                         ('sgd', SGDClassifier(random_state=88, \n",
        "                                               class_weight='balanced'))])\n",
        "\n",
        "    \n",
        "sgd_rs = RandomizedSearchCV(sgd_pipeline, \n",
        "                            sgd_params,\n",
        "                            scoring='f1', \n",
        "                            cv=5,\n",
        "                            random_state=88)\n",
        "\n",
        "sgd_rs.fit(corp_train, target_train)\n"
      ]
    },
    {
      "cell_type": "code",
      "execution_count": 18,
      "metadata": {
        "colab": {
          "base_uri": "https://localhost:8080/"
        },
        "id": "EInWumwfjBOK",
        "outputId": "3ac6b8d8-9b6b-48e5-a444-87c0ffce2d2e"
      },
      "outputs": [
        {
          "output_type": "stream",
          "name": "stdout",
          "text": [
            "Лучшая метрика F1 у модели SGDClassifier: 0.7206893435202298\n"
          ]
        }
      ],
      "source": [
        "print(f'Лучшая метрика F1 у модели SGDClassifier: {sgd_rs.best_score_}')"
      ]
    },
    {
      "cell_type": "markdown",
      "metadata": {
        "id": "2_uYNfoKjBOK"
      },
      "source": [
        "### Тестирование модели"
      ]
    },
    {
      "cell_type": "markdown",
      "metadata": {
        "id": "-LVgBJAqjBOK"
      },
      "source": [
        "Лучший результат на обучающих данных показала модель логистической регрессии. Проверим ее на тестовой выборке."
      ]
    },
    {
      "cell_type": "code",
      "execution_count": 19,
      "metadata": {
        "colab": {
          "base_uri": "https://localhost:8080/"
        },
        "id": "jHeHo-_bjBOK",
        "outputId": "3b6c9b4a-9c93-46d7-e492-28d4efabe451"
      },
      "outputs": [
        {
          "output_type": "stream",
          "name": "stdout",
          "text": [
            "F1 модели логистической регрессии на тестовых данных: 0.792174858108924\n"
          ]
        }
      ],
      "source": [
        "predictions = lrm_rs.predict(corp_test)\n",
        "print(f'F1 модели логистической регрессии на тестовых данных: {f1_score(target_test, predictions)}')"
      ]
    },
    {
      "cell_type": "markdown",
      "metadata": {
        "id": "OrzTsPB0jBOL"
      },
      "source": [
        "## Выводы"
      ]
    },
    {
      "cell_type": "markdown",
      "metadata": {
        "id": "1hgNr3XTjBOL"
      },
      "source": [
        "Мы обучили модель логистической регрессии, на тестовых данных она показала значение метрики F1 0.79."
      ]
    }
  ],
  "metadata": {
    "ExecuteTimeLog": [
      {
        "duration": 2613,
        "start_time": "2023-02-26T10:22:09.231Z"
      },
      {
        "duration": 6,
        "start_time": "2023-02-26T10:22:31.273Z"
      },
      {
        "duration": 163,
        "start_time": "2023-02-26T10:22:57.873Z"
      },
      {
        "duration": 2844,
        "start_time": "2023-02-26T10:23:24.617Z"
      },
      {
        "duration": 7,
        "start_time": "2023-02-26T10:23:38.322Z"
      },
      {
        "duration": 325,
        "start_time": "2023-02-26T10:23:48.323Z"
      },
      {
        "duration": 7,
        "start_time": "2023-02-26T10:23:58.716Z"
      },
      {
        "duration": 145,
        "start_time": "2023-02-26T10:24:07.674Z"
      },
      {
        "duration": 2,
        "start_time": "2023-02-26T10:24:21.957Z"
      },
      {
        "duration": 2187,
        "start_time": "2023-02-26T10:24:30.771Z"
      },
      {
        "duration": 3,
        "start_time": "2023-02-26T10:25:20.459Z"
      },
      {
        "duration": 2394,
        "start_time": "2023-02-28T15:21:13.057Z"
      },
      {
        "duration": 935,
        "start_time": "2023-02-28T15:21:18.793Z"
      },
      {
        "duration": 2122,
        "start_time": "2023-02-28T15:21:22.114Z"
      },
      {
        "duration": 7,
        "start_time": "2023-02-28T15:21:32.249Z"
      },
      {
        "duration": 314,
        "start_time": "2023-02-28T15:21:35.230Z"
      },
      {
        "duration": 8,
        "start_time": "2023-02-28T15:21:55.593Z"
      },
      {
        "duration": 127,
        "start_time": "2023-02-28T15:21:56.957Z"
      },
      {
        "duration": 8,
        "start_time": "2023-02-28T15:22:32.411Z"
      },
      {
        "duration": 3,
        "start_time": "2023-02-28T15:22:56.696Z"
      },
      {
        "duration": 32394,
        "start_time": "2023-02-28T15:23:04.120Z"
      },
      {
        "duration": 6,
        "start_time": "2023-02-28T15:24:41.825Z"
      },
      {
        "duration": 47,
        "start_time": "2023-02-28T15:29:40.775Z"
      },
      {
        "duration": 121,
        "start_time": "2023-02-28T15:29:44.664Z"
      },
      {
        "duration": 71,
        "start_time": "2023-02-28T15:29:53.817Z"
      },
      {
        "duration": 12,
        "start_time": "2023-02-28T15:30:46.241Z"
      },
      {
        "duration": 67,
        "start_time": "2023-02-28T15:31:10.326Z"
      },
      {
        "duration": 5,
        "start_time": "2023-02-28T15:31:12.750Z"
      },
      {
        "duration": 6,
        "start_time": "2023-02-28T15:31:41.118Z"
      },
      {
        "duration": 6,
        "start_time": "2023-02-28T15:31:59.988Z"
      },
      {
        "duration": 3,
        "start_time": "2023-02-28T15:34:46.326Z"
      },
      {
        "duration": 6,
        "start_time": "2023-02-28T15:34:56.846Z"
      },
      {
        "duration": 4,
        "start_time": "2023-02-28T15:35:07.579Z"
      },
      {
        "duration": 3,
        "start_time": "2023-02-28T15:36:27.662Z"
      },
      {
        "duration": 23912,
        "start_time": "2023-02-28T15:40:51.170Z"
      },
      {
        "duration": 14,
        "start_time": "2023-02-28T15:41:15.084Z"
      },
      {
        "duration": 4,
        "start_time": "2023-02-28T15:41:20.452Z"
      },
      {
        "duration": 11,
        "start_time": "2023-02-28T15:43:33.981Z"
      },
      {
        "duration": 1592,
        "start_time": "2023-02-28T15:43:48.454Z"
      },
      {
        "duration": 150,
        "start_time": "2023-02-28T15:43:50.048Z"
      },
      {
        "duration": 781,
        "start_time": "2023-02-28T15:43:50.201Z"
      },
      {
        "duration": 10,
        "start_time": "2023-02-28T15:43:50.984Z"
      },
      {
        "duration": 335,
        "start_time": "2023-02-28T15:43:50.996Z"
      },
      {
        "duration": 8,
        "start_time": "2023-02-28T15:43:51.333Z"
      },
      {
        "duration": 131,
        "start_time": "2023-02-28T15:43:51.343Z"
      },
      {
        "duration": 7,
        "start_time": "2023-02-28T15:43:51.475Z"
      },
      {
        "duration": 13,
        "start_time": "2023-02-28T15:43:51.484Z"
      },
      {
        "duration": 35067,
        "start_time": "2023-02-28T15:43:51.499Z"
      },
      {
        "duration": 6,
        "start_time": "2023-02-28T15:44:26.569Z"
      },
      {
        "duration": 105,
        "start_time": "2023-02-28T15:44:26.577Z"
      },
      {
        "duration": 6,
        "start_time": "2023-02-28T15:44:26.685Z"
      },
      {
        "duration": 20,
        "start_time": "2023-02-28T15:44:26.693Z"
      },
      {
        "duration": 123,
        "start_time": "2023-02-28T15:44:26.715Z"
      },
      {
        "duration": 3,
        "start_time": "2023-02-28T15:44:40.815Z"
      },
      {
        "duration": 10,
        "start_time": "2023-02-28T15:44:42.447Z"
      },
      {
        "duration": 11,
        "start_time": "2023-02-28T15:45:18.878Z"
      },
      {
        "duration": 9,
        "start_time": "2023-02-28T15:45:39.086Z"
      },
      {
        "duration": 1559,
        "start_time": "2023-02-28T15:46:54.712Z"
      },
      {
        "duration": 213,
        "start_time": "2023-02-28T15:46:56.274Z"
      },
      {
        "duration": 805,
        "start_time": "2023-02-28T15:46:56.490Z"
      },
      {
        "duration": 8,
        "start_time": "2023-02-28T15:46:57.298Z"
      },
      {
        "duration": 340,
        "start_time": "2023-02-28T15:46:57.308Z"
      },
      {
        "duration": 8,
        "start_time": "2023-02-28T15:46:57.649Z"
      },
      {
        "duration": 135,
        "start_time": "2023-02-28T15:46:57.659Z"
      },
      {
        "duration": 9,
        "start_time": "2023-02-28T15:46:57.796Z"
      },
      {
        "duration": 8,
        "start_time": "2023-02-28T15:46:57.807Z"
      },
      {
        "duration": 32852,
        "start_time": "2023-02-28T15:46:57.817Z"
      },
      {
        "duration": 6,
        "start_time": "2023-02-28T15:47:30.670Z"
      },
      {
        "duration": 97,
        "start_time": "2023-02-28T15:47:30.677Z"
      },
      {
        "duration": 5,
        "start_time": "2023-02-28T15:47:30.776Z"
      },
      {
        "duration": 38,
        "start_time": "2023-02-28T15:47:30.782Z"
      },
      {
        "duration": 23693,
        "start_time": "2023-02-28T15:47:30.821Z"
      },
      {
        "duration": 4,
        "start_time": "2023-02-28T15:49:06.105Z"
      },
      {
        "duration": 6,
        "start_time": "2023-02-28T15:49:17.485Z"
      },
      {
        "duration": 4,
        "start_time": "2023-02-28T15:49:41.932Z"
      },
      {
        "duration": 5,
        "start_time": "2023-02-28T15:50:07.312Z"
      },
      {
        "duration": 4,
        "start_time": "2023-02-28T15:50:20.872Z"
      },
      {
        "duration": 4,
        "start_time": "2023-02-28T15:51:33.754Z"
      },
      {
        "duration": 716902,
        "start_time": "2023-02-28T15:59:14.243Z"
      },
      {
        "duration": 1737,
        "start_time": "2023-02-28T17:04:51.543Z"
      },
      {
        "duration": 236,
        "start_time": "2023-02-28T17:04:53.282Z"
      },
      {
        "duration": 793,
        "start_time": "2023-02-28T17:04:53.520Z"
      },
      {
        "duration": 7,
        "start_time": "2023-02-28T17:04:54.315Z"
      },
      {
        "duration": 339,
        "start_time": "2023-02-28T17:04:54.325Z"
      },
      {
        "duration": 9,
        "start_time": "2023-02-28T17:04:54.666Z"
      },
      {
        "duration": 146,
        "start_time": "2023-02-28T17:04:54.676Z"
      },
      {
        "duration": 7,
        "start_time": "2023-02-28T17:04:54.824Z"
      },
      {
        "duration": 43,
        "start_time": "2023-02-28T17:04:54.833Z"
      },
      {
        "duration": 37794,
        "start_time": "2023-02-28T17:04:54.879Z"
      },
      {
        "duration": 5,
        "start_time": "2023-02-28T17:05:32.675Z"
      },
      {
        "duration": 89,
        "start_time": "2023-02-28T17:05:32.682Z"
      },
      {
        "duration": 7,
        "start_time": "2023-02-28T17:05:32.773Z"
      },
      {
        "duration": 38,
        "start_time": "2023-02-28T17:05:32.782Z"
      },
      {
        "duration": 27223,
        "start_time": "2023-02-28T17:05:32.822Z"
      },
      {
        "duration": 172738,
        "start_time": "2023-02-28T17:06:00.047Z"
      },
      {
        "duration": 112,
        "start_time": "2023-02-28T17:08:52.787Z"
      },
      {
        "duration": 2937433,
        "start_time": "2023-02-28T17:08:54.957Z"
      },
      {
        "duration": 1525,
        "start_time": "2023-02-28T17:58:20.551Z"
      },
      {
        "duration": 148,
        "start_time": "2023-02-28T17:58:22.078Z"
      },
      {
        "duration": 770,
        "start_time": "2023-02-28T17:58:22.227Z"
      },
      {
        "duration": 10,
        "start_time": "2023-02-28T17:58:23.002Z"
      },
      {
        "duration": 328,
        "start_time": "2023-02-28T17:58:23.016Z"
      },
      {
        "duration": 8,
        "start_time": "2023-02-28T17:58:23.346Z"
      },
      {
        "duration": 129,
        "start_time": "2023-02-28T17:58:23.356Z"
      },
      {
        "duration": 12,
        "start_time": "2023-02-28T17:58:23.493Z"
      },
      {
        "duration": 25,
        "start_time": "2023-02-28T17:58:23.514Z"
      },
      {
        "duration": 38787,
        "start_time": "2023-02-28T17:58:23.541Z"
      },
      {
        "duration": 5,
        "start_time": "2023-02-28T17:59:02.330Z"
      },
      {
        "duration": 80,
        "start_time": "2023-02-28T17:59:02.337Z"
      },
      {
        "duration": 5,
        "start_time": "2023-02-28T17:59:02.419Z"
      },
      {
        "duration": 40,
        "start_time": "2023-02-28T17:59:02.426Z"
      },
      {
        "duration": 26656,
        "start_time": "2023-02-28T17:59:02.467Z"
      },
      {
        "duration": 2506596,
        "start_time": "2023-02-28T17:59:29.126Z"
      },
      {
        "duration": 3,
        "start_time": "2023-02-28T18:41:15.724Z"
      },
      {
        "duration": 3934979,
        "start_time": "2023-02-28T19:30:40.135Z"
      },
      {
        "duration": 1760,
        "start_time": "2023-03-01T12:38:42.492Z"
      },
      {
        "duration": 227,
        "start_time": "2023-03-01T12:38:44.254Z"
      },
      {
        "duration": 3419,
        "start_time": "2023-03-01T12:38:44.483Z"
      },
      {
        "duration": 8,
        "start_time": "2023-03-01T12:38:47.904Z"
      },
      {
        "duration": 328,
        "start_time": "2023-03-01T12:38:47.914Z"
      },
      {
        "duration": 8,
        "start_time": "2023-03-01T12:38:48.244Z"
      },
      {
        "duration": 133,
        "start_time": "2023-03-01T12:38:48.253Z"
      },
      {
        "duration": 7,
        "start_time": "2023-03-01T12:38:48.388Z"
      },
      {
        "duration": 16,
        "start_time": "2023-03-01T12:38:48.396Z"
      },
      {
        "duration": 34577,
        "start_time": "2023-03-01T12:38:48.414Z"
      },
      {
        "duration": 5,
        "start_time": "2023-03-01T12:39:22.993Z"
      },
      {
        "duration": 67,
        "start_time": "2023-03-01T12:39:23.006Z"
      },
      {
        "duration": 6,
        "start_time": "2023-03-01T12:39:23.075Z"
      },
      {
        "duration": 22,
        "start_time": "2023-03-01T12:39:23.084Z"
      },
      {
        "duration": 24213,
        "start_time": "2023-03-01T12:39:23.107Z"
      },
      {
        "duration": 300172,
        "start_time": "2023-03-01T12:39:47.321Z"
      },
      {
        "duration": 84,
        "start_time": "2023-03-01T12:44:47.494Z"
      },
      {
        "duration": 1415048,
        "start_time": "2023-03-01T12:44:53.671Z"
      },
      {
        "duration": 4,
        "start_time": "2023-03-01T13:10:04.594Z"
      },
      {
        "duration": 44776,
        "start_time": "2023-03-01T13:10:12.820Z"
      },
      {
        "duration": 91489,
        "start_time": "2023-03-01T13:15:14.722Z"
      },
      {
        "duration": 3,
        "start_time": "2023-03-01T13:22:14.444Z"
      },
      {
        "duration": 4,
        "start_time": "2023-03-01T13:23:17.075Z"
      },
      {
        "duration": 1375467,
        "start_time": "2023-03-01T13:23:23.975Z"
      },
      {
        "duration": 4,
        "start_time": "2023-03-01T13:46:33.562Z"
      },
      {
        "duration": 4,
        "start_time": "2023-03-01T13:46:36.354Z"
      },
      {
        "duration": 2044576,
        "start_time": "2023-03-01T13:46:51.787Z"
      },
      {
        "duration": 3,
        "start_time": "2023-03-01T14:22:10.554Z"
      },
      {
        "duration": 4,
        "start_time": "2023-03-01T14:22:12.472Z"
      },
      {
        "duration": 40,
        "start_time": "2023-03-01T14:22:33.293Z"
      },
      {
        "duration": 1733,
        "start_time": "2023-03-01T14:24:54.219Z"
      },
      {
        "duration": 166,
        "start_time": "2023-03-01T14:24:55.954Z"
      },
      {
        "duration": 912,
        "start_time": "2023-03-01T14:24:56.122Z"
      },
      {
        "duration": 8,
        "start_time": "2023-03-01T14:24:57.036Z"
      },
      {
        "duration": 394,
        "start_time": "2023-03-01T14:24:57.047Z"
      },
      {
        "duration": 10,
        "start_time": "2023-03-01T14:24:57.443Z"
      },
      {
        "duration": 186,
        "start_time": "2023-03-01T14:24:57.455Z"
      },
      {
        "duration": 8,
        "start_time": "2023-03-01T14:24:57.643Z"
      },
      {
        "duration": 26,
        "start_time": "2023-03-01T14:24:57.653Z"
      },
      {
        "duration": 37487,
        "start_time": "2023-03-01T14:24:57.682Z"
      },
      {
        "duration": 5,
        "start_time": "2023-03-01T14:25:35.171Z"
      },
      {
        "duration": 86,
        "start_time": "2023-03-01T14:25:35.178Z"
      },
      {
        "duration": 6,
        "start_time": "2023-03-01T14:25:35.265Z"
      },
      {
        "duration": 8,
        "start_time": "2023-03-01T14:25:35.273Z"
      },
      {
        "duration": 27344,
        "start_time": "2023-03-01T14:25:35.282Z"
      },
      {
        "duration": 1383693,
        "start_time": "2023-03-01T14:26:02.628Z"
      },
      {
        "duration": 4,
        "start_time": "2023-03-01T14:49:06.322Z"
      },
      {
        "duration": 105881,
        "start_time": "2023-03-01T14:49:06.327Z"
      },
      {
        "duration": 5,
        "start_time": "2023-03-01T14:50:52.210Z"
      },
      {
        "duration": 139,
        "start_time": "2023-03-01T14:50:52.216Z"
      },
      {
        "duration": 1865,
        "start_time": "2023-03-02T07:15:46.949Z"
      },
      {
        "duration": 1648,
        "start_time": "2023-03-02T07:21:29.670Z"
      },
      {
        "duration": 206,
        "start_time": "2023-03-02T07:21:31.321Z"
      },
      {
        "duration": 2505,
        "start_time": "2023-03-02T07:21:31.529Z"
      },
      {
        "duration": 8,
        "start_time": "2023-03-02T07:21:34.036Z"
      },
      {
        "duration": 342,
        "start_time": "2023-03-02T07:21:34.046Z"
      },
      {
        "duration": 8,
        "start_time": "2023-03-02T07:21:34.389Z"
      },
      {
        "duration": 198,
        "start_time": "2023-03-02T07:21:34.399Z"
      },
      {
        "duration": 8,
        "start_time": "2023-03-02T07:21:34.599Z"
      },
      {
        "duration": 15,
        "start_time": "2023-03-02T07:21:34.608Z"
      },
      {
        "duration": 33721,
        "start_time": "2023-03-02T07:21:34.625Z"
      },
      {
        "duration": 6,
        "start_time": "2023-03-02T07:22:08.348Z"
      },
      {
        "duration": 74,
        "start_time": "2023-03-02T07:22:08.356Z"
      },
      {
        "duration": 13,
        "start_time": "2023-03-02T07:22:08.432Z"
      },
      {
        "duration": 5,
        "start_time": "2023-03-02T07:22:08.448Z"
      },
      {
        "duration": 7,
        "start_time": "2023-03-02T07:22:08.455Z"
      },
      {
        "duration": 28,
        "start_time": "2023-03-02T07:22:14.218Z"
      },
      {
        "duration": 247,
        "start_time": "2023-03-02T07:22:21.151Z"
      },
      {
        "duration": 1580070,
        "start_time": "2023-03-02T07:23:28.023Z"
      },
      {
        "duration": 3,
        "start_time": "2023-03-02T07:51:19.258Z"
      },
      {
        "duration": 724180,
        "start_time": "2023-03-02T07:51:32.767Z"
      },
      {
        "duration": 4,
        "start_time": "2023-03-02T08:10:14.303Z"
      },
      {
        "duration": 4,
        "start_time": "2023-03-02T08:10:23.144Z"
      },
      {
        "duration": 4386,
        "start_time": "2023-03-02T08:10:37.650Z"
      }
    ],
    "kernelspec": {
      "display_name": "Python 3 (ipykernel)",
      "language": "python",
      "name": "python3"
    },
    "language_info": {
      "codemirror_mode": {
        "name": "ipython",
        "version": 3
      },
      "file_extension": ".py",
      "mimetype": "text/x-python",
      "name": "python",
      "nbconvert_exporter": "python",
      "pygments_lexer": "ipython3",
      "version": "3.9.5"
    },
    "toc": {
      "base_numbering": 1,
      "nav_menu": {},
      "number_sections": false,
      "sideBar": true,
      "skip_h1_title": true,
      "title_cell": "Содержание",
      "title_sidebar": "Contents",
      "toc_cell": true,
      "toc_position": {
        "height": "calc(100% - 180px)",
        "left": "10px",
        "top": "150px",
        "width": "165px"
      },
      "toc_section_display": true,
      "toc_window_display": true
    },
    "colab": {
      "provenance": []
    }
  },
  "nbformat": 4,
  "nbformat_minor": 0
}