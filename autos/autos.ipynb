{
  "cells": [
    {
      "cell_type": "markdown",
      "metadata": {
        "id": "LF1ipcMS7jWC"
      },
      "source": [
        "# Определение стоимости автомобилей"
      ]
    },
    {
      "cell_type": "markdown",
      "metadata": {
        "id": "xJgpdLYv7jWC"
      },
      "source": [
        "## Цели и задачи исследования\n",
        "\n",
        "**Цель исследования** — построить модель для предсказания стоимости подержанного автомобиля на основе имющихся данных о технических хараектристиках и комплектаци. \n",
        "\n",
        "Результаты исследования будут использоваться в приложении для быстрого определения рыночной стоимости машины, поэтому необходимо оценивать как точность предсказания, так и скорость обучения и работы модели.\n",
        "\n",
        "**Задачи (этапы) исследования:**\n",
        "1. Подготовить данные (заполнить или удалить пропуски, обработать аномалии, выделить значимые признаки);\n",
        "2. Построить и оценить точность нескольких моделях, в том числе LightGBM. Оценка будет производиться при помощи метрики RMSE (RMSE должен быть не более 2500);\n",
        "3. Оценить скорость работы моделей. Выбрать оптимальную с точки зрения точности и скорости предсказания, протестировать эту модель на тестовой выборке."
      ]
    },
    {
      "cell_type": "markdown",
      "metadata": {
        "id": "Zab42uWR7jWD"
      },
      "source": [
        "## Подготовка данных"
      ]
    },
    {
      "cell_type": "code",
      "execution_count": 1,
      "metadata": {
        "id": "3UW3KmEO7jWF"
      },
      "outputs": [],
      "source": [
        "#!pip install lightgbm -q"
      ]
    },
    {
      "cell_type": "code",
      "execution_count": 2,
      "metadata": {
        "id": "Qmp6i1Z_7jWG"
      },
      "outputs": [],
      "source": [
        "# Импортируем необходимые библиотеки и функции\n",
        "import pandas as pd\n",
        "import numpy as np\n",
        "import seaborn as sns\n",
        "import matplotlib.pyplot as plt\n",
        "import warnings\n",
        "from sklearn.preprocessing import OrdinalEncoder\n",
        "from sklearn.tree import DecisionTreeRegressor\n",
        "from sklearn.ensemble import RandomForestRegressor\n",
        "from sklearn.model_selection import train_test_split\n",
        "from sklearn.model_selection import RandomizedSearchCV\n",
        "from sklearn.dummy import DummyRegressor\n",
        "from sklearn.metrics import mean_squared_error\n",
        "from lightgbm import LGBMRegressor\n",
        "\n",
        "plt.style.use('dark_background')\n",
        "warnings.filterwarnings('ignore')"
      ]
    },
    {
      "cell_type": "code",
      "execution_count": 3,
      "metadata": {
        "id": "BTXfEvlG7jWH"
      },
      "outputs": [],
      "source": [
        "try:\n",
        "    df = pd.read_csv('/datasets/autos.csv')\n",
        "except:\n",
        "    df = pd.read_csv('/content/autos.csv')"
      ]
    },
    {
      "cell_type": "code",
      "execution_count": 4,
      "metadata": {
        "colab": {
          "base_uri": "https://localhost:8080/",
          "height": 444
        },
        "id": "3C0WhlB37jWH",
        "outputId": "01399e55-8c13-48ca-9fe2-f0eb8cf50925"
      },
      "outputs": [
        {
          "output_type": "execute_result",
          "data": {
            "text/plain": [
              "           DateCrawled  Price VehicleType  RegistrationYear Gearbox  Power  \\\n",
              "0  2016-03-24 11:52:17    480         NaN              1993  manual    0.0   \n",
              "1  2016-03-24 10:58:45  18300       coupe              2011  manual  190.0   \n",
              "2  2016-03-14 12:52:21   9800         suv              2004    auto  163.0   \n",
              "3  2016-03-17 16:54:04   1500       small              2001  manual   75.0   \n",
              "4  2016-03-31 17:25:20   3600       small              2008  manual   69.0   \n",
              "\n",
              "   Model  Kilometer  RegistrationMonth  FuelType       Brand Repaired  \\\n",
              "0   golf   150000.0                0.0    petrol  volkswagen      NaN   \n",
              "1    NaN   125000.0                5.0  gasoline        audi      yes   \n",
              "2  grand   125000.0                8.0  gasoline        jeep      NaN   \n",
              "3   golf   150000.0                6.0    petrol  volkswagen       no   \n",
              "4  fabia    90000.0                7.0  gasoline       skoda       no   \n",
              "\n",
              "           DateCreated  NumberOfPictures  PostalCode             LastSeen  \n",
              "0  2016-03-24 00:00:00               0.0     70435.0  2016-04-07 03:16:57  \n",
              "1  2016-03-24 00:00:00               0.0     66954.0  2016-04-07 01:46:50  \n",
              "2  2016-03-14 00:00:00               0.0     90480.0  2016-04-05 12:47:46  \n",
              "3  2016-03-17 00:00:00               0.0     91074.0  2016-03-17 17:40:17  \n",
              "4  2016-03-31 00:00:00               0.0     60437.0  2016-04-06 10:17:21  "
            ],
            "text/html": [
              "\n",
              "  <div id=\"df-7239f4f3-3166-4165-82b4-f89aa33a1593\">\n",
              "    <div class=\"colab-df-container\">\n",
              "      <div>\n",
              "<style scoped>\n",
              "    .dataframe tbody tr th:only-of-type {\n",
              "        vertical-align: middle;\n",
              "    }\n",
              "\n",
              "    .dataframe tbody tr th {\n",
              "        vertical-align: top;\n",
              "    }\n",
              "\n",
              "    .dataframe thead th {\n",
              "        text-align: right;\n",
              "    }\n",
              "</style>\n",
              "<table border=\"1\" class=\"dataframe\">\n",
              "  <thead>\n",
              "    <tr style=\"text-align: right;\">\n",
              "      <th></th>\n",
              "      <th>DateCrawled</th>\n",
              "      <th>Price</th>\n",
              "      <th>VehicleType</th>\n",
              "      <th>RegistrationYear</th>\n",
              "      <th>Gearbox</th>\n",
              "      <th>Power</th>\n",
              "      <th>Model</th>\n",
              "      <th>Kilometer</th>\n",
              "      <th>RegistrationMonth</th>\n",
              "      <th>FuelType</th>\n",
              "      <th>Brand</th>\n",
              "      <th>Repaired</th>\n",
              "      <th>DateCreated</th>\n",
              "      <th>NumberOfPictures</th>\n",
              "      <th>PostalCode</th>\n",
              "      <th>LastSeen</th>\n",
              "    </tr>\n",
              "  </thead>\n",
              "  <tbody>\n",
              "    <tr>\n",
              "      <th>0</th>\n",
              "      <td>2016-03-24 11:52:17</td>\n",
              "      <td>480</td>\n",
              "      <td>NaN</td>\n",
              "      <td>1993</td>\n",
              "      <td>manual</td>\n",
              "      <td>0.0</td>\n",
              "      <td>golf</td>\n",
              "      <td>150000.0</td>\n",
              "      <td>0.0</td>\n",
              "      <td>petrol</td>\n",
              "      <td>volkswagen</td>\n",
              "      <td>NaN</td>\n",
              "      <td>2016-03-24 00:00:00</td>\n",
              "      <td>0.0</td>\n",
              "      <td>70435.0</td>\n",
              "      <td>2016-04-07 03:16:57</td>\n",
              "    </tr>\n",
              "    <tr>\n",
              "      <th>1</th>\n",
              "      <td>2016-03-24 10:58:45</td>\n",
              "      <td>18300</td>\n",
              "      <td>coupe</td>\n",
              "      <td>2011</td>\n",
              "      <td>manual</td>\n",
              "      <td>190.0</td>\n",
              "      <td>NaN</td>\n",
              "      <td>125000.0</td>\n",
              "      <td>5.0</td>\n",
              "      <td>gasoline</td>\n",
              "      <td>audi</td>\n",
              "      <td>yes</td>\n",
              "      <td>2016-03-24 00:00:00</td>\n",
              "      <td>0.0</td>\n",
              "      <td>66954.0</td>\n",
              "      <td>2016-04-07 01:46:50</td>\n",
              "    </tr>\n",
              "    <tr>\n",
              "      <th>2</th>\n",
              "      <td>2016-03-14 12:52:21</td>\n",
              "      <td>9800</td>\n",
              "      <td>suv</td>\n",
              "      <td>2004</td>\n",
              "      <td>auto</td>\n",
              "      <td>163.0</td>\n",
              "      <td>grand</td>\n",
              "      <td>125000.0</td>\n",
              "      <td>8.0</td>\n",
              "      <td>gasoline</td>\n",
              "      <td>jeep</td>\n",
              "      <td>NaN</td>\n",
              "      <td>2016-03-14 00:00:00</td>\n",
              "      <td>0.0</td>\n",
              "      <td>90480.0</td>\n",
              "      <td>2016-04-05 12:47:46</td>\n",
              "    </tr>\n",
              "    <tr>\n",
              "      <th>3</th>\n",
              "      <td>2016-03-17 16:54:04</td>\n",
              "      <td>1500</td>\n",
              "      <td>small</td>\n",
              "      <td>2001</td>\n",
              "      <td>manual</td>\n",
              "      <td>75.0</td>\n",
              "      <td>golf</td>\n",
              "      <td>150000.0</td>\n",
              "      <td>6.0</td>\n",
              "      <td>petrol</td>\n",
              "      <td>volkswagen</td>\n",
              "      <td>no</td>\n",
              "      <td>2016-03-17 00:00:00</td>\n",
              "      <td>0.0</td>\n",
              "      <td>91074.0</td>\n",
              "      <td>2016-03-17 17:40:17</td>\n",
              "    </tr>\n",
              "    <tr>\n",
              "      <th>4</th>\n",
              "      <td>2016-03-31 17:25:20</td>\n",
              "      <td>3600</td>\n",
              "      <td>small</td>\n",
              "      <td>2008</td>\n",
              "      <td>manual</td>\n",
              "      <td>69.0</td>\n",
              "      <td>fabia</td>\n",
              "      <td>90000.0</td>\n",
              "      <td>7.0</td>\n",
              "      <td>gasoline</td>\n",
              "      <td>skoda</td>\n",
              "      <td>no</td>\n",
              "      <td>2016-03-31 00:00:00</td>\n",
              "      <td>0.0</td>\n",
              "      <td>60437.0</td>\n",
              "      <td>2016-04-06 10:17:21</td>\n",
              "    </tr>\n",
              "  </tbody>\n",
              "</table>\n",
              "</div>\n",
              "      <button class=\"colab-df-convert\" onclick=\"convertToInteractive('df-7239f4f3-3166-4165-82b4-f89aa33a1593')\"\n",
              "              title=\"Convert this dataframe to an interactive table.\"\n",
              "              style=\"display:none;\">\n",
              "        \n",
              "  <svg xmlns=\"http://www.w3.org/2000/svg\" height=\"24px\"viewBox=\"0 0 24 24\"\n",
              "       width=\"24px\">\n",
              "    <path d=\"M0 0h24v24H0V0z\" fill=\"none\"/>\n",
              "    <path d=\"M18.56 5.44l.94 2.06.94-2.06 2.06-.94-2.06-.94-.94-2.06-.94 2.06-2.06.94zm-11 1L8.5 8.5l.94-2.06 2.06-.94-2.06-.94L8.5 2.5l-.94 2.06-2.06.94zm10 10l.94 2.06.94-2.06 2.06-.94-2.06-.94-.94-2.06-.94 2.06-2.06.94z\"/><path d=\"M17.41 7.96l-1.37-1.37c-.4-.4-.92-.59-1.43-.59-.52 0-1.04.2-1.43.59L10.3 9.45l-7.72 7.72c-.78.78-.78 2.05 0 2.83L4 21.41c.39.39.9.59 1.41.59.51 0 1.02-.2 1.41-.59l7.78-7.78 2.81-2.81c.8-.78.8-2.07 0-2.86zM5.41 20L4 18.59l7.72-7.72 1.47 1.35L5.41 20z\"/>\n",
              "  </svg>\n",
              "      </button>\n",
              "      \n",
              "  <style>\n",
              "    .colab-df-container {\n",
              "      display:flex;\n",
              "      flex-wrap:wrap;\n",
              "      gap: 12px;\n",
              "    }\n",
              "\n",
              "    .colab-df-convert {\n",
              "      background-color: #E8F0FE;\n",
              "      border: none;\n",
              "      border-radius: 50%;\n",
              "      cursor: pointer;\n",
              "      display: none;\n",
              "      fill: #1967D2;\n",
              "      height: 32px;\n",
              "      padding: 0 0 0 0;\n",
              "      width: 32px;\n",
              "    }\n",
              "\n",
              "    .colab-df-convert:hover {\n",
              "      background-color: #E2EBFA;\n",
              "      box-shadow: 0px 1px 2px rgba(60, 64, 67, 0.3), 0px 1px 3px 1px rgba(60, 64, 67, 0.15);\n",
              "      fill: #174EA6;\n",
              "    }\n",
              "\n",
              "    [theme=dark] .colab-df-convert {\n",
              "      background-color: #3B4455;\n",
              "      fill: #D2E3FC;\n",
              "    }\n",
              "\n",
              "    [theme=dark] .colab-df-convert:hover {\n",
              "      background-color: #434B5C;\n",
              "      box-shadow: 0px 1px 3px 1px rgba(0, 0, 0, 0.15);\n",
              "      filter: drop-shadow(0px 1px 2px rgba(0, 0, 0, 0.3));\n",
              "      fill: #FFFFFF;\n",
              "    }\n",
              "  </style>\n",
              "\n",
              "      <script>\n",
              "        const buttonEl =\n",
              "          document.querySelector('#df-7239f4f3-3166-4165-82b4-f89aa33a1593 button.colab-df-convert');\n",
              "        buttonEl.style.display =\n",
              "          google.colab.kernel.accessAllowed ? 'block' : 'none';\n",
              "\n",
              "        async function convertToInteractive(key) {\n",
              "          const element = document.querySelector('#df-7239f4f3-3166-4165-82b4-f89aa33a1593');\n",
              "          const dataTable =\n",
              "            await google.colab.kernel.invokeFunction('convertToInteractive',\n",
              "                                                     [key], {});\n",
              "          if (!dataTable) return;\n",
              "\n",
              "          const docLinkHtml = 'Like what you see? Visit the ' +\n",
              "            '<a target=\"_blank\" href=https://colab.research.google.com/notebooks/data_table.ipynb>data table notebook</a>'\n",
              "            + ' to learn more about interactive tables.';\n",
              "          element.innerHTML = '';\n",
              "          dataTable['output_type'] = 'display_data';\n",
              "          await google.colab.output.renderOutput(dataTable, element);\n",
              "          const docLink = document.createElement('div');\n",
              "          docLink.innerHTML = docLinkHtml;\n",
              "          element.appendChild(docLink);\n",
              "        }\n",
              "      </script>\n",
              "    </div>\n",
              "  </div>\n",
              "  "
            ]
          },
          "metadata": {},
          "execution_count": 4
        }
      ],
      "source": [
        "# Смотрим на первые пять строк\n",
        "df.head()"
      ]
    },
    {
      "cell_type": "code",
      "execution_count": 5,
      "metadata": {
        "id": "aUdRjimO7jWI"
      },
      "outputs": [],
      "source": [
        "# Приведем названия колонок к snake_case\n",
        "df.columns = (\n",
        "    df.columns.str.replace\n",
        "    (r'([A-Z])', r' \\1').str.lower()\n",
        "    .str.replace(' ', '_').str[1:]\n",
        ")\n"
      ]
    },
    {
      "cell_type": "code",
      "execution_count": 6,
      "metadata": {
        "colab": {
          "base_uri": "https://localhost:8080/"
        },
        "id": "UaSW_PTm7jWJ",
        "outputId": "ba7e27b2-7350-4796-b5b3-cbbea0c05ee6"
      },
      "outputs": [
        {
          "output_type": "execute_result",
          "data": {
            "text/plain": [
              "Index(['date_crawled', 'price', 'vehicle_type', 'registration_year', 'gearbox',\n",
              "       'power', 'model', 'kilometer', 'registration_month', 'fuel_type',\n",
              "       'brand', 'repaired', 'date_created', 'number_of_pictures',\n",
              "       'postal_code', 'last_seen'],\n",
              "      dtype='object')"
            ]
          },
          "metadata": {},
          "execution_count": 6
        }
      ],
      "source": [
        "df.columns"
      ]
    },
    {
      "cell_type": "code",
      "execution_count": 7,
      "metadata": {
        "id": "KMpYrQz17jWJ"
      },
      "outputs": [],
      "source": [
        "# Делаем функцию для обзора данных\n",
        "def data_overview(data):\n",
        "    '''\n",
        "    Функция для обзора данных,\n",
        "    принимает на вход датафрейм,\n",
        "    выводит на экран его основные характеристики\n",
        "    и графики\n",
        "    '''\n",
        "    \n",
        "    print('Общая информация о данных (info)', (80 - len('Общая информация о данных (info)')) * '-', '\\n')\n",
        "    data.info()\n",
        "    print('')\n",
        "    print('Статистические показатели (describe)', (80 - len('Статистические показатели (describe)')) * '-')\n",
        "    display(data.describe().T)\n",
        "    print('')\n",
        "    print ('Пропущенные значения в данных', (80 - len('Пропущенные значения в данных')) * '-')\n",
        "    print('')\n",
        "    empty = sum(data.isna().sum())\n",
        "    if empty > 0:\n",
        "        print(f'Общее количество пропусков в данных: {empty}')\n",
        "        print()\n",
        "        (\n",
        "            (data.isna().mean()*100)\n",
        "            .to_frame()\n",
        "            .rename(columns = {0:'space'})\n",
        "            .query('space > 0')\n",
        "            .sort_values(by = 'space', ascending = True)\n",
        "            .plot(kind= 'barh', legend = False, figsize=(40,20),\n",
        "                  fontsize = 22)\n",
        "            .set_title('Количество пропусков по колонкам' + \"\\n\", fontsize = 26)\n",
        "        )\n",
        "    else:\n",
        "        print('Пропущенных значений нет')\n",
        "    print('')\n",
        "    print('Дубликаты в данных', (80 - len('Дубликаты в данных')) * '-')\n",
        "    print('')\n",
        "    if data.duplicated().sum() > 0:\n",
        "        print (f'Количество дубликатов в данных: {data.duplicated().sum()}')\n",
        "    else:\n",
        "        print('Дубликатов нет')\n",
        "    "
      ]
    },
    {
      "cell_type": "code",
      "execution_count": 8,
      "metadata": {
        "colab": {
          "base_uri": "https://localhost:8080/",
          "height": 1000
        },
        "id": "gcBMS82q7jWK",
        "outputId": "d678c069-8d42-4461-cb3e-6cbb0b061c49"
      },
      "outputs": [
        {
          "output_type": "stream",
          "name": "stdout",
          "text": [
            "Общая информация о данных (info) ------------------------------------------------ \n",
            "\n",
            "<class 'pandas.core.frame.DataFrame'>\n",
            "RangeIndex: 309916 entries, 0 to 309915\n",
            "Data columns (total 16 columns):\n",
            " #   Column              Non-Null Count   Dtype  \n",
            "---  ------              --------------   -----  \n",
            " 0   date_crawled        309916 non-null  object \n",
            " 1   price               309916 non-null  int64  \n",
            " 2   vehicle_type        277064 non-null  object \n",
            " 3   registration_year   309916 non-null  int64  \n",
            " 4   gearbox             292579 non-null  object \n",
            " 5   power               309915 non-null  float64\n",
            " 6   model               292606 non-null  object \n",
            " 7   kilometer           309915 non-null  float64\n",
            " 8   registration_month  309915 non-null  float64\n",
            " 9   fuel_type           281090 non-null  object \n",
            " 10  brand               309915 non-null  object \n",
            " 11  repaired            247671 non-null  object \n",
            " 12  date_created        309915 non-null  object \n",
            " 13  number_of_pictures  309915 non-null  float64\n",
            " 14  postal_code         309915 non-null  float64\n",
            " 15  last_seen           309915 non-null  object \n",
            "dtypes: float64(5), int64(2), object(9)\n",
            "memory usage: 37.8+ MB\n",
            "\n",
            "Статистические показатели (describe) --------------------------------------------\n"
          ]
        },
        {
          "output_type": "display_data",
          "data": {
            "text/plain": [
              "                       count           mean           std     min       25%  \\\n",
              "price               309916.0    4422.146911   4520.614411     0.0    1050.0   \n",
              "registration_year   309916.0    2004.234344     90.953537  1000.0    1999.0   \n",
              "power               309915.0     110.236529    194.348057     0.0      69.0   \n",
              "kilometer           309915.0  128134.327154  37968.798655  5000.0  125000.0   \n",
              "registration_month  309915.0       5.710388      3.726536     0.0       3.0   \n",
              "number_of_pictures  309915.0       0.000000      0.000000     0.0       0.0   \n",
              "postal_code         309915.0   50488.592692  25783.613054  1067.0   30163.0   \n",
              "\n",
              "                         50%       75%       max  \n",
              "price                 2700.0    6400.0   20000.0  \n",
              "registration_year     2003.0    2008.0    9999.0  \n",
              "power                  105.0     142.0   20000.0  \n",
              "kilometer           150000.0  150000.0  150000.0  \n",
              "registration_month       6.0       9.0      12.0  \n",
              "number_of_pictures       0.0       0.0       0.0  \n",
              "postal_code          49377.0   71083.0   99998.0  "
            ],
            "text/html": [
              "\n",
              "  <div id=\"df-eef36b6f-1613-4c98-b8ec-d57bc2404617\">\n",
              "    <div class=\"colab-df-container\">\n",
              "      <div>\n",
              "<style scoped>\n",
              "    .dataframe tbody tr th:only-of-type {\n",
              "        vertical-align: middle;\n",
              "    }\n",
              "\n",
              "    .dataframe tbody tr th {\n",
              "        vertical-align: top;\n",
              "    }\n",
              "\n",
              "    .dataframe thead th {\n",
              "        text-align: right;\n",
              "    }\n",
              "</style>\n",
              "<table border=\"1\" class=\"dataframe\">\n",
              "  <thead>\n",
              "    <tr style=\"text-align: right;\">\n",
              "      <th></th>\n",
              "      <th>count</th>\n",
              "      <th>mean</th>\n",
              "      <th>std</th>\n",
              "      <th>min</th>\n",
              "      <th>25%</th>\n",
              "      <th>50%</th>\n",
              "      <th>75%</th>\n",
              "      <th>max</th>\n",
              "    </tr>\n",
              "  </thead>\n",
              "  <tbody>\n",
              "    <tr>\n",
              "      <th>price</th>\n",
              "      <td>309916.0</td>\n",
              "      <td>4422.146911</td>\n",
              "      <td>4520.614411</td>\n",
              "      <td>0.0</td>\n",
              "      <td>1050.0</td>\n",
              "      <td>2700.0</td>\n",
              "      <td>6400.0</td>\n",
              "      <td>20000.0</td>\n",
              "    </tr>\n",
              "    <tr>\n",
              "      <th>registration_year</th>\n",
              "      <td>309916.0</td>\n",
              "      <td>2004.234344</td>\n",
              "      <td>90.953537</td>\n",
              "      <td>1000.0</td>\n",
              "      <td>1999.0</td>\n",
              "      <td>2003.0</td>\n",
              "      <td>2008.0</td>\n",
              "      <td>9999.0</td>\n",
              "    </tr>\n",
              "    <tr>\n",
              "      <th>power</th>\n",
              "      <td>309915.0</td>\n",
              "      <td>110.236529</td>\n",
              "      <td>194.348057</td>\n",
              "      <td>0.0</td>\n",
              "      <td>69.0</td>\n",
              "      <td>105.0</td>\n",
              "      <td>142.0</td>\n",
              "      <td>20000.0</td>\n",
              "    </tr>\n",
              "    <tr>\n",
              "      <th>kilometer</th>\n",
              "      <td>309915.0</td>\n",
              "      <td>128134.327154</td>\n",
              "      <td>37968.798655</td>\n",
              "      <td>5000.0</td>\n",
              "      <td>125000.0</td>\n",
              "      <td>150000.0</td>\n",
              "      <td>150000.0</td>\n",
              "      <td>150000.0</td>\n",
              "    </tr>\n",
              "    <tr>\n",
              "      <th>registration_month</th>\n",
              "      <td>309915.0</td>\n",
              "      <td>5.710388</td>\n",
              "      <td>3.726536</td>\n",
              "      <td>0.0</td>\n",
              "      <td>3.0</td>\n",
              "      <td>6.0</td>\n",
              "      <td>9.0</td>\n",
              "      <td>12.0</td>\n",
              "    </tr>\n",
              "    <tr>\n",
              "      <th>number_of_pictures</th>\n",
              "      <td>309915.0</td>\n",
              "      <td>0.000000</td>\n",
              "      <td>0.000000</td>\n",
              "      <td>0.0</td>\n",
              "      <td>0.0</td>\n",
              "      <td>0.0</td>\n",
              "      <td>0.0</td>\n",
              "      <td>0.0</td>\n",
              "    </tr>\n",
              "    <tr>\n",
              "      <th>postal_code</th>\n",
              "      <td>309915.0</td>\n",
              "      <td>50488.592692</td>\n",
              "      <td>25783.613054</td>\n",
              "      <td>1067.0</td>\n",
              "      <td>30163.0</td>\n",
              "      <td>49377.0</td>\n",
              "      <td>71083.0</td>\n",
              "      <td>99998.0</td>\n",
              "    </tr>\n",
              "  </tbody>\n",
              "</table>\n",
              "</div>\n",
              "      <button class=\"colab-df-convert\" onclick=\"convertToInteractive('df-eef36b6f-1613-4c98-b8ec-d57bc2404617')\"\n",
              "              title=\"Convert this dataframe to an interactive table.\"\n",
              "              style=\"display:none;\">\n",
              "        \n",
              "  <svg xmlns=\"http://www.w3.org/2000/svg\" height=\"24px\"viewBox=\"0 0 24 24\"\n",
              "       width=\"24px\">\n",
              "    <path d=\"M0 0h24v24H0V0z\" fill=\"none\"/>\n",
              "    <path d=\"M18.56 5.44l.94 2.06.94-2.06 2.06-.94-2.06-.94-.94-2.06-.94 2.06-2.06.94zm-11 1L8.5 8.5l.94-2.06 2.06-.94-2.06-.94L8.5 2.5l-.94 2.06-2.06.94zm10 10l.94 2.06.94-2.06 2.06-.94-2.06-.94-.94-2.06-.94 2.06-2.06.94z\"/><path d=\"M17.41 7.96l-1.37-1.37c-.4-.4-.92-.59-1.43-.59-.52 0-1.04.2-1.43.59L10.3 9.45l-7.72 7.72c-.78.78-.78 2.05 0 2.83L4 21.41c.39.39.9.59 1.41.59.51 0 1.02-.2 1.41-.59l7.78-7.78 2.81-2.81c.8-.78.8-2.07 0-2.86zM5.41 20L4 18.59l7.72-7.72 1.47 1.35L5.41 20z\"/>\n",
              "  </svg>\n",
              "      </button>\n",
              "      \n",
              "  <style>\n",
              "    .colab-df-container {\n",
              "      display:flex;\n",
              "      flex-wrap:wrap;\n",
              "      gap: 12px;\n",
              "    }\n",
              "\n",
              "    .colab-df-convert {\n",
              "      background-color: #E8F0FE;\n",
              "      border: none;\n",
              "      border-radius: 50%;\n",
              "      cursor: pointer;\n",
              "      display: none;\n",
              "      fill: #1967D2;\n",
              "      height: 32px;\n",
              "      padding: 0 0 0 0;\n",
              "      width: 32px;\n",
              "    }\n",
              "\n",
              "    .colab-df-convert:hover {\n",
              "      background-color: #E2EBFA;\n",
              "      box-shadow: 0px 1px 2px rgba(60, 64, 67, 0.3), 0px 1px 3px 1px rgba(60, 64, 67, 0.15);\n",
              "      fill: #174EA6;\n",
              "    }\n",
              "\n",
              "    [theme=dark] .colab-df-convert {\n",
              "      background-color: #3B4455;\n",
              "      fill: #D2E3FC;\n",
              "    }\n",
              "\n",
              "    [theme=dark] .colab-df-convert:hover {\n",
              "      background-color: #434B5C;\n",
              "      box-shadow: 0px 1px 3px 1px rgba(0, 0, 0, 0.15);\n",
              "      filter: drop-shadow(0px 1px 2px rgba(0, 0, 0, 0.3));\n",
              "      fill: #FFFFFF;\n",
              "    }\n",
              "  </style>\n",
              "\n",
              "      <script>\n",
              "        const buttonEl =\n",
              "          document.querySelector('#df-eef36b6f-1613-4c98-b8ec-d57bc2404617 button.colab-df-convert');\n",
              "        buttonEl.style.display =\n",
              "          google.colab.kernel.accessAllowed ? 'block' : 'none';\n",
              "\n",
              "        async function convertToInteractive(key) {\n",
              "          const element = document.querySelector('#df-eef36b6f-1613-4c98-b8ec-d57bc2404617');\n",
              "          const dataTable =\n",
              "            await google.colab.kernel.invokeFunction('convertToInteractive',\n",
              "                                                     [key], {});\n",
              "          if (!dataTable) return;\n",
              "\n",
              "          const docLinkHtml = 'Like what you see? Visit the ' +\n",
              "            '<a target=\"_blank\" href=https://colab.research.google.com/notebooks/data_table.ipynb>data table notebook</a>'\n",
              "            + ' to learn more about interactive tables.';\n",
              "          element.innerHTML = '';\n",
              "          dataTable['output_type'] = 'display_data';\n",
              "          await google.colab.output.renderOutput(dataTable, element);\n",
              "          const docLink = document.createElement('div');\n",
              "          docLink.innerHTML = docLinkHtml;\n",
              "          element.appendChild(docLink);\n",
              "        }\n",
              "      </script>\n",
              "    </div>\n",
              "  </div>\n",
              "  "
            ]
          },
          "metadata": {}
        },
        {
          "output_type": "stream",
          "name": "stdout",
          "text": [
            "\n",
            "Пропущенные значения в данных ---------------------------------------------------\n",
            "\n",
            "Общее количество пропусков в данных: 158578\n",
            "\n",
            "\n",
            "Дубликаты в данных --------------------------------------------------------------\n",
            "\n",
            "Количество дубликатов в данных: 3\n"
          ]
        },
        {
          "output_type": "display_data",
          "data": {
            "text/plain": [
              "<Figure size 4000x2000 with 1 Axes>"
            ],
            "image/png": "[encoded data removed]"
          },
          "metadata": {}
        }
      ],
      "source": [
        "data_overview(df)"
      ]
    },
    {
      "cell_type": "markdown",
      "metadata": {
        "id": "PLN4gSeI7jWK"
      },
      "source": [
        "После обзора данных мы выяснили:\n",
        "1. В датафрейме 354 369 записей;\n",
        "2. В данных имеется небольшое число дубликатов (4) и значительное количество пропусков: больше всего пропущенных значений — в столбце `repaired` (была машина в ремонте или нет), также есть пропуски в столбцах `vehicle_type` (тип кузова), `fuel_type` (тип топлива), `gearbox` (тип коробки передач), `model` (модель).\n",
        "\n",
        "Чтобы решить, как поступить с пропусками, и исследовать аномалии в данных, посмотрим на распределения и типы значений."
      ]
    },
    {
      "cell_type": "markdown",
      "metadata": {
        "id": "gLKzHzoU7jWL"
      },
      "source": [
        "### Удаление незначимых признаков"
      ]
    },
    {
      "cell_type": "code",
      "execution_count": 9,
      "metadata": {
        "colab": {
          "base_uri": "https://localhost:8080/"
        },
        "id": "404ICmt37jWL",
        "outputId": "eb0e0b86-69f6-48e6-fdc4-dde5823275f1"
      },
      "outputs": [
        {
          "output_type": "execute_result",
          "data": {
            "text/plain": [
              "Index(['date_crawled', 'price', 'vehicle_type', 'registration_year', 'gearbox',\n",
              "       'power', 'model', 'kilometer', 'registration_month', 'fuel_type',\n",
              "       'brand', 'repaired', 'date_created', 'number_of_pictures',\n",
              "       'postal_code', 'last_seen'],\n",
              "      dtype='object')"
            ]
          },
          "metadata": {},
          "execution_count": 9
        }
      ],
      "source": [
        "df.columns"
      ]
    },
    {
      "cell_type": "markdown",
      "metadata": {
        "id": "Yq6ywfwA7jWL"
      },
      "source": [
        "У нас есть несколько временных признаков (`date_crawled`, `registration_year`, `registration_month`, `date_created`, `last_seen`)."
      ]
    },
    {
      "cell_type": "code",
      "execution_count": 10,
      "metadata": {
        "colab": {
          "base_uri": "https://localhost:8080/"
        },
        "id": "3UgpOmsE7jWM",
        "outputId": "48adfa70-1eae-481f-c209-f7134f2fabc9"
      },
      "outputs": [
        {
          "output_type": "execute_result",
          "data": {
            "text/plain": [
              "array(['2016-03-05 14:06:23', '2016-03-05 14:06:24',\n",
              "       '2016-03-05 14:06:25', ..., '2016-04-07 14:36:54',\n",
              "       '2016-04-07 14:36:55', '2016-04-07 14:36:58'], dtype=object)"
            ]
          },
          "metadata": {},
          "execution_count": 10
        }
      ],
      "source": [
        "df['date_crawled'].sort_values().unique()"
      ]
    },
    {
      "cell_type": "code",
      "execution_count": 11,
      "metadata": {
        "scrolled": true,
        "colab": {
          "base_uri": "https://localhost:8080/"
        },
        "id": "MSwQtgZs7jWM",
        "outputId": "2e646c43-a38b-4713-90e8-d5bceaf6bac5"
      },
      "outputs": [
        {
          "output_type": "execute_result",
          "data": {
            "text/plain": [
              "array(['2014-03-10 00:00:00', '2015-03-20 00:00:00',\n",
              "       '2015-08-07 00:00:00', '2015-08-10 00:00:00',\n",
              "       '2015-09-04 00:00:00', '2015-11-02 00:00:00',\n",
              "       '2015-11-08 00:00:00', '2015-11-10 00:00:00',\n",
              "       '2015-11-12 00:00:00', '2015-11-17 00:00:00',\n",
              "       '2015-11-23 00:00:00', '2015-11-24 00:00:00',\n",
              "       '2015-12-05 00:00:00', '2015-12-06 00:00:00',\n",
              "       '2015-12-17 00:00:00', '2015-12-27 00:00:00',\n",
              "       '2015-12-30 00:00:00', '2016-01-02 00:00:00',\n",
              "       '2016-01-03 00:00:00', '2016-01-06 00:00:00',\n",
              "       '2016-01-07 00:00:00', '2016-01-08 00:00:00',\n",
              "       '2016-01-10 00:00:00', '2016-01-13 00:00:00',\n",
              "       '2016-01-15 00:00:00', '2016-01-16 00:00:00',\n",
              "       '2016-01-17 00:00:00', '2016-01-18 00:00:00',\n",
              "       '2016-01-19 00:00:00', '2016-01-20 00:00:00',\n",
              "       '2016-01-22 00:00:00', '2016-01-23 00:00:00',\n",
              "       '2016-01-24 00:00:00', '2016-01-25 00:00:00',\n",
              "       '2016-01-26 00:00:00', '2016-01-27 00:00:00',\n",
              "       '2016-01-28 00:00:00', '2016-01-29 00:00:00',\n",
              "       '2016-01-30 00:00:00', '2016-01-31 00:00:00',\n",
              "       '2016-02-01 00:00:00', '2016-02-02 00:00:00',\n",
              "       '2016-02-03 00:00:00', '2016-02-04 00:00:00',\n",
              "       '2016-02-05 00:00:00', '2016-02-06 00:00:00',\n",
              "       '2016-02-07 00:00:00', '2016-02-08 00:00:00',\n",
              "       '2016-02-09 00:00:00', '2016-02-10 00:00:00',\n",
              "       '2016-02-11 00:00:00', '2016-02-12 00:00:00',\n",
              "       '2016-02-13 00:00:00', '2016-02-14 00:00:00',\n",
              "       '2016-02-15 00:00:00', '2016-02-16 00:00:00',\n",
              "       '2016-02-17 00:00:00', '2016-02-18 00:00:00',\n",
              "       '2016-02-19 00:00:00', '2016-02-20 00:00:00',\n",
              "       '2016-02-21 00:00:00', '2016-02-22 00:00:00',\n",
              "       '2016-02-23 00:00:00', '2016-02-24 00:00:00',\n",
              "       '2016-02-25 00:00:00', '2016-02-26 00:00:00',\n",
              "       '2016-02-27 00:00:00', '2016-02-28 00:00:00',\n",
              "       '2016-02-29 00:00:00', '2016-03-01 00:00:00',\n",
              "       '2016-03-02 00:00:00', '2016-03-03 00:00:00',\n",
              "       '2016-03-04 00:00:00', '2016-03-05 00:00:00',\n",
              "       '2016-03-06 00:00:00', '2016-03-07 00:00:00',\n",
              "       '2016-03-08 00:00:00', '2016-03-09 00:00:00',\n",
              "       '2016-03-10 00:00:00', '2016-03-11 00:00:00',\n",
              "       '2016-03-12 00:00:00', '2016-03-13 00:00:00',\n",
              "       '2016-03-14 00:00:00', '2016-03-15 00:00:00',\n",
              "       '2016-03-16 00:00:00', '2016-03-17 00:00:00',\n",
              "       '2016-03-18 00:00:00', '2016-03-19 00:00:00',\n",
              "       '2016-03-20 00:00:00', '2016-03-21 00:00:00',\n",
              "       '2016-03-22 00:00:00', '2016-03-23 00:00:00',\n",
              "       '2016-03-24 00:00:00', '2016-03-25 00:00:00',\n",
              "       '2016-03-26 00:00:00', '2016-03-27 00:00:00',\n",
              "       '2016-03-28 00:00:00', '2016-03-29 00:00:00',\n",
              "       '2016-03-30 00:00:00', '2016-03-31 00:00:00',\n",
              "       '2016-04-01 00:00:00', '2016-04-02 00:00:00',\n",
              "       '2016-04-03 00:00:00', '2016-04-04 00:00:00',\n",
              "       '2016-04-05 00:00:00', '2016-04-06 00:00:00',\n",
              "       '2016-04-07 00:00:00', nan], dtype=object)"
            ]
          },
          "metadata": {},
          "execution_count": 11
        }
      ],
      "source": [
        "df['date_created'].sort_values().unique()"
      ]
    },
    {
      "cell_type": "code",
      "execution_count": 12,
      "metadata": {
        "colab": {
          "base_uri": "https://localhost:8080/"
        },
        "id": "IEPp_rD87jWM",
        "outputId": "64a1b5af-8af0-4884-a760-64a0cff08109"
      },
      "outputs": [
        {
          "output_type": "execute_result",
          "data": {
            "text/plain": [
              "array(['2016-03-05 14:15:08', '2016-03-05 14:15:16',\n",
              "       '2016-03-05 14:15:39', ..., '2016-04-07 14:58:49',\n",
              "       '2016-04-07 14:58:50', nan], dtype=object)"
            ]
          },
          "metadata": {},
          "execution_count": 12
        }
      ],
      "source": [
        "df['last_seen'].sort_values().unique()"
      ]
    },
    {
      "cell_type": "markdown",
      "metadata": {
        "id": "-tGXMmiT7jWN"
      },
      "source": [
        "Анкеты создавались в течение 2015—2016 годов, а скачивались из базы и в последний раз просматривались в течение 2016 года. Эти признаки мы позже удалим, т. к. для предсказания модели они не значимы."
      ]
    },
    {
      "cell_type": "code",
      "execution_count": 13,
      "metadata": {
        "colab": {
          "base_uri": "https://localhost:8080/"
        },
        "id": "OZrUtI-Q7jWN",
        "outputId": "6957a715-96f8-43a7-cd4d-358fd00d83ce"
      },
      "outputs": [
        {
          "output_type": "execute_result",
          "data": {
            "text/plain": [
              "array([ 0.,  1.,  2.,  3.,  4.,  5.,  6.,  7.,  8.,  9., 10., 11., 12.,\n",
              "       nan])"
            ]
          },
          "metadata": {},
          "execution_count": 13
        }
      ],
      "source": [
        "df['registration_month'].sort_values().unique()"
      ]
    },
    {
      "cell_type": "markdown",
      "metadata": {
        "id": "IwPRI8wa7jWN"
      },
      "source": [
        "В столбце с месяцем регистрации автомобиля присутствует 13 уникальных значений - от 0 до 12. Поскольку данный признак также не представляется значимым, мы его удалим. Из признаков со значениями времени (даты) мы оставим только год регистрации, поскольку, возможно, год регистрации связан с годом выпуска машины, а это важный признак для предсказания цены."
      ]
    },
    {
      "cell_type": "code",
      "execution_count": 14,
      "metadata": {
        "colab": {
          "base_uri": "https://localhost:8080/"
        },
        "id": "PuktoZEF7jWO",
        "outputId": "6660297d-d690-46a4-a44f-be4983497e2d"
      },
      "outputs": [
        {
          "output_type": "execute_result",
          "data": {
            "text/plain": [
              "0    70435.0\n",
              "1    66954.0\n",
              "2    90480.0\n",
              "3    91074.0\n",
              "4    60437.0\n",
              "Name: postal_code, dtype: float64"
            ]
          },
          "metadata": {},
          "execution_count": 14
        }
      ],
      "source": [
        "# Посмотрим, какие значения содержатся в столбце postal_code\n",
        "df['postal_code'].head()"
      ]
    },
    {
      "cell_type": "code",
      "execution_count": 15,
      "metadata": {
        "colab": {
          "base_uri": "https://localhost:8080/"
        },
        "id": "WDTXtLck7jWO",
        "outputId": "7aad6fc6-58fc-4eb7-f293-5a039d3cd5d5"
      },
      "outputs": [
        {
          "output_type": "execute_result",
          "data": {
            "text/plain": [
              "8120"
            ]
          },
          "metadata": {},
          "execution_count": 15
        }
      ],
      "source": [
        "df['postal_code'].nunique()"
      ]
    },
    {
      "cell_type": "markdown",
      "metadata": {
        "id": "lXQ0FfPd7jWO"
      },
      "source": [
        "В этой колонке много уникальных значений, которые являются по сути категориальными, а не численными, поэтому данный признак также нужно удалить. Кроме того, для предсказания этот признак, скорее всего, не значим."
      ]
    },
    {
      "cell_type": "code",
      "execution_count": 16,
      "metadata": {
        "colab": {
          "base_uri": "https://localhost:8080/"
        },
        "id": "XvR_iqR_7jWP",
        "outputId": "ab9742f8-4ef8-417e-d5ab-9f24144ed5c9"
      },
      "outputs": [
        {
          "output_type": "execute_result",
          "data": {
            "text/plain": [
              "array([ 0., nan])"
            ]
          },
          "metadata": {},
          "execution_count": 16
        }
      ],
      "source": [
        "df['number_of_pictures'].unique()"
      ]
    },
    {
      "cell_type": "markdown",
      "metadata": {
        "id": "CsQrN7ge7jWP"
      },
      "source": [
        "В этом столбце только нулевые значения, так что его мы тоже удалим."
      ]
    },
    {
      "cell_type": "code",
      "execution_count": 17,
      "metadata": {
        "id": "ItTqbQfJ7jWP"
      },
      "outputs": [],
      "source": [
        "# Удаляем признаки, которые не являются значимыми для предсказания\n",
        "df = df.drop(['date_crawled', 'registration_month', 'date_created', 'number_of_pictures',\n",
        "              'postal_code', 'last_seen'], axis=1)"
      ]
    },
    {
      "cell_type": "code",
      "execution_count": 18,
      "metadata": {
        "id": "hR8sWX0T7jWQ"
      },
      "outputs": [],
      "source": [
        "#Удалим дубликаты\n",
        "df = df.drop_duplicates()"
      ]
    },
    {
      "cell_type": "markdown",
      "metadata": {
        "id": "fuXRuzrU7jWR"
      },
      "source": [
        "#### Вывод по разделу\n",
        "На этом этапе исследования мы удалили признаки, которые, по всей вероятности, не будут влиять на качество предсказания. При этом мы посмотрели на диапазон дат, в которые производилась работа с анкетами, и установили, что этот период — 2015—2016 годы, т.е. машин, зарегистрированных позже 2016 года, в базе быть не должно."
      ]
    },
    {
      "cell_type": "markdown",
      "metadata": {
        "id": "J1bZylBc7jWR"
      },
      "source": [
        "### Заполнение пропусков"
      ]
    },
    {
      "cell_type": "code",
      "execution_count": 19,
      "metadata": {
        "colab": {
          "base_uri": "https://localhost:8080/"
        },
        "id": "ACzK-Qes7jWS",
        "outputId": "45219d90-154b-44b9-f087-39589a62a140"
      },
      "outputs": [
        {
          "output_type": "execute_result",
          "data": {
            "text/plain": [
              "price                    0\n",
              "vehicle_type         30547\n",
              "registration_year        0\n",
              "gearbox              15202\n",
              "power                    1\n",
              "model                16249\n",
              "kilometer                1\n",
              "fuel_type            27156\n",
              "brand                    1\n",
              "repaired             57006\n",
              "dtype: int64"
            ]
          },
          "metadata": {},
          "execution_count": 19
        }
      ],
      "source": [
        "df.isna().sum()"
      ]
    },
    {
      "cell_type": "code",
      "execution_count": 20,
      "metadata": {
        "scrolled": true,
        "colab": {
          "base_uri": "https://localhost:8080/"
        },
        "id": "4JYD7K-S7jWS",
        "outputId": "ce5f55a0-82fc-4a46-c2eb-4468ab2ebf41"
      },
      "outputs": [
        {
          "output_type": "execute_result",
          "data": {
            "text/plain": [
              "no     187675\n",
              "NaN     57006\n",
              "yes     29454\n",
              "Name: repaired, dtype: int64"
            ]
          },
          "metadata": {},
          "execution_count": 20
        }
      ],
      "source": [
        "# Посмотрим, какие значения есть в столбце repaired\n",
        "df['repaired'].value_counts(dropna=False)\n",
        "    "
      ]
    },
    {
      "cell_type": "markdown",
      "metadata": {
        "id": "HzsMYBiu7jWT"
      },
      "source": [
        "У нас нет оснований считать, что пропуск в данном случае свидетельствует о том, что машина не была в ремонте. Заполним эти пропуски значением unknown. "
      ]
    },
    {
      "cell_type": "code",
      "execution_count": 21,
      "metadata": {
        "id": "RM5S1P0j7jWT"
      },
      "outputs": [],
      "source": [
        "df['repaired'] = df['repaired'].fillna('unknown')"
      ]
    },
    {
      "cell_type": "code",
      "execution_count": 22,
      "metadata": {
        "colab": {
          "base_uri": "https://localhost:8080/"
        },
        "id": "VNsKClNU7jWU",
        "outputId": "bdec3960-dc7a-4c80-c723-7d29700a0823"
      },
      "outputs": [
        {
          "output_type": "execute_result",
          "data": {
            "text/plain": [
              "petrol      166650\n",
              "gasoline     75147\n",
              "NaN          27156\n",
              "lpg           4267\n",
              "cng            464\n",
              "hybrid         194\n",
              "other          181\n",
              "electric        76\n",
              "Name: fuel_type, dtype: int64"
            ]
          },
          "metadata": {},
          "execution_count": 22
        }
      ],
      "source": [
        "# Посмотрим, какие значения есть в столбце fuel_type\n",
        "df['fuel_type'].value_counts(dropna=False)"
      ]
    },
    {
      "cell_type": "markdown",
      "metadata": {
        "id": "aF-_nO3-7jWU"
      },
      "source": [
        "Пропуск в столбце с типом топлива мы заполним наиболее частым значением ('petrol')."
      ]
    },
    {
      "cell_type": "code",
      "execution_count": 23,
      "metadata": {
        "colab": {
          "base_uri": "https://localhost:8080/"
        },
        "id": "iN78yKF77jWU",
        "outputId": "a39c6c0e-ddfa-40c3-d724-190cae4a3f2e"
      },
      "outputs": [
        {
          "output_type": "execute_result",
          "data": {
            "text/plain": [
              "petrol      193806\n",
              "gasoline     75147\n",
              "lpg           4267\n",
              "cng            464\n",
              "hybrid         194\n",
              "other          181\n",
              "electric        76\n",
              "Name: fuel_type, dtype: int64"
            ]
          },
          "metadata": {},
          "execution_count": 23
        }
      ],
      "source": [
        "df['fuel_type'] = df['fuel_type'].fillna('petrol')\n",
        "\n",
        "df['fuel_type'].value_counts(dropna=False)"
      ]
    },
    {
      "cell_type": "code",
      "execution_count": 24,
      "metadata": {
        "scrolled": true,
        "colab": {
          "base_uri": "https://localhost:8080/"
        },
        "id": "KXrV4_nF7jWW",
        "outputId": "f8a6bbe6-b82b-4cf8-b551-fb5e488c7476"
      },
      "outputs": [
        {
          "output_type": "execute_result",
          "data": {
            "text/plain": [
              "golf                  21086\n",
              "other                 20172\n",
              "NaN                   16249\n",
              "3er                   14853\n",
              "polo                   9365\n",
              "                      ...  \n",
              "kalina                    5\n",
              "rangerover                4\n",
              "serie_3                   4\n",
              "serie_1                   2\n",
              "range_rover_evoque        1\n",
              "Name: model, Length: 251, dtype: int64"
            ]
          },
          "metadata": {},
          "execution_count": 24
        }
      ],
      "source": [
        "# Посмотрим, какие значения есть в столбце model\n",
        "df['model'].value_counts(dropna=False)"
      ]
    },
    {
      "cell_type": "markdown",
      "metadata": {
        "id": "T7zOxsu67jWW"
      },
      "source": [
        "В данном случае мы можем заполнить только unknown, поскольку из данных никакого вывода о модели сделать нельзя."
      ]
    },
    {
      "cell_type": "code",
      "execution_count": 25,
      "metadata": {
        "id": "BxOQr2Cz7jWW"
      },
      "outputs": [],
      "source": [
        "df['model'] = df['model'].fillna('unknown')"
      ]
    },
    {
      "cell_type": "code",
      "execution_count": 26,
      "metadata": {
        "colab": {
          "base_uri": "https://localhost:8080/"
        },
        "id": "MAi4pZOi7jWX",
        "outputId": "7ebf29f7-a4b1-4b60-8b7e-1758f1900913"
      },
      "outputs": [
        {
          "output_type": "execute_result",
          "data": {
            "text/plain": [
              "manual    206519\n",
              "auto       52414\n",
              "NaN        15202\n",
              "Name: gearbox, dtype: int64"
            ]
          },
          "metadata": {},
          "execution_count": 26
        }
      ],
      "source": [
        "# Посмотрим, какие значения есть в столбце gearbox\n",
        "df['gearbox'].value_counts(dropna=False)"
      ]
    },
    {
      "cell_type": "markdown",
      "metadata": {
        "id": "82xNeprR7jWX"
      },
      "source": [
        "В данном случае мы заполним пропуски значением manual, поскольку это значение наиболее многочисленно."
      ]
    },
    {
      "cell_type": "code",
      "execution_count": 27,
      "metadata": {
        "id": "98WI8Fuk7jWX"
      },
      "outputs": [],
      "source": [
        "df['gearbox'] = df['gearbox'].fillna('manual')\n",
        "\n"
      ]
    },
    {
      "cell_type": "code",
      "execution_count": 28,
      "metadata": {
        "colab": {
          "base_uri": "https://localhost:8080/"
        },
        "id": "pOST5J1B7jWY",
        "outputId": "07b166f7-2903-45ab-b89a-5b68756b4ee7"
      },
      "outputs": [
        {
          "output_type": "execute_result",
          "data": {
            "text/plain": [
              "sedan          69432\n",
              "small          59935\n",
              "wagon          49910\n",
              "NaN            30547\n",
              "bus            22835\n",
              "convertible    16213\n",
              "coupe          12980\n",
              "suv             9496\n",
              "other           2787\n",
              "Name: vehicle_type, dtype: int64"
            ]
          },
          "metadata": {},
          "execution_count": 28
        }
      ],
      "source": [
        "# Посмотрим, какие значения есть в столбце vehicle_type\n",
        "df['vehicle_type'].value_counts(dropna=False)"
      ]
    },
    {
      "cell_type": "markdown",
      "metadata": {
        "id": "ba4Il-mx7jWY"
      },
      "source": [
        "В данном случае у нас нет оснований заполнять каким-то из имеющихся значений, поставим вместо пропусков значение unknown."
      ]
    },
    {
      "cell_type": "code",
      "execution_count": 29,
      "metadata": {
        "id": "iBY1wSL87jWY"
      },
      "outputs": [],
      "source": [
        "df['vehicle_type'] = df['vehicle_type'].fillna('unknown')"
      ]
    },
    {
      "cell_type": "markdown",
      "metadata": {
        "id": "P7eZKbXj7jWZ"
      },
      "source": [
        "Проверим, остались ли в данных пропуски."
      ]
    },
    {
      "cell_type": "code",
      "execution_count": 30,
      "metadata": {
        "colab": {
          "base_uri": "https://localhost:8080/"
        },
        "id": "78Bg4ACq7jWZ",
        "outputId": "81eab2f4-10eb-4ff1-cff8-63a545b912c4"
      },
      "outputs": [
        {
          "output_type": "execute_result",
          "data": {
            "text/plain": [
              "price                False\n",
              "vehicle_type         False\n",
              "registration_year    False\n",
              "gearbox              False\n",
              "power                 True\n",
              "model                False\n",
              "kilometer             True\n",
              "fuel_type            False\n",
              "brand                 True\n",
              "repaired             False\n",
              "dtype: bool"
            ]
          },
          "metadata": {},
          "execution_count": 30
        }
      ],
      "source": [
        "df.isna().any()"
      ]
    },
    {
      "cell_type": "markdown",
      "metadata": {
        "id": "IgFrGz637jWa"
      },
      "source": [
        "#### Вывод по разделу\n",
        "Мы заполнили пропуски в данных: в столбце с коробкой передач заменили пропущенные значения на manual, а в колонке с типом топлива — на petrol. Остальные пропуски заполнили значением unknown."
      ]
    },
    {
      "cell_type": "markdown",
      "metadata": {
        "id": "HGaYnF8p7jWa"
      },
      "source": [
        "### Обработка аномалий"
      ]
    },
    {
      "cell_type": "code",
      "execution_count": 31,
      "metadata": {
        "colab": {
          "base_uri": "https://localhost:8080/"
        },
        "id": "ilY6iMTM7jWa",
        "outputId": "653964a5-ad7e-4ae6-fcf9-f25c251f6111"
      },
      "outputs": [
        {
          "output_type": "execute_result",
          "data": {
            "text/plain": [
              "Index(['price', 'vehicle_type', 'registration_year', 'gearbox', 'power',\n",
              "       'model', 'kilometer', 'fuel_type', 'brand', 'repaired'],\n",
              "      dtype='object')"
            ]
          },
          "metadata": {},
          "execution_count": 31
        }
      ],
      "source": [
        "df.columns"
      ]
    },
    {
      "cell_type": "code",
      "execution_count": 32,
      "metadata": {
        "colab": {
          "base_uri": "https://localhost:8080/"
        },
        "id": "0Bv8yxj37jWb",
        "outputId": "15cd1a44-3b8f-4442-c2df-7b13f8038ecb"
      },
      "outputs": [
        {
          "output_type": "execute_result",
          "data": {
            "text/plain": [
              "Index(['price', 'registration_year'], dtype='object')"
            ]
          },
          "metadata": {},
          "execution_count": 32
        }
      ],
      "source": [
        "# Выберем колонки с числовыми данными\n",
        "df.select_dtypes('int64').columns"
      ]
    },
    {
      "cell_type": "code",
      "execution_count": 33,
      "metadata": {
        "colab": {
          "base_uri": "https://localhost:8080/",
          "height": 81
        },
        "id": "Kl6RwQXY7jWb",
        "outputId": "29e49a08-ec48-41be-fc8b-458d7c2b27e3"
      },
      "outputs": [
        {
          "output_type": "execute_result",
          "data": {
            "text/plain": [
              "                      count         mean        std     min     25%     50%  \\\n",
              "registration_year  274135.0  2004.337181  92.480515  1000.0  1999.0  2003.0   \n",
              "\n",
              "                      75%     max  \n",
              "registration_year  2008.0  9999.0  "
            ],
            "text/html": [
              "\n",
              "  <div id=\"df-afbf30c2-03fc-445d-92eb-d845a220123c\">\n",
              "    <div class=\"colab-df-container\">\n",
              "      <div>\n",
              "<style scoped>\n",
              "    .dataframe tbody tr th:only-of-type {\n",
              "        vertical-align: middle;\n",
              "    }\n",
              "\n",
              "    .dataframe tbody tr th {\n",
              "        vertical-align: top;\n",
              "    }\n",
              "\n",
              "    .dataframe thead th {\n",
              "        text-align: right;\n",
              "    }\n",
              "</style>\n",
              "<table border=\"1\" class=\"dataframe\">\n",
              "  <thead>\n",
              "    <tr style=\"text-align: right;\">\n",
              "      <th></th>\n",
              "      <th>count</th>\n",
              "      <th>mean</th>\n",
              "      <th>std</th>\n",
              "      <th>min</th>\n",
              "      <th>25%</th>\n",
              "      <th>50%</th>\n",
              "      <th>75%</th>\n",
              "      <th>max</th>\n",
              "    </tr>\n",
              "  </thead>\n",
              "  <tbody>\n",
              "    <tr>\n",
              "      <th>registration_year</th>\n",
              "      <td>274135.0</td>\n",
              "      <td>2004.337181</td>\n",
              "      <td>92.480515</td>\n",
              "      <td>1000.0</td>\n",
              "      <td>1999.0</td>\n",
              "      <td>2003.0</td>\n",
              "      <td>2008.0</td>\n",
              "      <td>9999.0</td>\n",
              "    </tr>\n",
              "  </tbody>\n",
              "</table>\n",
              "</div>\n",
              "      <button class=\"colab-df-convert\" onclick=\"convertToInteractive('df-afbf30c2-03fc-445d-92eb-d845a220123c')\"\n",
              "              title=\"Convert this dataframe to an interactive table.\"\n",
              "              style=\"display:none;\">\n",
              "        \n",
              "  <svg xmlns=\"http://www.w3.org/2000/svg\" height=\"24px\"viewBox=\"0 0 24 24\"\n",
              "       width=\"24px\">\n",
              "    <path d=\"M0 0h24v24H0V0z\" fill=\"none\"/>\n",
              "    <path d=\"M18.56 5.44l.94 2.06.94-2.06 2.06-.94-2.06-.94-.94-2.06-.94 2.06-2.06.94zm-11 1L8.5 8.5l.94-2.06 2.06-.94-2.06-.94L8.5 2.5l-.94 2.06-2.06.94zm10 10l.94 2.06.94-2.06 2.06-.94-2.06-.94-.94-2.06-.94 2.06-2.06.94z\"/><path d=\"M17.41 7.96l-1.37-1.37c-.4-.4-.92-.59-1.43-.59-.52 0-1.04.2-1.43.59L10.3 9.45l-7.72 7.72c-.78.78-.78 2.05 0 2.83L4 21.41c.39.39.9.59 1.41.59.51 0 1.02-.2 1.41-.59l7.78-7.78 2.81-2.81c.8-.78.8-2.07 0-2.86zM5.41 20L4 18.59l7.72-7.72 1.47 1.35L5.41 20z\"/>\n",
              "  </svg>\n",
              "      </button>\n",
              "      \n",
              "  <style>\n",
              "    .colab-df-container {\n",
              "      display:flex;\n",
              "      flex-wrap:wrap;\n",
              "      gap: 12px;\n",
              "    }\n",
              "\n",
              "    .colab-df-convert {\n",
              "      background-color: #E8F0FE;\n",
              "      border: none;\n",
              "      border-radius: 50%;\n",
              "      cursor: pointer;\n",
              "      display: none;\n",
              "      fill: #1967D2;\n",
              "      height: 32px;\n",
              "      padding: 0 0 0 0;\n",
              "      width: 32px;\n",
              "    }\n",
              "\n",
              "    .colab-df-convert:hover {\n",
              "      background-color: #E2EBFA;\n",
              "      box-shadow: 0px 1px 2px rgba(60, 64, 67, 0.3), 0px 1px 3px 1px rgba(60, 64, 67, 0.15);\n",
              "      fill: #174EA6;\n",
              "    }\n",
              "\n",
              "    [theme=dark] .colab-df-convert {\n",
              "      background-color: #3B4455;\n",
              "      fill: #D2E3FC;\n",
              "    }\n",
              "\n",
              "    [theme=dark] .colab-df-convert:hover {\n",
              "      background-color: #434B5C;\n",
              "      box-shadow: 0px 1px 3px 1px rgba(0, 0, 0, 0.15);\n",
              "      filter: drop-shadow(0px 1px 2px rgba(0, 0, 0, 0.3));\n",
              "      fill: #FFFFFF;\n",
              "    }\n",
              "  </style>\n",
              "\n",
              "      <script>\n",
              "        const buttonEl =\n",
              "          document.querySelector('#df-afbf30c2-03fc-445d-92eb-d845a220123c button.colab-df-convert');\n",
              "        buttonEl.style.display =\n",
              "          google.colab.kernel.accessAllowed ? 'block' : 'none';\n",
              "\n",
              "        async function convertToInteractive(key) {\n",
              "          const element = document.querySelector('#df-afbf30c2-03fc-445d-92eb-d845a220123c');\n",
              "          const dataTable =\n",
              "            await google.colab.kernel.invokeFunction('convertToInteractive',\n",
              "                                                     [key], {});\n",
              "          if (!dataTable) return;\n",
              "\n",
              "          const docLinkHtml = 'Like what you see? Visit the ' +\n",
              "            '<a target=\"_blank\" href=https://colab.research.google.com/notebooks/data_table.ipynb>data table notebook</a>'\n",
              "            + ' to learn more about interactive tables.';\n",
              "          element.innerHTML = '';\n",
              "          dataTable['output_type'] = 'display_data';\n",
              "          await google.colab.output.renderOutput(dataTable, element);\n",
              "          const docLink = document.createElement('div');\n",
              "          docLink.innerHTML = docLinkHtml;\n",
              "          element.appendChild(docLink);\n",
              "        }\n",
              "      </script>\n",
              "    </div>\n",
              "  </div>\n",
              "  "
            ]
          },
          "metadata": {},
          "execution_count": 33
        }
      ],
      "source": [
        "# Посмотрим на статистику по колонке registration_year\n",
        "df['registration_year'].describe().to_frame().T"
      ]
    },
    {
      "cell_type": "markdown",
      "metadata": {
        "id": "uuzsXUz67jWb"
      },
      "source": [
        "Ранее при обзоре колонок с датами мы видели, что значения охватывают период 2015—2016 годов, т.е. машин младше 2016 года выпуска в датафрейме быть не может. Также мы видим, что минимальное значение составляет 1000. Уберем эти значения и посмотрим на остальные данные на графике."
      ]
    },
    {
      "cell_type": "code",
      "execution_count": 34,
      "metadata": {
        "id": "E4h-M9Of7jWc"
      },
      "outputs": [],
      "source": [
        "df = df.query('1000 < registration_year <= 2016')"
      ]
    },
    {
      "cell_type": "code",
      "execution_count": 35,
      "metadata": {
        "scrolled": false,
        "colab": {
          "base_uri": "https://localhost:8080/",
          "height": 339
        },
        "id": "AX3bJ-QS7jWc",
        "outputId": "542a1d52-76b4-48f6-968b-befe74b03dba"
      },
      "outputs": [
        {
          "output_type": "display_data",
          "data": {
            "text/plain": [
              "<Figure size 2000x800 with 1 Axes>"
            ],
            "image/png": "[encoded data removed]"
          },
          "metadata": {}
        }
      ],
      "source": [
        "plt.figure(figsize=(20,8))\n",
        "sns.countplot(data = df, x = 'registration_year')\n",
        "plt.xticks(rotation=90);"
      ]
    },
    {
      "cell_type": "markdown",
      "metadata": {
        "id": "KJ4Ct3Iy7jWc"
      },
      "source": [
        "Мы видим, что осталось еще много маленьких значений, которые похожи на выбросы, удалим данные о машинах, зарегистрированных до 1990 года."
      ]
    },
    {
      "cell_type": "code",
      "execution_count": 36,
      "metadata": {
        "id": "jEHNBJy17jWd"
      },
      "outputs": [],
      "source": [
        "df = df.query('registration_year >= 1990')"
      ]
    },
    {
      "cell_type": "code",
      "execution_count": 37,
      "metadata": {
        "colab": {
          "base_uri": "https://localhost:8080/",
          "height": 81
        },
        "id": "4BTxHbtN7jWd",
        "outputId": "eaa1913c-8142-4e3d-c9a3-29bca507ded2"
      },
      "outputs": [
        {
          "output_type": "execute_result",
          "data": {
            "text/plain": [
              "              count           mean           std     min       25%       50%  \\\n",
              "kilometer  254107.0  127730.837797  37867.757247  5000.0  125000.0  150000.0   \n",
              "\n",
              "                75%       max  \n",
              "kilometer  150000.0  150000.0  "
            ],
            "text/html": [
              "\n",
              "  <div id=\"df-0cb37d5d-1151-4199-bca4-75dc2ef86d0c\">\n",
              "    <div class=\"colab-df-container\">\n",
              "      <div>\n",
              "<style scoped>\n",
              "    .dataframe tbody tr th:only-of-type {\n",
              "        vertical-align: middle;\n",
              "    }\n",
              "\n",
              "    .dataframe tbody tr th {\n",
              "        vertical-align: top;\n",
              "    }\n",
              "\n",
              "    .dataframe thead th {\n",
              "        text-align: right;\n",
              "    }\n",
              "</style>\n",
              "<table border=\"1\" class=\"dataframe\">\n",
              "  <thead>\n",
              "    <tr style=\"text-align: right;\">\n",
              "      <th></th>\n",
              "      <th>count</th>\n",
              "      <th>mean</th>\n",
              "      <th>std</th>\n",
              "      <th>min</th>\n",
              "      <th>25%</th>\n",
              "      <th>50%</th>\n",
              "      <th>75%</th>\n",
              "      <th>max</th>\n",
              "    </tr>\n",
              "  </thead>\n",
              "  <tbody>\n",
              "    <tr>\n",
              "      <th>kilometer</th>\n",
              "      <td>254107.0</td>\n",
              "      <td>127730.837797</td>\n",
              "      <td>37867.757247</td>\n",
              "      <td>5000.0</td>\n",
              "      <td>125000.0</td>\n",
              "      <td>150000.0</td>\n",
              "      <td>150000.0</td>\n",
              "      <td>150000.0</td>\n",
              "    </tr>\n",
              "  </tbody>\n",
              "</table>\n",
              "</div>\n",
              "      <button class=\"colab-df-convert\" onclick=\"convertToInteractive('df-0cb37d5d-1151-4199-bca4-75dc2ef86d0c')\"\n",
              "              title=\"Convert this dataframe to an interactive table.\"\n",
              "              style=\"display:none;\">\n",
              "        \n",
              "  <svg xmlns=\"http://www.w3.org/2000/svg\" height=\"24px\"viewBox=\"0 0 24 24\"\n",
              "       width=\"24px\">\n",
              "    <path d=\"M0 0h24v24H0V0z\" fill=\"none\"/>\n",
              "    <path d=\"M18.56 5.44l.94 2.06.94-2.06 2.06-.94-2.06-.94-.94-2.06-.94 2.06-2.06.94zm-11 1L8.5 8.5l.94-2.06 2.06-.94-2.06-.94L8.5 2.5l-.94 2.06-2.06.94zm10 10l.94 2.06.94-2.06 2.06-.94-2.06-.94-.94-2.06-.94 2.06-2.06.94z\"/><path d=\"M17.41 7.96l-1.37-1.37c-.4-.4-.92-.59-1.43-.59-.52 0-1.04.2-1.43.59L10.3 9.45l-7.72 7.72c-.78.78-.78 2.05 0 2.83L4 21.41c.39.39.9.59 1.41.59.51 0 1.02-.2 1.41-.59l7.78-7.78 2.81-2.81c.8-.78.8-2.07 0-2.86zM5.41 20L4 18.59l7.72-7.72 1.47 1.35L5.41 20z\"/>\n",
              "  </svg>\n",
              "      </button>\n",
              "      \n",
              "  <style>\n",
              "    .colab-df-container {\n",
              "      display:flex;\n",
              "      flex-wrap:wrap;\n",
              "      gap: 12px;\n",
              "    }\n",
              "\n",
              "    .colab-df-convert {\n",
              "      background-color: #E8F0FE;\n",
              "      border: none;\n",
              "      border-radius: 50%;\n",
              "      cursor: pointer;\n",
              "      display: none;\n",
              "      fill: #1967D2;\n",
              "      height: 32px;\n",
              "      padding: 0 0 0 0;\n",
              "      width: 32px;\n",
              "    }\n",
              "\n",
              "    .colab-df-convert:hover {\n",
              "      background-color: #E2EBFA;\n",
              "      box-shadow: 0px 1px 2px rgba(60, 64, 67, 0.3), 0px 1px 3px 1px rgba(60, 64, 67, 0.15);\n",
              "      fill: #174EA6;\n",
              "    }\n",
              "\n",
              "    [theme=dark] .colab-df-convert {\n",
              "      background-color: #3B4455;\n",
              "      fill: #D2E3FC;\n",
              "    }\n",
              "\n",
              "    [theme=dark] .colab-df-convert:hover {\n",
              "      background-color: #434B5C;\n",
              "      box-shadow: 0px 1px 3px 1px rgba(0, 0, 0, 0.15);\n",
              "      filter: drop-shadow(0px 1px 2px rgba(0, 0, 0, 0.3));\n",
              "      fill: #FFFFFF;\n",
              "    }\n",
              "  </style>\n",
              "\n",
              "      <script>\n",
              "        const buttonEl =\n",
              "          document.querySelector('#df-0cb37d5d-1151-4199-bca4-75dc2ef86d0c button.colab-df-convert');\n",
              "        buttonEl.style.display =\n",
              "          google.colab.kernel.accessAllowed ? 'block' : 'none';\n",
              "\n",
              "        async function convertToInteractive(key) {\n",
              "          const element = document.querySelector('#df-0cb37d5d-1151-4199-bca4-75dc2ef86d0c');\n",
              "          const dataTable =\n",
              "            await google.colab.kernel.invokeFunction('convertToInteractive',\n",
              "                                                     [key], {});\n",
              "          if (!dataTable) return;\n",
              "\n",
              "          const docLinkHtml = 'Like what you see? Visit the ' +\n",
              "            '<a target=\"_blank\" href=https://colab.research.google.com/notebooks/data_table.ipynb>data table notebook</a>'\n",
              "            + ' to learn more about interactive tables.';\n",
              "          element.innerHTML = '';\n",
              "          dataTable['output_type'] = 'display_data';\n",
              "          await google.colab.output.renderOutput(dataTable, element);\n",
              "          const docLink = document.createElement('div');\n",
              "          docLink.innerHTML = docLinkHtml;\n",
              "          element.appendChild(docLink);\n",
              "        }\n",
              "      </script>\n",
              "    </div>\n",
              "  </div>\n",
              "  "
            ]
          },
          "metadata": {},
          "execution_count": 37
        }
      ],
      "source": [
        "# Посмотрим на статистику по колонке kilometer\n",
        "df['kilometer'].describe().to_frame().T"
      ]
    },
    {
      "cell_type": "code",
      "execution_count": 38,
      "metadata": {
        "colab": {
          "base_uri": "https://localhost:8080/",
          "height": 352
        },
        "id": "QuU0Ldn57jWe",
        "outputId": "ad4b1fcd-549a-4d8e-c27e-e851a0538780"
      },
      "outputs": [
        {
          "output_type": "display_data",
          "data": {
            "text/plain": [
              "<Figure size 2000x800 with 1 Axes>"
            ],
            "image/png": "[encoded data removed]"
          },
          "metadata": {}
        }
      ],
      "source": [
        "plt.figure(figsize=(20,8))\n",
        "sns.countplot(data = df, x = 'kilometer')\n",
        "plt.xticks(rotation=90);"
      ]
    },
    {
      "cell_type": "markdown",
      "metadata": {
        "id": "fRJYzmjN7jWe"
      },
      "source": [
        "Мы видим, что данные о пробеге округлены, но явных выбросов в них нет. Есть пиковое значение в районе 150 тыс. км."
      ]
    },
    {
      "cell_type": "code",
      "execution_count": 39,
      "metadata": {
        "colab": {
          "base_uri": "https://localhost:8080/",
          "height": 81
        },
        "id": "3pVFCKt_7jWe",
        "outputId": "7c9587fd-2328-49bc-ef61-b840bd19bf1f"
      },
      "outputs": [
        {
          "output_type": "execute_result",
          "data": {
            "text/plain": [
              "          count        mean         std  min   25%    50%    75%      max\n",
              "power  254107.0  112.912942  197.913225  0.0  72.0  105.0  143.0  20000.0"
            ],
            "text/html": [
              "\n",
              "  <div id=\"df-ef8f5a60-b232-4a80-8371-71954081b4f6\">\n",
              "    <div class=\"colab-df-container\">\n",
              "      <div>\n",
              "<style scoped>\n",
              "    .dataframe tbody tr th:only-of-type {\n",
              "        vertical-align: middle;\n",
              "    }\n",
              "\n",
              "    .dataframe tbody tr th {\n",
              "        vertical-align: top;\n",
              "    }\n",
              "\n",
              "    .dataframe thead th {\n",
              "        text-align: right;\n",
              "    }\n",
              "</style>\n",
              "<table border=\"1\" class=\"dataframe\">\n",
              "  <thead>\n",
              "    <tr style=\"text-align: right;\">\n",
              "      <th></th>\n",
              "      <th>count</th>\n",
              "      <th>mean</th>\n",
              "      <th>std</th>\n",
              "      <th>min</th>\n",
              "      <th>25%</th>\n",
              "      <th>50%</th>\n",
              "      <th>75%</th>\n",
              "      <th>max</th>\n",
              "    </tr>\n",
              "  </thead>\n",
              "  <tbody>\n",
              "    <tr>\n",
              "      <th>power</th>\n",
              "      <td>254107.0</td>\n",
              "      <td>112.912942</td>\n",
              "      <td>197.913225</td>\n",
              "      <td>0.0</td>\n",
              "      <td>72.0</td>\n",
              "      <td>105.0</td>\n",
              "      <td>143.0</td>\n",
              "      <td>20000.0</td>\n",
              "    </tr>\n",
              "  </tbody>\n",
              "</table>\n",
              "</div>\n",
              "      <button class=\"colab-df-convert\" onclick=\"convertToInteractive('df-ef8f5a60-b232-4a80-8371-71954081b4f6')\"\n",
              "              title=\"Convert this dataframe to an interactive table.\"\n",
              "              style=\"display:none;\">\n",
              "        \n",
              "  <svg xmlns=\"http://www.w3.org/2000/svg\" height=\"24px\"viewBox=\"0 0 24 24\"\n",
              "       width=\"24px\">\n",
              "    <path d=\"M0 0h24v24H0V0z\" fill=\"none\"/>\n",
              "    <path d=\"M18.56 5.44l.94 2.06.94-2.06 2.06-.94-2.06-.94-.94-2.06-.94 2.06-2.06.94zm-11 1L8.5 8.5l.94-2.06 2.06-.94-2.06-.94L8.5 2.5l-.94 2.06-2.06.94zm10 10l.94 2.06.94-2.06 2.06-.94-2.06-.94-.94-2.06-.94 2.06-2.06.94z\"/><path d=\"M17.41 7.96l-1.37-1.37c-.4-.4-.92-.59-1.43-.59-.52 0-1.04.2-1.43.59L10.3 9.45l-7.72 7.72c-.78.78-.78 2.05 0 2.83L4 21.41c.39.39.9.59 1.41.59.51 0 1.02-.2 1.41-.59l7.78-7.78 2.81-2.81c.8-.78.8-2.07 0-2.86zM5.41 20L4 18.59l7.72-7.72 1.47 1.35L5.41 20z\"/>\n",
              "  </svg>\n",
              "      </button>\n",
              "      \n",
              "  <style>\n",
              "    .colab-df-container {\n",
              "      display:flex;\n",
              "      flex-wrap:wrap;\n",
              "      gap: 12px;\n",
              "    }\n",
              "\n",
              "    .colab-df-convert {\n",
              "      background-color: #E8F0FE;\n",
              "      border: none;\n",
              "      border-radius: 50%;\n",
              "      cursor: pointer;\n",
              "      display: none;\n",
              "      fill: #1967D2;\n",
              "      height: 32px;\n",
              "      padding: 0 0 0 0;\n",
              "      width: 32px;\n",
              "    }\n",
              "\n",
              "    .colab-df-convert:hover {\n",
              "      background-color: #E2EBFA;\n",
              "      box-shadow: 0px 1px 2px rgba(60, 64, 67, 0.3), 0px 1px 3px 1px rgba(60, 64, 67, 0.15);\n",
              "      fill: #174EA6;\n",
              "    }\n",
              "\n",
              "    [theme=dark] .colab-df-convert {\n",
              "      background-color: #3B4455;\n",
              "      fill: #D2E3FC;\n",
              "    }\n",
              "\n",
              "    [theme=dark] .colab-df-convert:hover {\n",
              "      background-color: #434B5C;\n",
              "      box-shadow: 0px 1px 3px 1px rgba(0, 0, 0, 0.15);\n",
              "      filter: drop-shadow(0px 1px 2px rgba(0, 0, 0, 0.3));\n",
              "      fill: #FFFFFF;\n",
              "    }\n",
              "  </style>\n",
              "\n",
              "      <script>\n",
              "        const buttonEl =\n",
              "          document.querySelector('#df-ef8f5a60-b232-4a80-8371-71954081b4f6 button.colab-df-convert');\n",
              "        buttonEl.style.display =\n",
              "          google.colab.kernel.accessAllowed ? 'block' : 'none';\n",
              "\n",
              "        async function convertToInteractive(key) {\n",
              "          const element = document.querySelector('#df-ef8f5a60-b232-4a80-8371-71954081b4f6');\n",
              "          const dataTable =\n",
              "            await google.colab.kernel.invokeFunction('convertToInteractive',\n",
              "                                                     [key], {});\n",
              "          if (!dataTable) return;\n",
              "\n",
              "          const docLinkHtml = 'Like what you see? Visit the ' +\n",
              "            '<a target=\"_blank\" href=https://colab.research.google.com/notebooks/data_table.ipynb>data table notebook</a>'\n",
              "            + ' to learn more about interactive tables.';\n",
              "          element.innerHTML = '';\n",
              "          dataTable['output_type'] = 'display_data';\n",
              "          await google.colab.output.renderOutput(dataTable, element);\n",
              "          const docLink = document.createElement('div');\n",
              "          docLink.innerHTML = docLinkHtml;\n",
              "          element.appendChild(docLink);\n",
              "        }\n",
              "      </script>\n",
              "    </div>\n",
              "  </div>\n",
              "  "
            ]
          },
          "metadata": {},
          "execution_count": 39
        }
      ],
      "source": [
        "# Посмотрим на статистику по колонке power\n",
        "df['power'].describe().to_frame().T"
      ]
    },
    {
      "cell_type": "markdown",
      "metadata": {
        "id": "VhxLehfy7jWf"
      },
      "source": [
        "Видно, что в данных есть выбросы (слишком большие значения и слишком маленькие значения). Удалим значения меньше 50 л.с. и больше 1600 л.с."
      ]
    },
    {
      "cell_type": "code",
      "execution_count": 40,
      "metadata": {
        "id": "o8jYO0Kk7jWf"
      },
      "outputs": [],
      "source": [
        "df =  df.query('50 <= power <= 1600')"
      ]
    },
    {
      "cell_type": "code",
      "execution_count": 41,
      "metadata": {
        "colab": {
          "base_uri": "https://localhost:8080/",
          "height": 81
        },
        "id": "Y3sFpl-t7jWg",
        "outputId": "9728fc62-3690-4a02-f92f-7928b7d4a0c6"
      },
      "outputs": [
        {
          "output_type": "execute_result",
          "data": {
            "text/plain": [
              "          count       mean        std   min   25%    50%    75%     max\n",
              "power  223733.0  123.78448  59.758084  50.0  82.0  115.0  150.0  1600.0"
            ],
            "text/html": [
              "\n",
              "  <div id=\"df-f777310a-8b49-4b76-b165-4867b1429a7d\">\n",
              "    <div class=\"colab-df-container\">\n",
              "      <div>\n",
              "<style scoped>\n",
              "    .dataframe tbody tr th:only-of-type {\n",
              "        vertical-align: middle;\n",
              "    }\n",
              "\n",
              "    .dataframe tbody tr th {\n",
              "        vertical-align: top;\n",
              "    }\n",
              "\n",
              "    .dataframe thead th {\n",
              "        text-align: right;\n",
              "    }\n",
              "</style>\n",
              "<table border=\"1\" class=\"dataframe\">\n",
              "  <thead>\n",
              "    <tr style=\"text-align: right;\">\n",
              "      <th></th>\n",
              "      <th>count</th>\n",
              "      <th>mean</th>\n",
              "      <th>std</th>\n",
              "      <th>min</th>\n",
              "      <th>25%</th>\n",
              "      <th>50%</th>\n",
              "      <th>75%</th>\n",
              "      <th>max</th>\n",
              "    </tr>\n",
              "  </thead>\n",
              "  <tbody>\n",
              "    <tr>\n",
              "      <th>power</th>\n",
              "      <td>223733.0</td>\n",
              "      <td>123.78448</td>\n",
              "      <td>59.758084</td>\n",
              "      <td>50.0</td>\n",
              "      <td>82.0</td>\n",
              "      <td>115.0</td>\n",
              "      <td>150.0</td>\n",
              "      <td>1600.0</td>\n",
              "    </tr>\n",
              "  </tbody>\n",
              "</table>\n",
              "</div>\n",
              "      <button class=\"colab-df-convert\" onclick=\"convertToInteractive('df-f777310a-8b49-4b76-b165-4867b1429a7d')\"\n",
              "              title=\"Convert this dataframe to an interactive table.\"\n",
              "              style=\"display:none;\">\n",
              "        \n",
              "  <svg xmlns=\"http://www.w3.org/2000/svg\" height=\"24px\"viewBox=\"0 0 24 24\"\n",
              "       width=\"24px\">\n",
              "    <path d=\"M0 0h24v24H0V0z\" fill=\"none\"/>\n",
              "    <path d=\"M18.56 5.44l.94 2.06.94-2.06 2.06-.94-2.06-.94-.94-2.06-.94 2.06-2.06.94zm-11 1L8.5 8.5l.94-2.06 2.06-.94-2.06-.94L8.5 2.5l-.94 2.06-2.06.94zm10 10l.94 2.06.94-2.06 2.06-.94-2.06-.94-.94-2.06-.94 2.06-2.06.94z\"/><path d=\"M17.41 7.96l-1.37-1.37c-.4-.4-.92-.59-1.43-.59-.52 0-1.04.2-1.43.59L10.3 9.45l-7.72 7.72c-.78.78-.78 2.05 0 2.83L4 21.41c.39.39.9.59 1.41.59.51 0 1.02-.2 1.41-.59l7.78-7.78 2.81-2.81c.8-.78.8-2.07 0-2.86zM5.41 20L4 18.59l7.72-7.72 1.47 1.35L5.41 20z\"/>\n",
              "  </svg>\n",
              "      </button>\n",
              "      \n",
              "  <style>\n",
              "    .colab-df-container {\n",
              "      display:flex;\n",
              "      flex-wrap:wrap;\n",
              "      gap: 12px;\n",
              "    }\n",
              "\n",
              "    .colab-df-convert {\n",
              "      background-color: #E8F0FE;\n",
              "      border: none;\n",
              "      border-radius: 50%;\n",
              "      cursor: pointer;\n",
              "      display: none;\n",
              "      fill: #1967D2;\n",
              "      height: 32px;\n",
              "      padding: 0 0 0 0;\n",
              "      width: 32px;\n",
              "    }\n",
              "\n",
              "    .colab-df-convert:hover {\n",
              "      background-color: #E2EBFA;\n",
              "      box-shadow: 0px 1px 2px rgba(60, 64, 67, 0.3), 0px 1px 3px 1px rgba(60, 64, 67, 0.15);\n",
              "      fill: #174EA6;\n",
              "    }\n",
              "\n",
              "    [theme=dark] .colab-df-convert {\n",
              "      background-color: #3B4455;\n",
              "      fill: #D2E3FC;\n",
              "    }\n",
              "\n",
              "    [theme=dark] .colab-df-convert:hover {\n",
              "      background-color: #434B5C;\n",
              "      box-shadow: 0px 1px 3px 1px rgba(0, 0, 0, 0.15);\n",
              "      filter: drop-shadow(0px 1px 2px rgba(0, 0, 0, 0.3));\n",
              "      fill: #FFFFFF;\n",
              "    }\n",
              "  </style>\n",
              "\n",
              "      <script>\n",
              "        const buttonEl =\n",
              "          document.querySelector('#df-f777310a-8b49-4b76-b165-4867b1429a7d button.colab-df-convert');\n",
              "        buttonEl.style.display =\n",
              "          google.colab.kernel.accessAllowed ? 'block' : 'none';\n",
              "\n",
              "        async function convertToInteractive(key) {\n",
              "          const element = document.querySelector('#df-f777310a-8b49-4b76-b165-4867b1429a7d');\n",
              "          const dataTable =\n",
              "            await google.colab.kernel.invokeFunction('convertToInteractive',\n",
              "                                                     [key], {});\n",
              "          if (!dataTable) return;\n",
              "\n",
              "          const docLinkHtml = 'Like what you see? Visit the ' +\n",
              "            '<a target=\"_blank\" href=https://colab.research.google.com/notebooks/data_table.ipynb>data table notebook</a>'\n",
              "            + ' to learn more about interactive tables.';\n",
              "          element.innerHTML = '';\n",
              "          dataTable['output_type'] = 'display_data';\n",
              "          await google.colab.output.renderOutput(dataTable, element);\n",
              "          const docLink = document.createElement('div');\n",
              "          docLink.innerHTML = docLinkHtml;\n",
              "          element.appendChild(docLink);\n",
              "        }\n",
              "      </script>\n",
              "    </div>\n",
              "  </div>\n",
              "  "
            ]
          },
          "metadata": {},
          "execution_count": 41
        }
      ],
      "source": [
        "df['power'].describe().to_frame().T"
      ]
    },
    {
      "cell_type": "markdown",
      "metadata": {
        "id": "m6OBi9_u7jWg"
      },
      "source": [
        "Посмотрим на значения в колонке с целевым признаком."
      ]
    },
    {
      "cell_type": "code",
      "execution_count": 42,
      "metadata": {
        "colab": {
          "base_uri": "https://localhost:8080/",
          "height": 81
        },
        "id": "nqcCaRD07jWg",
        "outputId": "d7318d18-4594-4aeb-bab8-0ccafce3d61c"
      },
      "outputs": [
        {
          "output_type": "execute_result",
          "data": {
            "text/plain": [
              "          count         mean          std  min     25%     50%     75%  \\\n",
              "price  223733.0  4884.439721  4671.795044  0.0  1300.0  3200.0  7000.0   \n",
              "\n",
              "           max  \n",
              "price  20000.0  "
            ],
            "text/html": [
              "\n",
              "  <div id=\"df-c2cb68d2-4244-42be-9fe7-16bc2bebdc43\">\n",
              "    <div class=\"colab-df-container\">\n",
              "      <div>\n",
              "<style scoped>\n",
              "    .dataframe tbody tr th:only-of-type {\n",
              "        vertical-align: middle;\n",
              "    }\n",
              "\n",
              "    .dataframe tbody tr th {\n",
              "        vertical-align: top;\n",
              "    }\n",
              "\n",
              "    .dataframe thead th {\n",
              "        text-align: right;\n",
              "    }\n",
              "</style>\n",
              "<table border=\"1\" class=\"dataframe\">\n",
              "  <thead>\n",
              "    <tr style=\"text-align: right;\">\n",
              "      <th></th>\n",
              "      <th>count</th>\n",
              "      <th>mean</th>\n",
              "      <th>std</th>\n",
              "      <th>min</th>\n",
              "      <th>25%</th>\n",
              "      <th>50%</th>\n",
              "      <th>75%</th>\n",
              "      <th>max</th>\n",
              "    </tr>\n",
              "  </thead>\n",
              "  <tbody>\n",
              "    <tr>\n",
              "      <th>price</th>\n",
              "      <td>223733.0</td>\n",
              "      <td>4884.439721</td>\n",
              "      <td>4671.795044</td>\n",
              "      <td>0.0</td>\n",
              "      <td>1300.0</td>\n",
              "      <td>3200.0</td>\n",
              "      <td>7000.0</td>\n",
              "      <td>20000.0</td>\n",
              "    </tr>\n",
              "  </tbody>\n",
              "</table>\n",
              "</div>\n",
              "      <button class=\"colab-df-convert\" onclick=\"convertToInteractive('df-c2cb68d2-4244-42be-9fe7-16bc2bebdc43')\"\n",
              "              title=\"Convert this dataframe to an interactive table.\"\n",
              "              style=\"display:none;\">\n",
              "        \n",
              "  <svg xmlns=\"http://www.w3.org/2000/svg\" height=\"24px\"viewBox=\"0 0 24 24\"\n",
              "       width=\"24px\">\n",
              "    <path d=\"M0 0h24v24H0V0z\" fill=\"none\"/>\n",
              "    <path d=\"M18.56 5.44l.94 2.06.94-2.06 2.06-.94-2.06-.94-.94-2.06-.94 2.06-2.06.94zm-11 1L8.5 8.5l.94-2.06 2.06-.94-2.06-.94L8.5 2.5l-.94 2.06-2.06.94zm10 10l.94 2.06.94-2.06 2.06-.94-2.06-.94-.94-2.06-.94 2.06-2.06.94z\"/><path d=\"M17.41 7.96l-1.37-1.37c-.4-.4-.92-.59-1.43-.59-.52 0-1.04.2-1.43.59L10.3 9.45l-7.72 7.72c-.78.78-.78 2.05 0 2.83L4 21.41c.39.39.9.59 1.41.59.51 0 1.02-.2 1.41-.59l7.78-7.78 2.81-2.81c.8-.78.8-2.07 0-2.86zM5.41 20L4 18.59l7.72-7.72 1.47 1.35L5.41 20z\"/>\n",
              "  </svg>\n",
              "      </button>\n",
              "      \n",
              "  <style>\n",
              "    .colab-df-container {\n",
              "      display:flex;\n",
              "      flex-wrap:wrap;\n",
              "      gap: 12px;\n",
              "    }\n",
              "\n",
              "    .colab-df-convert {\n",
              "      background-color: #E8F0FE;\n",
              "      border: none;\n",
              "      border-radius: 50%;\n",
              "      cursor: pointer;\n",
              "      display: none;\n",
              "      fill: #1967D2;\n",
              "      height: 32px;\n",
              "      padding: 0 0 0 0;\n",
              "      width: 32px;\n",
              "    }\n",
              "\n",
              "    .colab-df-convert:hover {\n",
              "      background-color: #E2EBFA;\n",
              "      box-shadow: 0px 1px 2px rgba(60, 64, 67, 0.3), 0px 1px 3px 1px rgba(60, 64, 67, 0.15);\n",
              "      fill: #174EA6;\n",
              "    }\n",
              "\n",
              "    [theme=dark] .colab-df-convert {\n",
              "      background-color: #3B4455;\n",
              "      fill: #D2E3FC;\n",
              "    }\n",
              "\n",
              "    [theme=dark] .colab-df-convert:hover {\n",
              "      background-color: #434B5C;\n",
              "      box-shadow: 0px 1px 3px 1px rgba(0, 0, 0, 0.15);\n",
              "      filter: drop-shadow(0px 1px 2px rgba(0, 0, 0, 0.3));\n",
              "      fill: #FFFFFF;\n",
              "    }\n",
              "  </style>\n",
              "\n",
              "      <script>\n",
              "        const buttonEl =\n",
              "          document.querySelector('#df-c2cb68d2-4244-42be-9fe7-16bc2bebdc43 button.colab-df-convert');\n",
              "        buttonEl.style.display =\n",
              "          google.colab.kernel.accessAllowed ? 'block' : 'none';\n",
              "\n",
              "        async function convertToInteractive(key) {\n",
              "          const element = document.querySelector('#df-c2cb68d2-4244-42be-9fe7-16bc2bebdc43');\n",
              "          const dataTable =\n",
              "            await google.colab.kernel.invokeFunction('convertToInteractive',\n",
              "                                                     [key], {});\n",
              "          if (!dataTable) return;\n",
              "\n",
              "          const docLinkHtml = 'Like what you see? Visit the ' +\n",
              "            '<a target=\"_blank\" href=https://colab.research.google.com/notebooks/data_table.ipynb>data table notebook</a>'\n",
              "            + ' to learn more about interactive tables.';\n",
              "          element.innerHTML = '';\n",
              "          dataTable['output_type'] = 'display_data';\n",
              "          await google.colab.output.renderOutput(dataTable, element);\n",
              "          const docLink = document.createElement('div');\n",
              "          docLink.innerHTML = docLinkHtml;\n",
              "          element.appendChild(docLink);\n",
              "        }\n",
              "      </script>\n",
              "    </div>\n",
              "  </div>\n",
              "  "
            ]
          },
          "metadata": {},
          "execution_count": 42
        }
      ],
      "source": [
        "df['price'].describe().to_frame().T"
      ]
    },
    {
      "cell_type": "code",
      "execution_count": 43,
      "metadata": {
        "colab": {
          "base_uri": "https://localhost:8080/",
          "height": 514
        },
        "id": "oE71k8S07jWh",
        "outputId": "eb079c73-b17e-4746-b0f5-d8c686b7cd2f"
      },
      "outputs": [
        {
          "output_type": "display_data",
          "data": {
            "text/plain": [
              "<Figure size 1200x800 with 1 Axes>"
            ],
            "image/png": "[encoded data removed]"
          },
          "metadata": {}
        }
      ],
      "source": [
        "df['price'].hist(bins=50, figsize=(12, 8));\n"
      ]
    },
    {
      "cell_type": "markdown",
      "metadata": {
        "id": "7KDpXC0D7jWh"
      },
      "source": [
        "В данных есть слишком маленькие значения, удалим их (проведем границу по значению 500 евро)."
      ]
    },
    {
      "cell_type": "code",
      "execution_count": 44,
      "metadata": {
        "id": "qLflbT2J7jWi"
      },
      "outputs": [],
      "source": [
        "df = df.query('price >= 500')"
      ]
    },
    {
      "cell_type": "code",
      "execution_count": 45,
      "metadata": {
        "id": "vxopN3Cu7jWi"
      },
      "outputs": [],
      "source": [
        "df = df.reset_index(drop=True)"
      ]
    },
    {
      "cell_type": "markdown",
      "metadata": {
        "id": "1jyRnewE7jWi"
      },
      "source": [
        "#### Вывод по разделу\n",
        "Мы посмотрели на числовые данные и удалили аномальные значения:\n",
        "1. Год регистрации ограничили диапазоном 1990—2016.\n",
        "2. В мощности удалили маленькие значения (менее 50 л.с.) и слишком большие (более 1600 л.с.).\n",
        "3. В столбце с ценой удалили значения меньше 500 евро."
      ]
    },
    {
      "cell_type": "markdown",
      "metadata": {
        "id": "MJBjkcqM7jWj"
      },
      "source": [
        "## Обучение моделей"
      ]
    },
    {
      "cell_type": "markdown",
      "metadata": {
        "id": "cS5TWU1_7jWj"
      },
      "source": [
        "### Случайный лес"
      ]
    },
    {
      "cell_type": "markdown",
      "metadata": {
        "id": "w-I4LKSQ7jWj"
      },
      "source": [
        "В наших данных есть категориальные признаки, для модели случайного леса их надо закодировать. Используем OrdinalEncoder. Только сначала разобьем данные на тренировочную и тестовую выборки."
      ]
    },
    {
      "cell_type": "code",
      "execution_count": 46,
      "metadata": {
        "id": "9zRgxsHw7jWj"
      },
      "outputs": [],
      "source": [
        "features = df.drop('price', axis=1)\n",
        "target = df['price']\n",
        "features_train, features_test, target_train, target_test = (\n",
        "    train_test_split(features, target, test_size=0.25, random_state=1508)\n",
        ")"
      ]
    },
    {
      "cell_type": "code",
      "execution_count": 47,
      "metadata": {
        "colab": {
          "base_uri": "https://localhost:8080/"
        },
        "id": "6ffd_Rr57jWj",
        "outputId": "ce6872a8-33b2-4eba-e6f8-d45c7aeca040"
      },
      "outputs": [
        {
          "output_type": "stream",
          "name": "stdout",
          "text": [
            "0.7499987915407855\n"
          ]
        },
        {
          "output_type": "execute_result",
          "data": {
            "text/plain": [
              "0.2500012084592145"
            ]
          },
          "metadata": {},
          "execution_count": 47
        }
      ],
      "source": [
        "# Проверим размер после разбиения данных\n",
        "print(len(features_train) / len(df))\n",
        "len(features_test) / len(df)"
      ]
    },
    {
      "cell_type": "code",
      "execution_count": 48,
      "metadata": {
        "colab": {
          "base_uri": "https://localhost:8080/"
        },
        "id": "bbn1ztdY7jWj",
        "outputId": "54cc2de6-a988-4ce5-f765-2fe55b593607"
      },
      "outputs": [
        {
          "output_type": "execute_result",
          "data": {
            "text/plain": [
              "Index(['price', 'vehicle_type', 'registration_year', 'gearbox', 'power',\n",
              "       'model', 'kilometer', 'fuel_type', 'brand', 'repaired'],\n",
              "      dtype='object')"
            ]
          },
          "metadata": {},
          "execution_count": 48
        }
      ],
      "source": [
        "df.columns"
      ]
    },
    {
      "cell_type": "code",
      "execution_count": 49,
      "metadata": {
        "colab": {
          "base_uri": "https://localhost:8080/"
        },
        "id": "peh-QGyz7jWk",
        "outputId": "dce25b71-43f8-44e7-a06a-d24e0fba84e5"
      },
      "outputs": [
        {
          "output_type": "execute_result",
          "data": {
            "text/plain": [
              "price                  int64\n",
              "vehicle_type          object\n",
              "registration_year      int64\n",
              "gearbox               object\n",
              "power                float64\n",
              "model                 object\n",
              "kilometer            float64\n",
              "fuel_type             object\n",
              "brand                 object\n",
              "repaired              object\n",
              "dtype: object"
            ]
          },
          "metadata": {},
          "execution_count": 49
        }
      ],
      "source": [
        "df.dtypes"
      ]
    },
    {
      "cell_type": "code",
      "execution_count": 50,
      "metadata": {
        "id": "oFZcVTHW7jWk"
      },
      "outputs": [],
      "source": [
        "encoder = OrdinalEncoder()\n",
        "cat_features = df.select_dtypes(include='object').columns\n",
        "features_train_enc = features_train.copy()\n",
        "features_test_enc = features_test.copy()\n",
        "features_train_enc[cat_features] = encoder.fit_transform(features_train[cat_features]).astype('int')\n",
        "features_test_enc[cat_features] = encoder.fit_transform(features_test[cat_features]).astype('int')"
      ]
    },
    {
      "cell_type": "markdown",
      "metadata": {
        "id": "7uzZ8jxj7jWl"
      },
      "source": [
        "Подберем наилучшие параметры случайного леса."
      ]
    },
    {
      "cell_type": "code",
      "execution_count": 51,
      "metadata": {
        "id": "vSjkIUhE7jWl"
      },
      "outputs": [],
      "source": [
        "rfm = RandomForestRegressor(random_state=1508)\n",
        "\n",
        "rfm_params_rs = {'n_estimators': range (2, 20, 2),\n",
        "              'max_depth': range (1, 20, 2),\n",
        "              'min_samples_leaf': range (1, 20, 5) }\n",
        "\n",
        "rfm_rs = (\n",
        "    RandomizedSearchCV(rfm, rfm_params_rs, scoring='neg_root_mean_squared_error',\n",
        "                       random_state=1508)\n",
        ")"
      ]
    },
    {
      "cell_type": "code",
      "execution_count": 52,
      "metadata": {
        "colab": {
          "base_uri": "https://localhost:8080/",
          "height": 117
        },
        "id": "BktZRhq37jWl",
        "outputId": "76dc2d2a-6aea-4a3d-abef-663affe717c9"
      },
      "outputs": [
        {
          "output_type": "execute_result",
          "data": {
            "text/plain": [
              "RandomizedSearchCV(estimator=RandomForestRegressor(random_state=1508),\n",
              "                   param_distributions={'max_depth': range(1, 20, 2),\n",
              "                                        'min_samples_leaf': range(1, 20, 5),\n",
              "                                        'n_estimators': range(2, 20, 2)},\n",
              "                   random_state=1508, scoring='neg_root_mean_squared_error')"
            ],
            "text/html": [
              "<style>#sk-container-id-1 {color: black;background-color: white;}#sk-container-id-1 pre{padding: 0;}#sk-container-id-1 div.sk-toggleable {background-color: white;}#sk-container-id-1 label.sk-toggleable__label {cursor: pointer;display: block;width: 100%;margin-bottom: 0;padding: 0.3em;box-sizing: border-box;text-align: center;}#sk-container-id-1 label.sk-toggleable__label-arrow:before {content: \"▸\";float: left;margin-right: 0.25em;color: #696969;}#sk-container-id-1 label.sk-toggleable__label-arrow:hover:before {color: black;}#sk-container-id-1 div.sk-estimator:hover label.sk-toggleable__label-arrow:before {color: black;}#sk-container-id-1 div.sk-toggleable__content {max-height: 0;max-width: 0;overflow: hidden;text-align: left;background-color: #f0f8ff;}#sk-container-id-1 div.sk-toggleable__content pre {margin: 0.2em;color: black;border-radius: 0.25em;background-color: #f0f8ff;}#sk-container-id-1 input.sk-toggleable__control:checked~div.sk-toggleable__content {max-height: 200px;max-width: 100%;overflow: auto;}#sk-container-id-1 input.sk-toggleable__control:checked~label.sk-toggleable__label-arrow:before {content: \"▾\";}#sk-container-id-1 div.sk-estimator input.sk-toggleable__control:checked~label.sk-toggleable__label {background-color: #d4ebff;}#sk-container-id-1 div.sk-label input.sk-toggleable__control:checked~label.sk-toggleable__label {background-color: #d4ebff;}#sk-container-id-1 input.sk-hidden--visually {border: 0;clip: rect(1px 1px 1px 1px);clip: rect(1px, 1px, 1px, 1px);height: 1px;margin: -1px;overflow: hidden;padding: 0;position: absolute;width: 1px;}#sk-container-id-1 div.sk-estimator {font-family: monospace;background-color: #f0f8ff;border: 1px dotted black;border-radius: 0.25em;box-sizing: border-box;margin-bottom: 0.5em;}#sk-container-id-1 div.sk-estimator:hover {background-color: #d4ebff;}#sk-container-id-1 div.sk-parallel-item::after {content: \"\";width: 100%;border-bottom: 1px solid gray;flex-grow: 1;}#sk-container-id-1 div.sk-label:hover label.sk-toggleable__label {background-color: #d4ebff;}#sk-container-id-1 div.sk-serial::before {content: \"\";position: absolute;border-left: 1px solid gray;box-sizing: border-box;top: 0;bottom: 0;left: 50%;z-index: 0;}#sk-container-id-1 div.sk-serial {display: flex;flex-direction: column;align-items: center;background-color: white;padding-right: 0.2em;padding-left: 0.2em;position: relative;}#sk-container-id-1 div.sk-item {position: relative;z-index: 1;}#sk-container-id-1 div.sk-parallel {display: flex;align-items: stretch;justify-content: center;background-color: white;position: relative;}#sk-container-id-1 div.sk-item::before, #sk-container-id-1 div.sk-parallel-item::before {content: \"\";position: absolute;border-left: 1px solid gray;box-sizing: border-box;top: 0;bottom: 0;left: 50%;z-index: -1;}#sk-container-id-1 div.sk-parallel-item {display: flex;flex-direction: column;z-index: 1;position: relative;background-color: white;}#sk-container-id-1 div.sk-parallel-item:first-child::after {align-self: flex-end;width: 50%;}#sk-container-id-1 div.sk-parallel-item:last-child::after {align-self: flex-start;width: 50%;}#sk-container-id-1 div.sk-parallel-item:only-child::after {width: 0;}#sk-container-id-1 div.sk-dashed-wrapped {border: 1px dashed gray;margin: 0 0.4em 0.5em 0.4em;box-sizing: border-box;padding-bottom: 0.4em;background-color: white;}#sk-container-id-1 div.sk-label label {font-family: monospace;font-weight: bold;display: inline-block;line-height: 1.2em;}#sk-container-id-1 div.sk-label-container {text-align: center;}#sk-container-id-1 div.sk-container {/* jupyter's `normalize.less` sets `[hidden] { display: none; }` but bootstrap.min.css set `[hidden] { display: none !important; }` so we also need the `!important` here to be able to override the default hidden behavior on the sphinx rendered scikit-learn.org. See: https://github.com/scikit-learn/scikit-learn/issues/21755 */display: inline-block !important;position: relative;}#sk-container-id-1 div.sk-text-repr-fallback {display: none;}</style><div id=\"sk-container-id-1\" class=\"sk-top-container\"><div class=\"sk-text-repr-fallback\"><pre>RandomizedSearchCV(estimator=RandomForestRegressor(random_state=1508),\n",
              "                   param_distributions={&#x27;max_depth&#x27;: range(1, 20, 2),\n",
              "                                        &#x27;min_samples_leaf&#x27;: range(1, 20, 5),\n",
              "                                        &#x27;n_estimators&#x27;: range(2, 20, 2)},\n",
              "                   random_state=1508, scoring=&#x27;neg_root_mean_squared_error&#x27;)</pre><b>In a Jupyter environment, please rerun this cell to show the HTML representation or trust the notebook. <br />On GitHub, the HTML representation is unable to render, please try loading this page with nbviewer.org.</b></div><div class=\"sk-container\" hidden><div class=\"sk-item sk-dashed-wrapped\"><div class=\"sk-label-container\"><div class=\"sk-label sk-toggleable\"><input class=\"sk-toggleable__control sk-hidden--visually\" id=\"sk-estimator-id-1\" type=\"checkbox\" ><label for=\"sk-estimator-id-1\" class=\"sk-toggleable__label sk-toggleable__label-arrow\">RandomizedSearchCV</label><div class=\"sk-toggleable__content\"><pre>RandomizedSearchCV(estimator=RandomForestRegressor(random_state=1508),\n",
              "                   param_distributions={&#x27;max_depth&#x27;: range(1, 20, 2),\n",
              "                                        &#x27;min_samples_leaf&#x27;: range(1, 20, 5),\n",
              "                                        &#x27;n_estimators&#x27;: range(2, 20, 2)},\n",
              "                   random_state=1508, scoring=&#x27;neg_root_mean_squared_error&#x27;)</pre></div></div></div><div class=\"sk-parallel\"><div class=\"sk-parallel-item\"><div class=\"sk-item\"><div class=\"sk-label-container\"><div class=\"sk-label sk-toggleable\"><input class=\"sk-toggleable__control sk-hidden--visually\" id=\"sk-estimator-id-2\" type=\"checkbox\" ><label for=\"sk-estimator-id-2\" class=\"sk-toggleable__label sk-toggleable__label-arrow\">estimator: RandomForestRegressor</label><div class=\"sk-toggleable__content\"><pre>RandomForestRegressor(random_state=1508)</pre></div></div></div><div class=\"sk-serial\"><div class=\"sk-item\"><div class=\"sk-estimator sk-toggleable\"><input class=\"sk-toggleable__control sk-hidden--visually\" id=\"sk-estimator-id-3\" type=\"checkbox\" ><label for=\"sk-estimator-id-3\" class=\"sk-toggleable__label sk-toggleable__label-arrow\">RandomForestRegressor</label><div class=\"sk-toggleable__content\"><pre>RandomForestRegressor(random_state=1508)</pre></div></div></div></div></div></div></div></div></div></div>"
            ]
          },
          "metadata": {},
          "execution_count": 52
        }
      ],
      "source": [
        "rfm_rs.fit(features_train_enc, target_train)"
      ]
    },
    {
      "cell_type": "code",
      "execution_count": 53,
      "metadata": {
        "id": "EWXBiUsI7jWm"
      },
      "outputs": [],
      "source": [
        "rfm_res = pd.DataFrame(rfm_rs.cv_results_)\n",
        "time_fit_rfm = rfm_res.iloc[rfm_rs.best_index_]['mean_fit_time']\n",
        "time_predict_rfm = rfm_res.iloc[rfm_rs.best_index_]['mean_score_time']"
      ]
    },
    {
      "cell_type": "code",
      "execution_count": 54,
      "metadata": {
        "colab": {
          "base_uri": "https://localhost:8080/",
          "height": 161
        },
        "id": "LYwQkb8z7jWm",
        "outputId": "981764e6-e648-4146-b057-725eecf30c67"
      },
      "outputs": [
        {
          "output_type": "execute_result",
          "data": {
            "text/plain": [
              "<pandas.io.formats.style.Styler at 0x7f5976b6efb0>"
            ],
            "text/html": [
              "<style type=\"text/css\">\n",
              "</style>\n",
              "<table id=\"T_08928\" class=\"dataframe\">\n",
              "  <caption>Модель случайного леса</caption>\n",
              "  <thead>\n",
              "    <tr>\n",
              "      <th class=\"blank level0\" >&nbsp;</th>\n",
              "      <th id=\"T_08928_level0_col0\" class=\"col_heading level0 col0\" ></th>\n",
              "    </tr>\n",
              "  </thead>\n",
              "  <tbody>\n",
              "    <tr>\n",
              "      <th id=\"T_08928_level0_row0\" class=\"row_heading level0 row0\" >Время обучения</th>\n",
              "      <td id=\"T_08928_row0_col0\" class=\"data row0 col0\" >4.321312</td>\n",
              "    </tr>\n",
              "    <tr>\n",
              "      <th id=\"T_08928_level0_row1\" class=\"row_heading level0 row1\" >Время предсказания</th>\n",
              "      <td id=\"T_08928_row1_col0\" class=\"data row1 col0\" >0.100067</td>\n",
              "    </tr>\n",
              "    <tr>\n",
              "      <th id=\"T_08928_level0_row2\" class=\"row_heading level0 row2\" >Лучший RMSE</th>\n",
              "      <td id=\"T_08928_row2_col0\" class=\"data row2 col0\" >1651.633465</td>\n",
              "    </tr>\n",
              "  </tbody>\n",
              "</table>\n"
            ]
          },
          "metadata": {},
          "execution_count": 54
        }
      ],
      "source": [
        "rfm_results = pd.DataFrame(\n",
        "    data = [time_fit_rfm, time_predict_rfm, abs(rfm_rs.best_score_)],\n",
        "    index = ['Время обучения', 'Время предсказания', 'Лучший RMSE'])\n",
        "rfm_results = rfm_results.rename(columns = {0:''})\n",
        "rfm_results.style.set_caption('Модель случайного леса')\n"
      ]
    },
    {
      "cell_type": "markdown",
      "metadata": {
        "id": "K0SHZ3DD7jWn"
      },
      "source": [
        "Посмотрим, какие признаки оказались наиболее значимыми для модели случайного леса."
      ]
    },
    {
      "cell_type": "code",
      "execution_count": 55,
      "metadata": {
        "colab": {
          "base_uri": "https://localhost:8080/",
          "height": 452
        },
        "id": "ew6o7M9Q7jWn",
        "outputId": "4da97222-bb6d-459e-8c79-908dae6e8f07"
      },
      "outputs": [
        {
          "output_type": "display_data",
          "data": {
            "text/plain": [
              "<Figure size 640x480 with 1 Axes>"
            ],
            "image/png": "[encoded data removed]"
          },
          "metadata": {}
        }
      ],
      "source": [
        "top_params_rfm = rfm_rs.best_params_\n",
        "rf_model = RandomForestRegressor(n_estimators=top_params_rfm['n_estimators'], \n",
        "                                 max_depth=top_params_rfm['max_depth'], \n",
        "                                 min_samples_leaf=top_params_rfm['min_samples_leaf'],\n",
        "                                 random_state=1508)\n",
        "rf_model.fit(features_train_enc, target_train)\n",
        "fi_rfm = pd.DataFrame({'feature': list(features_train_enc.columns),\n",
        "                   'importance': rf_model.feature_importances_}).\\\n",
        "                    sort_values('importance', ascending = True)\n",
        "\n",
        "fi_rfm = fi_rfm.set_index('feature')\n",
        "fi_rfm.plot(kind='barh')\n",
        "plt.legend(loc='lower right')\n",
        "plt.title('Значимость признаков для модели случайного леса');"
      ]
    },
    {
      "cell_type": "markdown",
      "metadata": {
        "id": "gjgocSl-7jWo"
      },
      "source": [
        "### Решающее дерево"
      ]
    },
    {
      "cell_type": "markdown",
      "metadata": {
        "id": "yiqeI3vI7jWo"
      },
      "source": [
        "Для модели дерева будем использовать закодированные признаки."
      ]
    },
    {
      "cell_type": "code",
      "execution_count": 56,
      "metadata": {
        "id": "-Lah3giF7jWo"
      },
      "outputs": [],
      "source": [
        "tree_m = DecisionTreeRegressor(random_state=1508)\n",
        "\n",
        "tree_params_rs = {'max_depth': range (1, 100, 2),\n",
        "              'min_samples_leaf': range (1, 100, 2)}\n",
        "\n",
        "tree_rs = (\n",
        "    RandomizedSearchCV(tree_m, tree_params_rs, scoring='neg_root_mean_squared_error',\n",
        "                       random_state=1508)\n",
        ")"
      ]
    },
    {
      "cell_type": "code",
      "execution_count": 57,
      "metadata": {
        "colab": {
          "base_uri": "https://localhost:8080/",
          "height": 117
        },
        "id": "37Z8rEyA7jWp",
        "outputId": "2a6961c6-8b72-4e24-834c-23655fb28ad7"
      },
      "outputs": [
        {
          "output_type": "execute_result",
          "data": {
            "text/plain": [
              "RandomizedSearchCV(estimator=DecisionTreeRegressor(random_state=1508),\n",
              "                   param_distributions={'max_depth': range(1, 100, 2),\n",
              "                                        'min_samples_leaf': range(1, 100, 2)},\n",
              "                   random_state=1508, scoring='neg_root_mean_squared_error')"
            ],
            "text/html": [
              "<style>#sk-container-id-2 {color: black;background-color: white;}#sk-container-id-2 pre{padding: 0;}#sk-container-id-2 div.sk-toggleable {background-color: white;}#sk-container-id-2 label.sk-toggleable__label {cursor: pointer;display: block;width: 100%;margin-bottom: 0;padding: 0.3em;box-sizing: border-box;text-align: center;}#sk-container-id-2 label.sk-toggleable__label-arrow:before {content: \"▸\";float: left;margin-right: 0.25em;color: #696969;}#sk-container-id-2 label.sk-toggleable__label-arrow:hover:before {color: black;}#sk-container-id-2 div.sk-estimator:hover label.sk-toggleable__label-arrow:before {color: black;}#sk-container-id-2 div.sk-toggleable__content {max-height: 0;max-width: 0;overflow: hidden;text-align: left;background-color: #f0f8ff;}#sk-container-id-2 div.sk-toggleable__content pre {margin: 0.2em;color: black;border-radius: 0.25em;background-color: #f0f8ff;}#sk-container-id-2 input.sk-toggleable__control:checked~div.sk-toggleable__content {max-height: 200px;max-width: 100%;overflow: auto;}#sk-container-id-2 input.sk-toggleable__control:checked~label.sk-toggleable__label-arrow:before {content: \"▾\";}#sk-container-id-2 div.sk-estimator input.sk-toggleable__control:checked~label.sk-toggleable__label {background-color: #d4ebff;}#sk-container-id-2 div.sk-label input.sk-toggleable__control:checked~label.sk-toggleable__label {background-color: #d4ebff;}#sk-container-id-2 input.sk-hidden--visually {border: 0;clip: rect(1px 1px 1px 1px);clip: rect(1px, 1px, 1px, 1px);height: 1px;margin: -1px;overflow: hidden;padding: 0;position: absolute;width: 1px;}#sk-container-id-2 div.sk-estimator {font-family: monospace;background-color: #f0f8ff;border: 1px dotted black;border-radius: 0.25em;box-sizing: border-box;margin-bottom: 0.5em;}#sk-container-id-2 div.sk-estimator:hover {background-color: #d4ebff;}#sk-container-id-2 div.sk-parallel-item::after {content: \"\";width: 100%;border-bottom: 1px solid gray;flex-grow: 1;}#sk-container-id-2 div.sk-label:hover label.sk-toggleable__label {background-color: #d4ebff;}#sk-container-id-2 div.sk-serial::before {content: \"\";position: absolute;border-left: 1px solid gray;box-sizing: border-box;top: 0;bottom: 0;left: 50%;z-index: 0;}#sk-container-id-2 div.sk-serial {display: flex;flex-direction: column;align-items: center;background-color: white;padding-right: 0.2em;padding-left: 0.2em;position: relative;}#sk-container-id-2 div.sk-item {position: relative;z-index: 1;}#sk-container-id-2 div.sk-parallel {display: flex;align-items: stretch;justify-content: center;background-color: white;position: relative;}#sk-container-id-2 div.sk-item::before, #sk-container-id-2 div.sk-parallel-item::before {content: \"\";position: absolute;border-left: 1px solid gray;box-sizing: border-box;top: 0;bottom: 0;left: 50%;z-index: -1;}#sk-container-id-2 div.sk-parallel-item {display: flex;flex-direction: column;z-index: 1;position: relative;background-color: white;}#sk-container-id-2 div.sk-parallel-item:first-child::after {align-self: flex-end;width: 50%;}#sk-container-id-2 div.sk-parallel-item:last-child::after {align-self: flex-start;width: 50%;}#sk-container-id-2 div.sk-parallel-item:only-child::after {width: 0;}#sk-container-id-2 div.sk-dashed-wrapped {border: 1px dashed gray;margin: 0 0.4em 0.5em 0.4em;box-sizing: border-box;padding-bottom: 0.4em;background-color: white;}#sk-container-id-2 div.sk-label label {font-family: monospace;font-weight: bold;display: inline-block;line-height: 1.2em;}#sk-container-id-2 div.sk-label-container {text-align: center;}#sk-container-id-2 div.sk-container {/* jupyter's `normalize.less` sets `[hidden] { display: none; }` but bootstrap.min.css set `[hidden] { display: none !important; }` so we also need the `!important` here to be able to override the default hidden behavior on the sphinx rendered scikit-learn.org. See: https://github.com/scikit-learn/scikit-learn/issues/21755 */display: inline-block !important;position: relative;}#sk-container-id-2 div.sk-text-repr-fallback {display: none;}</style><div id=\"sk-container-id-2\" class=\"sk-top-container\"><div class=\"sk-text-repr-fallback\"><pre>RandomizedSearchCV(estimator=DecisionTreeRegressor(random_state=1508),\n",
              "                   param_distributions={&#x27;max_depth&#x27;: range(1, 100, 2),\n",
              "                                        &#x27;min_samples_leaf&#x27;: range(1, 100, 2)},\n",
              "                   random_state=1508, scoring=&#x27;neg_root_mean_squared_error&#x27;)</pre><b>In a Jupyter environment, please rerun this cell to show the HTML representation or trust the notebook. <br />On GitHub, the HTML representation is unable to render, please try loading this page with nbviewer.org.</b></div><div class=\"sk-container\" hidden><div class=\"sk-item sk-dashed-wrapped\"><div class=\"sk-label-container\"><div class=\"sk-label sk-toggleable\"><input class=\"sk-toggleable__control sk-hidden--visually\" id=\"sk-estimator-id-4\" type=\"checkbox\" ><label for=\"sk-estimator-id-4\" class=\"sk-toggleable__label sk-toggleable__label-arrow\">RandomizedSearchCV</label><div class=\"sk-toggleable__content\"><pre>RandomizedSearchCV(estimator=DecisionTreeRegressor(random_state=1508),\n",
              "                   param_distributions={&#x27;max_depth&#x27;: range(1, 100, 2),\n",
              "                                        &#x27;min_samples_leaf&#x27;: range(1, 100, 2)},\n",
              "                   random_state=1508, scoring=&#x27;neg_root_mean_squared_error&#x27;)</pre></div></div></div><div class=\"sk-parallel\"><div class=\"sk-parallel-item\"><div class=\"sk-item\"><div class=\"sk-label-container\"><div class=\"sk-label sk-toggleable\"><input class=\"sk-toggleable__control sk-hidden--visually\" id=\"sk-estimator-id-5\" type=\"checkbox\" ><label for=\"sk-estimator-id-5\" class=\"sk-toggleable__label sk-toggleable__label-arrow\">estimator: DecisionTreeRegressor</label><div class=\"sk-toggleable__content\"><pre>DecisionTreeRegressor(random_state=1508)</pre></div></div></div><div class=\"sk-serial\"><div class=\"sk-item\"><div class=\"sk-estimator sk-toggleable\"><input class=\"sk-toggleable__control sk-hidden--visually\" id=\"sk-estimator-id-6\" type=\"checkbox\" ><label for=\"sk-estimator-id-6\" class=\"sk-toggleable__label sk-toggleable__label-arrow\">DecisionTreeRegressor</label><div class=\"sk-toggleable__content\"><pre>DecisionTreeRegressor(random_state=1508)</pre></div></div></div></div></div></div></div></div></div></div>"
            ]
          },
          "metadata": {},
          "execution_count": 57
        }
      ],
      "source": [
        "tree_rs.fit(features_train_enc, target_train)"
      ]
    },
    {
      "cell_type": "code",
      "execution_count": 58,
      "metadata": {
        "id": "bd-H6Xo_7jWp"
      },
      "outputs": [],
      "source": [
        "tree_res = pd.DataFrame(tree_rs.cv_results_)\n",
        "time_fit_tree = tree_res.iloc[tree_rs.best_index_]['mean_fit_time']\n",
        "time_predict_tree = tree_res.iloc[tree_rs.best_index_]['mean_score_time']"
      ]
    },
    {
      "cell_type": "code",
      "execution_count": 59,
      "metadata": {
        "colab": {
          "base_uri": "https://localhost:8080/",
          "height": 161
        },
        "id": "h-E6a6Fa7jWp",
        "outputId": "c8167f08-9f77-42c0-e062-e3dc9699784f"
      },
      "outputs": [
        {
          "output_type": "execute_result",
          "data": {
            "text/plain": [
              "<pandas.io.formats.style.Styler at 0x7f5976a52e00>"
            ],
            "text/html": [
              "<style type=\"text/css\">\n",
              "</style>\n",
              "<table id=\"T_af667\" class=\"dataframe\">\n",
              "  <caption>Решающее дерево</caption>\n",
              "  <thead>\n",
              "    <tr>\n",
              "      <th class=\"blank level0\" >&nbsp;</th>\n",
              "      <th id=\"T_af667_level0_col0\" class=\"col_heading level0 col0\" ></th>\n",
              "    </tr>\n",
              "  </thead>\n",
              "  <tbody>\n",
              "    <tr>\n",
              "      <th id=\"T_af667_level0_row0\" class=\"row_heading level0 row0\" >Время обучения</th>\n",
              "      <td id=\"T_af667_row0_col0\" class=\"data row0 col0\" >0.417133</td>\n",
              "    </tr>\n",
              "    <tr>\n",
              "      <th id=\"T_af667_level0_row1\" class=\"row_heading level0 row1\" >Время предсказания</th>\n",
              "      <td id=\"T_af667_row1_col0\" class=\"data row1 col0\" >0.010375</td>\n",
              "    </tr>\n",
              "    <tr>\n",
              "      <th id=\"T_af667_level0_row2\" class=\"row_heading level0 row2\" >Лучший RMSE</th>\n",
              "      <td id=\"T_af667_row2_col0\" class=\"data row2 col0\" >1791.110570</td>\n",
              "    </tr>\n",
              "  </tbody>\n",
              "</table>\n"
            ]
          },
          "metadata": {},
          "execution_count": 59
        }
      ],
      "source": [
        "tree_results = pd.DataFrame(\n",
        "    data = [time_fit_tree, time_predict_tree, abs(tree_rs.best_score_)],\n",
        "    index = ['Время обучения', 'Время предсказания', 'Лучший RMSE'])\n",
        "tree_results = tree_results.rename(columns = {0:''})\n",
        "tree_results.style.set_caption('Решающее дерево')\n"
      ]
    },
    {
      "cell_type": "markdown",
      "metadata": {
        "id": "YF_-9FMz7jWq"
      },
      "source": [
        "Посмотрим, какие признаки оказались наиболее значимыми для модели решающего дерева."
      ]
    },
    {
      "cell_type": "code",
      "execution_count": 60,
      "metadata": {
        "colab": {
          "base_uri": "https://localhost:8080/",
          "height": 452
        },
        "id": "Uwy6SOH07jWq",
        "outputId": "e75c36bf-c759-4c31-e115-ee6a6d927cca"
      },
      "outputs": [
        {
          "output_type": "display_data",
          "data": {
            "text/plain": [
              "<Figure size 640x480 with 1 Axes>"
            ],
            "image/png": "[encoded data removed]"
          },
          "metadata": {}
        }
      ],
      "source": [
        "top_params_tree = tree_rs.best_params_\n",
        "tree_model = DecisionTreeRegressor(max_depth=top_params_tree['max_depth'], \n",
        "                                 min_samples_leaf=top_params_tree['min_samples_leaf'],\n",
        "                                 random_state=1508)\n",
        "tree_model.fit(features_train_enc, target_train)\n",
        "fi_tree = pd.DataFrame({'feature': list(features_train_enc.columns),\n",
        "                   'importance': tree_model.feature_importances_}).\\\n",
        "                    sort_values('importance', ascending = True)\n",
        "\n",
        "fi_tree = fi_tree.set_index('feature')\n",
        "fi_tree.plot(kind='barh')\n",
        "plt.legend(loc='lower right')\n",
        "plt.title('Значимость признаков для модели решающего дерева');"
      ]
    },
    {
      "cell_type": "markdown",
      "metadata": {
        "id": "IR09ljcJ7jWq"
      },
      "source": [
        "### LightGBM"
      ]
    },
    {
      "cell_type": "code",
      "execution_count": 61,
      "metadata": {
        "id": "NpPGF1L-7jWr"
      },
      "outputs": [],
      "source": [
        "lgbm = LGBMRegressor(random_state=1508)\n",
        "\n",
        "lgbm_params = {'num_leaves': range (5, 50, 10),\n",
        "              'n_estimators': range (2, 50, 5),\n",
        "              'max_depth': range (2, 20, 2)}\n",
        "\n",
        "lgbm_rs = RandomizedSearchCV(lgbm, lgbm_params, \n",
        "                             scoring='neg_root_mean_squared_error',\n",
        "                             random_state=1508)"
      ]
    },
    {
      "cell_type": "markdown",
      "metadata": {
        "id": "ejnRwof47jWr"
      },
      "source": [
        "Воспользуемся внутренним способом кодировки категориальных признаков модели LightGBM."
      ]
    },
    {
      "cell_type": "code",
      "execution_count": 62,
      "metadata": {
        "id": "e843lBes7jWr"
      },
      "outputs": [],
      "source": [
        "cat_features_lgbm = features_train.select_dtypes(include='object').columns\n",
        "features_train[cat_features_lgbm] = features_train[cat_features_lgbm].astype('category')\n"
      ]
    },
    {
      "cell_type": "code",
      "execution_count": 63,
      "metadata": {
        "colab": {
          "base_uri": "https://localhost:8080/",
          "height": 117
        },
        "id": "gFPXXLzq7jWr",
        "outputId": "999a8a29-d59a-47b1-d985-dfa2065f079b"
      },
      "outputs": [
        {
          "output_type": "execute_result",
          "data": {
            "text/plain": [
              "RandomizedSearchCV(estimator=LGBMRegressor(random_state=1508),\n",
              "                   param_distributions={'max_depth': range(2, 20, 2),\n",
              "                                        'n_estimators': range(2, 50, 5),\n",
              "                                        'num_leaves': range(5, 50, 10)},\n",
              "                   random_state=1508, scoring='neg_root_mean_squared_error')"
            ],
            "text/html": [
              "<style>#sk-container-id-3 {color: black;background-color: white;}#sk-container-id-3 pre{padding: 0;}#sk-container-id-3 div.sk-toggleable {background-color: white;}#sk-container-id-3 label.sk-toggleable__label {cursor: pointer;display: block;width: 100%;margin-bottom: 0;padding: 0.3em;box-sizing: border-box;text-align: center;}#sk-container-id-3 label.sk-toggleable__label-arrow:before {content: \"▸\";float: left;margin-right: 0.25em;color: #696969;}#sk-container-id-3 label.sk-toggleable__label-arrow:hover:before {color: black;}#sk-container-id-3 div.sk-estimator:hover label.sk-toggleable__label-arrow:before {color: black;}#sk-container-id-3 div.sk-toggleable__content {max-height: 0;max-width: 0;overflow: hidden;text-align: left;background-color: #f0f8ff;}#sk-container-id-3 div.sk-toggleable__content pre {margin: 0.2em;color: black;border-radius: 0.25em;background-color: #f0f8ff;}#sk-container-id-3 input.sk-toggleable__control:checked~div.sk-toggleable__content {max-height: 200px;max-width: 100%;overflow: auto;}#sk-container-id-3 input.sk-toggleable__control:checked~label.sk-toggleable__label-arrow:before {content: \"▾\";}#sk-container-id-3 div.sk-estimator input.sk-toggleable__control:checked~label.sk-toggleable__label {background-color: #d4ebff;}#sk-container-id-3 div.sk-label input.sk-toggleable__control:checked~label.sk-toggleable__label {background-color: #d4ebff;}#sk-container-id-3 input.sk-hidden--visually {border: 0;clip: rect(1px 1px 1px 1px);clip: rect(1px, 1px, 1px, 1px);height: 1px;margin: -1px;overflow: hidden;padding: 0;position: absolute;width: 1px;}#sk-container-id-3 div.sk-estimator {font-family: monospace;background-color: #f0f8ff;border: 1px dotted black;border-radius: 0.25em;box-sizing: border-box;margin-bottom: 0.5em;}#sk-container-id-3 div.sk-estimator:hover {background-color: #d4ebff;}#sk-container-id-3 div.sk-parallel-item::after {content: \"\";width: 100%;border-bottom: 1px solid gray;flex-grow: 1;}#sk-container-id-3 div.sk-label:hover label.sk-toggleable__label {background-color: #d4ebff;}#sk-container-id-3 div.sk-serial::before {content: \"\";position: absolute;border-left: 1px solid gray;box-sizing: border-box;top: 0;bottom: 0;left: 50%;z-index: 0;}#sk-container-id-3 div.sk-serial {display: flex;flex-direction: column;align-items: center;background-color: white;padding-right: 0.2em;padding-left: 0.2em;position: relative;}#sk-container-id-3 div.sk-item {position: relative;z-index: 1;}#sk-container-id-3 div.sk-parallel {display: flex;align-items: stretch;justify-content: center;background-color: white;position: relative;}#sk-container-id-3 div.sk-item::before, #sk-container-id-3 div.sk-parallel-item::before {content: \"\";position: absolute;border-left: 1px solid gray;box-sizing: border-box;top: 0;bottom: 0;left: 50%;z-index: -1;}#sk-container-id-3 div.sk-parallel-item {display: flex;flex-direction: column;z-index: 1;position: relative;background-color: white;}#sk-container-id-3 div.sk-parallel-item:first-child::after {align-self: flex-end;width: 50%;}#sk-container-id-3 div.sk-parallel-item:last-child::after {align-self: flex-start;width: 50%;}#sk-container-id-3 div.sk-parallel-item:only-child::after {width: 0;}#sk-container-id-3 div.sk-dashed-wrapped {border: 1px dashed gray;margin: 0 0.4em 0.5em 0.4em;box-sizing: border-box;padding-bottom: 0.4em;background-color: white;}#sk-container-id-3 div.sk-label label {font-family: monospace;font-weight: bold;display: inline-block;line-height: 1.2em;}#sk-container-id-3 div.sk-label-container {text-align: center;}#sk-container-id-3 div.sk-container {/* jupyter's `normalize.less` sets `[hidden] { display: none; }` but bootstrap.min.css set `[hidden] { display: none !important; }` so we also need the `!important` here to be able to override the default hidden behavior on the sphinx rendered scikit-learn.org. See: https://github.com/scikit-learn/scikit-learn/issues/21755 */display: inline-block !important;position: relative;}#sk-container-id-3 div.sk-text-repr-fallback {display: none;}</style><div id=\"sk-container-id-3\" class=\"sk-top-container\"><div class=\"sk-text-repr-fallback\"><pre>RandomizedSearchCV(estimator=LGBMRegressor(random_state=1508),\n",
              "                   param_distributions={&#x27;max_depth&#x27;: range(2, 20, 2),\n",
              "                                        &#x27;n_estimators&#x27;: range(2, 50, 5),\n",
              "                                        &#x27;num_leaves&#x27;: range(5, 50, 10)},\n",
              "                   random_state=1508, scoring=&#x27;neg_root_mean_squared_error&#x27;)</pre><b>In a Jupyter environment, please rerun this cell to show the HTML representation or trust the notebook. <br />On GitHub, the HTML representation is unable to render, please try loading this page with nbviewer.org.</b></div><div class=\"sk-container\" hidden><div class=\"sk-item sk-dashed-wrapped\"><div class=\"sk-label-container\"><div class=\"sk-label sk-toggleable\"><input class=\"sk-toggleable__control sk-hidden--visually\" id=\"sk-estimator-id-7\" type=\"checkbox\" ><label for=\"sk-estimator-id-7\" class=\"sk-toggleable__label sk-toggleable__label-arrow\">RandomizedSearchCV</label><div class=\"sk-toggleable__content\"><pre>RandomizedSearchCV(estimator=LGBMRegressor(random_state=1508),\n",
              "                   param_distributions={&#x27;max_depth&#x27;: range(2, 20, 2),\n",
              "                                        &#x27;n_estimators&#x27;: range(2, 50, 5),\n",
              "                                        &#x27;num_leaves&#x27;: range(5, 50, 10)},\n",
              "                   random_state=1508, scoring=&#x27;neg_root_mean_squared_error&#x27;)</pre></div></div></div><div class=\"sk-parallel\"><div class=\"sk-parallel-item\"><div class=\"sk-item\"><div class=\"sk-label-container\"><div class=\"sk-label sk-toggleable\"><input class=\"sk-toggleable__control sk-hidden--visually\" id=\"sk-estimator-id-8\" type=\"checkbox\" ><label for=\"sk-estimator-id-8\" class=\"sk-toggleable__label sk-toggleable__label-arrow\">estimator: LGBMRegressor</label><div class=\"sk-toggleable__content\"><pre>LGBMRegressor(random_state=1508)</pre></div></div></div><div class=\"sk-serial\"><div class=\"sk-item\"><div class=\"sk-estimator sk-toggleable\"><input class=\"sk-toggleable__control sk-hidden--visually\" id=\"sk-estimator-id-9\" type=\"checkbox\" ><label for=\"sk-estimator-id-9\" class=\"sk-toggleable__label sk-toggleable__label-arrow\">LGBMRegressor</label><div class=\"sk-toggleable__content\"><pre>LGBMRegressor(random_state=1508)</pre></div></div></div></div></div></div></div></div></div></div>"
            ]
          },
          "metadata": {},
          "execution_count": 63
        }
      ],
      "source": [
        "lgbm_rs.fit(features_train, target_train)\n",
        "\n"
      ]
    },
    {
      "cell_type": "code",
      "execution_count": 64,
      "metadata": {
        "id": "H5tMislj7jWs"
      },
      "outputs": [],
      "source": [
        "lgbm_res = pd.DataFrame(lgbm_rs.cv_results_)\n",
        "time_fit_lgbm = lgbm_res.iloc[lgbm_rs.best_index_]['mean_fit_time']\n",
        "time_predict_lgbm = lgbm_res.iloc[lgbm_rs.best_index_]['mean_score_time']"
      ]
    },
    {
      "cell_type": "code",
      "execution_count": 65,
      "metadata": {
        "colab": {
          "base_uri": "https://localhost:8080/",
          "height": 161
        },
        "id": "syBtGZ5E7jWs",
        "outputId": "7b63e641-85a0-4126-dd74-5601bbf5cf7e"
      },
      "outputs": [
        {
          "output_type": "execute_result",
          "data": {
            "text/plain": [
              "<pandas.io.formats.style.Styler at 0x7f5976abbd60>"
            ],
            "text/html": [
              "<style type=\"text/css\">\n",
              "</style>\n",
              "<table id=\"T_6b6e6\" class=\"dataframe\">\n",
              "  <caption>Модель LightGBM</caption>\n",
              "  <thead>\n",
              "    <tr>\n",
              "      <th class=\"blank level0\" >&nbsp;</th>\n",
              "      <th id=\"T_6b6e6_level0_col0\" class=\"col_heading level0 col0\" ></th>\n",
              "    </tr>\n",
              "  </thead>\n",
              "  <tbody>\n",
              "    <tr>\n",
              "      <th id=\"T_6b6e6_level0_row0\" class=\"row_heading level0 row0\" >Время обучения</th>\n",
              "      <td id=\"T_6b6e6_row0_col0\" class=\"data row0 col0\" >0.541199</td>\n",
              "    </tr>\n",
              "    <tr>\n",
              "      <th id=\"T_6b6e6_level0_row1\" class=\"row_heading level0 row1\" >Время предсказания</th>\n",
              "      <td id=\"T_6b6e6_row1_col0\" class=\"data row1 col0\" >0.085858</td>\n",
              "    </tr>\n",
              "    <tr>\n",
              "      <th id=\"T_6b6e6_level0_row2\" class=\"row_heading level0 row2\" >Лучший RMSE</th>\n",
              "      <td id=\"T_6b6e6_row2_col0\" class=\"data row2 col0\" >1610.218598</td>\n",
              "    </tr>\n",
              "  </tbody>\n",
              "</table>\n"
            ]
          },
          "metadata": {},
          "execution_count": 65
        }
      ],
      "source": [
        "lgbm_results = pd.DataFrame(\n",
        "    data = [time_fit_lgbm, time_predict_lgbm, abs(lgbm_rs.best_score_)],\n",
        "    index = ['Время обучения', 'Время предсказания', 'Лучший RMSE'])\n",
        "lgbm_results = lgbm_results.rename(columns = {0:''})\n",
        "lgbm_results.style.set_caption('Модель LightGBM')\n"
      ]
    },
    {
      "cell_type": "markdown",
      "metadata": {
        "id": "4lL99n7F7jWt"
      },
      "source": [
        "Посмотрим, какие признаки оказались значимыми для модели LightGBM."
      ]
    },
    {
      "cell_type": "code",
      "execution_count": 66,
      "metadata": {
        "colab": {
          "base_uri": "https://localhost:8080/",
          "height": 452
        },
        "id": "ViB4OIPO7jWt",
        "outputId": "dd5660e3-cda1-4348-a348-ff985aa0dc0f"
      },
      "outputs": [
        {
          "output_type": "display_data",
          "data": {
            "text/plain": [
              "<Figure size 640x480 with 1 Axes>"
            ],
            "image/png": "[encoded data removed]"
          },
          "metadata": {}
        }
      ],
      "source": [
        "top_params_lgbm = lgbm_rs.best_params_\n",
        "lgbm_model = LGBMRegressor(max_depth=top_params_tree['max_depth'], \n",
        "                                 min_samples_leaf=top_params_tree['min_samples_leaf'],\n",
        "                                 random_state=1508)\n",
        "lgbm_model.fit(features_train_enc, target_train)\n",
        "fi_lgbm = pd.DataFrame({'feature': list(features_train_enc.columns),\n",
        "                   'importance': lgbm_model.feature_importances_}).\\\n",
        "                    sort_values('importance', ascending = True)\n",
        "\n",
        "fi_lgbm = fi_lgbm.set_index('feature')\n",
        "fi_lgbm.plot(kind='barh')\n",
        "plt.legend(loc='lower right')\n",
        "plt.title('Значимость признаков для модели LightGBM');"
      ]
    },
    {
      "cell_type": "markdown",
      "metadata": {
        "id": "BdW1UqwE7jWt"
      },
      "source": [
        "### Дамми-модель"
      ]
    },
    {
      "cell_type": "markdown",
      "metadata": {
        "id": "oZVzO1UO7jWu"
      },
      "source": [
        "Сделаем дамми-модель, которая будет заполнять целевой признак медианным значением."
      ]
    },
    {
      "cell_type": "code",
      "execution_count": 67,
      "metadata": {
        "id": "fpzD_2p67jWu"
      },
      "outputs": [],
      "source": [
        "dummy_m = DummyRegressor(strategy='median')\n",
        "\n",
        "dummy_params = {}\n",
        "dummy_rs = RandomizedSearchCV(dummy_m, dummy_params, \n",
        "                             scoring='neg_root_mean_squared_error',\n",
        "                             random_state=1508)"
      ]
    },
    {
      "cell_type": "code",
      "execution_count": 68,
      "metadata": {
        "colab": {
          "base_uri": "https://localhost:8080/",
          "height": 117
        },
        "id": "GwD4oAFh7jWu",
        "outputId": "7b9f1467-72f4-4104-8ef2-4957d77c9878"
      },
      "outputs": [
        {
          "output_type": "execute_result",
          "data": {
            "text/plain": [
              "RandomizedSearchCV(estimator=DummyRegressor(strategy='median'),\n",
              "                   param_distributions={}, random_state=1508,\n",
              "                   scoring='neg_root_mean_squared_error')"
            ],
            "text/html": [
              "<style>#sk-container-id-4 {color: black;background-color: white;}#sk-container-id-4 pre{padding: 0;}#sk-container-id-4 div.sk-toggleable {background-color: white;}#sk-container-id-4 label.sk-toggleable__label {cursor: pointer;display: block;width: 100%;margin-bottom: 0;padding: 0.3em;box-sizing: border-box;text-align: center;}#sk-container-id-4 label.sk-toggleable__label-arrow:before {content: \"▸\";float: left;margin-right: 0.25em;color: #696969;}#sk-container-id-4 label.sk-toggleable__label-arrow:hover:before {color: black;}#sk-container-id-4 div.sk-estimator:hover label.sk-toggleable__label-arrow:before {color: black;}#sk-container-id-4 div.sk-toggleable__content {max-height: 0;max-width: 0;overflow: hidden;text-align: left;background-color: #f0f8ff;}#sk-container-id-4 div.sk-toggleable__content pre {margin: 0.2em;color: black;border-radius: 0.25em;background-color: #f0f8ff;}#sk-container-id-4 input.sk-toggleable__control:checked~div.sk-toggleable__content {max-height: 200px;max-width: 100%;overflow: auto;}#sk-container-id-4 input.sk-toggleable__control:checked~label.sk-toggleable__label-arrow:before {content: \"▾\";}#sk-container-id-4 div.sk-estimator input.sk-toggleable__control:checked~label.sk-toggleable__label {background-color: #d4ebff;}#sk-container-id-4 div.sk-label input.sk-toggleable__control:checked~label.sk-toggleable__label {background-color: #d4ebff;}#sk-container-id-4 input.sk-hidden--visually {border: 0;clip: rect(1px 1px 1px 1px);clip: rect(1px, 1px, 1px, 1px);height: 1px;margin: -1px;overflow: hidden;padding: 0;position: absolute;width: 1px;}#sk-container-id-4 div.sk-estimator {font-family: monospace;background-color: #f0f8ff;border: 1px dotted black;border-radius: 0.25em;box-sizing: border-box;margin-bottom: 0.5em;}#sk-container-id-4 div.sk-estimator:hover {background-color: #d4ebff;}#sk-container-id-4 div.sk-parallel-item::after {content: \"\";width: 100%;border-bottom: 1px solid gray;flex-grow: 1;}#sk-container-id-4 div.sk-label:hover label.sk-toggleable__label {background-color: #d4ebff;}#sk-container-id-4 div.sk-serial::before {content: \"\";position: absolute;border-left: 1px solid gray;box-sizing: border-box;top: 0;bottom: 0;left: 50%;z-index: 0;}#sk-container-id-4 div.sk-serial {display: flex;flex-direction: column;align-items: center;background-color: white;padding-right: 0.2em;padding-left: 0.2em;position: relative;}#sk-container-id-4 div.sk-item {position: relative;z-index: 1;}#sk-container-id-4 div.sk-parallel {display: flex;align-items: stretch;justify-content: center;background-color: white;position: relative;}#sk-container-id-4 div.sk-item::before, #sk-container-id-4 div.sk-parallel-item::before {content: \"\";position: absolute;border-left: 1px solid gray;box-sizing: border-box;top: 0;bottom: 0;left: 50%;z-index: -1;}#sk-container-id-4 div.sk-parallel-item {display: flex;flex-direction: column;z-index: 1;position: relative;background-color: white;}#sk-container-id-4 div.sk-parallel-item:first-child::after {align-self: flex-end;width: 50%;}#sk-container-id-4 div.sk-parallel-item:last-child::after {align-self: flex-start;width: 50%;}#sk-container-id-4 div.sk-parallel-item:only-child::after {width: 0;}#sk-container-id-4 div.sk-dashed-wrapped {border: 1px dashed gray;margin: 0 0.4em 0.5em 0.4em;box-sizing: border-box;padding-bottom: 0.4em;background-color: white;}#sk-container-id-4 div.sk-label label {font-family: monospace;font-weight: bold;display: inline-block;line-height: 1.2em;}#sk-container-id-4 div.sk-label-container {text-align: center;}#sk-container-id-4 div.sk-container {/* jupyter's `normalize.less` sets `[hidden] { display: none; }` but bootstrap.min.css set `[hidden] { display: none !important; }` so we also need the `!important` here to be able to override the default hidden behavior on the sphinx rendered scikit-learn.org. See: https://github.com/scikit-learn/scikit-learn/issues/21755 */display: inline-block !important;position: relative;}#sk-container-id-4 div.sk-text-repr-fallback {display: none;}</style><div id=\"sk-container-id-4\" class=\"sk-top-container\"><div class=\"sk-text-repr-fallback\"><pre>RandomizedSearchCV(estimator=DummyRegressor(strategy=&#x27;median&#x27;),\n",
              "                   param_distributions={}, random_state=1508,\n",
              "                   scoring=&#x27;neg_root_mean_squared_error&#x27;)</pre><b>In a Jupyter environment, please rerun this cell to show the HTML representation or trust the notebook. <br />On GitHub, the HTML representation is unable to render, please try loading this page with nbviewer.org.</b></div><div class=\"sk-container\" hidden><div class=\"sk-item sk-dashed-wrapped\"><div class=\"sk-label-container\"><div class=\"sk-label sk-toggleable\"><input class=\"sk-toggleable__control sk-hidden--visually\" id=\"sk-estimator-id-10\" type=\"checkbox\" ><label for=\"sk-estimator-id-10\" class=\"sk-toggleable__label sk-toggleable__label-arrow\">RandomizedSearchCV</label><div class=\"sk-toggleable__content\"><pre>RandomizedSearchCV(estimator=DummyRegressor(strategy=&#x27;median&#x27;),\n",
              "                   param_distributions={}, random_state=1508,\n",
              "                   scoring=&#x27;neg_root_mean_squared_error&#x27;)</pre></div></div></div><div class=\"sk-parallel\"><div class=\"sk-parallel-item\"><div class=\"sk-item\"><div class=\"sk-label-container\"><div class=\"sk-label sk-toggleable\"><input class=\"sk-toggleable__control sk-hidden--visually\" id=\"sk-estimator-id-11\" type=\"checkbox\" ><label for=\"sk-estimator-id-11\" class=\"sk-toggleable__label sk-toggleable__label-arrow\">estimator: DummyRegressor</label><div class=\"sk-toggleable__content\"><pre>DummyRegressor(strategy=&#x27;median&#x27;)</pre></div></div></div><div class=\"sk-serial\"><div class=\"sk-item\"><div class=\"sk-estimator sk-toggleable\"><input class=\"sk-toggleable__control sk-hidden--visually\" id=\"sk-estimator-id-12\" type=\"checkbox\" ><label for=\"sk-estimator-id-12\" class=\"sk-toggleable__label sk-toggleable__label-arrow\">DummyRegressor</label><div class=\"sk-toggleable__content\"><pre>DummyRegressor(strategy=&#x27;median&#x27;)</pre></div></div></div></div></div></div></div></div></div></div>"
            ]
          },
          "metadata": {},
          "execution_count": 68
        }
      ],
      "source": [
        "dummy_rs.fit(features_train_enc, target_train)"
      ]
    },
    {
      "cell_type": "code",
      "execution_count": 69,
      "metadata": {
        "id": "N82KIHUc7jWv"
      },
      "outputs": [],
      "source": [
        "dummy_res = pd.DataFrame(dummy_rs.cv_results_)\n",
        "time_fit_dummy = dummy_res.iloc[dummy_rs.best_index_]['mean_fit_time']\n",
        "time_predict_dummy = dummy_res.iloc[dummy_rs.best_index_]['mean_score_time']"
      ]
    },
    {
      "cell_type": "code",
      "execution_count": 70,
      "metadata": {
        "colab": {
          "base_uri": "https://localhost:8080/",
          "height": 161
        },
        "id": "lZgPoR0I7jWv",
        "outputId": "34150f4d-9f58-4ab0-9b5e-eb8af1f7db08"
      },
      "outputs": [
        {
          "output_type": "execute_result",
          "data": {
            "text/plain": [
              "<pandas.io.formats.style.Styler at 0x7f5976abb190>"
            ],
            "text/html": [
              "<style type=\"text/css\">\n",
              "</style>\n",
              "<table id=\"T_c1b4e\" class=\"dataframe\">\n",
              "  <caption>Дамми-модель</caption>\n",
              "  <thead>\n",
              "    <tr>\n",
              "      <th class=\"blank level0\" >&nbsp;</th>\n",
              "      <th id=\"T_c1b4e_level0_col0\" class=\"col_heading level0 col0\" ></th>\n",
              "    </tr>\n",
              "  </thead>\n",
              "  <tbody>\n",
              "    <tr>\n",
              "      <th id=\"T_c1b4e_level0_row0\" class=\"row_heading level0 row0\" >Время обучения</th>\n",
              "      <td id=\"T_c1b4e_row0_col0\" class=\"data row0 col0\" >0.013172</td>\n",
              "    </tr>\n",
              "    <tr>\n",
              "      <th id=\"T_c1b4e_level0_row1\" class=\"row_heading level0 row1\" >Время предсказания</th>\n",
              "      <td id=\"T_c1b4e_row1_col0\" class=\"data row1 col0\" >0.001359</td>\n",
              "    </tr>\n",
              "    <tr>\n",
              "      <th id=\"T_c1b4e_level0_row2\" class=\"row_heading level0 row2\" >Лучший RMSE</th>\n",
              "      <td id=\"T_c1b4e_row2_col0\" class=\"data row2 col0\" >4947.303529</td>\n",
              "    </tr>\n",
              "  </tbody>\n",
              "</table>\n"
            ]
          },
          "metadata": {},
          "execution_count": 70
        }
      ],
      "source": [
        "dummy_results = pd.DataFrame(\n",
        "    data = [time_fit_dummy, time_predict_dummy, abs(dummy_rs.best_score_)],\n",
        "    index = ['Время обучения', 'Время предсказания', 'Лучший RMSE'])\n",
        "dummy_results = dummy_results.rename(columns = {0:''})\n",
        "dummy_results.style.set_caption('Дамми-модель')\n"
      ]
    },
    {
      "cell_type": "markdown",
      "metadata": {
        "id": "UamdbMC07jWw"
      },
      "source": [
        "## Анализ моделей"
      ]
    },
    {
      "cell_type": "markdown",
      "metadata": {
        "id": "J1tGbMsQ7jWw"
      },
      "source": [
        "Сравним показатели (RMSE, скорость обучения и предсказания) обученных моделей."
      ]
    },
    {
      "cell_type": "code",
      "execution_count": 71,
      "metadata": {
        "colab": {
          "base_uri": "https://localhost:8080/",
          "height": 143
        },
        "id": "KwFITGiK7jWw",
        "outputId": "fb82f005-1dab-4b6b-a42e-25030e250dcb"
      },
      "outputs": [
        {
          "output_type": "execute_result",
          "data": {
            "text/plain": [
              "                    Случайный лес  Решающее дерево     LightGBM  Дамми-модель\n",
              "Время обучения           4.321312         0.417133     0.541199      0.013172\n",
              "Время предсказания       0.100067         0.010375     0.085858      0.001359\n",
              "Лучший RMSE           1651.633465      1791.110570  1610.218598   4947.303529"
            ],
            "text/html": [
              "\n",
              "  <div id=\"df-4fba9b3a-8158-4a89-bb62-7c84a155e4bb\">\n",
              "    <div class=\"colab-df-container\">\n",
              "      <div>\n",
              "<style scoped>\n",
              "    .dataframe tbody tr th:only-of-type {\n",
              "        vertical-align: middle;\n",
              "    }\n",
              "\n",
              "    .dataframe tbody tr th {\n",
              "        vertical-align: top;\n",
              "    }\n",
              "\n",
              "    .dataframe thead th {\n",
              "        text-align: right;\n",
              "    }\n",
              "</style>\n",
              "<table border=\"1\" class=\"dataframe\">\n",
              "  <thead>\n",
              "    <tr style=\"text-align: right;\">\n",
              "      <th></th>\n",
              "      <th>Случайный лес</th>\n",
              "      <th>Решающее дерево</th>\n",
              "      <th>LightGBM</th>\n",
              "      <th>Дамми-модель</th>\n",
              "    </tr>\n",
              "  </thead>\n",
              "  <tbody>\n",
              "    <tr>\n",
              "      <th>Время обучения</th>\n",
              "      <td>4.321312</td>\n",
              "      <td>0.417133</td>\n",
              "      <td>0.541199</td>\n",
              "      <td>0.013172</td>\n",
              "    </tr>\n",
              "    <tr>\n",
              "      <th>Время предсказания</th>\n",
              "      <td>0.100067</td>\n",
              "      <td>0.010375</td>\n",
              "      <td>0.085858</td>\n",
              "      <td>0.001359</td>\n",
              "    </tr>\n",
              "    <tr>\n",
              "      <th>Лучший RMSE</th>\n",
              "      <td>1651.633465</td>\n",
              "      <td>1791.110570</td>\n",
              "      <td>1610.218598</td>\n",
              "      <td>4947.303529</td>\n",
              "    </tr>\n",
              "  </tbody>\n",
              "</table>\n",
              "</div>\n",
              "      <button class=\"colab-df-convert\" onclick=\"convertToInteractive('df-4fba9b3a-8158-4a89-bb62-7c84a155e4bb')\"\n",
              "              title=\"Convert this dataframe to an interactive table.\"\n",
              "              style=\"display:none;\">\n",
              "        \n",
              "  <svg xmlns=\"http://www.w3.org/2000/svg\" height=\"24px\"viewBox=\"0 0 24 24\"\n",
              "       width=\"24px\">\n",
              "    <path d=\"M0 0h24v24H0V0z\" fill=\"none\"/>\n",
              "    <path d=\"M18.56 5.44l.94 2.06.94-2.06 2.06-.94-2.06-.94-.94-2.06-.94 2.06-2.06.94zm-11 1L8.5 8.5l.94-2.06 2.06-.94-2.06-.94L8.5 2.5l-.94 2.06-2.06.94zm10 10l.94 2.06.94-2.06 2.06-.94-2.06-.94-.94-2.06-.94 2.06-2.06.94z\"/><path d=\"M17.41 7.96l-1.37-1.37c-.4-.4-.92-.59-1.43-.59-.52 0-1.04.2-1.43.59L10.3 9.45l-7.72 7.72c-.78.78-.78 2.05 0 2.83L4 21.41c.39.39.9.59 1.41.59.51 0 1.02-.2 1.41-.59l7.78-7.78 2.81-2.81c.8-.78.8-2.07 0-2.86zM5.41 20L4 18.59l7.72-7.72 1.47 1.35L5.41 20z\"/>\n",
              "  </svg>\n",
              "      </button>\n",
              "      \n",
              "  <style>\n",
              "    .colab-df-container {\n",
              "      display:flex;\n",
              "      flex-wrap:wrap;\n",
              "      gap: 12px;\n",
              "    }\n",
              "\n",
              "    .colab-df-convert {\n",
              "      background-color: #E8F0FE;\n",
              "      border: none;\n",
              "      border-radius: 50%;\n",
              "      cursor: pointer;\n",
              "      display: none;\n",
              "      fill: #1967D2;\n",
              "      height: 32px;\n",
              "      padding: 0 0 0 0;\n",
              "      width: 32px;\n",
              "    }\n",
              "\n",
              "    .colab-df-convert:hover {\n",
              "      background-color: #E2EBFA;\n",
              "      box-shadow: 0px 1px 2px rgba(60, 64, 67, 0.3), 0px 1px 3px 1px rgba(60, 64, 67, 0.15);\n",
              "      fill: #174EA6;\n",
              "    }\n",
              "\n",
              "    [theme=dark] .colab-df-convert {\n",
              "      background-color: #3B4455;\n",
              "      fill: #D2E3FC;\n",
              "    }\n",
              "\n",
              "    [theme=dark] .colab-df-convert:hover {\n",
              "      background-color: #434B5C;\n",
              "      box-shadow: 0px 1px 3px 1px rgba(0, 0, 0, 0.15);\n",
              "      filter: drop-shadow(0px 1px 2px rgba(0, 0, 0, 0.3));\n",
              "      fill: #FFFFFF;\n",
              "    }\n",
              "  </style>\n",
              "\n",
              "      <script>\n",
              "        const buttonEl =\n",
              "          document.querySelector('#df-4fba9b3a-8158-4a89-bb62-7c84a155e4bb button.colab-df-convert');\n",
              "        buttonEl.style.display =\n",
              "          google.colab.kernel.accessAllowed ? 'block' : 'none';\n",
              "\n",
              "        async function convertToInteractive(key) {\n",
              "          const element = document.querySelector('#df-4fba9b3a-8158-4a89-bb62-7c84a155e4bb');\n",
              "          const dataTable =\n",
              "            await google.colab.kernel.invokeFunction('convertToInteractive',\n",
              "                                                     [key], {});\n",
              "          if (!dataTable) return;\n",
              "\n",
              "          const docLinkHtml = 'Like what you see? Visit the ' +\n",
              "            '<a target=\"_blank\" href=https://colab.research.google.com/notebooks/data_table.ipynb>data table notebook</a>'\n",
              "            + ' to learn more about interactive tables.';\n",
              "          element.innerHTML = '';\n",
              "          dataTable['output_type'] = 'display_data';\n",
              "          await google.colab.output.renderOutput(dataTable, element);\n",
              "          const docLink = document.createElement('div');\n",
              "          docLink.innerHTML = docLinkHtml;\n",
              "          element.appendChild(docLink);\n",
              "        }\n",
              "      </script>\n",
              "    </div>\n",
              "  </div>\n",
              "  "
            ]
          },
          "metadata": {},
          "execution_count": 71
        }
      ],
      "source": [
        "# Объединим наши результаты по трем моделям\n",
        "final = pd.concat([rfm_results, tree_results, lgbm_results, dummy_results], axis=1)\n",
        "final.columns = ['Случайный лес', 'Решающее дерево', 'LightGBM', 'Дамми-модель']\n",
        "final"
      ]
    },
    {
      "cell_type": "markdown",
      "metadata": {
        "id": "SCLES16e7jWw"
      },
      "source": [
        "По времени обучения и предсказания лучший результат — у модели решающего дерева. Но она проигрывает по RMSE.\n",
        "Для проверки на тестовой выборке мы остановимся на модели LightGBM, т.к. у нее оптимальное соотношение качества и времени предсказания/обучения."
      ]
    },
    {
      "cell_type": "code",
      "execution_count": 72,
      "metadata": {
        "id": "9Hh0p95B7jWx"
      },
      "outputs": [],
      "source": [
        "features_test[cat_features_lgbm] = features_test[cat_features_lgbm].astype('category')"
      ]
    },
    {
      "cell_type": "code",
      "execution_count": 73,
      "metadata": {
        "colab": {
          "base_uri": "https://localhost:8080/"
        },
        "id": "-k2rO9xw7jWy",
        "outputId": "fc41724c-c01c-42be-a218-fa1b79f385f3"
      },
      "outputs": [
        {
          "output_type": "stream",
          "name": "stdout",
          "text": [
            "CPU times: user 269 ms, sys: 1.94 ms, total: 271 ms\n",
            "Wall time: 229 ms\n"
          ]
        }
      ],
      "source": [
        "%%time\n",
        "lgbm_test_preds = lgbm_rs.best_estimator_.predict(features_test)"
      ]
    },
    {
      "cell_type": "code",
      "execution_count": 74,
      "metadata": {
        "colab": {
          "base_uri": "https://localhost:8080/"
        },
        "id": "4WCgarpN7jWy",
        "outputId": "893a59ea-823d-4cf5-c6f0-948e701edafc"
      },
      "outputs": [
        {
          "output_type": "execute_result",
          "data": {
            "text/plain": [
              "1570.296301130809"
            ]
          },
          "metadata": {},
          "execution_count": 74
        }
      ],
      "source": [
        "test_rmse = mean_squared_error(target_test, lgbm_test_preds)**0.5\n",
        "test_rmse"
      ]
    },
    {
      "cell_type": "markdown",
      "metadata": {
        "id": "cZdYcet27jWz"
      },
      "source": [
        "## Общий вывод\n",
        "\n",
        "В этом проекте мы обучили модель для быстрого предсказания цены на подержанные автомобили. Важно было не только добиться определенного качества (значения метрики RMSE не ниже 2500), но и выбрать наиболее оптимальную модель с точки зрения скорости обучения и предсказания, поскольку она будет использоваться в приложении (пользователи вводят данные об автомобиле и получают на выходе цену).\n",
        "\n",
        "1. Была проведена предобработка данных (удалены не значимые для модели признаки, заполнены пропуски, обработаны аномальные значения).\n",
        "2. Были обучены три модели — решающее дерево, случайный лес и LightGBM (модель, в основе которой лежит алгоритм градиентного бустинга). Также проверена адекватность моделей с помощью дамми-модели.\n",
        "3. По результатам исследования была выбрана модель LightGBM — она показала оптимальные результаты с точки зрения соотношения показателей качество/скорость.\n",
        "4. Указанная модель была проверена на тестовой выборке и показала хорошее значение метрики RMSE."
      ]
    }
  ],
  "metadata": {
    "ExecuteTimeLog": [
      {
        "duration": 454,
        "start_time": "2023-02-02T18:23:22.599Z"
      },
      {
        "duration": 3200,
        "start_time": "2023-02-02T18:23:36.398Z"
      },
      {
        "duration": 22,
        "start_time": "2023-02-02T18:23:46.963Z"
      },
      {
        "duration": 142,
        "start_time": "2023-02-02T18:24:30.866Z"
      },
      {
        "duration": 12,
        "start_time": "2023-02-03T06:14:56.493Z"
      },
      {
        "duration": 450,
        "start_time": "2023-02-03T06:15:12.051Z"
      },
      {
        "duration": 1138,
        "start_time": "2023-02-03T06:15:12.503Z"
      },
      {
        "duration": 19,
        "start_time": "2023-02-03T06:15:13.642Z"
      },
      {
        "duration": 146,
        "start_time": "2023-02-03T06:15:13.663Z"
      },
      {
        "duration": 6,
        "start_time": "2023-02-03T06:15:13.811Z"
      },
      {
        "duration": 1418,
        "start_time": "2023-02-03T06:15:38.023Z"
      },
      {
        "duration": 52,
        "start_time": "2023-02-06T15:31:34.234Z"
      },
      {
        "duration": 395,
        "start_time": "2023-02-06T15:31:41.109Z"
      },
      {
        "duration": 2945,
        "start_time": "2023-02-06T15:31:41.506Z"
      },
      {
        "duration": 20,
        "start_time": "2023-02-06T15:31:44.452Z"
      },
      {
        "duration": 147,
        "start_time": "2023-02-06T15:31:44.474Z"
      },
      {
        "duration": 12,
        "start_time": "2023-02-06T15:32:40.071Z"
      },
      {
        "duration": 559,
        "start_time": "2023-02-06T15:32:42.159Z"
      },
      {
        "duration": 123,
        "start_time": "2023-02-06T15:33:16.399Z"
      },
      {
        "duration": 9,
        "start_time": "2023-02-06T15:33:24.822Z"
      },
      {
        "duration": 412,
        "start_time": "2023-02-06T15:33:28.557Z"
      },
      {
        "duration": 413,
        "start_time": "2023-02-06T15:33:47.475Z"
      },
      {
        "duration": 747,
        "start_time": "2023-02-06T15:33:47.891Z"
      },
      {
        "duration": 18,
        "start_time": "2023-02-06T15:33:48.639Z"
      },
      {
        "duration": 123,
        "start_time": "2023-02-06T15:33:48.658Z"
      },
      {
        "duration": 114,
        "start_time": "2023-02-06T15:33:48.783Z"
      },
      {
        "duration": 9,
        "start_time": "2023-02-06T15:33:48.898Z"
      },
      {
        "duration": 511,
        "start_time": "2023-02-06T15:33:48.908Z"
      },
      {
        "duration": 45,
        "start_time": "2023-02-06T15:34:33.118Z"
      },
      {
        "duration": 48,
        "start_time": "2023-02-06T15:34:44.228Z"
      },
      {
        "duration": 105,
        "start_time": "2023-02-06T15:35:17.958Z"
      },
      {
        "duration": 8,
        "start_time": "2023-02-06T15:35:38.512Z"
      },
      {
        "duration": 480,
        "start_time": "2023-02-06T15:35:41.235Z"
      },
      {
        "duration": 6,
        "start_time": "2023-02-06T15:36:09.884Z"
      },
      {
        "duration": 2273,
        "start_time": "2023-02-06T15:36:16.123Z"
      },
      {
        "duration": 10,
        "start_time": "2023-02-06T15:36:46.953Z"
      },
      {
        "duration": 1733,
        "start_time": "2023-02-06T15:36:51.311Z"
      },
      {
        "duration": 6,
        "start_time": "2023-02-06T15:37:03.363Z"
      },
      {
        "duration": 1680,
        "start_time": "2023-02-06T15:37:09.228Z"
      },
      {
        "duration": 7,
        "start_time": "2023-02-06T15:53:16.427Z"
      },
      {
        "duration": 4,
        "start_time": "2023-02-06T15:53:38.096Z"
      },
      {
        "duration": 72,
        "start_time": "2023-02-06T17:26:26.059Z"
      },
      {
        "duration": 1457,
        "start_time": "2023-02-06T17:26:34.185Z"
      },
      {
        "duration": 811,
        "start_time": "2023-02-06T17:29:13.419Z"
      },
      {
        "duration": 22,
        "start_time": "2023-02-06T17:29:17.012Z"
      },
      {
        "duration": 122,
        "start_time": "2023-02-06T17:29:21.473Z"
      },
      {
        "duration": 4,
        "start_time": "2023-02-06T17:30:04.160Z"
      },
      {
        "duration": 7,
        "start_time": "2023-02-06T17:30:10.490Z"
      },
      {
        "duration": 4,
        "start_time": "2023-02-06T17:30:16.360Z"
      },
      {
        "duration": 5,
        "start_time": "2023-02-06T17:30:22.848Z"
      },
      {
        "duration": 13,
        "start_time": "2023-02-06T17:30:43.139Z"
      },
      {
        "duration": 4,
        "start_time": "2023-02-06T17:31:05.433Z"
      },
      {
        "duration": 7,
        "start_time": "2023-02-06T17:31:27.712Z"
      },
      {
        "duration": 7,
        "start_time": "2023-02-06T17:31:37.601Z"
      },
      {
        "duration": 1671,
        "start_time": "2023-02-06T17:31:39.432Z"
      },
      {
        "duration": 4,
        "start_time": "2023-02-06T17:38:28.341Z"
      },
      {
        "duration": 5,
        "start_time": "2023-02-06T17:39:04.411Z"
      },
      {
        "duration": 4,
        "start_time": "2023-02-06T17:40:42.661Z"
      },
      {
        "duration": 5,
        "start_time": "2023-02-06T17:41:48.696Z"
      },
      {
        "duration": 8,
        "start_time": "2023-02-06T17:41:59.322Z"
      },
      {
        "duration": 18,
        "start_time": "2023-02-06T17:42:03.631Z"
      },
      {
        "duration": 10,
        "start_time": "2023-02-06T17:42:18.707Z"
      },
      {
        "duration": 86,
        "start_time": "2023-02-06T17:42:34.851Z"
      },
      {
        "duration": 456,
        "start_time": "2023-02-06T17:42:45.140Z"
      },
      {
        "duration": 84,
        "start_time": "2023-02-06T17:43:38.103Z"
      },
      {
        "duration": 5,
        "start_time": "2023-02-06T17:45:25.669Z"
      },
      {
        "duration": 31,
        "start_time": "2023-02-06T17:47:29.413Z"
      },
      {
        "duration": 26,
        "start_time": "2023-02-06T17:48:00.933Z"
      },
      {
        "duration": 1770,
        "start_time": "2023-02-09T07:23:31.801Z"
      },
      {
        "duration": 3041,
        "start_time": "2023-02-09T07:23:37.433Z"
      },
      {
        "duration": 22,
        "start_time": "2023-02-09T07:23:40.476Z"
      },
      {
        "duration": 13,
        "start_time": "2023-02-09T07:23:42.578Z"
      },
      {
        "duration": 4,
        "start_time": "2023-02-09T07:23:44.655Z"
      },
      {
        "duration": 7,
        "start_time": "2023-02-09T07:23:50.312Z"
      },
      {
        "duration": 1798,
        "start_time": "2023-02-09T07:23:53.705Z"
      },
      {
        "duration": 84,
        "start_time": "2023-02-09T07:56:42.687Z"
      },
      {
        "duration": 1503,
        "start_time": "2023-02-09T17:06:05.754Z"
      },
      {
        "duration": 794,
        "start_time": "2023-02-09T17:06:07.259Z"
      },
      {
        "duration": 17,
        "start_time": "2023-02-09T17:06:08.055Z"
      },
      {
        "duration": 4,
        "start_time": "2023-02-09T17:06:08.081Z"
      },
      {
        "duration": 6,
        "start_time": "2023-02-09T17:06:08.088Z"
      },
      {
        "duration": 8,
        "start_time": "2023-02-09T17:06:08.096Z"
      },
      {
        "duration": 1766,
        "start_time": "2023-02-09T17:06:08.106Z"
      },
      {
        "duration": 3,
        "start_time": "2023-02-09T17:06:20.981Z"
      },
      {
        "duration": 4,
        "start_time": "2023-02-09T17:06:56.868Z"
      },
      {
        "duration": 6,
        "start_time": "2023-02-09T17:08:05.491Z"
      },
      {
        "duration": 363,
        "start_time": "2023-02-09T17:08:15.775Z"
      },
      {
        "duration": 31,
        "start_time": "2023-02-09T17:08:43.701Z"
      },
      {
        "duration": 30,
        "start_time": "2023-02-09T17:08:51.116Z"
      },
      {
        "duration": 33,
        "start_time": "2023-02-09T17:09:13.421Z"
      },
      {
        "duration": 28,
        "start_time": "2023-02-09T17:09:21.404Z"
      },
      {
        "duration": 31,
        "start_time": "2023-02-09T17:09:42.064Z"
      },
      {
        "duration": 108,
        "start_time": "2023-02-09T17:10:33.142Z"
      },
      {
        "duration": 85,
        "start_time": "2023-02-09T17:10:37.152Z"
      },
      {
        "duration": 3,
        "start_time": "2023-02-09T17:13:21.010Z"
      },
      {
        "duration": 71,
        "start_time": "2023-02-09T17:13:44.201Z"
      },
      {
        "duration": 7,
        "start_time": "2023-02-09T17:14:42.499Z"
      },
      {
        "duration": 5,
        "start_time": "2023-02-09T17:18:03.776Z"
      },
      {
        "duration": 4,
        "start_time": "2023-02-09T17:18:26.264Z"
      },
      {
        "duration": 9,
        "start_time": "2023-02-09T17:18:41.897Z"
      },
      {
        "duration": 6,
        "start_time": "2023-02-09T17:42:53.787Z"
      },
      {
        "duration": 26,
        "start_time": "2023-02-09T17:44:17.451Z"
      },
      {
        "duration": 3,
        "start_time": "2023-02-09T17:44:47.320Z"
      },
      {
        "duration": 70,
        "start_time": "2023-02-09T17:45:07.159Z"
      },
      {
        "duration": 77,
        "start_time": "2023-02-09T17:45:13.603Z"
      },
      {
        "duration": 43,
        "start_time": "2023-02-09T17:45:38.671Z"
      },
      {
        "duration": 34,
        "start_time": "2023-02-09T17:51:44.396Z"
      },
      {
        "duration": 6,
        "start_time": "2023-02-09T17:52:22.912Z"
      },
      {
        "duration": 48,
        "start_time": "2023-02-09T18:01:57.238Z"
      },
      {
        "duration": 20,
        "start_time": "2023-02-09T18:03:38.909Z"
      },
      {
        "duration": 40,
        "start_time": "2023-02-09T18:03:56.448Z"
      },
      {
        "duration": 32,
        "start_time": "2023-02-09T18:06:11.227Z"
      },
      {
        "duration": 17,
        "start_time": "2023-02-09T18:07:45.689Z"
      },
      {
        "duration": 30,
        "start_time": "2023-02-09T18:08:18.681Z"
      },
      {
        "duration": 18,
        "start_time": "2023-02-09T18:09:47.781Z"
      },
      {
        "duration": 30,
        "start_time": "2023-02-09T18:10:07.688Z"
      },
      {
        "duration": 17,
        "start_time": "2023-02-09T18:11:12.176Z"
      },
      {
        "duration": 66,
        "start_time": "2023-02-09T18:11:33.496Z"
      },
      {
        "duration": 59,
        "start_time": "2023-02-09T18:11:35.988Z"
      },
      {
        "duration": 5,
        "start_time": "2023-02-09T18:12:15.707Z"
      },
      {
        "duration": 3,
        "start_time": "2023-02-09T18:12:41.495Z"
      },
      {
        "duration": 13,
        "start_time": "2023-02-09T18:13:02.088Z"
      },
      {
        "duration": 2,
        "start_time": "2023-02-09T18:14:33.276Z"
      },
      {
        "duration": 106,
        "start_time": "2023-02-09T18:14:50.420Z"
      },
      {
        "duration": 109,
        "start_time": "2023-02-09T18:14:54.788Z"
      },
      {
        "duration": 2012,
        "start_time": "2023-02-09T18:15:27.523Z"
      },
      {
        "duration": 1972,
        "start_time": "2023-02-09T18:15:53.921Z"
      },
      {
        "duration": 2071,
        "start_time": "2023-02-09T18:16:03.545Z"
      },
      {
        "duration": 1888,
        "start_time": "2023-02-09T18:17:19.141Z"
      },
      {
        "duration": 6,
        "start_time": "2023-02-09T18:17:58.313Z"
      },
      {
        "duration": 8,
        "start_time": "2023-02-09T18:18:08.401Z"
      },
      {
        "duration": 12,
        "start_time": "2023-02-09T18:18:41.346Z"
      },
      {
        "duration": 8,
        "start_time": "2023-02-09T18:18:59.091Z"
      },
      {
        "duration": 8,
        "start_time": "2023-02-09T18:19:02.920Z"
      },
      {
        "duration": 9,
        "start_time": "2023-02-09T18:19:23.496Z"
      },
      {
        "duration": 2857,
        "start_time": "2023-02-09T18:20:42.303Z"
      },
      {
        "duration": 2198,
        "start_time": "2023-02-09T18:20:56.200Z"
      },
      {
        "duration": 1927,
        "start_time": "2023-02-09T18:21:19.485Z"
      },
      {
        "duration": 9,
        "start_time": "2023-02-09T18:25:27.277Z"
      },
      {
        "duration": 11,
        "start_time": "2023-02-09T18:25:50.278Z"
      },
      {
        "duration": 5,
        "start_time": "2023-02-09T18:26:43.000Z"
      },
      {
        "duration": 18,
        "start_time": "2023-02-09T18:26:45.386Z"
      },
      {
        "duration": 17,
        "start_time": "2023-02-09T18:26:50.395Z"
      },
      {
        "duration": 19,
        "start_time": "2023-02-09T18:26:52.805Z"
      },
      {
        "duration": 23,
        "start_time": "2023-02-09T18:26:58.845Z"
      },
      {
        "duration": 23,
        "start_time": "2023-02-09T18:28:27.642Z"
      },
      {
        "duration": 50,
        "start_time": "2023-02-09T18:32:40.104Z"
      },
      {
        "duration": 18,
        "start_time": "2023-02-09T18:32:46.698Z"
      },
      {
        "duration": 19,
        "start_time": "2023-02-09T18:33:05.111Z"
      },
      {
        "duration": 30,
        "start_time": "2023-02-09T18:34:42.481Z"
      },
      {
        "duration": 1593,
        "start_time": "2023-02-09T18:34:45.696Z"
      },
      {
        "duration": 27,
        "start_time": "2023-02-09T18:36:19.193Z"
      },
      {
        "duration": 20,
        "start_time": "2023-02-09T18:36:58.593Z"
      },
      {
        "duration": 321,
        "start_time": "2023-02-09T18:37:25.605Z"
      },
      {
        "duration": 19,
        "start_time": "2023-02-09T18:40:37.453Z"
      },
      {
        "duration": 210,
        "start_time": "2023-02-09T18:41:21.798Z"
      },
      {
        "duration": 534,
        "start_time": "2023-02-09T18:41:39.309Z"
      },
      {
        "duration": 183,
        "start_time": "2023-02-09T18:41:52.100Z"
      },
      {
        "duration": 3655,
        "start_time": "2023-02-09T18:41:58.913Z"
      },
      {
        "duration": 3579,
        "start_time": "2023-02-09T18:42:12.988Z"
      },
      {
        "duration": 5,
        "start_time": "2023-02-09T18:42:39.902Z"
      },
      {
        "duration": 9,
        "start_time": "2023-02-09T18:42:50.845Z"
      },
      {
        "duration": 151,
        "start_time": "2023-02-09T18:43:08.346Z"
      },
      {
        "duration": 2721,
        "start_time": "2023-02-09T18:43:36.119Z"
      },
      {
        "duration": 286,
        "start_time": "2023-02-09T18:44:25.985Z"
      },
      {
        "duration": 1199,
        "start_time": "2023-02-09T18:56:07.979Z"
      },
      {
        "duration": 1591,
        "start_time": "2023-02-10T16:47:03.806Z"
      },
      {
        "duration": 2831,
        "start_time": "2023-02-10T16:47:05.399Z"
      },
      {
        "duration": 17,
        "start_time": "2023-02-10T16:47:08.232Z"
      },
      {
        "duration": 6,
        "start_time": "2023-02-10T16:47:08.251Z"
      },
      {
        "duration": 12,
        "start_time": "2023-02-10T16:47:08.258Z"
      },
      {
        "duration": 10,
        "start_time": "2023-02-10T16:47:08.272Z"
      },
      {
        "duration": 1697,
        "start_time": "2023-02-10T16:47:08.284Z"
      },
      {
        "duration": 4,
        "start_time": "2023-02-10T16:47:09.983Z"
      },
      {
        "duration": 86,
        "start_time": "2023-02-10T16:47:09.992Z"
      },
      {
        "duration": 26,
        "start_time": "2023-02-10T16:47:10.091Z"
      },
      {
        "duration": 95,
        "start_time": "2023-02-10T16:47:10.119Z"
      },
      {
        "duration": 9,
        "start_time": "2023-02-10T16:47:10.216Z"
      },
      {
        "duration": 7,
        "start_time": "2023-02-10T16:47:10.227Z"
      },
      {
        "duration": 20,
        "start_time": "2023-02-10T16:47:10.235Z"
      },
      {
        "duration": 5,
        "start_time": "2023-02-10T16:47:10.257Z"
      },
      {
        "duration": 36,
        "start_time": "2023-02-10T16:47:10.264Z"
      },
      {
        "duration": 7,
        "start_time": "2023-02-10T16:47:10.302Z"
      },
      {
        "duration": 71,
        "start_time": "2023-02-10T16:47:10.310Z"
      },
      {
        "duration": 45,
        "start_time": "2023-02-10T16:47:10.383Z"
      },
      {
        "duration": 30,
        "start_time": "2023-02-10T16:47:10.431Z"
      },
      {
        "duration": 43,
        "start_time": "2023-02-10T16:47:10.462Z"
      },
      {
        "duration": 226,
        "start_time": "2023-02-10T16:47:12.320Z"
      },
      {
        "duration": 148,
        "start_time": "2023-02-10T16:47:20.990Z"
      },
      {
        "duration": 8,
        "start_time": "2023-02-10T16:47:32.053Z"
      },
      {
        "duration": 27,
        "start_time": "2023-02-10T16:48:19.679Z"
      },
      {
        "duration": 5,
        "start_time": "2023-02-10T16:48:44.154Z"
      },
      {
        "duration": 39,
        "start_time": "2023-02-10T16:48:50.229Z"
      },
      {
        "duration": 31,
        "start_time": "2023-02-10T16:50:03.157Z"
      },
      {
        "duration": 10,
        "start_time": "2023-02-10T17:00:04.362Z"
      },
      {
        "duration": 31,
        "start_time": "2023-02-10T17:00:09.955Z"
      },
      {
        "duration": 123,
        "start_time": "2023-02-10T17:00:23.906Z"
      },
      {
        "duration": 781,
        "start_time": "2023-02-10T17:00:32.513Z"
      },
      {
        "duration": 1421,
        "start_time": "2023-02-10T17:12:51.277Z"
      },
      {
        "duration": 760,
        "start_time": "2023-02-10T17:12:52.700Z"
      },
      {
        "duration": 17,
        "start_time": "2023-02-10T17:12:53.462Z"
      },
      {
        "duration": 5,
        "start_time": "2023-02-10T17:12:53.493Z"
      },
      {
        "duration": 14,
        "start_time": "2023-02-10T17:12:53.500Z"
      },
      {
        "duration": 9,
        "start_time": "2023-02-10T17:12:53.516Z"
      },
      {
        "duration": 1761,
        "start_time": "2023-02-10T17:12:53.526Z"
      },
      {
        "duration": 4,
        "start_time": "2023-02-10T17:12:55.292Z"
      },
      {
        "duration": 87,
        "start_time": "2023-02-10T17:12:55.298Z"
      },
      {
        "duration": 26,
        "start_time": "2023-02-10T17:12:55.388Z"
      },
      {
        "duration": 97,
        "start_time": "2023-02-10T17:12:55.415Z"
      },
      {
        "duration": 6,
        "start_time": "2023-02-10T17:12:55.513Z"
      },
      {
        "duration": 17,
        "start_time": "2023-02-10T17:12:55.521Z"
      },
      {
        "duration": 34,
        "start_time": "2023-02-10T17:12:55.540Z"
      },
      {
        "duration": 8,
        "start_time": "2023-02-10T17:12:55.576Z"
      },
      {
        "duration": 26,
        "start_time": "2023-02-10T17:12:55.586Z"
      },
      {
        "duration": 12,
        "start_time": "2023-02-10T17:12:55.614Z"
      },
      {
        "duration": 88,
        "start_time": "2023-02-10T17:12:55.628Z"
      },
      {
        "duration": 32,
        "start_time": "2023-02-10T17:12:55.718Z"
      },
      {
        "duration": 41,
        "start_time": "2023-02-10T17:12:55.751Z"
      },
      {
        "duration": 32,
        "start_time": "2023-02-10T17:12:55.794Z"
      },
      {
        "duration": 219,
        "start_time": "2023-02-10T17:12:55.828Z"
      },
      {
        "duration": 52,
        "start_time": "2023-02-10T17:12:56.050Z"
      },
      {
        "duration": 30,
        "start_time": "2023-02-10T17:12:56.104Z"
      },
      {
        "duration": 42,
        "start_time": "2023-02-10T17:12:56.137Z"
      },
      {
        "duration": 51,
        "start_time": "2023-02-10T17:13:24.442Z"
      },
      {
        "duration": 156,
        "start_time": "2023-02-10T17:13:32.542Z"
      },
      {
        "duration": 43,
        "start_time": "2023-02-10T17:13:37.738Z"
      },
      {
        "duration": 55,
        "start_time": "2023-02-10T17:13:42.854Z"
      },
      {
        "duration": 48,
        "start_time": "2023-02-10T17:13:46.133Z"
      },
      {
        "duration": 43,
        "start_time": "2023-02-10T17:13:52.446Z"
      },
      {
        "duration": 44,
        "start_time": "2023-02-10T17:13:55.166Z"
      },
      {
        "duration": 4,
        "start_time": "2023-02-10T17:15:19.907Z"
      },
      {
        "duration": 1491,
        "start_time": "2023-02-10T17:16:55.696Z"
      },
      {
        "duration": 777,
        "start_time": "2023-02-10T17:16:57.189Z"
      },
      {
        "duration": 24,
        "start_time": "2023-02-10T17:16:57.968Z"
      },
      {
        "duration": 11,
        "start_time": "2023-02-10T17:16:57.997Z"
      },
      {
        "duration": 8,
        "start_time": "2023-02-10T17:16:58.010Z"
      },
      {
        "duration": 15,
        "start_time": "2023-02-10T17:16:58.020Z"
      },
      {
        "duration": 1671,
        "start_time": "2023-02-10T17:16:58.037Z"
      },
      {
        "duration": 4,
        "start_time": "2023-02-10T17:16:59.710Z"
      },
      {
        "duration": 89,
        "start_time": "2023-02-10T17:16:59.715Z"
      },
      {
        "duration": 23,
        "start_time": "2023-02-10T17:16:59.807Z"
      },
      {
        "duration": 73,
        "start_time": "2023-02-10T17:16:59.832Z"
      },
      {
        "duration": 6,
        "start_time": "2023-02-10T17:16:59.908Z"
      },
      {
        "duration": 6,
        "start_time": "2023-02-10T17:16:59.916Z"
      },
      {
        "duration": 25,
        "start_time": "2023-02-10T17:16:59.924Z"
      },
      {
        "duration": 6,
        "start_time": "2023-02-10T17:16:59.950Z"
      },
      {
        "duration": 23,
        "start_time": "2023-02-10T17:16:59.957Z"
      },
      {
        "duration": 6,
        "start_time": "2023-02-10T17:17:00.000Z"
      },
      {
        "duration": 115,
        "start_time": "2023-02-10T17:17:00.008Z"
      },
      {
        "duration": 32,
        "start_time": "2023-02-10T17:17:00.124Z"
      },
      {
        "duration": 49,
        "start_time": "2023-02-10T17:17:00.158Z"
      },
      {
        "duration": 59,
        "start_time": "2023-02-10T17:17:00.209Z"
      },
      {
        "duration": 243,
        "start_time": "2023-02-10T17:17:03.076Z"
      },
      {
        "duration": 36,
        "start_time": "2023-02-10T17:17:17.486Z"
      },
      {
        "duration": 37,
        "start_time": "2023-02-10T17:17:24.986Z"
      },
      {
        "duration": 152,
        "start_time": "2023-02-10T17:17:44.266Z"
      },
      {
        "duration": 30,
        "start_time": "2023-02-10T17:17:46.646Z"
      },
      {
        "duration": 46,
        "start_time": "2023-02-10T17:18:12.076Z"
      },
      {
        "duration": 122,
        "start_time": "2023-02-10T17:18:15.143Z"
      },
      {
        "duration": 11,
        "start_time": "2023-02-10T17:18:21.216Z"
      },
      {
        "duration": 19,
        "start_time": "2023-02-10T17:18:41.055Z"
      },
      {
        "duration": 8,
        "start_time": "2023-02-10T17:19:34.487Z"
      },
      {
        "duration": 9,
        "start_time": "2023-02-10T17:26:07.826Z"
      },
      {
        "duration": 15,
        "start_time": "2023-02-10T17:26:30.347Z"
      },
      {
        "duration": 6,
        "start_time": "2023-02-10T17:26:36.607Z"
      },
      {
        "duration": 6,
        "start_time": "2023-02-10T17:26:51.514Z"
      },
      {
        "duration": 20,
        "start_time": "2023-02-10T17:27:00.135Z"
      },
      {
        "duration": 8,
        "start_time": "2023-02-10T17:27:10.176Z"
      },
      {
        "duration": 138,
        "start_time": "2023-02-10T17:27:21.434Z"
      },
      {
        "duration": 48,
        "start_time": "2023-02-10T17:36:02.615Z"
      },
      {
        "duration": 50,
        "start_time": "2023-02-10T17:36:23.528Z"
      },
      {
        "duration": 52,
        "start_time": "2023-02-10T17:37:11.367Z"
      },
      {
        "duration": 59,
        "start_time": "2023-02-10T17:37:29.967Z"
      },
      {
        "duration": 105,
        "start_time": "2023-02-10T17:37:47.228Z"
      },
      {
        "duration": 806,
        "start_time": "2023-02-10T17:38:09.157Z"
      },
      {
        "duration": 7,
        "start_time": "2023-02-10T17:38:16.577Z"
      },
      {
        "duration": 54,
        "start_time": "2023-02-10T17:38:38.387Z"
      },
      {
        "duration": 22,
        "start_time": "2023-02-10T17:38:46.650Z"
      },
      {
        "duration": 41,
        "start_time": "2023-02-10T17:39:09.317Z"
      },
      {
        "duration": 44,
        "start_time": "2023-02-10T17:40:25.312Z"
      },
      {
        "duration": 17,
        "start_time": "2023-02-10T17:44:31.968Z"
      },
      {
        "duration": 31,
        "start_time": "2023-02-10T17:44:37.177Z"
      },
      {
        "duration": 21,
        "start_time": "2023-02-10T17:44:40.327Z"
      },
      {
        "duration": 59,
        "start_time": "2023-02-10T17:44:42.747Z"
      },
      {
        "duration": 17,
        "start_time": "2023-02-10T17:44:48.077Z"
      },
      {
        "duration": 1369,
        "start_time": "2023-02-10T17:46:37.927Z"
      },
      {
        "duration": 749,
        "start_time": "2023-02-10T17:46:39.298Z"
      },
      {
        "duration": 17,
        "start_time": "2023-02-10T17:46:40.048Z"
      },
      {
        "duration": 12,
        "start_time": "2023-02-10T17:46:40.067Z"
      },
      {
        "duration": 11,
        "start_time": "2023-02-10T17:46:40.082Z"
      },
      {
        "duration": 7,
        "start_time": "2023-02-10T17:46:40.095Z"
      },
      {
        "duration": 1642,
        "start_time": "2023-02-10T17:46:40.104Z"
      },
      {
        "duration": 4,
        "start_time": "2023-02-10T17:46:41.748Z"
      },
      {
        "duration": 87,
        "start_time": "2023-02-10T17:46:41.753Z"
      },
      {
        "duration": 24,
        "start_time": "2023-02-10T17:46:41.841Z"
      },
      {
        "duration": 77,
        "start_time": "2023-02-10T17:46:41.866Z"
      },
      {
        "duration": 5,
        "start_time": "2023-02-10T17:46:41.945Z"
      },
      {
        "duration": 5,
        "start_time": "2023-02-10T17:46:41.951Z"
      },
      {
        "duration": 12,
        "start_time": "2023-02-10T17:46:41.958Z"
      },
      {
        "duration": 22,
        "start_time": "2023-02-10T17:46:41.971Z"
      },
      {
        "duration": 21,
        "start_time": "2023-02-10T17:46:41.994Z"
      },
      {
        "duration": 5,
        "start_time": "2023-02-10T17:46:42.017Z"
      },
      {
        "duration": 84,
        "start_time": "2023-02-10T17:46:42.023Z"
      },
      {
        "duration": 29,
        "start_time": "2023-02-10T17:46:42.108Z"
      },
      {
        "duration": 18,
        "start_time": "2023-02-10T17:46:42.139Z"
      },
      {
        "duration": 49,
        "start_time": "2023-02-10T17:46:42.159Z"
      },
      {
        "duration": 150,
        "start_time": "2023-02-10T17:46:42.210Z"
      },
      {
        "duration": 36,
        "start_time": "2023-02-10T17:46:42.362Z"
      },
      {
        "duration": 24,
        "start_time": "2023-02-10T17:46:42.400Z"
      },
      {
        "duration": 29,
        "start_time": "2023-02-10T17:46:42.426Z"
      },
      {
        "duration": 18,
        "start_time": "2023-02-10T17:46:42.457Z"
      },
      {
        "duration": 30,
        "start_time": "2023-02-10T17:46:42.492Z"
      },
      {
        "duration": 19,
        "start_time": "2023-02-10T17:46:42.523Z"
      },
      {
        "duration": 84,
        "start_time": "2023-02-10T17:48:25.167Z"
      },
      {
        "duration": 1364,
        "start_time": "2023-02-10T17:50:22.329Z"
      },
      {
        "duration": 793,
        "start_time": "2023-02-10T17:50:23.695Z"
      },
      {
        "duration": 15,
        "start_time": "2023-02-10T17:50:24.492Z"
      },
      {
        "duration": 4,
        "start_time": "2023-02-10T17:50:24.509Z"
      },
      {
        "duration": 6,
        "start_time": "2023-02-10T17:50:24.514Z"
      },
      {
        "duration": 7,
        "start_time": "2023-02-10T17:50:24.521Z"
      },
      {
        "duration": 1822,
        "start_time": "2023-02-10T17:50:24.529Z"
      },
      {
        "duration": 4,
        "start_time": "2023-02-10T17:50:26.353Z"
      },
      {
        "duration": 100,
        "start_time": "2023-02-10T17:50:26.358Z"
      },
      {
        "duration": 42,
        "start_time": "2023-02-10T17:50:26.460Z"
      },
      {
        "duration": 75,
        "start_time": "2023-02-10T17:50:26.504Z"
      },
      {
        "duration": 13,
        "start_time": "2023-02-10T17:50:26.581Z"
      },
      {
        "duration": 13,
        "start_time": "2023-02-10T17:50:26.596Z"
      },
      {
        "duration": 22,
        "start_time": "2023-02-10T17:50:26.610Z"
      },
      {
        "duration": 12,
        "start_time": "2023-02-10T17:50:26.634Z"
      },
      {
        "duration": 22,
        "start_time": "2023-02-10T17:50:26.648Z"
      },
      {
        "duration": 8,
        "start_time": "2023-02-10T17:50:26.672Z"
      },
      {
        "duration": 70,
        "start_time": "2023-02-10T17:50:26.682Z"
      },
      {
        "duration": 32,
        "start_time": "2023-02-10T17:50:26.753Z"
      },
      {
        "duration": 28,
        "start_time": "2023-02-10T17:50:26.786Z"
      },
      {
        "duration": 43,
        "start_time": "2023-02-10T17:50:26.815Z"
      },
      {
        "duration": 147,
        "start_time": "2023-02-10T17:50:26.859Z"
      },
      {
        "duration": 31,
        "start_time": "2023-02-10T17:50:27.008Z"
      },
      {
        "duration": 23,
        "start_time": "2023-02-10T17:50:27.040Z"
      },
      {
        "duration": 35,
        "start_time": "2023-02-10T17:50:27.065Z"
      },
      {
        "duration": 19,
        "start_time": "2023-02-10T17:50:27.101Z"
      },
      {
        "duration": 30,
        "start_time": "2023-02-10T17:50:27.122Z"
      },
      {
        "duration": 41,
        "start_time": "2023-02-10T17:50:27.155Z"
      },
      {
        "duration": 63,
        "start_time": "2023-02-10T17:50:28.796Z"
      },
      {
        "duration": 1410,
        "start_time": "2023-02-10T17:51:08.266Z"
      },
      {
        "duration": 808,
        "start_time": "2023-02-10T17:51:09.678Z"
      },
      {
        "duration": 17,
        "start_time": "2023-02-10T17:51:10.488Z"
      },
      {
        "duration": 4,
        "start_time": "2023-02-10T17:51:10.507Z"
      },
      {
        "duration": 13,
        "start_time": "2023-02-10T17:51:10.513Z"
      },
      {
        "duration": 10,
        "start_time": "2023-02-10T17:51:10.528Z"
      },
      {
        "duration": 1729,
        "start_time": "2023-02-10T17:51:10.540Z"
      },
      {
        "duration": 5,
        "start_time": "2023-02-10T17:51:12.271Z"
      },
      {
        "duration": 90,
        "start_time": "2023-02-10T17:51:12.278Z"
      },
      {
        "duration": 38,
        "start_time": "2023-02-10T17:51:12.372Z"
      },
      {
        "duration": 84,
        "start_time": "2023-02-10T17:51:12.412Z"
      },
      {
        "duration": 6,
        "start_time": "2023-02-10T17:51:12.497Z"
      },
      {
        "duration": 7,
        "start_time": "2023-02-10T17:51:12.505Z"
      },
      {
        "duration": 16,
        "start_time": "2023-02-10T17:51:12.513Z"
      },
      {
        "duration": 6,
        "start_time": "2023-02-10T17:51:12.531Z"
      },
      {
        "duration": 39,
        "start_time": "2023-02-10T17:51:12.538Z"
      },
      {
        "duration": 7,
        "start_time": "2023-02-10T17:51:12.579Z"
      },
      {
        "duration": 73,
        "start_time": "2023-02-10T17:51:12.592Z"
      },
      {
        "duration": 39,
        "start_time": "2023-02-10T17:51:12.666Z"
      },
      {
        "duration": 21,
        "start_time": "2023-02-10T17:51:12.706Z"
      },
      {
        "duration": 30,
        "start_time": "2023-02-10T17:51:12.728Z"
      },
      {
        "duration": 168,
        "start_time": "2023-02-10T17:51:12.760Z"
      },
      {
        "duration": 29,
        "start_time": "2023-02-10T17:51:12.930Z"
      },
      {
        "duration": 23,
        "start_time": "2023-02-10T17:51:12.961Z"
      },
      {
        "duration": 29,
        "start_time": "2023-02-10T17:51:12.991Z"
      },
      {
        "duration": 21,
        "start_time": "2023-02-10T17:51:13.021Z"
      },
      {
        "duration": 28,
        "start_time": "2023-02-10T17:51:13.043Z"
      },
      {
        "duration": 33,
        "start_time": "2023-02-10T17:51:13.074Z"
      },
      {
        "duration": 63,
        "start_time": "2023-02-10T17:51:13.989Z"
      },
      {
        "duration": 29,
        "start_time": "2023-02-10T17:51:40.908Z"
      },
      {
        "duration": 153,
        "start_time": "2023-02-10T17:53:21.216Z"
      },
      {
        "duration": 30,
        "start_time": "2023-02-10T17:53:23.546Z"
      },
      {
        "duration": 1449,
        "start_time": "2023-02-10T17:54:24.745Z"
      },
      {
        "duration": 936,
        "start_time": "2023-02-10T17:54:26.197Z"
      },
      {
        "duration": 23,
        "start_time": "2023-02-10T17:54:27.134Z"
      },
      {
        "duration": 6,
        "start_time": "2023-02-10T17:54:27.160Z"
      },
      {
        "duration": 9,
        "start_time": "2023-02-10T17:54:27.169Z"
      },
      {
        "duration": 12,
        "start_time": "2023-02-10T17:54:27.194Z"
      },
      {
        "duration": 1845,
        "start_time": "2023-02-10T17:54:27.209Z"
      },
      {
        "duration": 5,
        "start_time": "2023-02-10T17:54:29.055Z"
      },
      {
        "duration": 100,
        "start_time": "2023-02-10T17:54:29.062Z"
      },
      {
        "duration": 46,
        "start_time": "2023-02-10T17:54:29.163Z"
      },
      {
        "duration": 93,
        "start_time": "2023-02-10T17:54:29.210Z"
      },
      {
        "duration": 8,
        "start_time": "2023-02-10T17:54:29.304Z"
      },
      {
        "duration": 6,
        "start_time": "2023-02-10T17:54:29.314Z"
      },
      {
        "duration": 16,
        "start_time": "2023-02-10T17:54:29.323Z"
      },
      {
        "duration": 5,
        "start_time": "2023-02-10T17:54:29.341Z"
      },
      {
        "duration": 45,
        "start_time": "2023-02-10T17:54:29.348Z"
      },
      {
        "duration": 15,
        "start_time": "2023-02-10T17:54:29.396Z"
      },
      {
        "duration": 72,
        "start_time": "2023-02-10T17:54:29.413Z"
      },
      {
        "duration": 40,
        "start_time": "2023-02-10T17:54:29.486Z"
      },
      {
        "duration": 18,
        "start_time": "2023-02-10T17:54:29.528Z"
      },
      {
        "duration": 58,
        "start_time": "2023-02-10T17:54:29.548Z"
      },
      {
        "duration": 169,
        "start_time": "2023-02-10T17:54:29.607Z"
      },
      {
        "duration": 37,
        "start_time": "2023-02-10T17:54:29.778Z"
      },
      {
        "duration": 30,
        "start_time": "2023-02-10T17:54:29.816Z"
      },
      {
        "duration": 21,
        "start_time": "2023-02-10T17:54:29.848Z"
      },
      {
        "duration": 52,
        "start_time": "2023-02-10T17:54:29.871Z"
      },
      {
        "duration": 18,
        "start_time": "2023-02-10T17:54:29.925Z"
      },
      {
        "duration": 60,
        "start_time": "2023-02-10T17:54:29.945Z"
      },
      {
        "duration": 20,
        "start_time": "2023-02-10T17:54:30.007Z"
      },
      {
        "duration": 70,
        "start_time": "2023-02-10T17:54:31.127Z"
      },
      {
        "duration": 175,
        "start_time": "2023-02-10T17:54:43.288Z"
      },
      {
        "duration": 30,
        "start_time": "2023-02-10T17:54:44.858Z"
      },
      {
        "duration": 75,
        "start_time": "2023-02-10T17:54:51.555Z"
      },
      {
        "duration": 1467,
        "start_time": "2023-02-10T17:55:36.708Z"
      },
      {
        "duration": 847,
        "start_time": "2023-02-10T17:55:38.177Z"
      },
      {
        "duration": 16,
        "start_time": "2023-02-10T17:55:39.026Z"
      },
      {
        "duration": 4,
        "start_time": "2023-02-10T17:55:39.044Z"
      },
      {
        "duration": 11,
        "start_time": "2023-02-10T17:55:39.049Z"
      },
      {
        "duration": 7,
        "start_time": "2023-02-10T17:55:39.061Z"
      },
      {
        "duration": 1819,
        "start_time": "2023-02-10T17:55:39.069Z"
      },
      {
        "duration": 6,
        "start_time": "2023-02-10T17:55:40.892Z"
      },
      {
        "duration": 99,
        "start_time": "2023-02-10T17:55:40.900Z"
      },
      {
        "duration": 28,
        "start_time": "2023-02-10T17:55:41.002Z"
      },
      {
        "duration": 86,
        "start_time": "2023-02-10T17:55:41.032Z"
      },
      {
        "duration": 5,
        "start_time": "2023-02-10T17:55:41.120Z"
      },
      {
        "duration": 6,
        "start_time": "2023-02-10T17:55:41.127Z"
      },
      {
        "duration": 16,
        "start_time": "2023-02-10T17:55:41.134Z"
      },
      {
        "duration": 6,
        "start_time": "2023-02-10T17:55:41.152Z"
      },
      {
        "duration": 49,
        "start_time": "2023-02-10T17:55:41.160Z"
      },
      {
        "duration": 9,
        "start_time": "2023-02-10T17:55:41.211Z"
      },
      {
        "duration": 78,
        "start_time": "2023-02-10T17:55:41.222Z"
      },
      {
        "duration": 43,
        "start_time": "2023-02-10T17:55:41.302Z"
      },
      {
        "duration": 31,
        "start_time": "2023-02-10T17:55:41.347Z"
      },
      {
        "duration": 39,
        "start_time": "2023-02-10T17:55:41.380Z"
      },
      {
        "duration": 168,
        "start_time": "2023-02-10T17:55:41.421Z"
      },
      {
        "duration": 54,
        "start_time": "2023-02-10T17:55:41.592Z"
      },
      {
        "duration": 50,
        "start_time": "2023-02-10T17:55:41.649Z"
      },
      {
        "duration": 37,
        "start_time": "2023-02-10T17:55:41.701Z"
      },
      {
        "duration": 29,
        "start_time": "2023-02-10T17:55:41.740Z"
      },
      {
        "duration": 20,
        "start_time": "2023-02-10T17:55:41.770Z"
      },
      {
        "duration": 43,
        "start_time": "2023-02-10T17:55:41.794Z"
      },
      {
        "duration": 18,
        "start_time": "2023-02-10T17:55:41.839Z"
      },
      {
        "duration": 79,
        "start_time": "2023-02-10T17:55:41.859Z"
      },
      {
        "duration": 5,
        "start_time": "2023-02-10T17:55:41.940Z"
      },
      {
        "duration": 22,
        "start_time": "2023-02-10T17:55:41.946Z"
      },
      {
        "duration": 38,
        "start_time": "2023-02-10T17:55:41.970Z"
      },
      {
        "duration": 31,
        "start_time": "2023-02-10T17:55:42.010Z"
      },
      {
        "duration": 1703,
        "start_time": "2023-02-10T17:55:42.042Z"
      },
      {
        "duration": 29,
        "start_time": "2023-02-10T17:55:43.747Z"
      },
      {
        "duration": 32,
        "start_time": "2023-02-10T17:55:43.778Z"
      },
      {
        "duration": 258,
        "start_time": "2023-02-10T17:55:43.812Z"
      },
      {
        "duration": 33,
        "start_time": "2023-02-10T17:55:44.071Z"
      },
      {
        "duration": 137,
        "start_time": "2023-02-10T17:55:54.756Z"
      },
      {
        "duration": 33,
        "start_time": "2023-02-10T17:55:57.306Z"
      },
      {
        "duration": 66,
        "start_time": "2023-02-10T17:56:04.349Z"
      },
      {
        "duration": 1398,
        "start_time": "2023-02-10T17:58:13.622Z"
      },
      {
        "duration": 858,
        "start_time": "2023-02-10T17:58:15.023Z"
      },
      {
        "duration": 31,
        "start_time": "2023-02-10T17:58:15.883Z"
      },
      {
        "duration": 8,
        "start_time": "2023-02-10T17:58:15.915Z"
      },
      {
        "duration": 5,
        "start_time": "2023-02-10T17:58:15.925Z"
      },
      {
        "duration": 6,
        "start_time": "2023-02-10T17:58:15.932Z"
      },
      {
        "duration": 1864,
        "start_time": "2023-02-10T17:58:15.939Z"
      },
      {
        "duration": 5,
        "start_time": "2023-02-10T17:58:17.805Z"
      },
      {
        "duration": 100,
        "start_time": "2023-02-10T17:58:17.812Z"
      },
      {
        "duration": 24,
        "start_time": "2023-02-10T17:58:17.914Z"
      },
      {
        "duration": 86,
        "start_time": "2023-02-10T17:58:17.940Z"
      },
      {
        "duration": 5,
        "start_time": "2023-02-10T17:58:18.028Z"
      },
      {
        "duration": 5,
        "start_time": "2023-02-10T17:58:18.035Z"
      },
      {
        "duration": 13,
        "start_time": "2023-02-10T17:58:18.041Z"
      },
      {
        "duration": 5,
        "start_time": "2023-02-10T17:58:18.056Z"
      },
      {
        "duration": 48,
        "start_time": "2023-02-10T17:58:18.063Z"
      },
      {
        "duration": 10,
        "start_time": "2023-02-10T17:58:18.113Z"
      },
      {
        "duration": 77,
        "start_time": "2023-02-10T17:58:18.124Z"
      },
      {
        "duration": 37,
        "start_time": "2023-02-10T17:58:18.203Z"
      },
      {
        "duration": 27,
        "start_time": "2023-02-10T17:58:18.241Z"
      },
      {
        "duration": 47,
        "start_time": "2023-02-10T17:58:18.270Z"
      },
      {
        "duration": 161,
        "start_time": "2023-02-10T17:58:18.319Z"
      },
      {
        "duration": 36,
        "start_time": "2023-02-10T17:58:18.482Z"
      },
      {
        "duration": 17,
        "start_time": "2023-02-10T17:58:18.520Z"
      },
      {
        "duration": 31,
        "start_time": "2023-02-10T17:58:18.539Z"
      },
      {
        "duration": 40,
        "start_time": "2023-02-10T17:58:18.572Z"
      },
      {
        "duration": 31,
        "start_time": "2023-02-10T17:58:18.613Z"
      },
      {
        "duration": 16,
        "start_time": "2023-02-10T17:58:18.647Z"
      },
      {
        "duration": 84,
        "start_time": "2023-02-10T17:58:18.665Z"
      },
      {
        "duration": 3,
        "start_time": "2023-02-10T17:58:18.751Z"
      },
      {
        "duration": 17,
        "start_time": "2023-02-10T17:58:18.755Z"
      },
      {
        "duration": 38,
        "start_time": "2023-02-10T17:58:18.774Z"
      },
      {
        "duration": 28,
        "start_time": "2023-02-10T17:58:18.814Z"
      },
      {
        "duration": 1612,
        "start_time": "2023-02-10T17:58:18.844Z"
      },
      {
        "duration": 34,
        "start_time": "2023-02-10T17:58:20.458Z"
      },
      {
        "duration": 25,
        "start_time": "2023-02-10T17:58:20.495Z"
      },
      {
        "duration": 243,
        "start_time": "2023-02-10T17:58:20.522Z"
      },
      {
        "duration": 33,
        "start_time": "2023-02-10T17:58:20.767Z"
      },
      {
        "duration": 156,
        "start_time": "2023-02-10T17:58:31.687Z"
      },
      {
        "duration": 67,
        "start_time": "2023-02-10T17:58:36.563Z"
      },
      {
        "duration": 1580,
        "start_time": "2023-02-10T20:49:05.037Z"
      },
      {
        "duration": 824,
        "start_time": "2023-02-10T20:49:06.620Z"
      },
      {
        "duration": 17,
        "start_time": "2023-02-10T20:49:07.446Z"
      },
      {
        "duration": 5,
        "start_time": "2023-02-10T20:49:07.465Z"
      },
      {
        "duration": 38,
        "start_time": "2023-02-10T20:49:07.472Z"
      },
      {
        "duration": 9,
        "start_time": "2023-02-10T20:49:07.511Z"
      },
      {
        "duration": 1788,
        "start_time": "2023-02-10T20:49:07.522Z"
      },
      {
        "duration": 5,
        "start_time": "2023-02-10T20:49:09.312Z"
      },
      {
        "duration": 97,
        "start_time": "2023-02-10T20:49:09.319Z"
      },
      {
        "duration": 25,
        "start_time": "2023-02-10T20:49:09.417Z"
      },
      {
        "duration": 89,
        "start_time": "2023-02-10T20:49:09.444Z"
      },
      {
        "duration": 7,
        "start_time": "2023-02-10T20:49:09.534Z"
      },
      {
        "duration": 9,
        "start_time": "2023-02-10T20:49:09.542Z"
      },
      {
        "duration": 21,
        "start_time": "2023-02-10T20:49:09.555Z"
      },
      {
        "duration": 29,
        "start_time": "2023-02-10T20:49:09.578Z"
      },
      {
        "duration": 24,
        "start_time": "2023-02-10T20:49:09.609Z"
      },
      {
        "duration": 6,
        "start_time": "2023-02-10T20:49:09.635Z"
      },
      {
        "duration": 77,
        "start_time": "2023-02-10T20:49:09.643Z"
      },
      {
        "duration": 32,
        "start_time": "2023-02-10T20:49:09.721Z"
      },
      {
        "duration": 20,
        "start_time": "2023-02-10T20:49:09.755Z"
      },
      {
        "duration": 49,
        "start_time": "2023-02-10T20:49:09.777Z"
      },
      {
        "duration": 205,
        "start_time": "2023-02-10T20:49:09.828Z"
      },
      {
        "duration": 38,
        "start_time": "2023-02-10T20:49:10.035Z"
      },
      {
        "duration": 40,
        "start_time": "2023-02-10T20:49:10.076Z"
      },
      {
        "duration": 31,
        "start_time": "2023-02-10T20:49:10.118Z"
      },
      {
        "duration": 23,
        "start_time": "2023-02-10T20:49:10.150Z"
      },
      {
        "duration": 51,
        "start_time": "2023-02-10T20:49:10.175Z"
      },
      {
        "duration": 27,
        "start_time": "2023-02-10T20:49:10.228Z"
      },
      {
        "duration": 74,
        "start_time": "2023-02-10T20:49:16.338Z"
      },
      {
        "duration": 173,
        "start_time": "2023-02-10T20:49:24.106Z"
      },
      {
        "duration": 1779,
        "start_time": "2023-02-11T05:46:58.760Z"
      },
      {
        "duration": 1134,
        "start_time": "2023-02-11T05:47:00.541Z"
      },
      {
        "duration": 18,
        "start_time": "2023-02-11T05:47:01.677Z"
      },
      {
        "duration": 4,
        "start_time": "2023-02-11T05:47:01.697Z"
      },
      {
        "duration": 22,
        "start_time": "2023-02-11T05:47:01.704Z"
      },
      {
        "duration": 16,
        "start_time": "2023-02-11T05:47:01.728Z"
      },
      {
        "duration": 1938,
        "start_time": "2023-02-11T05:47:01.746Z"
      },
      {
        "duration": 5,
        "start_time": "2023-02-11T05:47:03.686Z"
      },
      {
        "duration": 99,
        "start_time": "2023-02-11T05:47:03.693Z"
      },
      {
        "duration": 29,
        "start_time": "2023-02-11T05:47:03.794Z"
      },
      {
        "duration": 79,
        "start_time": "2023-02-11T05:47:03.841Z"
      },
      {
        "duration": 20,
        "start_time": "2023-02-11T05:47:03.922Z"
      },
      {
        "duration": 5,
        "start_time": "2023-02-11T05:47:03.944Z"
      },
      {
        "duration": 16,
        "start_time": "2023-02-11T05:47:03.953Z"
      },
      {
        "duration": 6,
        "start_time": "2023-02-11T05:47:03.970Z"
      },
      {
        "duration": 22,
        "start_time": "2023-02-11T05:47:03.978Z"
      },
      {
        "duration": 8,
        "start_time": "2023-02-11T05:47:04.002Z"
      },
      {
        "duration": 115,
        "start_time": "2023-02-11T05:47:04.013Z"
      },
      {
        "duration": 42,
        "start_time": "2023-02-11T05:47:04.130Z"
      },
      {
        "duration": 22,
        "start_time": "2023-02-11T05:47:04.175Z"
      },
      {
        "duration": 56,
        "start_time": "2023-02-11T05:47:04.199Z"
      },
      {
        "duration": 53,
        "start_time": "2023-02-11T05:47:08.468Z"
      },
      {
        "duration": 1448,
        "start_time": "2023-02-11T05:47:22.750Z"
      },
      {
        "duration": 812,
        "start_time": "2023-02-11T05:47:24.200Z"
      },
      {
        "duration": 26,
        "start_time": "2023-02-11T05:47:25.014Z"
      },
      {
        "duration": 5,
        "start_time": "2023-02-11T05:47:25.042Z"
      },
      {
        "duration": 12,
        "start_time": "2023-02-11T05:47:25.049Z"
      },
      {
        "duration": 18,
        "start_time": "2023-02-11T05:47:25.062Z"
      },
      {
        "duration": 1923,
        "start_time": "2023-02-11T05:47:25.082Z"
      },
      {
        "duration": 6,
        "start_time": "2023-02-11T05:47:27.007Z"
      },
      {
        "duration": 102,
        "start_time": "2023-02-11T05:47:27.015Z"
      },
      {
        "duration": 50,
        "start_time": "2023-02-11T05:47:27.120Z"
      },
      {
        "duration": 89,
        "start_time": "2023-02-11T05:47:27.172Z"
      },
      {
        "duration": 7,
        "start_time": "2023-02-11T05:47:27.263Z"
      },
      {
        "duration": 5,
        "start_time": "2023-02-11T05:47:27.272Z"
      },
      {
        "duration": 16,
        "start_time": "2023-02-11T05:47:27.280Z"
      },
      {
        "duration": 7,
        "start_time": "2023-02-11T05:47:27.298Z"
      },
      {
        "duration": 49,
        "start_time": "2023-02-11T05:47:27.306Z"
      },
      {
        "duration": 12,
        "start_time": "2023-02-11T05:47:27.357Z"
      },
      {
        "duration": 111,
        "start_time": "2023-02-11T05:47:27.371Z"
      },
      {
        "duration": 35,
        "start_time": "2023-02-11T05:47:27.484Z"
      },
      {
        "duration": 42,
        "start_time": "2023-02-11T05:47:27.521Z"
      },
      {
        "duration": 49,
        "start_time": "2023-02-11T05:47:27.565Z"
      },
      {
        "duration": 66,
        "start_time": "2023-02-11T05:47:27.617Z"
      },
      {
        "duration": 39,
        "start_time": "2023-02-11T05:47:27.685Z"
      },
      {
        "duration": 34,
        "start_time": "2023-02-11T05:47:27.725Z"
      },
      {
        "duration": 48,
        "start_time": "2023-02-11T05:47:27.761Z"
      },
      {
        "duration": 26,
        "start_time": "2023-02-11T05:47:27.810Z"
      },
      {
        "duration": 36,
        "start_time": "2023-02-11T05:47:27.840Z"
      },
      {
        "duration": 23,
        "start_time": "2023-02-11T05:47:27.878Z"
      },
      {
        "duration": 101,
        "start_time": "2023-02-11T05:47:27.903Z"
      },
      {
        "duration": 5,
        "start_time": "2023-02-11T05:47:28.007Z"
      },
      {
        "duration": 31,
        "start_time": "2023-02-11T05:47:28.014Z"
      },
      {
        "duration": 25,
        "start_time": "2023-02-11T05:47:28.046Z"
      },
      {
        "duration": 32,
        "start_time": "2023-02-11T05:47:28.073Z"
      },
      {
        "duration": 1787,
        "start_time": "2023-02-11T05:47:28.106Z"
      },
      {
        "duration": 24,
        "start_time": "2023-02-11T05:47:29.895Z"
      },
      {
        "duration": 28,
        "start_time": "2023-02-11T05:47:29.921Z"
      },
      {
        "duration": 380,
        "start_time": "2023-02-11T05:47:29.951Z"
      },
      {
        "duration": 24,
        "start_time": "2023-02-11T05:47:30.332Z"
      },
      {
        "duration": 4,
        "start_time": "2023-02-11T05:52:24.371Z"
      },
      {
        "duration": 5,
        "start_time": "2023-02-11T05:52:29.047Z"
      },
      {
        "duration": 5,
        "start_time": "2023-02-11T05:55:58.854Z"
      },
      {
        "duration": 9,
        "start_time": "2023-02-11T05:56:00.480Z"
      },
      {
        "duration": 64,
        "start_time": "2023-02-11T05:57:50.893Z"
      },
      {
        "duration": 5,
        "start_time": "2023-02-11T05:58:03.707Z"
      },
      {
        "duration": 18,
        "start_time": "2023-02-11T05:58:12.176Z"
      },
      {
        "duration": 273,
        "start_time": "2023-02-11T06:01:51.326Z"
      },
      {
        "duration": 5,
        "start_time": "2023-02-11T06:02:09.295Z"
      },
      {
        "duration": 1230,
        "start_time": "2023-02-11T06:02:21.672Z"
      },
      {
        "duration": 1319,
        "start_time": "2023-02-11T06:02:39.872Z"
      },
      {
        "duration": 51,
        "start_time": "2023-02-11T06:03:33.203Z"
      },
      {
        "duration": 6,
        "start_time": "2023-02-11T06:05:12.220Z"
      },
      {
        "duration": 11,
        "start_time": "2023-02-11T06:09:20.337Z"
      },
      {
        "duration": 11,
        "start_time": "2023-02-11T06:09:26.242Z"
      },
      {
        "duration": 100,
        "start_time": "2023-02-11T06:10:14.364Z"
      },
      {
        "duration": 11,
        "start_time": "2023-02-11T06:10:22.437Z"
      },
      {
        "duration": 26,
        "start_time": "2023-02-11T06:11:15.038Z"
      },
      {
        "duration": 18,
        "start_time": "2023-02-11T06:11:31.535Z"
      },
      {
        "duration": 22,
        "start_time": "2023-02-11T06:12:11.867Z"
      },
      {
        "duration": 653,
        "start_time": "2023-02-11T06:13:28.720Z"
      },
      {
        "duration": 163,
        "start_time": "2023-02-11T06:13:37.200Z"
      },
      {
        "duration": 227,
        "start_time": "2023-02-11T06:13:45.827Z"
      },
      {
        "duration": 205,
        "start_time": "2023-02-11T06:14:02.747Z"
      },
      {
        "duration": 199,
        "start_time": "2023-02-11T06:14:16.741Z"
      },
      {
        "duration": 207,
        "start_time": "2023-02-11T06:14:22.937Z"
      },
      {
        "duration": 197,
        "start_time": "2023-02-11T06:14:59.811Z"
      },
      {
        "duration": 209,
        "start_time": "2023-02-11T06:15:09.469Z"
      },
      {
        "duration": 28,
        "start_time": "2023-02-11T06:16:47.314Z"
      },
      {
        "duration": 39,
        "start_time": "2023-02-11T06:16:54.624Z"
      },
      {
        "duration": 31,
        "start_time": "2023-02-11T06:16:58.852Z"
      },
      {
        "duration": 100,
        "start_time": "2023-02-11T06:29:19.006Z"
      },
      {
        "duration": 65,
        "start_time": "2023-02-11T06:30:04.572Z"
      },
      {
        "duration": 5,
        "start_time": "2023-02-11T06:30:55.526Z"
      },
      {
        "duration": 12,
        "start_time": "2023-02-11T06:31:09.154Z"
      },
      {
        "duration": 28,
        "start_time": "2023-02-11T06:31:21.876Z"
      },
      {
        "duration": 4,
        "start_time": "2023-02-11T06:31:24.600Z"
      },
      {
        "duration": 27,
        "start_time": "2023-02-11T06:31:29.189Z"
      },
      {
        "duration": 4,
        "start_time": "2023-02-11T06:31:31.938Z"
      },
      {
        "duration": 12,
        "start_time": "2023-02-11T06:31:39.332Z"
      },
      {
        "duration": 46,
        "start_time": "2023-02-11T06:32:03.502Z"
      },
      {
        "duration": 45,
        "start_time": "2023-02-11T06:32:14.625Z"
      },
      {
        "duration": 5,
        "start_time": "2023-02-11T06:32:19.165Z"
      },
      {
        "duration": 1571,
        "start_time": "2023-02-11T06:33:41.059Z"
      },
      {
        "duration": 860,
        "start_time": "2023-02-11T06:33:42.632Z"
      },
      {
        "duration": 19,
        "start_time": "2023-02-11T06:33:43.494Z"
      },
      {
        "duration": 6,
        "start_time": "2023-02-11T06:33:43.516Z"
      },
      {
        "duration": 5,
        "start_time": "2023-02-11T06:33:43.541Z"
      },
      {
        "duration": 9,
        "start_time": "2023-02-11T06:33:43.548Z"
      },
      {
        "duration": 1943,
        "start_time": "2023-02-11T06:33:43.560Z"
      },
      {
        "duration": 5,
        "start_time": "2023-02-11T06:33:45.506Z"
      },
      {
        "duration": 91,
        "start_time": "2023-02-11T06:33:45.513Z"
      },
      {
        "duration": 35,
        "start_time": "2023-02-11T06:33:45.608Z"
      },
      {
        "duration": 75,
        "start_time": "2023-02-11T06:33:45.645Z"
      },
      {
        "duration": 19,
        "start_time": "2023-02-11T06:33:45.722Z"
      },
      {
        "duration": 5,
        "start_time": "2023-02-11T06:33:45.743Z"
      },
      {
        "duration": 18,
        "start_time": "2023-02-11T06:33:45.750Z"
      },
      {
        "duration": 12,
        "start_time": "2023-02-11T06:33:45.770Z"
      },
      {
        "duration": 25,
        "start_time": "2023-02-11T06:33:45.784Z"
      },
      {
        "duration": 5,
        "start_time": "2023-02-11T06:33:45.811Z"
      },
      {
        "duration": 99,
        "start_time": "2023-02-11T06:33:45.841Z"
      },
      {
        "duration": 34,
        "start_time": "2023-02-11T06:33:45.942Z"
      },
      {
        "duration": 23,
        "start_time": "2023-02-11T06:33:45.978Z"
      },
      {
        "duration": 63,
        "start_time": "2023-02-11T06:33:46.003Z"
      },
      {
        "duration": 62,
        "start_time": "2023-02-11T06:33:46.068Z"
      },
      {
        "duration": 38,
        "start_time": "2023-02-11T06:33:46.139Z"
      },
      {
        "duration": 29,
        "start_time": "2023-02-11T06:33:46.178Z"
      },
      {
        "duration": 55,
        "start_time": "2023-02-11T06:33:46.209Z"
      },
      {
        "duration": 36,
        "start_time": "2023-02-11T06:33:46.266Z"
      },
      {
        "duration": 73,
        "start_time": "2023-02-11T06:33:46.304Z"
      },
      {
        "duration": 23,
        "start_time": "2023-02-11T06:33:46.380Z"
      },
      {
        "duration": 125,
        "start_time": "2023-02-11T06:33:46.405Z"
      },
      {
        "duration": 9,
        "start_time": "2023-02-11T06:33:46.532Z"
      },
      {
        "duration": 19,
        "start_time": "2023-02-11T06:33:46.543Z"
      },
      {
        "duration": 48,
        "start_time": "2023-02-11T06:33:46.565Z"
      },
      {
        "duration": 50,
        "start_time": "2023-02-11T06:33:46.615Z"
      },
      {
        "duration": 1816,
        "start_time": "2023-02-11T06:33:46.667Z"
      },
      {
        "duration": 35,
        "start_time": "2023-02-11T06:33:48.484Z"
      },
      {
        "duration": 38,
        "start_time": "2023-02-11T06:33:48.521Z"
      },
      {
        "duration": 282,
        "start_time": "2023-02-11T06:33:48.561Z"
      },
      {
        "duration": 28,
        "start_time": "2023-02-11T06:33:48.846Z"
      },
      {
        "duration": 30,
        "start_time": "2023-02-11T06:33:48.879Z"
      },
      {
        "duration": 48,
        "start_time": "2023-02-11T06:33:48.912Z"
      },
      {
        "duration": 45,
        "start_time": "2023-02-11T06:33:48.962Z"
      },
      {
        "duration": 290,
        "start_time": "2023-02-11T06:33:49.010Z"
      },
      {
        "duration": 21,
        "start_time": "2023-02-11T06:33:49.302Z"
      },
      {
        "duration": 146,
        "start_time": "2023-02-11T06:33:50.939Z"
      },
      {
        "duration": 37,
        "start_time": "2023-02-11T06:34:02.426Z"
      },
      {
        "duration": 5,
        "start_time": "2023-02-11T06:34:18.454Z"
      },
      {
        "duration": 79,
        "start_time": "2023-02-11T06:34:19.772Z"
      },
      {
        "duration": 12,
        "start_time": "2023-02-11T06:36:09.912Z"
      },
      {
        "duration": 326,
        "start_time": "2023-02-11T06:36:16.399Z"
      },
      {
        "duration": 729,
        "start_time": "2023-02-11T06:36:59.055Z"
      },
      {
        "duration": 9,
        "start_time": "2023-02-11T06:37:09.945Z"
      },
      {
        "duration": 607,
        "start_time": "2023-02-11T06:39:16.100Z"
      },
      {
        "duration": 712,
        "start_time": "2023-02-11T06:39:23.888Z"
      },
      {
        "duration": 8,
        "start_time": "2023-02-11T06:39:25.656Z"
      },
      {
        "duration": 5,
        "start_time": "2023-02-11T06:41:05.907Z"
      },
      {
        "duration": 7,
        "start_time": "2023-02-11T06:41:47.986Z"
      },
      {
        "duration": 10,
        "start_time": "2023-02-11T06:42:02.920Z"
      },
      {
        "duration": 6,
        "start_time": "2023-02-11T06:42:12.246Z"
      },
      {
        "duration": 6,
        "start_time": "2023-02-11T06:42:21.697Z"
      },
      {
        "duration": 14,
        "start_time": "2023-02-11T06:44:10.467Z"
      },
      {
        "duration": 11,
        "start_time": "2023-02-11T06:44:16.575Z"
      },
      {
        "duration": 4,
        "start_time": "2023-02-11T06:44:21.601Z"
      },
      {
        "duration": 10,
        "start_time": "2023-02-11T06:46:07.087Z"
      },
      {
        "duration": 10,
        "start_time": "2023-02-11T06:46:09.248Z"
      },
      {
        "duration": 9,
        "start_time": "2023-02-11T06:47:34.862Z"
      },
      {
        "duration": 10,
        "start_time": "2023-02-11T06:47:38.579Z"
      },
      {
        "duration": 11,
        "start_time": "2023-02-11T06:47:52.467Z"
      },
      {
        "duration": 2156,
        "start_time": "2023-02-11T06:48:36.909Z"
      },
      {
        "duration": 770,
        "start_time": "2023-02-11T06:48:48.861Z"
      },
      {
        "duration": 3,
        "start_time": "2023-02-11T06:48:53.208Z"
      },
      {
        "duration": 6,
        "start_time": "2023-02-11T06:49:05.414Z"
      },
      {
        "duration": 5,
        "start_time": "2023-02-11T06:49:24.358Z"
      },
      {
        "duration": 5,
        "start_time": "2023-02-11T06:49:38.438Z"
      },
      {
        "duration": 2060,
        "start_time": "2023-02-11T06:49:40.255Z"
      },
      {
        "duration": 322326,
        "start_time": "2023-02-11T06:49:57.502Z"
      },
      {
        "duration": 12,
        "start_time": "2023-02-11T06:56:56.577Z"
      },
      {
        "duration": 8,
        "start_time": "2023-02-11T06:57:01.790Z"
      },
      {
        "duration": 10,
        "start_time": "2023-02-11T06:59:55.882Z"
      },
      {
        "duration": 10,
        "start_time": "2023-02-11T06:59:58.810Z"
      },
      {
        "duration": 7,
        "start_time": "2023-02-11T07:00:05.518Z"
      },
      {
        "duration": 12,
        "start_time": "2023-02-11T07:29:10.818Z"
      },
      {
        "duration": 5,
        "start_time": "2023-02-11T07:29:22.709Z"
      },
      {
        "duration": 10,
        "start_time": "2023-02-11T07:30:47.291Z"
      },
      {
        "duration": 5,
        "start_time": "2023-02-11T07:30:50.697Z"
      },
      {
        "duration": 4,
        "start_time": "2023-02-11T07:31:05.791Z"
      },
      {
        "duration": 5,
        "start_time": "2023-02-11T07:31:18.489Z"
      },
      {
        "duration": 4,
        "start_time": "2023-02-11T07:33:03.836Z"
      },
      {
        "duration": 49,
        "start_time": "2023-02-11T07:33:13.180Z"
      },
      {
        "duration": 126,
        "start_time": "2023-02-11T07:33:38.719Z"
      },
      {
        "duration": 16,
        "start_time": "2023-02-11T07:33:49.794Z"
      },
      {
        "duration": 18,
        "start_time": "2023-02-11T07:34:08.221Z"
      },
      {
        "duration": 56,
        "start_time": "2023-02-11T07:34:23.120Z"
      },
      {
        "duration": 105,
        "start_time": "2023-02-11T07:34:42.189Z"
      },
      {
        "duration": 62,
        "start_time": "2023-02-11T07:35:09.153Z"
      },
      {
        "duration": 86,
        "start_time": "2023-02-11T07:36:52.177Z"
      },
      {
        "duration": 6,
        "start_time": "2023-02-11T07:37:13.578Z"
      },
      {
        "duration": 17,
        "start_time": "2023-02-11T07:37:37.700Z"
      },
      {
        "duration": 8,
        "start_time": "2023-02-11T07:37:45.209Z"
      },
      {
        "duration": 8,
        "start_time": "2023-02-11T07:38:08.000Z"
      },
      {
        "duration": 341409,
        "start_time": "2023-02-11T07:38:42.590Z"
      },
      {
        "duration": 6,
        "start_time": "2023-02-11T07:44:24.001Z"
      },
      {
        "duration": 530468,
        "start_time": "2023-02-11T07:50:36.936Z"
      },
      {
        "duration": 16,
        "start_time": "2023-02-11T08:58:52.668Z"
      },
      {
        "duration": 5,
        "start_time": "2023-02-11T08:58:58.120Z"
      },
      {
        "duration": 13,
        "start_time": "2023-02-11T08:59:00.910Z"
      },
      {
        "duration": 8,
        "start_time": "2023-02-11T09:00:00.999Z"
      },
      {
        "duration": 8,
        "start_time": "2023-02-11T09:00:30.790Z"
      },
      {
        "duration": 8,
        "start_time": "2023-02-11T09:00:36.689Z"
      },
      {
        "duration": 8,
        "start_time": "2023-02-11T09:00:47.170Z"
      },
      {
        "duration": 8,
        "start_time": "2023-02-11T09:01:00.210Z"
      },
      {
        "duration": 13,
        "start_time": "2023-02-11T09:01:03.430Z"
      },
      {
        "duration": 15,
        "start_time": "2023-02-11T09:08:52.466Z"
      },
      {
        "duration": 6,
        "start_time": "2023-02-11T09:09:21.766Z"
      },
      {
        "duration": 3,
        "start_time": "2023-02-11T09:09:28.106Z"
      },
      {
        "duration": 4,
        "start_time": "2023-02-11T09:10:07.173Z"
      },
      {
        "duration": 72351,
        "start_time": "2023-02-11T09:10:36.808Z"
      },
      {
        "duration": 627135,
        "start_time": "2023-02-11T09:11:51.831Z"
      },
      {
        "duration": 3,
        "start_time": "2023-02-11T09:23:37.474Z"
      },
      {
        "duration": 1450261,
        "start_time": "2023-02-11T09:23:39.214Z"
      },
      {
        "duration": 4,
        "start_time": "2023-02-11T09:47:56.921Z"
      },
      {
        "duration": 4,
        "start_time": "2023-02-12T10:20:42.867Z"
      },
      {
        "duration": 18,
        "start_time": "2023-02-12T10:20:42.872Z"
      },
      {
        "duration": 8,
        "start_time": "2023-02-12T10:20:42.891Z"
      },
      {
        "duration": 13,
        "start_time": "2023-02-12T10:20:42.901Z"
      },
      {
        "duration": 5,
        "start_time": "2023-02-12T10:20:42.916Z"
      },
      {
        "duration": 3341,
        "start_time": "2023-02-12T10:20:42.985Z"
      },
      {
        "duration": 949,
        "start_time": "2023-02-12T10:20:46.328Z"
      },
      {
        "duration": 18,
        "start_time": "2023-02-12T10:20:47.278Z"
      },
      {
        "duration": 12,
        "start_time": "2023-02-12T10:20:47.298Z"
      },
      {
        "duration": 23,
        "start_time": "2023-02-12T10:20:47.312Z"
      },
      {
        "duration": 25,
        "start_time": "2023-02-12T10:20:47.337Z"
      },
      {
        "duration": 2032,
        "start_time": "2023-02-12T10:20:47.364Z"
      },
      {
        "duration": 5,
        "start_time": "2023-02-12T10:20:49.397Z"
      },
      {
        "duration": 835,
        "start_time": "2023-02-12T10:20:49.404Z"
      },
      {
        "duration": 374,
        "start_time": "2023-02-12T10:20:50.243Z"
      },
      {
        "duration": 774,
        "start_time": "2023-02-12T10:20:50.619Z"
      },
      {
        "duration": 28,
        "start_time": "2023-02-12T10:20:51.395Z"
      },
      {
        "duration": 29,
        "start_time": "2023-02-12T10:20:51.425Z"
      },
      {
        "duration": 44,
        "start_time": "2023-02-12T10:20:51.456Z"
      },
      {
        "duration": 39,
        "start_time": "2023-02-12T10:20:51.502Z"
      },
      {
        "duration": 25,
        "start_time": "2023-02-12T10:20:51.551Z"
      },
      {
        "duration": 3,
        "start_time": "2023-02-12T10:20:51.579Z"
      },
      {
        "duration": 122,
        "start_time": "2023-02-12T10:20:51.584Z"
      },
      {
        "duration": 56,
        "start_time": "2023-02-12T10:20:51.709Z"
      },
      {
        "duration": 26,
        "start_time": "2023-02-12T10:20:51.767Z"
      },
      {
        "duration": 63,
        "start_time": "2023-02-12T10:20:51.795Z"
      },
      {
        "duration": 203,
        "start_time": "2023-02-12T10:20:51.861Z"
      },
      {
        "duration": 37,
        "start_time": "2023-02-12T10:20:52.066Z"
      },
      {
        "duration": 65,
        "start_time": "2023-02-12T10:20:52.105Z"
      },
      {
        "duration": 3,
        "start_time": "2023-02-12T10:21:11.133Z"
      },
      {
        "duration": 15,
        "start_time": "2023-02-12T10:21:11.141Z"
      },
      {
        "duration": 8,
        "start_time": "2023-02-12T10:21:11.158Z"
      },
      {
        "duration": 10,
        "start_time": "2023-02-12T10:21:11.167Z"
      },
      {
        "duration": 10,
        "start_time": "2023-02-12T10:21:11.179Z"
      },
      {
        "duration": 5,
        "start_time": "2023-02-12T10:21:11.235Z"
      },
      {
        "duration": 904,
        "start_time": "2023-02-12T10:21:11.255Z"
      },
      {
        "duration": 14,
        "start_time": "2023-02-12T10:21:12.161Z"
      },
      {
        "duration": 13,
        "start_time": "2023-02-12T10:21:12.177Z"
      },
      {
        "duration": 10,
        "start_time": "2023-02-12T10:21:12.192Z"
      },
      {
        "duration": 8,
        "start_time": "2023-02-12T10:21:12.204Z"
      },
      {
        "duration": 1803,
        "start_time": "2023-02-12T10:21:12.214Z"
      },
      {
        "duration": 5,
        "start_time": "2023-02-12T10:21:14.019Z"
      },
      {
        "duration": 809,
        "start_time": "2023-02-12T10:21:14.026Z"
      },
      {
        "duration": 334,
        "start_time": "2023-02-12T10:21:14.843Z"
      },
      {
        "duration": 736,
        "start_time": "2023-02-12T10:21:15.179Z"
      },
      {
        "duration": 42,
        "start_time": "2023-02-12T10:21:15.916Z"
      },
      {
        "duration": 6,
        "start_time": "2023-02-12T10:21:15.960Z"
      },
      {
        "duration": 17,
        "start_time": "2023-02-12T10:21:15.968Z"
      },
      {
        "duration": 7,
        "start_time": "2023-02-12T10:21:15.988Z"
      },
      {
        "duration": 45,
        "start_time": "2023-02-12T10:21:15.996Z"
      },
      {
        "duration": 6,
        "start_time": "2023-02-12T10:21:16.049Z"
      },
      {
        "duration": 124,
        "start_time": "2023-02-12T10:21:16.057Z"
      },
      {
        "duration": 35,
        "start_time": "2023-02-12T10:21:16.183Z"
      },
      {
        "duration": 87,
        "start_time": "2023-02-12T10:21:16.221Z"
      },
      {
        "duration": 47,
        "start_time": "2023-02-12T10:21:16.310Z"
      },
      {
        "duration": 174,
        "start_time": "2023-02-12T10:21:16.359Z"
      },
      {
        "duration": 53,
        "start_time": "2023-02-12T10:21:16.535Z"
      },
      {
        "duration": 69,
        "start_time": "2023-02-12T10:21:16.590Z"
      },
      {
        "duration": 19,
        "start_time": "2023-02-12T10:21:25.517Z"
      },
      {
        "duration": 176,
        "start_time": "2023-02-12T10:21:34.053Z"
      },
      {
        "duration": 18,
        "start_time": "2023-02-12T10:21:34.271Z"
      },
      {
        "duration": 29,
        "start_time": "2023-02-12T10:21:40.356Z"
      },
      {
        "duration": 2,
        "start_time": "2023-02-12T10:21:42.708Z"
      },
      {
        "duration": 12,
        "start_time": "2023-02-12T10:21:42.713Z"
      },
      {
        "duration": 4,
        "start_time": "2023-02-12T10:21:42.728Z"
      },
      {
        "duration": 20,
        "start_time": "2023-02-12T10:21:42.735Z"
      },
      {
        "duration": 4,
        "start_time": "2023-02-12T10:21:42.760Z"
      },
      {
        "duration": 7,
        "start_time": "2023-02-12T10:21:42.826Z"
      },
      {
        "duration": 1041,
        "start_time": "2023-02-12T10:21:42.857Z"
      },
      {
        "duration": 15,
        "start_time": "2023-02-12T10:21:43.901Z"
      },
      {
        "duration": 8,
        "start_time": "2023-02-12T10:21:43.918Z"
      },
      {
        "duration": 35,
        "start_time": "2023-02-12T10:21:43.927Z"
      },
      {
        "duration": 9,
        "start_time": "2023-02-12T10:21:43.964Z"
      },
      {
        "duration": 1851,
        "start_time": "2023-02-12T10:21:43.975Z"
      },
      {
        "duration": 5,
        "start_time": "2023-02-12T10:21:45.828Z"
      },
      {
        "duration": 909,
        "start_time": "2023-02-12T10:21:45.839Z"
      },
      {
        "duration": 381,
        "start_time": "2023-02-12T10:21:46.750Z"
      },
      {
        "duration": 800,
        "start_time": "2023-02-12T10:21:47.140Z"
      },
      {
        "duration": 30,
        "start_time": "2023-02-12T10:21:47.945Z"
      },
      {
        "duration": 6,
        "start_time": "2023-02-12T10:21:47.978Z"
      },
      {
        "duration": 12,
        "start_time": "2023-02-12T10:21:47.985Z"
      },
      {
        "duration": 8,
        "start_time": "2023-02-12T10:21:47.999Z"
      },
      {
        "duration": 53,
        "start_time": "2023-02-12T10:21:48.009Z"
      },
      {
        "duration": 3,
        "start_time": "2023-02-12T10:21:48.066Z"
      },
      {
        "duration": 139,
        "start_time": "2023-02-12T10:21:48.071Z"
      },
      {
        "duration": 80,
        "start_time": "2023-02-12T10:21:48.213Z"
      },
      {
        "duration": 36,
        "start_time": "2023-02-12T10:21:48.295Z"
      },
      {
        "duration": 53,
        "start_time": "2023-02-12T10:21:48.333Z"
      },
      {
        "duration": 39,
        "start_time": "2023-02-12T10:21:48.388Z"
      },
      {
        "duration": 190,
        "start_time": "2023-02-12T10:21:48.429Z"
      },
      {
        "duration": 31,
        "start_time": "2023-02-12T10:21:48.621Z"
      },
      {
        "duration": 3,
        "start_time": "2023-02-12T10:23:13.963Z"
      },
      {
        "duration": 9,
        "start_time": "2023-02-12T10:23:13.969Z"
      },
      {
        "duration": 5,
        "start_time": "2023-02-12T10:23:13.980Z"
      },
      {
        "duration": 5,
        "start_time": "2023-02-12T10:23:13.987Z"
      },
      {
        "duration": 5,
        "start_time": "2023-02-12T10:23:13.993Z"
      },
      {
        "duration": 3118,
        "start_time": "2023-02-12T10:23:14.000Z"
      },
      {
        "duration": 935,
        "start_time": "2023-02-12T10:23:17.120Z"
      },
      {
        "duration": 18,
        "start_time": "2023-02-12T10:23:18.057Z"
      },
      {
        "duration": 6,
        "start_time": "2023-02-12T10:23:18.077Z"
      },
      {
        "duration": 8,
        "start_time": "2023-02-12T10:23:18.086Z"
      },
      {
        "duration": 9,
        "start_time": "2023-02-12T10:23:18.095Z"
      },
      {
        "duration": 2123,
        "start_time": "2023-02-12T10:23:18.106Z"
      },
      {
        "duration": 20,
        "start_time": "2023-02-12T10:23:20.239Z"
      },
      {
        "duration": 820,
        "start_time": "2023-02-12T10:23:20.261Z"
      },
      {
        "duration": 346,
        "start_time": "2023-02-12T10:23:21.082Z"
      },
      {
        "duration": 800,
        "start_time": "2023-02-12T10:23:21.430Z"
      },
      {
        "duration": 35,
        "start_time": "2023-02-12T10:23:22.243Z"
      },
      {
        "duration": 6,
        "start_time": "2023-02-12T10:23:22.280Z"
      },
      {
        "duration": 14,
        "start_time": "2023-02-12T10:23:22.288Z"
      },
      {
        "duration": 6,
        "start_time": "2023-02-12T10:23:22.304Z"
      },
      {
        "duration": 56,
        "start_time": "2023-02-12T10:23:22.311Z"
      },
      {
        "duration": 2,
        "start_time": "2023-02-12T10:23:22.369Z"
      },
      {
        "duration": 101,
        "start_time": "2023-02-12T10:23:22.373Z"
      },
      {
        "duration": 35,
        "start_time": "2023-02-12T10:23:22.476Z"
      },
      {
        "duration": 47,
        "start_time": "2023-02-12T10:23:22.513Z"
      },
      {
        "duration": 36,
        "start_time": "2023-02-12T10:23:22.562Z"
      },
      {
        "duration": 77,
        "start_time": "2023-02-12T10:23:22.600Z"
      }
    ],
    "kernelspec": {
      "display_name": "Python 3 (ipykernel)",
      "language": "python",
      "name": "python3"
    },
    "language_info": {
      "codemirror_mode": {
        "name": "ipython",
        "version": 3
      },
      "file_extension": ".py",
      "mimetype": "text/x-python",
      "name": "python",
      "nbconvert_exporter": "python",
      "pygments_lexer": "ipython3",
      "version": "3.9.5"
    },
    "toc": {
      "base_numbering": 1,
      "nav_menu": {},
      "number_sections": false,
      "sideBar": true,
      "skip_h1_title": true,
      "title_cell": "Table of Contents",
      "title_sidebar": "Contents",
      "toc_cell": false,
      "toc_position": {},
      "toc_section_display": true,
      "toc_window_display": true
    },
    "vscode": {
      "interpreter": {
        "hash": "df413b1bed66f65635d829fcac84c91d808d17ddedba90911ca9dfbeca808805"
      }
    },
    "colab": {
      "provenance": []
    }
  },
  "nbformat": 4,
  "nbformat_minor": 0
}