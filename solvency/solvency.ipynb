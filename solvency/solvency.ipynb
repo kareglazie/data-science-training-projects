{
  "cells": [
    {
      "cell_type": "markdown",
      "id": "48217a33",
      "metadata": {
        "deletable": false,
        "editable": false,
        "id": "48217a33"
      },
      "source": [
        "# Исследование надежности заемщиков\n"
      ]
    },
    {
      "cell_type": "markdown",
      "source": [
        "**Цель исследования**\n",
        "\n",
        "1. Провести предобработку данных, сформировать новые категории на основе имеющихся данных\n",
        "\n",
        "2. Ответить на вопросы (на основе сводной таблицы):\n",
        "\n",
        "- Есть ли зависимость между количеством детей и возвратом кредита в срок?\n",
        "- Есть ли зависимость между семейным положением и возвратом кредита в срок?\n",
        "- Есть ли зависимость между уровнем дохода и возвратом кредита в срок?\n",
        "- Как разные цели кредита влияют на его возврат в срок?"
      ],
      "metadata": {
        "id": "roC82Q-3p3zA"
      },
      "id": "roC82Q-3p3zA"
    },
    {
      "cell_type": "markdown",
      "id": "81fd4221",
      "metadata": {
        "deletable": false,
        "editable": false,
        "id": "81fd4221"
      },
      "source": [
        "## Обзор данных"
      ]
    },
    {
      "cell_type": "code",
      "execution_count": 1,
      "id": "9f21f19f",
      "metadata": {
        "deletable": false,
        "id": "9f21f19f"
      },
      "outputs": [],
      "source": [
        "import pandas as pd\n",
        "import warnings\n",
        "warnings.filterwarnings('ignore')\n"
      ]
    },
    {
      "cell_type": "code",
      "source": [
        "try:\n",
        "    data = pd.read_csv('/datasets/data.csv')\n",
        "except:\n",
        "    data = pd.read_csv('/content/data.csv')"
      ],
      "metadata": {
        "id": "J755HIkmmqJO"
      },
      "id": "J755HIkmmqJO",
      "execution_count": 3,
      "outputs": []
    },
    {
      "cell_type": "markdown",
      "source": [
        "Выведем первые 20 строк датафрейма."
      ],
      "metadata": {
        "id": "yStRkR67nAih"
      },
      "id": "yStRkR67nAih"
    },
    {
      "cell_type": "code",
      "execution_count": 4,
      "id": "997d6b76",
      "metadata": {
        "deletable": false,
        "id": "997d6b76",
        "outputId": "897752c6-5e02-41e9-8fea-09f081ddd213",
        "colab": {
          "base_uri": "https://localhost:8080/",
          "height": 1000
        }
      },
      "outputs": [
        {
          "output_type": "execute_result",
          "data": {
            "text/plain": [
              "    children  days_employed  dob_years            education  education_id  \\\n",
              "0          1   -8437.673028         42               высшее             0   \n",
              "1          1   -4024.803754         36              среднее             1   \n",
              "2          0   -5623.422610         33              Среднее             1   \n",
              "3          3   -4124.747207         32              среднее             1   \n",
              "4          0  340266.072047         53              среднее             1   \n",
              "5          0    -926.185831         27               высшее             0   \n",
              "6          0   -2879.202052         43               высшее             0   \n",
              "7          0    -152.779569         50              СРЕДНЕЕ             1   \n",
              "8          2   -6929.865299         35               ВЫСШЕЕ             0   \n",
              "9          0   -2188.756445         41              среднее             1   \n",
              "10         2   -4171.483647         36               высшее             0   \n",
              "11         0    -792.701887         40              среднее             1   \n",
              "12         0            NaN         65              среднее             1   \n",
              "13         0   -1846.641941         54  неоконченное высшее             2   \n",
              "14         0   -1844.956182         56               высшее             0   \n",
              "15         1    -972.364419         26              среднее             1   \n",
              "16         0   -1719.934226         35              среднее             1   \n",
              "17         0   -2369.999720         33               высшее             0   \n",
              "18         0  400281.136913         53              среднее             1   \n",
              "19         0  -10038.818549         48              СРЕДНЕЕ             1   \n",
              "\n",
              "       family_status  family_status_id gender income_type  debt  \\\n",
              "0    женат / замужем                 0      F   сотрудник     0   \n",
              "1    женат / замужем                 0      F   сотрудник     0   \n",
              "2    женат / замужем                 0      M   сотрудник     0   \n",
              "3    женат / замужем                 0      M   сотрудник     0   \n",
              "4   гражданский брак                 1      F   пенсионер     0   \n",
              "5   гражданский брак                 1      M   компаньон     0   \n",
              "6    женат / замужем                 0      F   компаньон     0   \n",
              "7    женат / замужем                 0      M   сотрудник     0   \n",
              "8   гражданский брак                 1      F   сотрудник     0   \n",
              "9    женат / замужем                 0      M   сотрудник     0   \n",
              "10   женат / замужем                 0      M   компаньон     0   \n",
              "11   женат / замужем                 0      F   сотрудник     0   \n",
              "12  гражданский брак                 1      M   пенсионер     0   \n",
              "13   женат / замужем                 0      F   сотрудник     0   \n",
              "14  гражданский брак                 1      F   компаньон     1   \n",
              "15   женат / замужем                 0      F   сотрудник     0   \n",
              "16   женат / замужем                 0      F   сотрудник     0   \n",
              "17  гражданский брак                 1      M   сотрудник     0   \n",
              "18    вдовец / вдова                 2      F   пенсионер     0   \n",
              "19         в разводе                 3      F   сотрудник     0   \n",
              "\n",
              "     total_income                                 purpose  \n",
              "0   253875.639453                           покупка жилья  \n",
              "1   112080.014102                 приобретение автомобиля  \n",
              "2   145885.952297                           покупка жилья  \n",
              "3   267628.550329              дополнительное образование  \n",
              "4   158616.077870                         сыграть свадьбу  \n",
              "5   255763.565419                           покупка жилья  \n",
              "6   240525.971920                       операции с жильем  \n",
              "7   135823.934197                             образование  \n",
              "8    95856.832424                   на проведение свадьбы  \n",
              "9   144425.938277                 покупка жилья для семьи  \n",
              "10  113943.491460                    покупка недвижимости  \n",
              "11   77069.234271       покупка коммерческой недвижимости  \n",
              "12            NaN                         сыграть свадьбу  \n",
              "13  130458.228857                 приобретение автомобиля  \n",
              "14  165127.911772              покупка жилой недвижимости  \n",
              "15  116820.904450  строительство собственной недвижимости  \n",
              "16  289202.704229                            недвижимость  \n",
              "17   90410.586745              строительство недвижимости  \n",
              "18   56823.777243      на покупку подержанного автомобиля  \n",
              "19  242831.107982            на покупку своего автомобиля  "
            ],
            "text/html": [
              "\n",
              "  <div id=\"df-9a35ca89-0fb5-4ecf-9b95-e9543bb875a3\">\n",
              "    <div class=\"colab-df-container\">\n",
              "      <div>\n",
              "<style scoped>\n",
              "    .dataframe tbody tr th:only-of-type {\n",
              "        vertical-align: middle;\n",
              "    }\n",
              "\n",
              "    .dataframe tbody tr th {\n",
              "        vertical-align: top;\n",
              "    }\n",
              "\n",
              "    .dataframe thead th {\n",
              "        text-align: right;\n",
              "    }\n",
              "</style>\n",
              "<table border=\"1\" class=\"dataframe\">\n",
              "  <thead>\n",
              "    <tr style=\"text-align: right;\">\n",
              "      <th></th>\n",
              "      <th>children</th>\n",
              "      <th>days_employed</th>\n",
              "      <th>dob_years</th>\n",
              "      <th>education</th>\n",
              "      <th>education_id</th>\n",
              "      <th>family_status</th>\n",
              "      <th>family_status_id</th>\n",
              "      <th>gender</th>\n",
              "      <th>income_type</th>\n",
              "      <th>debt</th>\n",
              "      <th>total_income</th>\n",
              "      <th>purpose</th>\n",
              "    </tr>\n",
              "  </thead>\n",
              "  <tbody>\n",
              "    <tr>\n",
              "      <th>0</th>\n",
              "      <td>1</td>\n",
              "      <td>-8437.673028</td>\n",
              "      <td>42</td>\n",
              "      <td>высшее</td>\n",
              "      <td>0</td>\n",
              "      <td>женат / замужем</td>\n",
              "      <td>0</td>\n",
              "      <td>F</td>\n",
              "      <td>сотрудник</td>\n",
              "      <td>0</td>\n",
              "      <td>253875.639453</td>\n",
              "      <td>покупка жилья</td>\n",
              "    </tr>\n",
              "    <tr>\n",
              "      <th>1</th>\n",
              "      <td>1</td>\n",
              "      <td>-4024.803754</td>\n",
              "      <td>36</td>\n",
              "      <td>среднее</td>\n",
              "      <td>1</td>\n",
              "      <td>женат / замужем</td>\n",
              "      <td>0</td>\n",
              "      <td>F</td>\n",
              "      <td>сотрудник</td>\n",
              "      <td>0</td>\n",
              "      <td>112080.014102</td>\n",
              "      <td>приобретение автомобиля</td>\n",
              "    </tr>\n",
              "    <tr>\n",
              "      <th>2</th>\n",
              "      <td>0</td>\n",
              "      <td>-5623.422610</td>\n",
              "      <td>33</td>\n",
              "      <td>Среднее</td>\n",
              "      <td>1</td>\n",
              "      <td>женат / замужем</td>\n",
              "      <td>0</td>\n",
              "      <td>M</td>\n",
              "      <td>сотрудник</td>\n",
              "      <td>0</td>\n",
              "      <td>145885.952297</td>\n",
              "      <td>покупка жилья</td>\n",
              "    </tr>\n",
              "    <tr>\n",
              "      <th>3</th>\n",
              "      <td>3</td>\n",
              "      <td>-4124.747207</td>\n",
              "      <td>32</td>\n",
              "      <td>среднее</td>\n",
              "      <td>1</td>\n",
              "      <td>женат / замужем</td>\n",
              "      <td>0</td>\n",
              "      <td>M</td>\n",
              "      <td>сотрудник</td>\n",
              "      <td>0</td>\n",
              "      <td>267628.550329</td>\n",
              "      <td>дополнительное образование</td>\n",
              "    </tr>\n",
              "    <tr>\n",
              "      <th>4</th>\n",
              "      <td>0</td>\n",
              "      <td>340266.072047</td>\n",
              "      <td>53</td>\n",
              "      <td>среднее</td>\n",
              "      <td>1</td>\n",
              "      <td>гражданский брак</td>\n",
              "      <td>1</td>\n",
              "      <td>F</td>\n",
              "      <td>пенсионер</td>\n",
              "      <td>0</td>\n",
              "      <td>158616.077870</td>\n",
              "      <td>сыграть свадьбу</td>\n",
              "    </tr>\n",
              "    <tr>\n",
              "      <th>5</th>\n",
              "      <td>0</td>\n",
              "      <td>-926.185831</td>\n",
              "      <td>27</td>\n",
              "      <td>высшее</td>\n",
              "      <td>0</td>\n",
              "      <td>гражданский брак</td>\n",
              "      <td>1</td>\n",
              "      <td>M</td>\n",
              "      <td>компаньон</td>\n",
              "      <td>0</td>\n",
              "      <td>255763.565419</td>\n",
              "      <td>покупка жилья</td>\n",
              "    </tr>\n",
              "    <tr>\n",
              "      <th>6</th>\n",
              "      <td>0</td>\n",
              "      <td>-2879.202052</td>\n",
              "      <td>43</td>\n",
              "      <td>высшее</td>\n",
              "      <td>0</td>\n",
              "      <td>женат / замужем</td>\n",
              "      <td>0</td>\n",
              "      <td>F</td>\n",
              "      <td>компаньон</td>\n",
              "      <td>0</td>\n",
              "      <td>240525.971920</td>\n",
              "      <td>операции с жильем</td>\n",
              "    </tr>\n",
              "    <tr>\n",
              "      <th>7</th>\n",
              "      <td>0</td>\n",
              "      <td>-152.779569</td>\n",
              "      <td>50</td>\n",
              "      <td>СРЕДНЕЕ</td>\n",
              "      <td>1</td>\n",
              "      <td>женат / замужем</td>\n",
              "      <td>0</td>\n",
              "      <td>M</td>\n",
              "      <td>сотрудник</td>\n",
              "      <td>0</td>\n",
              "      <td>135823.934197</td>\n",
              "      <td>образование</td>\n",
              "    </tr>\n",
              "    <tr>\n",
              "      <th>8</th>\n",
              "      <td>2</td>\n",
              "      <td>-6929.865299</td>\n",
              "      <td>35</td>\n",
              "      <td>ВЫСШЕЕ</td>\n",
              "      <td>0</td>\n",
              "      <td>гражданский брак</td>\n",
              "      <td>1</td>\n",
              "      <td>F</td>\n",
              "      <td>сотрудник</td>\n",
              "      <td>0</td>\n",
              "      <td>95856.832424</td>\n",
              "      <td>на проведение свадьбы</td>\n",
              "    </tr>\n",
              "    <tr>\n",
              "      <th>9</th>\n",
              "      <td>0</td>\n",
              "      <td>-2188.756445</td>\n",
              "      <td>41</td>\n",
              "      <td>среднее</td>\n",
              "      <td>1</td>\n",
              "      <td>женат / замужем</td>\n",
              "      <td>0</td>\n",
              "      <td>M</td>\n",
              "      <td>сотрудник</td>\n",
              "      <td>0</td>\n",
              "      <td>144425.938277</td>\n",
              "      <td>покупка жилья для семьи</td>\n",
              "    </tr>\n",
              "    <tr>\n",
              "      <th>10</th>\n",
              "      <td>2</td>\n",
              "      <td>-4171.483647</td>\n",
              "      <td>36</td>\n",
              "      <td>высшее</td>\n",
              "      <td>0</td>\n",
              "      <td>женат / замужем</td>\n",
              "      <td>0</td>\n",
              "      <td>M</td>\n",
              "      <td>компаньон</td>\n",
              "      <td>0</td>\n",
              "      <td>113943.491460</td>\n",
              "      <td>покупка недвижимости</td>\n",
              "    </tr>\n",
              "    <tr>\n",
              "      <th>11</th>\n",
              "      <td>0</td>\n",
              "      <td>-792.701887</td>\n",
              "      <td>40</td>\n",
              "      <td>среднее</td>\n",
              "      <td>1</td>\n",
              "      <td>женат / замужем</td>\n",
              "      <td>0</td>\n",
              "      <td>F</td>\n",
              "      <td>сотрудник</td>\n",
              "      <td>0</td>\n",
              "      <td>77069.234271</td>\n",
              "      <td>покупка коммерческой недвижимости</td>\n",
              "    </tr>\n",
              "    <tr>\n",
              "      <th>12</th>\n",
              "      <td>0</td>\n",
              "      <td>NaN</td>\n",
              "      <td>65</td>\n",
              "      <td>среднее</td>\n",
              "      <td>1</td>\n",
              "      <td>гражданский брак</td>\n",
              "      <td>1</td>\n",
              "      <td>M</td>\n",
              "      <td>пенсионер</td>\n",
              "      <td>0</td>\n",
              "      <td>NaN</td>\n",
              "      <td>сыграть свадьбу</td>\n",
              "    </tr>\n",
              "    <tr>\n",
              "      <th>13</th>\n",
              "      <td>0</td>\n",
              "      <td>-1846.641941</td>\n",
              "      <td>54</td>\n",
              "      <td>неоконченное высшее</td>\n",
              "      <td>2</td>\n",
              "      <td>женат / замужем</td>\n",
              "      <td>0</td>\n",
              "      <td>F</td>\n",
              "      <td>сотрудник</td>\n",
              "      <td>0</td>\n",
              "      <td>130458.228857</td>\n",
              "      <td>приобретение автомобиля</td>\n",
              "    </tr>\n",
              "    <tr>\n",
              "      <th>14</th>\n",
              "      <td>0</td>\n",
              "      <td>-1844.956182</td>\n",
              "      <td>56</td>\n",
              "      <td>высшее</td>\n",
              "      <td>0</td>\n",
              "      <td>гражданский брак</td>\n",
              "      <td>1</td>\n",
              "      <td>F</td>\n",
              "      <td>компаньон</td>\n",
              "      <td>1</td>\n",
              "      <td>165127.911772</td>\n",
              "      <td>покупка жилой недвижимости</td>\n",
              "    </tr>\n",
              "    <tr>\n",
              "      <th>15</th>\n",
              "      <td>1</td>\n",
              "      <td>-972.364419</td>\n",
              "      <td>26</td>\n",
              "      <td>среднее</td>\n",
              "      <td>1</td>\n",
              "      <td>женат / замужем</td>\n",
              "      <td>0</td>\n",
              "      <td>F</td>\n",
              "      <td>сотрудник</td>\n",
              "      <td>0</td>\n",
              "      <td>116820.904450</td>\n",
              "      <td>строительство собственной недвижимости</td>\n",
              "    </tr>\n",
              "    <tr>\n",
              "      <th>16</th>\n",
              "      <td>0</td>\n",
              "      <td>-1719.934226</td>\n",
              "      <td>35</td>\n",
              "      <td>среднее</td>\n",
              "      <td>1</td>\n",
              "      <td>женат / замужем</td>\n",
              "      <td>0</td>\n",
              "      <td>F</td>\n",
              "      <td>сотрудник</td>\n",
              "      <td>0</td>\n",
              "      <td>289202.704229</td>\n",
              "      <td>недвижимость</td>\n",
              "    </tr>\n",
              "    <tr>\n",
              "      <th>17</th>\n",
              "      <td>0</td>\n",
              "      <td>-2369.999720</td>\n",
              "      <td>33</td>\n",
              "      <td>высшее</td>\n",
              "      <td>0</td>\n",
              "      <td>гражданский брак</td>\n",
              "      <td>1</td>\n",
              "      <td>M</td>\n",
              "      <td>сотрудник</td>\n",
              "      <td>0</td>\n",
              "      <td>90410.586745</td>\n",
              "      <td>строительство недвижимости</td>\n",
              "    </tr>\n",
              "    <tr>\n",
              "      <th>18</th>\n",
              "      <td>0</td>\n",
              "      <td>400281.136913</td>\n",
              "      <td>53</td>\n",
              "      <td>среднее</td>\n",
              "      <td>1</td>\n",
              "      <td>вдовец / вдова</td>\n",
              "      <td>2</td>\n",
              "      <td>F</td>\n",
              "      <td>пенсионер</td>\n",
              "      <td>0</td>\n",
              "      <td>56823.777243</td>\n",
              "      <td>на покупку подержанного автомобиля</td>\n",
              "    </tr>\n",
              "    <tr>\n",
              "      <th>19</th>\n",
              "      <td>0</td>\n",
              "      <td>-10038.818549</td>\n",
              "      <td>48</td>\n",
              "      <td>СРЕДНЕЕ</td>\n",
              "      <td>1</td>\n",
              "      <td>в разводе</td>\n",
              "      <td>3</td>\n",
              "      <td>F</td>\n",
              "      <td>сотрудник</td>\n",
              "      <td>0</td>\n",
              "      <td>242831.107982</td>\n",
              "      <td>на покупку своего автомобиля</td>\n",
              "    </tr>\n",
              "  </tbody>\n",
              "</table>\n",
              "</div>\n",
              "      <button class=\"colab-df-convert\" onclick=\"convertToInteractive('df-9a35ca89-0fb5-4ecf-9b95-e9543bb875a3')\"\n",
              "              title=\"Convert this dataframe to an interactive table.\"\n",
              "              style=\"display:none;\">\n",
              "        \n",
              "  <svg xmlns=\"http://www.w3.org/2000/svg\" height=\"24px\"viewBox=\"0 0 24 24\"\n",
              "       width=\"24px\">\n",
              "    <path d=\"M0 0h24v24H0V0z\" fill=\"none\"/>\n",
              "    <path d=\"M18.56 5.44l.94 2.06.94-2.06 2.06-.94-2.06-.94-.94-2.06-.94 2.06-2.06.94zm-11 1L8.5 8.5l.94-2.06 2.06-.94-2.06-.94L8.5 2.5l-.94 2.06-2.06.94zm10 10l.94 2.06.94-2.06 2.06-.94-2.06-.94-.94-2.06-.94 2.06-2.06.94z\"/><path d=\"M17.41 7.96l-1.37-1.37c-.4-.4-.92-.59-1.43-.59-.52 0-1.04.2-1.43.59L10.3 9.45l-7.72 7.72c-.78.78-.78 2.05 0 2.83L4 21.41c.39.39.9.59 1.41.59.51 0 1.02-.2 1.41-.59l7.78-7.78 2.81-2.81c.8-.78.8-2.07 0-2.86zM5.41 20L4 18.59l7.72-7.72 1.47 1.35L5.41 20z\"/>\n",
              "  </svg>\n",
              "      </button>\n",
              "      \n",
              "  <style>\n",
              "    .colab-df-container {\n",
              "      display:flex;\n",
              "      flex-wrap:wrap;\n",
              "      gap: 12px;\n",
              "    }\n",
              "\n",
              "    .colab-df-convert {\n",
              "      background-color: #E8F0FE;\n",
              "      border: none;\n",
              "      border-radius: 50%;\n",
              "      cursor: pointer;\n",
              "      display: none;\n",
              "      fill: #1967D2;\n",
              "      height: 32px;\n",
              "      padding: 0 0 0 0;\n",
              "      width: 32px;\n",
              "    }\n",
              "\n",
              "    .colab-df-convert:hover {\n",
              "      background-color: #E2EBFA;\n",
              "      box-shadow: 0px 1px 2px rgba(60, 64, 67, 0.3), 0px 1px 3px 1px rgba(60, 64, 67, 0.15);\n",
              "      fill: #174EA6;\n",
              "    }\n",
              "\n",
              "    [theme=dark] .colab-df-convert {\n",
              "      background-color: #3B4455;\n",
              "      fill: #D2E3FC;\n",
              "    }\n",
              "\n",
              "    [theme=dark] .colab-df-convert:hover {\n",
              "      background-color: #434B5C;\n",
              "      box-shadow: 0px 1px 3px 1px rgba(0, 0, 0, 0.15);\n",
              "      filter: drop-shadow(0px 1px 2px rgba(0, 0, 0, 0.3));\n",
              "      fill: #FFFFFF;\n",
              "    }\n",
              "  </style>\n",
              "\n",
              "      <script>\n",
              "        const buttonEl =\n",
              "          document.querySelector('#df-9a35ca89-0fb5-4ecf-9b95-e9543bb875a3 button.colab-df-convert');\n",
              "        buttonEl.style.display =\n",
              "          google.colab.kernel.accessAllowed ? 'block' : 'none';\n",
              "\n",
              "        async function convertToInteractive(key) {\n",
              "          const element = document.querySelector('#df-9a35ca89-0fb5-4ecf-9b95-e9543bb875a3');\n",
              "          const dataTable =\n",
              "            await google.colab.kernel.invokeFunction('convertToInteractive',\n",
              "                                                     [key], {});\n",
              "          if (!dataTable) return;\n",
              "\n",
              "          const docLinkHtml = 'Like what you see? Visit the ' +\n",
              "            '<a target=\"_blank\" href=https://colab.research.google.com/notebooks/data_table.ipynb>data table notebook</a>'\n",
              "            + ' to learn more about interactive tables.';\n",
              "          element.innerHTML = '';\n",
              "          dataTable['output_type'] = 'display_data';\n",
              "          await google.colab.output.renderOutput(dataTable, element);\n",
              "          const docLink = document.createElement('div');\n",
              "          docLink.innerHTML = docLinkHtml;\n",
              "          element.appendChild(docLink);\n",
              "        }\n",
              "      </script>\n",
              "    </div>\n",
              "  </div>\n",
              "  "
            ]
          },
          "metadata": {},
          "execution_count": 4
        }
      ],
      "source": [
        "data.head(20)"
      ]
    },
    {
      "cell_type": "markdown",
      "id": "92630833",
      "metadata": {
        "deletable": false,
        "editable": false,
        "id": "92630833"
      },
      "source": [
        "Выведем основную информацию о датафрейме."
      ]
    },
    {
      "cell_type": "code",
      "execution_count": 5,
      "id": "6793b5be",
      "metadata": {
        "deletable": false,
        "id": "6793b5be",
        "outputId": "62e05224-4140-4656-f7ce-6463ce88824b",
        "colab": {
          "base_uri": "https://localhost:8080/"
        }
      },
      "outputs": [
        {
          "output_type": "stream",
          "name": "stdout",
          "text": [
            "<class 'pandas.core.frame.DataFrame'>\n",
            "RangeIndex: 21525 entries, 0 to 21524\n",
            "Data columns (total 12 columns):\n",
            " #   Column            Non-Null Count  Dtype  \n",
            "---  ------            --------------  -----  \n",
            " 0   children          21525 non-null  int64  \n",
            " 1   days_employed     19351 non-null  float64\n",
            " 2   dob_years         21525 non-null  int64  \n",
            " 3   education         21525 non-null  object \n",
            " 4   education_id      21525 non-null  int64  \n",
            " 5   family_status     21525 non-null  object \n",
            " 6   family_status_id  21525 non-null  int64  \n",
            " 7   gender            21525 non-null  object \n",
            " 8   income_type       21525 non-null  object \n",
            " 9   debt              21525 non-null  int64  \n",
            " 10  total_income      19351 non-null  float64\n",
            " 11  purpose           21525 non-null  object \n",
            "dtypes: float64(2), int64(5), object(5)\n",
            "memory usage: 2.0+ MB\n"
          ]
        }
      ],
      "source": [
        "data.info()"
      ]
    },
    {
      "cell_type": "markdown",
      "id": "bbd17197",
      "metadata": {
        "deletable": false,
        "editable": false,
        "id": "bbd17197"
      },
      "source": [
        "## Предобработка данных"
      ]
    },
    {
      "cell_type": "markdown",
      "id": "37a305c4",
      "metadata": {
        "deletable": false,
        "editable": false,
        "id": "37a305c4"
      },
      "source": [
        "### Удаление пропусков"
      ]
    },
    {
      "cell_type": "code",
      "execution_count": 6,
      "id": "cdc4f9d3",
      "metadata": {
        "deletable": false,
        "id": "cdc4f9d3",
        "outputId": "652a0b89-266e-413d-cfc2-42069eeb1bf8",
        "colab": {
          "base_uri": "https://localhost:8080/"
        }
      },
      "outputs": [
        {
          "output_type": "execute_result",
          "data": {
            "text/plain": [
              "children               0\n",
              "days_employed       2174\n",
              "dob_years              0\n",
              "education              0\n",
              "education_id           0\n",
              "family_status          0\n",
              "family_status_id       0\n",
              "gender                 0\n",
              "income_type            0\n",
              "debt                   0\n",
              "total_income        2174\n",
              "purpose                0\n",
              "dtype: int64"
            ]
          },
          "metadata": {},
          "execution_count": 6
        }
      ],
      "source": [
        "data.isna().sum()"
      ]
    },
    {
      "cell_type": "markdown",
      "id": "4cf0563e",
      "metadata": {
        "deletable": false,
        "editable": false,
        "id": "4cf0563e"
      },
      "source": [
        "В двух столбцах есть пропущенные значения. Один из них — `days_employed`. Пропуски в этом столбце мы обработаем на следующем этапе. Другой столбец с пропущенными значениями — `total_income` — хранит данные о доходах. На сумму дохода сильнее всего влияет тип занятости, поэтому заполнить пропуски в этом столбце можно медианным значением по каждому типу из столбца `income_type`. "
      ]
    },
    {
      "cell_type": "code",
      "execution_count": 7,
      "id": "503b06d7",
      "metadata": {
        "deletable": false,
        "id": "503b06d7"
      },
      "outputs": [],
      "source": [
        "for t in data['income_type'].unique():\n",
        "    data.loc[(data['income_type'] == t) & (data['total_income'].isna()), 'total_income'] = \\\n",
        "    data.loc[(data['income_type'] == t), 'total_income'].median()"
      ]
    },
    {
      "cell_type": "markdown",
      "id": "c9ec927e",
      "metadata": {
        "deletable": false,
        "editable": false,
        "id": "c9ec927e"
      },
      "source": [
        "### Обработка аномальных значений"
      ]
    },
    {
      "cell_type": "markdown",
      "id": "6c39874c",
      "metadata": {
        "deletable": false,
        "editable": false,
        "id": "6c39874c"
      },
      "source": [
        "В наших данных есть аномальные значения — отрицательное количество дней трудового стажа в столбце `days_employed`. Заменим все отрицательные значения положительными с помощью метода `abs()`."
      ]
    },
    {
      "cell_type": "code",
      "execution_count": 8,
      "id": "a77baf45",
      "metadata": {
        "deletable": false,
        "id": "a77baf45"
      },
      "outputs": [],
      "source": [
        "data['days_employed'] = data['days_employed'].abs()"
      ]
    },
    {
      "cell_type": "markdown",
      "id": "1b86b72a",
      "metadata": {
        "deletable": false,
        "editable": false,
        "id": "1b86b72a"
      },
      "source": [
        "Посмотрим на столбец `children`."
      ]
    },
    {
      "cell_type": "code",
      "execution_count": 9,
      "id": "49258d3b",
      "metadata": {
        "deletable": false,
        "id": "49258d3b",
        "outputId": "ab24f5c1-1fb4-4247-9c57-54c4139db51f",
        "colab": {
          "base_uri": "https://localhost:8080/"
        }
      },
      "outputs": [
        {
          "output_type": "execute_result",
          "data": {
            "text/plain": [
              "array([ 1,  0,  3,  2, -1,  4, 20,  5])"
            ]
          },
          "metadata": {},
          "execution_count": 9
        }
      ],
      "source": [
        "data['children'].unique()"
      ]
    },
    {
      "cell_type": "markdown",
      "id": "1a49329c",
      "metadata": {
        "deletable": false,
        "editable": false,
        "id": "1a49329c"
      },
      "source": [
        "В столбце `children` есть два аномальных значения. Удалим строки, в которых встречаются такие аномальные значения, из нашей таблицы."
      ]
    },
    {
      "cell_type": "code",
      "execution_count": 10,
      "id": "900dc8b5",
      "metadata": {
        "deletable": false,
        "id": "900dc8b5"
      },
      "outputs": [],
      "source": [
        "data = data[(data['children'] != -1) & (data['children'] != 20)]"
      ]
    },
    {
      "cell_type": "code",
      "execution_count": 11,
      "id": "f608f9be",
      "metadata": {
        "deletable": false,
        "id": "f608f9be",
        "outputId": "fa91f131-f933-47af-fd36-a416de368391",
        "colab": {
          "base_uri": "https://localhost:8080/"
        }
      },
      "outputs": [
        {
          "output_type": "execute_result",
          "data": {
            "text/plain": [
              "array([1, 0, 3, 2, 4, 5])"
            ]
          },
          "metadata": {},
          "execution_count": 11
        }
      ],
      "source": [
        "data['children'].unique()"
      ]
    },
    {
      "cell_type": "markdown",
      "id": "52710960",
      "metadata": {
        "deletable": false,
        "editable": false,
        "id": "52710960"
      },
      "source": [
        "Заполним пропуски в столбце `days_employed` медианными значениями по каждого типа занятости `income_type`."
      ]
    },
    {
      "cell_type": "code",
      "execution_count": 12,
      "id": "ce22ddad",
      "metadata": {
        "deletable": false,
        "id": "ce22ddad"
      },
      "outputs": [],
      "source": [
        "for t in data['income_type'].unique():\n",
        "    data.loc[(data['income_type'] == t) & (data['days_employed'].isna()), 'days_employed'] = \\\n",
        "    data.loc[(data['income_type'] == t), 'days_employed'].median()"
      ]
    },
    {
      "cell_type": "code",
      "execution_count": 13,
      "id": "2ebfab6b",
      "metadata": {
        "deletable": false,
        "id": "2ebfab6b",
        "outputId": "44ef1a89-f262-4ca8-fdde-0e1706ac4dc3",
        "colab": {
          "base_uri": "https://localhost:8080/"
        }
      },
      "outputs": [
        {
          "output_type": "execute_result",
          "data": {
            "text/plain": [
              "children            0\n",
              "days_employed       0\n",
              "dob_years           0\n",
              "education           0\n",
              "education_id        0\n",
              "family_status       0\n",
              "family_status_id    0\n",
              "gender              0\n",
              "income_type         0\n",
              "debt                0\n",
              "total_income        0\n",
              "purpose             0\n",
              "dtype: int64"
            ]
          },
          "metadata": {},
          "execution_count": 13
        }
      ],
      "source": [
        "data.isna().sum()"
      ]
    },
    {
      "cell_type": "markdown",
      "id": "c325cce2",
      "metadata": {
        "deletable": false,
        "editable": false,
        "id": "c325cce2"
      },
      "source": [
        "### Изменение типов данных"
      ]
    },
    {
      "cell_type": "markdown",
      "id": "ae30a0ad",
      "metadata": {
        "deletable": false,
        "editable": false,
        "id": "ae30a0ad"
      },
      "source": [
        "Заменим вещественный тип данных в столбце `total_income` на целочисленный с помощью метода `astype()`."
      ]
    },
    {
      "cell_type": "code",
      "execution_count": 14,
      "id": "f2d97d8b",
      "metadata": {
        "deletable": false,
        "id": "f2d97d8b"
      },
      "outputs": [],
      "source": [
        "data['total_income'] = data['total_income'].astype(int)"
      ]
    },
    {
      "cell_type": "markdown",
      "id": "1a6ed455",
      "metadata": {
        "deletable": false,
        "editable": false,
        "id": "1a6ed455"
      },
      "source": [
        "### Обработка дубликатов"
      ]
    },
    {
      "cell_type": "markdown",
      "id": "ac70ea9b",
      "metadata": {
        "deletable": false,
        "editable": false,
        "id": "ac70ea9b"
      },
      "source": [
        "Обработаем неявные дубликаты в столбце `education`. В этом столбце есть одни и те же значения, но записанные по-разному: с использованием заглавных и строчных букв. Приведем их к нижнему регистру. "
      ]
    },
    {
      "cell_type": "code",
      "execution_count": 15,
      "id": "4e1e9d9d",
      "metadata": {
        "deletable": false,
        "id": "4e1e9d9d"
      },
      "outputs": [],
      "source": [
        "data['education'] = data['education'].str.lower()"
      ]
    },
    {
      "cell_type": "markdown",
      "id": "2842a772",
      "metadata": {
        "deletable": false,
        "editable": false,
        "id": "2842a772"
      },
      "source": [
        "Посмотрим на явные дубликаты и удалим их при наличии."
      ]
    },
    {
      "cell_type": "code",
      "execution_count": 16,
      "id": "ef73c871",
      "metadata": {
        "deletable": false,
        "id": "ef73c871",
        "outputId": "4d357e32-2690-4393-ea46-eef9eaf5ecee",
        "colab": {
          "base_uri": "https://localhost:8080/"
        }
      },
      "outputs": [
        {
          "output_type": "execute_result",
          "data": {
            "text/plain": [
              "71"
            ]
          },
          "metadata": {},
          "execution_count": 16
        }
      ],
      "source": [
        "data.duplicated().sum()"
      ]
    },
    {
      "cell_type": "code",
      "execution_count": 17,
      "id": "70f40b23",
      "metadata": {
        "deletable": false,
        "id": "70f40b23"
      },
      "outputs": [],
      "source": [
        "data = data.drop_duplicates()"
      ]
    },
    {
      "cell_type": "markdown",
      "id": "774e2a33",
      "metadata": {
        "deletable": false,
        "editable": false,
        "id": "774e2a33"
      },
      "source": [
        "### Категоризация данных"
      ]
    },
    {
      "cell_type": "markdown",
      "id": "c4d9a8f9",
      "metadata": {
        "deletable": false,
        "editable": false,
        "id": "c4d9a8f9"
      },
      "source": [
        "На основании диапазонов, указанных ниже, создадим в нашей таблице столбец `total_income_category` с категориями:\n",
        "\n",
        "- 0–30000 — `'E'`;\n",
        "- 30001–50000 — `'D'`;\n",
        "- 50001–200000 — `'C'`;\n",
        "- 200001–1000000 — `'B'`;\n",
        "- 1000001 и выше — `'A'`.\n"
      ]
    },
    {
      "cell_type": "code",
      "execution_count": 18,
      "id": "890f7f6e",
      "metadata": {
        "deletable": false,
        "id": "890f7f6e"
      },
      "outputs": [],
      "source": [
        "def categorize_income(income):\n",
        "    try:\n",
        "        if 0 <= income <= 30000:\n",
        "            return 'E'\n",
        "        elif 30001 <= income <= 50000:\n",
        "            return 'D'\n",
        "        elif 50001 <= income <= 200000:\n",
        "            return 'C'\n",
        "        elif 200001 <= income <= 1000000:\n",
        "            return 'B'\n",
        "        elif income >= 1000001:\n",
        "            return 'A'\n",
        "    except:\n",
        "        pass"
      ]
    },
    {
      "cell_type": "code",
      "execution_count": 19,
      "id": "f893131d",
      "metadata": {
        "deletable": false,
        "id": "f893131d"
      },
      "outputs": [],
      "source": [
        "data['total_income_category'] = data['total_income'].apply(categorize_income)"
      ]
    },
    {
      "cell_type": "markdown",
      "id": "506d4182",
      "metadata": {
        "deletable": false,
        "editable": false,
        "id": "506d4182"
      },
      "source": [
        "Посмотрим на уникальные значения в столбце `purpose`."
      ]
    },
    {
      "cell_type": "code",
      "execution_count": 20,
      "id": "a4a3edbd",
      "metadata": {
        "deletable": false,
        "id": "a4a3edbd",
        "outputId": "43a492b9-1281-4066-e5ab-402f67f01472",
        "colab": {
          "base_uri": "https://localhost:8080/"
        }
      },
      "outputs": [
        {
          "output_type": "execute_result",
          "data": {
            "text/plain": [
              "array(['покупка жилья', 'приобретение автомобиля',\n",
              "       'дополнительное образование', 'сыграть свадьбу',\n",
              "       'операции с жильем', 'образование', 'на проведение свадьбы',\n",
              "       'покупка жилья для семьи', 'покупка недвижимости',\n",
              "       'покупка коммерческой недвижимости', 'покупка жилой недвижимости',\n",
              "       'строительство собственной недвижимости', 'недвижимость',\n",
              "       'строительство недвижимости', 'на покупку подержанного автомобиля',\n",
              "       'на покупку своего автомобиля',\n",
              "       'операции с коммерческой недвижимостью',\n",
              "       'строительство жилой недвижимости', 'жилье',\n",
              "       'операции со своей недвижимостью', 'автомобили',\n",
              "       'заняться образованием', 'сделка с подержанным автомобилем',\n",
              "       'получение образования', 'автомобиль', 'свадьба',\n",
              "       'получение дополнительного образования', 'покупка своего жилья',\n",
              "       'операции с недвижимостью', 'получение высшего образования',\n",
              "       'свой автомобиль', 'сделка с автомобилем',\n",
              "       'профильное образование', 'высшее образование',\n",
              "       'покупка жилья для сдачи', 'на покупку автомобиля', 'ремонт жилью',\n",
              "       'заняться высшим образованием'], dtype=object)"
            ]
          },
          "metadata": {},
          "execution_count": 20
        }
      ],
      "source": [
        "data['purpose'].unique()"
      ]
    },
    {
      "cell_type": "markdown",
      "id": "c1cf3370",
      "metadata": {
        "deletable": false,
        "editable": false,
        "id": "c1cf3370"
      },
      "source": [
        "На основании данных из столбца `purpose` сформируем новый столбец `purpose_category`, в который войдут следующие категории:\n",
        "\n",
        "- `'операции с автомобилем'`,\n",
        "- `'операции с недвижимостью'`,\n",
        "- `'проведение свадьбы'`,\n",
        "- `'получение образования'`.\n",
        "\n"
      ]
    },
    {
      "cell_type": "code",
      "execution_count": 21,
      "id": "cb2c6f0e",
      "metadata": {
        "deletable": false,
        "id": "cb2c6f0e"
      },
      "outputs": [],
      "source": [
        "def categorize_purpose(row):\n",
        "    try:\n",
        "        if 'автом' in row:\n",
        "            return 'операции с автомобилем'\n",
        "        elif 'жил' in row or 'недвиж' in row:\n",
        "            return 'операции с недвижимостью'\n",
        "        elif 'свад' in row:\n",
        "            return 'проведение свадьбы'\n",
        "        elif 'образов' in row:\n",
        "            return 'получение образования'\n",
        "    except:\n",
        "        return 'нет категории'"
      ]
    },
    {
      "cell_type": "code",
      "execution_count": 22,
      "id": "17fc6e72",
      "metadata": {
        "deletable": false,
        "id": "17fc6e72"
      },
      "outputs": [],
      "source": [
        "data['purpose_category'] = data['purpose'].apply(categorize_purpose)"
      ]
    },
    {
      "cell_type": "markdown",
      "id": "dd0644cc",
      "metadata": {
        "deletable": false,
        "editable": false,
        "id": "dd0644cc"
      },
      "source": [
        "## Исследование данных и ответы на вопросы"
      ]
    },
    {
      "cell_type": "markdown",
      "id": "8b9c1629",
      "metadata": {
        "deletable": false,
        "editable": false,
        "id": "8b9c1629"
      },
      "source": [
        "### Есть ли зависимость между количеством детей и возвратом кредита в срок?"
      ]
    },
    {
      "cell_type": "code",
      "execution_count": 24,
      "id": "fabd47c9",
      "metadata": {
        "deletable": false,
        "id": "fabd47c9",
        "scrolled": true,
        "colab": {
          "base_uri": "https://localhost:8080/"
        },
        "outputId": "b87ae482-9972-45db-a3ea-573fdb553e92"
      },
      "outputs": [
        {
          "output_type": "execute_result",
          "data": {
            "text/plain": [
              "array([0, 1])"
            ]
          },
          "metadata": {},
          "execution_count": 24
        }
      ],
      "source": [
        "data['debt'].unique()\n"
      ]
    },
    {
      "cell_type": "markdown",
      "id": "bc73a279",
      "metadata": {
        "id": "bc73a279"
      },
      "source": [
        "\n",
        "Значения в столбце `debt` — `0` (кредит возвращен в срок) и `1` (есть долг по кредиту). \n",
        "\n"
      ]
    },
    {
      "cell_type": "code",
      "execution_count": 25,
      "id": "533cce05",
      "metadata": {
        "colab": {
          "base_uri": "https://localhost:8080/",
          "height": 269
        },
        "id": "533cce05",
        "outputId": "1b35b9a2-0595-4687-c33d-bee1f9c5c924"
      },
      "outputs": [
        {
          "output_type": "execute_result",
          "data": {
            "text/plain": [
              "          debt\n",
              "children      \n",
              "0         1063\n",
              "1          444\n",
              "2          194\n",
              "3           27\n",
              "4            4\n",
              "5            0"
            ],
            "text/html": [
              "\n",
              "  <div id=\"df-ac6702ae-cfb3-455a-988f-e61ef05b6e1a\">\n",
              "    <div class=\"colab-df-container\">\n",
              "      <div>\n",
              "<style scoped>\n",
              "    .dataframe tbody tr th:only-of-type {\n",
              "        vertical-align: middle;\n",
              "    }\n",
              "\n",
              "    .dataframe tbody tr th {\n",
              "        vertical-align: top;\n",
              "    }\n",
              "\n",
              "    .dataframe thead th {\n",
              "        text-align: right;\n",
              "    }\n",
              "</style>\n",
              "<table border=\"1\" class=\"dataframe\">\n",
              "  <thead>\n",
              "    <tr style=\"text-align: right;\">\n",
              "      <th></th>\n",
              "      <th>debt</th>\n",
              "    </tr>\n",
              "    <tr>\n",
              "      <th>children</th>\n",
              "      <th></th>\n",
              "    </tr>\n",
              "  </thead>\n",
              "  <tbody>\n",
              "    <tr>\n",
              "      <th>0</th>\n",
              "      <td>1063</td>\n",
              "    </tr>\n",
              "    <tr>\n",
              "      <th>1</th>\n",
              "      <td>444</td>\n",
              "    </tr>\n",
              "    <tr>\n",
              "      <th>2</th>\n",
              "      <td>194</td>\n",
              "    </tr>\n",
              "    <tr>\n",
              "      <th>3</th>\n",
              "      <td>27</td>\n",
              "    </tr>\n",
              "    <tr>\n",
              "      <th>4</th>\n",
              "      <td>4</td>\n",
              "    </tr>\n",
              "    <tr>\n",
              "      <th>5</th>\n",
              "      <td>0</td>\n",
              "    </tr>\n",
              "  </tbody>\n",
              "</table>\n",
              "</div>\n",
              "      <button class=\"colab-df-convert\" onclick=\"convertToInteractive('df-ac6702ae-cfb3-455a-988f-e61ef05b6e1a')\"\n",
              "              title=\"Convert this dataframe to an interactive table.\"\n",
              "              style=\"display:none;\">\n",
              "        \n",
              "  <svg xmlns=\"http://www.w3.org/2000/svg\" height=\"24px\"viewBox=\"0 0 24 24\"\n",
              "       width=\"24px\">\n",
              "    <path d=\"M0 0h24v24H0V0z\" fill=\"none\"/>\n",
              "    <path d=\"M18.56 5.44l.94 2.06.94-2.06 2.06-.94-2.06-.94-.94-2.06-.94 2.06-2.06.94zm-11 1L8.5 8.5l.94-2.06 2.06-.94-2.06-.94L8.5 2.5l-.94 2.06-2.06.94zm10 10l.94 2.06.94-2.06 2.06-.94-2.06-.94-.94-2.06-.94 2.06-2.06.94z\"/><path d=\"M17.41 7.96l-1.37-1.37c-.4-.4-.92-.59-1.43-.59-.52 0-1.04.2-1.43.59L10.3 9.45l-7.72 7.72c-.78.78-.78 2.05 0 2.83L4 21.41c.39.39.9.59 1.41.59.51 0 1.02-.2 1.41-.59l7.78-7.78 2.81-2.81c.8-.78.8-2.07 0-2.86zM5.41 20L4 18.59l7.72-7.72 1.47 1.35L5.41 20z\"/>\n",
              "  </svg>\n",
              "      </button>\n",
              "      \n",
              "  <style>\n",
              "    .colab-df-container {\n",
              "      display:flex;\n",
              "      flex-wrap:wrap;\n",
              "      gap: 12px;\n",
              "    }\n",
              "\n",
              "    .colab-df-convert {\n",
              "      background-color: #E8F0FE;\n",
              "      border: none;\n",
              "      border-radius: 50%;\n",
              "      cursor: pointer;\n",
              "      display: none;\n",
              "      fill: #1967D2;\n",
              "      height: 32px;\n",
              "      padding: 0 0 0 0;\n",
              "      width: 32px;\n",
              "    }\n",
              "\n",
              "    .colab-df-convert:hover {\n",
              "      background-color: #E2EBFA;\n",
              "      box-shadow: 0px 1px 2px rgba(60, 64, 67, 0.3), 0px 1px 3px 1px rgba(60, 64, 67, 0.15);\n",
              "      fill: #174EA6;\n",
              "    }\n",
              "\n",
              "    [theme=dark] .colab-df-convert {\n",
              "      background-color: #3B4455;\n",
              "      fill: #D2E3FC;\n",
              "    }\n",
              "\n",
              "    [theme=dark] .colab-df-convert:hover {\n",
              "      background-color: #434B5C;\n",
              "      box-shadow: 0px 1px 3px 1px rgba(0, 0, 0, 0.15);\n",
              "      filter: drop-shadow(0px 1px 2px rgba(0, 0, 0, 0.3));\n",
              "      fill: #FFFFFF;\n",
              "    }\n",
              "  </style>\n",
              "\n",
              "      <script>\n",
              "        const buttonEl =\n",
              "          document.querySelector('#df-ac6702ae-cfb3-455a-988f-e61ef05b6e1a button.colab-df-convert');\n",
              "        buttonEl.style.display =\n",
              "          google.colab.kernel.accessAllowed ? 'block' : 'none';\n",
              "\n",
              "        async function convertToInteractive(key) {\n",
              "          const element = document.querySelector('#df-ac6702ae-cfb3-455a-988f-e61ef05b6e1a');\n",
              "          const dataTable =\n",
              "            await google.colab.kernel.invokeFunction('convertToInteractive',\n",
              "                                                     [key], {});\n",
              "          if (!dataTable) return;\n",
              "\n",
              "          const docLinkHtml = 'Like what you see? Visit the ' +\n",
              "            '<a target=\"_blank\" href=https://colab.research.google.com/notebooks/data_table.ipynb>data table notebook</a>'\n",
              "            + ' to learn more about interactive tables.';\n",
              "          element.innerHTML = '';\n",
              "          dataTable['output_type'] = 'display_data';\n",
              "          await google.colab.output.renderOutput(dataTable, element);\n",
              "          const docLink = document.createElement('div');\n",
              "          docLink.innerHTML = docLinkHtml;\n",
              "          element.appendChild(docLink);\n",
              "        }\n",
              "      </script>\n",
              "    </div>\n",
              "  </div>\n",
              "  "
            ]
          },
          "metadata": {},
          "execution_count": 25
        }
      ],
      "source": [
        "# группируем данные по значениям в столбце children и считаем общую сумму невозвратов\n",
        "# в каждой группе\n",
        "debts_grouped_by_children = data.groupby('children')['debt'].sum()\n",
        "debts_grouped_by_children.to_frame()\n"
      ]
    },
    {
      "cell_type": "markdown",
      "id": "05d4c650",
      "metadata": {
        "id": "05d4c650"
      },
      "source": [
        "После группировки данных по столбцу, где содержится информация о количестве детей, видно, что чем меньше у клиента детей, тем большее количество кредитов возвращено не в срок. Так, при отсутствии детей количество долгов по кредитам равно 1063, по мере увеличения числа детей этот показатель падает, при наличии пяти детей равняется нулю.\n",
        "\n",
        "**Итак, наша гипотеза состоит в том, что между наличием у клиента детей и возвратом кредита в срок существует зависимость: чем больше у клиента детей, тем выше вероятность, что кредит будет возвращен в срок.**\n",
        "\n",
        "Данная гипотеза нуждается в проверке, т. к. необходимо установить, какова доля невозвратов в каждой группе, поскольку учет только абсолютного числа возвратов без учета доли в каждой группе заемщиков может быть не показательным (например, если заемщиков без детей существенно больше, чем с детьми).\n"
      ]
    },
    {
      "cell_type": "code",
      "execution_count": 29,
      "id": "2a33ecd0",
      "metadata": {
        "colab": {
          "base_uri": "https://localhost:8080/",
          "height": 269
        },
        "id": "2a33ecd0",
        "outputId": "9a602a9d-d180-41d1-8d94-189120d1f958"
      },
      "outputs": [
        {
          "output_type": "execute_result",
          "data": {
            "text/plain": [
              "          Количество клиентов  Количество просрочек  Процент просрочек\n",
              "children                                                              \n",
              "0                       14091                  1063           7.543822\n",
              "1                        4808                   444           9.234609\n",
              "2                        2052                   194           9.454191\n",
              "3                         330                    27           8.181818\n",
              "4                          41                     4           9.756098\n",
              "5                           9                     0           0.000000"
            ],
            "text/html": [
              "\n",
              "  <div id=\"df-ccb880c5-3f29-4545-af66-b74adc4d51a7\">\n",
              "    <div class=\"colab-df-container\">\n",
              "      <div>\n",
              "<style scoped>\n",
              "    .dataframe tbody tr th:only-of-type {\n",
              "        vertical-align: middle;\n",
              "    }\n",
              "\n",
              "    .dataframe tbody tr th {\n",
              "        vertical-align: top;\n",
              "    }\n",
              "\n",
              "    .dataframe thead th {\n",
              "        text-align: right;\n",
              "    }\n",
              "</style>\n",
              "<table border=\"1\" class=\"dataframe\">\n",
              "  <thead>\n",
              "    <tr style=\"text-align: right;\">\n",
              "      <th></th>\n",
              "      <th>Количество клиентов</th>\n",
              "      <th>Количество просрочек</th>\n",
              "      <th>Процент просрочек</th>\n",
              "    </tr>\n",
              "    <tr>\n",
              "      <th>children</th>\n",
              "      <th></th>\n",
              "      <th></th>\n",
              "      <th></th>\n",
              "    </tr>\n",
              "  </thead>\n",
              "  <tbody>\n",
              "    <tr>\n",
              "      <th>0</th>\n",
              "      <td>14091</td>\n",
              "      <td>1063</td>\n",
              "      <td>7.543822</td>\n",
              "    </tr>\n",
              "    <tr>\n",
              "      <th>1</th>\n",
              "      <td>4808</td>\n",
              "      <td>444</td>\n",
              "      <td>9.234609</td>\n",
              "    </tr>\n",
              "    <tr>\n",
              "      <th>2</th>\n",
              "      <td>2052</td>\n",
              "      <td>194</td>\n",
              "      <td>9.454191</td>\n",
              "    </tr>\n",
              "    <tr>\n",
              "      <th>3</th>\n",
              "      <td>330</td>\n",
              "      <td>27</td>\n",
              "      <td>8.181818</td>\n",
              "    </tr>\n",
              "    <tr>\n",
              "      <th>4</th>\n",
              "      <td>41</td>\n",
              "      <td>4</td>\n",
              "      <td>9.756098</td>\n",
              "    </tr>\n",
              "    <tr>\n",
              "      <th>5</th>\n",
              "      <td>9</td>\n",
              "      <td>0</td>\n",
              "      <td>0.000000</td>\n",
              "    </tr>\n",
              "  </tbody>\n",
              "</table>\n",
              "</div>\n",
              "      <button class=\"colab-df-convert\" onclick=\"convertToInteractive('df-ccb880c5-3f29-4545-af66-b74adc4d51a7')\"\n",
              "              title=\"Convert this dataframe to an interactive table.\"\n",
              "              style=\"display:none;\">\n",
              "        \n",
              "  <svg xmlns=\"http://www.w3.org/2000/svg\" height=\"24px\"viewBox=\"0 0 24 24\"\n",
              "       width=\"24px\">\n",
              "    <path d=\"M0 0h24v24H0V0z\" fill=\"none\"/>\n",
              "    <path d=\"M18.56 5.44l.94 2.06.94-2.06 2.06-.94-2.06-.94-.94-2.06-.94 2.06-2.06.94zm-11 1L8.5 8.5l.94-2.06 2.06-.94-2.06-.94L8.5 2.5l-.94 2.06-2.06.94zm10 10l.94 2.06.94-2.06 2.06-.94-2.06-.94-.94-2.06-.94 2.06-2.06.94z\"/><path d=\"M17.41 7.96l-1.37-1.37c-.4-.4-.92-.59-1.43-.59-.52 0-1.04.2-1.43.59L10.3 9.45l-7.72 7.72c-.78.78-.78 2.05 0 2.83L4 21.41c.39.39.9.59 1.41.59.51 0 1.02-.2 1.41-.59l7.78-7.78 2.81-2.81c.8-.78.8-2.07 0-2.86zM5.41 20L4 18.59l7.72-7.72 1.47 1.35L5.41 20z\"/>\n",
              "  </svg>\n",
              "      </button>\n",
              "      \n",
              "  <style>\n",
              "    .colab-df-container {\n",
              "      display:flex;\n",
              "      flex-wrap:wrap;\n",
              "      gap: 12px;\n",
              "    }\n",
              "\n",
              "    .colab-df-convert {\n",
              "      background-color: #E8F0FE;\n",
              "      border: none;\n",
              "      border-radius: 50%;\n",
              "      cursor: pointer;\n",
              "      display: none;\n",
              "      fill: #1967D2;\n",
              "      height: 32px;\n",
              "      padding: 0 0 0 0;\n",
              "      width: 32px;\n",
              "    }\n",
              "\n",
              "    .colab-df-convert:hover {\n",
              "      background-color: #E2EBFA;\n",
              "      box-shadow: 0px 1px 2px rgba(60, 64, 67, 0.3), 0px 1px 3px 1px rgba(60, 64, 67, 0.15);\n",
              "      fill: #174EA6;\n",
              "    }\n",
              "\n",
              "    [theme=dark] .colab-df-convert {\n",
              "      background-color: #3B4455;\n",
              "      fill: #D2E3FC;\n",
              "    }\n",
              "\n",
              "    [theme=dark] .colab-df-convert:hover {\n",
              "      background-color: #434B5C;\n",
              "      box-shadow: 0px 1px 3px 1px rgba(0, 0, 0, 0.15);\n",
              "      filter: drop-shadow(0px 1px 2px rgba(0, 0, 0, 0.3));\n",
              "      fill: #FFFFFF;\n",
              "    }\n",
              "  </style>\n",
              "\n",
              "      <script>\n",
              "        const buttonEl =\n",
              "          document.querySelector('#df-ccb880c5-3f29-4545-af66-b74adc4d51a7 button.colab-df-convert');\n",
              "        buttonEl.style.display =\n",
              "          google.colab.kernel.accessAllowed ? 'block' : 'none';\n",
              "\n",
              "        async function convertToInteractive(key) {\n",
              "          const element = document.querySelector('#df-ccb880c5-3f29-4545-af66-b74adc4d51a7');\n",
              "          const dataTable =\n",
              "            await google.colab.kernel.invokeFunction('convertToInteractive',\n",
              "                                                     [key], {});\n",
              "          if (!dataTable) return;\n",
              "\n",
              "          const docLinkHtml = 'Like what you see? Visit the ' +\n",
              "            '<a target=\"_blank\" href=https://colab.research.google.com/notebooks/data_table.ipynb>data table notebook</a>'\n",
              "            + ' to learn more about interactive tables.';\n",
              "          element.innerHTML = '';\n",
              "          dataTable['output_type'] = 'display_data';\n",
              "          await google.colab.output.renderOutput(dataTable, element);\n",
              "          const docLink = document.createElement('div');\n",
              "          docLink.innerHTML = docLinkHtml;\n",
              "          element.appendChild(docLink);\n",
              "        }\n",
              "      </script>\n",
              "    </div>\n",
              "  </div>\n",
              "  "
            ]
          },
          "metadata": {},
          "execution_count": 29
        }
      ],
      "source": [
        "# строим сводную таблицу \n",
        "children_pivot_table = pd.pivot_table(data,\n",
        "                                      index = 'children',\n",
        "                                      values = ['debt'], \n",
        "                                      aggfunc = {sum, len})\n",
        "\n",
        "# добавляем в таблицу столбец с процентом просрочек по группам\n",
        "children_pivot_table['debt_share'] = (children_pivot_table['debt']['sum'] \n",
        "                                      / children_pivot_table['debt']['len']) * 100\n",
        "\n",
        "# переименовываем столбцы\n",
        "children_pivot_table.set_axis(\n",
        "    ['Количество клиентов', 'Количество просрочек', 'Процент просрочек'], \n",
        "    axis=1, inplace=True)\n",
        "\n",
        "children_pivot_table\n",
        "\n"
      ]
    },
    {
      "cell_type": "markdown",
      "id": "6c8b3a99",
      "metadata": {
        "id": "6c8b3a99"
      },
      "source": [
        "Как следует из сгруппированных данных, доля просрочек наиболее высокая среди семей с четырьмя, двумя и одним ребенком. Доля клиентов с просрочками по кредитам в группе без детей меньше на два процентных пункта. Группа клиентов с пятью детьми является малочисленной, и следовательно, нерепрезентативной.\n"
      ]
    },
    {
      "cell_type": "markdown",
      "id": "d6375d8b",
      "metadata": {
        "deletable": false,
        "id": "d6375d8b"
      },
      "source": [
        "**Вывод: Гипотеза о том, что чем больше у клиента детей, тем выше вероятность, что кредит будет возвращен в срок, не подтвердилась. Судя по сгруппированным данным, у клиентов без детей вероятность возврата кредита в срок оказывается выше, а доля просроченных кредитов — ниже.\n"
      ]
    },
    {
      "cell_type": "markdown",
      "id": "74c1fb07",
      "metadata": {
        "deletable": false,
        "editable": false,
        "id": "74c1fb07"
      },
      "source": [
        "### Есть ли зависимость между семейным положением и возвратом кредита в срок?"
      ]
    },
    {
      "cell_type": "code",
      "execution_count": 28,
      "id": "91ca8d01",
      "metadata": {
        "deletable": false,
        "id": "91ca8d01",
        "colab": {
          "base_uri": "https://localhost:8080/",
          "height": 237
        },
        "outputId": "897e9cda-96a2-49c9-b57c-a63c32feb6ed"
      },
      "outputs": [
        {
          "output_type": "execute_result",
          "data": {
            "text/plain": [
              "                       debt\n",
              "family_status              \n",
              "Не женат / не замужем   273\n",
              "в разводе                84\n",
              "вдовец / вдова           63\n",
              "гражданский брак        385\n",
              "женат / замужем         927"
            ],
            "text/html": [
              "\n",
              "  <div id=\"df-af171cbf-fddf-4c13-829e-090c5344f265\">\n",
              "    <div class=\"colab-df-container\">\n",
              "      <div>\n",
              "<style scoped>\n",
              "    .dataframe tbody tr th:only-of-type {\n",
              "        vertical-align: middle;\n",
              "    }\n",
              "\n",
              "    .dataframe tbody tr th {\n",
              "        vertical-align: top;\n",
              "    }\n",
              "\n",
              "    .dataframe thead th {\n",
              "        text-align: right;\n",
              "    }\n",
              "</style>\n",
              "<table border=\"1\" class=\"dataframe\">\n",
              "  <thead>\n",
              "    <tr style=\"text-align: right;\">\n",
              "      <th></th>\n",
              "      <th>debt</th>\n",
              "    </tr>\n",
              "    <tr>\n",
              "      <th>family_status</th>\n",
              "      <th></th>\n",
              "    </tr>\n",
              "  </thead>\n",
              "  <tbody>\n",
              "    <tr>\n",
              "      <th>Не женат / не замужем</th>\n",
              "      <td>273</td>\n",
              "    </tr>\n",
              "    <tr>\n",
              "      <th>в разводе</th>\n",
              "      <td>84</td>\n",
              "    </tr>\n",
              "    <tr>\n",
              "      <th>вдовец / вдова</th>\n",
              "      <td>63</td>\n",
              "    </tr>\n",
              "    <tr>\n",
              "      <th>гражданский брак</th>\n",
              "      <td>385</td>\n",
              "    </tr>\n",
              "    <tr>\n",
              "      <th>женат / замужем</th>\n",
              "      <td>927</td>\n",
              "    </tr>\n",
              "  </tbody>\n",
              "</table>\n",
              "</div>\n",
              "      <button class=\"colab-df-convert\" onclick=\"convertToInteractive('df-af171cbf-fddf-4c13-829e-090c5344f265')\"\n",
              "              title=\"Convert this dataframe to an interactive table.\"\n",
              "              style=\"display:none;\">\n",
              "        \n",
              "  <svg xmlns=\"http://www.w3.org/2000/svg\" height=\"24px\"viewBox=\"0 0 24 24\"\n",
              "       width=\"24px\">\n",
              "    <path d=\"M0 0h24v24H0V0z\" fill=\"none\"/>\n",
              "    <path d=\"M18.56 5.44l.94 2.06.94-2.06 2.06-.94-2.06-.94-.94-2.06-.94 2.06-2.06.94zm-11 1L8.5 8.5l.94-2.06 2.06-.94-2.06-.94L8.5 2.5l-.94 2.06-2.06.94zm10 10l.94 2.06.94-2.06 2.06-.94-2.06-.94-.94-2.06-.94 2.06-2.06.94z\"/><path d=\"M17.41 7.96l-1.37-1.37c-.4-.4-.92-.59-1.43-.59-.52 0-1.04.2-1.43.59L10.3 9.45l-7.72 7.72c-.78.78-.78 2.05 0 2.83L4 21.41c.39.39.9.59 1.41.59.51 0 1.02-.2 1.41-.59l7.78-7.78 2.81-2.81c.8-.78.8-2.07 0-2.86zM5.41 20L4 18.59l7.72-7.72 1.47 1.35L5.41 20z\"/>\n",
              "  </svg>\n",
              "      </button>\n",
              "      \n",
              "  <style>\n",
              "    .colab-df-container {\n",
              "      display:flex;\n",
              "      flex-wrap:wrap;\n",
              "      gap: 12px;\n",
              "    }\n",
              "\n",
              "    .colab-df-convert {\n",
              "      background-color: #E8F0FE;\n",
              "      border: none;\n",
              "      border-radius: 50%;\n",
              "      cursor: pointer;\n",
              "      display: none;\n",
              "      fill: #1967D2;\n",
              "      height: 32px;\n",
              "      padding: 0 0 0 0;\n",
              "      width: 32px;\n",
              "    }\n",
              "\n",
              "    .colab-df-convert:hover {\n",
              "      background-color: #E2EBFA;\n",
              "      box-shadow: 0px 1px 2px rgba(60, 64, 67, 0.3), 0px 1px 3px 1px rgba(60, 64, 67, 0.15);\n",
              "      fill: #174EA6;\n",
              "    }\n",
              "\n",
              "    [theme=dark] .colab-df-convert {\n",
              "      background-color: #3B4455;\n",
              "      fill: #D2E3FC;\n",
              "    }\n",
              "\n",
              "    [theme=dark] .colab-df-convert:hover {\n",
              "      background-color: #434B5C;\n",
              "      box-shadow: 0px 1px 3px 1px rgba(0, 0, 0, 0.15);\n",
              "      filter: drop-shadow(0px 1px 2px rgba(0, 0, 0, 0.3));\n",
              "      fill: #FFFFFF;\n",
              "    }\n",
              "  </style>\n",
              "\n",
              "      <script>\n",
              "        const buttonEl =\n",
              "          document.querySelector('#df-af171cbf-fddf-4c13-829e-090c5344f265 button.colab-df-convert');\n",
              "        buttonEl.style.display =\n",
              "          google.colab.kernel.accessAllowed ? 'block' : 'none';\n",
              "\n",
              "        async function convertToInteractive(key) {\n",
              "          const element = document.querySelector('#df-af171cbf-fddf-4c13-829e-090c5344f265');\n",
              "          const dataTable =\n",
              "            await google.colab.kernel.invokeFunction('convertToInteractive',\n",
              "                                                     [key], {});\n",
              "          if (!dataTable) return;\n",
              "\n",
              "          const docLinkHtml = 'Like what you see? Visit the ' +\n",
              "            '<a target=\"_blank\" href=https://colab.research.google.com/notebooks/data_table.ipynb>data table notebook</a>'\n",
              "            + ' to learn more about interactive tables.';\n",
              "          element.innerHTML = '';\n",
              "          dataTable['output_type'] = 'display_data';\n",
              "          await google.colab.output.renderOutput(dataTable, element);\n",
              "          const docLink = document.createElement('div');\n",
              "          docLink.innerHTML = docLinkHtml;\n",
              "          element.appendChild(docLink);\n",
              "        }\n",
              "      </script>\n",
              "    </div>\n",
              "  </div>\n",
              "  "
            ]
          },
          "metadata": {},
          "execution_count": 28
        }
      ],
      "source": [
        "# группируем данные по столбцу family_status\n",
        "# и выводим количество должников по группам\n",
        "debts_grouped_by_family_status = data.groupby('family_status')['debt'].sum()\n",
        "debts_grouped_by_family_status.to_frame()"
      ]
    },
    {
      "cell_type": "markdown",
      "id": "91c35807",
      "metadata": {
        "id": "91c35807"
      },
      "source": [
        "Судя по сгруппированным данным, число должников выше среди клиентов, которые состоят в официальном браке. Посчитаем долю невозвратов в каждой группе."
      ]
    },
    {
      "cell_type": "code",
      "execution_count": 30,
      "id": "78bad298",
      "metadata": {
        "colab": {
          "base_uri": "https://localhost:8080/",
          "height": 237
        },
        "id": "78bad298",
        "outputId": "5629e847-c24e-4479-bc2c-9f64c21c9154"
      },
      "outputs": [
        {
          "output_type": "execute_result",
          "data": {
            "text/plain": [
              "                       Количество клиентов  Количество просрочек  \\\n",
              "family_status                                                      \n",
              "Не женат / не замужем                 2796                   273   \n",
              "в разводе                             1189                    84   \n",
              "вдовец / вдова                         951                    63   \n",
              "гражданский брак                      4134                   385   \n",
              "женат / замужем                      12261                   927   \n",
              "\n",
              "                       Процент просрочек  \n",
              "family_status                             \n",
              "Не женат / не замужем           9.763948  \n",
              "в разводе                       7.064760  \n",
              "вдовец / вдова                  6.624606  \n",
              "гражданский брак                9.313014  \n",
              "женат / замужем                 7.560558  "
            ],
            "text/html": [
              "\n",
              "  <div id=\"df-62bafd28-5c35-462d-b9d2-2bd0ecbc4c57\">\n",
              "    <div class=\"colab-df-container\">\n",
              "      <div>\n",
              "<style scoped>\n",
              "    .dataframe tbody tr th:only-of-type {\n",
              "        vertical-align: middle;\n",
              "    }\n",
              "\n",
              "    .dataframe tbody tr th {\n",
              "        vertical-align: top;\n",
              "    }\n",
              "\n",
              "    .dataframe thead th {\n",
              "        text-align: right;\n",
              "    }\n",
              "</style>\n",
              "<table border=\"1\" class=\"dataframe\">\n",
              "  <thead>\n",
              "    <tr style=\"text-align: right;\">\n",
              "      <th></th>\n",
              "      <th>Количество клиентов</th>\n",
              "      <th>Количество просрочек</th>\n",
              "      <th>Процент просрочек</th>\n",
              "    </tr>\n",
              "    <tr>\n",
              "      <th>family_status</th>\n",
              "      <th></th>\n",
              "      <th></th>\n",
              "      <th></th>\n",
              "    </tr>\n",
              "  </thead>\n",
              "  <tbody>\n",
              "    <tr>\n",
              "      <th>Не женат / не замужем</th>\n",
              "      <td>2796</td>\n",
              "      <td>273</td>\n",
              "      <td>9.763948</td>\n",
              "    </tr>\n",
              "    <tr>\n",
              "      <th>в разводе</th>\n",
              "      <td>1189</td>\n",
              "      <td>84</td>\n",
              "      <td>7.064760</td>\n",
              "    </tr>\n",
              "    <tr>\n",
              "      <th>вдовец / вдова</th>\n",
              "      <td>951</td>\n",
              "      <td>63</td>\n",
              "      <td>6.624606</td>\n",
              "    </tr>\n",
              "    <tr>\n",
              "      <th>гражданский брак</th>\n",
              "      <td>4134</td>\n",
              "      <td>385</td>\n",
              "      <td>9.313014</td>\n",
              "    </tr>\n",
              "    <tr>\n",
              "      <th>женат / замужем</th>\n",
              "      <td>12261</td>\n",
              "      <td>927</td>\n",
              "      <td>7.560558</td>\n",
              "    </tr>\n",
              "  </tbody>\n",
              "</table>\n",
              "</div>\n",
              "      <button class=\"colab-df-convert\" onclick=\"convertToInteractive('df-62bafd28-5c35-462d-b9d2-2bd0ecbc4c57')\"\n",
              "              title=\"Convert this dataframe to an interactive table.\"\n",
              "              style=\"display:none;\">\n",
              "        \n",
              "  <svg xmlns=\"http://www.w3.org/2000/svg\" height=\"24px\"viewBox=\"0 0 24 24\"\n",
              "       width=\"24px\">\n",
              "    <path d=\"M0 0h24v24H0V0z\" fill=\"none\"/>\n",
              "    <path d=\"M18.56 5.44l.94 2.06.94-2.06 2.06-.94-2.06-.94-.94-2.06-.94 2.06-2.06.94zm-11 1L8.5 8.5l.94-2.06 2.06-.94-2.06-.94L8.5 2.5l-.94 2.06-2.06.94zm10 10l.94 2.06.94-2.06 2.06-.94-2.06-.94-.94-2.06-.94 2.06-2.06.94z\"/><path d=\"M17.41 7.96l-1.37-1.37c-.4-.4-.92-.59-1.43-.59-.52 0-1.04.2-1.43.59L10.3 9.45l-7.72 7.72c-.78.78-.78 2.05 0 2.83L4 21.41c.39.39.9.59 1.41.59.51 0 1.02-.2 1.41-.59l7.78-7.78 2.81-2.81c.8-.78.8-2.07 0-2.86zM5.41 20L4 18.59l7.72-7.72 1.47 1.35L5.41 20z\"/>\n",
              "  </svg>\n",
              "      </button>\n",
              "      \n",
              "  <style>\n",
              "    .colab-df-container {\n",
              "      display:flex;\n",
              "      flex-wrap:wrap;\n",
              "      gap: 12px;\n",
              "    }\n",
              "\n",
              "    .colab-df-convert {\n",
              "      background-color: #E8F0FE;\n",
              "      border: none;\n",
              "      border-radius: 50%;\n",
              "      cursor: pointer;\n",
              "      display: none;\n",
              "      fill: #1967D2;\n",
              "      height: 32px;\n",
              "      padding: 0 0 0 0;\n",
              "      width: 32px;\n",
              "    }\n",
              "\n",
              "    .colab-df-convert:hover {\n",
              "      background-color: #E2EBFA;\n",
              "      box-shadow: 0px 1px 2px rgba(60, 64, 67, 0.3), 0px 1px 3px 1px rgba(60, 64, 67, 0.15);\n",
              "      fill: #174EA6;\n",
              "    }\n",
              "\n",
              "    [theme=dark] .colab-df-convert {\n",
              "      background-color: #3B4455;\n",
              "      fill: #D2E3FC;\n",
              "    }\n",
              "\n",
              "    [theme=dark] .colab-df-convert:hover {\n",
              "      background-color: #434B5C;\n",
              "      box-shadow: 0px 1px 3px 1px rgba(0, 0, 0, 0.15);\n",
              "      filter: drop-shadow(0px 1px 2px rgba(0, 0, 0, 0.3));\n",
              "      fill: #FFFFFF;\n",
              "    }\n",
              "  </style>\n",
              "\n",
              "      <script>\n",
              "        const buttonEl =\n",
              "          document.querySelector('#df-62bafd28-5c35-462d-b9d2-2bd0ecbc4c57 button.colab-df-convert');\n",
              "        buttonEl.style.display =\n",
              "          google.colab.kernel.accessAllowed ? 'block' : 'none';\n",
              "\n",
              "        async function convertToInteractive(key) {\n",
              "          const element = document.querySelector('#df-62bafd28-5c35-462d-b9d2-2bd0ecbc4c57');\n",
              "          const dataTable =\n",
              "            await google.colab.kernel.invokeFunction('convertToInteractive',\n",
              "                                                     [key], {});\n",
              "          if (!dataTable) return;\n",
              "\n",
              "          const docLinkHtml = 'Like what you see? Visit the ' +\n",
              "            '<a target=\"_blank\" href=https://colab.research.google.com/notebooks/data_table.ipynb>data table notebook</a>'\n",
              "            + ' to learn more about interactive tables.';\n",
              "          element.innerHTML = '';\n",
              "          dataTable['output_type'] = 'display_data';\n",
              "          await google.colab.output.renderOutput(dataTable, element);\n",
              "          const docLink = document.createElement('div');\n",
              "          docLink.innerHTML = docLinkHtml;\n",
              "          element.appendChild(docLink);\n",
              "        }\n",
              "      </script>\n",
              "    </div>\n",
              "  </div>\n",
              "  "
            ]
          },
          "metadata": {},
          "execution_count": 30
        }
      ],
      "source": [
        "# строим сводную таблицу \n",
        "family_status_pivot_table = pd.pivot_table(data,\n",
        "                                           index = 'family_status',\n",
        "                                           values = ['debt'], \n",
        "                                           aggfunc = {len, sum})\n",
        "\n",
        "# добавляем в таблицу столбец с процентом просрочек по группам\n",
        "family_status_pivot_table ['debt_share'] = (\n",
        "    family_status_pivot_table['debt']['sum']\n",
        "    / family_status_pivot_table ['debt']['len']) * 100\n",
        "\n",
        "#переименовываем столбцы\n",
        "family_status_pivot_table.set_axis(\n",
        "    ['Количество клиентов', 'Количество просрочек', 'Процент просрочек'], \n",
        "    axis=1, inplace=True)\n",
        "\n",
        "family_status_pivot_table\n"
      ]
    },
    {
      "cell_type": "markdown",
      "id": "957475fd",
      "metadata": {
        "id": "957475fd"
      },
      "source": [
        "Судя по сгруппированным данным, наиболее высокий процент просрочек — среди клиентов, которые не состоят в браке или состоят в гражданском (неофициальном) браке. Наименьший процент — среди вдовцов (вдов). Возможно, это объясняется меньшим количеством клиентов-вдовцов (вдов) по сравнению с другими группами. Средний показатель — среди клиентов, состоящих в законном браке и разведенных.\n"
      ]
    },
    {
      "cell_type": "markdown",
      "id": "e961ef81",
      "metadata": {
        "deletable": false,
        "id": "e961ef81"
      },
      "source": [
        "Вывод: Наличие партнера и семейный статус заемщика влияют на вероятность возврата кредита в срок. Наибольшая вероятность — среди клиентов, которые разведены или состоят в законном браке, в этих группах меньше всего процент просрочек по кредитам. Среди клиентов, которые не состоят в браке или состоят в гражданском браке, вероятность возврата кредита в срок ниже, доля просрочек в этих группах выше."
      ]
    },
    {
      "cell_type": "markdown",
      "id": "c5990147",
      "metadata": {
        "deletable": false,
        "editable": false,
        "id": "c5990147"
      },
      "source": [
        "### Есть ли зависимость между уровнем дохода и возвратом кредита в срок?"
      ]
    },
    {
      "cell_type": "code",
      "execution_count": 31,
      "id": "97c49872",
      "metadata": {
        "deletable": false,
        "id": "97c49872",
        "colab": {
          "base_uri": "https://localhost:8080/",
          "height": 237
        },
        "outputId": "0606e063-7f6a-4fec-e95b-28ee917e7de4"
      },
      "outputs": [
        {
          "output_type": "execute_result",
          "data": {
            "text/plain": [
              "                       debt\n",
              "total_income_category      \n",
              "A                         2\n",
              "B                       354\n",
              "C                      1353\n",
              "D                        21\n",
              "E                         2"
            ],
            "text/html": [
              "\n",
              "  <div id=\"df-d90f7091-7799-4b3e-adbf-a63b50881bae\">\n",
              "    <div class=\"colab-df-container\">\n",
              "      <div>\n",
              "<style scoped>\n",
              "    .dataframe tbody tr th:only-of-type {\n",
              "        vertical-align: middle;\n",
              "    }\n",
              "\n",
              "    .dataframe tbody tr th {\n",
              "        vertical-align: top;\n",
              "    }\n",
              "\n",
              "    .dataframe thead th {\n",
              "        text-align: right;\n",
              "    }\n",
              "</style>\n",
              "<table border=\"1\" class=\"dataframe\">\n",
              "  <thead>\n",
              "    <tr style=\"text-align: right;\">\n",
              "      <th></th>\n",
              "      <th>debt</th>\n",
              "    </tr>\n",
              "    <tr>\n",
              "      <th>total_income_category</th>\n",
              "      <th></th>\n",
              "    </tr>\n",
              "  </thead>\n",
              "  <tbody>\n",
              "    <tr>\n",
              "      <th>A</th>\n",
              "      <td>2</td>\n",
              "    </tr>\n",
              "    <tr>\n",
              "      <th>B</th>\n",
              "      <td>354</td>\n",
              "    </tr>\n",
              "    <tr>\n",
              "      <th>C</th>\n",
              "      <td>1353</td>\n",
              "    </tr>\n",
              "    <tr>\n",
              "      <th>D</th>\n",
              "      <td>21</td>\n",
              "    </tr>\n",
              "    <tr>\n",
              "      <th>E</th>\n",
              "      <td>2</td>\n",
              "    </tr>\n",
              "  </tbody>\n",
              "</table>\n",
              "</div>\n",
              "      <button class=\"colab-df-convert\" onclick=\"convertToInteractive('df-d90f7091-7799-4b3e-adbf-a63b50881bae')\"\n",
              "              title=\"Convert this dataframe to an interactive table.\"\n",
              "              style=\"display:none;\">\n",
              "        \n",
              "  <svg xmlns=\"http://www.w3.org/2000/svg\" height=\"24px\"viewBox=\"0 0 24 24\"\n",
              "       width=\"24px\">\n",
              "    <path d=\"M0 0h24v24H0V0z\" fill=\"none\"/>\n",
              "    <path d=\"M18.56 5.44l.94 2.06.94-2.06 2.06-.94-2.06-.94-.94-2.06-.94 2.06-2.06.94zm-11 1L8.5 8.5l.94-2.06 2.06-.94-2.06-.94L8.5 2.5l-.94 2.06-2.06.94zm10 10l.94 2.06.94-2.06 2.06-.94-2.06-.94-.94-2.06-.94 2.06-2.06.94z\"/><path d=\"M17.41 7.96l-1.37-1.37c-.4-.4-.92-.59-1.43-.59-.52 0-1.04.2-1.43.59L10.3 9.45l-7.72 7.72c-.78.78-.78 2.05 0 2.83L4 21.41c.39.39.9.59 1.41.59.51 0 1.02-.2 1.41-.59l7.78-7.78 2.81-2.81c.8-.78.8-2.07 0-2.86zM5.41 20L4 18.59l7.72-7.72 1.47 1.35L5.41 20z\"/>\n",
              "  </svg>\n",
              "      </button>\n",
              "      \n",
              "  <style>\n",
              "    .colab-df-container {\n",
              "      display:flex;\n",
              "      flex-wrap:wrap;\n",
              "      gap: 12px;\n",
              "    }\n",
              "\n",
              "    .colab-df-convert {\n",
              "      background-color: #E8F0FE;\n",
              "      border: none;\n",
              "      border-radius: 50%;\n",
              "      cursor: pointer;\n",
              "      display: none;\n",
              "      fill: #1967D2;\n",
              "      height: 32px;\n",
              "      padding: 0 0 0 0;\n",
              "      width: 32px;\n",
              "    }\n",
              "\n",
              "    .colab-df-convert:hover {\n",
              "      background-color: #E2EBFA;\n",
              "      box-shadow: 0px 1px 2px rgba(60, 64, 67, 0.3), 0px 1px 3px 1px rgba(60, 64, 67, 0.15);\n",
              "      fill: #174EA6;\n",
              "    }\n",
              "\n",
              "    [theme=dark] .colab-df-convert {\n",
              "      background-color: #3B4455;\n",
              "      fill: #D2E3FC;\n",
              "    }\n",
              "\n",
              "    [theme=dark] .colab-df-convert:hover {\n",
              "      background-color: #434B5C;\n",
              "      box-shadow: 0px 1px 3px 1px rgba(0, 0, 0, 0.15);\n",
              "      filter: drop-shadow(0px 1px 2px rgba(0, 0, 0, 0.3));\n",
              "      fill: #FFFFFF;\n",
              "    }\n",
              "  </style>\n",
              "\n",
              "      <script>\n",
              "        const buttonEl =\n",
              "          document.querySelector('#df-d90f7091-7799-4b3e-adbf-a63b50881bae button.colab-df-convert');\n",
              "        buttonEl.style.display =\n",
              "          google.colab.kernel.accessAllowed ? 'block' : 'none';\n",
              "\n",
              "        async function convertToInteractive(key) {\n",
              "          const element = document.querySelector('#df-d90f7091-7799-4b3e-adbf-a63b50881bae');\n",
              "          const dataTable =\n",
              "            await google.colab.kernel.invokeFunction('convertToInteractive',\n",
              "                                                     [key], {});\n",
              "          if (!dataTable) return;\n",
              "\n",
              "          const docLinkHtml = 'Like what you see? Visit the ' +\n",
              "            '<a target=\"_blank\" href=https://colab.research.google.com/notebooks/data_table.ipynb>data table notebook</a>'\n",
              "            + ' to learn more about interactive tables.';\n",
              "          element.innerHTML = '';\n",
              "          dataTable['output_type'] = 'display_data';\n",
              "          await google.colab.output.renderOutput(dataTable, element);\n",
              "          const docLink = document.createElement('div');\n",
              "          docLink.innerHTML = docLinkHtml;\n",
              "          element.appendChild(docLink);\n",
              "        }\n",
              "      </script>\n",
              "    </div>\n",
              "  </div>\n",
              "  "
            ]
          },
          "metadata": {},
          "execution_count": 31
        }
      ],
      "source": [
        "# группируем данные по столбцу total_income_category \n",
        "# и считаем количество должников в каждой группе\n",
        "debts_grouped_by_total_income_category = data.groupby('total_income_category')['debt'].sum()\n",
        "debts_grouped_by_total_income_category.to_frame()\n"
      ]
    },
    {
      "cell_type": "markdown",
      "id": "4500f6e2",
      "metadata": {
        "id": "4500f6e2"
      },
      "source": [
        "Больше всего должников — в категории С. Посмотрим на общее количество клиентов в каждой категории."
      ]
    },
    {
      "cell_type": "code",
      "execution_count": 33,
      "id": "61028343",
      "metadata": {
        "colab": {
          "base_uri": "https://localhost:8080/",
          "height": 206
        },
        "id": "61028343",
        "outputId": "7421a12f-b9ff-4b17-e0db-bd8253034b5b"
      },
      "outputs": [
        {
          "output_type": "execute_result",
          "data": {
            "text/plain": [
              "   total_income_category\n",
              "C                  15921\n",
              "B                   5014\n",
              "D                    349\n",
              "A                     25\n",
              "E                     22"
            ],
            "text/html": [
              "\n",
              "  <div id=\"df-46293c06-4fb5-4204-b036-d16de3ec1c1a\">\n",
              "    <div class=\"colab-df-container\">\n",
              "      <div>\n",
              "<style scoped>\n",
              "    .dataframe tbody tr th:only-of-type {\n",
              "        vertical-align: middle;\n",
              "    }\n",
              "\n",
              "    .dataframe tbody tr th {\n",
              "        vertical-align: top;\n",
              "    }\n",
              "\n",
              "    .dataframe thead th {\n",
              "        text-align: right;\n",
              "    }\n",
              "</style>\n",
              "<table border=\"1\" class=\"dataframe\">\n",
              "  <thead>\n",
              "    <tr style=\"text-align: right;\">\n",
              "      <th></th>\n",
              "      <th>total_income_category</th>\n",
              "    </tr>\n",
              "  </thead>\n",
              "  <tbody>\n",
              "    <tr>\n",
              "      <th>C</th>\n",
              "      <td>15921</td>\n",
              "    </tr>\n",
              "    <tr>\n",
              "      <th>B</th>\n",
              "      <td>5014</td>\n",
              "    </tr>\n",
              "    <tr>\n",
              "      <th>D</th>\n",
              "      <td>349</td>\n",
              "    </tr>\n",
              "    <tr>\n",
              "      <th>A</th>\n",
              "      <td>25</td>\n",
              "    </tr>\n",
              "    <tr>\n",
              "      <th>E</th>\n",
              "      <td>22</td>\n",
              "    </tr>\n",
              "  </tbody>\n",
              "</table>\n",
              "</div>\n",
              "      <button class=\"colab-df-convert\" onclick=\"convertToInteractive('df-46293c06-4fb5-4204-b036-d16de3ec1c1a')\"\n",
              "              title=\"Convert this dataframe to an interactive table.\"\n",
              "              style=\"display:none;\">\n",
              "        \n",
              "  <svg xmlns=\"http://www.w3.org/2000/svg\" height=\"24px\"viewBox=\"0 0 24 24\"\n",
              "       width=\"24px\">\n",
              "    <path d=\"M0 0h24v24H0V0z\" fill=\"none\"/>\n",
              "    <path d=\"M18.56 5.44l.94 2.06.94-2.06 2.06-.94-2.06-.94-.94-2.06-.94 2.06-2.06.94zm-11 1L8.5 8.5l.94-2.06 2.06-.94-2.06-.94L8.5 2.5l-.94 2.06-2.06.94zm10 10l.94 2.06.94-2.06 2.06-.94-2.06-.94-.94-2.06-.94 2.06-2.06.94z\"/><path d=\"M17.41 7.96l-1.37-1.37c-.4-.4-.92-.59-1.43-.59-.52 0-1.04.2-1.43.59L10.3 9.45l-7.72 7.72c-.78.78-.78 2.05 0 2.83L4 21.41c.39.39.9.59 1.41.59.51 0 1.02-.2 1.41-.59l7.78-7.78 2.81-2.81c.8-.78.8-2.07 0-2.86zM5.41 20L4 18.59l7.72-7.72 1.47 1.35L5.41 20z\"/>\n",
              "  </svg>\n",
              "      </button>\n",
              "      \n",
              "  <style>\n",
              "    .colab-df-container {\n",
              "      display:flex;\n",
              "      flex-wrap:wrap;\n",
              "      gap: 12px;\n",
              "    }\n",
              "\n",
              "    .colab-df-convert {\n",
              "      background-color: #E8F0FE;\n",
              "      border: none;\n",
              "      border-radius: 50%;\n",
              "      cursor: pointer;\n",
              "      display: none;\n",
              "      fill: #1967D2;\n",
              "      height: 32px;\n",
              "      padding: 0 0 0 0;\n",
              "      width: 32px;\n",
              "    }\n",
              "\n",
              "    .colab-df-convert:hover {\n",
              "      background-color: #E2EBFA;\n",
              "      box-shadow: 0px 1px 2px rgba(60, 64, 67, 0.3), 0px 1px 3px 1px rgba(60, 64, 67, 0.15);\n",
              "      fill: #174EA6;\n",
              "    }\n",
              "\n",
              "    [theme=dark] .colab-df-convert {\n",
              "      background-color: #3B4455;\n",
              "      fill: #D2E3FC;\n",
              "    }\n",
              "\n",
              "    [theme=dark] .colab-df-convert:hover {\n",
              "      background-color: #434B5C;\n",
              "      box-shadow: 0px 1px 3px 1px rgba(0, 0, 0, 0.15);\n",
              "      filter: drop-shadow(0px 1px 2px rgba(0, 0, 0, 0.3));\n",
              "      fill: #FFFFFF;\n",
              "    }\n",
              "  </style>\n",
              "\n",
              "      <script>\n",
              "        const buttonEl =\n",
              "          document.querySelector('#df-46293c06-4fb5-4204-b036-d16de3ec1c1a button.colab-df-convert');\n",
              "        buttonEl.style.display =\n",
              "          google.colab.kernel.accessAllowed ? 'block' : 'none';\n",
              "\n",
              "        async function convertToInteractive(key) {\n",
              "          const element = document.querySelector('#df-46293c06-4fb5-4204-b036-d16de3ec1c1a');\n",
              "          const dataTable =\n",
              "            await google.colab.kernel.invokeFunction('convertToInteractive',\n",
              "                                                     [key], {});\n",
              "          if (!dataTable) return;\n",
              "\n",
              "          const docLinkHtml = 'Like what you see? Visit the ' +\n",
              "            '<a target=\"_blank\" href=https://colab.research.google.com/notebooks/data_table.ipynb>data table notebook</a>'\n",
              "            + ' to learn more about interactive tables.';\n",
              "          element.innerHTML = '';\n",
              "          dataTable['output_type'] = 'display_data';\n",
              "          await google.colab.output.renderOutput(dataTable, element);\n",
              "          const docLink = document.createElement('div');\n",
              "          docLink.innerHTML = docLinkHtml;\n",
              "          element.appendChild(docLink);\n",
              "        }\n",
              "      </script>\n",
              "    </div>\n",
              "  </div>\n",
              "  "
            ]
          },
          "metadata": {},
          "execution_count": 33
        }
      ],
      "source": [
        "data.total_income_category.value_counts().to_frame()"
      ]
    },
    {
      "cell_type": "markdown",
      "id": "ed0d3097",
      "metadata": {
        "id": "ed0d3097"
      },
      "source": [
        "Наибольшее количество клиентов — в категориях С (доход от 50 тыс. до 200 тыс. рублей) и B (доход от 200 тыс. до 1 млн рублей). Построим сводную таблицу."
      ]
    },
    {
      "cell_type": "code",
      "execution_count": 34,
      "id": "2ed7c08a",
      "metadata": {
        "colab": {
          "base_uri": "https://localhost:8080/",
          "height": 237
        },
        "id": "2ed7c08a",
        "outputId": "e12f09db-ba49-4aeb-f95d-e7c1611f7f4f"
      },
      "outputs": [
        {
          "output_type": "execute_result",
          "data": {
            "text/plain": [
              "                       Количество клиентов  Количество просрочек  \\\n",
              "total_income_category                                              \n",
              "C                                    15921                  1353   \n",
              "B                                     5014                   354   \n",
              "D                                      349                    21   \n",
              "A                                       25                     2   \n",
              "E                                       22                     2   \n",
              "\n",
              "                       Процент просрочек  \n",
              "total_income_category                     \n",
              "C                               8.498210  \n",
              "B                               7.060231  \n",
              "D                               6.017192  \n",
              "A                               8.000000  \n",
              "E                               9.090909  "
            ],
            "text/html": [
              "\n",
              "  <div id=\"df-d9a43395-aa8e-41fe-b494-a226e2b60577\">\n",
              "    <div class=\"colab-df-container\">\n",
              "      <div>\n",
              "<style scoped>\n",
              "    .dataframe tbody tr th:only-of-type {\n",
              "        vertical-align: middle;\n",
              "    }\n",
              "\n",
              "    .dataframe tbody tr th {\n",
              "        vertical-align: top;\n",
              "    }\n",
              "\n",
              "    .dataframe thead th {\n",
              "        text-align: right;\n",
              "    }\n",
              "</style>\n",
              "<table border=\"1\" class=\"dataframe\">\n",
              "  <thead>\n",
              "    <tr style=\"text-align: right;\">\n",
              "      <th></th>\n",
              "      <th>Количество клиентов</th>\n",
              "      <th>Количество просрочек</th>\n",
              "      <th>Процент просрочек</th>\n",
              "    </tr>\n",
              "    <tr>\n",
              "      <th>total_income_category</th>\n",
              "      <th></th>\n",
              "      <th></th>\n",
              "      <th></th>\n",
              "    </tr>\n",
              "  </thead>\n",
              "  <tbody>\n",
              "    <tr>\n",
              "      <th>C</th>\n",
              "      <td>15921</td>\n",
              "      <td>1353</td>\n",
              "      <td>8.498210</td>\n",
              "    </tr>\n",
              "    <tr>\n",
              "      <th>B</th>\n",
              "      <td>5014</td>\n",
              "      <td>354</td>\n",
              "      <td>7.060231</td>\n",
              "    </tr>\n",
              "    <tr>\n",
              "      <th>D</th>\n",
              "      <td>349</td>\n",
              "      <td>21</td>\n",
              "      <td>6.017192</td>\n",
              "    </tr>\n",
              "    <tr>\n",
              "      <th>A</th>\n",
              "      <td>25</td>\n",
              "      <td>2</td>\n",
              "      <td>8.000000</td>\n",
              "    </tr>\n",
              "    <tr>\n",
              "      <th>E</th>\n",
              "      <td>22</td>\n",
              "      <td>2</td>\n",
              "      <td>9.090909</td>\n",
              "    </tr>\n",
              "  </tbody>\n",
              "</table>\n",
              "</div>\n",
              "      <button class=\"colab-df-convert\" onclick=\"convertToInteractive('df-d9a43395-aa8e-41fe-b494-a226e2b60577')\"\n",
              "              title=\"Convert this dataframe to an interactive table.\"\n",
              "              style=\"display:none;\">\n",
              "        \n",
              "  <svg xmlns=\"http://www.w3.org/2000/svg\" height=\"24px\"viewBox=\"0 0 24 24\"\n",
              "       width=\"24px\">\n",
              "    <path d=\"M0 0h24v24H0V0z\" fill=\"none\"/>\n",
              "    <path d=\"M18.56 5.44l.94 2.06.94-2.06 2.06-.94-2.06-.94-.94-2.06-.94 2.06-2.06.94zm-11 1L8.5 8.5l.94-2.06 2.06-.94-2.06-.94L8.5 2.5l-.94 2.06-2.06.94zm10 10l.94 2.06.94-2.06 2.06-.94-2.06-.94-.94-2.06-.94 2.06-2.06.94z\"/><path d=\"M17.41 7.96l-1.37-1.37c-.4-.4-.92-.59-1.43-.59-.52 0-1.04.2-1.43.59L10.3 9.45l-7.72 7.72c-.78.78-.78 2.05 0 2.83L4 21.41c.39.39.9.59 1.41.59.51 0 1.02-.2 1.41-.59l7.78-7.78 2.81-2.81c.8-.78.8-2.07 0-2.86zM5.41 20L4 18.59l7.72-7.72 1.47 1.35L5.41 20z\"/>\n",
              "  </svg>\n",
              "      </button>\n",
              "      \n",
              "  <style>\n",
              "    .colab-df-container {\n",
              "      display:flex;\n",
              "      flex-wrap:wrap;\n",
              "      gap: 12px;\n",
              "    }\n",
              "\n",
              "    .colab-df-convert {\n",
              "      background-color: #E8F0FE;\n",
              "      border: none;\n",
              "      border-radius: 50%;\n",
              "      cursor: pointer;\n",
              "      display: none;\n",
              "      fill: #1967D2;\n",
              "      height: 32px;\n",
              "      padding: 0 0 0 0;\n",
              "      width: 32px;\n",
              "    }\n",
              "\n",
              "    .colab-df-convert:hover {\n",
              "      background-color: #E2EBFA;\n",
              "      box-shadow: 0px 1px 2px rgba(60, 64, 67, 0.3), 0px 1px 3px 1px rgba(60, 64, 67, 0.15);\n",
              "      fill: #174EA6;\n",
              "    }\n",
              "\n",
              "    [theme=dark] .colab-df-convert {\n",
              "      background-color: #3B4455;\n",
              "      fill: #D2E3FC;\n",
              "    }\n",
              "\n",
              "    [theme=dark] .colab-df-convert:hover {\n",
              "      background-color: #434B5C;\n",
              "      box-shadow: 0px 1px 3px 1px rgba(0, 0, 0, 0.15);\n",
              "      filter: drop-shadow(0px 1px 2px rgba(0, 0, 0, 0.3));\n",
              "      fill: #FFFFFF;\n",
              "    }\n",
              "  </style>\n",
              "\n",
              "      <script>\n",
              "        const buttonEl =\n",
              "          document.querySelector('#df-d9a43395-aa8e-41fe-b494-a226e2b60577 button.colab-df-convert');\n",
              "        buttonEl.style.display =\n",
              "          google.colab.kernel.accessAllowed ? 'block' : 'none';\n",
              "\n",
              "        async function convertToInteractive(key) {\n",
              "          const element = document.querySelector('#df-d9a43395-aa8e-41fe-b494-a226e2b60577');\n",
              "          const dataTable =\n",
              "            await google.colab.kernel.invokeFunction('convertToInteractive',\n",
              "                                                     [key], {});\n",
              "          if (!dataTable) return;\n",
              "\n",
              "          const docLinkHtml = 'Like what you see? Visit the ' +\n",
              "            '<a target=\"_blank\" href=https://colab.research.google.com/notebooks/data_table.ipynb>data table notebook</a>'\n",
              "            + ' to learn more about interactive tables.';\n",
              "          element.innerHTML = '';\n",
              "          dataTable['output_type'] = 'display_data';\n",
              "          await google.colab.output.renderOutput(dataTable, element);\n",
              "          const docLink = document.createElement('div');\n",
              "          docLink.innerHTML = docLinkHtml;\n",
              "          element.appendChild(docLink);\n",
              "        }\n",
              "      </script>\n",
              "    </div>\n",
              "  </div>\n",
              "  "
            ]
          },
          "metadata": {},
          "execution_count": 34
        }
      ],
      "source": [
        "# строим сводную таблицу \n",
        "income_pivot_table = pd.pivot_table(data,\n",
        "                                    index = 'total_income_category',\n",
        "                                    values = ['debt'], \n",
        "                                    aggfunc = {len, sum})\n",
        "\n",
        "#считаем долю должников в процентах и добавляем столбец\n",
        "income_pivot_table ['share'] = (income_pivot_table['debt']['sum'] \n",
        "                                / income_pivot_table['debt']['len']) * 100\n",
        "\n",
        "#сортируем значения по убыванию по столбцам debt, len\n",
        "income_pivot_table = income_pivot_table.sort_values(by=('debt', 'len'), \n",
        "                                                    ascending = False)\n",
        "\n",
        "# #переименовываем столбцы\n",
        "income_pivot_table.set_axis(\n",
        "    ['Количество клиентов', 'Количество просрочек', 'Процент просрочек'], \n",
        "    axis=1, inplace=True)\n",
        "\n",
        "income_pivot_table\n",
        "\n"
      ]
    },
    {
      "cell_type": "markdown",
      "id": "9f55bfea",
      "metadata": {
        "id": "9f55bfea"
      },
      "source": [
        "Для анализа будем опираться на данные по двум первым (по численности) категориям клиентов как наиболее репрезентативным. Как следует из таблицы, наиболее высокий процент просрочек — среди клиентов категории C (доход от 50 тыс. до 200 тыс. рублей). У группы клиентов с более высоким уровнем дохода B (доход от 200 тыс. до 1 млн рублей) доля просрочек ниже."
      ]
    },
    {
      "cell_type": "markdown",
      "id": "6a2d85c1",
      "metadata": {
        "deletable": false,
        "id": "6a2d85c1"
      },
      "source": [
        "Вывод: Уровень дохода оказывает влияние на вероятность возврата кредита в срок. Среди клиентов с более высоким уровнем дохода ниже процент просрочек по кредитам."
      ]
    },
    {
      "cell_type": "markdown",
      "id": "9abe6184",
      "metadata": {
        "deletable": false,
        "editable": false,
        "id": "9abe6184"
      },
      "source": [
        "### Как разные цели кредита влияют на его возврат в срок?"
      ]
    },
    {
      "cell_type": "code",
      "execution_count": 36,
      "id": "51b10080",
      "metadata": {
        "deletable": false,
        "id": "51b10080",
        "colab": {
          "base_uri": "https://localhost:8080/",
          "height": 206
        },
        "outputId": "43b4c782-b953-46e2-baca-5531f71e4c8b"
      },
      "outputs": [
        {
          "output_type": "execute_result",
          "data": {
            "text/plain": [
              "                          debt\n",
              "purpose_category              \n",
              "операции с автомобилем     400\n",
              "операции с недвижимостью   780\n",
              "получение образования      369\n",
              "проведение свадьбы         183"
            ],
            "text/html": [
              "\n",
              "  <div id=\"df-27370e5b-01d4-4500-b79e-0dc3a8d1016c\">\n",
              "    <div class=\"colab-df-container\">\n",
              "      <div>\n",
              "<style scoped>\n",
              "    .dataframe tbody tr th:only-of-type {\n",
              "        vertical-align: middle;\n",
              "    }\n",
              "\n",
              "    .dataframe tbody tr th {\n",
              "        vertical-align: top;\n",
              "    }\n",
              "\n",
              "    .dataframe thead th {\n",
              "        text-align: right;\n",
              "    }\n",
              "</style>\n",
              "<table border=\"1\" class=\"dataframe\">\n",
              "  <thead>\n",
              "    <tr style=\"text-align: right;\">\n",
              "      <th></th>\n",
              "      <th>debt</th>\n",
              "    </tr>\n",
              "    <tr>\n",
              "      <th>purpose_category</th>\n",
              "      <th></th>\n",
              "    </tr>\n",
              "  </thead>\n",
              "  <tbody>\n",
              "    <tr>\n",
              "      <th>операции с автомобилем</th>\n",
              "      <td>400</td>\n",
              "    </tr>\n",
              "    <tr>\n",
              "      <th>операции с недвижимостью</th>\n",
              "      <td>780</td>\n",
              "    </tr>\n",
              "    <tr>\n",
              "      <th>получение образования</th>\n",
              "      <td>369</td>\n",
              "    </tr>\n",
              "    <tr>\n",
              "      <th>проведение свадьбы</th>\n",
              "      <td>183</td>\n",
              "    </tr>\n",
              "  </tbody>\n",
              "</table>\n",
              "</div>\n",
              "      <button class=\"colab-df-convert\" onclick=\"convertToInteractive('df-27370e5b-01d4-4500-b79e-0dc3a8d1016c')\"\n",
              "              title=\"Convert this dataframe to an interactive table.\"\n",
              "              style=\"display:none;\">\n",
              "        \n",
              "  <svg xmlns=\"http://www.w3.org/2000/svg\" height=\"24px\"viewBox=\"0 0 24 24\"\n",
              "       width=\"24px\">\n",
              "    <path d=\"M0 0h24v24H0V0z\" fill=\"none\"/>\n",
              "    <path d=\"M18.56 5.44l.94 2.06.94-2.06 2.06-.94-2.06-.94-.94-2.06-.94 2.06-2.06.94zm-11 1L8.5 8.5l.94-2.06 2.06-.94-2.06-.94L8.5 2.5l-.94 2.06-2.06.94zm10 10l.94 2.06.94-2.06 2.06-.94-2.06-.94-.94-2.06-.94 2.06-2.06.94z\"/><path d=\"M17.41 7.96l-1.37-1.37c-.4-.4-.92-.59-1.43-.59-.52 0-1.04.2-1.43.59L10.3 9.45l-7.72 7.72c-.78.78-.78 2.05 0 2.83L4 21.41c.39.39.9.59 1.41.59.51 0 1.02-.2 1.41-.59l7.78-7.78 2.81-2.81c.8-.78.8-2.07 0-2.86zM5.41 20L4 18.59l7.72-7.72 1.47 1.35L5.41 20z\"/>\n",
              "  </svg>\n",
              "      </button>\n",
              "      \n",
              "  <style>\n",
              "    .colab-df-container {\n",
              "      display:flex;\n",
              "      flex-wrap:wrap;\n",
              "      gap: 12px;\n",
              "    }\n",
              "\n",
              "    .colab-df-convert {\n",
              "      background-color: #E8F0FE;\n",
              "      border: none;\n",
              "      border-radius: 50%;\n",
              "      cursor: pointer;\n",
              "      display: none;\n",
              "      fill: #1967D2;\n",
              "      height: 32px;\n",
              "      padding: 0 0 0 0;\n",
              "      width: 32px;\n",
              "    }\n",
              "\n",
              "    .colab-df-convert:hover {\n",
              "      background-color: #E2EBFA;\n",
              "      box-shadow: 0px 1px 2px rgba(60, 64, 67, 0.3), 0px 1px 3px 1px rgba(60, 64, 67, 0.15);\n",
              "      fill: #174EA6;\n",
              "    }\n",
              "\n",
              "    [theme=dark] .colab-df-convert {\n",
              "      background-color: #3B4455;\n",
              "      fill: #D2E3FC;\n",
              "    }\n",
              "\n",
              "    [theme=dark] .colab-df-convert:hover {\n",
              "      background-color: #434B5C;\n",
              "      box-shadow: 0px 1px 3px 1px rgba(0, 0, 0, 0.15);\n",
              "      filter: drop-shadow(0px 1px 2px rgba(0, 0, 0, 0.3));\n",
              "      fill: #FFFFFF;\n",
              "    }\n",
              "  </style>\n",
              "\n",
              "      <script>\n",
              "        const buttonEl =\n",
              "          document.querySelector('#df-27370e5b-01d4-4500-b79e-0dc3a8d1016c button.colab-df-convert');\n",
              "        buttonEl.style.display =\n",
              "          google.colab.kernel.accessAllowed ? 'block' : 'none';\n",
              "\n",
              "        async function convertToInteractive(key) {\n",
              "          const element = document.querySelector('#df-27370e5b-01d4-4500-b79e-0dc3a8d1016c');\n",
              "          const dataTable =\n",
              "            await google.colab.kernel.invokeFunction('convertToInteractive',\n",
              "                                                     [key], {});\n",
              "          if (!dataTable) return;\n",
              "\n",
              "          const docLinkHtml = 'Like what you see? Visit the ' +\n",
              "            '<a target=\"_blank\" href=https://colab.research.google.com/notebooks/data_table.ipynb>data table notebook</a>'\n",
              "            + ' to learn more about interactive tables.';\n",
              "          element.innerHTML = '';\n",
              "          dataTable['output_type'] = 'display_data';\n",
              "          await google.colab.output.renderOutput(dataTable, element);\n",
              "          const docLink = document.createElement('div');\n",
              "          docLink.innerHTML = docLinkHtml;\n",
              "          element.appendChild(docLink);\n",
              "        }\n",
              "      </script>\n",
              "    </div>\n",
              "  </div>\n",
              "  "
            ]
          },
          "metadata": {},
          "execution_count": 36
        }
      ],
      "source": [
        "debts_grouped_by_purpose_category = data.groupby('purpose_category')['debt'].sum()\n",
        "debts_grouped_by_purpose_category.to_frame()\n",
        "\n"
      ]
    },
    {
      "cell_type": "markdown",
      "id": "01fa5063",
      "metadata": {
        "id": "01fa5063"
      },
      "source": [
        "Мы сгруппировали данные по категориям целей кредита и посчитали количество должников в каждой группе. По абсолютному покзателю лидируют операции с недвижимостью. Рассчитаем долю должников в каждой группе и построим сводную таблицу."
      ]
    },
    {
      "cell_type": "code",
      "execution_count": 37,
      "id": "81bdf81b",
      "metadata": {
        "colab": {
          "base_uri": "https://localhost:8080/",
          "height": 206
        },
        "id": "81bdf81b",
        "outputId": "87627792-e801-4e98-c5c5-b7a08c4c9f6e"
      },
      "outputs": [
        {
          "output_type": "execute_result",
          "data": {
            "text/plain": [
              "                          Количество клиентов  Количество просрочек  \\\n",
              "purpose_category                                                      \n",
              "операции с автомобилем                   4279                   400   \n",
              "операции с недвижимостью                10751                   780   \n",
              "получение образования                    3988                   369   \n",
              "проведение свадьбы                       2313                   183   \n",
              "\n",
              "                          Процент просрочек  \n",
              "purpose_category                             \n",
              "операции с автомобилем             9.347978  \n",
              "операции с недвижимостью           7.255139  \n",
              "получение образования              9.252758  \n",
              "проведение свадьбы                 7.911803  "
            ],
            "text/html": [
              "\n",
              "  <div id=\"df-e8f74df1-f394-4c0d-a0a1-a41a44cab737\">\n",
              "    <div class=\"colab-df-container\">\n",
              "      <div>\n",
              "<style scoped>\n",
              "    .dataframe tbody tr th:only-of-type {\n",
              "        vertical-align: middle;\n",
              "    }\n",
              "\n",
              "    .dataframe tbody tr th {\n",
              "        vertical-align: top;\n",
              "    }\n",
              "\n",
              "    .dataframe thead th {\n",
              "        text-align: right;\n",
              "    }\n",
              "</style>\n",
              "<table border=\"1\" class=\"dataframe\">\n",
              "  <thead>\n",
              "    <tr style=\"text-align: right;\">\n",
              "      <th></th>\n",
              "      <th>Количество клиентов</th>\n",
              "      <th>Количество просрочек</th>\n",
              "      <th>Процент просрочек</th>\n",
              "    </tr>\n",
              "    <tr>\n",
              "      <th>purpose_category</th>\n",
              "      <th></th>\n",
              "      <th></th>\n",
              "      <th></th>\n",
              "    </tr>\n",
              "  </thead>\n",
              "  <tbody>\n",
              "    <tr>\n",
              "      <th>операции с автомобилем</th>\n",
              "      <td>4279</td>\n",
              "      <td>400</td>\n",
              "      <td>9.347978</td>\n",
              "    </tr>\n",
              "    <tr>\n",
              "      <th>операции с недвижимостью</th>\n",
              "      <td>10751</td>\n",
              "      <td>780</td>\n",
              "      <td>7.255139</td>\n",
              "    </tr>\n",
              "    <tr>\n",
              "      <th>получение образования</th>\n",
              "      <td>3988</td>\n",
              "      <td>369</td>\n",
              "      <td>9.252758</td>\n",
              "    </tr>\n",
              "    <tr>\n",
              "      <th>проведение свадьбы</th>\n",
              "      <td>2313</td>\n",
              "      <td>183</td>\n",
              "      <td>7.911803</td>\n",
              "    </tr>\n",
              "  </tbody>\n",
              "</table>\n",
              "</div>\n",
              "      <button class=\"colab-df-convert\" onclick=\"convertToInteractive('df-e8f74df1-f394-4c0d-a0a1-a41a44cab737')\"\n",
              "              title=\"Convert this dataframe to an interactive table.\"\n",
              "              style=\"display:none;\">\n",
              "        \n",
              "  <svg xmlns=\"http://www.w3.org/2000/svg\" height=\"24px\"viewBox=\"0 0 24 24\"\n",
              "       width=\"24px\">\n",
              "    <path d=\"M0 0h24v24H0V0z\" fill=\"none\"/>\n",
              "    <path d=\"M18.56 5.44l.94 2.06.94-2.06 2.06-.94-2.06-.94-.94-2.06-.94 2.06-2.06.94zm-11 1L8.5 8.5l.94-2.06 2.06-.94-2.06-.94L8.5 2.5l-.94 2.06-2.06.94zm10 10l.94 2.06.94-2.06 2.06-.94-2.06-.94-.94-2.06-.94 2.06-2.06.94z\"/><path d=\"M17.41 7.96l-1.37-1.37c-.4-.4-.92-.59-1.43-.59-.52 0-1.04.2-1.43.59L10.3 9.45l-7.72 7.72c-.78.78-.78 2.05 0 2.83L4 21.41c.39.39.9.59 1.41.59.51 0 1.02-.2 1.41-.59l7.78-7.78 2.81-2.81c.8-.78.8-2.07 0-2.86zM5.41 20L4 18.59l7.72-7.72 1.47 1.35L5.41 20z\"/>\n",
              "  </svg>\n",
              "      </button>\n",
              "      \n",
              "  <style>\n",
              "    .colab-df-container {\n",
              "      display:flex;\n",
              "      flex-wrap:wrap;\n",
              "      gap: 12px;\n",
              "    }\n",
              "\n",
              "    .colab-df-convert {\n",
              "      background-color: #E8F0FE;\n",
              "      border: none;\n",
              "      border-radius: 50%;\n",
              "      cursor: pointer;\n",
              "      display: none;\n",
              "      fill: #1967D2;\n",
              "      height: 32px;\n",
              "      padding: 0 0 0 0;\n",
              "      width: 32px;\n",
              "    }\n",
              "\n",
              "    .colab-df-convert:hover {\n",
              "      background-color: #E2EBFA;\n",
              "      box-shadow: 0px 1px 2px rgba(60, 64, 67, 0.3), 0px 1px 3px 1px rgba(60, 64, 67, 0.15);\n",
              "      fill: #174EA6;\n",
              "    }\n",
              "\n",
              "    [theme=dark] .colab-df-convert {\n",
              "      background-color: #3B4455;\n",
              "      fill: #D2E3FC;\n",
              "    }\n",
              "\n",
              "    [theme=dark] .colab-df-convert:hover {\n",
              "      background-color: #434B5C;\n",
              "      box-shadow: 0px 1px 3px 1px rgba(0, 0, 0, 0.15);\n",
              "      filter: drop-shadow(0px 1px 2px rgba(0, 0, 0, 0.3));\n",
              "      fill: #FFFFFF;\n",
              "    }\n",
              "  </style>\n",
              "\n",
              "      <script>\n",
              "        const buttonEl =\n",
              "          document.querySelector('#df-e8f74df1-f394-4c0d-a0a1-a41a44cab737 button.colab-df-convert');\n",
              "        buttonEl.style.display =\n",
              "          google.colab.kernel.accessAllowed ? 'block' : 'none';\n",
              "\n",
              "        async function convertToInteractive(key) {\n",
              "          const element = document.querySelector('#df-e8f74df1-f394-4c0d-a0a1-a41a44cab737');\n",
              "          const dataTable =\n",
              "            await google.colab.kernel.invokeFunction('convertToInteractive',\n",
              "                                                     [key], {});\n",
              "          if (!dataTable) return;\n",
              "\n",
              "          const docLinkHtml = 'Like what you see? Visit the ' +\n",
              "            '<a target=\"_blank\" href=https://colab.research.google.com/notebooks/data_table.ipynb>data table notebook</a>'\n",
              "            + ' to learn more about interactive tables.';\n",
              "          element.innerHTML = '';\n",
              "          dataTable['output_type'] = 'display_data';\n",
              "          await google.colab.output.renderOutput(dataTable, element);\n",
              "          const docLink = document.createElement('div');\n",
              "          docLink.innerHTML = docLinkHtml;\n",
              "          element.appendChild(docLink);\n",
              "        }\n",
              "      </script>\n",
              "    </div>\n",
              "  </div>\n",
              "  "
            ]
          },
          "metadata": {},
          "execution_count": 37
        }
      ],
      "source": [
        "# строим сводную таблицу\n",
        "purpose_pivot_table = pd.pivot_table(data,\n",
        "                                     index = 'purpose_category',\n",
        "                                     values = ['debt'], \n",
        "                                     aggfunc = {len, sum})\n",
        "\n",
        "# добавляем в таблицу столбец с процентом просрочек по группам\n",
        "purpose_pivot_table ['share'] = (purpose_pivot_table ['debt']['sum'] \n",
        "                                 / purpose_pivot_table ['debt']['len']) * 100\n",
        "\n",
        "#переименовываем столбцы\n",
        "purpose_pivot_table.set_axis(\n",
        "    ['Количество клиентов', 'Количество просрочек', 'Процент просрочек'], \n",
        "    axis=1, inplace=True)\n",
        "\n",
        "purpose_pivot_table\n",
        "\n"
      ]
    },
    {
      "cell_type": "markdown",
      "id": "d41702d7",
      "metadata": {
        "id": "d41702d7"
      },
      "source": [
        "В процентном отношении операции с недвижимостью оказались на последнем месте по доле должников. Наибольший процент просрочек — в группе \"операции с автомобилем\".\n"
      ]
    },
    {
      "cell_type": "markdown",
      "id": "b9273314",
      "metadata": {
        "deletable": false,
        "id": "b9273314"
      },
      "source": [
        "Вывод: Между целью кредита и вероятностью его возврата в срок существует зависимость. Вероятность возврата кредита в срок выше среди клиентов, у которых цель кредита — приобретение недвижимости или иные операции с недвижимостью. В группе клиентов, которые берут кредит на покупку автомобиля, процент просрочек выше, а вероятность возврата кредита в срок — ниже."
      ]
    },
    {
      "cell_type": "markdown",
      "id": "2a82f4f1",
      "metadata": {
        "deletable": false,
        "editable": false,
        "id": "2a82f4f1"
      },
      "source": [
        "## Вывод про проекту"
      ]
    },
    {
      "cell_type": "markdown",
      "id": "ba2f395c",
      "metadata": {
        "deletable": false,
        "id": "ba2f395c"
      },
      "source": [
        "<span style='background :orange'> В ходе анализа было установлено, что на вероятность возврата кредита в срок могут влиять:\n",
        "1. Наличие и количество детей у заемщика: чем больше у клиента детей, тем больше вероятность просрочки по кредиту.\n",
        "2. Семейный статус заемщика: вероятность просрочки выше, если клиент не состоит в браке или состоит в гражданском браке.\n",
        "3. Уровень дохода заемщика: чем выше уровень дохода, тем ниже вероятность просрочки по кредиту.\n",
        "4. Цель получения кредита: если целью заемщика являются операции с недвижимостью (покупка квартиры, приобретение коммерческой недвижимости и др.), то вероятность просрочки ниже; если заемщик берет кредит на покупку автомобиля или получение образования, вероятность просрочки выше. \n",
        "    </span>\n",
        "\n"
      ]
    }
  ],
  "metadata": {
    "ExecuteTimeLog": [
      {
        "duration": 497,
        "start_time": "2022-09-26T09:38:31.289Z"
      },
      {
        "duration": 26,
        "start_time": "2022-09-26T09:38:31.788Z"
      },
      {
        "duration": 32,
        "start_time": "2022-09-26T09:38:31.817Z"
      },
      {
        "duration": 29,
        "start_time": "2022-09-26T09:38:31.852Z"
      },
      {
        "duration": 57,
        "start_time": "2022-09-26T09:38:31.883Z"
      },
      {
        "duration": 4,
        "start_time": "2022-09-26T09:38:31.941Z"
      },
      {
        "duration": 34,
        "start_time": "2022-09-26T09:38:31.946Z"
      },
      {
        "duration": 44,
        "start_time": "2022-09-26T09:38:31.983Z"
      },
      {
        "duration": 42,
        "start_time": "2022-09-26T09:38:32.029Z"
      },
      {
        "duration": 19,
        "start_time": "2022-09-26T09:38:32.074Z"
      },
      {
        "duration": 59,
        "start_time": "2022-09-26T09:38:32.095Z"
      },
      {
        "duration": 9,
        "start_time": "2022-09-26T09:38:32.156Z"
      },
      {
        "duration": 23,
        "start_time": "2022-09-26T09:38:32.167Z"
      },
      {
        "duration": 28,
        "start_time": "2022-09-26T09:38:32.191Z"
      },
      {
        "duration": 45,
        "start_time": "2022-09-26T09:38:32.221Z"
      },
      {
        "duration": 17,
        "start_time": "2022-09-26T09:38:32.267Z"
      },
      {
        "duration": 19,
        "start_time": "2022-09-26T09:38:32.286Z"
      },
      {
        "duration": 33,
        "start_time": "2022-09-26T09:38:32.307Z"
      },
      {
        "duration": 17,
        "start_time": "2022-09-26T09:38:32.342Z"
      },
      {
        "duration": 33,
        "start_time": "2022-09-26T09:38:32.361Z"
      },
      {
        "duration": 21,
        "start_time": "2022-09-26T09:38:32.396Z"
      },
      {
        "duration": 21,
        "start_time": "2022-09-26T09:38:32.419Z"
      },
      {
        "duration": 18,
        "start_time": "2022-09-26T09:38:32.442Z"
      },
      {
        "duration": 33,
        "start_time": "2022-09-26T09:38:32.462Z"
      },
      {
        "duration": 28,
        "start_time": "2022-09-26T09:38:32.496Z"
      },
      {
        "duration": 63,
        "start_time": "2022-09-26T09:44:08.182Z"
      },
      {
        "duration": 3,
        "start_time": "2022-09-26T09:44:11.259Z"
      },
      {
        "duration": 87,
        "start_time": "2022-09-26T09:45:05.128Z"
      },
      {
        "duration": 5,
        "start_time": "2022-09-26T09:45:09.142Z"
      },
      {
        "duration": 17,
        "start_time": "2022-09-26T09:45:28.790Z"
      },
      {
        "duration": 18,
        "start_time": "2022-09-26T09:45:32.666Z"
      },
      {
        "duration": 17,
        "start_time": "2022-09-26T09:45:57.919Z"
      },
      {
        "duration": 17,
        "start_time": "2022-09-26T09:51:35.110Z"
      },
      {
        "duration": 3,
        "start_time": "2022-09-26T09:51:48.898Z"
      },
      {
        "duration": 10,
        "start_time": "2022-09-26T09:51:56.876Z"
      },
      {
        "duration": 541,
        "start_time": "2022-09-26T09:52:10.645Z"
      },
      {
        "duration": 83,
        "start_time": "2022-09-26T09:52:18.891Z"
      },
      {
        "duration": 7,
        "start_time": "2022-09-26T09:52:36.327Z"
      },
      {
        "duration": 34,
        "start_time": "2022-09-26T09:57:02.636Z"
      },
      {
        "duration": 8,
        "start_time": "2022-09-26T09:57:19.374Z"
      },
      {
        "duration": 25,
        "start_time": "2022-09-26T09:59:54.414Z"
      },
      {
        "duration": 11,
        "start_time": "2022-09-26T10:00:16.198Z"
      },
      {
        "duration": 13,
        "start_time": "2022-09-26T10:01:57.821Z"
      },
      {
        "duration": 18,
        "start_time": "2022-09-26T10:02:06.615Z"
      },
      {
        "duration": 21,
        "start_time": "2022-09-26T10:03:47.558Z"
      },
      {
        "duration": 15,
        "start_time": "2022-09-26T10:05:34.294Z"
      },
      {
        "duration": 14,
        "start_time": "2022-09-26T10:09:05.873Z"
      },
      {
        "duration": 15,
        "start_time": "2022-09-26T10:12:04.425Z"
      },
      {
        "duration": 18,
        "start_time": "2022-09-26T10:12:53.684Z"
      },
      {
        "duration": 25,
        "start_time": "2022-09-26T10:14:35.410Z"
      },
      {
        "duration": 464,
        "start_time": "2022-09-26T10:15:17.331Z"
      },
      {
        "duration": 26,
        "start_time": "2022-09-26T10:15:17.800Z"
      },
      {
        "duration": 15,
        "start_time": "2022-09-26T10:15:17.830Z"
      },
      {
        "duration": 27,
        "start_time": "2022-09-26T10:15:17.847Z"
      },
      {
        "duration": 34,
        "start_time": "2022-09-26T10:15:17.876Z"
      },
      {
        "duration": 3,
        "start_time": "2022-09-26T10:15:17.912Z"
      },
      {
        "duration": 8,
        "start_time": "2022-09-26T10:15:17.921Z"
      },
      {
        "duration": 7,
        "start_time": "2022-09-26T10:15:17.931Z"
      },
      {
        "duration": 8,
        "start_time": "2022-09-26T10:15:17.940Z"
      },
      {
        "duration": 10,
        "start_time": "2022-09-26T10:15:17.950Z"
      },
      {
        "duration": 39,
        "start_time": "2022-09-26T10:15:17.961Z"
      },
      {
        "duration": 29,
        "start_time": "2022-09-26T10:15:18.001Z"
      },
      {
        "duration": 22,
        "start_time": "2022-09-26T10:15:18.032Z"
      },
      {
        "duration": 25,
        "start_time": "2022-09-26T10:15:18.056Z"
      },
      {
        "duration": 35,
        "start_time": "2022-09-26T10:15:18.082Z"
      },
      {
        "duration": 17,
        "start_time": "2022-09-26T10:15:18.119Z"
      },
      {
        "duration": 4,
        "start_time": "2022-09-26T10:15:18.137Z"
      },
      {
        "duration": 27,
        "start_time": "2022-09-26T10:15:18.143Z"
      },
      {
        "duration": 18,
        "start_time": "2022-09-26T10:15:18.172Z"
      },
      {
        "duration": 26,
        "start_time": "2022-09-26T10:15:18.191Z"
      },
      {
        "duration": 20,
        "start_time": "2022-09-26T10:15:18.218Z"
      },
      {
        "duration": 107,
        "start_time": "2022-09-26T10:15:18.240Z"
      },
      {
        "duration": 0,
        "start_time": "2022-09-26T10:15:18.348Z"
      },
      {
        "duration": 0,
        "start_time": "2022-09-26T10:15:18.350Z"
      },
      {
        "duration": 0,
        "start_time": "2022-09-26T10:15:18.351Z"
      },
      {
        "duration": 19,
        "start_time": "2022-09-26T10:15:52.587Z"
      },
      {
        "duration": 18,
        "start_time": "2022-09-26T10:16:30.317Z"
      },
      {
        "duration": 25,
        "start_time": "2022-09-26T10:16:44.836Z"
      },
      {
        "duration": 24,
        "start_time": "2022-09-26T10:17:22.553Z"
      },
      {
        "duration": 15,
        "start_time": "2022-09-26T10:17:42.867Z"
      },
      {
        "duration": 26,
        "start_time": "2022-09-26T10:20:06.503Z"
      },
      {
        "duration": 22,
        "start_time": "2022-09-26T10:20:29.124Z"
      },
      {
        "duration": 18,
        "start_time": "2022-09-26T10:20:35.073Z"
      },
      {
        "duration": 15,
        "start_time": "2022-09-26T10:20:42.138Z"
      },
      {
        "duration": 7,
        "start_time": "2022-09-26T10:20:58.196Z"
      },
      {
        "duration": 12,
        "start_time": "2022-09-26T10:22:02.749Z"
      },
      {
        "duration": 11,
        "start_time": "2022-09-26T10:22:27.305Z"
      },
      {
        "duration": 13,
        "start_time": "2022-09-26T10:28:56.853Z"
      },
      {
        "duration": 116,
        "start_time": "2022-09-26T10:29:39.923Z"
      },
      {
        "duration": 25,
        "start_time": "2022-09-26T10:29:52.097Z"
      },
      {
        "duration": 19,
        "start_time": "2022-09-26T10:30:42.896Z"
      },
      {
        "duration": 55,
        "start_time": "2022-09-26T13:24:40.998Z"
      },
      {
        "duration": 514,
        "start_time": "2022-09-26T13:24:54.045Z"
      },
      {
        "duration": 24,
        "start_time": "2022-09-26T13:24:54.561Z"
      },
      {
        "duration": 17,
        "start_time": "2022-09-26T13:24:54.586Z"
      },
      {
        "duration": 10,
        "start_time": "2022-09-26T13:24:54.605Z"
      },
      {
        "duration": 41,
        "start_time": "2022-09-26T13:24:54.616Z"
      },
      {
        "duration": 4,
        "start_time": "2022-09-26T13:24:54.658Z"
      },
      {
        "duration": 15,
        "start_time": "2022-09-26T13:24:54.663Z"
      },
      {
        "duration": 13,
        "start_time": "2022-09-26T13:24:54.679Z"
      },
      {
        "duration": 12,
        "start_time": "2022-09-26T13:24:54.694Z"
      },
      {
        "duration": 54,
        "start_time": "2022-09-26T13:24:54.709Z"
      },
      {
        "duration": 50,
        "start_time": "2022-09-26T13:24:54.765Z"
      },
      {
        "duration": 11,
        "start_time": "2022-09-26T13:24:54.816Z"
      },
      {
        "duration": 20,
        "start_time": "2022-09-26T13:24:54.829Z"
      },
      {
        "duration": 39,
        "start_time": "2022-09-26T13:24:54.851Z"
      },
      {
        "duration": 81,
        "start_time": "2022-09-26T13:24:54.892Z"
      },
      {
        "duration": 54,
        "start_time": "2022-09-26T13:24:54.975Z"
      },
      {
        "duration": 13,
        "start_time": "2022-09-26T13:24:55.031Z"
      },
      {
        "duration": 58,
        "start_time": "2022-09-26T13:24:55.045Z"
      },
      {
        "duration": 18,
        "start_time": "2022-09-26T13:24:55.105Z"
      },
      {
        "duration": 20,
        "start_time": "2022-09-26T13:24:55.124Z"
      },
      {
        "duration": 18,
        "start_time": "2022-09-26T13:24:55.146Z"
      },
      {
        "duration": 37,
        "start_time": "2022-09-26T13:24:55.166Z"
      },
      {
        "duration": 18,
        "start_time": "2022-09-26T13:24:55.205Z"
      },
      {
        "duration": 24,
        "start_time": "2022-09-26T13:24:55.225Z"
      },
      {
        "duration": 9,
        "start_time": "2022-09-26T13:24:55.251Z"
      },
      {
        "duration": 11,
        "start_time": "2022-09-26T13:25:01.458Z"
      },
      {
        "duration": 13,
        "start_time": "2022-09-26T13:25:04.285Z"
      },
      {
        "duration": 32,
        "start_time": "2022-09-26T13:25:11.991Z"
      },
      {
        "duration": 12,
        "start_time": "2022-09-26T13:25:58.985Z"
      },
      {
        "duration": 12,
        "start_time": "2022-09-26T13:26:44.936Z"
      },
      {
        "duration": 14,
        "start_time": "2022-09-26T13:27:56.733Z"
      },
      {
        "duration": 72,
        "start_time": "2022-09-26T13:28:19.890Z"
      },
      {
        "duration": 15,
        "start_time": "2022-09-26T13:28:42.617Z"
      },
      {
        "duration": 41,
        "start_time": "2022-09-26T13:40:28.838Z"
      },
      {
        "duration": 22,
        "start_time": "2022-09-26T13:45:32.753Z"
      },
      {
        "duration": 7,
        "start_time": "2022-09-26T13:49:49.943Z"
      },
      {
        "duration": 22,
        "start_time": "2022-09-26T13:50:12.533Z"
      },
      {
        "duration": 18,
        "start_time": "2022-09-26T13:51:24.205Z"
      },
      {
        "duration": 26,
        "start_time": "2022-09-26T13:51:55.889Z"
      },
      {
        "duration": 20,
        "start_time": "2022-09-26T13:52:48.090Z"
      },
      {
        "duration": 4,
        "start_time": "2022-09-26T13:52:57.105Z"
      },
      {
        "duration": 6,
        "start_time": "2022-09-26T13:55:42.854Z"
      },
      {
        "duration": 9,
        "start_time": "2022-09-26T13:56:20.796Z"
      },
      {
        "duration": 9,
        "start_time": "2022-09-26T13:56:28.466Z"
      },
      {
        "duration": 8,
        "start_time": "2022-09-26T13:56:49.593Z"
      },
      {
        "duration": 6,
        "start_time": "2022-09-26T14:00:25.188Z"
      },
      {
        "duration": 19,
        "start_time": "2022-09-26T14:04:46.562Z"
      },
      {
        "duration": 6,
        "start_time": "2022-09-26T14:07:37.719Z"
      },
      {
        "duration": 6,
        "start_time": "2022-09-26T14:07:40.700Z"
      },
      {
        "duration": 107,
        "start_time": "2022-09-26T14:09:21.053Z"
      },
      {
        "duration": 13,
        "start_time": "2022-09-26T14:09:30.736Z"
      },
      {
        "duration": 11,
        "start_time": "2022-09-26T14:10:24.237Z"
      },
      {
        "duration": 16,
        "start_time": "2022-09-26T14:37:24.669Z"
      },
      {
        "duration": 20,
        "start_time": "2022-09-26T14:37:55.036Z"
      },
      {
        "duration": 25,
        "start_time": "2022-09-26T15:23:09.558Z"
      },
      {
        "duration": 23,
        "start_time": "2022-09-26T15:23:24.468Z"
      },
      {
        "duration": 9,
        "start_time": "2022-09-26T15:24:52.932Z"
      },
      {
        "duration": 8,
        "start_time": "2022-09-26T15:55:02.766Z"
      },
      {
        "duration": 8,
        "start_time": "2022-09-26T15:55:09.176Z"
      },
      {
        "duration": 15,
        "start_time": "2022-09-26T15:58:44.477Z"
      },
      {
        "duration": 15,
        "start_time": "2022-09-26T15:59:48.540Z"
      },
      {
        "duration": 17,
        "start_time": "2022-09-26T16:01:20.368Z"
      },
      {
        "duration": 9,
        "start_time": "2022-09-26T16:05:24.453Z"
      },
      {
        "duration": 7,
        "start_time": "2022-09-26T16:09:14.705Z"
      },
      {
        "duration": 6,
        "start_time": "2022-09-26T16:12:34.711Z"
      },
      {
        "duration": 8,
        "start_time": "2022-09-26T16:21:26.869Z"
      },
      {
        "duration": 12,
        "start_time": "2022-09-26T16:22:52.493Z"
      },
      {
        "duration": 8,
        "start_time": "2022-09-26T16:22:58.175Z"
      },
      {
        "duration": 5,
        "start_time": "2022-09-26T16:24:34.841Z"
      },
      {
        "duration": 9,
        "start_time": "2022-09-26T16:26:33.156Z"
      },
      {
        "duration": 13,
        "start_time": "2022-09-26T16:29:28.173Z"
      },
      {
        "duration": 12,
        "start_time": "2022-09-26T16:41:34.795Z"
      },
      {
        "duration": 7,
        "start_time": "2022-09-26T16:42:22.989Z"
      },
      {
        "duration": 8,
        "start_time": "2022-09-26T16:43:14.431Z"
      },
      {
        "duration": 8,
        "start_time": "2022-09-26T16:45:34.603Z"
      },
      {
        "duration": 10,
        "start_time": "2022-09-26T16:45:41.512Z"
      },
      {
        "duration": 13,
        "start_time": "2022-09-26T16:50:03.820Z"
      },
      {
        "duration": 12,
        "start_time": "2022-09-26T16:50:26.540Z"
      },
      {
        "duration": 6,
        "start_time": "2022-09-26T16:51:14.340Z"
      },
      {
        "duration": 9,
        "start_time": "2022-09-26T16:51:32.719Z"
      },
      {
        "duration": 10,
        "start_time": "2022-09-26T16:52:00.005Z"
      },
      {
        "duration": 7,
        "start_time": "2022-09-26T16:52:14.054Z"
      },
      {
        "duration": 8,
        "start_time": "2022-09-26T16:52:25.222Z"
      },
      {
        "duration": 10,
        "start_time": "2022-09-26T16:54:10.674Z"
      },
      {
        "duration": 7,
        "start_time": "2022-09-26T17:01:22.307Z"
      },
      {
        "duration": 8,
        "start_time": "2022-09-26T17:01:55.613Z"
      },
      {
        "duration": 9,
        "start_time": "2022-09-26T17:04:38.813Z"
      },
      {
        "duration": 27,
        "start_time": "2022-09-26T17:04:46.626Z"
      },
      {
        "duration": 8,
        "start_time": "2022-09-26T17:04:59.189Z"
      },
      {
        "duration": 7,
        "start_time": "2022-09-26T17:05:51.817Z"
      },
      {
        "duration": 6,
        "start_time": "2022-09-26T17:09:08.160Z"
      },
      {
        "duration": 7,
        "start_time": "2022-09-26T17:18:50.455Z"
      },
      {
        "duration": 52,
        "start_time": "2022-09-27T20:08:42.393Z"
      },
      {
        "duration": 711,
        "start_time": "2022-09-27T20:08:52.122Z"
      },
      {
        "duration": 22,
        "start_time": "2022-09-27T20:08:52.835Z"
      },
      {
        "duration": 24,
        "start_time": "2022-09-27T20:08:52.859Z"
      },
      {
        "duration": 16,
        "start_time": "2022-09-27T20:08:52.886Z"
      },
      {
        "duration": 70,
        "start_time": "2022-09-27T20:08:52.904Z"
      },
      {
        "duration": 8,
        "start_time": "2022-09-27T20:08:52.976Z"
      },
      {
        "duration": 25,
        "start_time": "2022-09-27T20:08:52.986Z"
      },
      {
        "duration": 20,
        "start_time": "2022-09-27T20:08:53.013Z"
      },
      {
        "duration": 28,
        "start_time": "2022-09-27T20:08:53.034Z"
      },
      {
        "duration": 11,
        "start_time": "2022-09-27T20:08:53.065Z"
      },
      {
        "duration": 55,
        "start_time": "2022-09-27T20:08:53.077Z"
      },
      {
        "duration": 11,
        "start_time": "2022-09-27T20:08:53.133Z"
      },
      {
        "duration": 31,
        "start_time": "2022-09-27T20:08:53.145Z"
      },
      {
        "duration": 26,
        "start_time": "2022-09-27T20:08:53.178Z"
      },
      {
        "duration": 59,
        "start_time": "2022-09-27T20:08:53.206Z"
      },
      {
        "duration": 48,
        "start_time": "2022-09-27T20:08:53.267Z"
      },
      {
        "duration": 17,
        "start_time": "2022-09-27T20:08:53.317Z"
      },
      {
        "duration": 35,
        "start_time": "2022-09-27T20:08:53.335Z"
      },
      {
        "duration": 29,
        "start_time": "2022-09-27T20:08:53.372Z"
      },
      {
        "duration": 39,
        "start_time": "2022-09-27T20:08:53.403Z"
      },
      {
        "duration": 38,
        "start_time": "2022-09-27T20:08:53.444Z"
      },
      {
        "duration": 26,
        "start_time": "2022-09-27T20:08:53.484Z"
      },
      {
        "duration": 25,
        "start_time": "2022-09-27T20:08:53.512Z"
      },
      {
        "duration": 14,
        "start_time": "2022-09-27T20:08:53.538Z"
      },
      {
        "duration": 29,
        "start_time": "2022-09-27T20:08:53.554Z"
      },
      {
        "duration": 18,
        "start_time": "2022-09-27T20:08:53.584Z"
      },
      {
        "duration": 27,
        "start_time": "2022-09-27T20:08:53.604Z"
      },
      {
        "duration": 34,
        "start_time": "2022-09-27T20:08:53.634Z"
      },
      {
        "duration": 28,
        "start_time": "2022-09-27T20:08:53.670Z"
      },
      {
        "duration": 29,
        "start_time": "2022-09-27T20:08:53.700Z"
      },
      {
        "duration": 106,
        "start_time": "2022-09-27T20:08:53.730Z"
      },
      {
        "duration": 0,
        "start_time": "2022-09-27T20:08:53.838Z"
      },
      {
        "duration": 0,
        "start_time": "2022-09-27T20:08:53.840Z"
      },
      {
        "duration": 0,
        "start_time": "2022-09-27T20:08:53.842Z"
      },
      {
        "duration": 9,
        "start_time": "2022-09-27T20:09:24.834Z"
      },
      {
        "duration": 201,
        "start_time": "2022-09-27T20:09:49.247Z"
      },
      {
        "duration": 9,
        "start_time": "2022-09-27T20:09:52.137Z"
      },
      {
        "duration": 9,
        "start_time": "2022-09-27T20:10:17.634Z"
      },
      {
        "duration": 8,
        "start_time": "2022-09-27T20:11:20.304Z"
      },
      {
        "duration": 6,
        "start_time": "2022-09-27T20:11:42.234Z"
      },
      {
        "duration": 6,
        "start_time": "2022-09-27T20:11:51.774Z"
      },
      {
        "duration": 69,
        "start_time": "2022-09-27T20:13:49.878Z"
      },
      {
        "duration": 10,
        "start_time": "2022-09-27T20:14:01.700Z"
      },
      {
        "duration": 10,
        "start_time": "2022-09-27T20:14:08.169Z"
      },
      {
        "duration": 9,
        "start_time": "2022-09-27T20:14:21.611Z"
      },
      {
        "duration": 54,
        "start_time": "2022-09-27T20:15:40.942Z"
      },
      {
        "duration": 9,
        "start_time": "2022-09-27T20:17:18.032Z"
      },
      {
        "duration": 63,
        "start_time": "2022-09-27T20:21:12.767Z"
      },
      {
        "duration": 54,
        "start_time": "2022-09-27T20:21:22.492Z"
      },
      {
        "duration": 51,
        "start_time": "2022-09-27T20:21:27.546Z"
      },
      {
        "duration": 60,
        "start_time": "2022-09-27T20:21:54.850Z"
      },
      {
        "duration": 156,
        "start_time": "2022-09-27T20:22:04.771Z"
      },
      {
        "duration": 12,
        "start_time": "2022-09-27T20:22:15.736Z"
      },
      {
        "duration": 23,
        "start_time": "2022-09-27T20:22:26.324Z"
      },
      {
        "duration": 29,
        "start_time": "2022-09-27T20:23:05.831Z"
      },
      {
        "duration": 29,
        "start_time": "2022-09-27T20:31:42.495Z"
      },
      {
        "duration": 15,
        "start_time": "2022-09-27T20:35:09.760Z"
      },
      {
        "duration": 11,
        "start_time": "2022-09-27T20:35:33.244Z"
      },
      {
        "duration": 23,
        "start_time": "2022-09-27T20:35:36.158Z"
      },
      {
        "duration": 6,
        "start_time": "2022-09-27T20:35:49.305Z"
      },
      {
        "duration": 13,
        "start_time": "2022-09-27T20:40:47.624Z"
      },
      {
        "duration": 790,
        "start_time": "2022-09-27T20:40:58.477Z"
      },
      {
        "duration": 44,
        "start_time": "2022-09-27T20:42:15.397Z"
      },
      {
        "duration": 8,
        "start_time": "2022-09-27T20:56:57.325Z"
      },
      {
        "duration": 36,
        "start_time": "2022-09-27T20:57:11.937Z"
      },
      {
        "duration": 14,
        "start_time": "2022-09-27T20:57:29.593Z"
      },
      {
        "duration": 16,
        "start_time": "2022-09-27T20:58:05.477Z"
      },
      {
        "duration": 12,
        "start_time": "2022-09-27T20:58:29.371Z"
      },
      {
        "duration": 42,
        "start_time": "2022-09-28T05:16:33.240Z"
      },
      {
        "duration": 673,
        "start_time": "2022-09-28T05:16:42.001Z"
      },
      {
        "duration": 22,
        "start_time": "2022-09-28T05:16:42.676Z"
      },
      {
        "duration": 15,
        "start_time": "2022-09-28T05:16:42.700Z"
      },
      {
        "duration": 12,
        "start_time": "2022-09-28T05:16:42.717Z"
      },
      {
        "duration": 33,
        "start_time": "2022-09-28T05:16:42.731Z"
      },
      {
        "duration": 3,
        "start_time": "2022-09-28T05:16:42.765Z"
      },
      {
        "duration": 9,
        "start_time": "2022-09-28T05:16:42.770Z"
      },
      {
        "duration": 22,
        "start_time": "2022-09-28T05:16:42.780Z"
      },
      {
        "duration": 8,
        "start_time": "2022-09-28T05:16:42.804Z"
      },
      {
        "duration": 4,
        "start_time": "2022-09-28T05:16:42.815Z"
      },
      {
        "duration": 37,
        "start_time": "2022-09-28T05:16:42.821Z"
      },
      {
        "duration": 11,
        "start_time": "2022-09-28T05:16:42.860Z"
      },
      {
        "duration": 29,
        "start_time": "2022-09-28T05:16:42.873Z"
      },
      {
        "duration": 18,
        "start_time": "2022-09-28T05:16:42.904Z"
      },
      {
        "duration": 25,
        "start_time": "2022-09-28T05:16:42.924Z"
      },
      {
        "duration": 15,
        "start_time": "2022-09-28T05:16:42.950Z"
      },
      {
        "duration": 4,
        "start_time": "2022-09-28T05:16:42.967Z"
      },
      {
        "duration": 31,
        "start_time": "2022-09-28T05:16:42.974Z"
      },
      {
        "duration": 12,
        "start_time": "2022-09-28T05:16:43.006Z"
      },
      {
        "duration": 3,
        "start_time": "2022-09-28T05:16:43.020Z"
      },
      {
        "duration": 11,
        "start_time": "2022-09-28T05:16:43.025Z"
      },
      {
        "duration": 16,
        "start_time": "2022-09-28T05:16:43.038Z"
      },
      {
        "duration": 97,
        "start_time": "2022-09-28T05:16:43.055Z"
      },
      {
        "duration": 0,
        "start_time": "2022-09-28T05:16:43.153Z"
      },
      {
        "duration": 0,
        "start_time": "2022-09-28T05:16:43.155Z"
      },
      {
        "duration": 0,
        "start_time": "2022-09-28T05:16:43.156Z"
      },
      {
        "duration": 0,
        "start_time": "2022-09-28T05:16:43.157Z"
      },
      {
        "duration": 0,
        "start_time": "2022-09-28T05:16:43.158Z"
      },
      {
        "duration": 0,
        "start_time": "2022-09-28T05:16:43.159Z"
      },
      {
        "duration": 0,
        "start_time": "2022-09-28T05:16:43.160Z"
      },
      {
        "duration": 0,
        "start_time": "2022-09-28T05:16:43.162Z"
      },
      {
        "duration": 0,
        "start_time": "2022-09-28T05:16:43.163Z"
      },
      {
        "duration": 0,
        "start_time": "2022-09-28T05:16:43.164Z"
      },
      {
        "duration": 0,
        "start_time": "2022-09-28T05:16:43.165Z"
      },
      {
        "duration": 9,
        "start_time": "2022-09-28T05:17:01.937Z"
      },
      {
        "duration": 15,
        "start_time": "2022-09-28T05:17:19.321Z"
      },
      {
        "duration": 7,
        "start_time": "2022-09-28T05:18:42.586Z"
      },
      {
        "duration": 10,
        "start_time": "2022-09-28T05:18:58.606Z"
      },
      {
        "duration": 10,
        "start_time": "2022-09-28T05:19:07.233Z"
      },
      {
        "duration": 9,
        "start_time": "2022-09-28T05:20:16.873Z"
      },
      {
        "duration": 10,
        "start_time": "2022-09-28T05:20:29.031Z"
      },
      {
        "duration": 10,
        "start_time": "2022-09-28T05:21:24.893Z"
      },
      {
        "duration": 13,
        "start_time": "2022-09-28T05:21:33.899Z"
      },
      {
        "duration": 12,
        "start_time": "2022-09-28T05:21:55.813Z"
      },
      {
        "duration": 14,
        "start_time": "2022-09-28T05:23:36.539Z"
      },
      {
        "duration": 15,
        "start_time": "2022-09-28T05:24:04.332Z"
      },
      {
        "duration": 15,
        "start_time": "2022-09-28T05:24:19.321Z"
      },
      {
        "duration": 12,
        "start_time": "2022-09-28T05:24:23.450Z"
      },
      {
        "duration": 12,
        "start_time": "2022-09-28T05:24:36.076Z"
      },
      {
        "duration": 12,
        "start_time": "2022-09-28T05:24:45.100Z"
      },
      {
        "duration": 11,
        "start_time": "2022-09-28T05:26:05.205Z"
      },
      {
        "duration": 8,
        "start_time": "2022-09-28T05:26:13.324Z"
      },
      {
        "duration": 11,
        "start_time": "2022-09-28T05:26:19.367Z"
      },
      {
        "duration": 13,
        "start_time": "2022-09-28T05:28:13.268Z"
      },
      {
        "duration": 11,
        "start_time": "2022-09-28T05:28:20.648Z"
      },
      {
        "duration": 6,
        "start_time": "2022-09-28T05:29:15.974Z"
      },
      {
        "duration": 9,
        "start_time": "2022-09-28T05:29:27.129Z"
      },
      {
        "duration": 6,
        "start_time": "2022-09-28T05:29:36.016Z"
      },
      {
        "duration": 9,
        "start_time": "2022-09-28T05:31:36.052Z"
      },
      {
        "duration": 9,
        "start_time": "2022-09-28T05:31:46.145Z"
      },
      {
        "duration": 15,
        "start_time": "2022-09-28T05:31:54.516Z"
      },
      {
        "duration": 12,
        "start_time": "2022-09-28T05:32:33.253Z"
      },
      {
        "duration": 3,
        "start_time": "2022-09-28T05:34:41.076Z"
      },
      {
        "duration": 4,
        "start_time": "2022-09-28T05:34:55.456Z"
      },
      {
        "duration": 8,
        "start_time": "2022-09-28T05:35:18.523Z"
      },
      {
        "duration": 14,
        "start_time": "2022-09-28T05:38:03.876Z"
      },
      {
        "duration": 10,
        "start_time": "2022-09-28T05:38:35.150Z"
      },
      {
        "duration": 19,
        "start_time": "2022-09-28T05:38:55.526Z"
      },
      {
        "duration": 10,
        "start_time": "2022-09-28T05:39:46.496Z"
      },
      {
        "duration": 16,
        "start_time": "2022-09-28T05:39:56.103Z"
      },
      {
        "duration": 11,
        "start_time": "2022-09-28T05:40:16.882Z"
      },
      {
        "duration": 14,
        "start_time": "2022-09-28T05:40:22.652Z"
      },
      {
        "duration": 21,
        "start_time": "2022-09-28T05:41:11.947Z"
      },
      {
        "duration": 18,
        "start_time": "2022-09-28T05:41:17.976Z"
      },
      {
        "duration": 16,
        "start_time": "2022-09-28T05:41:38.206Z"
      },
      {
        "duration": 721,
        "start_time": "2022-09-28T05:41:47.252Z"
      },
      {
        "duration": 548,
        "start_time": "2022-09-28T05:41:57.595Z"
      },
      {
        "duration": 6,
        "start_time": "2022-09-28T05:42:54.760Z"
      },
      {
        "duration": 15,
        "start_time": "2022-09-28T05:43:10.898Z"
      },
      {
        "duration": 13,
        "start_time": "2022-09-28T05:43:37.378Z"
      },
      {
        "duration": 11,
        "start_time": "2022-09-28T05:43:49.234Z"
      },
      {
        "duration": 12,
        "start_time": "2022-09-28T05:43:56.329Z"
      },
      {
        "duration": 9,
        "start_time": "2022-09-28T05:44:24.899Z"
      },
      {
        "duration": 228,
        "start_time": "2022-09-28T05:44:28.319Z"
      },
      {
        "duration": 198,
        "start_time": "2022-09-28T05:44:32.317Z"
      },
      {
        "duration": 224,
        "start_time": "2022-09-28T05:44:48.811Z"
      },
      {
        "duration": 806,
        "start_time": "2022-09-28T05:45:02.010Z"
      },
      {
        "duration": 14,
        "start_time": "2022-09-28T05:45:15.762Z"
      },
      {
        "duration": 9,
        "start_time": "2022-09-28T05:45:50.330Z"
      },
      {
        "duration": 11,
        "start_time": "2022-09-28T05:46:03.782Z"
      },
      {
        "duration": 10,
        "start_time": "2022-09-28T05:46:10.287Z"
      },
      {
        "duration": 10,
        "start_time": "2022-09-28T05:46:18.085Z"
      },
      {
        "duration": 13,
        "start_time": "2022-09-28T06:02:24.512Z"
      },
      {
        "duration": 11,
        "start_time": "2022-09-28T06:20:02.452Z"
      },
      {
        "duration": 55,
        "start_time": "2022-09-28T06:20:19.320Z"
      },
      {
        "duration": 12,
        "start_time": "2022-09-28T06:20:35.883Z"
      },
      {
        "duration": 9,
        "start_time": "2022-09-28T06:21:31.414Z"
      },
      {
        "duration": 17,
        "start_time": "2022-09-28T06:21:39.995Z"
      },
      {
        "duration": 11,
        "start_time": "2022-09-28T06:28:32.225Z"
      },
      {
        "duration": 8,
        "start_time": "2022-09-28T06:32:46.828Z"
      },
      {
        "duration": 17,
        "start_time": "2022-09-28T06:35:00.743Z"
      },
      {
        "duration": 13,
        "start_time": "2022-09-28T06:38:15.939Z"
      },
      {
        "duration": 9,
        "start_time": "2022-09-28T06:38:46.057Z"
      },
      {
        "duration": 246,
        "start_time": "2022-09-28T06:40:19.365Z"
      },
      {
        "duration": 234,
        "start_time": "2022-09-28T06:40:35.777Z"
      },
      {
        "duration": 18,
        "start_time": "2022-09-28T06:41:04.376Z"
      },
      {
        "duration": 20,
        "start_time": "2022-09-28T06:41:15.175Z"
      },
      {
        "duration": 12,
        "start_time": "2022-09-28T06:41:38.344Z"
      },
      {
        "duration": 7,
        "start_time": "2022-09-28T06:42:00.147Z"
      },
      {
        "duration": 14,
        "start_time": "2022-09-28T06:42:08.351Z"
      },
      {
        "duration": 14,
        "start_time": "2022-09-28T06:43:19.911Z"
      },
      {
        "duration": 14,
        "start_time": "2022-09-28T06:43:35.913Z"
      },
      {
        "duration": 11,
        "start_time": "2022-09-28T06:46:32.592Z"
      },
      {
        "duration": 14,
        "start_time": "2022-09-28T06:55:17.305Z"
      },
      {
        "duration": 8,
        "start_time": "2022-09-28T07:15:52.338Z"
      },
      {
        "duration": 9,
        "start_time": "2022-09-28T07:16:55.600Z"
      },
      {
        "duration": 11,
        "start_time": "2022-09-28T07:17:29.111Z"
      },
      {
        "duration": 12,
        "start_time": "2022-09-28T07:17:44.901Z"
      },
      {
        "duration": 11,
        "start_time": "2022-09-28T07:19:49.396Z"
      },
      {
        "duration": 12,
        "start_time": "2022-09-28T07:20:22.935Z"
      },
      {
        "duration": 9,
        "start_time": "2022-09-28T07:21:06.810Z"
      },
      {
        "duration": 273,
        "start_time": "2022-09-28T07:21:15.427Z"
      },
      {
        "duration": 8,
        "start_time": "2022-09-28T07:21:46.746Z"
      },
      {
        "duration": 6,
        "start_time": "2022-09-28T07:22:23.230Z"
      },
      {
        "duration": 11,
        "start_time": "2022-09-28T07:22:29.484Z"
      },
      {
        "duration": 9,
        "start_time": "2022-09-28T07:22:50.630Z"
      },
      {
        "duration": 9,
        "start_time": "2022-09-28T07:22:57.343Z"
      },
      {
        "duration": 7,
        "start_time": "2022-09-28T07:23:40.338Z"
      },
      {
        "duration": 10,
        "start_time": "2022-09-28T07:23:48.958Z"
      },
      {
        "duration": 11,
        "start_time": "2022-09-28T07:23:52.524Z"
      },
      {
        "duration": 7,
        "start_time": "2022-09-28T07:24:12.499Z"
      },
      {
        "duration": 8,
        "start_time": "2022-09-28T07:24:14.286Z"
      },
      {
        "duration": 9,
        "start_time": "2022-09-28T07:24:36.864Z"
      },
      {
        "duration": 12,
        "start_time": "2022-09-28T07:25:18.816Z"
      },
      {
        "duration": 11,
        "start_time": "2022-09-28T07:25:29.014Z"
      },
      {
        "duration": 97,
        "start_time": "2022-09-28T07:26:14.487Z"
      },
      {
        "duration": 11,
        "start_time": "2022-09-28T07:26:19.904Z"
      },
      {
        "duration": 8,
        "start_time": "2022-09-28T07:36:19.971Z"
      },
      {
        "duration": 9,
        "start_time": "2022-09-28T07:36:50.594Z"
      },
      {
        "duration": 8,
        "start_time": "2022-09-28T07:37:27.860Z"
      },
      {
        "duration": 6,
        "start_time": "2022-09-28T07:37:46.245Z"
      },
      {
        "duration": 7,
        "start_time": "2022-09-28T07:38:41.775Z"
      },
      {
        "duration": 11,
        "start_time": "2022-09-28T07:45:13.316Z"
      },
      {
        "duration": 9,
        "start_time": "2022-09-28T08:01:45.486Z"
      },
      {
        "duration": 7,
        "start_time": "2022-09-28T08:02:07.558Z"
      },
      {
        "duration": 12,
        "start_time": "2022-09-28T08:04:08.576Z"
      },
      {
        "duration": 10,
        "start_time": "2022-09-28T08:04:17.836Z"
      },
      {
        "duration": 82,
        "start_time": "2022-09-28T11:14:40.167Z"
      },
      {
        "duration": 60,
        "start_time": "2022-09-28T11:15:26.236Z"
      },
      {
        "duration": 111,
        "start_time": "2022-09-28T11:19:28.813Z"
      },
      {
        "duration": 52,
        "start_time": "2022-09-28T11:20:56.936Z"
      },
      {
        "duration": 48,
        "start_time": "2022-09-28T17:36:56.371Z"
      },
      {
        "duration": 576,
        "start_time": "2022-09-28T17:37:09.598Z"
      },
      {
        "duration": 24,
        "start_time": "2022-09-28T17:37:10.176Z"
      },
      {
        "duration": 17,
        "start_time": "2022-09-28T17:37:10.202Z"
      },
      {
        "duration": 10,
        "start_time": "2022-09-28T17:37:10.222Z"
      },
      {
        "duration": 61,
        "start_time": "2022-09-28T17:37:10.234Z"
      },
      {
        "duration": 4,
        "start_time": "2022-09-28T17:37:10.297Z"
      },
      {
        "duration": 13,
        "start_time": "2022-09-28T17:37:10.303Z"
      },
      {
        "duration": 13,
        "start_time": "2022-09-28T17:37:10.317Z"
      },
      {
        "duration": 10,
        "start_time": "2022-09-28T17:37:10.332Z"
      },
      {
        "duration": 5,
        "start_time": "2022-09-28T17:37:10.345Z"
      },
      {
        "duration": 60,
        "start_time": "2022-09-28T17:37:10.351Z"
      },
      {
        "duration": 16,
        "start_time": "2022-09-28T17:37:10.414Z"
      },
      {
        "duration": 3,
        "start_time": "2022-09-28T17:37:10.432Z"
      },
      {
        "duration": 13,
        "start_time": "2022-09-28T17:37:10.437Z"
      },
      {
        "duration": 43,
        "start_time": "2022-09-28T17:37:10.452Z"
      },
      {
        "duration": 19,
        "start_time": "2022-09-28T17:37:10.497Z"
      },
      {
        "duration": 4,
        "start_time": "2022-09-28T17:37:10.518Z"
      },
      {
        "duration": 12,
        "start_time": "2022-09-28T17:37:10.524Z"
      },
      {
        "duration": 7,
        "start_time": "2022-09-28T17:37:10.538Z"
      },
      {
        "duration": 4,
        "start_time": "2022-09-28T17:37:10.547Z"
      },
      {
        "duration": 45,
        "start_time": "2022-09-28T17:37:10.554Z"
      },
      {
        "duration": 19,
        "start_time": "2022-09-28T17:37:10.601Z"
      },
      {
        "duration": 6,
        "start_time": "2022-09-28T17:37:10.622Z"
      },
      {
        "duration": 16,
        "start_time": "2022-09-28T17:37:10.629Z"
      },
      {
        "duration": 14,
        "start_time": "2022-09-28T17:37:10.646Z"
      },
      {
        "duration": 38,
        "start_time": "2022-09-28T17:37:10.662Z"
      },
      {
        "duration": 81,
        "start_time": "2022-09-28T17:37:10.702Z"
      },
      {
        "duration": 0,
        "start_time": "2022-09-28T17:37:10.785Z"
      },
      {
        "duration": 0,
        "start_time": "2022-09-28T17:37:10.786Z"
      },
      {
        "duration": 0,
        "start_time": "2022-09-28T17:37:10.787Z"
      },
      {
        "duration": 0,
        "start_time": "2022-09-28T17:37:10.789Z"
      },
      {
        "duration": 0,
        "start_time": "2022-09-28T17:37:10.795Z"
      },
      {
        "duration": 0,
        "start_time": "2022-09-28T17:37:10.797Z"
      },
      {
        "duration": 11,
        "start_time": "2022-09-28T17:38:49.340Z"
      },
      {
        "duration": 12,
        "start_time": "2022-09-28T17:39:24.426Z"
      },
      {
        "duration": 127,
        "start_time": "2022-09-28T17:39:36.716Z"
      },
      {
        "duration": 30,
        "start_time": "2022-09-28T17:39:46.237Z"
      },
      {
        "duration": 29,
        "start_time": "2022-09-28T17:40:33.962Z"
      },
      {
        "duration": 24,
        "start_time": "2022-09-28T17:40:45.074Z"
      },
      {
        "duration": 17,
        "start_time": "2022-09-28T17:41:14.774Z"
      },
      {
        "duration": 118,
        "start_time": "2022-09-28T17:45:08.100Z"
      },
      {
        "duration": 71,
        "start_time": "2022-09-28T17:45:19.005Z"
      },
      {
        "duration": 134,
        "start_time": "2022-09-28T17:45:47.423Z"
      },
      {
        "duration": 101,
        "start_time": "2022-09-28T17:45:53.967Z"
      },
      {
        "duration": 79,
        "start_time": "2022-09-28T17:46:00.722Z"
      },
      {
        "duration": 94,
        "start_time": "2022-09-28T17:46:12.405Z"
      },
      {
        "duration": 15,
        "start_time": "2022-09-28T17:46:29.653Z"
      },
      {
        "duration": 13,
        "start_time": "2022-09-28T17:48:23.638Z"
      },
      {
        "duration": 25,
        "start_time": "2022-09-28T17:48:40.122Z"
      },
      {
        "duration": 9,
        "start_time": "2022-09-28T17:49:13.237Z"
      },
      {
        "duration": 18,
        "start_time": "2022-09-28T17:49:18.709Z"
      },
      {
        "duration": 21,
        "start_time": "2022-09-28T17:49:30.513Z"
      },
      {
        "duration": 92,
        "start_time": "2022-09-28T17:54:29.136Z"
      },
      {
        "duration": 13,
        "start_time": "2022-09-28T17:54:35.456Z"
      },
      {
        "duration": 17,
        "start_time": "2022-09-28T17:54:40.274Z"
      },
      {
        "duration": 20,
        "start_time": "2022-09-28T17:55:20.510Z"
      },
      {
        "duration": 20,
        "start_time": "2022-09-28T17:55:29.735Z"
      },
      {
        "duration": 327,
        "start_time": "2022-09-28T17:59:37.488Z"
      },
      {
        "duration": 358,
        "start_time": "2022-09-28T17:59:50.125Z"
      },
      {
        "duration": 22,
        "start_time": "2022-09-28T18:00:10.665Z"
      },
      {
        "duration": 28,
        "start_time": "2022-09-28T18:02:03.895Z"
      },
      {
        "duration": 31,
        "start_time": "2022-09-28T18:03:09.967Z"
      },
      {
        "duration": 19,
        "start_time": "2022-09-28T18:03:30.508Z"
      },
      {
        "duration": 24,
        "start_time": "2022-09-28T18:05:47.798Z"
      },
      {
        "duration": 15,
        "start_time": "2022-09-28T18:06:01.611Z"
      },
      {
        "duration": 16,
        "start_time": "2022-09-28T18:06:31.446Z"
      },
      {
        "duration": 9,
        "start_time": "2022-09-28T18:06:40.559Z"
      },
      {
        "duration": 14,
        "start_time": "2022-09-28T18:06:55.491Z"
      },
      {
        "duration": 13,
        "start_time": "2022-09-28T18:08:10.054Z"
      },
      {
        "duration": 102,
        "start_time": "2022-09-28T18:09:48.877Z"
      },
      {
        "duration": 83,
        "start_time": "2022-09-28T18:10:00.758Z"
      },
      {
        "duration": 82,
        "start_time": "2022-09-28T18:10:10.456Z"
      },
      {
        "duration": 19,
        "start_time": "2022-09-28T18:10:17.137Z"
      },
      {
        "duration": 17,
        "start_time": "2022-09-28T18:11:37.848Z"
      },
      {
        "duration": 19,
        "start_time": "2022-09-28T18:18:53.339Z"
      },
      {
        "duration": 15,
        "start_time": "2022-09-28T18:18:59.553Z"
      },
      {
        "duration": 18,
        "start_time": "2022-09-28T18:19:06.138Z"
      },
      {
        "duration": 343,
        "start_time": "2022-09-28T18:22:45.034Z"
      },
      {
        "duration": 14,
        "start_time": "2022-09-28T18:23:08.303Z"
      },
      {
        "duration": 14,
        "start_time": "2022-09-28T18:23:24.186Z"
      },
      {
        "duration": 19,
        "start_time": "2022-09-28T18:23:35.416Z"
      },
      {
        "duration": 20,
        "start_time": "2022-09-28T19:11:46.442Z"
      },
      {
        "duration": 10,
        "start_time": "2022-09-28T19:13:18.766Z"
      },
      {
        "duration": 10,
        "start_time": "2022-09-28T19:13:27.092Z"
      },
      {
        "duration": 14,
        "start_time": "2022-09-28T19:15:40.465Z"
      },
      {
        "duration": 17,
        "start_time": "2022-09-28T19:15:49.226Z"
      },
      {
        "duration": 18,
        "start_time": "2022-09-28T19:16:08.774Z"
      },
      {
        "duration": 31,
        "start_time": "2022-09-28T19:21:25.415Z"
      },
      {
        "duration": 28,
        "start_time": "2022-09-28T19:21:41.193Z"
      },
      {
        "duration": 20,
        "start_time": "2022-09-28T19:21:49.345Z"
      },
      {
        "duration": 9,
        "start_time": "2022-09-28T19:23:08.609Z"
      },
      {
        "duration": 22,
        "start_time": "2022-09-28T19:28:03.924Z"
      },
      {
        "duration": 8,
        "start_time": "2022-09-28T19:28:22.443Z"
      },
      {
        "duration": 5,
        "start_time": "2022-09-28T19:29:49.483Z"
      },
      {
        "duration": 12,
        "start_time": "2022-09-28T19:30:02.791Z"
      },
      {
        "duration": 6,
        "start_time": "2022-09-28T19:30:21.385Z"
      },
      {
        "duration": 20,
        "start_time": "2022-09-28T19:34:03.680Z"
      },
      {
        "duration": 8,
        "start_time": "2022-09-28T19:34:15.679Z"
      },
      {
        "duration": 20,
        "start_time": "2022-09-28T19:34:35.343Z"
      },
      {
        "duration": 27,
        "start_time": "2022-09-28T19:34:47.568Z"
      },
      {
        "duration": 27,
        "start_time": "2022-09-28T19:35:40.798Z"
      },
      {
        "duration": 18,
        "start_time": "2022-09-28T19:35:47.083Z"
      },
      {
        "duration": 26,
        "start_time": "2022-09-28T19:36:03.690Z"
      },
      {
        "duration": 26,
        "start_time": "2022-09-28T19:37:04.682Z"
      },
      {
        "duration": 73,
        "start_time": "2022-09-28T19:43:04.174Z"
      },
      {
        "duration": 1142,
        "start_time": "2022-09-28T19:43:11.197Z"
      },
      {
        "duration": 1262,
        "start_time": "2022-09-28T19:43:20.540Z"
      },
      {
        "duration": 1192,
        "start_time": "2022-09-28T19:44:30.136Z"
      },
      {
        "duration": 29,
        "start_time": "2022-09-28T19:44:37.235Z"
      },
      {
        "duration": 1746,
        "start_time": "2022-09-28T19:45:43.884Z"
      },
      {
        "duration": 1241,
        "start_time": "2022-09-28T19:46:15.675Z"
      },
      {
        "duration": 27,
        "start_time": "2022-09-28T19:46:33.749Z"
      },
      {
        "duration": 27,
        "start_time": "2022-09-28T19:46:50.619Z"
      },
      {
        "duration": 27,
        "start_time": "2022-09-28T19:47:08.206Z"
      },
      {
        "duration": 453,
        "start_time": "2022-09-28T19:48:05.524Z"
      },
      {
        "duration": 22,
        "start_time": "2022-09-28T19:48:05.979Z"
      },
      {
        "duration": 15,
        "start_time": "2022-09-28T19:48:06.003Z"
      },
      {
        "duration": 11,
        "start_time": "2022-09-28T19:48:06.020Z"
      },
      {
        "duration": 34,
        "start_time": "2022-09-28T19:48:06.032Z"
      },
      {
        "duration": 27,
        "start_time": "2022-09-28T19:48:06.068Z"
      },
      {
        "duration": 10,
        "start_time": "2022-09-28T19:48:06.097Z"
      },
      {
        "duration": 8,
        "start_time": "2022-09-28T19:48:06.108Z"
      },
      {
        "duration": 17,
        "start_time": "2022-09-28T19:48:06.117Z"
      },
      {
        "duration": 6,
        "start_time": "2022-09-28T19:48:06.136Z"
      },
      {
        "duration": 41,
        "start_time": "2022-09-28T19:48:06.143Z"
      },
      {
        "duration": 18,
        "start_time": "2022-09-28T19:48:06.185Z"
      },
      {
        "duration": 8,
        "start_time": "2022-09-28T19:48:06.205Z"
      },
      {
        "duration": 18,
        "start_time": "2022-09-28T19:48:06.214Z"
      },
      {
        "duration": 21,
        "start_time": "2022-09-28T19:48:06.234Z"
      },
      {
        "duration": 17,
        "start_time": "2022-09-28T19:48:06.257Z"
      },
      {
        "duration": 20,
        "start_time": "2022-09-28T19:48:06.276Z"
      },
      {
        "duration": 14,
        "start_time": "2022-09-28T19:48:06.298Z"
      },
      {
        "duration": 7,
        "start_time": "2022-09-28T19:48:06.313Z"
      },
      {
        "duration": 13,
        "start_time": "2022-09-28T19:48:06.322Z"
      },
      {
        "duration": 16,
        "start_time": "2022-09-28T19:48:06.337Z"
      },
      {
        "duration": 43,
        "start_time": "2022-09-28T19:48:06.355Z"
      },
      {
        "duration": 7,
        "start_time": "2022-09-28T19:48:06.400Z"
      },
      {
        "duration": 25,
        "start_time": "2022-09-28T19:48:06.409Z"
      },
      {
        "duration": 8,
        "start_time": "2022-09-28T19:48:06.436Z"
      },
      {
        "duration": 8,
        "start_time": "2022-09-28T19:48:06.445Z"
      },
      {
        "duration": 52,
        "start_time": "2022-09-28T19:48:06.455Z"
      },
      {
        "duration": 14,
        "start_time": "2022-09-28T19:48:06.511Z"
      },
      {
        "duration": 26,
        "start_time": "2022-09-28T19:48:06.527Z"
      },
      {
        "duration": 47,
        "start_time": "2022-09-28T19:48:06.555Z"
      },
      {
        "duration": 10,
        "start_time": "2022-09-28T19:48:06.604Z"
      },
      {
        "duration": 8,
        "start_time": "2022-09-28T19:48:06.616Z"
      },
      {
        "duration": 19,
        "start_time": "2022-09-28T19:48:06.626Z"
      },
      {
        "duration": 1457,
        "start_time": "2022-09-28T19:48:58.689Z"
      },
      {
        "duration": 29,
        "start_time": "2022-09-28T19:49:13.290Z"
      },
      {
        "duration": 30,
        "start_time": "2022-09-28T19:49:28.950Z"
      },
      {
        "duration": 37,
        "start_time": "2022-09-28T19:49:46.380Z"
      },
      {
        "duration": 29,
        "start_time": "2022-09-28T19:50:43.085Z"
      },
      {
        "duration": 34,
        "start_time": "2022-09-28T19:50:53.695Z"
      },
      {
        "duration": 29,
        "start_time": "2022-09-28T19:51:06.254Z"
      },
      {
        "duration": 34,
        "start_time": "2022-09-28T19:51:18.003Z"
      },
      {
        "duration": 39,
        "start_time": "2022-09-28T19:51:52.506Z"
      },
      {
        "duration": 98,
        "start_time": "2022-09-28T19:52:03.453Z"
      },
      {
        "duration": 81,
        "start_time": "2022-09-28T19:52:20.278Z"
      },
      {
        "duration": 28,
        "start_time": "2022-09-28T19:52:31.885Z"
      },
      {
        "duration": 33,
        "start_time": "2022-09-28T19:54:36.678Z"
      },
      {
        "duration": 25,
        "start_time": "2022-09-28T19:54:52.623Z"
      },
      {
        "duration": 29,
        "start_time": "2022-09-28T19:55:09.443Z"
      },
      {
        "duration": 27,
        "start_time": "2022-09-28T19:55:37.686Z"
      },
      {
        "duration": 28,
        "start_time": "2022-09-28T19:56:05.405Z"
      },
      {
        "duration": 20,
        "start_time": "2022-09-28T20:11:25.342Z"
      },
      {
        "duration": 25,
        "start_time": "2022-09-28T20:12:20.785Z"
      },
      {
        "duration": 22,
        "start_time": "2022-09-28T20:12:39.766Z"
      },
      {
        "duration": 27,
        "start_time": "2022-09-28T20:13:01.603Z"
      },
      {
        "duration": 28,
        "start_time": "2022-09-28T20:13:41.719Z"
      },
      {
        "duration": 23,
        "start_time": "2022-09-28T20:15:08.757Z"
      },
      {
        "duration": 26,
        "start_time": "2022-09-28T20:15:27.135Z"
      },
      {
        "duration": 26,
        "start_time": "2022-09-28T20:15:54.138Z"
      },
      {
        "duration": 32,
        "start_time": "2022-09-28T20:16:19.763Z"
      },
      {
        "duration": 26,
        "start_time": "2022-09-28T20:16:30.021Z"
      },
      {
        "duration": 25,
        "start_time": "2022-09-28T20:17:17.473Z"
      },
      {
        "duration": 26,
        "start_time": "2022-09-28T20:17:41.606Z"
      },
      {
        "duration": 25,
        "start_time": "2022-09-28T20:18:17.224Z"
      },
      {
        "duration": 26,
        "start_time": "2022-09-28T20:18:37.002Z"
      },
      {
        "duration": 25,
        "start_time": "2022-09-28T20:19:44.904Z"
      },
      {
        "duration": 26,
        "start_time": "2022-09-28T20:21:26.997Z"
      },
      {
        "duration": 24,
        "start_time": "2022-09-28T20:21:35.382Z"
      },
      {
        "duration": 1249,
        "start_time": "2022-09-28T20:24:11.538Z"
      },
      {
        "duration": 1162,
        "start_time": "2022-09-28T20:24:30.989Z"
      },
      {
        "duration": 25,
        "start_time": "2022-09-28T20:24:46.555Z"
      },
      {
        "duration": 22,
        "start_time": "2022-09-28T20:25:36.956Z"
      },
      {
        "duration": 22,
        "start_time": "2022-09-28T20:25:56.877Z"
      },
      {
        "duration": 58,
        "start_time": "2022-09-29T11:22:37.184Z"
      },
      {
        "duration": 577,
        "start_time": "2022-09-29T11:22:57.713Z"
      },
      {
        "duration": 28,
        "start_time": "2022-09-29T11:22:58.292Z"
      },
      {
        "duration": 15,
        "start_time": "2022-09-29T11:22:58.321Z"
      },
      {
        "duration": 10,
        "start_time": "2022-09-29T11:22:58.338Z"
      },
      {
        "duration": 60,
        "start_time": "2022-09-29T11:22:58.350Z"
      },
      {
        "duration": 4,
        "start_time": "2022-09-29T11:22:58.414Z"
      },
      {
        "duration": 22,
        "start_time": "2022-09-29T11:22:58.419Z"
      },
      {
        "duration": 11,
        "start_time": "2022-09-29T11:22:58.442Z"
      },
      {
        "duration": 19,
        "start_time": "2022-09-29T11:22:58.454Z"
      },
      {
        "duration": 7,
        "start_time": "2022-09-29T11:22:58.477Z"
      },
      {
        "duration": 60,
        "start_time": "2022-09-29T11:22:58.485Z"
      },
      {
        "duration": 9,
        "start_time": "2022-09-29T11:22:58.547Z"
      },
      {
        "duration": 7,
        "start_time": "2022-09-29T11:22:58.558Z"
      },
      {
        "duration": 12,
        "start_time": "2022-09-29T11:22:58.567Z"
      },
      {
        "duration": 32,
        "start_time": "2022-09-29T11:22:58.580Z"
      },
      {
        "duration": 18,
        "start_time": "2022-09-29T11:22:58.614Z"
      },
      {
        "duration": 4,
        "start_time": "2022-09-29T11:22:58.634Z"
      },
      {
        "duration": 16,
        "start_time": "2022-09-29T11:22:58.639Z"
      },
      {
        "duration": 9,
        "start_time": "2022-09-29T11:22:58.656Z"
      },
      {
        "duration": 4,
        "start_time": "2022-09-29T11:22:58.666Z"
      },
      {
        "duration": 18,
        "start_time": "2022-09-29T11:22:58.697Z"
      },
      {
        "duration": 21,
        "start_time": "2022-09-29T11:22:58.717Z"
      },
      {
        "duration": 7,
        "start_time": "2022-09-29T11:22:58.739Z"
      },
      {
        "duration": 32,
        "start_time": "2022-09-29T11:22:58.747Z"
      },
      {
        "duration": 27,
        "start_time": "2022-09-29T11:22:58.780Z"
      },
      {
        "duration": 17,
        "start_time": "2022-09-29T11:22:58.808Z"
      },
      {
        "duration": 22,
        "start_time": "2022-09-29T11:22:58.827Z"
      },
      {
        "duration": 7,
        "start_time": "2022-09-29T11:22:58.852Z"
      },
      {
        "duration": 7,
        "start_time": "2022-09-29T11:22:58.861Z"
      },
      {
        "duration": 55,
        "start_time": "2022-09-29T11:22:58.869Z"
      },
      {
        "duration": 10,
        "start_time": "2022-09-29T11:22:58.926Z"
      },
      {
        "duration": 16,
        "start_time": "2022-09-29T11:22:58.938Z"
      },
      {
        "duration": 1775,
        "start_time": "2022-09-29T11:22:58.955Z"
      },
      {
        "duration": 1530,
        "start_time": "2022-09-29T11:23:15.580Z"
      },
      {
        "duration": 1334,
        "start_time": "2022-09-29T11:23:17.559Z"
      },
      {
        "duration": 1457,
        "start_time": "2022-09-29T11:24:00.835Z"
      },
      {
        "duration": 33,
        "start_time": "2022-09-29T11:25:10.911Z"
      },
      {
        "duration": 25,
        "start_time": "2022-09-29T11:25:25.167Z"
      },
      {
        "duration": 20,
        "start_time": "2022-09-29T11:25:31.967Z"
      },
      {
        "duration": 23,
        "start_time": "2022-09-29T11:25:55.561Z"
      },
      {
        "duration": 26,
        "start_time": "2022-09-29T11:29:49.095Z"
      },
      {
        "duration": 74,
        "start_time": "2022-09-29T20:30:40.055Z"
      }
    ],
    "colab": {
      "provenance": []
    },
    "kernelspec": {
      "display_name": "Python 3 (ipykernel)",
      "language": "python",
      "name": "python3"
    },
    "language_info": {
      "codemirror_mode": {
        "name": "ipython",
        "version": 3
      },
      "file_extension": ".py",
      "mimetype": "text/x-python",
      "name": "python",
      "nbconvert_exporter": "python",
      "pygments_lexer": "ipython3",
      "version": "3.9.5"
    },
    "toc": {
      "base_numbering": 1,
      "nav_menu": {},
      "number_sections": true,
      "sideBar": true,
      "skip_h1_title": true,
      "title_cell": "Table of Contents",
      "title_sidebar": "Contents",
      "toc_cell": false,
      "toc_position": {},
      "toc_section_display": true,
      "toc_window_display": false
    }
  },
  "nbformat": 4,
  "nbformat_minor": 5
}