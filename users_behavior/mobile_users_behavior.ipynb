{
  "cells": [
    {
      "cell_type": "markdown",
      "metadata": {
        "id": "YFTZFD9vPfHM"
      },
      "source": [
        "# Рекомендация тарифов"
      ]
    },
    {
      "cell_type": "markdown",
      "metadata": {
        "id": "nOIgib9MPfHM"
      },
      "source": [
        "## Цели и задачи"
      ]
    },
    {
      "cell_type": "markdown",
      "metadata": {
        "id": "ItmIh3ZNPfHM"
      },
      "source": [
        "### Цель исследования\n",
        "Построить модель для классификации, которая предлагает пользователям тариф «Ультра» или «Смарт» в зависимости от их поведения."
      ]
    },
    {
      "cell_type": "markdown",
      "metadata": {
        "id": "CmHV99WYPfHN"
      },
      "source": [
        "### Задачи исследования\n",
        "1. Построить несколько моделей на основе имеющихся данных\n",
        "2. Исследовать метрики качества моделей с разными гиперпараметрами\n",
        "3. Выбрать оптимальную модель с наибольшим значением accuracy (не менее 0.75)\n",
        "4. Проверить модель на тестовой выборке"
      ]
    },
    {
      "cell_type": "markdown",
      "metadata": {
        "id": "PZXF-6l6PfHN"
      },
      "source": [
        "## Обзор данных"
      ]
    },
    {
      "cell_type": "code",
      "execution_count": 1,
      "metadata": {
        "id": "v3pjO4bjPfHO"
      },
      "outputs": [],
      "source": [
        "import pandas as pd\n",
        "import numpy as np\n",
        "from sklearn.model_selection import train_test_split\n",
        "from sklearn.tree import DecisionTreeClassifier\n",
        "from sklearn.ensemble import RandomForestClassifier\n",
        "from sklearn.linear_model import LogisticRegression\n",
        "from sklearn.metrics import accuracy_score\n",
        "from sklearn.dummy import DummyClassifier\n",
        "from sklearn.model_selection import GridSearchCV\n",
        "from sklearn import tree\n",
        "import matplotlib.pyplot as plt\n",
        "from tqdm import tqdm\n"
      ]
    },
    {
      "cell_type": "code",
      "execution_count": 2,
      "metadata": {
        "id": "xOPZDZBKPfHP"
      },
      "outputs": [],
      "source": [
        "try:\n",
        "    df = pd.read_csv('/datasets/users_behavior.csv')\n",
        "except:\n",
        "    df = pd.read_csv('/content/users_behavior.csv')"
      ]
    },
    {
      "cell_type": "code",
      "execution_count": 3,
      "metadata": {
        "colab": {
          "base_uri": "https://localhost:8080/"
        },
        "id": "lFfhAYUbPfHQ",
        "outputId": "dc48c074-6b39-45b1-8eb5-7e4afdc9b317"
      },
      "outputs": [
        {
          "output_type": "execute_result",
          "data": {
            "text/plain": [
              "(3214, 5)"
            ]
          },
          "metadata": {},
          "execution_count": 3
        }
      ],
      "source": [
        "# размер датафрейма (строки, столбцы)\n",
        "df.shape"
      ]
    },
    {
      "cell_type": "code",
      "execution_count": 4,
      "metadata": {
        "colab": {
          "base_uri": "https://localhost:8080/"
        },
        "id": "WUEA2bRuPfHQ",
        "outputId": "83d92cb5-0deb-4af7-ed13-c74747c92b44"
      },
      "outputs": [
        {
          "output_type": "stream",
          "name": "stdout",
          "text": [
            "calls       0\n",
            "minutes     0\n",
            "messages    0\n",
            "mb_used     0\n",
            "is_ultra    0\n",
            "dtype: int64\n",
            "0\n"
          ]
        }
      ],
      "source": [
        "# Количество пропусков и дубликатов\n",
        "print(df.isna().sum())\n",
        "print(df.duplicated().sum())"
      ]
    },
    {
      "cell_type": "code",
      "execution_count": 5,
      "metadata": {
        "colab": {
          "base_uri": "https://localhost:8080/",
          "height": 206
        },
        "id": "9qQpxEbYPfHQ",
        "outputId": "308a536f-1bc4-4cf3-c8ca-1b070d8d15b3"
      },
      "outputs": [
        {
          "output_type": "execute_result",
          "data": {
            "text/plain": [
              "           count          mean          std  min         25%        50%  \\\n",
              "calls     3214.0     63.038892    33.236368  0.0     40.0000     62.000   \n",
              "minutes   3214.0    438.208787   234.569872  0.0    274.5750    430.600   \n",
              "messages  3214.0     38.281269    36.148326  0.0      9.0000     30.000   \n",
              "mb_used   3214.0  17207.673836  7570.968246  0.0  12491.9025  16943.235   \n",
              "is_ultra  3214.0      0.306472     0.461100  0.0      0.0000      0.000   \n",
              "\n",
              "                 75%       max  \n",
              "calls        82.0000    244.00  \n",
              "minutes     571.9275   1632.06  \n",
              "messages     57.0000    224.00  \n",
              "mb_used   21424.7000  49745.73  \n",
              "is_ultra      1.0000      1.00  "
            ],
            "text/html": [
              "\n",
              "  <div id=\"df-aee2ceaf-886a-4c0c-81f6-7e609154f045\">\n",
              "    <div class=\"colab-df-container\">\n",
              "      <div>\n",
              "<style scoped>\n",
              "    .dataframe tbody tr th:only-of-type {\n",
              "        vertical-align: middle;\n",
              "    }\n",
              "\n",
              "    .dataframe tbody tr th {\n",
              "        vertical-align: top;\n",
              "    }\n",
              "\n",
              "    .dataframe thead th {\n",
              "        text-align: right;\n",
              "    }\n",
              "</style>\n",
              "<table border=\"1\" class=\"dataframe\">\n",
              "  <thead>\n",
              "    <tr style=\"text-align: right;\">\n",
              "      <th></th>\n",
              "      <th>count</th>\n",
              "      <th>mean</th>\n",
              "      <th>std</th>\n",
              "      <th>min</th>\n",
              "      <th>25%</th>\n",
              "      <th>50%</th>\n",
              "      <th>75%</th>\n",
              "      <th>max</th>\n",
              "    </tr>\n",
              "  </thead>\n",
              "  <tbody>\n",
              "    <tr>\n",
              "      <th>calls</th>\n",
              "      <td>3214.0</td>\n",
              "      <td>63.038892</td>\n",
              "      <td>33.236368</td>\n",
              "      <td>0.0</td>\n",
              "      <td>40.0000</td>\n",
              "      <td>62.000</td>\n",
              "      <td>82.0000</td>\n",
              "      <td>244.00</td>\n",
              "    </tr>\n",
              "    <tr>\n",
              "      <th>minutes</th>\n",
              "      <td>3214.0</td>\n",
              "      <td>438.208787</td>\n",
              "      <td>234.569872</td>\n",
              "      <td>0.0</td>\n",
              "      <td>274.5750</td>\n",
              "      <td>430.600</td>\n",
              "      <td>571.9275</td>\n",
              "      <td>1632.06</td>\n",
              "    </tr>\n",
              "    <tr>\n",
              "      <th>messages</th>\n",
              "      <td>3214.0</td>\n",
              "      <td>38.281269</td>\n",
              "      <td>36.148326</td>\n",
              "      <td>0.0</td>\n",
              "      <td>9.0000</td>\n",
              "      <td>30.000</td>\n",
              "      <td>57.0000</td>\n",
              "      <td>224.00</td>\n",
              "    </tr>\n",
              "    <tr>\n",
              "      <th>mb_used</th>\n",
              "      <td>3214.0</td>\n",
              "      <td>17207.673836</td>\n",
              "      <td>7570.968246</td>\n",
              "      <td>0.0</td>\n",
              "      <td>12491.9025</td>\n",
              "      <td>16943.235</td>\n",
              "      <td>21424.7000</td>\n",
              "      <td>49745.73</td>\n",
              "    </tr>\n",
              "    <tr>\n",
              "      <th>is_ultra</th>\n",
              "      <td>3214.0</td>\n",
              "      <td>0.306472</td>\n",
              "      <td>0.461100</td>\n",
              "      <td>0.0</td>\n",
              "      <td>0.0000</td>\n",
              "      <td>0.000</td>\n",
              "      <td>1.0000</td>\n",
              "      <td>1.00</td>\n",
              "    </tr>\n",
              "  </tbody>\n",
              "</table>\n",
              "</div>\n",
              "      <button class=\"colab-df-convert\" onclick=\"convertToInteractive('df-aee2ceaf-886a-4c0c-81f6-7e609154f045')\"\n",
              "              title=\"Convert this dataframe to an interactive table.\"\n",
              "              style=\"display:none;\">\n",
              "        \n",
              "  <svg xmlns=\"http://www.w3.org/2000/svg\" height=\"24px\"viewBox=\"0 0 24 24\"\n",
              "       width=\"24px\">\n",
              "    <path d=\"M0 0h24v24H0V0z\" fill=\"none\"/>\n",
              "    <path d=\"M18.56 5.44l.94 2.06.94-2.06 2.06-.94-2.06-.94-.94-2.06-.94 2.06-2.06.94zm-11 1L8.5 8.5l.94-2.06 2.06-.94-2.06-.94L8.5 2.5l-.94 2.06-2.06.94zm10 10l.94 2.06.94-2.06 2.06-.94-2.06-.94-.94-2.06-.94 2.06-2.06.94z\"/><path d=\"M17.41 7.96l-1.37-1.37c-.4-.4-.92-.59-1.43-.59-.52 0-1.04.2-1.43.59L10.3 9.45l-7.72 7.72c-.78.78-.78 2.05 0 2.83L4 21.41c.39.39.9.59 1.41.59.51 0 1.02-.2 1.41-.59l7.78-7.78 2.81-2.81c.8-.78.8-2.07 0-2.86zM5.41 20L4 18.59l7.72-7.72 1.47 1.35L5.41 20z\"/>\n",
              "  </svg>\n",
              "      </button>\n",
              "      \n",
              "  <style>\n",
              "    .colab-df-container {\n",
              "      display:flex;\n",
              "      flex-wrap:wrap;\n",
              "      gap: 12px;\n",
              "    }\n",
              "\n",
              "    .colab-df-convert {\n",
              "      background-color: #E8F0FE;\n",
              "      border: none;\n",
              "      border-radius: 50%;\n",
              "      cursor: pointer;\n",
              "      display: none;\n",
              "      fill: #1967D2;\n",
              "      height: 32px;\n",
              "      padding: 0 0 0 0;\n",
              "      width: 32px;\n",
              "    }\n",
              "\n",
              "    .colab-df-convert:hover {\n",
              "      background-color: #E2EBFA;\n",
              "      box-shadow: 0px 1px 2px rgba(60, 64, 67, 0.3), 0px 1px 3px 1px rgba(60, 64, 67, 0.15);\n",
              "      fill: #174EA6;\n",
              "    }\n",
              "\n",
              "    [theme=dark] .colab-df-convert {\n",
              "      background-color: #3B4455;\n",
              "      fill: #D2E3FC;\n",
              "    }\n",
              "\n",
              "    [theme=dark] .colab-df-convert:hover {\n",
              "      background-color: #434B5C;\n",
              "      box-shadow: 0px 1px 3px 1px rgba(0, 0, 0, 0.15);\n",
              "      filter: drop-shadow(0px 1px 2px rgba(0, 0, 0, 0.3));\n",
              "      fill: #FFFFFF;\n",
              "    }\n",
              "  </style>\n",
              "\n",
              "      <script>\n",
              "        const buttonEl =\n",
              "          document.querySelector('#df-aee2ceaf-886a-4c0c-81f6-7e609154f045 button.colab-df-convert');\n",
              "        buttonEl.style.display =\n",
              "          google.colab.kernel.accessAllowed ? 'block' : 'none';\n",
              "\n",
              "        async function convertToInteractive(key) {\n",
              "          const element = document.querySelector('#df-aee2ceaf-886a-4c0c-81f6-7e609154f045');\n",
              "          const dataTable =\n",
              "            await google.colab.kernel.invokeFunction('convertToInteractive',\n",
              "                                                     [key], {});\n",
              "          if (!dataTable) return;\n",
              "\n",
              "          const docLinkHtml = 'Like what you see? Visit the ' +\n",
              "            '<a target=\"_blank\" href=https://colab.research.google.com/notebooks/data_table.ipynb>data table notebook</a>'\n",
              "            + ' to learn more about interactive tables.';\n",
              "          element.innerHTML = '';\n",
              "          dataTable['output_type'] = 'display_data';\n",
              "          await google.colab.output.renderOutput(dataTable, element);\n",
              "          const docLink = document.createElement('div');\n",
              "          docLink.innerHTML = docLinkHtml;\n",
              "          element.appendChild(docLink);\n",
              "        }\n",
              "      </script>\n",
              "    </div>\n",
              "  </div>\n",
              "  "
            ]
          },
          "metadata": {},
          "execution_count": 5
        }
      ],
      "source": [
        "# Общие статистические характеристики данных\n",
        "df.describe().T"
      ]
    },
    {
      "cell_type": "code",
      "execution_count": 6,
      "metadata": {
        "colab": {
          "base_uri": "https://localhost:8080/"
        },
        "id": "4dRnBcqMPfHR",
        "outputId": "8be9ab1d-0a4e-43a9-dd55-3a01780a8f47"
      },
      "outputs": [
        {
          "output_type": "execute_result",
          "data": {
            "text/plain": [
              "calls       float64\n",
              "minutes     float64\n",
              "messages    float64\n",
              "mb_used     float64\n",
              "is_ultra      int64\n",
              "dtype: object"
            ]
          },
          "metadata": {},
          "execution_count": 6
        }
      ],
      "source": [
        "# Изучим типы данных в столбцах\n",
        "df.dtypes"
      ]
    },
    {
      "cell_type": "code",
      "execution_count": 7,
      "metadata": {
        "colab": {
          "base_uri": "https://localhost:8080/",
          "height": 206
        },
        "id": "EegocCKaPfHR",
        "outputId": "fdc8943c-71b9-4d8a-ecfc-016fcec288c6"
      },
      "outputs": [
        {
          "output_type": "execute_result",
          "data": {
            "text/plain": [
              "   calls  minutes  messages   mb_used  is_ultra\n",
              "0   40.0   311.90      83.0  19915.42         0\n",
              "1   85.0   516.75      56.0  22696.96         0\n",
              "2   77.0   467.66      86.0  21060.45         0\n",
              "3  106.0   745.53      81.0   8437.39         1\n",
              "4   66.0   418.74       1.0  14502.75         0"
            ],
            "text/html": [
              "\n",
              "  <div id=\"df-0d86f2fb-1a3d-4e2b-b007-f70b088fcf92\">\n",
              "    <div class=\"colab-df-container\">\n",
              "      <div>\n",
              "<style scoped>\n",
              "    .dataframe tbody tr th:only-of-type {\n",
              "        vertical-align: middle;\n",
              "    }\n",
              "\n",
              "    .dataframe tbody tr th {\n",
              "        vertical-align: top;\n",
              "    }\n",
              "\n",
              "    .dataframe thead th {\n",
              "        text-align: right;\n",
              "    }\n",
              "</style>\n",
              "<table border=\"1\" class=\"dataframe\">\n",
              "  <thead>\n",
              "    <tr style=\"text-align: right;\">\n",
              "      <th></th>\n",
              "      <th>calls</th>\n",
              "      <th>minutes</th>\n",
              "      <th>messages</th>\n",
              "      <th>mb_used</th>\n",
              "      <th>is_ultra</th>\n",
              "    </tr>\n",
              "  </thead>\n",
              "  <tbody>\n",
              "    <tr>\n",
              "      <th>0</th>\n",
              "      <td>40.0</td>\n",
              "      <td>311.90</td>\n",
              "      <td>83.0</td>\n",
              "      <td>19915.42</td>\n",
              "      <td>0</td>\n",
              "    </tr>\n",
              "    <tr>\n",
              "      <th>1</th>\n",
              "      <td>85.0</td>\n",
              "      <td>516.75</td>\n",
              "      <td>56.0</td>\n",
              "      <td>22696.96</td>\n",
              "      <td>0</td>\n",
              "    </tr>\n",
              "    <tr>\n",
              "      <th>2</th>\n",
              "      <td>77.0</td>\n",
              "      <td>467.66</td>\n",
              "      <td>86.0</td>\n",
              "      <td>21060.45</td>\n",
              "      <td>0</td>\n",
              "    </tr>\n",
              "    <tr>\n",
              "      <th>3</th>\n",
              "      <td>106.0</td>\n",
              "      <td>745.53</td>\n",
              "      <td>81.0</td>\n",
              "      <td>8437.39</td>\n",
              "      <td>1</td>\n",
              "    </tr>\n",
              "    <tr>\n",
              "      <th>4</th>\n",
              "      <td>66.0</td>\n",
              "      <td>418.74</td>\n",
              "      <td>1.0</td>\n",
              "      <td>14502.75</td>\n",
              "      <td>0</td>\n",
              "    </tr>\n",
              "  </tbody>\n",
              "</table>\n",
              "</div>\n",
              "      <button class=\"colab-df-convert\" onclick=\"convertToInteractive('df-0d86f2fb-1a3d-4e2b-b007-f70b088fcf92')\"\n",
              "              title=\"Convert this dataframe to an interactive table.\"\n",
              "              style=\"display:none;\">\n",
              "        \n",
              "  <svg xmlns=\"http://www.w3.org/2000/svg\" height=\"24px\"viewBox=\"0 0 24 24\"\n",
              "       width=\"24px\">\n",
              "    <path d=\"M0 0h24v24H0V0z\" fill=\"none\"/>\n",
              "    <path d=\"M18.56 5.44l.94 2.06.94-2.06 2.06-.94-2.06-.94-.94-2.06-.94 2.06-2.06.94zm-11 1L8.5 8.5l.94-2.06 2.06-.94-2.06-.94L8.5 2.5l-.94 2.06-2.06.94zm10 10l.94 2.06.94-2.06 2.06-.94-2.06-.94-.94-2.06-.94 2.06-2.06.94z\"/><path d=\"M17.41 7.96l-1.37-1.37c-.4-.4-.92-.59-1.43-.59-.52 0-1.04.2-1.43.59L10.3 9.45l-7.72 7.72c-.78.78-.78 2.05 0 2.83L4 21.41c.39.39.9.59 1.41.59.51 0 1.02-.2 1.41-.59l7.78-7.78 2.81-2.81c.8-.78.8-2.07 0-2.86zM5.41 20L4 18.59l7.72-7.72 1.47 1.35L5.41 20z\"/>\n",
              "  </svg>\n",
              "      </button>\n",
              "      \n",
              "  <style>\n",
              "    .colab-df-container {\n",
              "      display:flex;\n",
              "      flex-wrap:wrap;\n",
              "      gap: 12px;\n",
              "    }\n",
              "\n",
              "    .colab-df-convert {\n",
              "      background-color: #E8F0FE;\n",
              "      border: none;\n",
              "      border-radius: 50%;\n",
              "      cursor: pointer;\n",
              "      display: none;\n",
              "      fill: #1967D2;\n",
              "      height: 32px;\n",
              "      padding: 0 0 0 0;\n",
              "      width: 32px;\n",
              "    }\n",
              "\n",
              "    .colab-df-convert:hover {\n",
              "      background-color: #E2EBFA;\n",
              "      box-shadow: 0px 1px 2px rgba(60, 64, 67, 0.3), 0px 1px 3px 1px rgba(60, 64, 67, 0.15);\n",
              "      fill: #174EA6;\n",
              "    }\n",
              "\n",
              "    [theme=dark] .colab-df-convert {\n",
              "      background-color: #3B4455;\n",
              "      fill: #D2E3FC;\n",
              "    }\n",
              "\n",
              "    [theme=dark] .colab-df-convert:hover {\n",
              "      background-color: #434B5C;\n",
              "      box-shadow: 0px 1px 3px 1px rgba(0, 0, 0, 0.15);\n",
              "      filter: drop-shadow(0px 1px 2px rgba(0, 0, 0, 0.3));\n",
              "      fill: #FFFFFF;\n",
              "    }\n",
              "  </style>\n",
              "\n",
              "      <script>\n",
              "        const buttonEl =\n",
              "          document.querySelector('#df-0d86f2fb-1a3d-4e2b-b007-f70b088fcf92 button.colab-df-convert');\n",
              "        buttonEl.style.display =\n",
              "          google.colab.kernel.accessAllowed ? 'block' : 'none';\n",
              "\n",
              "        async function convertToInteractive(key) {\n",
              "          const element = document.querySelector('#df-0d86f2fb-1a3d-4e2b-b007-f70b088fcf92');\n",
              "          const dataTable =\n",
              "            await google.colab.kernel.invokeFunction('convertToInteractive',\n",
              "                                                     [key], {});\n",
              "          if (!dataTable) return;\n",
              "\n",
              "          const docLinkHtml = 'Like what you see? Visit the ' +\n",
              "            '<a target=\"_blank\" href=https://colab.research.google.com/notebooks/data_table.ipynb>data table notebook</a>'\n",
              "            + ' to learn more about interactive tables.';\n",
              "          element.innerHTML = '';\n",
              "          dataTable['output_type'] = 'display_data';\n",
              "          await google.colab.output.renderOutput(dataTable, element);\n",
              "          const docLink = document.createElement('div');\n",
              "          docLink.innerHTML = docLinkHtml;\n",
              "          element.appendChild(docLink);\n",
              "        }\n",
              "      </script>\n",
              "    </div>\n",
              "  </div>\n",
              "  "
            ]
          },
          "metadata": {},
          "execution_count": 7
        }
      ],
      "source": [
        "df.head()"
      ]
    },
    {
      "cell_type": "markdown",
      "metadata": {
        "id": "-dHHv6mnPfHR"
      },
      "source": [
        "Изменим тип данных в стобцах `messages` и `minutes`, т.к. эти столбцы содержат целочисленные значения."
      ]
    },
    {
      "cell_type": "code",
      "execution_count": 8,
      "metadata": {
        "colab": {
          "base_uri": "https://localhost:8080/"
        },
        "id": "lu8zIX9CPfHR",
        "outputId": "9a04053d-d823-44ac-e2d0-d34efdb55bee"
      },
      "outputs": [
        {
          "output_type": "execute_result",
          "data": {
            "text/plain": [
              "calls       float64\n",
              "minutes       int64\n",
              "messages      int64\n",
              "mb_used     float64\n",
              "is_ultra      int64\n",
              "dtype: object"
            ]
          },
          "metadata": {},
          "execution_count": 8
        }
      ],
      "source": [
        "df[['minutes', 'messages']] = df[['minutes', 'messages']].astype('int64')\n",
        "df.dtypes"
      ]
    },
    {
      "cell_type": "markdown",
      "metadata": {
        "id": "1eGLa5aBPfHR"
      },
      "source": [
        "Наши данные не нуждаются в дальнейшей предобработке: пропуски и дубликаты отсутствуют, явных выбросов нет. Типы данных соответствуют значениям в столбцах.\n",
        "\n",
        "Посмотрим, как распределились значения в столбце `is_ultra` (там хранятся данные о тарифе пользователя: `0` — тариф «Смарт», `1` — тариф «Ультра»)."
      ]
    },
    {
      "cell_type": "code",
      "execution_count": 9,
      "metadata": {
        "colab": {
          "base_uri": "https://localhost:8080/"
        },
        "id": "7spqD6BfPfHR",
        "outputId": "5ac12f44-0a00-4960-f541-e9c3b023bb90"
      },
      "outputs": [
        {
          "output_type": "execute_result",
          "data": {
            "text/plain": [
              "0    2229\n",
              "1     985\n",
              "Name: is_ultra, dtype: int64"
            ]
          },
          "metadata": {},
          "execution_count": 9
        }
      ],
      "source": [
        "df.is_ultra.value_counts()"
      ]
    },
    {
      "cell_type": "markdown",
      "metadata": {
        "id": "9Zz9b_D7PfHS"
      },
      "source": [
        "### Вывод по разделу\n",
        "1. Изменили тип данных в столбцах `messages` и `minutes` на целочисленный\n",
        "2. Пропусков и дубликатов в таблице нет, данные корректны, пригодны для исследования\n",
        "3. Среди пользователей, данные о которых содержатся в датафрейме, тариф «Ультра» — у 985 человек, тариф «Смарт» — у 2229 человек. Этот столбец будет нашим целевым признаком при построении модели."
      ]
    },
    {
      "cell_type": "markdown",
      "metadata": {
        "id": "AVJ40jSqPfHS"
      },
      "source": [
        "## Разбиваем данные на выборки"
      ]
    },
    {
      "cell_type": "markdown",
      "metadata": {
        "id": "UCvEDTtNPfHS"
      },
      "source": [
        "Прежде чем приступать к обучению моделей, необходимо разбить данные на выборки. Т.к. тестовой выборки у нас нет, то будем исходить из пропорции 3:1:1, то есть 60% данных отведем под обучающую выборку, 20% — под валидационную (на которой мы будем проверять качество модели) и 20% — под тестовую (на которой будем тестировать готовую модель). При разбивке на выборки мы будем учитывать, что в наших целевых данных имеется дисбаланс (добавим параметр stratify, который будет учитывать эту несбалансированность при разбивке)."
      ]
    },
    {
      "cell_type": "code",
      "execution_count": 10,
      "metadata": {
        "id": "GYSzx86tPfHS"
      },
      "outputs": [],
      "source": [
        "# Выделяем целевой признак по всей выборке\n",
        "features = df.drop('is_ultra', axis=1)\n",
        "target = df['is_ultra']\n",
        "\n",
        "# Выделяем 60% обучающей выборки\n",
        "features_train, features_test_val, target_train, target_test_val = (\n",
        "    train_test_split(features, target, test_size=0.4, \n",
        "                     random_state=42, stratify=target)\n",
        ")\n",
        "\n",
        "# Делим оставшиеся 40% исходной выборки на валидационную и тестовую\n",
        "features_val, features_test, target_val, target_test = (\n",
        "    train_test_split(features_test_val, target_test_val, \n",
        "                     test_size=0.5, random_state=42, \n",
        "                     stratify=target_test_val)\n",
        ")\n"
      ]
    },
    {
      "cell_type": "code",
      "execution_count": 11,
      "metadata": {
        "colab": {
          "base_uri": "https://localhost:8080/"
        },
        "id": "vQjvSr2DPfHS",
        "outputId": "e496e980-cb31-4fc1-d3dc-97e648bd29b5"
      },
      "outputs": [
        {
          "output_type": "stream",
          "name": "stdout",
          "text": [
            "(1928, 4)\n",
            "(643, 4)\n",
            "(643, 4)\n"
          ]
        }
      ],
      "source": [
        "# Проверим, корректно ли разбиты данные\n",
        "print(features_train.shape)\n",
        "print(features_val.shape)\n",
        "print(features_test.shape)"
      ]
    },
    {
      "cell_type": "markdown",
      "metadata": {
        "id": "rhd-q5RMPfHT"
      },
      "source": [
        "### Вывод по разделу\n",
        "Мы разбили исходные данные на три части: \n",
        "- 60% данных будут использоваться для обучения модели, это тренировочная (обучающая) выборка; \n",
        "- 20% будут использоваться в качестве валидационной выборки — на этих данных мы будем проверять качество модели и выбирать наиболее оптимальную для наших задач; \n",
        "- оставшиеся 20% станут тестовой выборкой — на них мы будем тестировать готовую модель."
      ]
    },
    {
      "cell_type": "markdown",
      "metadata": {
        "id": "m7QudmlHPfHT"
      },
      "source": [
        "## Исследуем модели"
      ]
    },
    {
      "cell_type": "markdown",
      "metadata": {
        "id": "GHCzltp0PfHT"
      },
      "source": [
        "В нашем исследовании целевой признак является категориальным (хотя в датафрейме в столбце `is_ultra` значения числовые (0 и 1), они обозначают категориальные признаки — выбор того или иного тарифа), значит, мы имеем дело с задачей классификации.\n",
        "\n",
        "Мы будем обучать модели по трем алгоритмам: дерево решений, случайный лес и логистическая регрессия.\n",
        "\n",
        "После подбора гиперпараметров мы выберем оптимальную модель, которую будем проверять на тестовой выборке."
      ]
    },
    {
      "cell_type": "markdown",
      "metadata": {
        "id": "wWAt7pVzPfHU"
      },
      "source": [
        "### Дерево решений"
      ]
    },
    {
      "cell_type": "code",
      "execution_count": 12,
      "metadata": {
        "colab": {
          "base_uri": "https://localhost:8080/"
        },
        "id": "CEVP8Gd3PfHU",
        "outputId": "77e2e680-1d53-471d-b951-8bbe32df69f9"
      },
      "outputs": [
        {
          "output_type": "stream",
          "name": "stdout",
          "text": [
            "Accuracy лучшей модели: 0.8040435458786936, глубина: 3\n"
          ]
        }
      ],
      "source": [
        "# Проверяем, как меняется качество модели в зависимости от параметра max_depth\n",
        "# и выводим информацию о модели с наилучшим показателем\n",
        "\n",
        "best_accuracy = 0\n",
        "best_depth = None\n",
        "best_model_dt = None\n",
        "\n",
        "for depth in range(1,50):\n",
        "    model_tree = DecisionTreeClassifier(random_state=42, max_depth=depth)\n",
        "    model_tree.fit(features_train, target_train) # обучаем модель на тренировочной выборке\n",
        "    predictions=model_tree.predict(features_val) # предсказываем на валидационной выборке\n",
        "    accuracy=accuracy_score(target_val, predictions) #считаем accuracy \n",
        "    if accuracy > best_accuracy: \n",
        "        best_accuracy = accuracy\n",
        "        best_depth = depth\n",
        "        best_model_dt = model_tree\n",
        "        \n",
        "print(f'Accuracy лучшей модели: {best_accuracy}, глубина: {best_depth}')\n"
      ]
    },
    {
      "cell_type": "markdown",
      "metadata": {
        "id": "ZneVeX7-PfHU"
      },
      "source": [
        "Визуализируем метрику accuracy для тренировочной и валидационной выборок при смене гиперпараметра max_depth."
      ]
    },
    {
      "cell_type": "code",
      "execution_count": 13,
      "metadata": {
        "scrolled": true,
        "colab": {
          "base_uri": "https://localhost:8080/",
          "height": 449
        },
        "id": "U30Mx1O1PfHV",
        "outputId": "caa75dde-3845-4772-dac8-b21d81e5c24d"
      },
      "outputs": [
        {
          "output_type": "display_data",
          "data": {
            "text/plain": [
              "<Figure size 640x480 with 1 Axes>"
            ],
            "image/png": "[encoded data removed]"
          },
          "metadata": {}
        }
      ],
      "source": [
        "# Списки, в которые будем сохранять accuracy по train и validation\n",
        "ac_train = []\n",
        "ac_valid = []\n",
        "\n",
        "# Меняем в цикле значение max_depth у нашего дерева\n",
        "# и записываем значения accuracy по train и validation в два списка\n",
        "for depth in range(1,50):\n",
        "    model_tree = DecisionTreeClassifier(random_state=42, max_depth=depth)\n",
        "    model_tree.fit(features_train, target_train) \n",
        "    pred_train=model_tree.predict(features_train)\n",
        "    accuracy_train=accuracy_score(target_train, pred_train) # accuracy по train\n",
        "    ac_train.append(accuracy_train)\n",
        "    pred_val=model_tree.predict(features_val)\n",
        "    accuracy_val=accuracy_score(target_val, pred_val) # accuracy по validation\n",
        "    ac_valid.append(accuracy_val)\n",
        "\n",
        "# Строим графики по значениям accuracy\n",
        "plt.plot(ac_train, label='Тренировочная выборка');\n",
        "plt.plot(ac_valid, label='Валидационная выборка');\n",
        "plt.xlabel('Количество деревьев')\n",
        "plt.ylabel('Accuracy')\n",
        "plt.legend()\n",
        "plt.grid(True)"
      ]
    },
    {
      "cell_type": "markdown",
      "metadata": {
        "id": "I462Yf9uPfHb"
      },
      "source": [
        "На графике видно, что наиболее высокий показатель метрики accuracy наблюдается на отметке 3 дерева."
      ]
    },
    {
      "cell_type": "markdown",
      "metadata": {
        "id": "0NPLRIUbPfHb"
      },
      "source": [
        "Посмотрим, как выглядит наше дерево с оптимальными гиперпараметрами."
      ]
    },
    {
      "cell_type": "code",
      "execution_count": 14,
      "metadata": {
        "colab": {
          "base_uri": "https://localhost:8080/",
          "height": 449
        },
        "id": "iNQDZHspPfHc",
        "outputId": "564a0bd7-0265-43bc-d7f2-ba3855338801"
      },
      "outputs": [
        {
          "output_type": "display_data",
          "data": {
            "text/plain": [
              "<Figure size 3500x2000 with 1 Axes>"
            ],
            "image/png": "[encoded data removed]"
          },
          "metadata": {}
        }
      ],
      "source": [
        "fig = plt.figure(figsize=(35,20))\n",
        "_ = tree.plot_tree(best_model_dt, \n",
        "               feature_names=features.columns.values, \n",
        "               class_names=['Smart','Ultra'],\n",
        "               filled=True,\n",
        "               fontsize = 15)"
      ]
    },
    {
      "cell_type": "markdown",
      "metadata": {
        "id": "IuumUCjjPfHd"
      },
      "source": [
        "### Случайный лес"
      ]
    },
    {
      "cell_type": "code",
      "execution_count": 15,
      "metadata": {
        "colab": {
          "base_uri": "https://localhost:8080/"
        },
        "id": "YM1Nm5aoPfHd",
        "outputId": "11b1761e-da79-4fe5-994b-cb41291db514"
      },
      "outputs": [
        {
          "output_type": "stream",
          "name": "stdout",
          "text": [
            "Accuracy лучшей модели: 0.8087091757387247, глубина: 3, деревьев: 9\n"
          ]
        }
      ],
      "source": [
        "# Проверяем, как меняется качество модели в зависимости от параметров max_depth\n",
        "# и n_estimators и выводим информацию о модели с наилучшим показателем\n",
        "\n",
        "best_accuracy_rf = 0\n",
        "best_depth = None\n",
        "best_est = None\n",
        "best_model_rf = None\n",
        "\n",
        "for depth in range(1,6):\n",
        "    for est in range(1,10):\n",
        "        model_forest = (RandomForestClassifier \n",
        "                  (random_state=42, max_depth=depth, n_estimators = est)\n",
        "                 )\n",
        "        model_forest.fit(features_train, target_train) \n",
        "        # обучаем модель на тренировочной выборке\n",
        "        \n",
        "        predictions=model_forest.predict(features_val) \n",
        "        # предсказываем на валидационной выборке\n",
        "        \n",
        "        accuracy=accuracy_score(target_val, predictions) #считаем accuracy \n",
        "        \n",
        "        if accuracy > best_accuracy_rf: \n",
        "            best_accuracy_rf = accuracy\n",
        "            best_depth = depth\n",
        "            best_model_rf = model_forest\n",
        "            best_est = est\n",
        "        \n",
        "print(f'Accuracy лучшей модели: {best_accuracy_rf}, \\\n",
        "глубина: {best_depth}, деревьев: {best_est}')\n"
      ]
    },
    {
      "cell_type": "markdown",
      "metadata": {
        "id": "ubnQOp8WPfHd"
      },
      "source": [
        "Попробуем теперь подобрать гиперпараметры модели с использованием модуля GridSearchCV."
      ]
    },
    {
      "cell_type": "code",
      "execution_count": 16,
      "metadata": {
        "colab": {
          "base_uri": "https://localhost:8080/"
        },
        "id": "6wYJRox7PfHd",
        "outputId": "1cc7c622-7f8a-44b4-ede4-ddb42d7ef34f"
      },
      "outputs": [
        {
          "output_type": "stream",
          "name": "stdout",
          "text": [
            "CPU times: user 6min 56s, sys: 1.8 s, total: 6min 57s\n",
            "Wall time: 7min 10s\n"
          ]
        },
        {
          "output_type": "execute_result",
          "data": {
            "text/plain": [
              "{'max_depth': 11,\n",
              " 'min_samples_leaf': 5,\n",
              " 'min_samples_split': 2,\n",
              " 'n_estimators': 20}"
            ]
          },
          "metadata": {},
          "execution_count": 16
        }
      ],
      "source": [
        "%%time\n",
        "model_rf = RandomForestClassifier(random_state=42)\n",
        "parameters_rf = {'n_estimators': range (10, 51, 10),\n",
        "              'max_depth': range (1,13,2),\n",
        "              'min_samples_leaf': range (1,8),\n",
        "              'min_samples_split': range (2,10,2)}\n",
        "grid_rf = GridSearchCV(model_rf, parameters_rf)\n",
        "grid_rf.fit(features_train, target_train)\n",
        "grid_rf.best_params_"
      ]
    },
    {
      "cell_type": "markdown",
      "metadata": {
        "id": "nEO-TYwcPfHe"
      },
      "source": [
        "Посмотрим, как изменилось значение accuracy в модели с автоматически подобранными гиперпараметрами через GridSearch по сравнению с моделью, гиперпараметры которой мы проверяли в цикле."
      ]
    },
    {
      "cell_type": "code",
      "execution_count": 17,
      "metadata": {
        "colab": {
          "base_uri": "https://localhost:8080/"
        },
        "id": "HIJKWlUgPfHe",
        "outputId": "07a60b25-cd51-486a-f869-37408e0e2aa2"
      },
      "outputs": [
        {
          "output_type": "stream",
          "name": "stdout",
          "text": [
            "Accuracy модели по GridSearch: 0.8111984388668327\n",
            "Accuracy модели c гиперпараметрами, подобранными в цикле: 0.8087091757387247\n"
          ]
        }
      ],
      "source": [
        "print(f'Accuracy модели по GridSearch: {grid_rf.best_score_}')\n",
        "print(f'Accuracy модели c гиперпараметрами, подобранными в цикле: {best_accuracy_rf}')"
      ]
    },
    {
      "cell_type": "markdown",
      "metadata": {
        "id": "rjG8kHZcPfHe"
      },
      "source": [
        "Как видим, accuracy различается незначительно, на модели с гиперпараметрами, подобранными через GridSearch, этот показатель немного выше. "
      ]
    },
    {
      "cell_type": "markdown",
      "metadata": {
        "id": "S1MXNURjPfHf"
      },
      "source": [
        "### Логистическая регрессия"
      ]
    },
    {
      "cell_type": "code",
      "execution_count": 18,
      "metadata": {
        "colab": {
          "base_uri": "https://localhost:8080/"
        },
        "id": "jFYZShTfPfHf",
        "outputId": "8c9e683f-8f13-437d-81b5-846e694595ab"
      },
      "outputs": [
        {
          "output_type": "stream",
          "name": "stdout",
          "text": [
            "Accuracy модели логистической регрессии: 0.7442946058091287\n"
          ]
        }
      ],
      "source": [
        "# Обучаем модель и считаем accuracy\n",
        "\n",
        "model_regression = (LogisticRegression\n",
        "                    (random_state=12345, solver='lbfgs', max_iter=1000)\n",
        "                   )\n",
        "\n",
        "model_regression.fit(features_train, target_train)\n",
        "\n",
        "predictions = model_regression.predict(features_val)\n",
        "\n",
        "accuracy = model_regression.score(features_train, target_train)\n",
        "\n",
        "print(f'Accuracy модели логистической регрессии: {accuracy}')\n"
      ]
    },
    {
      "cell_type": "markdown",
      "metadata": {
        "id": "oNKtz14kPfHf"
      },
      "source": [
        "### Вывод по разделу\n",
        "Из трех исследованных моделей наилучший результат по метрике accuracy показала модель, построенная по алгоритму случайного леса с гиперпараметрами: {'max_depth': 11, 'min_samples_leaf': 5, 'min_samples_split': 2, 'n_estimators': 20}."
      ]
    },
    {
      "cell_type": "markdown",
      "metadata": {
        "id": "21JlUr8lPfHg"
      },
      "source": [
        "## Проверка модели на тестовой выборке"
      ]
    },
    {
      "cell_type": "markdown",
      "metadata": {
        "id": "ImY3Rds5PfHg"
      },
      "source": [
        "Чтобы улучшить параметры модели, перед проверкой на тестовой выборке увеличим объем данных, на которых она будет обучаться (добавим в обучающую выборку значения из валидационной)."
      ]
    },
    {
      "cell_type": "code",
      "execution_count": 19,
      "metadata": {
        "colab": {
          "base_uri": "https://localhost:8080/"
        },
        "id": "uiylJLMvPfHh",
        "outputId": "90c81b58-3926-4a4b-f2c2-9f8bcce6c7ac"
      },
      "outputs": [
        {
          "output_type": "stream",
          "name": "stdout",
          "text": [
            "(1286, 4)\n"
          ]
        },
        {
          "output_type": "execute_result",
          "data": {
            "text/plain": [
              "(1286,)"
            ]
          },
          "metadata": {},
          "execution_count": 19
        }
      ],
      "source": [
        "# Объединяем обучающую и валидационную выборки\n",
        "test_val_features = pd.concat([features_test, features_val])\n",
        "test_val_target = pd.concat([target_test, target_val])\n",
        "\n",
        "# Проверяем размер новых данных\n",
        "print(test_val_features.shape)\n",
        "test_val_target.shape\n"
      ]
    },
    {
      "cell_type": "code",
      "execution_count": 20,
      "metadata": {
        "colab": {
          "base_uri": "https://localhost:8080/",
          "height": 92
        },
        "id": "Ko8iLD9EPfHh",
        "outputId": "9c5ce8a5-1ebb-46c5-c98d-e354072fce26"
      },
      "outputs": [
        {
          "output_type": "execute_result",
          "data": {
            "text/plain": [
              "RandomForestClassifier(max_depth=11, min_samples_leaf=5, n_estimators=20,\n",
              "                       random_state=42)"
            ],
            "text/html": [
              "<style>#sk-container-id-1 {color: black;background-color: white;}#sk-container-id-1 pre{padding: 0;}#sk-container-id-1 div.sk-toggleable {background-color: white;}#sk-container-id-1 label.sk-toggleable__label {cursor: pointer;display: block;width: 100%;margin-bottom: 0;padding: 0.3em;box-sizing: border-box;text-align: center;}#sk-container-id-1 label.sk-toggleable__label-arrow:before {content: \"▸\";float: left;margin-right: 0.25em;color: #696969;}#sk-container-id-1 label.sk-toggleable__label-arrow:hover:before {color: black;}#sk-container-id-1 div.sk-estimator:hover label.sk-toggleable__label-arrow:before {color: black;}#sk-container-id-1 div.sk-toggleable__content {max-height: 0;max-width: 0;overflow: hidden;text-align: left;background-color: #f0f8ff;}#sk-container-id-1 div.sk-toggleable__content pre {margin: 0.2em;color: black;border-radius: 0.25em;background-color: #f0f8ff;}#sk-container-id-1 input.sk-toggleable__control:checked~div.sk-toggleable__content {max-height: 200px;max-width: 100%;overflow: auto;}#sk-container-id-1 input.sk-toggleable__control:checked~label.sk-toggleable__label-arrow:before {content: \"▾\";}#sk-container-id-1 div.sk-estimator input.sk-toggleable__control:checked~label.sk-toggleable__label {background-color: #d4ebff;}#sk-container-id-1 div.sk-label input.sk-toggleable__control:checked~label.sk-toggleable__label {background-color: #d4ebff;}#sk-container-id-1 input.sk-hidden--visually {border: 0;clip: rect(1px 1px 1px 1px);clip: rect(1px, 1px, 1px, 1px);height: 1px;margin: -1px;overflow: hidden;padding: 0;position: absolute;width: 1px;}#sk-container-id-1 div.sk-estimator {font-family: monospace;background-color: #f0f8ff;border: 1px dotted black;border-radius: 0.25em;box-sizing: border-box;margin-bottom: 0.5em;}#sk-container-id-1 div.sk-estimator:hover {background-color: #d4ebff;}#sk-container-id-1 div.sk-parallel-item::after {content: \"\";width: 100%;border-bottom: 1px solid gray;flex-grow: 1;}#sk-container-id-1 div.sk-label:hover label.sk-toggleable__label {background-color: #d4ebff;}#sk-container-id-1 div.sk-serial::before {content: \"\";position: absolute;border-left: 1px solid gray;box-sizing: border-box;top: 0;bottom: 0;left: 50%;z-index: 0;}#sk-container-id-1 div.sk-serial {display: flex;flex-direction: column;align-items: center;background-color: white;padding-right: 0.2em;padding-left: 0.2em;position: relative;}#sk-container-id-1 div.sk-item {position: relative;z-index: 1;}#sk-container-id-1 div.sk-parallel {display: flex;align-items: stretch;justify-content: center;background-color: white;position: relative;}#sk-container-id-1 div.sk-item::before, #sk-container-id-1 div.sk-parallel-item::before {content: \"\";position: absolute;border-left: 1px solid gray;box-sizing: border-box;top: 0;bottom: 0;left: 50%;z-index: -1;}#sk-container-id-1 div.sk-parallel-item {display: flex;flex-direction: column;z-index: 1;position: relative;background-color: white;}#sk-container-id-1 div.sk-parallel-item:first-child::after {align-self: flex-end;width: 50%;}#sk-container-id-1 div.sk-parallel-item:last-child::after {align-self: flex-start;width: 50%;}#sk-container-id-1 div.sk-parallel-item:only-child::after {width: 0;}#sk-container-id-1 div.sk-dashed-wrapped {border: 1px dashed gray;margin: 0 0.4em 0.5em 0.4em;box-sizing: border-box;padding-bottom: 0.4em;background-color: white;}#sk-container-id-1 div.sk-label label {font-family: monospace;font-weight: bold;display: inline-block;line-height: 1.2em;}#sk-container-id-1 div.sk-label-container {text-align: center;}#sk-container-id-1 div.sk-container {/* jupyter's `normalize.less` sets `[hidden] { display: none; }` but bootstrap.min.css set `[hidden] { display: none !important; }` so we also need the `!important` here to be able to override the default hidden behavior on the sphinx rendered scikit-learn.org. See: https://github.com/scikit-learn/scikit-learn/issues/21755 */display: inline-block !important;position: relative;}#sk-container-id-1 div.sk-text-repr-fallback {display: none;}</style><div id=\"sk-container-id-1\" class=\"sk-top-container\"><div class=\"sk-text-repr-fallback\"><pre>RandomForestClassifier(max_depth=11, min_samples_leaf=5, n_estimators=20,\n",
              "                       random_state=42)</pre><b>In a Jupyter environment, please rerun this cell to show the HTML representation or trust the notebook. <br />On GitHub, the HTML representation is unable to render, please try loading this page with nbviewer.org.</b></div><div class=\"sk-container\" hidden><div class=\"sk-item\"><div class=\"sk-estimator sk-toggleable\"><input class=\"sk-toggleable__control sk-hidden--visually\" id=\"sk-estimator-id-1\" type=\"checkbox\" checked><label for=\"sk-estimator-id-1\" class=\"sk-toggleable__label sk-toggleable__label-arrow\">RandomForestClassifier</label><div class=\"sk-toggleable__content\"><pre>RandomForestClassifier(max_depth=11, min_samples_leaf=5, n_estimators=20,\n",
              "                       random_state=42)</pre></div></div></div></div></div>"
            ]
          },
          "metadata": {},
          "execution_count": 20
        }
      ],
      "source": [
        "# Обучаем модель на расширенной выборке\n",
        "grid_rf.best_estimator_.fit(test_val_features, test_val_target)"
      ]
    },
    {
      "cell_type": "code",
      "execution_count": 21,
      "metadata": {
        "colab": {
          "base_uri": "https://localhost:8080/"
        },
        "id": "pKETTCqxPfHh",
        "outputId": "03abd099-5e79-4b25-d8f9-5fb927c7cec3"
      },
      "outputs": [
        {
          "output_type": "stream",
          "name": "stdout",
          "text": [
            "Accuracy модели \"случайный лес\" на тестовой выборке: 0.8709175738724728\n"
          ]
        }
      ],
      "source": [
        "# Делаем предсказания на тестовой выборке\n",
        "predictions = grid_rf.best_estimator_.predict(features_test) \n",
        "\n",
        "# Считаем accuracy по тестовой выборке\n",
        "accuracy_rf_test = accuracy_score(target_test, predictions) \n",
        "\n",
        "print(f'Accuracy модели \"случайный лес\" на тестовой выборке: {accuracy_rf_test}')"
      ]
    },
    {
      "cell_type": "markdown",
      "metadata": {
        "id": "WpplEr44PfHh"
      },
      "source": [
        "### Вывод по разделу\n",
        "У модели, которая показала лучший результат на валидационной выборке, показатель accuracy на тестовой выборке составляет 0.87. Цель исследования достигнута."
      ]
    },
    {
      "cell_type": "markdown",
      "metadata": {
        "id": "uQnv3EkGPfHi"
      },
      "source": [
        "## Проверка модели на адекватность"
      ]
    },
    {
      "cell_type": "markdown",
      "metadata": {
        "id": "L4fEZg3CPfHi"
      },
      "source": [
        "Чтобы проверить, насколько адекватна наша модель, мы сравним ее предсказания с результатом работы случайной модели.\n",
        "\n",
        "Ранее мы проверяли, сколько значений 0 и 1 содержится в нашем целевом столбце. Посмотрим еще раз."
      ]
    },
    {
      "cell_type": "code",
      "execution_count": 22,
      "metadata": {
        "colab": {
          "base_uri": "https://localhost:8080/"
        },
        "id": "HMcZJhQQPfHi",
        "outputId": "4b1a8dfa-489d-4adf-8d93-bf6adecbe9d2"
      },
      "outputs": [
        {
          "output_type": "execute_result",
          "data": {
            "text/plain": [
              "0    2229\n",
              "1     985\n",
              "Name: is_ultra, dtype: int64"
            ]
          },
          "metadata": {},
          "execution_count": 22
        }
      ],
      "source": [
        "df.is_ultra.value_counts()"
      ]
    },
    {
      "cell_type": "markdown",
      "metadata": {
        "id": "aONhV5sjPfHi"
      },
      "source": [
        "Как видим, в данных имеется дисбаланс. Будем учитывать это при проверке."
      ]
    },
    {
      "cell_type": "code",
      "execution_count": 23,
      "metadata": {
        "colab": {
          "base_uri": "https://localhost:8080/"
        },
        "id": "ADqV2B-zPfHi",
        "outputId": "821008b2-df90-4b8a-915c-a94381c339d6"
      },
      "outputs": [
        {
          "output_type": "stream",
          "name": "stdout",
          "text": [
            "Accuracy случайного леса на тестовой выборке: 0.8709175738724728\n",
            "Accuracy случайной модели: 0.6936236391912908\n",
            "Разница: 0.17729393468118204\n"
          ]
        }
      ],
      "source": [
        "# Создаем случайную модель и смотрим на ее точность\n",
        "dummy_clf = DummyClassifier(strategy='most_frequent')\n",
        "dummy_clf.fit(features_train, target_train)\n",
        "dummy_accuracy = accuracy_score(dummy_clf.predict(features_test), target_test)\n",
        "print(f'Accuracy случайного леса на тестовой выборке: {accuracy_rf_test}')\n",
        "print(f'Accuracy случайной модели: {dummy_accuracy}')\n",
        "print(f'Разница: {accuracy_rf_test - dummy_accuracy}')"
      ]
    },
    {
      "cell_type": "markdown",
      "metadata": {
        "id": "ZVqFOXz2PfHj"
      },
      "source": [
        "### Вывод по разделу\n",
        "Сравнение предсказаний, сделанных нашей моделью на тестовой выборке, с предсказаниями случайной модели показало, что наша модель является адекватной, поскольку aссuracy случайной модели существенно меньше, чем этот показатель по нашей модели."
      ]
    },
    {
      "cell_type": "markdown",
      "metadata": {
        "id": "zr60oDUKPfHj"
      },
      "source": [
        "## Вывод по проекту"
      ]
    },
    {
      "cell_type": "markdown",
      "metadata": {
        "id": "J6ZqDcIhPfHk"
      },
      "source": [
        "В результате проведенного исследования была выбрана модель с наибольшим показателем метрики accuracy. Это модель, построенная по алгоритму случайного леса со следующими гиперпараметрами: {'max_depth': 11, 'min_samples_leaf': 5, 'min_samples_split': 2, 'n_estimators': 20}. \n",
        "\n",
        "Показатель accuracy этой модели на валидационной выборке составил 0.81, на тестовой — 0.87. \n",
        "\n",
        "Сравнение предсказаний нашей модели и дамми-модели говорит в пользу адекватности нашей модели.\n",
        "\n",
        "Таким образом, мы построили и обучили модель, которая может предлагать пользователям тариф «Ультра» или «Смарт» в зависимости от их поведения (то есть в зависимости от параметров, которые отражены в данных)."
      ]
    }
  ],
  "metadata": {
    "ExecuteTimeLog": [
      {
        "duration": 368,
        "start_time": "2022-11-16T11:07:36.460Z"
      },
      {
        "duration": 65,
        "start_time": "2022-11-16T11:08:13.333Z"
      },
      {
        "duration": 38,
        "start_time": "2022-11-16T11:08:37.920Z"
      },
      {
        "duration": 25,
        "start_time": "2022-11-16T11:10:44.359Z"
      },
      {
        "duration": 30,
        "start_time": "2022-11-16T11:10:54.177Z"
      },
      {
        "duration": 47,
        "start_time": "2022-11-16T11:11:07.151Z"
      },
      {
        "duration": 47,
        "start_time": "2022-11-16T11:11:12.155Z"
      },
      {
        "duration": 25,
        "start_time": "2022-11-16T11:27:41.244Z"
      },
      {
        "duration": 4,
        "start_time": "2022-11-16T11:28:12.112Z"
      },
      {
        "duration": 69,
        "start_time": "2022-11-16T11:28:44.697Z"
      },
      {
        "duration": 8,
        "start_time": "2022-11-16T11:28:50.301Z"
      },
      {
        "duration": 26,
        "start_time": "2022-11-16T11:29:22.858Z"
      },
      {
        "duration": 4,
        "start_time": "2022-11-16T11:29:41.898Z"
      },
      {
        "duration": 6,
        "start_time": "2022-11-16T11:29:52.058Z"
      },
      {
        "duration": 7,
        "start_time": "2022-11-16T11:31:59.790Z"
      },
      {
        "duration": 5,
        "start_time": "2022-11-16T11:32:02.111Z"
      },
      {
        "duration": 12,
        "start_time": "2022-11-16T11:32:13.585Z"
      },
      {
        "duration": 5,
        "start_time": "2022-11-16T11:32:27.689Z"
      },
      {
        "duration": 10,
        "start_time": "2022-11-16T11:33:05.992Z"
      },
      {
        "duration": 9,
        "start_time": "2022-11-16T11:33:43.141Z"
      },
      {
        "duration": 9,
        "start_time": "2022-11-16T11:35:09.437Z"
      },
      {
        "duration": 9,
        "start_time": "2022-11-16T11:35:28.137Z"
      },
      {
        "duration": 6,
        "start_time": "2022-11-16T11:35:36.564Z"
      },
      {
        "duration": 7,
        "start_time": "2022-11-16T11:35:45.305Z"
      },
      {
        "duration": 711,
        "start_time": "2022-11-16T11:42:10.917Z"
      },
      {
        "duration": 41,
        "start_time": "2022-11-16T11:42:58.429Z"
      },
      {
        "duration": 7,
        "start_time": "2022-11-16T11:45:57.309Z"
      },
      {
        "duration": 6,
        "start_time": "2022-11-16T11:46:04.396Z"
      },
      {
        "duration": 7,
        "start_time": "2022-11-16T12:13:13.795Z"
      },
      {
        "duration": 52,
        "start_time": "2022-11-16T14:05:40.956Z"
      },
      {
        "duration": 20,
        "start_time": "2022-11-16T14:20:31.594Z"
      },
      {
        "duration": 32,
        "start_time": "2022-11-16T14:20:49.431Z"
      },
      {
        "duration": 42,
        "start_time": "2022-11-16T14:22:18.383Z"
      },
      {
        "duration": 17,
        "start_time": "2022-11-16T14:23:00.887Z"
      },
      {
        "duration": 20,
        "start_time": "2022-11-16T14:23:06.630Z"
      },
      {
        "duration": 18,
        "start_time": "2022-11-16T14:23:33.145Z"
      },
      {
        "duration": 21,
        "start_time": "2022-11-16T14:23:45.835Z"
      },
      {
        "duration": 16,
        "start_time": "2022-11-16T14:30:02.724Z"
      },
      {
        "duration": 16,
        "start_time": "2022-11-16T14:30:10.827Z"
      },
      {
        "duration": 15,
        "start_time": "2022-11-16T14:30:13.881Z"
      },
      {
        "duration": 3,
        "start_time": "2022-11-16T14:30:21.003Z"
      },
      {
        "duration": 22,
        "start_time": "2022-11-16T14:30:24.043Z"
      },
      {
        "duration": 19,
        "start_time": "2022-11-16T14:30:29.831Z"
      },
      {
        "duration": 4,
        "start_time": "2022-11-16T14:30:51.279Z"
      },
      {
        "duration": 62,
        "start_time": "2022-11-16T14:30:53.481Z"
      },
      {
        "duration": 98,
        "start_time": "2022-11-16T14:31:09.004Z"
      },
      {
        "duration": 60,
        "start_time": "2022-11-16T14:31:14.404Z"
      },
      {
        "duration": 5,
        "start_time": "2022-11-16T14:31:53.523Z"
      },
      {
        "duration": 64,
        "start_time": "2022-11-16T14:35:12.026Z"
      },
      {
        "duration": 180,
        "start_time": "2022-11-16T14:35:30.356Z"
      },
      {
        "duration": 6,
        "start_time": "2022-11-16T14:36:05.576Z"
      },
      {
        "duration": 3,
        "start_time": "2022-11-16T14:36:17.539Z"
      },
      {
        "duration": 4,
        "start_time": "2022-11-16T14:36:24.984Z"
      },
      {
        "duration": 60,
        "start_time": "2022-11-16T14:36:46.833Z"
      },
      {
        "duration": 398,
        "start_time": "2022-11-17T07:05:51.540Z"
      },
      {
        "duration": 139,
        "start_time": "2022-11-17T07:05:51.940Z"
      },
      {
        "duration": 7,
        "start_time": "2022-11-17T07:05:52.081Z"
      },
      {
        "duration": 41,
        "start_time": "2022-11-17T07:05:52.091Z"
      },
      {
        "duration": 53,
        "start_time": "2022-11-17T07:05:52.134Z"
      },
      {
        "duration": 33,
        "start_time": "2022-11-17T07:05:52.188Z"
      },
      {
        "duration": 31,
        "start_time": "2022-11-17T07:05:52.222Z"
      },
      {
        "duration": 56,
        "start_time": "2022-11-17T07:05:52.255Z"
      },
      {
        "duration": 41,
        "start_time": "2022-11-17T07:05:52.313Z"
      },
      {
        "duration": 677,
        "start_time": "2022-11-17T07:05:52.356Z"
      },
      {
        "duration": 6,
        "start_time": "2022-11-17T07:05:53.034Z"
      },
      {
        "duration": 46,
        "start_time": "2022-11-17T07:05:53.042Z"
      },
      {
        "duration": 5,
        "start_time": "2022-11-17T07:05:53.089Z"
      },
      {
        "duration": 147,
        "start_time": "2022-11-17T07:08:22.075Z"
      },
      {
        "duration": 3,
        "start_time": "2022-11-17T07:08:40.237Z"
      },
      {
        "duration": 65,
        "start_time": "2022-11-17T07:08:44.136Z"
      },
      {
        "duration": 3,
        "start_time": "2022-11-17T07:09:01.699Z"
      },
      {
        "duration": 68,
        "start_time": "2022-11-17T07:09:04.416Z"
      },
      {
        "duration": 398,
        "start_time": "2022-11-17T07:09:44.397Z"
      },
      {
        "duration": 30,
        "start_time": "2022-11-17T07:09:44.797Z"
      },
      {
        "duration": 8,
        "start_time": "2022-11-17T07:09:44.829Z"
      },
      {
        "duration": 11,
        "start_time": "2022-11-17T07:09:44.839Z"
      },
      {
        "duration": 27,
        "start_time": "2022-11-17T07:09:44.852Z"
      },
      {
        "duration": 5,
        "start_time": "2022-11-17T07:09:44.880Z"
      },
      {
        "duration": 11,
        "start_time": "2022-11-17T07:09:44.887Z"
      },
      {
        "duration": 9,
        "start_time": "2022-11-17T07:09:44.899Z"
      },
      {
        "duration": 9,
        "start_time": "2022-11-17T07:09:44.937Z"
      },
      {
        "duration": 716,
        "start_time": "2022-11-17T07:09:44.949Z"
      },
      {
        "duration": 6,
        "start_time": "2022-11-17T07:09:45.666Z"
      },
      {
        "duration": 44,
        "start_time": "2022-11-17T07:09:45.674Z"
      },
      {
        "duration": 7,
        "start_time": "2022-11-17T07:09:45.720Z"
      },
      {
        "duration": 150,
        "start_time": "2022-11-17T07:09:45.736Z"
      },
      {
        "duration": 63,
        "start_time": "2022-11-17T07:09:52.782Z"
      },
      {
        "duration": 65,
        "start_time": "2022-11-17T07:10:47.975Z"
      },
      {
        "duration": 69,
        "start_time": "2022-11-17T07:15:05.578Z"
      },
      {
        "duration": 12,
        "start_time": "2022-11-17T07:15:30.871Z"
      },
      {
        "duration": 616,
        "start_time": "2022-11-17T07:15:40.180Z"
      },
      {
        "duration": 622,
        "start_time": "2022-11-17T07:16:05.427Z"
      },
      {
        "duration": 571,
        "start_time": "2022-11-17T07:16:24.314Z"
      },
      {
        "duration": 637,
        "start_time": "2022-11-17T07:16:32.272Z"
      },
      {
        "duration": 638,
        "start_time": "2022-11-17T07:17:36.168Z"
      },
      {
        "duration": 34,
        "start_time": "2022-11-17T07:24:24.596Z"
      },
      {
        "duration": 41,
        "start_time": "2022-11-17T07:28:28.246Z"
      },
      {
        "duration": 38,
        "start_time": "2022-11-17T07:28:30.514Z"
      },
      {
        "duration": 632,
        "start_time": "2022-11-17T07:31:21.192Z"
      },
      {
        "duration": 44,
        "start_time": "2022-11-17T07:33:48.777Z"
      },
      {
        "duration": 37,
        "start_time": "2022-11-17T07:33:58.474Z"
      },
      {
        "duration": 15,
        "start_time": "2022-11-17T07:38:47.761Z"
      },
      {
        "duration": 4,
        "start_time": "2022-11-17T07:38:52.336Z"
      },
      {
        "duration": 12,
        "start_time": "2022-11-17T07:38:53.605Z"
      },
      {
        "duration": 23,
        "start_time": "2022-11-17T07:40:04.210Z"
      },
      {
        "duration": 7,
        "start_time": "2022-11-17T07:40:46.143Z"
      },
      {
        "duration": 8,
        "start_time": "2022-11-17T07:40:57.948Z"
      },
      {
        "duration": 7,
        "start_time": "2022-11-17T07:41:08.734Z"
      },
      {
        "duration": 11,
        "start_time": "2022-11-17T09:50:42.434Z"
      },
      {
        "duration": 3,
        "start_time": "2022-11-17T09:50:48.975Z"
      },
      {
        "duration": 77,
        "start_time": "2022-11-17T09:50:48.980Z"
      },
      {
        "duration": 19,
        "start_time": "2022-11-17T09:50:49.059Z"
      },
      {
        "duration": 38,
        "start_time": "2022-11-17T09:50:49.081Z"
      },
      {
        "duration": 57,
        "start_time": "2022-11-17T09:50:49.121Z"
      },
      {
        "duration": 7,
        "start_time": "2022-11-17T09:50:49.180Z"
      },
      {
        "duration": 26,
        "start_time": "2022-11-17T09:50:49.189Z"
      },
      {
        "duration": 20,
        "start_time": "2022-11-17T09:50:49.217Z"
      },
      {
        "duration": 29,
        "start_time": "2022-11-17T09:50:49.239Z"
      },
      {
        "duration": 24,
        "start_time": "2022-11-17T09:50:49.270Z"
      },
      {
        "duration": 31,
        "start_time": "2022-11-17T09:50:49.296Z"
      },
      {
        "duration": 38,
        "start_time": "2022-11-17T09:50:49.329Z"
      },
      {
        "duration": 31,
        "start_time": "2022-11-17T09:50:49.369Z"
      },
      {
        "duration": 88,
        "start_time": "2022-11-17T09:50:49.404Z"
      },
      {
        "duration": 659,
        "start_time": "2022-11-17T09:50:49.494Z"
      },
      {
        "duration": 37,
        "start_time": "2022-11-17T09:50:50.154Z"
      },
      {
        "duration": 3,
        "start_time": "2022-11-17T09:50:50.193Z"
      },
      {
        "duration": 32,
        "start_time": "2022-11-17T09:50:50.198Z"
      },
      {
        "duration": 33,
        "start_time": "2022-11-17T09:50:50.232Z"
      },
      {
        "duration": 8,
        "start_time": "2022-11-17T09:50:50.266Z"
      },
      {
        "duration": 383,
        "start_time": "2022-11-17T09:51:00.289Z"
      },
      {
        "duration": 5,
        "start_time": "2022-11-17T09:51:06.710Z"
      },
      {
        "duration": 14,
        "start_time": "2022-11-17T09:51:55.747Z"
      },
      {
        "duration": 48,
        "start_time": "2022-11-17T09:53:07.631Z"
      },
      {
        "duration": 13,
        "start_time": "2022-11-17T09:53:42.605Z"
      },
      {
        "duration": 12,
        "start_time": "2022-11-17T09:53:55.006Z"
      },
      {
        "duration": 10,
        "start_time": "2022-11-17T09:54:03.181Z"
      },
      {
        "duration": 742,
        "start_time": "2022-11-17T09:54:06.095Z"
      },
      {
        "duration": 350,
        "start_time": "2022-11-17T09:54:52.317Z"
      },
      {
        "duration": 216,
        "start_time": "2022-11-17T09:55:05.015Z"
      },
      {
        "duration": 275,
        "start_time": "2022-11-17T09:56:03.074Z"
      },
      {
        "duration": 261,
        "start_time": "2022-11-17T09:56:37.581Z"
      },
      {
        "duration": 372,
        "start_time": "2022-11-17T09:57:08.851Z"
      },
      {
        "duration": 164,
        "start_time": "2022-11-17T09:57:55.074Z"
      },
      {
        "duration": 9,
        "start_time": "2022-11-17T10:00:29.993Z"
      },
      {
        "duration": 27,
        "start_time": "2022-11-17T10:01:00.721Z"
      },
      {
        "duration": 105,
        "start_time": "2022-11-17T10:01:06.143Z"
      },
      {
        "duration": 122,
        "start_time": "2022-11-17T10:01:13.360Z"
      },
      {
        "duration": 149,
        "start_time": "2022-11-17T10:01:26.926Z"
      },
      {
        "duration": 144,
        "start_time": "2022-11-17T10:01:35.104Z"
      },
      {
        "duration": 10,
        "start_time": "2022-11-17T10:03:49.877Z"
      },
      {
        "duration": 9,
        "start_time": "2022-11-17T10:04:32.250Z"
      },
      {
        "duration": 41,
        "start_time": "2022-11-17T10:11:33.721Z"
      },
      {
        "duration": 17,
        "start_time": "2022-11-17T10:11:58.236Z"
      },
      {
        "duration": 242,
        "start_time": "2022-11-17T10:13:20.599Z"
      },
      {
        "duration": 237,
        "start_time": "2022-11-17T10:13:28.916Z"
      },
      {
        "duration": 17,
        "start_time": "2022-11-17T10:13:39.340Z"
      },
      {
        "duration": 16,
        "start_time": "2022-11-17T10:13:55.596Z"
      },
      {
        "duration": 334,
        "start_time": "2022-11-17T10:15:04.505Z"
      },
      {
        "duration": 21,
        "start_time": "2022-11-17T10:15:22.494Z"
      },
      {
        "duration": 17,
        "start_time": "2022-11-17T10:15:54.762Z"
      },
      {
        "duration": 17,
        "start_time": "2022-11-17T10:16:38.803Z"
      },
      {
        "duration": 17,
        "start_time": "2022-11-17T10:17:10.889Z"
      },
      {
        "duration": 10,
        "start_time": "2022-11-17T10:17:39.607Z"
      },
      {
        "duration": 7,
        "start_time": "2022-11-17T10:18:03.599Z"
      },
      {
        "duration": 11,
        "start_time": "2022-11-17T10:18:08.347Z"
      },
      {
        "duration": 60,
        "start_time": "2022-11-17T10:32:50.130Z"
      },
      {
        "duration": 22,
        "start_time": "2022-11-17T10:33:01.605Z"
      },
      {
        "duration": 10460,
        "start_time": "2022-11-17T10:34:22.855Z"
      },
      {
        "duration": 10626,
        "start_time": "2022-11-17T10:37:01.363Z"
      },
      {
        "duration": 1434,
        "start_time": "2022-11-17T10:37:40.909Z"
      },
      {
        "duration": 1937,
        "start_time": "2022-11-17T10:38:02.262Z"
      },
      {
        "duration": 596,
        "start_time": "2022-11-17T10:40:31.289Z"
      },
      {
        "duration": 5,
        "start_time": "2022-11-17T12:04:16.742Z"
      },
      {
        "duration": 24,
        "start_time": "2022-11-17T12:06:00.545Z"
      },
      {
        "duration": 12,
        "start_time": "2022-11-17T12:11:12.177Z"
      },
      {
        "duration": 11,
        "start_time": "2022-11-17T12:11:32.926Z"
      },
      {
        "duration": 12,
        "start_time": "2022-11-17T12:11:51.707Z"
      },
      {
        "duration": 6,
        "start_time": "2022-11-17T12:23:26.382Z"
      },
      {
        "duration": 6,
        "start_time": "2022-11-17T12:24:29.600Z"
      },
      {
        "duration": 9,
        "start_time": "2022-11-17T12:25:05.280Z"
      },
      {
        "duration": 11,
        "start_time": "2022-11-17T12:25:11.497Z"
      },
      {
        "duration": 6,
        "start_time": "2022-11-17T12:33:27.415Z"
      },
      {
        "duration": 7,
        "start_time": "2022-11-17T12:33:38.123Z"
      },
      {
        "duration": 4,
        "start_time": "2022-11-17T12:35:26.096Z"
      },
      {
        "duration": 5,
        "start_time": "2022-11-17T12:35:28.468Z"
      },
      {
        "duration": 61,
        "start_time": "2022-11-17T12:35:47.339Z"
      },
      {
        "duration": 614,
        "start_time": "2022-11-17T12:35:58.171Z"
      },
      {
        "duration": 12,
        "start_time": "2022-11-17T12:37:32.614Z"
      },
      {
        "duration": 9,
        "start_time": "2022-11-17T12:37:37.530Z"
      },
      {
        "duration": 10,
        "start_time": "2022-11-17T12:37:38.447Z"
      },
      {
        "duration": 10,
        "start_time": "2022-11-17T12:37:38.977Z"
      },
      {
        "duration": 13,
        "start_time": "2022-11-17T12:37:39.676Z"
      },
      {
        "duration": 11,
        "start_time": "2022-11-17T12:37:40.579Z"
      },
      {
        "duration": 11,
        "start_time": "2022-11-17T12:37:41.475Z"
      },
      {
        "duration": 10,
        "start_time": "2022-11-17T12:37:42.054Z"
      },
      {
        "duration": 15,
        "start_time": "2022-11-17T12:37:42.618Z"
      },
      {
        "duration": 10,
        "start_time": "2022-11-17T12:37:44.296Z"
      },
      {
        "duration": 204,
        "start_time": "2022-11-17T12:37:53.772Z"
      },
      {
        "duration": 11,
        "start_time": "2022-11-17T12:38:02.016Z"
      },
      {
        "duration": 14,
        "start_time": "2022-11-17T12:38:06.211Z"
      },
      {
        "duration": 10,
        "start_time": "2022-11-17T12:38:07.243Z"
      },
      {
        "duration": 10,
        "start_time": "2022-11-17T12:38:09.105Z"
      },
      {
        "duration": 377,
        "start_time": "2022-11-17T13:05:12.490Z"
      },
      {
        "duration": 28,
        "start_time": "2022-11-17T13:05:12.869Z"
      },
      {
        "duration": 8,
        "start_time": "2022-11-17T13:05:12.898Z"
      },
      {
        "duration": 15,
        "start_time": "2022-11-17T13:05:12.908Z"
      },
      {
        "duration": 32,
        "start_time": "2022-11-17T13:05:12.925Z"
      },
      {
        "duration": 4,
        "start_time": "2022-11-17T13:05:12.958Z"
      },
      {
        "duration": 14,
        "start_time": "2022-11-17T13:05:12.964Z"
      },
      {
        "duration": 12,
        "start_time": "2022-11-17T13:05:12.980Z"
      },
      {
        "duration": 16,
        "start_time": "2022-11-17T13:05:12.993Z"
      },
      {
        "duration": 1228,
        "start_time": "2022-11-17T13:05:13.011Z"
      },
      {
        "duration": 6,
        "start_time": "2022-11-17T13:05:14.241Z"
      },
      {
        "duration": 53,
        "start_time": "2022-11-17T13:05:14.248Z"
      },
      {
        "duration": 15,
        "start_time": "2022-11-17T13:05:14.303Z"
      },
      {
        "duration": 69,
        "start_time": "2022-11-17T13:05:14.319Z"
      },
      {
        "duration": 567,
        "start_time": "2022-11-17T13:05:14.389Z"
      },
      {
        "duration": 34,
        "start_time": "2022-11-17T13:05:14.958Z"
      },
      {
        "duration": 3,
        "start_time": "2022-11-17T13:05:14.994Z"
      },
      {
        "duration": 59,
        "start_time": "2022-11-17T13:05:14.999Z"
      },
      {
        "duration": 14,
        "start_time": "2022-11-17T13:05:15.060Z"
      },
      {
        "duration": 33,
        "start_time": "2022-11-17T13:05:15.075Z"
      },
      {
        "duration": 17,
        "start_time": "2022-11-17T13:44:50.170Z"
      },
      {
        "duration": 16,
        "start_time": "2022-11-17T13:45:09.421Z"
      },
      {
        "duration": 17,
        "start_time": "2022-11-17T13:45:29.988Z"
      },
      {
        "duration": 7,
        "start_time": "2022-11-17T13:45:39.317Z"
      },
      {
        "duration": 7,
        "start_time": "2022-11-17T13:46:12.053Z"
      },
      {
        "duration": 3,
        "start_time": "2022-11-17T15:31:36.896Z"
      },
      {
        "duration": 3,
        "start_time": "2022-11-17T15:31:51.962Z"
      },
      {
        "duration": 4,
        "start_time": "2022-11-17T15:32:37.405Z"
      },
      {
        "duration": 9,
        "start_time": "2022-11-17T15:53:42.441Z"
      },
      {
        "duration": 38,
        "start_time": "2022-11-17T15:56:39.972Z"
      },
      {
        "duration": 14,
        "start_time": "2022-11-17T16:01:09.786Z"
      },
      {
        "duration": 7,
        "start_time": "2022-11-17T16:01:54.362Z"
      },
      {
        "duration": 4,
        "start_time": "2022-11-17T16:21:02.465Z"
      },
      {
        "duration": 6,
        "start_time": "2022-11-17T16:23:00.570Z"
      },
      {
        "duration": 76,
        "start_time": "2022-11-17T18:17:20.859Z"
      },
      {
        "duration": 4,
        "start_time": "2022-11-17T18:17:38.571Z"
      },
      {
        "duration": 29,
        "start_time": "2022-11-17T18:17:38.628Z"
      },
      {
        "duration": 4,
        "start_time": "2022-11-17T18:17:38.660Z"
      },
      {
        "duration": 18,
        "start_time": "2022-11-17T18:17:38.666Z"
      },
      {
        "duration": 36,
        "start_time": "2022-11-17T18:17:38.686Z"
      },
      {
        "duration": 6,
        "start_time": "2022-11-17T18:17:38.724Z"
      },
      {
        "duration": 15,
        "start_time": "2022-11-17T18:17:38.731Z"
      },
      {
        "duration": 13,
        "start_time": "2022-11-17T18:17:38.748Z"
      },
      {
        "duration": 6,
        "start_time": "2022-11-17T18:17:38.763Z"
      },
      {
        "duration": 46,
        "start_time": "2022-11-17T18:17:50.414Z"
      },
      {
        "duration": 20,
        "start_time": "2022-11-17T18:18:06.753Z"
      },
      {
        "duration": 15,
        "start_time": "2022-11-17T18:20:17.578Z"
      },
      {
        "duration": 15,
        "start_time": "2022-11-17T18:21:14.448Z"
      },
      {
        "duration": 14,
        "start_time": "2022-11-17T18:21:49.491Z"
      },
      {
        "duration": 11,
        "start_time": "2022-11-17T18:21:54.290Z"
      },
      {
        "duration": 5,
        "start_time": "2022-11-17T18:22:58.207Z"
      },
      {
        "duration": 71,
        "start_time": "2022-11-17T18:30:26.450Z"
      },
      {
        "duration": 60,
        "start_time": "2022-11-17T18:31:47.807Z"
      },
      {
        "duration": 63,
        "start_time": "2022-11-17T18:31:56.202Z"
      },
      {
        "duration": 4,
        "start_time": "2022-11-17T18:32:03.991Z"
      },
      {
        "duration": 28,
        "start_time": "2022-11-17T18:32:04.020Z"
      },
      {
        "duration": 4,
        "start_time": "2022-11-17T18:32:04.050Z"
      },
      {
        "duration": 12,
        "start_time": "2022-11-17T18:32:04.057Z"
      },
      {
        "duration": 27,
        "start_time": "2022-11-17T18:32:04.071Z"
      },
      {
        "duration": 5,
        "start_time": "2022-11-17T18:32:04.100Z"
      },
      {
        "duration": 30,
        "start_time": "2022-11-17T18:32:04.107Z"
      },
      {
        "duration": 17,
        "start_time": "2022-11-17T18:32:04.138Z"
      },
      {
        "duration": 6,
        "start_time": "2022-11-17T18:32:04.157Z"
      },
      {
        "duration": 18,
        "start_time": "2022-11-17T18:32:04.166Z"
      },
      {
        "duration": 16,
        "start_time": "2022-11-17T18:32:04.185Z"
      },
      {
        "duration": 59,
        "start_time": "2022-11-17T18:32:09.876Z"
      },
      {
        "duration": 57,
        "start_time": "2022-11-17T18:32:39.135Z"
      },
      {
        "duration": 5,
        "start_time": "2022-11-17T18:32:42.438Z"
      },
      {
        "duration": 31,
        "start_time": "2022-11-17T18:32:42.529Z"
      },
      {
        "duration": 11,
        "start_time": "2022-11-17T18:32:42.606Z"
      },
      {
        "duration": 20,
        "start_time": "2022-11-17T18:32:42.619Z"
      },
      {
        "duration": 47,
        "start_time": "2022-11-17T18:32:42.641Z"
      },
      {
        "duration": 7,
        "start_time": "2022-11-17T18:32:42.691Z"
      },
      {
        "duration": 16,
        "start_time": "2022-11-17T18:32:42.700Z"
      },
      {
        "duration": 21,
        "start_time": "2022-11-17T18:32:42.718Z"
      },
      {
        "duration": 7,
        "start_time": "2022-11-17T18:32:42.742Z"
      },
      {
        "duration": 18,
        "start_time": "2022-11-17T18:32:42.751Z"
      },
      {
        "duration": 10,
        "start_time": "2022-11-17T18:32:42.771Z"
      },
      {
        "duration": 65,
        "start_time": "2022-11-17T18:32:46.622Z"
      },
      {
        "duration": 59,
        "start_time": "2022-11-17T18:32:55.445Z"
      },
      {
        "duration": 1129,
        "start_time": "2022-11-17T18:33:09.147Z"
      },
      {
        "duration": 30,
        "start_time": "2022-11-17T18:33:11.374Z"
      },
      {
        "duration": 9,
        "start_time": "2022-11-17T18:33:11.406Z"
      },
      {
        "duration": 21,
        "start_time": "2022-11-17T18:33:11.416Z"
      },
      {
        "duration": 29,
        "start_time": "2022-11-17T18:33:11.439Z"
      },
      {
        "duration": 8,
        "start_time": "2022-11-17T18:33:12.358Z"
      },
      {
        "duration": 34,
        "start_time": "2022-11-17T18:33:12.369Z"
      },
      {
        "duration": 22,
        "start_time": "2022-11-17T18:33:12.405Z"
      },
      {
        "duration": 19,
        "start_time": "2022-11-17T18:33:12.429Z"
      },
      {
        "duration": 29,
        "start_time": "2022-11-17T18:33:12.451Z"
      },
      {
        "duration": 22,
        "start_time": "2022-11-17T18:33:12.483Z"
      },
      {
        "duration": 112,
        "start_time": "2022-11-17T18:33:12.507Z"
      },
      {
        "duration": 119,
        "start_time": "2022-11-17T18:33:12.653Z"
      },
      {
        "duration": 0,
        "start_time": "2022-11-17T18:33:12.774Z"
      },
      {
        "duration": 0,
        "start_time": "2022-11-17T18:33:12.775Z"
      },
      {
        "duration": 0,
        "start_time": "2022-11-17T18:33:12.777Z"
      },
      {
        "duration": 0,
        "start_time": "2022-11-17T18:33:12.778Z"
      },
      {
        "duration": 0,
        "start_time": "2022-11-17T18:33:12.780Z"
      },
      {
        "duration": 0,
        "start_time": "2022-11-17T18:33:12.782Z"
      },
      {
        "duration": 71,
        "start_time": "2022-11-17T18:33:37.520Z"
      },
      {
        "duration": 495,
        "start_time": "2022-11-17T18:34:26.112Z"
      },
      {
        "duration": 10,
        "start_time": "2022-11-17T18:35:29.976Z"
      },
      {
        "duration": 735,
        "start_time": "2022-11-17T18:36:23.936Z"
      },
      {
        "duration": 464,
        "start_time": "2022-11-17T18:36:33.671Z"
      },
      {
        "duration": 17,
        "start_time": "2022-11-17T18:40:17.512Z"
      },
      {
        "duration": 745,
        "start_time": "2022-11-17T18:40:41.435Z"
      },
      {
        "duration": 454,
        "start_time": "2022-11-17T19:16:13.600Z"
      },
      {
        "duration": 516,
        "start_time": "2022-11-17T19:16:36.601Z"
      },
      {
        "duration": 632,
        "start_time": "2022-11-17T19:16:41.972Z"
      },
      {
        "duration": 561,
        "start_time": "2022-11-17T19:16:51.062Z"
      },
      {
        "duration": 543,
        "start_time": "2022-11-17T19:17:01.401Z"
      },
      {
        "duration": 605,
        "start_time": "2022-11-17T19:17:11.371Z"
      },
      {
        "duration": 568,
        "start_time": "2022-11-17T19:17:32.438Z"
      },
      {
        "duration": 548,
        "start_time": "2022-11-17T19:17:40.008Z"
      },
      {
        "duration": 3,
        "start_time": "2022-11-17T19:24:59.898Z"
      },
      {
        "duration": 596,
        "start_time": "2022-11-17T19:49:37.258Z"
      },
      {
        "duration": 589,
        "start_time": "2022-11-17T19:49:52.781Z"
      },
      {
        "duration": 1358,
        "start_time": "2022-11-17T19:50:06.415Z"
      },
      {
        "duration": 30,
        "start_time": "2022-11-17T19:50:07.777Z"
      },
      {
        "duration": 6,
        "start_time": "2022-11-17T19:50:07.809Z"
      },
      {
        "duration": 16,
        "start_time": "2022-11-17T19:50:07.817Z"
      },
      {
        "duration": 28,
        "start_time": "2022-11-17T19:50:07.835Z"
      },
      {
        "duration": 5,
        "start_time": "2022-11-17T19:50:07.865Z"
      },
      {
        "duration": 15,
        "start_time": "2022-11-17T19:50:07.872Z"
      },
      {
        "duration": 15,
        "start_time": "2022-11-17T19:50:07.889Z"
      },
      {
        "duration": 10,
        "start_time": "2022-11-17T19:50:07.906Z"
      },
      {
        "duration": 26,
        "start_time": "2022-11-17T19:50:07.918Z"
      },
      {
        "duration": 5,
        "start_time": "2022-11-17T19:50:07.946Z"
      },
      {
        "duration": 460,
        "start_time": "2022-11-17T19:50:07.952Z"
      },
      {
        "duration": 598,
        "start_time": "2022-11-17T19:50:08.413Z"
      },
      {
        "duration": 729,
        "start_time": "2022-11-17T19:50:09.012Z"
      },
      {
        "duration": 604,
        "start_time": "2022-11-17T19:50:09.743Z"
      },
      {
        "duration": 115,
        "start_time": "2022-11-17T19:50:10.349Z"
      },
      {
        "duration": 0,
        "start_time": "2022-11-17T19:50:10.465Z"
      },
      {
        "duration": 0,
        "start_time": "2022-11-17T19:50:10.467Z"
      },
      {
        "duration": 0,
        "start_time": "2022-11-17T19:50:10.468Z"
      },
      {
        "duration": 0,
        "start_time": "2022-11-17T19:50:10.469Z"
      },
      {
        "duration": 0,
        "start_time": "2022-11-17T19:50:10.470Z"
      },
      {
        "duration": 635,
        "start_time": "2022-11-17T19:50:23.079Z"
      },
      {
        "duration": 42,
        "start_time": "2022-11-17T19:52:12.586Z"
      },
      {
        "duration": 11,
        "start_time": "2022-11-17T19:53:32.482Z"
      },
      {
        "duration": 55,
        "start_time": "2022-11-18T07:40:51.566Z"
      },
      {
        "duration": 1624,
        "start_time": "2022-11-18T07:40:58.228Z"
      },
      {
        "duration": 123,
        "start_time": "2022-11-18T07:40:59.855Z"
      },
      {
        "duration": 5,
        "start_time": "2022-11-18T07:40:59.980Z"
      },
      {
        "duration": 36,
        "start_time": "2022-11-18T07:40:59.988Z"
      },
      {
        "duration": 53,
        "start_time": "2022-11-18T07:41:00.026Z"
      },
      {
        "duration": 4,
        "start_time": "2022-11-18T07:41:00.081Z"
      },
      {
        "duration": 29,
        "start_time": "2022-11-18T07:41:00.087Z"
      },
      {
        "duration": 38,
        "start_time": "2022-11-18T07:41:00.118Z"
      },
      {
        "duration": 26,
        "start_time": "2022-11-18T07:41:00.157Z"
      },
      {
        "duration": 37,
        "start_time": "2022-11-18T07:41:00.185Z"
      },
      {
        "duration": 46,
        "start_time": "2022-11-18T07:41:00.224Z"
      },
      {
        "duration": 553,
        "start_time": "2022-11-18T07:41:00.272Z"
      },
      {
        "duration": 3,
        "start_time": "2022-11-18T07:41:00.828Z"
      },
      {
        "duration": 720,
        "start_time": "2022-11-18T07:41:02.909Z"
      },
      {
        "duration": 734,
        "start_time": "2022-11-18T07:41:15.463Z"
      },
      {
        "duration": 770,
        "start_time": "2022-11-18T07:41:22.465Z"
      },
      {
        "duration": 696,
        "start_time": "2022-11-18T07:41:32.369Z"
      },
      {
        "duration": 711,
        "start_time": "2022-11-18T07:41:38.040Z"
      },
      {
        "duration": 803,
        "start_time": "2022-11-18T07:43:04.955Z"
      },
      {
        "duration": 479,
        "start_time": "2022-11-18T07:58:40.674Z"
      },
      {
        "duration": 741,
        "start_time": "2022-11-18T08:03:14.074Z"
      },
      {
        "duration": 727,
        "start_time": "2022-11-18T08:03:26.620Z"
      },
      {
        "duration": 4,
        "start_time": "2022-11-18T08:03:31.197Z"
      },
      {
        "duration": 62,
        "start_time": "2022-11-18T08:03:31.204Z"
      },
      {
        "duration": 4,
        "start_time": "2022-11-18T08:03:31.267Z"
      },
      {
        "duration": 27,
        "start_time": "2022-11-18T08:03:31.273Z"
      },
      {
        "duration": 40,
        "start_time": "2022-11-18T08:03:31.302Z"
      },
      {
        "duration": 5,
        "start_time": "2022-11-18T08:03:31.344Z"
      },
      {
        "duration": 27,
        "start_time": "2022-11-18T08:03:31.350Z"
      },
      {
        "duration": 18,
        "start_time": "2022-11-18T08:03:31.378Z"
      },
      {
        "duration": 23,
        "start_time": "2022-11-18T08:03:31.398Z"
      },
      {
        "duration": 29,
        "start_time": "2022-11-18T08:03:31.423Z"
      },
      {
        "duration": 25,
        "start_time": "2022-11-18T08:03:31.454Z"
      },
      {
        "duration": 489,
        "start_time": "2022-11-18T08:03:31.482Z"
      },
      {
        "duration": 776,
        "start_time": "2022-11-18T08:03:33.792Z"
      },
      {
        "duration": 698,
        "start_time": "2022-11-18T08:03:36.426Z"
      },
      {
        "duration": 1316,
        "start_time": "2022-11-18T08:03:45.903Z"
      },
      {
        "duration": 30,
        "start_time": "2022-11-18T08:03:47.222Z"
      },
      {
        "duration": 6,
        "start_time": "2022-11-18T08:03:47.254Z"
      },
      {
        "duration": 10,
        "start_time": "2022-11-18T08:03:47.263Z"
      },
      {
        "duration": 30,
        "start_time": "2022-11-18T08:03:47.275Z"
      },
      {
        "duration": 5,
        "start_time": "2022-11-18T08:03:47.307Z"
      },
      {
        "duration": 41,
        "start_time": "2022-11-18T08:03:47.314Z"
      },
      {
        "duration": 10,
        "start_time": "2022-11-18T08:03:47.357Z"
      },
      {
        "duration": 13,
        "start_time": "2022-11-18T08:03:47.368Z"
      },
      {
        "duration": 10,
        "start_time": "2022-11-18T08:03:47.384Z"
      },
      {
        "duration": 5,
        "start_time": "2022-11-18T08:03:47.395Z"
      },
      {
        "duration": 509,
        "start_time": "2022-11-18T08:03:47.402Z"
      },
      {
        "duration": 721,
        "start_time": "2022-11-18T08:03:47.913Z"
      },
      {
        "duration": 782,
        "start_time": "2022-11-18T08:03:48.636Z"
      },
      {
        "duration": 623,
        "start_time": "2022-11-18T08:03:49.420Z"
      },
      {
        "duration": 36,
        "start_time": "2022-11-18T08:03:50.044Z"
      },
      {
        "duration": 8,
        "start_time": "2022-11-18T08:03:50.082Z"
      },
      {
        "duration": 5,
        "start_time": "2022-11-18T08:03:50.092Z"
      },
      {
        "duration": 137,
        "start_time": "2022-11-18T08:03:50.098Z"
      },
      {
        "duration": 0,
        "start_time": "2022-11-18T08:03:50.236Z"
      },
      {
        "duration": 734,
        "start_time": "2022-11-18T08:05:05.477Z"
      },
      {
        "duration": 748,
        "start_time": "2022-11-18T08:05:24.862Z"
      },
      {
        "duration": 713,
        "start_time": "2022-11-18T08:07:40.178Z"
      },
      {
        "duration": 7,
        "start_time": "2022-11-18T08:11:34.107Z"
      },
      {
        "duration": 713,
        "start_time": "2022-11-18T08:15:42.202Z"
      },
      {
        "duration": 26773,
        "start_time": "2022-11-18T08:26:10.505Z"
      },
      {
        "duration": 314692,
        "start_time": "2022-11-18T08:26:44.311Z"
      },
      {
        "duration": 743,
        "start_time": "2022-11-18T08:37:40.088Z"
      },
      {
        "duration": 6,
        "start_time": "2022-11-18T08:38:54.498Z"
      },
      {
        "duration": 768,
        "start_time": "2022-11-18T08:39:14.271Z"
      },
      {
        "duration": 62,
        "start_time": "2022-11-18T08:41:41.406Z"
      },
      {
        "duration": 100,
        "start_time": "2022-11-18T08:42:00.332Z"
      },
      {
        "duration": 10,
        "start_time": "2022-11-18T08:56:28.538Z"
      },
      {
        "duration": 0,
        "start_time": "2022-11-18T08:56:28.550Z"
      },
      {
        "duration": 1,
        "start_time": "2022-11-18T08:56:28.551Z"
      },
      {
        "duration": 0,
        "start_time": "2022-11-18T08:56:28.553Z"
      },
      {
        "duration": 0,
        "start_time": "2022-11-18T08:56:28.554Z"
      },
      {
        "duration": 13,
        "start_time": "2022-11-18T08:56:49.203Z"
      },
      {
        "duration": 10,
        "start_time": "2022-11-18T08:59:15.801Z"
      },
      {
        "duration": 16,
        "start_time": "2022-11-18T08:59:30.429Z"
      },
      {
        "duration": 10,
        "start_time": "2022-11-18T08:59:46.046Z"
      },
      {
        "duration": 7,
        "start_time": "2022-11-18T09:00:03.305Z"
      },
      {
        "duration": 304641,
        "start_time": "2022-11-18T09:01:25.617Z"
      },
      {
        "duration": 187,
        "start_time": "2022-11-18T09:07:37.240Z"
      },
      {
        "duration": 58,
        "start_time": "2022-11-18T09:07:50.287Z"
      },
      {
        "duration": 711,
        "start_time": "2022-11-18T09:08:02.339Z"
      },
      {
        "duration": 175,
        "start_time": "2022-11-18T09:08:13.337Z"
      },
      {
        "duration": 35,
        "start_time": "2022-11-18T09:26:50.714Z"
      },
      {
        "duration": 7,
        "start_time": "2022-11-18T09:28:47.043Z"
      },
      {
        "duration": 9,
        "start_time": "2022-11-18T09:29:45.631Z"
      },
      {
        "duration": 8,
        "start_time": "2022-11-18T09:29:56.645Z"
      },
      {
        "duration": 9,
        "start_time": "2022-11-18T09:30:02.773Z"
      },
      {
        "duration": 26,
        "start_time": "2022-11-18T09:30:24.299Z"
      },
      {
        "duration": 9,
        "start_time": "2022-11-18T09:30:43.329Z"
      },
      {
        "duration": 11,
        "start_time": "2022-11-18T09:30:46.609Z"
      },
      {
        "duration": 25,
        "start_time": "2022-11-18T09:31:03.993Z"
      },
      {
        "duration": 11,
        "start_time": "2022-11-18T09:31:34.586Z"
      },
      {
        "duration": 10,
        "start_time": "2022-11-18T09:33:27.692Z"
      },
      {
        "duration": 7,
        "start_time": "2022-11-18T09:34:27.865Z"
      },
      {
        "duration": 7,
        "start_time": "2022-11-18T09:38:59.950Z"
      },
      {
        "duration": 9,
        "start_time": "2022-11-18T09:39:45.853Z"
      },
      {
        "duration": 7,
        "start_time": "2022-11-18T09:42:07.190Z"
      },
      {
        "duration": 8,
        "start_time": "2022-11-18T09:42:33.481Z"
      },
      {
        "duration": 7,
        "start_time": "2022-11-18T09:45:41.177Z"
      },
      {
        "duration": 13,
        "start_time": "2022-11-18T09:49:34.850Z"
      },
      {
        "duration": 5,
        "start_time": "2022-11-18T09:49:43.096Z"
      },
      {
        "duration": 747,
        "start_time": "2022-11-18T09:50:31.017Z"
      },
      {
        "duration": 756,
        "start_time": "2022-11-18T09:50:56.771Z"
      },
      {
        "duration": 199,
        "start_time": "2022-11-18T09:51:37.565Z"
      },
      {
        "duration": 1525,
        "start_time": "2022-11-20T07:08:08.680Z"
      },
      {
        "duration": 70,
        "start_time": "2022-11-20T07:08:10.208Z"
      },
      {
        "duration": 6,
        "start_time": "2022-11-20T07:08:10.280Z"
      },
      {
        "duration": 12,
        "start_time": "2022-11-20T07:08:10.288Z"
      },
      {
        "duration": 33,
        "start_time": "2022-11-20T07:08:10.301Z"
      },
      {
        "duration": 6,
        "start_time": "2022-11-20T07:08:10.335Z"
      },
      {
        "duration": 13,
        "start_time": "2022-11-20T07:08:10.343Z"
      },
      {
        "duration": 18,
        "start_time": "2022-11-20T07:08:10.358Z"
      },
      {
        "duration": 6,
        "start_time": "2022-11-20T07:08:10.377Z"
      },
      {
        "duration": 9,
        "start_time": "2022-11-20T07:08:10.385Z"
      },
      {
        "duration": 4,
        "start_time": "2022-11-20T07:08:10.395Z"
      },
      {
        "duration": 436,
        "start_time": "2022-11-20T07:08:10.400Z"
      },
      {
        "duration": 713,
        "start_time": "2022-11-20T07:08:10.837Z"
      },
      {
        "duration": 109,
        "start_time": "2022-11-20T07:08:28.782Z"
      },
      {
        "duration": 696,
        "start_time": "2022-11-20T07:08:50.743Z"
      }
    ],
    "kernelspec": {
      "display_name": "Python 3 (ipykernel)",
      "language": "python",
      "name": "python3"
    },
    "language_info": {
      "codemirror_mode": {
        "name": "ipython",
        "version": 3
      },
      "file_extension": ".py",
      "mimetype": "text/x-python",
      "name": "python",
      "nbconvert_exporter": "python",
      "pygments_lexer": "ipython3",
      "version": "3.9.5"
    },
    "toc": {
      "base_numbering": 1,
      "nav_menu": {},
      "number_sections": false,
      "sideBar": true,
      "skip_h1_title": true,
      "title_cell": "Table of Contents",
      "title_sidebar": "Contents",
      "toc_cell": false,
      "toc_position": {},
      "toc_section_display": true,
      "toc_window_display": true
    },
    "colab": {
      "provenance": []
    }
  },
  "nbformat": 4,
  "nbformat_minor": 0
}