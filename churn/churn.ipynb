{
  "cells": [
    {
      "cell_type": "markdown",
      "metadata": {
        "toc": true,
        "id": "jOehu_pIokRn"
      },
      "source": [
        "<h1>Отток клиентов<span class=\"tocSkip\"></span></h1>\n",
        "<h2>Содержание<span class=\"tocSkip\"></span></h2>\n",
        "<div class=\"toc\"><ul class=\"toc-item\"><li><ul class=\"toc-item\"><li><span><a href=\"#Цель-исследования\" data-toc-modified-id=\"Цель-исследования-0.1\">Цель исследования</a></span></li><li><span><a href=\"#Задачи-исследования\" data-toc-modified-id=\"Задачи-исследования-0.2\">Задачи исследования</a></span></li></ul></li><li><span><a href=\"#Подготовка-данных\" data-toc-modified-id=\"Подготовка-данных-1\">Подготовка данных</a></span><ul class=\"toc-item\"><li><span><a href=\"#Вывод-по-разделу\" data-toc-modified-id=\"Вывод-по-разделу-1.1\">Вывод по разделу</a></span></li></ul></li><li><span><a href=\"#Исследование-задачи\" data-toc-modified-id=\"Исследование-задачи-2\">Исследование задачи</a></span><ul class=\"toc-item\"><li><span><a href=\"#Логистическая-регрессия\" data-toc-modified-id=\"Логистическая-регрессия-2.1\">Логистическая регрессия</a></span></li><li><span><a href=\"#Решающее-дерево\" data-toc-modified-id=\"Решающее-дерево-2.2\">Решающее дерево</a></span></li><li><span><a href=\"#Случайный-лес\" data-toc-modified-id=\"Случайный-лес-2.3\">Случайный лес</a></span></li><li><span><a href=\"#Вывод-по-разделу\" data-toc-modified-id=\"Вывод-по-разделу-2.4\">Вывод по разделу</a></span></li></ul></li><li><span><a href=\"#Борьба-с-дисбалансом\" data-toc-modified-id=\"Борьба-с-дисбалансом-3\">Борьба с дисбалансом</a></span><ul class=\"toc-item\"><li><span><a href=\"#Логистическая-регрессия\" data-toc-modified-id=\"Логистическая-регрессия-3.1\">Логистическая регрессия</a></span></li><li><span><a href=\"#Решающее-дерево\" data-toc-modified-id=\"Решающее-дерево-3.2\">Решающее дерево</a></span></li><li><span><a href=\"#Случайный-лес\" data-toc-modified-id=\"Случайный-лес-3.3\">Случайный лес</a></span></li><li><span><a href=\"#Обобщение-метрик\" data-toc-modified-id=\"Обобщение-метрик-3.4\">Обобщение метрик</a></span></li><li><span><a href=\"#Вывод-по-разделу\" data-toc-modified-id=\"Вывод-по-разделу-3.5\">Вывод по разделу</a></span></li></ul></li><li><span><a href=\"#Тестирование-модели\" data-toc-modified-id=\"Тестирование-модели-4\">Тестирование модели</a></span></li><li><span><a href=\"#Вывод-по-проекту\" data-toc-modified-id=\"Вывод-по-проекту-5\">Вывод по проекту</a></span></li></ul></div>"
      ]
    },
    {
      "cell_type": "markdown",
      "metadata": {
        "id": "qsTgNt6CokRo"
      },
      "source": [
        "### Цель исследования\n",
        "Предсказать вероятность ухода клиента из банка.\n",
        "\n",
        "### Задачи исследования\n",
        "1. Исследовать данные, проанализировать целевой признак на предмет дисбаланса классов;\n",
        "2. Разбить данные на три выборки, обучить несколько моделей классификации без учета и с учетом дисбаланса;\n",
        "3. Выбрать модель с оптимальными гиперпараметрами и проверить метрику F1 на тестовой выборке;\n",
        "4. Довести значение метрики F1 до 0.59 на тестовой выборке.\n",
        "\n"
      ]
    },
    {
      "cell_type": "markdown",
      "metadata": {
        "id": "wHcHXfUookRp"
      },
      "source": [
        "## Подготовка данных"
      ]
    },
    {
      "cell_type": "code",
      "source": [
        "!pip install imblearn -q"
      ],
      "metadata": {
        "id": "iCf_D8Xgpejh"
      },
      "execution_count": 1,
      "outputs": []
    },
    {
      "cell_type": "code",
      "execution_count": 2,
      "metadata": {
        "id": "pn6FFjVqokRp"
      },
      "outputs": [],
      "source": [
        "# Импортируем необходимые библиотеки и функции\n",
        "import pandas as pd\n",
        "import seaborn as sns\n",
        "import matplotlib.pyplot as plt\n",
        "import warnings\n",
        "from sklearn.preprocessing import StandardScaler, OrdinalEncoder\n",
        "from sklearn.ensemble import RandomForestClassifier\n",
        "from sklearn.linear_model import LogisticRegression\n",
        "from sklearn.tree import DecisionTreeClassifier\n",
        "from sklearn.metrics import f1_score, roc_auc_score, roc_curve\n",
        "from sklearn.utils import shuffle\n",
        "from sklearn.model_selection import train_test_split, RandomizedSearchCV\n",
        "from imblearn.over_sampling import SMOTE\n",
        "from tqdm import tqdm\n",
        "plt.style.use('dark_background')\n",
        "warnings.filterwarnings('ignore')\n"
      ]
    },
    {
      "cell_type": "code",
      "execution_count": 3,
      "metadata": {
        "id": "KMI4pOeeokRr"
      },
      "outputs": [],
      "source": [
        "# Считываем данные и записываем в переменную\n",
        "try:\n",
        "    df = pd.read_csv('/datasets/Churn.csv')\n",
        "except:\n",
        "    df = pd.read_csv('/content/Churn.csv')"
      ]
    },
    {
      "cell_type": "code",
      "execution_count": 4,
      "metadata": {
        "colab": {
          "base_uri": "https://localhost:8080/",
          "height": 270
        },
        "id": "ca-tFIAmokRr",
        "outputId": "3857b40e-5350-4004-db9f-7f7aa6e42277"
      },
      "outputs": [
        {
          "output_type": "execute_result",
          "data": {
            "text/plain": [
              "   RowNumber  CustomerId   Surname  CreditScore Geography  Gender  Age  \\\n",
              "0          1    15634602  Hargrave          619    France  Female   42   \n",
              "1          2    15647311      Hill          608     Spain  Female   41   \n",
              "2          3    15619304      Onio          502    France  Female   42   \n",
              "3          4    15701354      Boni          699    France  Female   39   \n",
              "4          5    15737888  Mitchell          850     Spain  Female   43   \n",
              "\n",
              "   Tenure    Balance  NumOfProducts  HasCrCard  IsActiveMember  \\\n",
              "0     2.0       0.00              1          1               1   \n",
              "1     1.0   83807.86              1          0               1   \n",
              "2     8.0  159660.80              3          1               0   \n",
              "3     1.0       0.00              2          0               0   \n",
              "4     2.0  125510.82              1          1               1   \n",
              "\n",
              "   EstimatedSalary  Exited  \n",
              "0        101348.88       1  \n",
              "1        112542.58       0  \n",
              "2        113931.57       1  \n",
              "3         93826.63       0  \n",
              "4         79084.10       0  "
            ],
            "text/html": [
              "\n",
              "  <div id=\"df-05d9b9a4-717a-44e6-aafb-efed93cd018e\">\n",
              "    <div class=\"colab-df-container\">\n",
              "      <div>\n",
              "<style scoped>\n",
              "    .dataframe tbody tr th:only-of-type {\n",
              "        vertical-align: middle;\n",
              "    }\n",
              "\n",
              "    .dataframe tbody tr th {\n",
              "        vertical-align: top;\n",
              "    }\n",
              "\n",
              "    .dataframe thead th {\n",
              "        text-align: right;\n",
              "    }\n",
              "</style>\n",
              "<table border=\"1\" class=\"dataframe\">\n",
              "  <thead>\n",
              "    <tr style=\"text-align: right;\">\n",
              "      <th></th>\n",
              "      <th>RowNumber</th>\n",
              "      <th>CustomerId</th>\n",
              "      <th>Surname</th>\n",
              "      <th>CreditScore</th>\n",
              "      <th>Geography</th>\n",
              "      <th>Gender</th>\n",
              "      <th>Age</th>\n",
              "      <th>Tenure</th>\n",
              "      <th>Balance</th>\n",
              "      <th>NumOfProducts</th>\n",
              "      <th>HasCrCard</th>\n",
              "      <th>IsActiveMember</th>\n",
              "      <th>EstimatedSalary</th>\n",
              "      <th>Exited</th>\n",
              "    </tr>\n",
              "  </thead>\n",
              "  <tbody>\n",
              "    <tr>\n",
              "      <th>0</th>\n",
              "      <td>1</td>\n",
              "      <td>15634602</td>\n",
              "      <td>Hargrave</td>\n",
              "      <td>619</td>\n",
              "      <td>France</td>\n",
              "      <td>Female</td>\n",
              "      <td>42</td>\n",
              "      <td>2.0</td>\n",
              "      <td>0.00</td>\n",
              "      <td>1</td>\n",
              "      <td>1</td>\n",
              "      <td>1</td>\n",
              "      <td>101348.88</td>\n",
              "      <td>1</td>\n",
              "    </tr>\n",
              "    <tr>\n",
              "      <th>1</th>\n",
              "      <td>2</td>\n",
              "      <td>15647311</td>\n",
              "      <td>Hill</td>\n",
              "      <td>608</td>\n",
              "      <td>Spain</td>\n",
              "      <td>Female</td>\n",
              "      <td>41</td>\n",
              "      <td>1.0</td>\n",
              "      <td>83807.86</td>\n",
              "      <td>1</td>\n",
              "      <td>0</td>\n",
              "      <td>1</td>\n",
              "      <td>112542.58</td>\n",
              "      <td>0</td>\n",
              "    </tr>\n",
              "    <tr>\n",
              "      <th>2</th>\n",
              "      <td>3</td>\n",
              "      <td>15619304</td>\n",
              "      <td>Onio</td>\n",
              "      <td>502</td>\n",
              "      <td>France</td>\n",
              "      <td>Female</td>\n",
              "      <td>42</td>\n",
              "      <td>8.0</td>\n",
              "      <td>159660.80</td>\n",
              "      <td>3</td>\n",
              "      <td>1</td>\n",
              "      <td>0</td>\n",
              "      <td>113931.57</td>\n",
              "      <td>1</td>\n",
              "    </tr>\n",
              "    <tr>\n",
              "      <th>3</th>\n",
              "      <td>4</td>\n",
              "      <td>15701354</td>\n",
              "      <td>Boni</td>\n",
              "      <td>699</td>\n",
              "      <td>France</td>\n",
              "      <td>Female</td>\n",
              "      <td>39</td>\n",
              "      <td>1.0</td>\n",
              "      <td>0.00</td>\n",
              "      <td>2</td>\n",
              "      <td>0</td>\n",
              "      <td>0</td>\n",
              "      <td>93826.63</td>\n",
              "      <td>0</td>\n",
              "    </tr>\n",
              "    <tr>\n",
              "      <th>4</th>\n",
              "      <td>5</td>\n",
              "      <td>15737888</td>\n",
              "      <td>Mitchell</td>\n",
              "      <td>850</td>\n",
              "      <td>Spain</td>\n",
              "      <td>Female</td>\n",
              "      <td>43</td>\n",
              "      <td>2.0</td>\n",
              "      <td>125510.82</td>\n",
              "      <td>1</td>\n",
              "      <td>1</td>\n",
              "      <td>1</td>\n",
              "      <td>79084.10</td>\n",
              "      <td>0</td>\n",
              "    </tr>\n",
              "  </tbody>\n",
              "</table>\n",
              "</div>\n",
              "      <button class=\"colab-df-convert\" onclick=\"convertToInteractive('df-05d9b9a4-717a-44e6-aafb-efed93cd018e')\"\n",
              "              title=\"Convert this dataframe to an interactive table.\"\n",
              "              style=\"display:none;\">\n",
              "        \n",
              "  <svg xmlns=\"http://www.w3.org/2000/svg\" height=\"24px\"viewBox=\"0 0 24 24\"\n",
              "       width=\"24px\">\n",
              "    <path d=\"M0 0h24v24H0V0z\" fill=\"none\"/>\n",
              "    <path d=\"M18.56 5.44l.94 2.06.94-2.06 2.06-.94-2.06-.94-.94-2.06-.94 2.06-2.06.94zm-11 1L8.5 8.5l.94-2.06 2.06-.94-2.06-.94L8.5 2.5l-.94 2.06-2.06.94zm10 10l.94 2.06.94-2.06 2.06-.94-2.06-.94-.94-2.06-.94 2.06-2.06.94z\"/><path d=\"M17.41 7.96l-1.37-1.37c-.4-.4-.92-.59-1.43-.59-.52 0-1.04.2-1.43.59L10.3 9.45l-7.72 7.72c-.78.78-.78 2.05 0 2.83L4 21.41c.39.39.9.59 1.41.59.51 0 1.02-.2 1.41-.59l7.78-7.78 2.81-2.81c.8-.78.8-2.07 0-2.86zM5.41 20L4 18.59l7.72-7.72 1.47 1.35L5.41 20z\"/>\n",
              "  </svg>\n",
              "      </button>\n",
              "      \n",
              "  <style>\n",
              "    .colab-df-container {\n",
              "      display:flex;\n",
              "      flex-wrap:wrap;\n",
              "      gap: 12px;\n",
              "    }\n",
              "\n",
              "    .colab-df-convert {\n",
              "      background-color: #E8F0FE;\n",
              "      border: none;\n",
              "      border-radius: 50%;\n",
              "      cursor: pointer;\n",
              "      display: none;\n",
              "      fill: #1967D2;\n",
              "      height: 32px;\n",
              "      padding: 0 0 0 0;\n",
              "      width: 32px;\n",
              "    }\n",
              "\n",
              "    .colab-df-convert:hover {\n",
              "      background-color: #E2EBFA;\n",
              "      box-shadow: 0px 1px 2px rgba(60, 64, 67, 0.3), 0px 1px 3px 1px rgba(60, 64, 67, 0.15);\n",
              "      fill: #174EA6;\n",
              "    }\n",
              "\n",
              "    [theme=dark] .colab-df-convert {\n",
              "      background-color: #3B4455;\n",
              "      fill: #D2E3FC;\n",
              "    }\n",
              "\n",
              "    [theme=dark] .colab-df-convert:hover {\n",
              "      background-color: #434B5C;\n",
              "      box-shadow: 0px 1px 3px 1px rgba(0, 0, 0, 0.15);\n",
              "      filter: drop-shadow(0px 1px 2px rgba(0, 0, 0, 0.3));\n",
              "      fill: #FFFFFF;\n",
              "    }\n",
              "  </style>\n",
              "\n",
              "      <script>\n",
              "        const buttonEl =\n",
              "          document.querySelector('#df-05d9b9a4-717a-44e6-aafb-efed93cd018e button.colab-df-convert');\n",
              "        buttonEl.style.display =\n",
              "          google.colab.kernel.accessAllowed ? 'block' : 'none';\n",
              "\n",
              "        async function convertToInteractive(key) {\n",
              "          const element = document.querySelector('#df-05d9b9a4-717a-44e6-aafb-efed93cd018e');\n",
              "          const dataTable =\n",
              "            await google.colab.kernel.invokeFunction('convertToInteractive',\n",
              "                                                     [key], {});\n",
              "          if (!dataTable) return;\n",
              "\n",
              "          const docLinkHtml = 'Like what you see? Visit the ' +\n",
              "            '<a target=\"_blank\" href=https://colab.research.google.com/notebooks/data_table.ipynb>data table notebook</a>'\n",
              "            + ' to learn more about interactive tables.';\n",
              "          element.innerHTML = '';\n",
              "          dataTable['output_type'] = 'display_data';\n",
              "          await google.colab.output.renderOutput(dataTable, element);\n",
              "          const docLink = document.createElement('div');\n",
              "          docLink.innerHTML = docLinkHtml;\n",
              "          element.appendChild(docLink);\n",
              "        }\n",
              "      </script>\n",
              "    </div>\n",
              "  </div>\n",
              "  "
            ]
          },
          "metadata": {},
          "execution_count": 4
        }
      ],
      "source": [
        "# Смотрим на данные (выводим первые пять строк)\n",
        "df.head()"
      ]
    },
    {
      "cell_type": "markdown",
      "metadata": {
        "id": "CbQLSwlcokRs"
      },
      "source": [
        "Мы видим, что в названиях столбцов использован так называемый CamelCase. Приведем названия к более привычному для нас «змеиному регистру»."
      ]
    },
    {
      "cell_type": "code",
      "execution_count": 5,
      "metadata": {
        "colab": {
          "base_uri": "https://localhost:8080/"
        },
        "id": "Qa1cp1ySokRs",
        "outputId": "83714e99-4917-4b0e-bdf1-d5ad608ecdbf"
      },
      "outputs": [
        {
          "output_type": "execute_result",
          "data": {
            "text/plain": [
              "Index(['row_number', 'customer_id', 'surname', 'credit_score', 'geography',\n",
              "       'gender', 'age', 'tenure', 'balance', 'num_of_products', 'has_cr_card',\n",
              "       'is_active_member', 'estimated_salary', 'exited'],\n",
              "      dtype='object')"
            ]
          },
          "metadata": {},
          "execution_count": 5
        }
      ],
      "source": [
        "df.columns = (df.columns.str.replace\n",
        " (r\"([A-Z])\", r\" \\1\").str.lower().str.replace(' ', '_').str[1:]\n",
        ")\n",
        "df.columns"
      ]
    },
    {
      "cell_type": "code",
      "execution_count": 6,
      "metadata": {
        "colab": {
          "base_uri": "https://localhost:8080/"
        },
        "id": "IdFSF0TrokRt",
        "outputId": "937a71c2-bc31-4636-f78b-4c51107b1419"
      },
      "outputs": [
        {
          "output_type": "stream",
          "name": "stdout",
          "text": [
            "<class 'pandas.core.frame.DataFrame'>\n",
            "RangeIndex: 10000 entries, 0 to 9999\n",
            "Data columns (total 14 columns):\n",
            " #   Column            Non-Null Count  Dtype  \n",
            "---  ------            --------------  -----  \n",
            " 0   row_number        10000 non-null  int64  \n",
            " 1   customer_id       10000 non-null  int64  \n",
            " 2   surname           10000 non-null  object \n",
            " 3   credit_score      10000 non-null  int64  \n",
            " 4   geography         10000 non-null  object \n",
            " 5   gender            10000 non-null  object \n",
            " 6   age               10000 non-null  int64  \n",
            " 7   tenure            9091 non-null   float64\n",
            " 8   balance           10000 non-null  float64\n",
            " 9   num_of_products   10000 non-null  int64  \n",
            " 10  has_cr_card       10000 non-null  int64  \n",
            " 11  is_active_member  10000 non-null  int64  \n",
            " 12  estimated_salary  10000 non-null  float64\n",
            " 13  exited            10000 non-null  int64  \n",
            "dtypes: float64(3), int64(8), object(3)\n",
            "memory usage: 1.1+ MB\n"
          ]
        }
      ],
      "source": [
        "df.info()"
      ]
    },
    {
      "cell_type": "markdown",
      "metadata": {
        "id": "nTuRh3I7okRt"
      },
      "source": [
        "В целом типы данных соответствуют значениям в столбцах. Изменим тип данных только у столбца `tenure`, т. к. в нем содержатся целочисленные значения."
      ]
    },
    {
      "cell_type": "code",
      "execution_count": 7,
      "metadata": {
        "id": "xwZsux8jokRt"
      },
      "outputs": [],
      "source": [
        "df['tenure'] = df['tenure'].astype('Int64')"
      ]
    },
    {
      "cell_type": "markdown",
      "metadata": {
        "id": "VfEiPJ0bokRu"
      },
      "source": [
        "Посмотрим на данные на гистограммах."
      ]
    },
    {
      "cell_type": "code",
      "execution_count": 8,
      "metadata": {
        "scrolled": false,
        "colab": {
          "base_uri": "https://localhost:8080/",
          "height": 767
        },
        "id": "B115OKf6okRu",
        "outputId": "a43c0a8b-3922-426e-9ae7-d6dcb2712d91"
      },
      "outputs": [
        {
          "output_type": "display_data",
          "data": {
            "text/plain": [
              "<Figure size 2000x2000 with 12 Axes>"
            ],
            "image/png": "[encoded data removed]"
          },
          "metadata": {}
        }
      ],
      "source": [
        "df.hist(figsize=(20,20), bins=11);"
      ]
    },
    {
      "cell_type": "markdown",
      "metadata": {
        "id": "ifqdeH0vokRu"
      },
      "source": [
        "Проанализируем некоторые признаки по этим гистограммам. Признаки в столбцах `row_number` и `customer_id` не являются значимыми для предсказания, это просто порядковый номер и идентификатор клиента. \n",
        "\n",
        "В столбце `credit_score` распределение смещено вправо: клиентов с более высоким кредитным рейтингом у банка больше, чем с низким. Вероятно, этот параметр будет являться значимым для предсказания целевого признака.\n",
        "\n",
        "В столбце `age` пик распределения значений приходится на возраст в диапазоне 30—40 лет — это самая активная платежеспособная часть населения, эти люди наиболее часто пользуются банковскими продуктами.\n",
        "\n",
        "В столбце `tenure` (сколько лет человек является клиентом банка) распределение равномерное, но в крайних столбцах (0 и 10 лет) значений меньше. Можно предположить, что данные были собраны не в начале года, а в середине.\n",
        "\n",
        "В столбце `balance` виден пик по количеству нулевых значений, то есть около трети клиентов из наших данных имеют нулевой баланс. Возможно, они не пользуются банковским счетом или открыли его для какой-то конкретной цели (например, погашение кредита или заключение сделки), а постоянно пользуются услугами другого банка. Среди остальных клиентов (не с нулевым балансом) распределение значений близко к нормальному.\n",
        "\n",
        "В столбце `num_of_products` отражены данные о количестве продуктов, которыми пользуется клиент. Больше всего клиентов используют один банковский продукт, чуть меньше — два. Клиентов с тремя и четырьмя продуктами — небольшое количество. Других значений в столбце нет.\n",
        "\n",
        "В столбце `has_cr_card` отражены данные о том, есть ли у клиента кредитная карта. Мы видим, что у 70% клиентов из нашей выборки имеется кредитная карта.\n",
        "\n",
        "Данные в столбце `is_active_member` распределены равномерно — примерно одинаковое количество клиентов из нашей выборки имеют 0 и 1 по этому признаку.\n",
        "\n",
        "Данные в столбце `estimated_salary` распределены равномерно.\n",
        "\n",
        "Данные в столбце `exited` (целевой признак) несбалансированы — дисбаланс составляет примерно 8 к 2."
      ]
    },
    {
      "cell_type": "markdown",
      "metadata": {
        "id": "jYDcOkJtokRu"
      },
      "source": [
        "Посмотрим, есть ли в нашем датасете пропущенные значения."
      ]
    },
    {
      "cell_type": "code",
      "execution_count": 9,
      "metadata": {
        "colab": {
          "base_uri": "https://localhost:8080/"
        },
        "id": "i6nuOJDookRv",
        "outputId": "c9528966-2dea-4b10-8d92-23ee36f4ff6c"
      },
      "outputs": [
        {
          "output_type": "execute_result",
          "data": {
            "text/plain": [
              "row_number            0\n",
              "customer_id           0\n",
              "surname               0\n",
              "credit_score          0\n",
              "geography             0\n",
              "gender                0\n",
              "age                   0\n",
              "tenure              909\n",
              "balance               0\n",
              "num_of_products       0\n",
              "has_cr_card           0\n",
              "is_active_member      0\n",
              "estimated_salary      0\n",
              "exited                0\n",
              "dtype: int64"
            ]
          },
          "metadata": {},
          "execution_count": 9
        }
      ],
      "source": [
        "df.isna().sum()"
      ]
    },
    {
      "cell_type": "markdown",
      "metadata": {
        "id": "d_3XpRamokRv"
      },
      "source": [
        "В наших данных есть пропущенные значения в столбце `tenure`."
      ]
    },
    {
      "cell_type": "markdown",
      "metadata": {
        "id": "UaFEy3ITokRv"
      },
      "source": [
        "Заполним эти данные медианой в зависимости от значения столбца `age` (поскольку разумно предположить, что клиенты более старшего возраста с большей вероятностью могут иметь более длительную историю взаимоотношений с банком)."
      ]
    },
    {
      "cell_type": "code",
      "execution_count": 10,
      "metadata": {
        "colab": {
          "base_uri": "https://localhost:8080/"
        },
        "id": "yvvtLr9TokRv",
        "outputId": "c9a938fd-0b1b-4494-a889-aa641f4b6714"
      },
      "outputs": [
        {
          "output_type": "execute_result",
          "data": {
            "text/plain": [
              "5       1764\n",
              "1        953\n",
              "2        950\n",
              "8        933\n",
              "3        933\n",
              "4        926\n",
              "7        925\n",
              "6        906\n",
              "9        882\n",
              "10       446\n",
              "0        382\n",
              "<NA>       0\n",
              "Name: tenure, dtype: Int64"
            ]
          },
          "metadata": {},
          "execution_count": 10
        }
      ],
      "source": [
        "for age in df['age'].unique():\n",
        "    df.loc[(df['age'] == age) & (df['tenure'].isna()), 'tenure'] = (\n",
        "        df.loc[df['age'] == age, 'tenure'].median().round()\n",
        "    )\n",
        "    \n",
        "# Смотрим на результат\n",
        "df.tenure.value_counts(dropna=False)"
      ]
    },
    {
      "cell_type": "code",
      "execution_count": 11,
      "metadata": {
        "colab": {
          "base_uri": "https://localhost:8080/"
        },
        "id": "Yju27WSlokRv",
        "outputId": "18528bb7-b7cf-4b66-9c9a-45808f8b22b4"
      },
      "outputs": [
        {
          "output_type": "execute_result",
          "data": {
            "text/plain": [
              "False"
            ]
          },
          "metadata": {},
          "execution_count": 11
        }
      ],
      "source": [
        "# Смотрим, есть ли дубликаты в данных\n",
        "df.duplicated().any()"
      ]
    },
    {
      "cell_type": "markdown",
      "metadata": {
        "id": "XsZt-HbxokRw"
      },
      "source": [
        "Посмотрим, изменилось ли распределение целевого признака после преобразования."
      ]
    },
    {
      "cell_type": "code",
      "execution_count": 12,
      "metadata": {
        "colab": {
          "base_uri": "https://localhost:8080/"
        },
        "id": "Xvp4xK7dokRw",
        "outputId": "c7993043-a79d-453e-dfe9-2aa6c637f615"
      },
      "outputs": [
        {
          "output_type": "execute_result",
          "data": {
            "text/plain": [
              "0    0.7963\n",
              "1    0.2037\n",
              "Name: exited, dtype: float64"
            ]
          },
          "metadata": {},
          "execution_count": 12
        }
      ],
      "source": [
        "df.exited.value_counts(normalize=True)"
      ]
    },
    {
      "cell_type": "markdown",
      "metadata": {
        "id": "So455SyhokRw"
      },
      "source": [
        "Распределение не изменилось."
      ]
    },
    {
      "cell_type": "markdown",
      "metadata": {
        "id": "aBQx6H-3okRw"
      },
      "source": [
        "Данные в столбцах `row_number`, `customer_id` и `surname` не влияют на предсказание, т. к. они представляют собой идентификаторы конкретных пользователей, а не их обобщенные признаки. Удалим эти столбцы."
      ]
    },
    {
      "cell_type": "code",
      "execution_count": 13,
      "metadata": {
        "colab": {
          "base_uri": "https://localhost:8080/"
        },
        "id": "-bOwJ5PuokRw",
        "outputId": "abf44a30-6675-4668-95e4-4dadda0808b5"
      },
      "outputs": [
        {
          "output_type": "execute_result",
          "data": {
            "text/plain": [
              "Index(['credit_score', 'geography', 'gender', 'age', 'tenure', 'balance',\n",
              "       'num_of_products', 'has_cr_card', 'is_active_member',\n",
              "       'estimated_salary', 'exited'],\n",
              "      dtype='object')"
            ]
          },
          "metadata": {},
          "execution_count": 13
        }
      ],
      "source": [
        "df.drop(['surname', 'customer_id', 'row_number'], axis=1, inplace=True)\n",
        "df.columns"
      ]
    },
    {
      "cell_type": "markdown",
      "metadata": {
        "id": "OMiDjilFokRx"
      },
      "source": [
        "### Вывод по разделу\n",
        "Мы провели обзор и предварительную подготовку данных:\n",
        "1. В датасете 10 000 наблюдений.\n",
        "2. Изменили тип данных в столбце `tenure`.\n",
        "3. Удалили переменные, которые не оказывают влияния на качество модели, поскольку не являются обобщающими признаками, а служат для идентификации пользователей (это столбцы `surname`, `customer_id` и `row_number`).\n",
        "4. Заполнили пропуски в столбце `tenure` медианным значением в зависимости от возраста клиента.\n",
        "5. В классах в столбце с целевым признаком имеется дисбаланс (примерно 8 к 2). "
      ]
    },
    {
      "cell_type": "markdown",
      "metadata": {
        "id": "KqRaz4ouokRx"
      },
      "source": [
        "## Исследование задачи"
      ]
    },
    {
      "cell_type": "markdown",
      "metadata": {
        "id": "svtx9QhyokRx"
      },
      "source": [
        "В данном исследовании мы будем решать задачу бинарной классификации — предсказывать значение 0 (клиент не уйдет) и 1 (клиент уйдет) на основе имеющихся данных. Для этого мы будем использовать модели логистической регрессии, решающего дерева и случайного леса. Оценку качества оптимальной модели будем производить при помощи метрики F1."
      ]
    },
    {
      "cell_type": "markdown",
      "metadata": {
        "id": "kBJX9gZSokRy"
      },
      "source": [
        "Еще раз посмотрим на дисбаланс классов в целевом признаке."
      ]
    },
    {
      "cell_type": "code",
      "execution_count": 14,
      "metadata": {
        "colab": {
          "base_uri": "https://localhost:8080/"
        },
        "id": "-FIZXvtkokRy",
        "outputId": "bca6ac20-8bd5-42c6-9e4b-8bbc142f270e"
      },
      "outputs": [
        {
          "output_type": "execute_result",
          "data": {
            "text/plain": [
              "0    0.7963\n",
              "1    0.2037\n",
              "Name: exited, dtype: float64"
            ]
          },
          "metadata": {},
          "execution_count": 14
        }
      ],
      "source": [
        "df['exited'].value_counts(normalize=True)"
      ]
    },
    {
      "cell_type": "code",
      "execution_count": 15,
      "metadata": {
        "colab": {
          "base_uri": "https://localhost:8080/",
          "height": 430
        },
        "id": "JlnwvrdIokRy",
        "outputId": "9e6124c6-a4ce-46ec-eda5-ebdd867d9fca"
      },
      "outputs": [
        {
          "output_type": "display_data",
          "data": {
            "text/plain": [
              "<Figure size 640x480 with 1 Axes>"
            ],
            "image/png": "[encoded data removed]"
          },
          "metadata": {}
        }
      ],
      "source": [
        "df['exited'].hist();"
      ]
    },
    {
      "cell_type": "markdown",
      "metadata": {
        "id": "LYqRPIcEokRy"
      },
      "source": [
        "Для начала попробуем обучить и использовать модели без учета дисбаланса. Разобьем данные на нецелевые и целевой признаки."
      ]
    },
    {
      "cell_type": "code",
      "execution_count": 16,
      "metadata": {
        "id": "CeI6PuxRokRy"
      },
      "outputs": [],
      "source": [
        "features = df.drop(['exited'], axis=1)\n",
        "target = df['exited']"
      ]
    },
    {
      "cell_type": "markdown",
      "metadata": {
        "id": "aMZDe92pokRz"
      },
      "source": [
        "Посмотрим, есть ли в наших данных признаки, которые сильно коррелируют между собой."
      ]
    },
    {
      "cell_type": "code",
      "execution_count": 17,
      "metadata": {
        "colab": {
          "base_uri": "https://localhost:8080/",
          "height": 592
        },
        "id": "uCcZ8ooyokRz",
        "outputId": "467f0ed0-991e-4127-c0df-e5acb9719d16"
      },
      "outputs": [
        {
          "output_type": "display_data",
          "data": {
            "text/plain": [
              "<Figure size 1500x1000 with 2 Axes>"
            ],
            "image/png": "[encoded data removed]"
          },
          "metadata": {}
        }
      ],
      "source": [
        "plt.figure(figsize=(15,10))\n",
        "sns.heatmap(features.corr());"
      ]
    },
    {
      "cell_type": "markdown",
      "metadata": {
        "id": "mc8AaasMokRz"
      },
      "source": [
        "Как видим, сильной корреляции между независимыми переменными, которая указывала бы на наличие мультиколлинеарности, не наблюдается. "
      ]
    },
    {
      "cell_type": "markdown",
      "metadata": {
        "id": "2gAHkdVRokRz"
      },
      "source": [
        "Объявим базовые функции и переменные для списков, куда будем сохранять метрики моделей."
      ]
    },
    {
      "cell_type": "code",
      "execution_count": 18,
      "metadata": {
        "id": "9dlSL3XLokRz"
      },
      "outputs": [],
      "source": [
        "# Делаем функцию для расчета метрики auc-roc\n",
        "def auc_roc(features, target, model):\n",
        "    prob = model.predict_proba(features)\n",
        "    prob_one = prob[:,1]\n",
        "    auc_roc = roc_auc_score(target, prob_one)\n",
        "    return auc_roc\n"
      ]
    },
    {
      "cell_type": "code",
      "execution_count": 19,
      "metadata": {
        "id": "yiW8hnNjokRz"
      },
      "outputs": [],
      "source": [
        "# Строим ROC-кривую\n",
        "def make_roc_curve(features, target, model):\n",
        "    prob = model.predict_proba(features)\n",
        "    prob_one = prob[:,1]\n",
        "    fpr, tpr, thresholds = roc_curve(target, prob_one)\n",
        "    plt.figure()\n",
        "    plt.plot(fpr, tpr)\n",
        "    plt.xlim = ([0.0, 1.0])\n",
        "    plt.ylim = ([0.0, 1.0])\n",
        "    plt.xlabel('False Positive Rate')\n",
        "    plt.ylabel('True Positive Rate')\n",
        "    plt.title('ROC-кривая')\n",
        "    plt.plot([0,1], [0,1], linestyle = '--')\n",
        "    plt.show()"
      ]
    },
    {
      "cell_type": "code",
      "execution_count": 20,
      "metadata": {
        "id": "oXH49A3CokR0"
      },
      "outputs": [],
      "source": [
        "model_list = []\n",
        "auc_roc_list = []\n",
        "f1_list = []"
      ]
    },
    {
      "cell_type": "markdown",
      "metadata": {
        "id": "Rl0ZqnoaokR0"
      },
      "source": [
        "### Логистическая регрессия"
      ]
    },
    {
      "cell_type": "markdown",
      "metadata": {
        "id": "LFMKmTjJokR0"
      },
      "source": [
        "Посмотрим, какие категориальные признаки у нас остались."
      ]
    },
    {
      "cell_type": "code",
      "execution_count": 21,
      "metadata": {
        "colab": {
          "base_uri": "https://localhost:8080/"
        },
        "id": "7DGQOb7KokR0",
        "outputId": "c9bb617a-f993-4bf2-9484-a0835d863329"
      },
      "outputs": [
        {
          "output_type": "execute_result",
          "data": {
            "text/plain": [
              "credit_score          int64\n",
              "geography            object\n",
              "gender               object\n",
              "age                   int64\n",
              "tenure                Int64\n",
              "balance             float64\n",
              "num_of_products       int64\n",
              "has_cr_card           int64\n",
              "is_active_member      int64\n",
              "estimated_salary    float64\n",
              "dtype: object"
            ]
          },
          "metadata": {},
          "execution_count": 21
        }
      ],
      "source": [
        "features.dtypes"
      ]
    },
    {
      "cell_type": "markdown",
      "metadata": {
        "id": "AV8MXYtUokR1"
      },
      "source": [
        "Остались строковые значения в столбцах `geography` и `gender`. Для модели логистической регрессии преобразуем эти признаки техникой OHE после разбиения на обучающую, валидационную и тестовую выборки. "
      ]
    },
    {
      "cell_type": "markdown",
      "metadata": {
        "id": "152KEPurokR1"
      },
      "source": [
        "Разобьем данные на три выборки — обучающую, валидационную и тестовую в соотношении 60:20:20."
      ]
    },
    {
      "cell_type": "code",
      "execution_count": 22,
      "metadata": {
        "id": "2Vz_HZXuokR1"
      },
      "outputs": [],
      "source": [
        "features_train, features_temp, target_train, target_temp = (train_test_split(\n",
        "    features, target, test_size=0.4, random_state=3337) \n",
        "                                                           )\n",
        "features_valid, features_test, target_valid, target_test = (train_test_split(\n",
        "    features_temp, target_temp, test_size=0.5, random_state=3337)\n",
        "                                                           )\n"
      ]
    },
    {
      "cell_type": "code",
      "execution_count": 23,
      "metadata": {
        "id": "znLs8oZookR1"
      },
      "outputs": [],
      "source": [
        "# Преобразовываем категориальные данные техникой OHE (get_dummies)\n",
        "features_train_ohe = pd.get_dummies(features_train, drop_first=True)\n",
        "features_valid_ohe = pd.get_dummies(features_valid, drop_first=True)\n",
        "features_test_ohe = pd.get_dummies(features_test, drop_first=True)"
      ]
    },
    {
      "cell_type": "markdown",
      "metadata": {
        "id": "X1inbu6DokR2"
      },
      "source": [
        "Посмотрим на масштаб наших признаков."
      ]
    },
    {
      "cell_type": "code",
      "execution_count": 24,
      "metadata": {
        "colab": {
          "base_uri": "https://localhost:8080/",
          "height": 270
        },
        "id": "eRBoDjIhokR2",
        "outputId": "99ef1318-ad31-44a0-9981-b79b4a0fb198"
      },
      "outputs": [
        {
          "output_type": "execute_result",
          "data": {
            "text/plain": [
              "      credit_score  age  tenure    balance  num_of_products  has_cr_card  \\\n",
              "6629           579   39       5       0.00                2            0   \n",
              "2900           626   26       5  148610.41                3            0   \n",
              "5047           471   26       8       0.00                2            1   \n",
              "2547           682   59       0  122661.39                1            0   \n",
              "6659           668   39       4   79896.00                1            1   \n",
              "\n",
              "      is_active_member  estimated_salary  geography_Germany  geography_Spain  \\\n",
              "6629                 1          39891.84                  0                0   \n",
              "2900                 1         104502.02                  0                1   \n",
              "5047                 1         179655.87                  0                1   \n",
              "2547                 1          84803.76                  0                1   \n",
              "6659                 0          38466.39                  1                0   \n",
              "\n",
              "      gender_Male  \n",
              "6629            1  \n",
              "2900            0  \n",
              "5047            1  \n",
              "2547            0  \n",
              "6659            1  "
            ],
            "text/html": [
              "\n",
              "  <div id=\"df-ba12fa36-e0b6-43b8-b7a1-95b4ad35f521\">\n",
              "    <div class=\"colab-df-container\">\n",
              "      <div>\n",
              "<style scoped>\n",
              "    .dataframe tbody tr th:only-of-type {\n",
              "        vertical-align: middle;\n",
              "    }\n",
              "\n",
              "    .dataframe tbody tr th {\n",
              "        vertical-align: top;\n",
              "    }\n",
              "\n",
              "    .dataframe thead th {\n",
              "        text-align: right;\n",
              "    }\n",
              "</style>\n",
              "<table border=\"1\" class=\"dataframe\">\n",
              "  <thead>\n",
              "    <tr style=\"text-align: right;\">\n",
              "      <th></th>\n",
              "      <th>credit_score</th>\n",
              "      <th>age</th>\n",
              "      <th>tenure</th>\n",
              "      <th>balance</th>\n",
              "      <th>num_of_products</th>\n",
              "      <th>has_cr_card</th>\n",
              "      <th>is_active_member</th>\n",
              "      <th>estimated_salary</th>\n",
              "      <th>geography_Germany</th>\n",
              "      <th>geography_Spain</th>\n",
              "      <th>gender_Male</th>\n",
              "    </tr>\n",
              "  </thead>\n",
              "  <tbody>\n",
              "    <tr>\n",
              "      <th>6629</th>\n",
              "      <td>579</td>\n",
              "      <td>39</td>\n",
              "      <td>5</td>\n",
              "      <td>0.00</td>\n",
              "      <td>2</td>\n",
              "      <td>0</td>\n",
              "      <td>1</td>\n",
              "      <td>39891.84</td>\n",
              "      <td>0</td>\n",
              "      <td>0</td>\n",
              "      <td>1</td>\n",
              "    </tr>\n",
              "    <tr>\n",
              "      <th>2900</th>\n",
              "      <td>626</td>\n",
              "      <td>26</td>\n",
              "      <td>5</td>\n",
              "      <td>148610.41</td>\n",
              "      <td>3</td>\n",
              "      <td>0</td>\n",
              "      <td>1</td>\n",
              "      <td>104502.02</td>\n",
              "      <td>0</td>\n",
              "      <td>1</td>\n",
              "      <td>0</td>\n",
              "    </tr>\n",
              "    <tr>\n",
              "      <th>5047</th>\n",
              "      <td>471</td>\n",
              "      <td>26</td>\n",
              "      <td>8</td>\n",
              "      <td>0.00</td>\n",
              "      <td>2</td>\n",
              "      <td>1</td>\n",
              "      <td>1</td>\n",
              "      <td>179655.87</td>\n",
              "      <td>0</td>\n",
              "      <td>1</td>\n",
              "      <td>1</td>\n",
              "    </tr>\n",
              "    <tr>\n",
              "      <th>2547</th>\n",
              "      <td>682</td>\n",
              "      <td>59</td>\n",
              "      <td>0</td>\n",
              "      <td>122661.39</td>\n",
              "      <td>1</td>\n",
              "      <td>0</td>\n",
              "      <td>1</td>\n",
              "      <td>84803.76</td>\n",
              "      <td>0</td>\n",
              "      <td>1</td>\n",
              "      <td>0</td>\n",
              "    </tr>\n",
              "    <tr>\n",
              "      <th>6659</th>\n",
              "      <td>668</td>\n",
              "      <td>39</td>\n",
              "      <td>4</td>\n",
              "      <td>79896.00</td>\n",
              "      <td>1</td>\n",
              "      <td>1</td>\n",
              "      <td>0</td>\n",
              "      <td>38466.39</td>\n",
              "      <td>1</td>\n",
              "      <td>0</td>\n",
              "      <td>1</td>\n",
              "    </tr>\n",
              "  </tbody>\n",
              "</table>\n",
              "</div>\n",
              "      <button class=\"colab-df-convert\" onclick=\"convertToInteractive('df-ba12fa36-e0b6-43b8-b7a1-95b4ad35f521')\"\n",
              "              title=\"Convert this dataframe to an interactive table.\"\n",
              "              style=\"display:none;\">\n",
              "        \n",
              "  <svg xmlns=\"http://www.w3.org/2000/svg\" height=\"24px\"viewBox=\"0 0 24 24\"\n",
              "       width=\"24px\">\n",
              "    <path d=\"M0 0h24v24H0V0z\" fill=\"none\"/>\n",
              "    <path d=\"M18.56 5.44l.94 2.06.94-2.06 2.06-.94-2.06-.94-.94-2.06-.94 2.06-2.06.94zm-11 1L8.5 8.5l.94-2.06 2.06-.94-2.06-.94L8.5 2.5l-.94 2.06-2.06.94zm10 10l.94 2.06.94-2.06 2.06-.94-2.06-.94-.94-2.06-.94 2.06-2.06.94z\"/><path d=\"M17.41 7.96l-1.37-1.37c-.4-.4-.92-.59-1.43-.59-.52 0-1.04.2-1.43.59L10.3 9.45l-7.72 7.72c-.78.78-.78 2.05 0 2.83L4 21.41c.39.39.9.59 1.41.59.51 0 1.02-.2 1.41-.59l7.78-7.78 2.81-2.81c.8-.78.8-2.07 0-2.86zM5.41 20L4 18.59l7.72-7.72 1.47 1.35L5.41 20z\"/>\n",
              "  </svg>\n",
              "      </button>\n",
              "      \n",
              "  <style>\n",
              "    .colab-df-container {\n",
              "      display:flex;\n",
              "      flex-wrap:wrap;\n",
              "      gap: 12px;\n",
              "    }\n",
              "\n",
              "    .colab-df-convert {\n",
              "      background-color: #E8F0FE;\n",
              "      border: none;\n",
              "      border-radius: 50%;\n",
              "      cursor: pointer;\n",
              "      display: none;\n",
              "      fill: #1967D2;\n",
              "      height: 32px;\n",
              "      padding: 0 0 0 0;\n",
              "      width: 32px;\n",
              "    }\n",
              "\n",
              "    .colab-df-convert:hover {\n",
              "      background-color: #E2EBFA;\n",
              "      box-shadow: 0px 1px 2px rgba(60, 64, 67, 0.3), 0px 1px 3px 1px rgba(60, 64, 67, 0.15);\n",
              "      fill: #174EA6;\n",
              "    }\n",
              "\n",
              "    [theme=dark] .colab-df-convert {\n",
              "      background-color: #3B4455;\n",
              "      fill: #D2E3FC;\n",
              "    }\n",
              "\n",
              "    [theme=dark] .colab-df-convert:hover {\n",
              "      background-color: #434B5C;\n",
              "      box-shadow: 0px 1px 3px 1px rgba(0, 0, 0, 0.15);\n",
              "      filter: drop-shadow(0px 1px 2px rgba(0, 0, 0, 0.3));\n",
              "      fill: #FFFFFF;\n",
              "    }\n",
              "  </style>\n",
              "\n",
              "      <script>\n",
              "        const buttonEl =\n",
              "          document.querySelector('#df-ba12fa36-e0b6-43b8-b7a1-95b4ad35f521 button.colab-df-convert');\n",
              "        buttonEl.style.display =\n",
              "          google.colab.kernel.accessAllowed ? 'block' : 'none';\n",
              "\n",
              "        async function convertToInteractive(key) {\n",
              "          const element = document.querySelector('#df-ba12fa36-e0b6-43b8-b7a1-95b4ad35f521');\n",
              "          const dataTable =\n",
              "            await google.colab.kernel.invokeFunction('convertToInteractive',\n",
              "                                                     [key], {});\n",
              "          if (!dataTable) return;\n",
              "\n",
              "          const docLinkHtml = 'Like what you see? Visit the ' +\n",
              "            '<a target=\"_blank\" href=https://colab.research.google.com/notebooks/data_table.ipynb>data table notebook</a>'\n",
              "            + ' to learn more about interactive tables.';\n",
              "          element.innerHTML = '';\n",
              "          dataTable['output_type'] = 'display_data';\n",
              "          await google.colab.output.renderOutput(dataTable, element);\n",
              "          const docLink = document.createElement('div');\n",
              "          docLink.innerHTML = docLinkHtml;\n",
              "          element.appendChild(docLink);\n",
              "        }\n",
              "      </script>\n",
              "    </div>\n",
              "  </div>\n",
              "  "
            ]
          },
          "metadata": {},
          "execution_count": 24
        }
      ],
      "source": [
        "features_train_ohe.head()"
      ]
    },
    {
      "cell_type": "markdown",
      "metadata": {
        "id": "PhOeYQDtokR2"
      },
      "source": [
        "Поскольку масштаб различается, проведем масштабирование (стандартизацию) для приведения значений к одной шкале. Будем использовать StandardScaler. Масштабированные признаки будем использовать для модели регрессии."
      ]
    },
    {
      "cell_type": "code",
      "execution_count": 25,
      "metadata": {
        "colab": {
          "base_uri": "https://localhost:8080/",
          "height": 270
        },
        "id": "zTbej2Y-okR2",
        "outputId": "3cc776fb-65d0-4130-bee6-1a181fc2f138"
      },
      "outputs": [
        {
          "output_type": "execute_result",
          "data": {
            "text/plain": [
              "      credit_score       age    tenure   balance  num_of_products  \\\n",
              "6629     -0.747044  0.012235  0.001147 -1.232107         0.816999   \n",
              "2900     -0.260086 -1.230336  0.001147  1.159633         2.535189   \n",
              "5047     -1.866012 -1.230336  1.087660 -1.232107         0.816999   \n",
              "2547      0.320120  1.923881 -1.809708  0.742009        -0.901191   \n",
              "6659      0.175068  0.012235 -0.361024  0.053741        -0.901191   \n",
              "\n",
              "      has_cr_card  is_active_member  estimated_salary  geography_Germany  \\\n",
              "6629            0                 1         -1.055967                  0   \n",
              "2900            0                 1          0.071028                  0   \n",
              "5047            1                 1          1.381937                  0   \n",
              "2547            0                 1         -0.272568                  0   \n",
              "6659            1                 0         -1.080831                  1   \n",
              "\n",
              "      geography_Spain  gender_Male  \n",
              "6629                0            1  \n",
              "2900                1            0  \n",
              "5047                1            1  \n",
              "2547                1            0  \n",
              "6659                0            1  "
            ],
            "text/html": [
              "\n",
              "  <div id=\"df-716f3f80-4c0f-4650-b2e5-b1bf7e4e0e26\">\n",
              "    <div class=\"colab-df-container\">\n",
              "      <div>\n",
              "<style scoped>\n",
              "    .dataframe tbody tr th:only-of-type {\n",
              "        vertical-align: middle;\n",
              "    }\n",
              "\n",
              "    .dataframe tbody tr th {\n",
              "        vertical-align: top;\n",
              "    }\n",
              "\n",
              "    .dataframe thead th {\n",
              "        text-align: right;\n",
              "    }\n",
              "</style>\n",
              "<table border=\"1\" class=\"dataframe\">\n",
              "  <thead>\n",
              "    <tr style=\"text-align: right;\">\n",
              "      <th></th>\n",
              "      <th>credit_score</th>\n",
              "      <th>age</th>\n",
              "      <th>tenure</th>\n",
              "      <th>balance</th>\n",
              "      <th>num_of_products</th>\n",
              "      <th>has_cr_card</th>\n",
              "      <th>is_active_member</th>\n",
              "      <th>estimated_salary</th>\n",
              "      <th>geography_Germany</th>\n",
              "      <th>geography_Spain</th>\n",
              "      <th>gender_Male</th>\n",
              "    </tr>\n",
              "  </thead>\n",
              "  <tbody>\n",
              "    <tr>\n",
              "      <th>6629</th>\n",
              "      <td>-0.747044</td>\n",
              "      <td>0.012235</td>\n",
              "      <td>0.001147</td>\n",
              "      <td>-1.232107</td>\n",
              "      <td>0.816999</td>\n",
              "      <td>0</td>\n",
              "      <td>1</td>\n",
              "      <td>-1.055967</td>\n",
              "      <td>0</td>\n",
              "      <td>0</td>\n",
              "      <td>1</td>\n",
              "    </tr>\n",
              "    <tr>\n",
              "      <th>2900</th>\n",
              "      <td>-0.260086</td>\n",
              "      <td>-1.230336</td>\n",
              "      <td>0.001147</td>\n",
              "      <td>1.159633</td>\n",
              "      <td>2.535189</td>\n",
              "      <td>0</td>\n",
              "      <td>1</td>\n",
              "      <td>0.071028</td>\n",
              "      <td>0</td>\n",
              "      <td>1</td>\n",
              "      <td>0</td>\n",
              "    </tr>\n",
              "    <tr>\n",
              "      <th>5047</th>\n",
              "      <td>-1.866012</td>\n",
              "      <td>-1.230336</td>\n",
              "      <td>1.087660</td>\n",
              "      <td>-1.232107</td>\n",
              "      <td>0.816999</td>\n",
              "      <td>1</td>\n",
              "      <td>1</td>\n",
              "      <td>1.381937</td>\n",
              "      <td>0</td>\n",
              "      <td>1</td>\n",
              "      <td>1</td>\n",
              "    </tr>\n",
              "    <tr>\n",
              "      <th>2547</th>\n",
              "      <td>0.320120</td>\n",
              "      <td>1.923881</td>\n",
              "      <td>-1.809708</td>\n",
              "      <td>0.742009</td>\n",
              "      <td>-0.901191</td>\n",
              "      <td>0</td>\n",
              "      <td>1</td>\n",
              "      <td>-0.272568</td>\n",
              "      <td>0</td>\n",
              "      <td>1</td>\n",
              "      <td>0</td>\n",
              "    </tr>\n",
              "    <tr>\n",
              "      <th>6659</th>\n",
              "      <td>0.175068</td>\n",
              "      <td>0.012235</td>\n",
              "      <td>-0.361024</td>\n",
              "      <td>0.053741</td>\n",
              "      <td>-0.901191</td>\n",
              "      <td>1</td>\n",
              "      <td>0</td>\n",
              "      <td>-1.080831</td>\n",
              "      <td>1</td>\n",
              "      <td>0</td>\n",
              "      <td>1</td>\n",
              "    </tr>\n",
              "  </tbody>\n",
              "</table>\n",
              "</div>\n",
              "      <button class=\"colab-df-convert\" onclick=\"convertToInteractive('df-716f3f80-4c0f-4650-b2e5-b1bf7e4e0e26')\"\n",
              "              title=\"Convert this dataframe to an interactive table.\"\n",
              "              style=\"display:none;\">\n",
              "        \n",
              "  <svg xmlns=\"http://www.w3.org/2000/svg\" height=\"24px\"viewBox=\"0 0 24 24\"\n",
              "       width=\"24px\">\n",
              "    <path d=\"M0 0h24v24H0V0z\" fill=\"none\"/>\n",
              "    <path d=\"M18.56 5.44l.94 2.06.94-2.06 2.06-.94-2.06-.94-.94-2.06-.94 2.06-2.06.94zm-11 1L8.5 8.5l.94-2.06 2.06-.94-2.06-.94L8.5 2.5l-.94 2.06-2.06.94zm10 10l.94 2.06.94-2.06 2.06-.94-2.06-.94-.94-2.06-.94 2.06-2.06.94z\"/><path d=\"M17.41 7.96l-1.37-1.37c-.4-.4-.92-.59-1.43-.59-.52 0-1.04.2-1.43.59L10.3 9.45l-7.72 7.72c-.78.78-.78 2.05 0 2.83L4 21.41c.39.39.9.59 1.41.59.51 0 1.02-.2 1.41-.59l7.78-7.78 2.81-2.81c.8-.78.8-2.07 0-2.86zM5.41 20L4 18.59l7.72-7.72 1.47 1.35L5.41 20z\"/>\n",
              "  </svg>\n",
              "      </button>\n",
              "      \n",
              "  <style>\n",
              "    .colab-df-container {\n",
              "      display:flex;\n",
              "      flex-wrap:wrap;\n",
              "      gap: 12px;\n",
              "    }\n",
              "\n",
              "    .colab-df-convert {\n",
              "      background-color: #E8F0FE;\n",
              "      border: none;\n",
              "      border-radius: 50%;\n",
              "      cursor: pointer;\n",
              "      display: none;\n",
              "      fill: #1967D2;\n",
              "      height: 32px;\n",
              "      padding: 0 0 0 0;\n",
              "      width: 32px;\n",
              "    }\n",
              "\n",
              "    .colab-df-convert:hover {\n",
              "      background-color: #E2EBFA;\n",
              "      box-shadow: 0px 1px 2px rgba(60, 64, 67, 0.3), 0px 1px 3px 1px rgba(60, 64, 67, 0.15);\n",
              "      fill: #174EA6;\n",
              "    }\n",
              "\n",
              "    [theme=dark] .colab-df-convert {\n",
              "      background-color: #3B4455;\n",
              "      fill: #D2E3FC;\n",
              "    }\n",
              "\n",
              "    [theme=dark] .colab-df-convert:hover {\n",
              "      background-color: #434B5C;\n",
              "      box-shadow: 0px 1px 3px 1px rgba(0, 0, 0, 0.15);\n",
              "      filter: drop-shadow(0px 1px 2px rgba(0, 0, 0, 0.3));\n",
              "      fill: #FFFFFF;\n",
              "    }\n",
              "  </style>\n",
              "\n",
              "      <script>\n",
              "        const buttonEl =\n",
              "          document.querySelector('#df-716f3f80-4c0f-4650-b2e5-b1bf7e4e0e26 button.colab-df-convert');\n",
              "        buttonEl.style.display =\n",
              "          google.colab.kernel.accessAllowed ? 'block' : 'none';\n",
              "\n",
              "        async function convertToInteractive(key) {\n",
              "          const element = document.querySelector('#df-716f3f80-4c0f-4650-b2e5-b1bf7e4e0e26');\n",
              "          const dataTable =\n",
              "            await google.colab.kernel.invokeFunction('convertToInteractive',\n",
              "                                                     [key], {});\n",
              "          if (!dataTable) return;\n",
              "\n",
              "          const docLinkHtml = 'Like what you see? Visit the ' +\n",
              "            '<a target=\"_blank\" href=https://colab.research.google.com/notebooks/data_table.ipynb>data table notebook</a>'\n",
              "            + ' to learn more about interactive tables.';\n",
              "          element.innerHTML = '';\n",
              "          dataTable['output_type'] = 'display_data';\n",
              "          await google.colab.output.renderOutput(dataTable, element);\n",
              "          const docLink = document.createElement('div');\n",
              "          docLink.innerHTML = docLinkHtml;\n",
              "          element.appendChild(docLink);\n",
              "        }\n",
              "      </script>\n",
              "    </div>\n",
              "  </div>\n",
              "  "
            ]
          },
          "metadata": {},
          "execution_count": 25
        }
      ],
      "source": [
        "numeric = ['credit_score', 'age', 'tenure', 'balance', 'num_of_products', 'estimated_salary']\n",
        "scaler = StandardScaler()\n",
        "scaler.fit(features_train_ohe[numeric]) \n",
        "features_train_ohe[numeric] = scaler.transform(features_train_ohe[numeric])\n",
        "features_valid_ohe[numeric] = scaler.transform(features_valid_ohe[numeric]) \n",
        "features_test_ohe[numeric] = scaler.transform(features_test_ohe[numeric]) \n",
        "features_train_ohe.head()"
      ]
    },
    {
      "cell_type": "markdown",
      "metadata": {
        "id": "NSebd5uUokR2"
      },
      "source": [
        "Обучим модель логистической регрессии на наших данных без учета дисбаланса классов в целевом признаке."
      ]
    },
    {
      "cell_type": "code",
      "execution_count": 26,
      "metadata": {
        "colab": {
          "base_uri": "https://localhost:8080/"
        },
        "id": "yI8GSi15okR3",
        "outputId": "b949e4d5-ea41-4b9c-c335-b1a226f690d0"
      },
      "outputs": [
        {
          "output_type": "stream",
          "name": "stdout",
          "text": [
            "F1 на обучающей выборке: 0.3225044300059066\n",
            "F1 на валидационной выборке: 0.3229357798165138\n"
          ]
        }
      ],
      "source": [
        "model_lr=LogisticRegression(random_state=3337, solver='liblinear')\n",
        "\n",
        "model_lr.fit(features_train_ohe, target_train)\n",
        "\n",
        "predicted_train=model_lr.predict(features_train_ohe)\n",
        "predicted_valid=model_lr.predict(features_valid_ohe)\n",
        "\n",
        "f1_train=f1_score(target_train, predicted_train)\n",
        "f1_valid=f1_score(target_valid, predicted_valid)\n",
        "\n",
        "print(f'F1 на обучающей выборке: {f1_train}')\n",
        "print(f'F1 на валидационной выборке: {f1_valid}')\n"
      ]
    },
    {
      "cell_type": "code",
      "execution_count": 27,
      "metadata": {
        "id": "mMdI7XtRokR3"
      },
      "outputs": [],
      "source": [
        "# Добавляем метрику f1 и название модели в список\n",
        "model_list.append('Logistic Regression Unbalanced')\n",
        "f1_list.append(f1_valid)"
      ]
    },
    {
      "cell_type": "markdown",
      "metadata": {
        "id": "7YhGonoxokR3"
      },
      "source": [
        "Метрика F1 низкая (менее 0.5). Рассчитаем метрику AUC-ROC и построим ROC-кривую."
      ]
    },
    {
      "cell_type": "code",
      "execution_count": 28,
      "metadata": {
        "colab": {
          "base_uri": "https://localhost:8080/"
        },
        "id": "xkGm5kNGokR4",
        "outputId": "ee1c7f6a-0fd4-43cd-b26d-649e82d4bbf2"
      },
      "outputs": [
        {
          "output_type": "execute_result",
          "data": {
            "text/plain": [
              "0.7603039995954258"
            ]
          },
          "metadata": {},
          "execution_count": 28
        }
      ],
      "source": [
        "auc_roc_lr_unbalanced = auc_roc(features_valid_ohe, target_valid, model_lr)\n",
        "auc_roc_lr_unbalanced"
      ]
    },
    {
      "cell_type": "code",
      "execution_count": 29,
      "metadata": {
        "id": "TWoFSrHAokR4"
      },
      "outputs": [],
      "source": [
        "auc_roc_list.append(auc_roc_lr_unbalanced)"
      ]
    },
    {
      "cell_type": "code",
      "execution_count": 30,
      "metadata": {
        "colab": {
          "base_uri": "https://localhost:8080/",
          "height": 472
        },
        "id": "5OzE_FvwokR4",
        "outputId": "e1cbb21f-287b-453e-fb5f-f9db796d937f"
      },
      "outputs": [
        {
          "output_type": "display_data",
          "data": {
            "text/plain": [
              "<Figure size 640x480 with 1 Axes>"
            ],
            "image/png": "[encoded data removed]"
          },
          "metadata": {}
        }
      ],
      "source": [
        "make_roc_curve(features_valid_ohe, target_valid, model_lr)"
      ]
    },
    {
      "cell_type": "markdown",
      "metadata": {
        "id": "pk9oAQrLokR4"
      },
      "source": [
        "### Решающее дерево"
      ]
    },
    {
      "cell_type": "markdown",
      "metadata": {
        "id": "oaw8klxuokR4"
      },
      "source": [
        "Закодируем признаки для дерева при помощи метода OrdinalEncoder."
      ]
    },
    {
      "cell_type": "code",
      "execution_count": 31,
      "metadata": {
        "id": "QVnXv7TIokR4"
      },
      "outputs": [],
      "source": [
        "encoder = OrdinalEncoder()\n",
        "encoder.fit(features_train)\n",
        "features_train_ordinal = pd.DataFrame(encoder.transform(features_train),\n",
        "                                     columns=features_train.columns)\n",
        "encoder.fit(features_valid)\n",
        "features_valid_ordinal = pd.DataFrame(encoder.transform(features_valid),\n",
        "                                     columns=features_valid.columns)\n",
        "encoder.fit(features_test)\n",
        "features_test_ordinal = pd.DataFrame(encoder.transform(features_test),\n",
        "                                     columns=features_test.columns)\n"
      ]
    },
    {
      "cell_type": "markdown",
      "metadata": {
        "id": "fBDho1T4okR5"
      },
      "source": [
        "Обучим модель решающего дерева. Подберем оптимальные гиперпараметры в цикле (переберем параметр max_depth и оценим качество метрикой F1 на валидационной выборке)."
      ]
    },
    {
      "cell_type": "code",
      "execution_count": 32,
      "metadata": {
        "colab": {
          "base_uri": "https://localhost:8080/"
        },
        "id": "cq4H9JT-okR5",
        "outputId": "5694b6a5-a018-4c86-f290-3686f1091e80"
      },
      "outputs": [
        {
          "output_type": "stream",
          "name": "stderr",
          "text": [
            "100%|██████████| 59/59 [00:03<00:00, 18.77it/s]"
          ]
        },
        {
          "output_type": "stream",
          "name": "stdout",
          "text": [
            "\n",
            "F1 лучшей модели DT на обучающей выборке: 0.5292887029288703, глубина: 4\n",
            "F1 лучшей модели DT на валидационной выборке: 0.5331230283911673\n"
          ]
        },
        {
          "output_type": "stream",
          "name": "stderr",
          "text": [
            "\n"
          ]
        }
      ],
      "source": [
        "best_model_dt = None\n",
        "best_depth_dt = 0\n",
        "best_f1_train_dt = 0 \n",
        "best_f1_valid_dt = 0 \n",
        "\n",
        "f1_train_list_dt = []\n",
        "f1_valid_list_dt = []\n",
        "\n",
        "for depth in tqdm(range(1, 60, 1)):\n",
        "    model_dt = DecisionTreeClassifier(random_state=3337, max_depth=depth)\n",
        "    model_dt.fit(features_train_ordinal, target_train)\n",
        "    predicted_train_dt = model_dt.predict(features_train_ordinal)\n",
        "    f1_train_dt = f1_score(target_train, predicted_train_dt)\n",
        "    predicted_valid_dt = model_dt.predict(features_valid_ordinal)\n",
        "    f1_valid_dt = f1_score(target_valid, predicted_valid_dt)\n",
        "    f1_train_list_dt.append(f1_train_dt)\n",
        "    f1_valid_list_dt.append(f1_valid_dt)\n",
        "    if f1_valid_dt > best_f1_valid_dt:\n",
        "        best_f1_train_dt = f1_train_dt\n",
        "        best_f1_valid_dt = f1_valid_dt\n",
        "        best_depth_dt = depth\n",
        "        best_model_dt = model_dt\n",
        "print('')        \n",
        "print(f'F1 лучшей модели DT на обучающей выборке: {best_f1_train_dt}, глубина: {best_depth_dt}')\n",
        "print(f'F1 лучшей модели DT на валидационной выборке: {best_f1_valid_dt}')\n",
        "    "
      ]
    },
    {
      "cell_type": "code",
      "execution_count": 33,
      "metadata": {
        "id": "q_KMkz84okR5"
      },
      "outputs": [],
      "source": [
        "model_list.append('Decision Tree Unbalanced')\n",
        "f1_list.append(best_f1_valid_dt)"
      ]
    },
    {
      "cell_type": "markdown",
      "metadata": {
        "id": "lvTfImIWokR6"
      },
      "source": [
        "Посмотрим на графике, как менялась метрика F1 в зависимости от глубины дерева, на обучающей и валидационной выборках."
      ]
    },
    {
      "cell_type": "code",
      "execution_count": 34,
      "metadata": {
        "colab": {
          "base_uri": "https://localhost:8080/",
          "height": 514
        },
        "id": "JORt-d8SokR6",
        "outputId": "4461c859-46b2-40b8-f8d5-f841d0f3abc7"
      },
      "outputs": [
        {
          "output_type": "display_data",
          "data": {
            "text/plain": [
              "<Figure size 640x480 with 1 Axes>"
            ],
            "image/png": "[encoded data removed]"
          },
          "metadata": {}
        }
      ],
      "source": [
        "plt.figure()\n",
        "plt.plot(figsize=(10,6))\n",
        "plt.xlim=([0.0, 1.0])\n",
        "plt.plot(f1_train_list_dt, label='Обучающая выборка')\n",
        "plt.plot(f1_valid_list_dt, label='Валидационная выборка')\n",
        "plt.xlabel('Глубина')\n",
        "plt.ylabel('F1')\n",
        "plt.title('F1 на обучающей и валидационной выборках\\n Модель решающего дерева без учета дисбаланса классов\\n')\n",
        "plt.grid(True)\n",
        "plt.legend();\n"
      ]
    },
    {
      "cell_type": "markdown",
      "metadata": {
        "id": "l3vM9ae7okR6"
      },
      "source": [
        "Построим ROC-кривую и рассчитаем метрику AUC-ROC для этой модели."
      ]
    },
    {
      "cell_type": "code",
      "execution_count": 35,
      "metadata": {
        "colab": {
          "base_uri": "https://localhost:8080/"
        },
        "id": "RYvT-E6gokR6",
        "outputId": "d8a16dcc-ba9b-4296-f2eb-10c70468bb62"
      },
      "outputs": [
        {
          "output_type": "execute_result",
          "data": {
            "text/plain": [
              "0.672958638607759"
            ]
          },
          "metadata": {},
          "execution_count": 35
        }
      ],
      "source": [
        "auc_roc_dt_unbalanced = auc_roc(features_valid_ordinal, target_valid, model_dt)\n",
        "auc_roc_dt_unbalanced"
      ]
    },
    {
      "cell_type": "code",
      "execution_count": 36,
      "metadata": {
        "id": "AmqfrmbVokR6"
      },
      "outputs": [],
      "source": [
        "auc_roc_list.append(auc_roc_dt_unbalanced)"
      ]
    },
    {
      "cell_type": "code",
      "execution_count": 37,
      "metadata": {
        "colab": {
          "base_uri": "https://localhost:8080/",
          "height": 472
        },
        "id": "peGHNJ9WokR7",
        "outputId": "23ee554e-5f1a-46be-c854-6a194ac99b6b"
      },
      "outputs": [
        {
          "output_type": "display_data",
          "data": {
            "text/plain": [
              "<Figure size 640x480 with 1 Axes>"
            ],
            "image/png": "[encoded data removed]"
          },
          "metadata": {}
        }
      ],
      "source": [
        "make_roc_curve(features_valid_ordinal, target_valid, model_dt)"
      ]
    },
    {
      "cell_type": "markdown",
      "metadata": {
        "id": "TMSy93NQokR7"
      },
      "source": [
        "Метрики далеки от целевых."
      ]
    },
    {
      "cell_type": "markdown",
      "metadata": {
        "id": "yoqEOaghokR7"
      },
      "source": [
        "### Случайный лес"
      ]
    },
    {
      "cell_type": "markdown",
      "metadata": {
        "id": "d-fzla12okR7"
      },
      "source": [
        "Обучим модель случайного леса. Подберем оптимальные гиперпараметры в цикле (переберем параметры max_depth и n_estimators и оценим качество метрикой F1 на валидационной выборке)."
      ]
    },
    {
      "cell_type": "code",
      "execution_count": 38,
      "metadata": {
        "colab": {
          "base_uri": "https://localhost:8080/"
        },
        "id": "kpdyqvmqokR8",
        "outputId": "8ae9bd66-f0c0-42a1-a524-1348971a8276"
      },
      "outputs": [
        {
          "output_type": "stream",
          "name": "stderr",
          "text": [
            "100%|██████████| 14/14 [02:25<00:00, 10.38s/it]"
          ]
        },
        {
          "output_type": "stream",
          "name": "stdout",
          "text": [
            "\n",
            "F1 лучшей модели RF на обучающей выборке: 0.8265162200282088, глубина: 12, деревьев: 30\n",
            "F1 лучшей модели RF на валидационной выборке: 0.5254515599343186\n",
            "CPU times: user 2min 11s, sys: 380 ms, total: 2min 12s\n",
            "Wall time: 2min 25s\n"
          ]
        },
        {
          "output_type": "stream",
          "name": "stderr",
          "text": [
            "\n"
          ]
        }
      ],
      "source": [
        "%%time\n",
        "best_model_rf = None\n",
        "best_depth_rf = 0\n",
        "best_est_rf = 0\n",
        "best_f1_train_rf = 0 \n",
        "best_f1_valid_rf = 0 \n",
        "\n",
        "f1_train_list_rf = []\n",
        "f1_valid_list_rf = []\n",
        "\n",
        "for depth in tqdm(range(2, 30, 2)):\n",
        "    for est in range(2, 60, 2):\n",
        "        model_rf = RandomForestClassifier(random_state=3337, max_depth=depth, n_estimators=est)\n",
        "        model_rf.fit(features_train_ordinal, target_train)\n",
        "        predicted_train_rf = model_rf.predict(features_train_ordinal)\n",
        "        f1_train_rf = f1_score(target_train, predicted_train_rf)\n",
        "        predicted_valid_rf = model_rf.predict(features_valid_ordinal)\n",
        "        f1_valid_rf = f1_score(target_valid, predicted_valid_rf)\n",
        "        f1_train_list_rf.append(f1_train_rf)\n",
        "        f1_valid_list_rf.append(f1_valid_rf)\n",
        "        if f1_valid_rf > best_f1_valid_rf:\n",
        "            best_f1_train_rf = f1_train_rf\n",
        "            best_f1_valid_rf = f1_valid_rf\n",
        "            best_depth_rf = depth\n",
        "            best_est_rf = est\n",
        "            best_model_rf = model_rf\n",
        "print('')            \n",
        "print(f'F1 лучшей модели RF на обучающей выборке: {best_f1_train_rf}, глубина: {best_depth_rf}, деревьев: {best_est_rf}')\n",
        "print(f'F1 лучшей модели RF на валидационной выборке: {best_f1_valid_rf}')\n",
        "    "
      ]
    },
    {
      "cell_type": "code",
      "execution_count": 39,
      "metadata": {
        "id": "hb9EQ9MuokR8"
      },
      "outputs": [],
      "source": [
        "model_list.append('Random Forest Unbalanced')\n",
        "f1_list.append(best_f1_valid_rf)"
      ]
    },
    {
      "cell_type": "markdown",
      "metadata": {
        "id": "d1Z41MUpokR8"
      },
      "source": [
        "Метрика F1 на валидационной выборке пока далека от целевой."
      ]
    },
    {
      "cell_type": "markdown",
      "metadata": {
        "id": "zItUKi4LokR9"
      },
      "source": [
        "Построим ROC-кривую и рассчитаем метрику AUC-ROC для этой модели."
      ]
    },
    {
      "cell_type": "code",
      "execution_count": 40,
      "metadata": {
        "colab": {
          "base_uri": "https://localhost:8080/"
        },
        "id": "0SKXrGxTokR9",
        "outputId": "3425a304-0cef-404d-d0ae-4564eb555748"
      },
      "outputs": [
        {
          "output_type": "execute_result",
          "data": {
            "text/plain": [
              "0.8159937986358263"
            ]
          },
          "metadata": {},
          "execution_count": 40
        }
      ],
      "source": [
        "auc_roc_rf_unbalanced = auc_roc(features_valid_ordinal, target_valid, model_rf)\n",
        "auc_roc_rf_unbalanced "
      ]
    },
    {
      "cell_type": "code",
      "execution_count": 41,
      "metadata": {
        "id": "4lFndym-okR9"
      },
      "outputs": [],
      "source": [
        "auc_roc_list.append(auc_roc_rf_unbalanced)"
      ]
    },
    {
      "cell_type": "code",
      "execution_count": 42,
      "metadata": {
        "colab": {
          "base_uri": "https://localhost:8080/",
          "height": 472
        },
        "id": "wVyrn7S0okR9",
        "outputId": "8abe11a5-28aa-4701-9024-2221f1682e26"
      },
      "outputs": [
        {
          "output_type": "display_data",
          "data": {
            "text/plain": [
              "<Figure size 640x480 with 1 Axes>"
            ],
            "image/png": "[encoded data removed]"
          },
          "metadata": {}
        }
      ],
      "source": [
        "make_roc_curve(features_valid_ordinal, target_valid, model_rf)"
      ]
    },
    {
      "cell_type": "markdown",
      "metadata": {
        "id": "NBe587PlokR-"
      },
      "source": [
        "### Вывод по разделу\n",
        "\n",
        "Мы разбили выборку на тренировочную, валидационную и тестовую в пропорции 60:20:20.\n",
        "\n",
        "После этого при помощи метода OHE были преобразованы оставшиеся категориальные значения (колонки `geography` и `gender`) для модели логистической регрессии. Для моделей дерева и леса категориальные признаки мы преобразовали при помощи OrdinalEncoder.\n",
        "\n",
        "При помощи StandardScaler была проведена стандартизация признаков для приведения значений к единой шкале.\n",
        "\n",
        "Мы обучили три модели для решения задачи классификации (логистическая регрессия, решающее дерево, случайный лес). На этом этапе дисбаланс целевого признака мы не учитывали.\n",
        "\n",
        "Наименьшее значение метрики F1 на валидационной выборке — у модели логистической регрессии. Наибольшее — у модели решающего дерева.\n",
        "\n",
        "Поскольку в целевом признаке классы не сбалансированы, а для оценки моделей мы используем F1-меру, далее мы будем учитывать эту несбалансированность при обучении моделей."
      ]
    },
    {
      "cell_type": "markdown",
      "metadata": {
        "id": "jNSYoGZVokR-"
      },
      "source": [
        "## Работа с дисбалансом"
      ]
    },
    {
      "cell_type": "markdown",
      "metadata": {
        "id": "FCM_eH7PokR-"
      },
      "source": [
        "### Логистическая регрессия"
      ]
    },
    {
      "cell_type": "markdown",
      "metadata": {
        "id": "REWnMSS8okR-"
      },
      "source": [
        "Обучим модель логистической регрессии с учетом «веса» классов — более редкому классу (1) придается больший вес."
      ]
    },
    {
      "cell_type": "code",
      "execution_count": 43,
      "metadata": {
        "colab": {
          "base_uri": "https://localhost:8080/"
        },
        "id": "xBZIluHrokR_",
        "outputId": "f1909be7-8e48-4979-bdad-b5a412c7cae4"
      },
      "outputs": [
        {
          "output_type": "stream",
          "name": "stdout",
          "text": [
            "F1 на обучающей выборке: 0.497243980272701\n",
            "F1 на валидационной выборке: 0.47758620689655173\n"
          ]
        }
      ],
      "source": [
        "model_lr=LogisticRegression(random_state=3337, solver='liblinear', \n",
        "                            class_weight='balanced')\n",
        "model_lr.fit(features_train_ohe, target_train)\n",
        "predicted_train=model_lr.predict(features_train_ohe)\n",
        "predicted_valid=model_lr.predict(features_valid_ohe)\n",
        "f1_train=f1_score(target_train, predicted_train)\n",
        "f1_valid=f1_score(target_valid, predicted_valid)\n",
        "print(f'F1 на обучающей выборке: {f1_train}')\n",
        "print(f'F1 на валидационной выборке: {f1_valid}')"
      ]
    },
    {
      "cell_type": "markdown",
      "metadata": {
        "id": "eStsUl5xokR_"
      },
      "source": [
        "Мы видим, что метрика F1 немного повысилась по сравнению с моделью, обученной на несбалансированных данных, но она все еще далека от нашего целевого значения."
      ]
    },
    {
      "cell_type": "code",
      "execution_count": 44,
      "metadata": {
        "colab": {
          "base_uri": "https://localhost:8080/"
        },
        "id": "qvgnclVZokR_",
        "outputId": "67dab573-721d-4d8f-d15c-d33ce51421e2"
      },
      "outputs": [
        {
          "output_type": "execute_result",
          "data": {
            "text/plain": [
              "0.7652094619795058"
            ]
          },
          "metadata": {},
          "execution_count": 44
        }
      ],
      "source": [
        "auc_roc_balanced = auc_roc(features_valid_ohe, target_valid, model_lr)\n",
        "auc_roc_balanced"
      ]
    },
    {
      "cell_type": "code",
      "execution_count": 45,
      "metadata": {
        "colab": {
          "base_uri": "https://localhost:8080/",
          "height": 472
        },
        "id": "Mbtl9Y8uokR_",
        "outputId": "4e12611f-bdd5-478e-889e-d04d7bf14029"
      },
      "outputs": [
        {
          "output_type": "display_data",
          "data": {
            "text/plain": [
              "<Figure size 640x480 with 1 Axes>"
            ],
            "image/png": "[encoded data removed]"
          },
          "metadata": {}
        }
      ],
      "source": [
        "make_roc_curve(features_valid_ohe, target_valid, model_lr)"
      ]
    },
    {
      "cell_type": "markdown",
      "metadata": {
        "id": "negs0jdWokSA"
      },
      "source": [
        "Попробуем использовать другие способы устранения дисбаланса. Увеличим размеры малого класса (1)."
      ]
    },
    {
      "cell_type": "code",
      "execution_count": 46,
      "metadata": {
        "id": "UNMEeSyDokSA"
      },
      "outputs": [],
      "source": [
        "def upsample(features, target, repeat):\n",
        "    features_zeros = features[target == 0]\n",
        "    features_ones = features[target == 1]\n",
        "    target_zeros = target[target == 0]\n",
        "    target_ones = target[target == 1]\n",
        "\n",
        "    features_upsampled = pd.concat([features_zeros] + [features_ones] * repeat)\n",
        "    target_upsampled = pd.concat([target_zeros] + [target_ones] * repeat)\n",
        "    \n",
        "    features_upsampled = shuffle(features_upsampled, random_state=3337)\n",
        "    target_upsampled = shuffle(target_upsampled, random_state=3337)\n",
        "    \n",
        "    return features_upsampled, target_upsampled\n",
        "\n"
      ]
    },
    {
      "cell_type": "code",
      "execution_count": 47,
      "metadata": {
        "id": "AMJCwiT9okSA"
      },
      "outputs": [],
      "source": [
        "features_upsampled, target_upsampled = upsample(features_train_ohe, target_train, 4)"
      ]
    },
    {
      "cell_type": "code",
      "execution_count": 48,
      "metadata": {
        "colab": {
          "base_uri": "https://localhost:8080/"
        },
        "id": "SYxAo8jFokSB",
        "outputId": "3423cd93-0b6a-46fc-b471-ebb3b87d3843"
      },
      "outputs": [
        {
          "output_type": "stream",
          "name": "stdout",
          "text": [
            "0.4691983122362869\n"
          ]
        }
      ],
      "source": [
        "model_lr = LogisticRegression(random_state=3337, solver='liblinear')\n",
        "model_lr.fit(features_upsampled, target_upsampled)\n",
        "predicted_valid_lr = model_lr.predict(features_valid_ohe)# < напишите код здесь >\n",
        "\n",
        "print(f1_score(target_valid, predicted_valid_lr))"
      ]
    },
    {
      "cell_type": "markdown",
      "metadata": {
        "id": "UDcJZPn5okSB"
      },
      "source": [
        "Метрика на этих данных понизилась. Применим другой способ борьбы с дисбалансом — уменьшение размера более многочисленного класса (0)."
      ]
    },
    {
      "cell_type": "code",
      "execution_count": 49,
      "metadata": {
        "id": "w1ZHj1KpokSB"
      },
      "outputs": [],
      "source": [
        "def downsample(features, target, fraction):\n",
        "    features_zeros = features[target == 0]\n",
        "    features_ones = features[target == 1]\n",
        "    target_zeros = target[target == 0]\n",
        "    target_ones = target[target == 1]\n",
        "\n",
        "    features_downsampled = pd.concat(\n",
        "        [features_zeros.sample(frac=fraction, random_state=12345)] + [features_ones])\n",
        "    target_downsampled = pd.concat(\n",
        "        [target_zeros.sample(frac=fraction, random_state=12345)] + [target_ones])\n",
        "    \n",
        "    features_downsampled, target_downsampled = shuffle(\n",
        "        features_downsampled, target_downsampled, random_state=12345)\n",
        "    \n",
        "    return features_downsampled, target_downsampled\n"
      ]
    },
    {
      "cell_type": "code",
      "execution_count": 50,
      "metadata": {
        "id": "s_1-bCY1okSB"
      },
      "outputs": [],
      "source": [
        "features_downsampled, target_downsampled = downsample(features_train_ohe, target_train, 0.2)"
      ]
    },
    {
      "cell_type": "code",
      "execution_count": 51,
      "metadata": {
        "colab": {
          "base_uri": "https://localhost:8080/"
        },
        "id": "Mgr_E4nPokSC",
        "outputId": "5082e91e-d63d-4f85-faf3-6db5c02917df"
      },
      "outputs": [
        {
          "output_type": "stream",
          "name": "stdout",
          "text": [
            "0.4548736462093863\n"
          ]
        }
      ],
      "source": [
        "model_lr = LogisticRegression(random_state=3337, solver='liblinear')\n",
        "model_lr.fit(features_downsampled, target_downsampled)\n",
        "predicted_valid_lr = model_lr.predict(features_valid_ohe)# < напишите код здесь >\n",
        "\n",
        "print(f1_score(target_valid, predicted_valid_lr))"
      ]
    },
    {
      "cell_type": "markdown",
      "metadata": {
        "id": "Q_gN4lcCokSC"
      },
      "source": [
        "Метрика на этих данных понизилась. Добавим в таблицу лучшую метрику."
      ]
    },
    {
      "cell_type": "code",
      "execution_count": 52,
      "metadata": {
        "id": "96HCPexMokSC"
      },
      "outputs": [],
      "source": [
        "f1_list.append(f1_valid)\n",
        "model_list.append('Logistic Regression Balanced')"
      ]
    },
    {
      "cell_type": "code",
      "execution_count": 53,
      "metadata": {
        "id": "NlxB5JqkokSC"
      },
      "outputs": [],
      "source": [
        "auc_roc_list.append(auc_roc_balanced)"
      ]
    },
    {
      "cell_type": "markdown",
      "metadata": {
        "id": "F-Bts81RokSD"
      },
      "source": [
        "### Решающее дерево"
      ]
    },
    {
      "cell_type": "markdown",
      "metadata": {
        "id": "btR186OvokSD"
      },
      "source": [
        "Для моделей дерева и леса мы будем использовать функцию SMOTE для устранения дисбаланса. Далее мы будем подбирать гиперпараметры через RandomizedSearchCV, поэтому сразу объединим тренировочную и валидационную выборки."
      ]
    },
    {
      "cell_type": "code",
      "execution_count": 54,
      "metadata": {
        "id": "wIbbWOKvokSD"
      },
      "outputs": [],
      "source": [
        "features_val_train = pd.concat([features_train, features_valid])\n",
        "target_val_train = pd.concat([target_train, target_valid])"
      ]
    },
    {
      "cell_type": "code",
      "execution_count": 55,
      "metadata": {
        "id": "4dzxBObJokSD"
      },
      "outputs": [],
      "source": [
        "# Проеобразуем категориальные признаки\n",
        "encoder = OrdinalEncoder()\n",
        "encoder.fit(features_val_train)\n",
        "features_train_ordinal = pd.DataFrame(encoder.transform(features_val_train),\n",
        "                                     columns=features_val_train.columns)\n",
        "encoder.fit(features_test)\n",
        "features_test_ordinal = pd.DataFrame(encoder.transform(features_test),\n",
        "                                     columns=features_test.columns)\n"
      ]
    },
    {
      "cell_type": "code",
      "execution_count": 56,
      "metadata": {
        "id": "99pfifWWokSE"
      },
      "outputs": [],
      "source": [
        "sm = SMOTE(random_state=3337, k_neighbors=5)\n",
        "features_sm, target_sm = sm.fit_resample(features_train_ordinal, target_val_train)"
      ]
    },
    {
      "cell_type": "code",
      "execution_count": 57,
      "metadata": {
        "colab": {
          "base_uri": "https://localhost:8080/",
          "height": 153
        },
        "id": "3Hl_X7DNokSE",
        "outputId": "fe00122c-b3b4-41ea-e94a-08b432c4accb"
      },
      "outputs": [
        {
          "output_type": "stream",
          "name": "stdout",
          "text": [
            "CPU times: user 3.11 s, sys: 9.04 ms, total: 3.12 s\n",
            "Wall time: 3.12 s\n"
          ]
        },
        {
          "output_type": "execute_result",
          "data": {
            "text/plain": [
              "RandomizedSearchCV(cv=5, estimator=DecisionTreeClassifier(random_state=3337),\n",
              "                   param_distributions={'max_depth': range(2, 100),\n",
              "                                        'min_samples_leaf': range(2, 20),\n",
              "                                        'min_samples_split': range(2, 10, 2)},\n",
              "                   random_state=3337, scoring='f1')"
            ],
            "text/html": [
              "<style>#sk-container-id-1 {color: black;background-color: white;}#sk-container-id-1 pre{padding: 0;}#sk-container-id-1 div.sk-toggleable {background-color: white;}#sk-container-id-1 label.sk-toggleable__label {cursor: pointer;display: block;width: 100%;margin-bottom: 0;padding: 0.3em;box-sizing: border-box;text-align: center;}#sk-container-id-1 label.sk-toggleable__label-arrow:before {content: \"▸\";float: left;margin-right: 0.25em;color: #696969;}#sk-container-id-1 label.sk-toggleable__label-arrow:hover:before {color: black;}#sk-container-id-1 div.sk-estimator:hover label.sk-toggleable__label-arrow:before {color: black;}#sk-container-id-1 div.sk-toggleable__content {max-height: 0;max-width: 0;overflow: hidden;text-align: left;background-color: #f0f8ff;}#sk-container-id-1 div.sk-toggleable__content pre {margin: 0.2em;color: black;border-radius: 0.25em;background-color: #f0f8ff;}#sk-container-id-1 input.sk-toggleable__control:checked~div.sk-toggleable__content {max-height: 200px;max-width: 100%;overflow: auto;}#sk-container-id-1 input.sk-toggleable__control:checked~label.sk-toggleable__label-arrow:before {content: \"▾\";}#sk-container-id-1 div.sk-estimator input.sk-toggleable__control:checked~label.sk-toggleable__label {background-color: #d4ebff;}#sk-container-id-1 div.sk-label input.sk-toggleable__control:checked~label.sk-toggleable__label {background-color: #d4ebff;}#sk-container-id-1 input.sk-hidden--visually {border: 0;clip: rect(1px 1px 1px 1px);clip: rect(1px, 1px, 1px, 1px);height: 1px;margin: -1px;overflow: hidden;padding: 0;position: absolute;width: 1px;}#sk-container-id-1 div.sk-estimator {font-family: monospace;background-color: #f0f8ff;border: 1px dotted black;border-radius: 0.25em;box-sizing: border-box;margin-bottom: 0.5em;}#sk-container-id-1 div.sk-estimator:hover {background-color: #d4ebff;}#sk-container-id-1 div.sk-parallel-item::after {content: \"\";width: 100%;border-bottom: 1px solid gray;flex-grow: 1;}#sk-container-id-1 div.sk-label:hover label.sk-toggleable__label {background-color: #d4ebff;}#sk-container-id-1 div.sk-serial::before {content: \"\";position: absolute;border-left: 1px solid gray;box-sizing: border-box;top: 0;bottom: 0;left: 50%;z-index: 0;}#sk-container-id-1 div.sk-serial {display: flex;flex-direction: column;align-items: center;background-color: white;padding-right: 0.2em;padding-left: 0.2em;position: relative;}#sk-container-id-1 div.sk-item {position: relative;z-index: 1;}#sk-container-id-1 div.sk-parallel {display: flex;align-items: stretch;justify-content: center;background-color: white;position: relative;}#sk-container-id-1 div.sk-item::before, #sk-container-id-1 div.sk-parallel-item::before {content: \"\";position: absolute;border-left: 1px solid gray;box-sizing: border-box;top: 0;bottom: 0;left: 50%;z-index: -1;}#sk-container-id-1 div.sk-parallel-item {display: flex;flex-direction: column;z-index: 1;position: relative;background-color: white;}#sk-container-id-1 div.sk-parallel-item:first-child::after {align-self: flex-end;width: 50%;}#sk-container-id-1 div.sk-parallel-item:last-child::after {align-self: flex-start;width: 50%;}#sk-container-id-1 div.sk-parallel-item:only-child::after {width: 0;}#sk-container-id-1 div.sk-dashed-wrapped {border: 1px dashed gray;margin: 0 0.4em 0.5em 0.4em;box-sizing: border-box;padding-bottom: 0.4em;background-color: white;}#sk-container-id-1 div.sk-label label {font-family: monospace;font-weight: bold;display: inline-block;line-height: 1.2em;}#sk-container-id-1 div.sk-label-container {text-align: center;}#sk-container-id-1 div.sk-container {/* jupyter's `normalize.less` sets `[hidden] { display: none; }` but bootstrap.min.css set `[hidden] { display: none !important; }` so we also need the `!important` here to be able to override the default hidden behavior on the sphinx rendered scikit-learn.org. See: https://github.com/scikit-learn/scikit-learn/issues/21755 */display: inline-block !important;position: relative;}#sk-container-id-1 div.sk-text-repr-fallback {display: none;}</style><div id=\"sk-container-id-1\" class=\"sk-top-container\"><div class=\"sk-text-repr-fallback\"><pre>RandomizedSearchCV(cv=5, estimator=DecisionTreeClassifier(random_state=3337),\n",
              "                   param_distributions={&#x27;max_depth&#x27;: range(2, 100),\n",
              "                                        &#x27;min_samples_leaf&#x27;: range(2, 20),\n",
              "                                        &#x27;min_samples_split&#x27;: range(2, 10, 2)},\n",
              "                   random_state=3337, scoring=&#x27;f1&#x27;)</pre><b>In a Jupyter environment, please rerun this cell to show the HTML representation or trust the notebook. <br />On GitHub, the HTML representation is unable to render, please try loading this page with nbviewer.org.</b></div><div class=\"sk-container\" hidden><div class=\"sk-item sk-dashed-wrapped\"><div class=\"sk-label-container\"><div class=\"sk-label sk-toggleable\"><input class=\"sk-toggleable__control sk-hidden--visually\" id=\"sk-estimator-id-1\" type=\"checkbox\" ><label for=\"sk-estimator-id-1\" class=\"sk-toggleable__label sk-toggleable__label-arrow\">RandomizedSearchCV</label><div class=\"sk-toggleable__content\"><pre>RandomizedSearchCV(cv=5, estimator=DecisionTreeClassifier(random_state=3337),\n",
              "                   param_distributions={&#x27;max_depth&#x27;: range(2, 100),\n",
              "                                        &#x27;min_samples_leaf&#x27;: range(2, 20),\n",
              "                                        &#x27;min_samples_split&#x27;: range(2, 10, 2)},\n",
              "                   random_state=3337, scoring=&#x27;f1&#x27;)</pre></div></div></div><div class=\"sk-parallel\"><div class=\"sk-parallel-item\"><div class=\"sk-item\"><div class=\"sk-label-container\"><div class=\"sk-label sk-toggleable\"><input class=\"sk-toggleable__control sk-hidden--visually\" id=\"sk-estimator-id-2\" type=\"checkbox\" ><label for=\"sk-estimator-id-2\" class=\"sk-toggleable__label sk-toggleable__label-arrow\">estimator: DecisionTreeClassifier</label><div class=\"sk-toggleable__content\"><pre>DecisionTreeClassifier(random_state=3337)</pre></div></div></div><div class=\"sk-serial\"><div class=\"sk-item\"><div class=\"sk-estimator sk-toggleable\"><input class=\"sk-toggleable__control sk-hidden--visually\" id=\"sk-estimator-id-3\" type=\"checkbox\" ><label for=\"sk-estimator-id-3\" class=\"sk-toggleable__label sk-toggleable__label-arrow\">DecisionTreeClassifier</label><div class=\"sk-toggleable__content\"><pre>DecisionTreeClassifier(random_state=3337)</pre></div></div></div></div></div></div></div></div></div></div>"
            ]
          },
          "metadata": {},
          "execution_count": 57
        }
      ],
      "source": [
        "%%time\n",
        "model_dt=DecisionTreeClassifier(random_state=3337)\n",
        "# Задаем диапазоны параметров\n",
        "params = {'max_depth': range (2, 100, 1),\n",
        "          'min_samples_leaf': range (2, 20),\n",
        "          'min_samples_split': range (2, 10, 2)}\n",
        "rs_dt = RandomizedSearchCV(model_dt, params, cv=5, scoring='f1', random_state=3337)\n",
        "rs_dt.fit(features_sm, target_sm)"
      ]
    },
    {
      "cell_type": "code",
      "execution_count": 58,
      "metadata": {
        "colab": {
          "base_uri": "https://localhost:8080/"
        },
        "id": "DWrOZZQ8okSE",
        "outputId": "1ad23ff3-2641-4a61-805f-aadd01643adf"
      },
      "outputs": [
        {
          "output_type": "stream",
          "name": "stdout",
          "text": [
            "Лучшие параметры модели DT: {'min_samples_split': 8, 'min_samples_leaf': 17, 'max_depth': 18}\n"
          ]
        }
      ],
      "source": [
        "print(f'Лучшие параметры модели DT: {rs_dt.best_params_}')"
      ]
    },
    {
      "cell_type": "code",
      "execution_count": 59,
      "metadata": {
        "colab": {
          "base_uri": "https://localhost:8080/"
        },
        "id": "HhGX_DzjokSE",
        "outputId": "c90eb22f-7b7d-4e80-b729-d87938f6ad3d"
      },
      "outputs": [
        {
          "output_type": "stream",
          "name": "stdout",
          "text": [
            "F1 модели DT: 0.8478919714176965\n"
          ]
        }
      ],
      "source": [
        "print(f'F1 модели DT: {rs_dt.best_score_}')"
      ]
    },
    {
      "cell_type": "code",
      "execution_count": 60,
      "metadata": {
        "id": "jB0d40B7okSE"
      },
      "outputs": [],
      "source": [
        "model_list.append('Decision Tree Balanced')\n",
        "f1_list.append(rs_dt.best_score_)"
      ]
    },
    {
      "cell_type": "code",
      "execution_count": 61,
      "metadata": {
        "colab": {
          "base_uri": "https://localhost:8080/"
        },
        "id": "d9VaN-8WokSE",
        "outputId": "60983556-6a36-43ed-cda7-19d4d10fcd9e"
      },
      "outputs": [
        {
          "output_type": "execute_result",
          "data": {
            "text/plain": [
              "0.9744866228448751"
            ]
          },
          "metadata": {},
          "execution_count": 61
        }
      ],
      "source": [
        "auc_roc_dt = auc_roc(features_sm, target_sm, rs_dt)\n",
        "auc_roc_dt"
      ]
    },
    {
      "cell_type": "code",
      "execution_count": 62,
      "metadata": {
        "id": "47fr9UTnokSF"
      },
      "outputs": [],
      "source": [
        "auc_roc_list.append(auc_roc_dt)"
      ]
    },
    {
      "cell_type": "code",
      "execution_count": 63,
      "metadata": {
        "colab": {
          "base_uri": "https://localhost:8080/",
          "height": 472
        },
        "id": "9pFY1xqBokSF",
        "outputId": "9cd65252-561e-45ad-f65e-982d1ba3e88d"
      },
      "outputs": [
        {
          "output_type": "display_data",
          "data": {
            "text/plain": [
              "<Figure size 640x480 with 1 Axes>"
            ],
            "image/png": "[encoded data removed]"
          },
          "metadata": {}
        }
      ],
      "source": [
        "make_roc_curve(features_sm, target_sm, rs_dt)"
      ]
    },
    {
      "cell_type": "markdown",
      "metadata": {
        "id": "qrkCC6PeokSF"
      },
      "source": [
        "Мы видим увеличение метрик по сравнению с несбалансированной моделью."
      ]
    },
    {
      "cell_type": "markdown",
      "metadata": {
        "id": "Z7zN7H4KokSF"
      },
      "source": [
        "### Случайный лес"
      ]
    },
    {
      "cell_type": "code",
      "execution_count": 64,
      "metadata": {
        "colab": {
          "base_uri": "https://localhost:8080/",
          "height": 153
        },
        "id": "ZobTuWt2okSG",
        "outputId": "2735ff0d-4510-4b24-f924-bcf619d4d877"
      },
      "outputs": [
        {
          "output_type": "stream",
          "name": "stdout",
          "text": [
            "CPU times: user 56 s, sys: 130 ms, total: 56.2 s\n",
            "Wall time: 56.3 s\n"
          ]
        },
        {
          "output_type": "execute_result",
          "data": {
            "text/plain": [
              "RandomizedSearchCV(cv=5, estimator=RandomForestClassifier(random_state=3337),\n",
              "                   param_distributions={'max_depth': range(2, 100),\n",
              "                                        'min_samples_leaf': range(2, 20),\n",
              "                                        'min_samples_split': range(2, 30, 2),\n",
              "                                        'n_estimators': range(2, 150)},\n",
              "                   random_state=3337, scoring='f1')"
            ],
            "text/html": [
              "<style>#sk-container-id-2 {color: black;background-color: white;}#sk-container-id-2 pre{padding: 0;}#sk-container-id-2 div.sk-toggleable {background-color: white;}#sk-container-id-2 label.sk-toggleable__label {cursor: pointer;display: block;width: 100%;margin-bottom: 0;padding: 0.3em;box-sizing: border-box;text-align: center;}#sk-container-id-2 label.sk-toggleable__label-arrow:before {content: \"▸\";float: left;margin-right: 0.25em;color: #696969;}#sk-container-id-2 label.sk-toggleable__label-arrow:hover:before {color: black;}#sk-container-id-2 div.sk-estimator:hover label.sk-toggleable__label-arrow:before {color: black;}#sk-container-id-2 div.sk-toggleable__content {max-height: 0;max-width: 0;overflow: hidden;text-align: left;background-color: #f0f8ff;}#sk-container-id-2 div.sk-toggleable__content pre {margin: 0.2em;color: black;border-radius: 0.25em;background-color: #f0f8ff;}#sk-container-id-2 input.sk-toggleable__control:checked~div.sk-toggleable__content {max-height: 200px;max-width: 100%;overflow: auto;}#sk-container-id-2 input.sk-toggleable__control:checked~label.sk-toggleable__label-arrow:before {content: \"▾\";}#sk-container-id-2 div.sk-estimator input.sk-toggleable__control:checked~label.sk-toggleable__label {background-color: #d4ebff;}#sk-container-id-2 div.sk-label input.sk-toggleable__control:checked~label.sk-toggleable__label {background-color: #d4ebff;}#sk-container-id-2 input.sk-hidden--visually {border: 0;clip: rect(1px 1px 1px 1px);clip: rect(1px, 1px, 1px, 1px);height: 1px;margin: -1px;overflow: hidden;padding: 0;position: absolute;width: 1px;}#sk-container-id-2 div.sk-estimator {font-family: monospace;background-color: #f0f8ff;border: 1px dotted black;border-radius: 0.25em;box-sizing: border-box;margin-bottom: 0.5em;}#sk-container-id-2 div.sk-estimator:hover {background-color: #d4ebff;}#sk-container-id-2 div.sk-parallel-item::after {content: \"\";width: 100%;border-bottom: 1px solid gray;flex-grow: 1;}#sk-container-id-2 div.sk-label:hover label.sk-toggleable__label {background-color: #d4ebff;}#sk-container-id-2 div.sk-serial::before {content: \"\";position: absolute;border-left: 1px solid gray;box-sizing: border-box;top: 0;bottom: 0;left: 50%;z-index: 0;}#sk-container-id-2 div.sk-serial {display: flex;flex-direction: column;align-items: center;background-color: white;padding-right: 0.2em;padding-left: 0.2em;position: relative;}#sk-container-id-2 div.sk-item {position: relative;z-index: 1;}#sk-container-id-2 div.sk-parallel {display: flex;align-items: stretch;justify-content: center;background-color: white;position: relative;}#sk-container-id-2 div.sk-item::before, #sk-container-id-2 div.sk-parallel-item::before {content: \"\";position: absolute;border-left: 1px solid gray;box-sizing: border-box;top: 0;bottom: 0;left: 50%;z-index: -1;}#sk-container-id-2 div.sk-parallel-item {display: flex;flex-direction: column;z-index: 1;position: relative;background-color: white;}#sk-container-id-2 div.sk-parallel-item:first-child::after {align-self: flex-end;width: 50%;}#sk-container-id-2 div.sk-parallel-item:last-child::after {align-self: flex-start;width: 50%;}#sk-container-id-2 div.sk-parallel-item:only-child::after {width: 0;}#sk-container-id-2 div.sk-dashed-wrapped {border: 1px dashed gray;margin: 0 0.4em 0.5em 0.4em;box-sizing: border-box;padding-bottom: 0.4em;background-color: white;}#sk-container-id-2 div.sk-label label {font-family: monospace;font-weight: bold;display: inline-block;line-height: 1.2em;}#sk-container-id-2 div.sk-label-container {text-align: center;}#sk-container-id-2 div.sk-container {/* jupyter's `normalize.less` sets `[hidden] { display: none; }` but bootstrap.min.css set `[hidden] { display: none !important; }` so we also need the `!important` here to be able to override the default hidden behavior on the sphinx rendered scikit-learn.org. See: https://github.com/scikit-learn/scikit-learn/issues/21755 */display: inline-block !important;position: relative;}#sk-container-id-2 div.sk-text-repr-fallback {display: none;}</style><div id=\"sk-container-id-2\" class=\"sk-top-container\"><div class=\"sk-text-repr-fallback\"><pre>RandomizedSearchCV(cv=5, estimator=RandomForestClassifier(random_state=3337),\n",
              "                   param_distributions={&#x27;max_depth&#x27;: range(2, 100),\n",
              "                                        &#x27;min_samples_leaf&#x27;: range(2, 20),\n",
              "                                        &#x27;min_samples_split&#x27;: range(2, 30, 2),\n",
              "                                        &#x27;n_estimators&#x27;: range(2, 150)},\n",
              "                   random_state=3337, scoring=&#x27;f1&#x27;)</pre><b>In a Jupyter environment, please rerun this cell to show the HTML representation or trust the notebook. <br />On GitHub, the HTML representation is unable to render, please try loading this page with nbviewer.org.</b></div><div class=\"sk-container\" hidden><div class=\"sk-item sk-dashed-wrapped\"><div class=\"sk-label-container\"><div class=\"sk-label sk-toggleable\"><input class=\"sk-toggleable__control sk-hidden--visually\" id=\"sk-estimator-id-4\" type=\"checkbox\" ><label for=\"sk-estimator-id-4\" class=\"sk-toggleable__label sk-toggleable__label-arrow\">RandomizedSearchCV</label><div class=\"sk-toggleable__content\"><pre>RandomizedSearchCV(cv=5, estimator=RandomForestClassifier(random_state=3337),\n",
              "                   param_distributions={&#x27;max_depth&#x27;: range(2, 100),\n",
              "                                        &#x27;min_samples_leaf&#x27;: range(2, 20),\n",
              "                                        &#x27;min_samples_split&#x27;: range(2, 30, 2),\n",
              "                                        &#x27;n_estimators&#x27;: range(2, 150)},\n",
              "                   random_state=3337, scoring=&#x27;f1&#x27;)</pre></div></div></div><div class=\"sk-parallel\"><div class=\"sk-parallel-item\"><div class=\"sk-item\"><div class=\"sk-label-container\"><div class=\"sk-label sk-toggleable\"><input class=\"sk-toggleable__control sk-hidden--visually\" id=\"sk-estimator-id-5\" type=\"checkbox\" ><label for=\"sk-estimator-id-5\" class=\"sk-toggleable__label sk-toggleable__label-arrow\">estimator: RandomForestClassifier</label><div class=\"sk-toggleable__content\"><pre>RandomForestClassifier(random_state=3337)</pre></div></div></div><div class=\"sk-serial\"><div class=\"sk-item\"><div class=\"sk-estimator sk-toggleable\"><input class=\"sk-toggleable__control sk-hidden--visually\" id=\"sk-estimator-id-6\" type=\"checkbox\" ><label for=\"sk-estimator-id-6\" class=\"sk-toggleable__label sk-toggleable__label-arrow\">RandomForestClassifier</label><div class=\"sk-toggleable__content\"><pre>RandomForestClassifier(random_state=3337)</pre></div></div></div></div></div></div></div></div></div></div>"
            ]
          },
          "metadata": {},
          "execution_count": 64
        }
      ],
      "source": [
        "%%time\n",
        "model_rf=RandomForestClassifier(random_state=3337)\n",
        "# Задаем диапазоны параметров\n",
        "params = {'max_depth': range (2, 100, 1),\n",
        "          'n_estimators': range (2, 150, 1),\n",
        "          'min_samples_leaf': range (2, 20),\n",
        "          'min_samples_split': range (2, 30, 2)}\n",
        "rs_rf = RandomizedSearchCV(model_rf, params, cv=5, scoring='f1', random_state=3337)\n",
        "rs_rf.fit(features_sm, target_sm)"
      ]
    },
    {
      "cell_type": "code",
      "execution_count": 65,
      "metadata": {
        "colab": {
          "base_uri": "https://localhost:8080/"
        },
        "id": "g_YUABwxokSG",
        "outputId": "684c361c-fb95-4aff-d2cc-884dbfd82169"
      },
      "outputs": [
        {
          "output_type": "stream",
          "name": "stdout",
          "text": [
            "Лучшие параметры модели RF: {'n_estimators': 65, 'min_samples_split': 26, 'min_samples_leaf': 2, 'max_depth': 29}\n"
          ]
        }
      ],
      "source": [
        "print(f'Лучшие параметры модели RF: {rs_rf.best_params_}')"
      ]
    },
    {
      "cell_type": "code",
      "execution_count": 66,
      "metadata": {
        "colab": {
          "base_uri": "https://localhost:8080/"
        },
        "id": "x1ghRO9uokSG",
        "outputId": "6229b239-a908-4716-d4d2-29ee209ffebf"
      },
      "outputs": [
        {
          "output_type": "stream",
          "name": "stdout",
          "text": [
            "F1 модели RF: 0.8660308930049834\n"
          ]
        }
      ],
      "source": [
        "print(f'F1 модели RF: {rs_rf.best_score_}')"
      ]
    },
    {
      "cell_type": "code",
      "execution_count": 67,
      "metadata": {
        "id": "EkIqmmREokSG"
      },
      "outputs": [],
      "source": [
        "f1_list.append(rs_rf.best_score_)\n",
        "model_list.append('Random Forest Balanced')"
      ]
    },
    {
      "cell_type": "code",
      "execution_count": 68,
      "metadata": {
        "colab": {
          "base_uri": "https://localhost:8080/"
        },
        "id": "6tdDZzL4okSG",
        "outputId": "403d4f8f-0eca-4326-f0f4-66a8b32539c4"
      },
      "outputs": [
        {
          "output_type": "execute_result",
          "data": {
            "text/plain": [
              "0.9872570557003023"
            ]
          },
          "metadata": {},
          "execution_count": 68
        }
      ],
      "source": [
        "auc_roc_rf = auc_roc(features_sm, target_sm, rs_rf)\n",
        "auc_roc_rf"
      ]
    },
    {
      "cell_type": "code",
      "execution_count": 69,
      "metadata": {
        "id": "MtaO6CoEokSH"
      },
      "outputs": [],
      "source": [
        "auc_roc_list.append(auc_roc_rf)"
      ]
    },
    {
      "cell_type": "code",
      "execution_count": 70,
      "metadata": {
        "colab": {
          "base_uri": "https://localhost:8080/",
          "height": 472
        },
        "id": "maRVq6zYokSH",
        "outputId": "4e2567aa-24bd-497e-a73b-4e900dc398f4"
      },
      "outputs": [
        {
          "output_type": "display_data",
          "data": {
            "text/plain": [
              "<Figure size 640x480 with 1 Axes>"
            ],
            "image/png": "[encoded data removed]"
          },
          "metadata": {}
        }
      ],
      "source": [
        "make_roc_curve(features_sm, target_sm, rs_rf)"
      ]
    },
    {
      "cell_type": "markdown",
      "metadata": {
        "id": "A9fHnxfNokSH"
      },
      "source": [
        "По сравнению с моделью на несбалансированных данных все метрики значительно повысились."
      ]
    },
    {
      "cell_type": "markdown",
      "metadata": {
        "id": "cVsxe3g4okSH"
      },
      "source": [
        "### Обобщение метрик"
      ]
    },
    {
      "cell_type": "code",
      "execution_count": 76,
      "metadata": {
        "colab": {
          "base_uri": "https://localhost:8080/",
          "height": 237
        },
        "id": "ZqV2o2bsokSH",
        "outputId": "fb4f2897-5a51-46e9-9170-5e4dc81d8929"
      },
      "outputs": [
        {
          "output_type": "execute_result",
          "data": {
            "text/plain": [
              "index                                 f1   auc_roc\n",
              "Logistic Regression Unbalanced  0.322936  0.760304\n",
              "Decision Tree Unbalanced        0.533123  0.672959\n",
              "Random Forest Unbalanced        0.525452  0.815994\n",
              "Logistic Regression Balanced    0.477586  0.765209\n",
              "Decision Tree Balanced          0.847892  0.974487\n",
              "Random Forest Balanced          0.866031  0.987257"
            ],
            "text/html": [
              "\n",
              "  <div id=\"df-40737f4b-c668-4a90-bc64-4dca786ea398\">\n",
              "    <div class=\"colab-df-container\">\n",
              "      <div>\n",
              "<style scoped>\n",
              "    .dataframe tbody tr th:only-of-type {\n",
              "        vertical-align: middle;\n",
              "    }\n",
              "\n",
              "    .dataframe tbody tr th {\n",
              "        vertical-align: top;\n",
              "    }\n",
              "\n",
              "    .dataframe thead th {\n",
              "        text-align: right;\n",
              "    }\n",
              "</style>\n",
              "<table border=\"1\" class=\"dataframe\">\n",
              "  <thead>\n",
              "    <tr style=\"text-align: right;\">\n",
              "      <th>index</th>\n",
              "      <th>f1</th>\n",
              "      <th>auc_roc</th>\n",
              "    </tr>\n",
              "  </thead>\n",
              "  <tbody>\n",
              "    <tr>\n",
              "      <th>Logistic Regression Unbalanced</th>\n",
              "      <td>0.322936</td>\n",
              "      <td>0.760304</td>\n",
              "    </tr>\n",
              "    <tr>\n",
              "      <th>Decision Tree Unbalanced</th>\n",
              "      <td>0.533123</td>\n",
              "      <td>0.672959</td>\n",
              "    </tr>\n",
              "    <tr>\n",
              "      <th>Random Forest Unbalanced</th>\n",
              "      <td>0.525452</td>\n",
              "      <td>0.815994</td>\n",
              "    </tr>\n",
              "    <tr>\n",
              "      <th>Logistic Regression Balanced</th>\n",
              "      <td>0.477586</td>\n",
              "      <td>0.765209</td>\n",
              "    </tr>\n",
              "    <tr>\n",
              "      <th>Decision Tree Balanced</th>\n",
              "      <td>0.847892</td>\n",
              "      <td>0.974487</td>\n",
              "    </tr>\n",
              "    <tr>\n",
              "      <th>Random Forest Balanced</th>\n",
              "      <td>0.866031</td>\n",
              "      <td>0.987257</td>\n",
              "    </tr>\n",
              "  </tbody>\n",
              "</table>\n",
              "</div>\n",
              "      <button class=\"colab-df-convert\" onclick=\"convertToInteractive('df-40737f4b-c668-4a90-bc64-4dca786ea398')\"\n",
              "              title=\"Convert this dataframe to an interactive table.\"\n",
              "              style=\"display:none;\">\n",
              "        \n",
              "  <svg xmlns=\"http://www.w3.org/2000/svg\" height=\"24px\"viewBox=\"0 0 24 24\"\n",
              "       width=\"24px\">\n",
              "    <path d=\"M0 0h24v24H0V0z\" fill=\"none\"/>\n",
              "    <path d=\"M18.56 5.44l.94 2.06.94-2.06 2.06-.94-2.06-.94-.94-2.06-.94 2.06-2.06.94zm-11 1L8.5 8.5l.94-2.06 2.06-.94-2.06-.94L8.5 2.5l-.94 2.06-2.06.94zm10 10l.94 2.06.94-2.06 2.06-.94-2.06-.94-.94-2.06-.94 2.06-2.06.94z\"/><path d=\"M17.41 7.96l-1.37-1.37c-.4-.4-.92-.59-1.43-.59-.52 0-1.04.2-1.43.59L10.3 9.45l-7.72 7.72c-.78.78-.78 2.05 0 2.83L4 21.41c.39.39.9.59 1.41.59.51 0 1.02-.2 1.41-.59l7.78-7.78 2.81-2.81c.8-.78.8-2.07 0-2.86zM5.41 20L4 18.59l7.72-7.72 1.47 1.35L5.41 20z\"/>\n",
              "  </svg>\n",
              "      </button>\n",
              "      \n",
              "  <style>\n",
              "    .colab-df-container {\n",
              "      display:flex;\n",
              "      flex-wrap:wrap;\n",
              "      gap: 12px;\n",
              "    }\n",
              "\n",
              "    .colab-df-convert {\n",
              "      background-color: #E8F0FE;\n",
              "      border: none;\n",
              "      border-radius: 50%;\n",
              "      cursor: pointer;\n",
              "      display: none;\n",
              "      fill: #1967D2;\n",
              "      height: 32px;\n",
              "      padding: 0 0 0 0;\n",
              "      width: 32px;\n",
              "    }\n",
              "\n",
              "    .colab-df-convert:hover {\n",
              "      background-color: #E2EBFA;\n",
              "      box-shadow: 0px 1px 2px rgba(60, 64, 67, 0.3), 0px 1px 3px 1px rgba(60, 64, 67, 0.15);\n",
              "      fill: #174EA6;\n",
              "    }\n",
              "\n",
              "    [theme=dark] .colab-df-convert {\n",
              "      background-color: #3B4455;\n",
              "      fill: #D2E3FC;\n",
              "    }\n",
              "\n",
              "    [theme=dark] .colab-df-convert:hover {\n",
              "      background-color: #434B5C;\n",
              "      box-shadow: 0px 1px 3px 1px rgba(0, 0, 0, 0.15);\n",
              "      filter: drop-shadow(0px 1px 2px rgba(0, 0, 0, 0.3));\n",
              "      fill: #FFFFFF;\n",
              "    }\n",
              "  </style>\n",
              "\n",
              "      <script>\n",
              "        const buttonEl =\n",
              "          document.querySelector('#df-40737f4b-c668-4a90-bc64-4dca786ea398 button.colab-df-convert');\n",
              "        buttonEl.style.display =\n",
              "          google.colab.kernel.accessAllowed ? 'block' : 'none';\n",
              "\n",
              "        async function convertToInteractive(key) {\n",
              "          const element = document.querySelector('#df-40737f4b-c668-4a90-bc64-4dca786ea398');\n",
              "          const dataTable =\n",
              "            await google.colab.kernel.invokeFunction('convertToInteractive',\n",
              "                                                     [key], {});\n",
              "          if (!dataTable) return;\n",
              "\n",
              "          const docLinkHtml = 'Like what you see? Visit the ' +\n",
              "            '<a target=\"_blank\" href=https://colab.research.google.com/notebooks/data_table.ipynb>data table notebook</a>'\n",
              "            + ' to learn more about interactive tables.';\n",
              "          element.innerHTML = '';\n",
              "          dataTable['output_type'] = 'display_data';\n",
              "          await google.colab.output.renderOutput(dataTable, element);\n",
              "          const docLink = document.createElement('div');\n",
              "          docLink.innerHTML = docLinkHtml;\n",
              "          element.appendChild(docLink);\n",
              "        }\n",
              "      </script>\n",
              "    </div>\n",
              "  </div>\n",
              "  "
            ]
          },
          "metadata": {},
          "execution_count": 76
        }
      ],
      "source": [
        "report = pd.DataFrame(columns=model_list, data=[f1_list, auc_roc_list]).reset_index()\n",
        "report.loc[0, 'index']='f1'\n",
        "report.loc[1, 'index']='auc_roc'\n",
        "report.set_index('index', inplace=True)\n",
        "\n",
        "report.T"
      ]
    },
    {
      "cell_type": "markdown",
      "metadata": {
        "id": "DrIoSjK1okSI"
      },
      "source": [
        "Метрика F1 после балансировки данных у всех моделей повысились."
      ]
    },
    {
      "cell_type": "markdown",
      "metadata": {
        "id": "y3rSdE6fokSI"
      },
      "source": [
        "### Вывод по разделу"
      ]
    },
    {
      "cell_type": "markdown",
      "metadata": {
        "id": "bvLGIRiSokSI"
      },
      "source": [
        "1. Для модели логистической регрессии наилучший результат показала модель с балансировкой данных через присвоение большего веса меньшему по численности классу.\n",
        "2. У модели решающего дерева и случайного леса для балансировки данных была использована функция SMOTE. После этого оптимальные параметры подбирались в RandomizedSearchCV. Наилучшие метрики после балансировки данных показала модель случайного леса, ее мы будем использовать на тестировании.\n",
        "3. После проведения балансировки данных метрики всех моделей значительно повысились по сравнению с моделями, обученными на несбалансированных данных."
      ]
    },
    {
      "cell_type": "markdown",
      "metadata": {
        "id": "p2E8amPcokSJ"
      },
      "source": [
        "## Тестирование модели"
      ]
    },
    {
      "cell_type": "markdown",
      "metadata": {
        "id": "kCjvrcHaokSJ"
      },
      "source": [
        "На предыдущем этапе проекта мы подобрали наилучшую модель, показавшую достаточно высокие метрики F1 и AUC-ROC на сбалансированных обучающих данных. Протестируем эту модель и посмотрим на показатели."
      ]
    },
    {
      "cell_type": "code",
      "execution_count": 73,
      "metadata": {
        "colab": {
          "base_uri": "https://localhost:8080/"
        },
        "id": "1AQlp2XVokSJ",
        "outputId": "f036fb84-84be-44f8-a16d-c33982f5e0ce"
      },
      "outputs": [
        {
          "output_type": "stream",
          "name": "stdout",
          "text": [
            "F1 лучшей модели (RF) на тестовой выборке: 0.5964391691394659\n"
          ]
        }
      ],
      "source": [
        "print(f'F1 лучшей модели (RF) на тестовой выборке: {f1_score(target_test, rs_rf.predict(features_test_ordinal))}')"
      ]
    },
    {
      "cell_type": "markdown",
      "metadata": {
        "id": "y2Ok7AX3okSJ"
      },
      "source": [
        "У нас получилось добиться целевого показателя F1 на тестовой выборке. Посмотрим на остальные метрики."
      ]
    },
    {
      "cell_type": "code",
      "execution_count": 74,
      "metadata": {
        "colab": {
          "base_uri": "https://localhost:8080/"
        },
        "id": "_iItL62CokSK",
        "outputId": "59a50e2c-f574-4ae9-d256-77586ed4ffcf"
      },
      "outputs": [
        {
          "output_type": "stream",
          "name": "stdout",
          "text": [
            "AUC-ROC лучшей модели (RF) на тестовой выборке: 0.8465345227015295\n"
          ]
        }
      ],
      "source": [
        "print(f'AUC-ROC лучшей модели (RF) на тестовой выборке: {auc_roc(features_test_ordinal, target_test, rs_rf)}')"
      ]
    },
    {
      "cell_type": "code",
      "execution_count": 75,
      "metadata": {
        "colab": {
          "base_uri": "https://localhost:8080/",
          "height": 472
        },
        "id": "3c8XjzpcokSK",
        "outputId": "ce31e12e-9043-4e35-ca62-f2d24f02f4fb"
      },
      "outputs": [
        {
          "output_type": "display_data",
          "data": {
            "text/plain": [
              "<Figure size 640x480 with 1 Axes>"
            ],
            "image/png": "[encoded data removed]"
          },
          "metadata": {}
        }
      ],
      "source": [
        "make_roc_curve(features_test_ordinal, target_test, rs_rf)"
      ]
    },
    {
      "cell_type": "markdown",
      "metadata": {
        "id": "VAoEBNDnokSK"
      },
      "source": [
        "Как видно на ROC-кривой, предсказания нашей модели значительно отличаются от константной."
      ]
    },
    {
      "cell_type": "markdown",
      "metadata": {
        "id": "b_SIOM4jokSL"
      },
      "source": [
        "## Вывод по проекту\n",
        "\n",
        "В этом исследовании мы попробовали решить задачу классификации на несбалансированных данных. В целевом признаке (`exited`: 1 - клиент уйдет, 0 - клиент останется) имелся дисбаланс (примерно 2 к 8).\n",
        "\n",
        "Сначала модели логистической регрессии, решающего дерева и случайного леса были обучены на данных без учета этого дисбаланса. При этом целевого значения метрики F1 на валидационной выборке добиться не удалось.\n",
        "\n",
        "Мы использовали несколько способов устранения дисбаланса.\n",
        "\n",
        "1. Для модели логистической регрессии наилучший результат показала модель с балансировкой данных через присвоение большего веса меньшему по численности классу.\n",
        "2. У модели решающего дерева и случайного леса для балансировки данных была использована функция SMOTE. После этого оптимальные параметры подбирались в RandomizedSearchCV. Наилучшие метрики после балансировки данных показала модель случайного леса.\n",
        "3. После проведения балансировки данных метрики всех моделей значительно повысились по сравнению с моделями, обученными на несбалансированных данных.\n",
        "\n",
        "Мы провели тестирование лучшей модели и получили значение 0.59 для метрики F1 на тестовой выборке."
      ]
    }
  ],
  "metadata": {
    "ExecuteTimeLog": [
      {
        "duration": 412,
        "start_time": "2022-12-04T09:05:51.844Z"
      },
      {
        "duration": 92,
        "start_time": "2022-12-04T09:06:02.647Z"
      },
      {
        "duration": 29,
        "start_time": "2022-12-04T09:06:12.444Z"
      },
      {
        "duration": 6,
        "start_time": "2022-12-04T09:06:35.005Z"
      },
      {
        "duration": 3,
        "start_time": "2022-12-04T09:07:43.520Z"
      },
      {
        "duration": 5,
        "start_time": "2022-12-04T09:07:52.272Z"
      },
      {
        "duration": 5,
        "start_time": "2022-12-04T09:08:34.980Z"
      },
      {
        "duration": 8,
        "start_time": "2022-12-04T09:08:50.680Z"
      },
      {
        "duration": 71,
        "start_time": "2022-12-04T09:09:13.331Z"
      },
      {
        "duration": 23,
        "start_time": "2022-12-04T09:09:22.690Z"
      },
      {
        "duration": 968,
        "start_time": "2022-12-04T09:09:36.883Z"
      },
      {
        "duration": 74,
        "start_time": "2022-12-04T09:10:09.788Z"
      },
      {
        "duration": 507,
        "start_time": "2022-12-04T09:10:16.571Z"
      },
      {
        "duration": 118,
        "start_time": "2022-12-04T09:10:30.585Z"
      },
      {
        "duration": 425,
        "start_time": "2022-12-04T09:10:41.673Z"
      },
      {
        "duration": 436,
        "start_time": "2022-12-04T09:10:47.684Z"
      },
      {
        "duration": 395,
        "start_time": "2022-12-04T09:10:53.028Z"
      },
      {
        "duration": 406,
        "start_time": "2022-12-04T09:11:07.295Z"
      },
      {
        "duration": 389,
        "start_time": "2022-12-04T09:11:16.753Z"
      },
      {
        "duration": 3,
        "start_time": "2022-12-04T09:11:35.421Z"
      },
      {
        "duration": 463,
        "start_time": "2022-12-04T09:11:44.379Z"
      },
      {
        "duration": 462,
        "start_time": "2022-12-04T09:12:04.952Z"
      },
      {
        "duration": 485,
        "start_time": "2022-12-04T09:12:11.503Z"
      },
      {
        "duration": 6,
        "start_time": "2022-12-04T09:13:58.576Z"
      },
      {
        "duration": 6,
        "start_time": "2022-12-04T09:14:07.374Z"
      },
      {
        "duration": 6,
        "start_time": "2022-12-04T09:14:25.130Z"
      },
      {
        "duration": 6,
        "start_time": "2022-12-04T09:14:29.500Z"
      },
      {
        "duration": 6,
        "start_time": "2022-12-04T09:14:44.638Z"
      },
      {
        "duration": 5,
        "start_time": "2022-12-04T09:14:49.242Z"
      },
      {
        "duration": 6,
        "start_time": "2022-12-04T09:15:04.128Z"
      },
      {
        "duration": 10,
        "start_time": "2022-12-04T09:15:13.508Z"
      },
      {
        "duration": 8,
        "start_time": "2022-12-04T09:15:22.085Z"
      },
      {
        "duration": 8,
        "start_time": "2022-12-04T09:15:41.647Z"
      },
      {
        "duration": 5,
        "start_time": "2022-12-04T09:15:45.780Z"
      },
      {
        "duration": 26,
        "start_time": "2022-12-04T09:16:04.981Z"
      },
      {
        "duration": 16,
        "start_time": "2022-12-04T09:16:10.239Z"
      },
      {
        "duration": 20,
        "start_time": "2022-12-04T09:16:13.676Z"
      },
      {
        "duration": 13,
        "start_time": "2022-12-04T09:16:17.053Z"
      },
      {
        "duration": 14,
        "start_time": "2022-12-04T09:16:20.851Z"
      },
      {
        "duration": 13,
        "start_time": "2022-12-04T09:16:24.667Z"
      },
      {
        "duration": 9,
        "start_time": "2022-12-04T09:16:33.193Z"
      },
      {
        "duration": 8,
        "start_time": "2022-12-04T09:16:44.573Z"
      },
      {
        "duration": 25,
        "start_time": "2022-12-04T09:16:55.751Z"
      },
      {
        "duration": 11,
        "start_time": "2022-12-04T09:16:59.446Z"
      },
      {
        "duration": 9,
        "start_time": "2022-12-04T09:17:05.588Z"
      },
      {
        "duration": 9,
        "start_time": "2022-12-04T09:17:18.547Z"
      },
      {
        "duration": 8,
        "start_time": "2022-12-04T09:17:22.295Z"
      },
      {
        "duration": 8,
        "start_time": "2022-12-04T09:18:15.939Z"
      },
      {
        "duration": 9,
        "start_time": "2022-12-04T09:18:18.608Z"
      },
      {
        "duration": 7,
        "start_time": "2022-12-04T09:18:31.251Z"
      },
      {
        "duration": 12,
        "start_time": "2022-12-04T09:18:37.063Z"
      },
      {
        "duration": 7,
        "start_time": "2022-12-04T09:18:42.671Z"
      },
      {
        "duration": 5,
        "start_time": "2022-12-04T09:18:52.605Z"
      },
      {
        "duration": 10,
        "start_time": "2022-12-04T09:18:56.338Z"
      },
      {
        "duration": 8,
        "start_time": "2022-12-04T09:19:15.729Z"
      },
      {
        "duration": 8,
        "start_time": "2022-12-04T09:19:19.182Z"
      },
      {
        "duration": 10,
        "start_time": "2022-12-04T09:19:30.780Z"
      },
      {
        "duration": 7,
        "start_time": "2022-12-04T09:19:36.689Z"
      },
      {
        "duration": 870,
        "start_time": "2022-12-04T09:19:49.208Z"
      },
      {
        "duration": 1657,
        "start_time": "2022-12-04T09:20:09.370Z"
      },
      {
        "duration": 7,
        "start_time": "2022-12-04T09:20:56.193Z"
      },
      {
        "duration": 11,
        "start_time": "2022-12-04T09:21:09.105Z"
      },
      {
        "duration": 8,
        "start_time": "2022-12-04T09:21:11.378Z"
      },
      {
        "duration": 9,
        "start_time": "2022-12-04T09:22:11.977Z"
      },
      {
        "duration": 10,
        "start_time": "2022-12-04T09:22:24.397Z"
      },
      {
        "duration": 10,
        "start_time": "2022-12-04T09:22:29.036Z"
      },
      {
        "duration": 9,
        "start_time": "2022-12-04T09:22:31.880Z"
      },
      {
        "duration": 8,
        "start_time": "2022-12-04T09:22:34.684Z"
      },
      {
        "duration": 9,
        "start_time": "2022-12-04T09:22:37.971Z"
      },
      {
        "duration": 9,
        "start_time": "2022-12-04T09:22:43.399Z"
      },
      {
        "duration": 11,
        "start_time": "2022-12-04T09:22:46.375Z"
      },
      {
        "duration": 10,
        "start_time": "2022-12-04T09:22:48.443Z"
      },
      {
        "duration": 10,
        "start_time": "2022-12-04T09:22:53.984Z"
      },
      {
        "duration": 9,
        "start_time": "2022-12-04T09:22:56.913Z"
      },
      {
        "duration": 22,
        "start_time": "2022-12-04T09:23:13.590Z"
      },
      {
        "duration": 4,
        "start_time": "2022-12-04T09:23:57.348Z"
      },
      {
        "duration": 8,
        "start_time": "2022-12-04T09:26:16.983Z"
      },
      {
        "duration": 11,
        "start_time": "2022-12-04T09:26:28.727Z"
      },
      {
        "duration": 22,
        "start_time": "2022-12-04T09:26:46.289Z"
      },
      {
        "duration": 7,
        "start_time": "2022-12-04T09:27:51.008Z"
      },
      {
        "duration": 185,
        "start_time": "2022-12-04T09:28:12.014Z"
      },
      {
        "duration": 8,
        "start_time": "2022-12-04T09:43:48.162Z"
      },
      {
        "duration": 3,
        "start_time": "2022-12-04T10:47:08.586Z"
      },
      {
        "duration": 39,
        "start_time": "2022-12-04T10:47:24.584Z"
      },
      {
        "duration": 14,
        "start_time": "2022-12-04T10:47:46.858Z"
      },
      {
        "duration": 4,
        "start_time": "2022-12-04T10:49:22.339Z"
      },
      {
        "duration": 4,
        "start_time": "2022-12-04T10:51:39.340Z"
      },
      {
        "duration": 5,
        "start_time": "2022-12-04T10:51:41.871Z"
      },
      {
        "duration": 5,
        "start_time": "2022-12-04T10:51:48.443Z"
      },
      {
        "duration": 7,
        "start_time": "2022-12-04T10:51:55.168Z"
      },
      {
        "duration": 12,
        "start_time": "2022-12-04T10:52:13.723Z"
      },
      {
        "duration": 12,
        "start_time": "2022-12-04T10:52:17.279Z"
      },
      {
        "duration": 6,
        "start_time": "2022-12-04T10:52:21.351Z"
      },
      {
        "duration": 13,
        "start_time": "2022-12-04T10:52:23.918Z"
      },
      {
        "duration": 1262,
        "start_time": "2022-12-04T10:52:39.224Z"
      },
      {
        "duration": 42,
        "start_time": "2022-12-04T10:52:40.488Z"
      },
      {
        "duration": 18,
        "start_time": "2022-12-04T10:52:40.532Z"
      },
      {
        "duration": 4,
        "start_time": "2022-12-04T10:52:40.553Z"
      },
      {
        "duration": 20,
        "start_time": "2022-12-04T10:52:40.559Z"
      },
      {
        "duration": 19,
        "start_time": "2022-12-04T10:52:40.581Z"
      },
      {
        "duration": 1676,
        "start_time": "2022-12-04T10:52:40.612Z"
      },
      {
        "duration": 9,
        "start_time": "2022-12-04T10:52:42.290Z"
      },
      {
        "duration": 9,
        "start_time": "2022-12-04T10:52:42.300Z"
      },
      {
        "duration": 154,
        "start_time": "2022-12-04T10:52:42.312Z"
      },
      {
        "duration": 6,
        "start_time": "2022-12-04T10:55:09.273Z"
      },
      {
        "duration": 3,
        "start_time": "2022-12-04T10:55:35.512Z"
      },
      {
        "duration": 7,
        "start_time": "2022-12-04T10:57:17.112Z"
      },
      {
        "duration": 5,
        "start_time": "2022-12-04T10:58:41.033Z"
      },
      {
        "duration": 4,
        "start_time": "2022-12-04T10:59:49.560Z"
      },
      {
        "duration": 13,
        "start_time": "2022-12-04T11:01:19.752Z"
      },
      {
        "duration": 14,
        "start_time": "2022-12-04T11:01:24.632Z"
      },
      {
        "duration": 53,
        "start_time": "2022-12-04T11:01:27.712Z"
      },
      {
        "duration": 20,
        "start_time": "2022-12-04T11:01:29.703Z"
      },
      {
        "duration": 7,
        "start_time": "2022-12-04T11:01:42.515Z"
      },
      {
        "duration": 8,
        "start_time": "2022-12-04T11:02:46.473Z"
      },
      {
        "duration": 4,
        "start_time": "2022-12-04T11:02:58.312Z"
      },
      {
        "duration": 5,
        "start_time": "2022-12-04T11:03:13.002Z"
      },
      {
        "duration": 335,
        "start_time": "2022-12-04T11:12:41.569Z"
      },
      {
        "duration": 126,
        "start_time": "2022-12-04T11:12:56.792Z"
      },
      {
        "duration": 3,
        "start_time": "2022-12-04T11:13:02.616Z"
      },
      {
        "duration": 3,
        "start_time": "2022-12-04T11:13:04.000Z"
      },
      {
        "duration": 134,
        "start_time": "2022-12-04T11:13:48.633Z"
      },
      {
        "duration": 5,
        "start_time": "2022-12-04T11:14:14.640Z"
      },
      {
        "duration": 3,
        "start_time": "2022-12-04T11:15:03.640Z"
      },
      {
        "duration": 5,
        "start_time": "2022-12-04T11:16:26.834Z"
      },
      {
        "duration": 6,
        "start_time": "2022-12-04T11:17:20.953Z"
      },
      {
        "duration": 6,
        "start_time": "2022-12-04T11:17:30.663Z"
      },
      {
        "duration": 5,
        "start_time": "2022-12-04T11:21:12.073Z"
      },
      {
        "duration": 5,
        "start_time": "2022-12-04T11:21:24.032Z"
      },
      {
        "duration": 9,
        "start_time": "2022-12-04T11:26:20.810Z"
      },
      {
        "duration": 12,
        "start_time": "2022-12-04T11:28:14.074Z"
      },
      {
        "duration": 1710,
        "start_time": "2022-12-05T08:26:45.354Z"
      },
      {
        "duration": 162,
        "start_time": "2022-12-05T08:26:47.066Z"
      },
      {
        "duration": 19,
        "start_time": "2022-12-05T08:26:47.230Z"
      },
      {
        "duration": 5,
        "start_time": "2022-12-05T08:26:47.250Z"
      },
      {
        "duration": 8,
        "start_time": "2022-12-05T08:26:47.257Z"
      },
      {
        "duration": 19,
        "start_time": "2022-12-05T08:26:47.267Z"
      },
      {
        "duration": 4,
        "start_time": "2022-12-05T08:26:47.288Z"
      },
      {
        "duration": 1707,
        "start_time": "2022-12-05T08:26:47.293Z"
      },
      {
        "duration": 8,
        "start_time": "2022-12-05T08:26:49.002Z"
      },
      {
        "duration": 5,
        "start_time": "2022-12-05T08:26:49.012Z"
      },
      {
        "duration": 7,
        "start_time": "2022-12-05T08:26:49.018Z"
      },
      {
        "duration": 9,
        "start_time": "2022-12-05T08:26:49.027Z"
      },
      {
        "duration": 14,
        "start_time": "2022-12-05T08:26:49.039Z"
      },
      {
        "duration": 164,
        "start_time": "2022-12-05T08:26:49.056Z"
      },
      {
        "duration": 6,
        "start_time": "2022-12-05T08:26:49.222Z"
      },
      {
        "duration": 9,
        "start_time": "2022-12-05T08:26:49.229Z"
      },
      {
        "duration": 14,
        "start_time": "2022-12-05T08:26:49.240Z"
      },
      {
        "duration": 128,
        "start_time": "2022-12-05T08:29:06.486Z"
      },
      {
        "duration": 32,
        "start_time": "2022-12-05T08:30:35.279Z"
      },
      {
        "duration": 35,
        "start_time": "2022-12-05T08:30:52.593Z"
      },
      {
        "duration": 10,
        "start_time": "2022-12-05T08:31:11.929Z"
      },
      {
        "duration": 14,
        "start_time": "2022-12-05T08:31:33.361Z"
      },
      {
        "duration": 30,
        "start_time": "2022-12-05T08:31:34.868Z"
      },
      {
        "duration": 18,
        "start_time": "2022-12-05T08:31:48.446Z"
      },
      {
        "duration": 216,
        "start_time": "2022-12-05T08:31:52.867Z"
      },
      {
        "duration": 107,
        "start_time": "2022-12-05T08:32:13.682Z"
      },
      {
        "duration": 114,
        "start_time": "2022-12-05T08:32:30.364Z"
      },
      {
        "duration": 88,
        "start_time": "2022-12-05T08:32:46.994Z"
      },
      {
        "duration": 123,
        "start_time": "2022-12-05T08:33:00.856Z"
      },
      {
        "duration": 6,
        "start_time": "2022-12-05T08:33:48.510Z"
      },
      {
        "duration": 4,
        "start_time": "2022-12-05T08:34:03.433Z"
      },
      {
        "duration": 75,
        "start_time": "2022-12-05T08:34:03.439Z"
      },
      {
        "duration": 12,
        "start_time": "2022-12-05T08:34:03.516Z"
      },
      {
        "duration": 30,
        "start_time": "2022-12-05T08:34:03.530Z"
      },
      {
        "duration": 38,
        "start_time": "2022-12-05T08:34:03.562Z"
      },
      {
        "duration": 29,
        "start_time": "2022-12-05T08:34:03.602Z"
      },
      {
        "duration": 8,
        "start_time": "2022-12-05T08:34:03.632Z"
      },
      {
        "duration": 1584,
        "start_time": "2022-12-05T08:34:03.642Z"
      },
      {
        "duration": 6,
        "start_time": "2022-12-05T08:34:05.228Z"
      },
      {
        "duration": 13,
        "start_time": "2022-12-05T08:34:05.236Z"
      },
      {
        "duration": 14,
        "start_time": "2022-12-05T08:34:05.251Z"
      },
      {
        "duration": 14,
        "start_time": "2022-12-05T08:34:05.266Z"
      },
      {
        "duration": 10,
        "start_time": "2022-12-05T08:34:05.282Z"
      },
      {
        "duration": 146,
        "start_time": "2022-12-05T08:34:05.294Z"
      },
      {
        "duration": 5,
        "start_time": "2022-12-05T08:34:05.443Z"
      },
      {
        "duration": 9,
        "start_time": "2022-12-05T08:34:05.450Z"
      },
      {
        "duration": 6,
        "start_time": "2022-12-05T08:34:23.662Z"
      },
      {
        "duration": 1409,
        "start_time": "2022-12-05T08:34:41.049Z"
      },
      {
        "duration": 43,
        "start_time": "2022-12-05T08:34:42.461Z"
      },
      {
        "duration": 19,
        "start_time": "2022-12-05T08:34:42.506Z"
      },
      {
        "duration": 4,
        "start_time": "2022-12-05T08:34:42.527Z"
      },
      {
        "duration": 9,
        "start_time": "2022-12-05T08:34:42.534Z"
      },
      {
        "duration": 20,
        "start_time": "2022-12-05T08:34:42.545Z"
      },
      {
        "duration": 12,
        "start_time": "2022-12-05T08:34:42.567Z"
      },
      {
        "duration": 1775,
        "start_time": "2022-12-05T08:34:42.581Z"
      },
      {
        "duration": 11,
        "start_time": "2022-12-05T08:34:44.359Z"
      },
      {
        "duration": 19,
        "start_time": "2022-12-05T08:34:44.372Z"
      },
      {
        "duration": 7,
        "start_time": "2022-12-05T08:34:44.393Z"
      },
      {
        "duration": 13,
        "start_time": "2022-12-05T08:34:44.403Z"
      },
      {
        "duration": 9,
        "start_time": "2022-12-05T08:34:44.418Z"
      },
      {
        "duration": 209,
        "start_time": "2022-12-05T08:34:44.430Z"
      },
      {
        "duration": 6,
        "start_time": "2022-12-05T08:34:44.640Z"
      },
      {
        "duration": 9,
        "start_time": "2022-12-05T08:34:44.648Z"
      },
      {
        "duration": 5,
        "start_time": "2022-12-05T08:34:44.677Z"
      },
      {
        "duration": 11,
        "start_time": "2022-12-05T08:34:44.684Z"
      },
      {
        "duration": 130,
        "start_time": "2022-12-05T08:34:44.697Z"
      },
      {
        "duration": 5,
        "start_time": "2022-12-05T08:36:52.412Z"
      },
      {
        "duration": 15,
        "start_time": "2022-12-05T08:37:46.660Z"
      },
      {
        "duration": 5,
        "start_time": "2022-12-05T08:38:44.640Z"
      },
      {
        "duration": 9,
        "start_time": "2022-12-05T08:38:56.305Z"
      },
      {
        "duration": 9,
        "start_time": "2022-12-05T08:39:05.980Z"
      },
      {
        "duration": 38,
        "start_time": "2022-12-05T08:39:33.497Z"
      },
      {
        "duration": 78,
        "start_time": "2022-12-05T10:26:33.431Z"
      },
      {
        "duration": 7,
        "start_time": "2022-12-05T10:27:22.723Z"
      },
      {
        "duration": 12,
        "start_time": "2022-12-05T10:27:28.194Z"
      },
      {
        "duration": 11,
        "start_time": "2022-12-05T10:28:12.950Z"
      },
      {
        "duration": 875,
        "start_time": "2022-12-05T10:28:30.811Z"
      },
      {
        "duration": 813,
        "start_time": "2022-12-05T10:29:02.654Z"
      },
      {
        "duration": 933,
        "start_time": "2022-12-05T10:32:42.592Z"
      },
      {
        "duration": 1984,
        "start_time": "2022-12-05T10:52:26.521Z"
      },
      {
        "duration": 1992,
        "start_time": "2022-12-05T10:53:22.213Z"
      },
      {
        "duration": 1955,
        "start_time": "2022-12-05T10:53:39.726Z"
      },
      {
        "duration": 2184,
        "start_time": "2022-12-05T10:59:05.285Z"
      },
      {
        "duration": 127,
        "start_time": "2022-12-05T10:59:32.121Z"
      },
      {
        "duration": 271,
        "start_time": "2022-12-05T11:00:49.381Z"
      },
      {
        "duration": 164,
        "start_time": "2022-12-05T11:01:03.810Z"
      },
      {
        "duration": 140,
        "start_time": "2022-12-05T11:01:19.300Z"
      },
      {
        "duration": 148,
        "start_time": "2022-12-05T11:01:32.178Z"
      },
      {
        "duration": 162,
        "start_time": "2022-12-05T11:01:37.538Z"
      },
      {
        "duration": 207,
        "start_time": "2022-12-05T11:01:50.925Z"
      },
      {
        "duration": 153,
        "start_time": "2022-12-05T11:02:21.040Z"
      },
      {
        "duration": 13,
        "start_time": "2022-12-05T11:02:40.739Z"
      },
      {
        "duration": 197,
        "start_time": "2022-12-05T11:03:34.861Z"
      },
      {
        "duration": 148,
        "start_time": "2022-12-05T11:03:39.776Z"
      },
      {
        "duration": 11,
        "start_time": "2022-12-05T11:04:35.115Z"
      },
      {
        "duration": 281,
        "start_time": "2022-12-05T11:04:42.432Z"
      },
      {
        "duration": 148,
        "start_time": "2022-12-05T11:04:48.836Z"
      },
      {
        "duration": 123,
        "start_time": "2022-12-05T11:05:01.373Z"
      },
      {
        "duration": 128,
        "start_time": "2022-12-05T11:05:41.616Z"
      },
      {
        "duration": 142,
        "start_time": "2022-12-05T11:05:58.163Z"
      },
      {
        "duration": 152,
        "start_time": "2022-12-05T11:06:46.152Z"
      },
      {
        "duration": 149,
        "start_time": "2022-12-05T11:06:59.008Z"
      },
      {
        "duration": 283,
        "start_time": "2022-12-05T11:07:48.448Z"
      },
      {
        "duration": 149,
        "start_time": "2022-12-05T11:08:11.429Z"
      },
      {
        "duration": 151,
        "start_time": "2022-12-05T11:08:34.486Z"
      },
      {
        "duration": 148,
        "start_time": "2022-12-05T11:08:44.221Z"
      },
      {
        "duration": 209,
        "start_time": "2022-12-05T11:13:35.192Z"
      },
      {
        "duration": 205,
        "start_time": "2022-12-05T11:14:06.004Z"
      },
      {
        "duration": 308,
        "start_time": "2022-12-05T11:14:25.376Z"
      },
      {
        "duration": 179,
        "start_time": "2022-12-05T11:14:32.165Z"
      },
      {
        "duration": 212,
        "start_time": "2022-12-05T11:14:42.612Z"
      },
      {
        "duration": 248,
        "start_time": "2022-12-05T11:15:13.862Z"
      },
      {
        "duration": 165,
        "start_time": "2022-12-05T11:15:25.392Z"
      },
      {
        "duration": 167,
        "start_time": "2022-12-05T11:15:41.029Z"
      },
      {
        "duration": 18,
        "start_time": "2022-12-05T11:24:36.923Z"
      },
      {
        "duration": 8,
        "start_time": "2022-12-05T11:24:40.271Z"
      },
      {
        "duration": 159,
        "start_time": "2022-12-05T11:25:46.896Z"
      },
      {
        "duration": 160,
        "start_time": "2022-12-05T11:26:12.090Z"
      },
      {
        "duration": 11,
        "start_time": "2022-12-05T11:27:18.801Z"
      },
      {
        "duration": 133,
        "start_time": "2022-12-05T11:27:28.347Z"
      },
      {
        "duration": 2008,
        "start_time": "2022-12-05T11:27:32.983Z"
      },
      {
        "duration": 173,
        "start_time": "2022-12-05T11:27:38.854Z"
      },
      {
        "duration": 8854,
        "start_time": "2022-12-05T11:36:37.351Z"
      },
      {
        "duration": 10316,
        "start_time": "2022-12-05T11:36:49.569Z"
      },
      {
        "duration": 6930,
        "start_time": "2022-12-05T11:37:58.578Z"
      },
      {
        "duration": 22,
        "start_time": "2022-12-05T11:38:41.592Z"
      },
      {
        "duration": 7195,
        "start_time": "2022-12-05T11:39:08.264Z"
      },
      {
        "duration": 6530,
        "start_time": "2022-12-05T11:39:27.799Z"
      },
      {
        "duration": 95,
        "start_time": "2022-12-05T12:14:51.722Z"
      },
      {
        "duration": 21,
        "start_time": "2022-12-05T12:14:59.188Z"
      },
      {
        "duration": 225,
        "start_time": "2022-12-05T12:15:15.078Z"
      },
      {
        "duration": 17449,
        "start_time": "2022-12-05T12:16:05.195Z"
      },
      {
        "duration": 24,
        "start_time": "2022-12-05T12:18:35.115Z"
      },
      {
        "duration": 44,
        "start_time": "2022-12-05T12:18:37.520Z"
      },
      {
        "duration": 2096,
        "start_time": "2022-12-05T12:18:41.744Z"
      },
      {
        "duration": 241,
        "start_time": "2022-12-05T12:18:49.273Z"
      },
      {
        "duration": 202,
        "start_time": "2022-12-05T12:19:28.820Z"
      },
      {
        "duration": 187,
        "start_time": "2022-12-05T12:20:10.107Z"
      },
      {
        "duration": 209,
        "start_time": "2022-12-05T12:20:14.861Z"
      },
      {
        "duration": 469,
        "start_time": "2022-12-05T12:20:17.896Z"
      },
      {
        "duration": 207,
        "start_time": "2022-12-05T12:20:27.637Z"
      },
      {
        "duration": 257,
        "start_time": "2022-12-05T12:20:34.257Z"
      },
      {
        "duration": 206,
        "start_time": "2022-12-05T12:20:38.774Z"
      },
      {
        "duration": 225,
        "start_time": "2022-12-05T12:20:44.143Z"
      },
      {
        "duration": 175,
        "start_time": "2022-12-05T12:20:46.621Z"
      },
      {
        "duration": 74,
        "start_time": "2022-12-05T12:32:58.758Z"
      },
      {
        "duration": 42745,
        "start_time": "2022-12-05T12:33:06.977Z"
      },
      {
        "duration": 770744,
        "start_time": "2022-12-05T12:34:03.897Z"
      },
      {
        "duration": 198,
        "start_time": "2022-12-05T12:50:12.152Z"
      },
      {
        "duration": 2018,
        "start_time": "2022-12-05T12:53:08.851Z"
      },
      {
        "duration": 1396,
        "start_time": "2022-12-05T12:53:27.884Z"
      },
      {
        "duration": 39,
        "start_time": "2022-12-05T12:53:29.281Z"
      },
      {
        "duration": 17,
        "start_time": "2022-12-05T12:53:29.322Z"
      },
      {
        "duration": 3,
        "start_time": "2022-12-05T12:53:29.342Z"
      },
      {
        "duration": 15,
        "start_time": "2022-12-05T12:53:29.347Z"
      },
      {
        "duration": 40,
        "start_time": "2022-12-05T12:53:29.364Z"
      },
      {
        "duration": 9,
        "start_time": "2022-12-05T12:53:29.406Z"
      },
      {
        "duration": 1539,
        "start_time": "2022-12-05T12:53:29.417Z"
      },
      {
        "duration": 10,
        "start_time": "2022-12-05T12:53:30.958Z"
      },
      {
        "duration": 42,
        "start_time": "2022-12-05T12:53:30.971Z"
      },
      {
        "duration": 36,
        "start_time": "2022-12-05T12:53:31.014Z"
      },
      {
        "duration": 25,
        "start_time": "2022-12-05T12:53:31.052Z"
      },
      {
        "duration": 44,
        "start_time": "2022-12-05T12:53:31.078Z"
      },
      {
        "duration": 166,
        "start_time": "2022-12-05T12:53:31.124Z"
      },
      {
        "duration": 5,
        "start_time": "2022-12-05T12:53:31.292Z"
      },
      {
        "duration": 33,
        "start_time": "2022-12-05T12:53:31.300Z"
      },
      {
        "duration": 32,
        "start_time": "2022-12-05T12:53:31.335Z"
      },
      {
        "duration": 67,
        "start_time": "2022-12-05T12:53:31.369Z"
      },
      {
        "duration": 33,
        "start_time": "2022-12-05T12:53:31.438Z"
      },
      {
        "duration": 48,
        "start_time": "2022-12-05T12:53:31.473Z"
      },
      {
        "duration": 60,
        "start_time": "2022-12-05T12:53:31.523Z"
      },
      {
        "duration": 2135,
        "start_time": "2022-12-05T12:53:31.585Z"
      },
      {
        "duration": 259,
        "start_time": "2022-12-05T12:53:33.722Z"
      },
      {
        "duration": 0,
        "start_time": "2022-12-05T12:53:33.983Z"
      },
      {
        "duration": 0,
        "start_time": "2022-12-05T12:53:33.984Z"
      },
      {
        "duration": 157,
        "start_time": "2022-12-05T12:53:57.438Z"
      },
      {
        "duration": 1936,
        "start_time": "2022-12-05T12:54:11.431Z"
      },
      {
        "duration": 47,
        "start_time": "2022-12-05T12:54:22.236Z"
      },
      {
        "duration": 1996,
        "start_time": "2022-12-05T12:54:56.792Z"
      },
      {
        "duration": 163,
        "start_time": "2022-12-05T12:55:12.892Z"
      },
      {
        "duration": 113,
        "start_time": "2022-12-05T12:56:32.200Z"
      },
      {
        "duration": 88487,
        "start_time": "2022-12-05T12:56:44.049Z"
      },
      {
        "duration": 94134,
        "start_time": "2022-12-05T12:59:01.087Z"
      },
      {
        "duration": 205,
        "start_time": "2022-12-05T13:00:35.223Z"
      },
      {
        "duration": 155,
        "start_time": "2022-12-05T13:00:51.465Z"
      },
      {
        "duration": 192,
        "start_time": "2022-12-05T13:01:03.907Z"
      },
      {
        "duration": 192,
        "start_time": "2022-12-05T13:01:17.250Z"
      },
      {
        "duration": 168,
        "start_time": "2022-12-05T13:01:28.217Z"
      },
      {
        "duration": 341,
        "start_time": "2022-12-05T13:01:48.704Z"
      },
      {
        "duration": 113,
        "start_time": "2022-12-05T13:02:24.792Z"
      },
      {
        "duration": 122,
        "start_time": "2022-12-05T13:02:42.363Z"
      },
      {
        "duration": 138,
        "start_time": "2022-12-05T13:02:59.855Z"
      },
      {
        "duration": 186,
        "start_time": "2022-12-05T13:03:15.072Z"
      },
      {
        "duration": 102781,
        "start_time": "2022-12-05T13:37:48.767Z"
      },
      {
        "duration": 4,
        "start_time": "2022-12-05T13:40:14.571Z"
      },
      {
        "duration": 13,
        "start_time": "2022-12-05T14:43:12.477Z"
      },
      {
        "duration": 9,
        "start_time": "2022-12-05T14:43:19.791Z"
      },
      {
        "duration": 12,
        "start_time": "2022-12-05T14:43:30.322Z"
      },
      {
        "duration": 12,
        "start_time": "2022-12-05T14:44:03.868Z"
      },
      {
        "duration": 8,
        "start_time": "2022-12-05T15:05:13.088Z"
      },
      {
        "duration": 35,
        "start_time": "2022-12-05T15:06:33.504Z"
      },
      {
        "duration": 11,
        "start_time": "2022-12-05T15:07:57.599Z"
      },
      {
        "duration": 26,
        "start_time": "2022-12-05T15:09:18.792Z"
      },
      {
        "duration": 31,
        "start_time": "2022-12-05T15:09:46.603Z"
      },
      {
        "duration": 34,
        "start_time": "2022-12-05T15:09:48.464Z"
      },
      {
        "duration": 3,
        "start_time": "2022-12-05T16:18:11.242Z"
      },
      {
        "duration": 7,
        "start_time": "2022-12-05T16:24:54.439Z"
      },
      {
        "duration": 7,
        "start_time": "2022-12-05T16:25:19.144Z"
      },
      {
        "duration": 4,
        "start_time": "2022-12-05T16:26:06.556Z"
      },
      {
        "duration": 18,
        "start_time": "2022-12-05T16:26:12.540Z"
      },
      {
        "duration": 5,
        "start_time": "2022-12-05T16:26:26.779Z"
      },
      {
        "duration": 104,
        "start_time": "2022-12-05T16:30:45.876Z"
      },
      {
        "duration": 103,
        "start_time": "2022-12-05T16:30:57.304Z"
      },
      {
        "duration": 147,
        "start_time": "2022-12-05T16:31:13.495Z"
      },
      {
        "duration": 125,
        "start_time": "2022-12-05T16:31:36.174Z"
      },
      {
        "duration": 170,
        "start_time": "2022-12-05T16:31:40.940Z"
      },
      {
        "duration": 4,
        "start_time": "2022-12-05T16:32:54.858Z"
      },
      {
        "duration": 13,
        "start_time": "2022-12-05T16:34:41.105Z"
      },
      {
        "duration": 4,
        "start_time": "2022-12-05T16:34:49.041Z"
      },
      {
        "duration": 112,
        "start_time": "2022-12-05T16:34:50.357Z"
      },
      {
        "duration": 129,
        "start_time": "2022-12-05T16:35:01.252Z"
      },
      {
        "duration": 17,
        "start_time": "2022-12-05T16:37:22.420Z"
      },
      {
        "duration": 4,
        "start_time": "2022-12-05T16:37:24.651Z"
      },
      {
        "duration": 9,
        "start_time": "2022-12-05T16:37:30.735Z"
      },
      {
        "duration": 4,
        "start_time": "2022-12-05T16:37:37.094Z"
      },
      {
        "duration": 115,
        "start_time": "2022-12-05T16:37:45.384Z"
      },
      {
        "duration": 6,
        "start_time": "2022-12-05T16:37:49.387Z"
      },
      {
        "duration": 77,
        "start_time": "2022-12-05T16:39:06.342Z"
      },
      {
        "duration": 2556,
        "start_time": "2022-12-05T18:17:51.223Z"
      },
      {
        "duration": 2452,
        "start_time": "2022-12-05T18:18:19.565Z"
      },
      {
        "duration": 108,
        "start_time": "2022-12-05T18:18:52.146Z"
      },
      {
        "duration": 2632,
        "start_time": "2022-12-05T18:21:03.461Z"
      },
      {
        "duration": 102589,
        "start_time": "2022-12-05T18:22:32.715Z"
      },
      {
        "duration": 7,
        "start_time": "2022-12-05T18:24:15.306Z"
      },
      {
        "duration": 5,
        "start_time": "2022-12-05T18:25:27.654Z"
      },
      {
        "duration": 4,
        "start_time": "2022-12-05T18:25:43.276Z"
      },
      {
        "duration": 121,
        "start_time": "2022-12-05T18:25:58.529Z"
      },
      {
        "duration": 30,
        "start_time": "2022-12-05T18:29:33.741Z"
      },
      {
        "duration": 40,
        "start_time": "2022-12-05T18:30:17.218Z"
      },
      {
        "duration": 40,
        "start_time": "2022-12-05T18:30:21.357Z"
      },
      {
        "duration": 1489,
        "start_time": "2022-12-05T18:55:12.842Z"
      },
      {
        "duration": 41,
        "start_time": "2022-12-05T18:55:14.333Z"
      },
      {
        "duration": 20,
        "start_time": "2022-12-05T18:55:14.376Z"
      },
      {
        "duration": 5,
        "start_time": "2022-12-05T18:55:14.398Z"
      },
      {
        "duration": 13,
        "start_time": "2022-12-05T18:55:14.405Z"
      },
      {
        "duration": 19,
        "start_time": "2022-12-05T18:55:14.420Z"
      },
      {
        "duration": 4,
        "start_time": "2022-12-05T18:55:14.441Z"
      },
      {
        "duration": 1897,
        "start_time": "2022-12-05T18:55:14.447Z"
      },
      {
        "duration": 8,
        "start_time": "2022-12-05T18:55:16.346Z"
      },
      {
        "duration": 9,
        "start_time": "2022-12-05T18:55:16.356Z"
      },
      {
        "duration": 9,
        "start_time": "2022-12-05T18:55:16.367Z"
      },
      {
        "duration": 8,
        "start_time": "2022-12-05T18:55:16.378Z"
      },
      {
        "duration": 15,
        "start_time": "2022-12-05T18:55:16.388Z"
      },
      {
        "duration": 19,
        "start_time": "2022-12-05T18:55:16.404Z"
      },
      {
        "duration": 155,
        "start_time": "2022-12-05T18:55:16.425Z"
      },
      {
        "duration": 6,
        "start_time": "2022-12-05T18:55:16.581Z"
      },
      {
        "duration": 9,
        "start_time": "2022-12-05T18:55:16.588Z"
      },
      {
        "duration": 5,
        "start_time": "2022-12-05T18:55:16.598Z"
      },
      {
        "duration": 9,
        "start_time": "2022-12-05T18:55:16.605Z"
      },
      {
        "duration": 9,
        "start_time": "2022-12-05T18:55:16.615Z"
      },
      {
        "duration": 21,
        "start_time": "2022-12-05T18:55:16.626Z"
      },
      {
        "duration": 156,
        "start_time": "2022-12-05T18:55:16.649Z"
      },
      {
        "duration": 0,
        "start_time": "2022-12-05T18:55:16.807Z"
      },
      {
        "duration": 0,
        "start_time": "2022-12-05T18:55:16.808Z"
      },
      {
        "duration": 0,
        "start_time": "2022-12-05T18:55:16.809Z"
      },
      {
        "duration": 0,
        "start_time": "2022-12-05T18:55:16.811Z"
      },
      {
        "duration": 0,
        "start_time": "2022-12-05T18:55:16.812Z"
      },
      {
        "duration": 0,
        "start_time": "2022-12-05T18:55:16.813Z"
      },
      {
        "duration": 0,
        "start_time": "2022-12-05T18:55:16.814Z"
      },
      {
        "duration": 0,
        "start_time": "2022-12-05T18:55:16.815Z"
      },
      {
        "duration": 0,
        "start_time": "2022-12-05T18:55:16.816Z"
      },
      {
        "duration": 0,
        "start_time": "2022-12-05T18:55:16.818Z"
      },
      {
        "duration": 0,
        "start_time": "2022-12-05T18:55:16.819Z"
      },
      {
        "duration": 0,
        "start_time": "2022-12-05T18:55:16.821Z"
      },
      {
        "duration": 0,
        "start_time": "2022-12-05T18:55:16.822Z"
      },
      {
        "duration": 0,
        "start_time": "2022-12-05T18:55:16.823Z"
      },
      {
        "duration": 1498,
        "start_time": "2022-12-05T18:55:35.771Z"
      },
      {
        "duration": 41,
        "start_time": "2022-12-05T18:55:37.271Z"
      },
      {
        "duration": 18,
        "start_time": "2022-12-05T18:55:37.313Z"
      },
      {
        "duration": 4,
        "start_time": "2022-12-05T18:55:37.333Z"
      },
      {
        "duration": 7,
        "start_time": "2022-12-05T18:55:37.339Z"
      },
      {
        "duration": 17,
        "start_time": "2022-12-05T18:55:37.347Z"
      },
      {
        "duration": 11,
        "start_time": "2022-12-05T18:55:37.366Z"
      },
      {
        "duration": 1540,
        "start_time": "2022-12-05T18:55:41.076Z"
      },
      {
        "duration": 8,
        "start_time": "2022-12-05T18:55:49.823Z"
      },
      {
        "duration": 5,
        "start_time": "2022-12-05T18:55:51.410Z"
      },
      {
        "duration": 9,
        "start_time": "2022-12-05T18:56:20.931Z"
      },
      {
        "duration": 7,
        "start_time": "2022-12-05T18:57:12.826Z"
      },
      {
        "duration": 8,
        "start_time": "2022-12-05T18:57:33.505Z"
      },
      {
        "duration": 4,
        "start_time": "2022-12-05T18:58:39.561Z"
      },
      {
        "duration": 7,
        "start_time": "2022-12-05T18:58:53.303Z"
      },
      {
        "duration": 7,
        "start_time": "2022-12-05T19:00:47.280Z"
      },
      {
        "duration": 103,
        "start_time": "2022-12-05T19:04:50.205Z"
      },
      {
        "duration": 5,
        "start_time": "2022-12-05T19:04:58.658Z"
      },
      {
        "duration": 47,
        "start_time": "2022-12-05T19:04:58.664Z"
      },
      {
        "duration": 13,
        "start_time": "2022-12-05T19:04:58.713Z"
      },
      {
        "duration": 9,
        "start_time": "2022-12-05T19:04:58.728Z"
      },
      {
        "duration": 9,
        "start_time": "2022-12-05T19:04:58.739Z"
      },
      {
        "duration": 19,
        "start_time": "2022-12-05T19:04:58.750Z"
      },
      {
        "duration": 3,
        "start_time": "2022-12-05T19:04:58.771Z"
      },
      {
        "duration": 1564,
        "start_time": "2022-12-05T19:04:58.776Z"
      },
      {
        "duration": 6,
        "start_time": "2022-12-05T19:05:00.342Z"
      },
      {
        "duration": 26,
        "start_time": "2022-12-05T19:05:00.351Z"
      },
      {
        "duration": 47,
        "start_time": "2022-12-05T19:05:00.379Z"
      },
      {
        "duration": 14,
        "start_time": "2022-12-05T19:05:00.427Z"
      },
      {
        "duration": 7,
        "start_time": "2022-12-05T19:05:00.442Z"
      },
      {
        "duration": 17,
        "start_time": "2022-12-05T19:05:00.452Z"
      },
      {
        "duration": 33,
        "start_time": "2022-12-05T19:05:00.471Z"
      },
      {
        "duration": 29,
        "start_time": "2022-12-05T19:05:00.507Z"
      },
      {
        "duration": 174,
        "start_time": "2022-12-05T19:05:00.538Z"
      },
      {
        "duration": 5,
        "start_time": "2022-12-05T19:05:00.714Z"
      },
      {
        "duration": 46,
        "start_time": "2022-12-05T19:05:00.720Z"
      },
      {
        "duration": 43,
        "start_time": "2022-12-05T19:05:00.768Z"
      },
      {
        "duration": 20,
        "start_time": "2022-12-05T19:05:00.813Z"
      },
      {
        "duration": 27,
        "start_time": "2022-12-05T19:05:00.835Z"
      },
      {
        "duration": 39,
        "start_time": "2022-12-05T19:05:00.863Z"
      },
      {
        "duration": 20,
        "start_time": "2022-12-05T19:05:01.883Z"
      },
      {
        "duration": 440,
        "start_time": "2022-12-05T19:05:20.750Z"
      },
      {
        "duration": 8,
        "start_time": "2022-12-05T19:35:35.336Z"
      },
      {
        "duration": 1385,
        "start_time": "2022-12-05T19:38:24.484Z"
      },
      {
        "duration": 44,
        "start_time": "2022-12-05T19:38:25.871Z"
      },
      {
        "duration": 17,
        "start_time": "2022-12-05T19:38:25.917Z"
      },
      {
        "duration": 4,
        "start_time": "2022-12-05T19:38:25.936Z"
      },
      {
        "duration": 10,
        "start_time": "2022-12-05T19:38:25.941Z"
      },
      {
        "duration": 16,
        "start_time": "2022-12-05T19:38:25.952Z"
      },
      {
        "duration": 7,
        "start_time": "2022-12-05T19:38:25.969Z"
      },
      {
        "duration": 1562,
        "start_time": "2022-12-05T19:38:25.978Z"
      },
      {
        "duration": 5,
        "start_time": "2022-12-05T19:38:35.407Z"
      },
      {
        "duration": 8,
        "start_time": "2022-12-05T19:38:38.665Z"
      },
      {
        "duration": 8,
        "start_time": "2022-12-05T19:38:45.345Z"
      },
      {
        "duration": 133,
        "start_time": "2022-12-05T19:39:06.198Z"
      },
      {
        "duration": 8,
        "start_time": "2022-12-05T19:39:24.227Z"
      },
      {
        "duration": 7,
        "start_time": "2022-12-05T19:39:45.004Z"
      },
      {
        "duration": 8,
        "start_time": "2022-12-05T19:40:02.467Z"
      },
      {
        "duration": 26,
        "start_time": "2022-12-05T19:40:15.533Z"
      },
      {
        "duration": 19349,
        "start_time": "2022-12-05T19:40:25.320Z"
      },
      {
        "duration": 1023,
        "start_time": "2022-12-05T19:40:53.029Z"
      },
      {
        "duration": 140,
        "start_time": "2022-12-05T19:41:07.100Z"
      },
      {
        "duration": 128,
        "start_time": "2022-12-05T19:43:15.945Z"
      },
      {
        "duration": 136,
        "start_time": "2022-12-05T19:43:24.501Z"
      },
      {
        "duration": 8,
        "start_time": "2022-12-05T19:43:53.233Z"
      },
      {
        "duration": 143,
        "start_time": "2022-12-05T19:44:21.226Z"
      },
      {
        "duration": 9,
        "start_time": "2022-12-05T19:44:48.394Z"
      },
      {
        "duration": 160,
        "start_time": "2022-12-05T19:45:04.698Z"
      },
      {
        "duration": 137,
        "start_time": "2022-12-05T19:45:29.164Z"
      },
      {
        "duration": 110,
        "start_time": "2022-12-05T19:45:44.350Z"
      },
      {
        "duration": 13,
        "start_time": "2022-12-05T19:45:50.446Z"
      },
      {
        "duration": 140,
        "start_time": "2022-12-05T19:45:57.426Z"
      },
      {
        "duration": 144,
        "start_time": "2022-12-05T19:46:29.822Z"
      },
      {
        "duration": 168,
        "start_time": "2022-12-05T19:53:37.479Z"
      },
      {
        "duration": 11,
        "start_time": "2022-12-05T19:53:56.773Z"
      },
      {
        "duration": 161,
        "start_time": "2022-12-05T19:54:16.680Z"
      },
      {
        "duration": 4,
        "start_time": "2022-12-05T19:55:57.945Z"
      },
      {
        "duration": 15,
        "start_time": "2022-12-05T19:56:00.280Z"
      },
      {
        "duration": 8,
        "start_time": "2022-12-05T19:58:08.616Z"
      },
      {
        "duration": 5,
        "start_time": "2022-12-05T19:58:19.568Z"
      },
      {
        "duration": 1400,
        "start_time": "2022-12-05T19:58:54.160Z"
      },
      {
        "duration": 42,
        "start_time": "2022-12-05T19:58:55.562Z"
      },
      {
        "duration": 18,
        "start_time": "2022-12-05T19:58:55.606Z"
      },
      {
        "duration": 5,
        "start_time": "2022-12-05T19:58:55.626Z"
      },
      {
        "duration": 7,
        "start_time": "2022-12-05T19:58:55.632Z"
      },
      {
        "duration": 19,
        "start_time": "2022-12-05T19:58:55.641Z"
      },
      {
        "duration": 18,
        "start_time": "2022-12-05T19:58:55.661Z"
      },
      {
        "duration": 1611,
        "start_time": "2022-12-05T19:58:55.681Z"
      },
      {
        "duration": 7,
        "start_time": "2022-12-05T19:58:57.294Z"
      },
      {
        "duration": 6,
        "start_time": "2022-12-05T19:58:57.303Z"
      },
      {
        "duration": 12,
        "start_time": "2022-12-05T19:58:57.311Z"
      },
      {
        "duration": 7,
        "start_time": "2022-12-05T19:59:40.462Z"
      },
      {
        "duration": 6,
        "start_time": "2022-12-05T20:00:07.346Z"
      },
      {
        "duration": 137,
        "start_time": "2022-12-05T20:00:09.851Z"
      },
      {
        "duration": 6,
        "start_time": "2022-12-05T20:00:13.823Z"
      },
      {
        "duration": 7,
        "start_time": "2022-12-05T20:00:17.210Z"
      },
      {
        "duration": 5,
        "start_time": "2022-12-05T20:00:24.981Z"
      },
      {
        "duration": 5,
        "start_time": "2022-12-05T20:00:28.576Z"
      },
      {
        "duration": 10,
        "start_time": "2022-12-05T20:00:35.405Z"
      },
      {
        "duration": 21,
        "start_time": "2022-12-05T20:00:38.021Z"
      },
      {
        "duration": 15,
        "start_time": "2022-12-05T20:00:52.725Z"
      },
      {
        "duration": 415,
        "start_time": "2022-12-05T20:00:55.251Z"
      },
      {
        "duration": 383,
        "start_time": "2022-12-05T20:01:23.127Z"
      },
      {
        "duration": 393,
        "start_time": "2022-12-05T20:02:57.673Z"
      },
      {
        "duration": 366,
        "start_time": "2022-12-05T20:03:07.822Z"
      },
      {
        "duration": 434,
        "start_time": "2022-12-05T20:03:26.328Z"
      },
      {
        "duration": 420,
        "start_time": "2022-12-05T20:03:34.905Z"
      },
      {
        "duration": 127,
        "start_time": "2022-12-05T20:06:15.348Z"
      },
      {
        "duration": 4,
        "start_time": "2022-12-05T20:06:32.682Z"
      },
      {
        "duration": 40,
        "start_time": "2022-12-05T20:06:32.687Z"
      },
      {
        "duration": 12,
        "start_time": "2022-12-05T20:06:32.729Z"
      },
      {
        "duration": 6,
        "start_time": "2022-12-05T20:06:32.743Z"
      },
      {
        "duration": 7,
        "start_time": "2022-12-05T20:06:32.752Z"
      },
      {
        "duration": 17,
        "start_time": "2022-12-05T20:06:32.761Z"
      },
      {
        "duration": 3,
        "start_time": "2022-12-05T20:06:32.779Z"
      },
      {
        "duration": 1582,
        "start_time": "2022-12-05T20:06:32.784Z"
      },
      {
        "duration": 11,
        "start_time": "2022-12-05T20:06:34.368Z"
      },
      {
        "duration": 8,
        "start_time": "2022-12-05T20:06:34.380Z"
      },
      {
        "duration": 11,
        "start_time": "2022-12-05T20:06:34.391Z"
      },
      {
        "duration": 159,
        "start_time": "2022-12-05T20:06:34.403Z"
      },
      {
        "duration": 4,
        "start_time": "2022-12-05T20:06:34.563Z"
      },
      {
        "duration": 17,
        "start_time": "2022-12-05T20:06:34.569Z"
      },
      {
        "duration": 5,
        "start_time": "2022-12-05T20:06:34.588Z"
      },
      {
        "duration": 10,
        "start_time": "2022-12-05T20:06:34.595Z"
      },
      {
        "duration": 142,
        "start_time": "2022-12-05T20:06:34.606Z"
      },
      {
        "duration": 5,
        "start_time": "2022-12-05T20:06:34.750Z"
      },
      {
        "duration": 9,
        "start_time": "2022-12-05T20:06:34.756Z"
      },
      {
        "duration": 12,
        "start_time": "2022-12-05T20:06:34.766Z"
      },
      {
        "duration": 8,
        "start_time": "2022-12-05T20:06:34.779Z"
      },
      {
        "duration": 11,
        "start_time": "2022-12-05T20:06:34.788Z"
      },
      {
        "duration": 18,
        "start_time": "2022-12-05T20:06:34.801Z"
      },
      {
        "duration": 416,
        "start_time": "2022-12-05T20:06:34.821Z"
      },
      {
        "duration": 61,
        "start_time": "2022-12-05T20:06:37.522Z"
      },
      {
        "duration": 1784,
        "start_time": "2022-12-05T20:06:42.970Z"
      },
      {
        "duration": 168,
        "start_time": "2022-12-05T20:06:50.074Z"
      },
      {
        "duration": 90622,
        "start_time": "2022-12-05T20:06:54.353Z"
      },
      {
        "duration": 27,
        "start_time": "2022-12-05T20:24:10.689Z"
      },
      {
        "duration": 114,
        "start_time": "2022-12-05T20:24:13.170Z"
      },
      {
        "duration": 7,
        "start_time": "2022-12-05T20:24:16.816Z"
      },
      {
        "duration": 4,
        "start_time": "2022-12-05T20:24:19.484Z"
      },
      {
        "duration": 129,
        "start_time": "2022-12-05T20:24:22.435Z"
      },
      {
        "duration": 32,
        "start_time": "2022-12-05T20:24:31.036Z"
      },
      {
        "duration": 87,
        "start_time": "2022-12-05T20:24:34.065Z"
      },
      {
        "duration": 7,
        "start_time": "2022-12-05T20:24:39.359Z"
      },
      {
        "duration": 5,
        "start_time": "2022-12-05T20:24:41.415Z"
      },
      {
        "duration": 133,
        "start_time": "2022-12-05T20:24:43.335Z"
      },
      {
        "duration": 10,
        "start_time": "2022-12-05T20:25:01.259Z"
      },
      {
        "duration": 6,
        "start_time": "2022-12-05T20:25:07.151Z"
      },
      {
        "duration": 11,
        "start_time": "2022-12-05T20:25:09.607Z"
      },
      {
        "duration": 11,
        "start_time": "2022-12-05T20:25:15.779Z"
      },
      {
        "duration": 6,
        "start_time": "2022-12-05T20:27:40.546Z"
      },
      {
        "duration": 4,
        "start_time": "2022-12-05T20:27:42.254Z"
      },
      {
        "duration": 129,
        "start_time": "2022-12-05T20:27:45.374Z"
      },
      {
        "duration": 9,
        "start_time": "2022-12-05T20:28:14.030Z"
      },
      {
        "duration": 26,
        "start_time": "2022-12-05T20:28:21.821Z"
      },
      {
        "duration": 5,
        "start_time": "2022-12-05T20:28:33.730Z"
      },
      {
        "duration": 4,
        "start_time": "2022-12-05T20:28:36.373Z"
      },
      {
        "duration": 131,
        "start_time": "2022-12-05T20:28:38.046Z"
      },
      {
        "duration": 6,
        "start_time": "2022-12-05T20:28:41.058Z"
      },
      {
        "duration": 102642,
        "start_time": "2022-12-05T20:28:50.712Z"
      },
      {
        "duration": 21,
        "start_time": "2022-12-05T20:38:07.296Z"
      },
      {
        "duration": 21,
        "start_time": "2022-12-05T20:39:16.818Z"
      },
      {
        "duration": 22,
        "start_time": "2022-12-05T20:40:36.379Z"
      },
      {
        "duration": 21,
        "start_time": "2022-12-05T20:42:13.018Z"
      },
      {
        "duration": 6,
        "start_time": "2022-12-05T20:48:23.643Z"
      },
      {
        "duration": 9,
        "start_time": "2022-12-05T20:48:32.785Z"
      },
      {
        "duration": 21,
        "start_time": "2022-12-05T20:48:40.334Z"
      },
      {
        "duration": 47,
        "start_time": "2022-12-06T08:15:20.716Z"
      },
      {
        "duration": 1622,
        "start_time": "2022-12-06T08:15:25.978Z"
      },
      {
        "duration": 163,
        "start_time": "2022-12-06T08:15:27.602Z"
      },
      {
        "duration": 19,
        "start_time": "2022-12-06T08:15:27.767Z"
      },
      {
        "duration": 5,
        "start_time": "2022-12-06T08:15:27.788Z"
      },
      {
        "duration": 20,
        "start_time": "2022-12-06T08:15:27.794Z"
      },
      {
        "duration": 19,
        "start_time": "2022-12-06T08:15:27.816Z"
      },
      {
        "duration": 5,
        "start_time": "2022-12-06T08:15:27.836Z"
      },
      {
        "duration": 1631,
        "start_time": "2022-12-06T08:15:27.842Z"
      },
      {
        "duration": 8,
        "start_time": "2022-12-06T08:15:29.475Z"
      },
      {
        "duration": 5,
        "start_time": "2022-12-06T08:15:29.486Z"
      },
      {
        "duration": 13,
        "start_time": "2022-12-06T08:15:29.492Z"
      },
      {
        "duration": 150,
        "start_time": "2022-12-06T08:15:29.507Z"
      },
      {
        "duration": 5,
        "start_time": "2022-12-06T08:15:29.659Z"
      },
      {
        "duration": 14,
        "start_time": "2022-12-06T08:15:29.666Z"
      },
      {
        "duration": 6,
        "start_time": "2022-12-06T08:15:29.682Z"
      },
      {
        "duration": 8,
        "start_time": "2022-12-06T08:15:29.712Z"
      },
      {
        "duration": 144,
        "start_time": "2022-12-06T08:15:29.722Z"
      },
      {
        "duration": 6,
        "start_time": "2022-12-06T08:15:29.867Z"
      },
      {
        "duration": 9,
        "start_time": "2022-12-06T08:15:29.874Z"
      },
      {
        "duration": 5,
        "start_time": "2022-12-06T08:15:29.885Z"
      },
      {
        "duration": 22,
        "start_time": "2022-12-06T08:15:29.892Z"
      },
      {
        "duration": 10,
        "start_time": "2022-12-06T08:15:29.916Z"
      },
      {
        "duration": 19,
        "start_time": "2022-12-06T08:15:29.927Z"
      },
      {
        "duration": 484,
        "start_time": "2022-12-06T08:15:29.948Z"
      },
      {
        "duration": 12,
        "start_time": "2022-12-06T08:15:33.280Z"
      },
      {
        "duration": 13,
        "start_time": "2022-12-06T08:16:31.372Z"
      },
      {
        "duration": 4,
        "start_time": "2022-12-06T08:17:13.531Z"
      },
      {
        "duration": 11,
        "start_time": "2022-12-06T08:17:52.148Z"
      },
      {
        "duration": 13,
        "start_time": "2022-12-06T08:18:12.290Z"
      },
      {
        "duration": 226,
        "start_time": "2022-12-06T08:18:34.639Z"
      },
      {
        "duration": 18,
        "start_time": "2022-12-06T08:18:47.392Z"
      },
      {
        "duration": 8,
        "start_time": "2022-12-06T08:24:14.257Z"
      },
      {
        "duration": 3,
        "start_time": "2022-12-06T08:24:54.548Z"
      },
      {
        "duration": 6,
        "start_time": "2022-12-06T08:24:59.142Z"
      },
      {
        "duration": 6,
        "start_time": "2022-12-06T08:25:06.370Z"
      },
      {
        "duration": 6,
        "start_time": "2022-12-06T08:25:15.037Z"
      },
      {
        "duration": 152,
        "start_time": "2022-12-06T08:25:47.512Z"
      },
      {
        "duration": 1419,
        "start_time": "2022-12-06T10:06:26.500Z"
      },
      {
        "duration": 40,
        "start_time": "2022-12-06T10:06:27.921Z"
      },
      {
        "duration": 18,
        "start_time": "2022-12-06T10:06:27.962Z"
      },
      {
        "duration": 6,
        "start_time": "2022-12-06T10:06:27.983Z"
      },
      {
        "duration": 8,
        "start_time": "2022-12-06T10:06:27.990Z"
      },
      {
        "duration": 17,
        "start_time": "2022-12-06T10:06:27.999Z"
      },
      {
        "duration": 4,
        "start_time": "2022-12-06T10:06:28.017Z"
      },
      {
        "duration": 1646,
        "start_time": "2022-12-06T10:06:28.023Z"
      },
      {
        "duration": 9,
        "start_time": "2022-12-06T10:06:29.671Z"
      },
      {
        "duration": 6,
        "start_time": "2022-12-06T10:06:29.682Z"
      },
      {
        "duration": 17,
        "start_time": "2022-12-06T10:06:29.689Z"
      },
      {
        "duration": 151,
        "start_time": "2022-12-06T10:06:29.708Z"
      },
      {
        "duration": 7,
        "start_time": "2022-12-06T10:07:30.723Z"
      },
      {
        "duration": 12,
        "start_time": "2022-12-06T10:07:33.279Z"
      },
      {
        "duration": 12,
        "start_time": "2022-12-06T10:07:44.743Z"
      },
      {
        "duration": 12,
        "start_time": "2022-12-06T10:08:03.261Z"
      },
      {
        "duration": 12,
        "start_time": "2022-12-06T10:08:31.558Z"
      },
      {
        "duration": 7,
        "start_time": "2022-12-06T10:10:29.536Z"
      },
      {
        "duration": 152,
        "start_time": "2022-12-06T10:31:26.809Z"
      },
      {
        "duration": 6,
        "start_time": "2022-12-06T10:31:38.533Z"
      },
      {
        "duration": 7,
        "start_time": "2022-12-06T10:32:08.120Z"
      },
      {
        "duration": 5,
        "start_time": "2022-12-06T10:32:10.432Z"
      },
      {
        "duration": 5,
        "start_time": "2022-12-06T10:32:14.996Z"
      },
      {
        "duration": 9,
        "start_time": "2022-12-06T10:32:19.001Z"
      },
      {
        "duration": 20,
        "start_time": "2022-12-06T10:32:23.704Z"
      },
      {
        "duration": 452,
        "start_time": "2022-12-06T10:32:26.292Z"
      },
      {
        "duration": 14,
        "start_time": "2022-12-06T10:32:36.799Z"
      },
      {
        "duration": 24,
        "start_time": "2022-12-06T10:32:39.183Z"
      },
      {
        "duration": 91,
        "start_time": "2022-12-06T10:32:42.022Z"
      },
      {
        "duration": 1826,
        "start_time": "2022-12-06T10:32:52.848Z"
      },
      {
        "duration": 183,
        "start_time": "2022-12-06T10:32:59.719Z"
      },
      {
        "duration": 2,
        "start_time": "2022-12-06T10:34:44.826Z"
      },
      {
        "duration": 3,
        "start_time": "2022-12-06T10:35:17.047Z"
      },
      {
        "duration": 5847,
        "start_time": "2022-12-06T10:36:25.109Z"
      },
      {
        "duration": 24222,
        "start_time": "2022-12-06T10:36:40.139Z"
      },
      {
        "duration": 24620,
        "start_time": "2022-12-06T10:37:58.065Z"
      },
      {
        "duration": 4,
        "start_time": "2022-12-06T10:39:15.483Z"
      },
      {
        "duration": 55315,
        "start_time": "2022-12-06T10:39:56.615Z"
      },
      {
        "duration": 54553,
        "start_time": "2022-12-06T10:41:49.108Z"
      },
      {
        "duration": 4,
        "start_time": "2022-12-06T10:45:12.782Z"
      },
      {
        "duration": 55199,
        "start_time": "2022-12-06T10:45:22.530Z"
      },
      {
        "duration": 4,
        "start_time": "2022-12-06T10:47:34.909Z"
      },
      {
        "duration": 13,
        "start_time": "2022-12-06T12:44:35.846Z"
      },
      {
        "duration": 18,
        "start_time": "2022-12-06T12:44:42.873Z"
      },
      {
        "duration": 23,
        "start_time": "2022-12-06T12:45:22.575Z"
      },
      {
        "duration": 9,
        "start_time": "2022-12-06T12:47:02.761Z"
      },
      {
        "duration": 52,
        "start_time": "2022-12-06T12:47:25.946Z"
      },
      {
        "duration": 5,
        "start_time": "2022-12-06T12:47:37.654Z"
      },
      {
        "duration": 4,
        "start_time": "2022-12-06T12:48:28.089Z"
      },
      {
        "duration": 36,
        "start_time": "2022-12-06T12:48:31.481Z"
      },
      {
        "duration": 13,
        "start_time": "2022-12-06T12:48:32.747Z"
      },
      {
        "duration": 4,
        "start_time": "2022-12-06T12:48:38.543Z"
      },
      {
        "duration": 5,
        "start_time": "2022-12-06T12:48:40.849Z"
      },
      {
        "duration": 12,
        "start_time": "2022-12-06T12:48:44.407Z"
      },
      {
        "duration": 4,
        "start_time": "2022-12-06T12:48:49.794Z"
      },
      {
        "duration": 6,
        "start_time": "2022-12-06T12:48:55.166Z"
      },
      {
        "duration": 4,
        "start_time": "2022-12-06T12:48:57.782Z"
      },
      {
        "duration": 11,
        "start_time": "2022-12-06T12:49:06.688Z"
      },
      {
        "duration": 11,
        "start_time": "2022-12-06T12:49:10.839Z"
      },
      {
        "duration": 8,
        "start_time": "2022-12-06T12:49:13.564Z"
      },
      {
        "duration": 4,
        "start_time": "2022-12-06T12:49:47.359Z"
      },
      {
        "duration": 6,
        "start_time": "2022-12-06T12:49:51.409Z"
      },
      {
        "duration": 5,
        "start_time": "2022-12-06T12:49:59.014Z"
      },
      {
        "duration": 5,
        "start_time": "2022-12-06T12:50:01.145Z"
      },
      {
        "duration": 11,
        "start_time": "2022-12-06T12:50:09.256Z"
      },
      {
        "duration": 18,
        "start_time": "2022-12-06T12:50:11.407Z"
      },
      {
        "duration": 440,
        "start_time": "2022-12-06T12:50:16.508Z"
      },
      {
        "duration": 12,
        "start_time": "2022-12-06T12:50:24.214Z"
      },
      {
        "duration": 17,
        "start_time": "2022-12-06T12:50:27.534Z"
      },
      {
        "duration": 26,
        "start_time": "2022-12-06T12:51:06.690Z"
      },
      {
        "duration": 1685,
        "start_time": "2022-12-06T12:51:27.445Z"
      },
      {
        "duration": 164,
        "start_time": "2022-12-06T12:52:02.324Z"
      },
      {
        "duration": 27,
        "start_time": "2022-12-06T12:52:22.197Z"
      },
      {
        "duration": 83875,
        "start_time": "2022-12-06T12:53:33.188Z"
      },
      {
        "duration": 5,
        "start_time": "2022-12-06T16:05:00.664Z"
      },
      {
        "duration": 26,
        "start_time": "2022-12-06T16:06:30.437Z"
      },
      {
        "duration": 20,
        "start_time": "2022-12-06T16:06:30.465Z"
      },
      {
        "duration": 22,
        "start_time": "2022-12-06T16:06:30.487Z"
      },
      {
        "duration": 1607,
        "start_time": "2022-12-06T16:06:30.514Z"
      },
      {
        "duration": 7,
        "start_time": "2022-12-06T16:06:32.129Z"
      },
      {
        "duration": 24,
        "start_time": "2022-12-06T16:06:32.137Z"
      },
      {
        "duration": 35,
        "start_time": "2022-12-06T16:06:32.163Z"
      },
      {
        "duration": 34,
        "start_time": "2022-12-06T16:06:32.200Z"
      },
      {
        "duration": 37,
        "start_time": "2022-12-06T16:06:32.236Z"
      },
      {
        "duration": 25,
        "start_time": "2022-12-06T16:06:32.274Z"
      },
      {
        "duration": 178,
        "start_time": "2022-12-06T16:06:32.301Z"
      },
      {
        "duration": 7,
        "start_time": "2022-12-06T16:06:32.482Z"
      },
      {
        "duration": 8,
        "start_time": "2022-12-06T16:06:32.491Z"
      },
      {
        "duration": 4,
        "start_time": "2022-12-06T16:06:32.501Z"
      },
      {
        "duration": 16,
        "start_time": "2022-12-06T16:06:32.513Z"
      },
      {
        "duration": 10,
        "start_time": "2022-12-06T16:06:32.531Z"
      },
      {
        "duration": 20,
        "start_time": "2022-12-06T16:06:32.544Z"
      },
      {
        "duration": 477,
        "start_time": "2022-12-06T16:06:32.565Z"
      },
      {
        "duration": 13,
        "start_time": "2022-12-06T16:06:33.044Z"
      },
      {
        "duration": 20,
        "start_time": "2022-12-06T16:06:33.059Z"
      },
      {
        "duration": 46,
        "start_time": "2022-12-06T16:06:33.081Z"
      },
      {
        "duration": 1566,
        "start_time": "2022-12-07T07:52:29.488Z"
      },
      {
        "duration": 179,
        "start_time": "2022-12-07T07:52:31.056Z"
      },
      {
        "duration": 17,
        "start_time": "2022-12-07T07:52:31.236Z"
      },
      {
        "duration": 57,
        "start_time": "2022-12-07T07:52:31.255Z"
      },
      {
        "duration": 25,
        "start_time": "2022-12-07T07:52:31.313Z"
      },
      {
        "duration": 26,
        "start_time": "2022-12-07T07:52:31.339Z"
      },
      {
        "duration": 13,
        "start_time": "2022-12-07T07:52:31.366Z"
      },
      {
        "duration": 1556,
        "start_time": "2022-12-07T07:52:31.381Z"
      },
      {
        "duration": 7,
        "start_time": "2022-12-07T07:52:32.939Z"
      },
      {
        "duration": 11,
        "start_time": "2022-12-07T07:52:32.949Z"
      },
      {
        "duration": 34,
        "start_time": "2022-12-07T07:52:32.962Z"
      },
      {
        "duration": 27,
        "start_time": "2022-12-07T07:52:32.998Z"
      },
      {
        "duration": 12,
        "start_time": "2022-12-07T07:52:33.027Z"
      },
      {
        "duration": 28,
        "start_time": "2022-12-07T07:52:33.041Z"
      },
      {
        "duration": 152,
        "start_time": "2022-12-07T07:52:33.071Z"
      },
      {
        "duration": 5,
        "start_time": "2022-12-07T07:52:33.226Z"
      },
      {
        "duration": 36,
        "start_time": "2022-12-07T07:52:33.233Z"
      },
      {
        "duration": 17,
        "start_time": "2022-12-07T07:52:33.270Z"
      },
      {
        "duration": 33,
        "start_time": "2022-12-07T07:52:33.288Z"
      },
      {
        "duration": 17,
        "start_time": "2022-12-07T07:52:33.323Z"
      },
      {
        "duration": 40,
        "start_time": "2022-12-07T07:52:33.341Z"
      },
      {
        "duration": 537,
        "start_time": "2022-12-07T07:52:33.383Z"
      },
      {
        "duration": 20,
        "start_time": "2022-12-07T07:52:33.922Z"
      },
      {
        "duration": 46,
        "start_time": "2022-12-07T07:52:33.943Z"
      },
      {
        "duration": 39,
        "start_time": "2022-12-07T07:52:33.991Z"
      },
      {
        "duration": 1985,
        "start_time": "2022-12-07T07:52:34.032Z"
      },
      {
        "duration": 182,
        "start_time": "2022-12-07T07:52:36.019Z"
      },
      {
        "duration": 85510,
        "start_time": "2022-12-07T07:52:36.204Z"
      },
      {
        "duration": 32,
        "start_time": "2022-12-07T07:54:01.715Z"
      },
      {
        "duration": 180,
        "start_time": "2022-12-07T07:54:01.749Z"
      },
      {
        "duration": 104,
        "start_time": "2022-12-07T07:54:01.931Z"
      },
      {
        "duration": 188,
        "start_time": "2022-12-07T07:54:02.040Z"
      },
      {
        "duration": 140,
        "start_time": "2022-12-07T07:54:02.230Z"
      },
      {
        "duration": 6,
        "start_time": "2022-12-07T07:54:02.371Z"
      },
      {
        "duration": 136,
        "start_time": "2022-12-07T07:54:02.378Z"
      },
      {
        "duration": 0,
        "start_time": "2022-12-07T07:54:02.515Z"
      },
      {
        "duration": 0,
        "start_time": "2022-12-07T07:54:02.517Z"
      },
      {
        "duration": 0,
        "start_time": "2022-12-07T07:54:02.518Z"
      },
      {
        "duration": 0,
        "start_time": "2022-12-07T07:54:02.518Z"
      },
      {
        "duration": 0,
        "start_time": "2022-12-07T07:54:02.519Z"
      },
      {
        "duration": 0,
        "start_time": "2022-12-07T07:54:02.526Z"
      },
      {
        "duration": 28,
        "start_time": "2022-12-07T08:00:32.448Z"
      },
      {
        "duration": 10,
        "start_time": "2022-12-07T08:05:26.513Z"
      },
      {
        "duration": 1361,
        "start_time": "2022-12-07T08:06:34.020Z"
      },
      {
        "duration": 40,
        "start_time": "2022-12-07T08:06:35.382Z"
      },
      {
        "duration": 16,
        "start_time": "2022-12-07T08:06:35.424Z"
      },
      {
        "duration": 26,
        "start_time": "2022-12-07T08:06:35.442Z"
      },
      {
        "duration": 55,
        "start_time": "2022-12-07T08:06:35.470Z"
      },
      {
        "duration": 62,
        "start_time": "2022-12-07T08:06:35.527Z"
      },
      {
        "duration": 55,
        "start_time": "2022-12-07T08:06:35.591Z"
      },
      {
        "duration": 1544,
        "start_time": "2022-12-07T08:06:35.649Z"
      },
      {
        "duration": 6,
        "start_time": "2022-12-07T08:06:37.195Z"
      },
      {
        "duration": 7,
        "start_time": "2022-12-07T08:06:37.203Z"
      },
      {
        "duration": 20,
        "start_time": "2022-12-07T08:06:37.212Z"
      },
      {
        "duration": 16,
        "start_time": "2022-12-07T08:06:37.234Z"
      },
      {
        "duration": 5,
        "start_time": "2022-12-07T08:06:37.252Z"
      },
      {
        "duration": 20,
        "start_time": "2022-12-07T08:06:37.258Z"
      },
      {
        "duration": 127,
        "start_time": "2022-12-07T08:06:37.280Z"
      },
      {
        "duration": 5,
        "start_time": "2022-12-07T08:06:37.408Z"
      },
      {
        "duration": 13,
        "start_time": "2022-12-07T08:06:37.414Z"
      },
      {
        "duration": 8,
        "start_time": "2022-12-07T08:06:37.429Z"
      },
      {
        "duration": 15,
        "start_time": "2022-12-07T08:06:37.438Z"
      },
      {
        "duration": 16,
        "start_time": "2022-12-07T08:06:37.455Z"
      },
      {
        "duration": 23,
        "start_time": "2022-12-07T08:06:37.473Z"
      },
      {
        "duration": 444,
        "start_time": "2022-12-07T08:06:37.498Z"
      },
      {
        "duration": 13,
        "start_time": "2022-12-07T08:06:37.943Z"
      },
      {
        "duration": 109,
        "start_time": "2022-12-07T08:06:47.961Z"
      },
      {
        "duration": 43,
        "start_time": "2022-12-07T08:07:10.009Z"
      },
      {
        "duration": 39,
        "start_time": "2022-12-07T08:10:17.668Z"
      },
      {
        "duration": 120,
        "start_time": "2022-12-07T08:15:49.409Z"
      },
      {
        "duration": 25,
        "start_time": "2022-12-07T08:16:05.210Z"
      },
      {
        "duration": 10,
        "start_time": "2022-12-07T08:32:11.288Z"
      },
      {
        "duration": 43,
        "start_time": "2022-12-07T08:33:18.862Z"
      },
      {
        "duration": 29,
        "start_time": "2022-12-07T08:34:11.460Z"
      },
      {
        "duration": 79,
        "start_time": "2022-12-07T08:34:32.455Z"
      },
      {
        "duration": 7,
        "start_time": "2022-12-07T08:34:45.393Z"
      },
      {
        "duration": 17,
        "start_time": "2022-12-07T08:34:47.207Z"
      },
      {
        "duration": 38,
        "start_time": "2022-12-07T08:34:50.476Z"
      },
      {
        "duration": 25,
        "start_time": "2022-12-07T08:35:02.528Z"
      },
      {
        "duration": 1645,
        "start_time": "2022-12-07T08:35:10.875Z"
      },
      {
        "duration": 153,
        "start_time": "2022-12-07T08:35:17.420Z"
      },
      {
        "duration": 80411,
        "start_time": "2022-12-07T08:35:29.687Z"
      },
      {
        "duration": 25,
        "start_time": "2022-12-07T08:36:59.716Z"
      },
      {
        "duration": 42,
        "start_time": "2022-12-07T08:37:08.218Z"
      },
      {
        "duration": 9,
        "start_time": "2022-12-07T08:37:21.101Z"
      },
      {
        "duration": 5,
        "start_time": "2022-12-07T08:37:27.696Z"
      },
      {
        "duration": 118,
        "start_time": "2022-12-07T08:37:29.832Z"
      },
      {
        "duration": 6,
        "start_time": "2022-12-07T08:37:35.881Z"
      },
      {
        "duration": 27,
        "start_time": "2022-12-07T08:49:01.411Z"
      },
      {
        "duration": 22,
        "start_time": "2022-12-07T08:52:58.920Z"
      },
      {
        "duration": 27,
        "start_time": "2022-12-07T08:55:41.492Z"
      },
      {
        "duration": 34,
        "start_time": "2022-12-07T08:56:12.763Z"
      },
      {
        "duration": 2588,
        "start_time": "2022-12-07T08:56:59.999Z"
      },
      {
        "duration": 45465,
        "start_time": "2022-12-07T08:58:43.632Z"
      },
      {
        "duration": 51908,
        "start_time": "2022-12-07T09:00:04.165Z"
      },
      {
        "duration": 3,
        "start_time": "2022-12-07T09:01:17.511Z"
      },
      {
        "duration": 9,
        "start_time": "2022-12-07T09:01:43.881Z"
      },
      {
        "duration": 8,
        "start_time": "2022-12-07T09:01:47.952Z"
      },
      {
        "duration": 8,
        "start_time": "2022-12-07T09:01:54.338Z"
      },
      {
        "duration": 9,
        "start_time": "2022-12-07T09:02:00.085Z"
      },
      {
        "duration": 10,
        "start_time": "2022-12-07T09:03:18.266Z"
      },
      {
        "duration": 7,
        "start_time": "2022-12-07T09:03:35.047Z"
      },
      {
        "duration": 8,
        "start_time": "2022-12-07T09:03:53.309Z"
      },
      {
        "duration": 91177,
        "start_time": "2022-12-07T09:04:25.706Z"
      },
      {
        "duration": 7,
        "start_time": "2022-12-07T09:32:43.071Z"
      },
      {
        "duration": 3,
        "start_time": "2022-12-07T09:32:45.398Z"
      },
      {
        "duration": 119,
        "start_time": "2022-12-07T09:32:47.035Z"
      },
      {
        "duration": 90381,
        "start_time": "2022-12-07T09:32:54.533Z"
      },
      {
        "duration": 88617,
        "start_time": "2022-12-07T09:36:24.503Z"
      },
      {
        "duration": 1434,
        "start_time": "2022-12-07T10:44:50.537Z"
      },
      {
        "duration": 41,
        "start_time": "2022-12-07T10:44:52.418Z"
      },
      {
        "duration": 25,
        "start_time": "2022-12-07T10:44:54.004Z"
      },
      {
        "duration": 4,
        "start_time": "2022-12-07T10:44:56.230Z"
      },
      {
        "duration": 9,
        "start_time": "2022-12-07T10:44:57.823Z"
      },
      {
        "duration": 13,
        "start_time": "2022-12-07T10:44:59.927Z"
      },
      {
        "duration": 4,
        "start_time": "2022-12-07T10:45:02.726Z"
      },
      {
        "duration": 1803,
        "start_time": "2022-12-07T10:45:04.340Z"
      },
      {
        "duration": 8,
        "start_time": "2022-12-07T10:45:09.795Z"
      },
      {
        "duration": 6,
        "start_time": "2022-12-07T10:45:12.127Z"
      },
      {
        "duration": 140,
        "start_time": "2022-12-07T10:45:45.232Z"
      },
      {
        "duration": 8,
        "start_time": "2022-12-07T10:45:52.040Z"
      },
      {
        "duration": 15,
        "start_time": "2022-12-07T10:46:03.907Z"
      },
      {
        "duration": 136,
        "start_time": "2022-12-07T10:46:09.344Z"
      },
      {
        "duration": 13,
        "start_time": "2022-12-07T10:46:14.976Z"
      },
      {
        "duration": 13,
        "start_time": "2022-12-07T10:46:34.412Z"
      },
      {
        "duration": 181,
        "start_time": "2022-12-07T10:47:03.015Z"
      },
      {
        "duration": 539,
        "start_time": "2022-12-07T10:47:15.340Z"
      },
      {
        "duration": 10,
        "start_time": "2022-12-07T10:47:29.156Z"
      },
      {
        "duration": 108,
        "start_time": "2022-12-07T10:47:48.118Z"
      },
      {
        "duration": 117,
        "start_time": "2022-12-07T10:48:07.066Z"
      },
      {
        "duration": 13,
        "start_time": "2022-12-07T10:48:10.001Z"
      },
      {
        "duration": 314,
        "start_time": "2022-12-07T10:48:26.681Z"
      },
      {
        "duration": 149,
        "start_time": "2022-12-07T10:48:47.494Z"
      },
      {
        "duration": 154,
        "start_time": "2022-12-07T10:49:01.062Z"
      },
      {
        "duration": 25,
        "start_time": "2022-12-07T10:49:16.402Z"
      },
      {
        "duration": 337,
        "start_time": "2022-12-07T10:49:21.222Z"
      },
      {
        "duration": 165,
        "start_time": "2022-12-07T10:49:34.872Z"
      },
      {
        "duration": 154,
        "start_time": "2022-12-07T10:49:51.951Z"
      },
      {
        "duration": 70,
        "start_time": "2022-12-07T10:50:06.742Z"
      },
      {
        "duration": 259,
        "start_time": "2022-12-07T10:50:13.337Z"
      },
      {
        "duration": 161,
        "start_time": "2022-12-07T10:50:55.956Z"
      },
      {
        "duration": 125,
        "start_time": "2022-12-07T10:51:03.024Z"
      },
      {
        "duration": 174,
        "start_time": "2022-12-07T10:51:29.179Z"
      },
      {
        "duration": 17,
        "start_time": "2022-12-07T10:51:43.041Z"
      },
      {
        "duration": 170,
        "start_time": "2022-12-07T10:51:50.852Z"
      },
      {
        "duration": 10,
        "start_time": "2022-12-07T10:52:41.145Z"
      },
      {
        "duration": 151,
        "start_time": "2022-12-07T10:52:54.873Z"
      },
      {
        "duration": 15,
        "start_time": "2022-12-07T10:53:08.615Z"
      },
      {
        "duration": 137,
        "start_time": "2022-12-07T10:53:14.676Z"
      },
      {
        "duration": 13,
        "start_time": "2022-12-07T10:53:19.087Z"
      },
      {
        "duration": 153,
        "start_time": "2022-12-07T10:53:32.097Z"
      },
      {
        "duration": 117,
        "start_time": "2022-12-07T10:55:06.666Z"
      },
      {
        "duration": 111,
        "start_time": "2022-12-07T10:55:17.237Z"
      },
      {
        "duration": 4,
        "start_time": "2022-12-07T10:56:08.921Z"
      },
      {
        "duration": 3,
        "start_time": "2022-12-07T10:56:13.492Z"
      },
      {
        "duration": 1590,
        "start_time": "2022-12-07T10:56:15.115Z"
      },
      {
        "duration": 119,
        "start_time": "2022-12-07T10:56:26.027Z"
      },
      {
        "duration": 5,
        "start_time": "2022-12-07T11:25:43.105Z"
      },
      {
        "duration": 3,
        "start_time": "2022-12-07T11:25:55.787Z"
      },
      {
        "duration": 13,
        "start_time": "2022-12-07T11:26:23.754Z"
      },
      {
        "duration": 9,
        "start_time": "2022-12-07T11:26:37.749Z"
      },
      {
        "duration": 7,
        "start_time": "2022-12-07T11:26:47.859Z"
      },
      {
        "duration": 8,
        "start_time": "2022-12-07T11:27:01.921Z"
      },
      {
        "duration": 11,
        "start_time": "2022-12-07T11:27:15.254Z"
      },
      {
        "duration": 17,
        "start_time": "2022-12-07T11:27:21.655Z"
      },
      {
        "duration": 72,
        "start_time": "2022-12-07T11:28:32.155Z"
      },
      {
        "duration": 1424,
        "start_time": "2022-12-07T11:29:47.724Z"
      },
      {
        "duration": 59,
        "start_time": "2022-12-07T11:29:49.151Z"
      },
      {
        "duration": 23,
        "start_time": "2022-12-07T11:29:49.212Z"
      },
      {
        "duration": 25,
        "start_time": "2022-12-07T11:29:49.242Z"
      },
      {
        "duration": 9,
        "start_time": "2022-12-07T11:29:49.269Z"
      },
      {
        "duration": 16,
        "start_time": "2022-12-07T11:29:49.279Z"
      },
      {
        "duration": 4,
        "start_time": "2022-12-07T11:29:49.296Z"
      },
      {
        "duration": 1644,
        "start_time": "2022-12-07T11:29:49.301Z"
      },
      {
        "duration": 8,
        "start_time": "2022-12-07T11:29:50.947Z"
      },
      {
        "duration": 23,
        "start_time": "2022-12-07T11:29:50.957Z"
      },
      {
        "duration": 145,
        "start_time": "2022-12-07T11:29:50.981Z"
      },
      {
        "duration": 123,
        "start_time": "2022-12-07T11:29:54.572Z"
      },
      {
        "duration": 14,
        "start_time": "2022-12-07T11:30:00.864Z"
      },
      {
        "duration": 9,
        "start_time": "2022-12-07T11:30:08.608Z"
      },
      {
        "duration": 5,
        "start_time": "2022-12-07T11:30:59.109Z"
      },
      {
        "duration": 81,
        "start_time": "2022-12-07T11:30:59.116Z"
      },
      {
        "duration": 14,
        "start_time": "2022-12-07T11:30:59.199Z"
      },
      {
        "duration": 48,
        "start_time": "2022-12-07T11:30:59.214Z"
      },
      {
        "duration": 33,
        "start_time": "2022-12-07T11:30:59.264Z"
      },
      {
        "duration": 23,
        "start_time": "2022-12-07T11:30:59.299Z"
      },
      {
        "duration": 50,
        "start_time": "2022-12-07T11:30:59.324Z"
      },
      {
        "duration": 1634,
        "start_time": "2022-12-07T11:30:59.375Z"
      },
      {
        "duration": 6,
        "start_time": "2022-12-07T11:31:01.011Z"
      },
      {
        "duration": 69,
        "start_time": "2022-12-07T11:31:01.028Z"
      },
      {
        "duration": 193,
        "start_time": "2022-12-07T11:31:01.100Z"
      },
      {
        "duration": 9,
        "start_time": "2022-12-07T11:31:01.295Z"
      },
      {
        "duration": 80,
        "start_time": "2022-12-07T11:31:01.305Z"
      },
      {
        "duration": 88,
        "start_time": "2022-12-07T11:31:01.388Z"
      },
      {
        "duration": 56,
        "start_time": "2022-12-07T11:31:01.478Z"
      },
      {
        "duration": 78,
        "start_time": "2022-12-07T11:31:01.536Z"
      },
      {
        "duration": 240,
        "start_time": "2022-12-07T11:31:01.616Z"
      },
      {
        "duration": 9,
        "start_time": "2022-12-07T11:31:01.861Z"
      },
      {
        "duration": 90,
        "start_time": "2022-12-07T11:31:01.872Z"
      },
      {
        "duration": 45,
        "start_time": "2022-12-07T11:31:01.964Z"
      },
      {
        "duration": 73,
        "start_time": "2022-12-07T11:31:02.012Z"
      },
      {
        "duration": 21,
        "start_time": "2022-12-07T11:31:02.087Z"
      },
      {
        "duration": 203,
        "start_time": "2022-12-07T11:31:02.110Z"
      },
      {
        "duration": 20,
        "start_time": "2022-12-07T11:31:02.315Z"
      },
      {
        "duration": 84,
        "start_time": "2022-12-07T11:31:02.337Z"
      },
      {
        "duration": 470,
        "start_time": "2022-12-07T11:31:02.423Z"
      },
      {
        "duration": 153,
        "start_time": "2022-12-07T11:31:02.895Z"
      },
      {
        "duration": 2362,
        "start_time": "2022-12-07T11:31:03.056Z"
      },
      {
        "duration": 236,
        "start_time": "2022-12-07T11:31:05.422Z"
      },
      {
        "duration": 95051,
        "start_time": "2022-12-07T11:31:05.663Z"
      },
      {
        "duration": 44,
        "start_time": "2022-12-07T11:32:40.715Z"
      },
      {
        "duration": 72,
        "start_time": "2022-12-07T11:32:40.761Z"
      },
      {
        "duration": 13,
        "start_time": "2022-12-07T11:32:40.837Z"
      },
      {
        "duration": 211,
        "start_time": "2022-12-07T11:32:40.851Z"
      },
      {
        "duration": 139,
        "start_time": "2022-12-07T11:32:41.064Z"
      },
      {
        "duration": 6,
        "start_time": "2022-12-07T11:32:41.205Z"
      },
      {
        "duration": 1451,
        "start_time": "2022-12-07T11:54:45.608Z"
      },
      {
        "duration": 41,
        "start_time": "2022-12-07T11:54:47.061Z"
      },
      {
        "duration": 19,
        "start_time": "2022-12-07T11:54:47.103Z"
      },
      {
        "duration": 39,
        "start_time": "2022-12-07T11:54:47.124Z"
      },
      {
        "duration": 17,
        "start_time": "2022-12-07T11:54:47.164Z"
      },
      {
        "duration": 40,
        "start_time": "2022-12-07T11:54:47.182Z"
      },
      {
        "duration": 57,
        "start_time": "2022-12-07T11:54:47.223Z"
      },
      {
        "duration": 1685,
        "start_time": "2022-12-07T11:54:47.281Z"
      },
      {
        "duration": 9,
        "start_time": "2022-12-07T11:54:48.968Z"
      },
      {
        "duration": 58,
        "start_time": "2022-12-07T11:54:48.980Z"
      },
      {
        "duration": 186,
        "start_time": "2022-12-07T11:54:49.041Z"
      },
      {
        "duration": 158,
        "start_time": "2022-12-07T11:55:34.986Z"
      },
      {
        "duration": 10,
        "start_time": "2022-12-07T11:56:07.664Z"
      },
      {
        "duration": 9,
        "start_time": "2022-12-07T11:56:22.104Z"
      },
      {
        "duration": 9,
        "start_time": "2022-12-07T14:12:53.648Z"
      },
      {
        "duration": 16,
        "start_time": "2022-12-07T14:13:03.800Z"
      },
      {
        "duration": 7,
        "start_time": "2022-12-07T14:13:05.460Z"
      },
      {
        "duration": 9,
        "start_time": "2022-12-07T14:15:52.529Z"
      },
      {
        "duration": 1404,
        "start_time": "2022-12-07T14:16:19.366Z"
      },
      {
        "duration": 40,
        "start_time": "2022-12-07T14:16:20.772Z"
      },
      {
        "duration": 15,
        "start_time": "2022-12-07T14:16:20.814Z"
      },
      {
        "duration": 8,
        "start_time": "2022-12-07T14:16:20.831Z"
      },
      {
        "duration": 9,
        "start_time": "2022-12-07T14:16:20.841Z"
      },
      {
        "duration": 15,
        "start_time": "2022-12-07T14:16:20.851Z"
      },
      {
        "duration": 4,
        "start_time": "2022-12-07T14:16:20.867Z"
      },
      {
        "duration": 1525,
        "start_time": "2022-12-07T14:16:20.872Z"
      },
      {
        "duration": 7,
        "start_time": "2022-12-07T14:16:22.399Z"
      },
      {
        "duration": 4,
        "start_time": "2022-12-07T14:16:22.408Z"
      },
      {
        "duration": 116,
        "start_time": "2022-12-07T14:16:22.414Z"
      },
      {
        "duration": 12,
        "start_time": "2022-12-07T14:16:22.531Z"
      },
      {
        "duration": 22,
        "start_time": "2022-12-07T14:16:22.545Z"
      },
      {
        "duration": 7,
        "start_time": "2022-12-07T14:16:22.570Z"
      },
      {
        "duration": 5,
        "start_time": "2022-12-07T14:16:22.579Z"
      },
      {
        "duration": 160,
        "start_time": "2022-12-07T14:16:22.585Z"
      },
      {
        "duration": 5,
        "start_time": "2022-12-07T14:16:22.747Z"
      },
      {
        "duration": 9,
        "start_time": "2022-12-07T14:16:22.754Z"
      },
      {
        "duration": 12,
        "start_time": "2022-12-07T14:16:22.764Z"
      },
      {
        "duration": 7,
        "start_time": "2022-12-07T14:16:22.778Z"
      },
      {
        "duration": 10,
        "start_time": "2022-12-07T14:16:29.729Z"
      },
      {
        "duration": 5,
        "start_time": "2022-12-07T14:17:17.432Z"
      },
      {
        "duration": 9,
        "start_time": "2022-12-07T14:17:41.990Z"
      },
      {
        "duration": 9,
        "start_time": "2022-12-07T14:18:11.858Z"
      },
      {
        "duration": 8,
        "start_time": "2022-12-07T14:18:20.288Z"
      },
      {
        "duration": 9,
        "start_time": "2022-12-07T14:18:27.717Z"
      },
      {
        "duration": 12,
        "start_time": "2022-12-07T14:18:31.026Z"
      },
      {
        "duration": 22,
        "start_time": "2022-12-07T14:19:04.563Z"
      },
      {
        "duration": 17,
        "start_time": "2022-12-07T14:21:53.668Z"
      },
      {
        "duration": 127,
        "start_time": "2022-12-07T14:22:18.998Z"
      },
      {
        "duration": 22,
        "start_time": "2022-12-07T14:23:06.458Z"
      },
      {
        "duration": 30,
        "start_time": "2022-12-07T14:23:31.920Z"
      },
      {
        "duration": 11,
        "start_time": "2022-12-07T14:23:35.691Z"
      },
      {
        "duration": 37,
        "start_time": "2022-12-07T14:24:46.838Z"
      },
      {
        "duration": 50,
        "start_time": "2022-12-07T14:25:11.409Z"
      },
      {
        "duration": 35,
        "start_time": "2022-12-07T14:25:23.406Z"
      },
      {
        "duration": 36,
        "start_time": "2022-12-07T14:25:26.528Z"
      },
      {
        "duration": 442,
        "start_time": "2022-12-07T14:25:36.167Z"
      },
      {
        "duration": 434,
        "start_time": "2022-12-07T14:25:43.468Z"
      },
      {
        "duration": 407,
        "start_time": "2022-12-07T14:25:51.698Z"
      },
      {
        "duration": 33,
        "start_time": "2022-12-07T14:26:31.068Z"
      },
      {
        "duration": 1771,
        "start_time": "2022-12-07T14:27:13.129Z"
      },
      {
        "duration": 174,
        "start_time": "2022-12-07T14:27:21.507Z"
      },
      {
        "duration": 88400,
        "start_time": "2022-12-07T14:27:42.189Z"
      },
      {
        "duration": 24,
        "start_time": "2022-12-07T14:30:20.917Z"
      },
      {
        "duration": 5,
        "start_time": "2022-12-07T14:30:40.395Z"
      },
      {
        "duration": 41,
        "start_time": "2022-12-07T14:30:40.403Z"
      },
      {
        "duration": 12,
        "start_time": "2022-12-07T14:30:40.446Z"
      },
      {
        "duration": 7,
        "start_time": "2022-12-07T14:30:40.460Z"
      },
      {
        "duration": 14,
        "start_time": "2022-12-07T14:30:40.469Z"
      },
      {
        "duration": 22,
        "start_time": "2022-12-07T14:30:40.484Z"
      },
      {
        "duration": 3,
        "start_time": "2022-12-07T14:30:40.508Z"
      },
      {
        "duration": 1492,
        "start_time": "2022-12-07T14:30:40.513Z"
      },
      {
        "duration": 7,
        "start_time": "2022-12-07T14:30:42.007Z"
      },
      {
        "duration": 6,
        "start_time": "2022-12-07T14:30:42.025Z"
      },
      {
        "duration": 116,
        "start_time": "2022-12-07T14:30:42.032Z"
      },
      {
        "duration": 11,
        "start_time": "2022-12-07T14:30:42.149Z"
      },
      {
        "duration": 19,
        "start_time": "2022-12-07T14:30:42.161Z"
      },
      {
        "duration": 7,
        "start_time": "2022-12-07T14:30:42.183Z"
      },
      {
        "duration": 12,
        "start_time": "2022-12-07T14:30:42.191Z"
      },
      {
        "duration": 157,
        "start_time": "2022-12-07T14:30:42.204Z"
      },
      {
        "duration": 4,
        "start_time": "2022-12-07T14:30:42.363Z"
      },
      {
        "duration": 11,
        "start_time": "2022-12-07T14:30:42.368Z"
      },
      {
        "duration": 8,
        "start_time": "2022-12-07T14:30:42.380Z"
      },
      {
        "duration": 8,
        "start_time": "2022-12-07T14:30:42.390Z"
      },
      {
        "duration": 12,
        "start_time": "2022-12-07T14:30:42.400Z"
      },
      {
        "duration": 24,
        "start_time": "2022-12-07T14:30:42.414Z"
      },
      {
        "duration": 27,
        "start_time": "2022-12-07T14:30:42.440Z"
      },
      {
        "duration": 11,
        "start_time": "2022-12-07T14:30:42.468Z"
      },
      {
        "duration": 60,
        "start_time": "2022-12-07T14:30:42.481Z"
      },
      {
        "duration": 348,
        "start_time": "2022-12-07T14:30:42.543Z"
      },
      {
        "duration": 42,
        "start_time": "2022-12-07T14:30:42.892Z"
      },
      {
        "duration": 1895,
        "start_time": "2022-12-07T14:30:42.936Z"
      },
      {
        "duration": 161,
        "start_time": "2022-12-07T14:30:44.833Z"
      },
      {
        "duration": 88631,
        "start_time": "2022-12-07T14:30:44.995Z"
      },
      {
        "duration": 25,
        "start_time": "2022-12-07T14:32:13.627Z"
      },
      {
        "duration": 186,
        "start_time": "2022-12-07T14:32:13.653Z"
      },
      {
        "duration": 12,
        "start_time": "2022-12-07T14:32:13.925Z"
      },
      {
        "duration": 203,
        "start_time": "2022-12-07T14:32:13.940Z"
      },
      {
        "duration": 138,
        "start_time": "2022-12-07T14:32:14.145Z"
      },
      {
        "duration": 6,
        "start_time": "2022-12-07T14:32:14.285Z"
      },
      {
        "duration": 44,
        "start_time": "2022-12-07T14:32:14.293Z"
      },
      {
        "duration": 18,
        "start_time": "2022-12-07T14:32:55.098Z"
      },
      {
        "duration": 26,
        "start_time": "2022-12-07T14:33:36.777Z"
      },
      {
        "duration": 155,
        "start_time": "2022-12-07T14:33:40.375Z"
      },
      {
        "duration": 7,
        "start_time": "2022-12-07T14:33:51.405Z"
      },
      {
        "duration": 5,
        "start_time": "2022-12-07T14:33:53.417Z"
      },
      {
        "duration": 121,
        "start_time": "2022-12-07T14:33:54.558Z"
      },
      {
        "duration": 6,
        "start_time": "2022-12-07T14:33:59.897Z"
      },
      {
        "duration": 20,
        "start_time": "2022-12-07T14:34:02.208Z"
      },
      {
        "duration": 1449,
        "start_time": "2022-12-07T14:34:45.166Z"
      },
      {
        "duration": 40,
        "start_time": "2022-12-07T14:34:46.617Z"
      },
      {
        "duration": 17,
        "start_time": "2022-12-07T14:34:46.658Z"
      },
      {
        "duration": 3,
        "start_time": "2022-12-07T14:34:46.677Z"
      },
      {
        "duration": 16,
        "start_time": "2022-12-07T14:34:46.682Z"
      },
      {
        "duration": 17,
        "start_time": "2022-12-07T14:34:46.700Z"
      },
      {
        "duration": 3,
        "start_time": "2022-12-07T14:34:46.719Z"
      },
      {
        "duration": 1537,
        "start_time": "2022-12-07T14:34:46.724Z"
      },
      {
        "duration": 7,
        "start_time": "2022-12-07T14:34:48.263Z"
      },
      {
        "duration": 4,
        "start_time": "2022-12-07T14:34:48.272Z"
      },
      {
        "duration": 112,
        "start_time": "2022-12-07T14:34:48.278Z"
      },
      {
        "duration": 11,
        "start_time": "2022-12-07T14:34:48.391Z"
      },
      {
        "duration": 10,
        "start_time": "2022-12-07T14:34:48.404Z"
      },
      {
        "duration": 6,
        "start_time": "2022-12-07T14:34:48.427Z"
      },
      {
        "duration": 8,
        "start_time": "2022-12-07T14:34:48.434Z"
      },
      {
        "duration": 134,
        "start_time": "2022-12-07T14:34:48.444Z"
      },
      {
        "duration": 5,
        "start_time": "2022-12-07T14:34:48.580Z"
      },
      {
        "duration": 27,
        "start_time": "2022-12-07T14:34:48.587Z"
      },
      {
        "duration": 7,
        "start_time": "2022-12-07T14:34:48.616Z"
      },
      {
        "duration": 19,
        "start_time": "2022-12-07T14:34:48.624Z"
      },
      {
        "duration": 17,
        "start_time": "2022-12-07T14:34:48.645Z"
      },
      {
        "duration": 20,
        "start_time": "2022-12-07T14:34:48.664Z"
      },
      {
        "duration": 34,
        "start_time": "2022-12-07T14:34:48.686Z"
      },
      {
        "duration": 11,
        "start_time": "2022-12-07T14:34:48.721Z"
      },
      {
        "duration": 60,
        "start_time": "2022-12-07T14:34:48.733Z"
      },
      {
        "duration": 411,
        "start_time": "2022-12-07T14:34:48.795Z"
      },
      {
        "duration": 34,
        "start_time": "2022-12-07T14:34:49.208Z"
      },
      {
        "duration": 1936,
        "start_time": "2022-12-07T14:34:49.243Z"
      },
      {
        "duration": 168,
        "start_time": "2022-12-07T14:34:51.181Z"
      },
      {
        "duration": 88261,
        "start_time": "2022-12-07T14:34:51.350Z"
      },
      {
        "duration": 30,
        "start_time": "2022-12-07T14:36:19.613Z"
      },
      {
        "duration": 88,
        "start_time": "2022-12-07T14:36:19.645Z"
      },
      {
        "duration": 94,
        "start_time": "2022-12-07T14:36:19.735Z"
      },
      {
        "duration": 192,
        "start_time": "2022-12-07T14:36:19.837Z"
      },
      {
        "duration": 143,
        "start_time": "2022-12-07T14:36:20.031Z"
      },
      {
        "duration": 7,
        "start_time": "2022-12-07T14:36:20.176Z"
      },
      {
        "duration": 33,
        "start_time": "2022-12-07T14:36:25.639Z"
      },
      {
        "duration": 12,
        "start_time": "2022-12-07T14:36:44.133Z"
      },
      {
        "duration": 121,
        "start_time": "2022-12-07T14:36:46.528Z"
      },
      {
        "duration": 21,
        "start_time": "2022-12-07T14:36:58.288Z"
      },
      {
        "duration": 1421,
        "start_time": "2022-12-07T14:37:24.388Z"
      },
      {
        "duration": 41,
        "start_time": "2022-12-07T14:37:25.811Z"
      },
      {
        "duration": 17,
        "start_time": "2022-12-07T14:37:25.853Z"
      },
      {
        "duration": 23,
        "start_time": "2022-12-07T14:37:25.873Z"
      },
      {
        "duration": 40,
        "start_time": "2022-12-07T14:37:25.897Z"
      },
      {
        "duration": 41,
        "start_time": "2022-12-07T14:37:25.938Z"
      },
      {
        "duration": 28,
        "start_time": "2022-12-07T14:37:25.980Z"
      },
      {
        "duration": 1504,
        "start_time": "2022-12-07T14:37:26.009Z"
      },
      {
        "duration": 7,
        "start_time": "2022-12-07T14:37:27.515Z"
      },
      {
        "duration": 21,
        "start_time": "2022-12-07T14:37:27.525Z"
      },
      {
        "duration": 129,
        "start_time": "2022-12-07T14:37:27.547Z"
      },
      {
        "duration": 10,
        "start_time": "2022-12-07T14:37:27.677Z"
      },
      {
        "duration": 55,
        "start_time": "2022-12-07T14:37:27.689Z"
      },
      {
        "duration": 30,
        "start_time": "2022-12-07T14:37:27.746Z"
      },
      {
        "duration": 52,
        "start_time": "2022-12-07T14:37:27.777Z"
      },
      {
        "duration": 151,
        "start_time": "2022-12-07T14:37:27.830Z"
      },
      {
        "duration": 5,
        "start_time": "2022-12-07T14:37:27.983Z"
      },
      {
        "duration": 50,
        "start_time": "2022-12-07T14:37:27.989Z"
      },
      {
        "duration": 27,
        "start_time": "2022-12-07T14:37:28.040Z"
      },
      {
        "duration": 34,
        "start_time": "2022-12-07T14:37:28.068Z"
      },
      {
        "duration": 24,
        "start_time": "2022-12-07T14:37:28.104Z"
      },
      {
        "duration": 57,
        "start_time": "2022-12-07T14:37:28.130Z"
      },
      {
        "duration": 45,
        "start_time": "2022-12-07T14:37:28.189Z"
      },
      {
        "duration": 40,
        "start_time": "2022-12-07T14:37:28.236Z"
      },
      {
        "duration": 86,
        "start_time": "2022-12-07T14:37:28.277Z"
      },
      {
        "duration": 387,
        "start_time": "2022-12-07T14:37:28.364Z"
      },
      {
        "duration": 81,
        "start_time": "2022-12-07T14:37:28.752Z"
      },
      {
        "duration": 1925,
        "start_time": "2022-12-07T14:37:28.838Z"
      },
      {
        "duration": 167,
        "start_time": "2022-12-07T14:37:30.765Z"
      },
      {
        "duration": 15,
        "start_time": "2022-12-07T14:37:34.608Z"
      },
      {
        "duration": 18,
        "start_time": "2022-12-07T14:38:05.466Z"
      },
      {
        "duration": 120,
        "start_time": "2022-12-07T14:38:06.965Z"
      },
      {
        "duration": 142,
        "start_time": "2022-12-07T14:38:15.798Z"
      },
      {
        "duration": 20,
        "start_time": "2022-12-07T14:38:23.088Z"
      },
      {
        "duration": 5,
        "start_time": "2022-12-07T14:38:27.379Z"
      },
      {
        "duration": 113,
        "start_time": "2022-12-07T14:38:29.065Z"
      },
      {
        "duration": 5,
        "start_time": "2022-12-07T14:38:34.775Z"
      },
      {
        "duration": 19,
        "start_time": "2022-12-07T14:38:38.168Z"
      },
      {
        "duration": 11,
        "start_time": "2022-12-07T14:39:48.131Z"
      },
      {
        "duration": 18,
        "start_time": "2022-12-07T14:39:50.398Z"
      },
      {
        "duration": 208,
        "start_time": "2022-12-07T14:39:52.817Z"
      },
      {
        "duration": 9,
        "start_time": "2022-12-07T14:39:55.660Z"
      },
      {
        "duration": 4,
        "start_time": "2022-12-07T14:39:57.518Z"
      },
      {
        "duration": 118,
        "start_time": "2022-12-07T14:39:59.298Z"
      },
      {
        "duration": 7,
        "start_time": "2022-12-07T14:40:01.946Z"
      },
      {
        "duration": 22,
        "start_time": "2022-12-07T14:40:03.808Z"
      },
      {
        "duration": 2488,
        "start_time": "2022-12-07T14:40:26.418Z"
      },
      {
        "duration": 1789,
        "start_time": "2022-12-07T14:40:56.338Z"
      },
      {
        "duration": 1876,
        "start_time": "2022-12-07T14:41:09.506Z"
      },
      {
        "duration": 39165,
        "start_time": "2022-12-07T14:41:29.288Z"
      },
      {
        "duration": 39510,
        "start_time": "2022-12-07T14:43:04.809Z"
      },
      {
        "duration": 4,
        "start_time": "2022-12-07T14:43:48.991Z"
      },
      {
        "duration": 9,
        "start_time": "2022-12-07T14:43:52.208Z"
      },
      {
        "duration": 5,
        "start_time": "2022-12-07T14:43:55.078Z"
      },
      {
        "duration": 4,
        "start_time": "2022-12-07T14:43:58.538Z"
      },
      {
        "duration": 5,
        "start_time": "2022-12-07T14:44:00.539Z"
      },
      {
        "duration": 230,
        "start_time": "2022-12-07T14:44:02.917Z"
      },
      {
        "duration": 6,
        "start_time": "2022-12-07T14:44:07.568Z"
      },
      {
        "duration": 19,
        "start_time": "2022-12-07T14:50:08.479Z"
      },
      {
        "duration": 10,
        "start_time": "2022-12-07T14:51:53.751Z"
      },
      {
        "duration": 21,
        "start_time": "2022-12-07T14:51:56.811Z"
      },
      {
        "duration": 11,
        "start_time": "2022-12-07T14:52:12.910Z"
      },
      {
        "duration": 18,
        "start_time": "2022-12-07T14:52:50.370Z"
      },
      {
        "duration": 5,
        "start_time": "2022-12-07T15:30:08.020Z"
      },
      {
        "duration": 60,
        "start_time": "2022-12-07T15:30:08.027Z"
      },
      {
        "duration": 12,
        "start_time": "2022-12-07T15:30:08.089Z"
      },
      {
        "duration": 25,
        "start_time": "2022-12-07T15:30:08.103Z"
      },
      {
        "duration": 14,
        "start_time": "2022-12-07T15:30:08.130Z"
      },
      {
        "duration": 18,
        "start_time": "2022-12-07T15:30:08.146Z"
      },
      {
        "duration": 4,
        "start_time": "2022-12-07T15:30:08.166Z"
      },
      {
        "duration": 1369,
        "start_time": "2022-12-07T15:30:08.172Z"
      },
      {
        "duration": 7,
        "start_time": "2022-12-07T15:30:09.543Z"
      },
      {
        "duration": 13,
        "start_time": "2022-12-07T15:30:09.554Z"
      },
      {
        "duration": 122,
        "start_time": "2022-12-07T15:30:09.569Z"
      },
      {
        "duration": 11,
        "start_time": "2022-12-07T15:30:09.692Z"
      },
      {
        "duration": 25,
        "start_time": "2022-12-07T15:30:09.705Z"
      },
      {
        "duration": 5,
        "start_time": "2022-12-07T15:30:09.731Z"
      },
      {
        "duration": 10,
        "start_time": "2022-12-07T15:30:09.737Z"
      },
      {
        "duration": 147,
        "start_time": "2022-12-07T15:30:09.748Z"
      },
      {
        "duration": 7,
        "start_time": "2022-12-07T15:30:09.897Z"
      },
      {
        "duration": 9,
        "start_time": "2022-12-07T15:30:09.905Z"
      },
      {
        "duration": 4,
        "start_time": "2022-12-07T15:30:09.927Z"
      },
      {
        "duration": 9,
        "start_time": "2022-12-07T15:30:09.933Z"
      },
      {
        "duration": 9,
        "start_time": "2022-12-07T15:30:09.944Z"
      },
      {
        "duration": 18,
        "start_time": "2022-12-07T15:30:09.955Z"
      },
      {
        "duration": 28,
        "start_time": "2022-12-07T15:30:09.975Z"
      },
      {
        "duration": 30,
        "start_time": "2022-12-07T15:30:10.005Z"
      },
      {
        "duration": 53,
        "start_time": "2022-12-07T15:30:10.036Z"
      },
      {
        "duration": 382,
        "start_time": "2022-12-07T15:30:10.090Z"
      },
      {
        "duration": 60,
        "start_time": "2022-12-07T15:30:10.473Z"
      },
      {
        "duration": 1899,
        "start_time": "2022-12-07T15:30:10.536Z"
      },
      {
        "duration": 164,
        "start_time": "2022-12-07T15:30:12.436Z"
      },
      {
        "duration": 90436,
        "start_time": "2022-12-07T15:30:12.601Z"
      },
      {
        "duration": 11,
        "start_time": "2022-12-07T15:31:43.039Z"
      },
      {
        "duration": 17,
        "start_time": "2022-12-07T15:34:08.321Z"
      },
      {
        "duration": 12,
        "start_time": "2022-12-07T15:37:20.045Z"
      },
      {
        "duration": 4,
        "start_time": "2022-12-07T15:37:46.808Z"
      },
      {
        "duration": 12,
        "start_time": "2022-12-07T15:37:54.407Z"
      },
      {
        "duration": 16,
        "start_time": "2022-12-07T15:38:05.819Z"
      },
      {
        "duration": 8,
        "start_time": "2022-12-07T15:38:42.713Z"
      },
      {
        "duration": 18,
        "start_time": "2022-12-07T15:38:45.325Z"
      },
      {
        "duration": 1454,
        "start_time": "2022-12-07T15:39:06.003Z"
      },
      {
        "duration": 41,
        "start_time": "2022-12-07T15:39:07.460Z"
      },
      {
        "duration": 19,
        "start_time": "2022-12-07T15:39:07.502Z"
      },
      {
        "duration": 27,
        "start_time": "2022-12-07T15:39:07.523Z"
      },
      {
        "duration": 21,
        "start_time": "2022-12-07T15:39:07.552Z"
      },
      {
        "duration": 35,
        "start_time": "2022-12-07T15:39:07.575Z"
      },
      {
        "duration": 24,
        "start_time": "2022-12-07T15:39:07.612Z"
      },
      {
        "duration": 1567,
        "start_time": "2022-12-07T15:39:07.638Z"
      },
      {
        "duration": 7,
        "start_time": "2022-12-07T15:39:09.207Z"
      },
      {
        "duration": 9,
        "start_time": "2022-12-07T15:39:09.216Z"
      },
      {
        "duration": 118,
        "start_time": "2022-12-07T15:39:09.226Z"
      },
      {
        "duration": 11,
        "start_time": "2022-12-07T15:39:09.346Z"
      },
      {
        "duration": 14,
        "start_time": "2022-12-07T15:39:09.359Z"
      },
      {
        "duration": 6,
        "start_time": "2022-12-07T15:39:09.374Z"
      },
      {
        "duration": 19,
        "start_time": "2022-12-07T15:39:09.381Z"
      },
      {
        "duration": 144,
        "start_time": "2022-12-07T15:39:09.402Z"
      },
      {
        "duration": 5,
        "start_time": "2022-12-07T15:39:09.547Z"
      },
      {
        "duration": 10,
        "start_time": "2022-12-07T15:39:09.554Z"
      },
      {
        "duration": 7,
        "start_time": "2022-12-07T15:39:09.566Z"
      },
      {
        "duration": 10,
        "start_time": "2022-12-07T15:39:09.575Z"
      },
      {
        "duration": 18,
        "start_time": "2022-12-07T15:39:09.587Z"
      },
      {
        "duration": 36,
        "start_time": "2022-12-07T15:39:09.606Z"
      },
      {
        "duration": 29,
        "start_time": "2022-12-07T15:39:09.644Z"
      },
      {
        "duration": 13,
        "start_time": "2022-12-07T15:39:09.675Z"
      },
      {
        "duration": 55,
        "start_time": "2022-12-07T15:39:09.690Z"
      },
      {
        "duration": 363,
        "start_time": "2022-12-07T15:39:09.747Z"
      },
      {
        "duration": 31,
        "start_time": "2022-12-07T15:39:10.112Z"
      },
      {
        "duration": 1984,
        "start_time": "2022-12-07T15:39:10.146Z"
      },
      {
        "duration": 180,
        "start_time": "2022-12-07T15:39:12.132Z"
      },
      {
        "duration": 8,
        "start_time": "2022-12-07T15:39:22.191Z"
      },
      {
        "duration": 124,
        "start_time": "2022-12-07T15:39:25.322Z"
      },
      {
        "duration": 19,
        "start_time": "2022-12-07T15:39:49.581Z"
      },
      {
        "duration": 19,
        "start_time": "2022-12-07T15:39:53.088Z"
      },
      {
        "duration": 19,
        "start_time": "2022-12-07T15:40:00.809Z"
      },
      {
        "duration": 10,
        "start_time": "2022-12-07T15:40:15.157Z"
      },
      {
        "duration": 4,
        "start_time": "2022-12-07T16:39:25.914Z"
      },
      {
        "duration": 4,
        "start_time": "2022-12-07T16:39:34.559Z"
      },
      {
        "duration": 104,
        "start_time": "2022-12-07T16:42:31.808Z"
      },
      {
        "duration": 39,
        "start_time": "2022-12-07T16:42:40.966Z"
      },
      {
        "duration": 1351,
        "start_time": "2022-12-07T16:42:47.447Z"
      },
      {
        "duration": 44,
        "start_time": "2022-12-07T16:42:48.800Z"
      },
      {
        "duration": 17,
        "start_time": "2022-12-07T16:42:48.846Z"
      },
      {
        "duration": 3,
        "start_time": "2022-12-07T16:42:48.866Z"
      },
      {
        "duration": 7,
        "start_time": "2022-12-07T16:42:48.871Z"
      },
      {
        "duration": 16,
        "start_time": "2022-12-07T16:42:48.879Z"
      },
      {
        "duration": 4,
        "start_time": "2022-12-07T16:42:48.896Z"
      },
      {
        "duration": 1471,
        "start_time": "2022-12-07T16:42:48.902Z"
      },
      {
        "duration": 7,
        "start_time": "2022-12-07T16:42:50.375Z"
      },
      {
        "duration": 4,
        "start_time": "2022-12-07T16:42:50.384Z"
      },
      {
        "duration": 105,
        "start_time": "2022-12-07T16:42:50.390Z"
      },
      {
        "duration": 10,
        "start_time": "2022-12-07T16:42:50.497Z"
      },
      {
        "duration": 22,
        "start_time": "2022-12-07T16:42:50.509Z"
      },
      {
        "duration": 5,
        "start_time": "2022-12-07T16:42:50.532Z"
      },
      {
        "duration": 10,
        "start_time": "2022-12-07T16:42:50.539Z"
      },
      {
        "duration": 128,
        "start_time": "2022-12-07T16:42:50.550Z"
      },
      {
        "duration": 5,
        "start_time": "2022-12-07T16:42:50.679Z"
      },
      {
        "duration": 7,
        "start_time": "2022-12-07T16:42:50.686Z"
      },
      {
        "duration": 5,
        "start_time": "2022-12-07T16:42:50.694Z"
      },
      {
        "duration": 7,
        "start_time": "2022-12-07T16:42:50.700Z"
      },
      {
        "duration": 8,
        "start_time": "2022-12-07T16:42:50.726Z"
      },
      {
        "duration": 26,
        "start_time": "2022-12-07T16:42:52.213Z"
      },
      {
        "duration": 25,
        "start_time": "2022-12-07T16:42:59.546Z"
      },
      {
        "duration": 27,
        "start_time": "2022-12-07T16:43:01.649Z"
      },
      {
        "duration": 11,
        "start_time": "2022-12-07T16:43:03.215Z"
      },
      {
        "duration": 79,
        "start_time": "2022-12-07T16:43:04.857Z"
      },
      {
        "duration": 13,
        "start_time": "2022-12-07T16:43:13.426Z"
      },
      {
        "duration": 11,
        "start_time": "2022-12-07T16:43:35.250Z"
      },
      {
        "duration": 10,
        "start_time": "2022-12-07T16:43:48.214Z"
      },
      {
        "duration": 25,
        "start_time": "2022-12-07T16:43:52.805Z"
      },
      {
        "duration": 26,
        "start_time": "2022-12-07T16:44:01.936Z"
      },
      {
        "duration": 4,
        "start_time": "2022-12-07T16:44:07.830Z"
      },
      {
        "duration": 4,
        "start_time": "2022-12-07T16:44:22.211Z"
      },
      {
        "duration": 112,
        "start_time": "2022-12-07T16:44:41.125Z"
      },
      {
        "duration": 11,
        "start_time": "2022-12-07T16:46:40.734Z"
      },
      {
        "duration": 29,
        "start_time": "2022-12-07T16:46:54.618Z"
      },
      {
        "duration": 25,
        "start_time": "2022-12-07T17:20:00.752Z"
      },
      {
        "duration": 25,
        "start_time": "2022-12-07T17:21:22.626Z"
      },
      {
        "duration": 1481,
        "start_time": "2022-12-08T06:46:09.639Z"
      },
      {
        "duration": 89,
        "start_time": "2022-12-08T06:46:15.335Z"
      },
      {
        "duration": 16,
        "start_time": "2022-12-08T06:46:17.274Z"
      },
      {
        "duration": 4,
        "start_time": "2022-12-08T06:46:21.465Z"
      },
      {
        "duration": 5,
        "start_time": "2022-12-08T06:46:22.935Z"
      },
      {
        "duration": 13,
        "start_time": "2022-12-08T06:46:25.588Z"
      },
      {
        "duration": 4,
        "start_time": "2022-12-08T06:46:29.723Z"
      },
      {
        "duration": 1517,
        "start_time": "2022-12-08T06:46:32.465Z"
      },
      {
        "duration": 1406,
        "start_time": "2022-12-08T06:46:54.775Z"
      },
      {
        "duration": 7,
        "start_time": "2022-12-08T08:28:58.627Z"
      },
      {
        "duration": 10,
        "start_time": "2022-12-08T08:36:53.258Z"
      },
      {
        "duration": 11,
        "start_time": "2022-12-08T08:37:25.805Z"
      },
      {
        "duration": 10,
        "start_time": "2022-12-08T08:38:55.513Z"
      },
      {
        "duration": 13,
        "start_time": "2022-12-08T08:39:09.334Z"
      },
      {
        "duration": 15,
        "start_time": "2022-12-08T08:39:51.330Z"
      },
      {
        "duration": 7,
        "start_time": "2022-12-08T08:39:53.529Z"
      },
      {
        "duration": 6,
        "start_time": "2022-12-08T08:41:36.970Z"
      },
      {
        "duration": 140,
        "start_time": "2022-12-08T08:41:40.416Z"
      },
      {
        "duration": 4,
        "start_time": "2022-12-08T08:58:48.968Z"
      },
      {
        "duration": 172,
        "start_time": "2022-12-08T08:58:54.910Z"
      },
      {
        "duration": 1366,
        "start_time": "2022-12-08T08:59:37.394Z"
      },
      {
        "duration": 40,
        "start_time": "2022-12-08T08:59:38.762Z"
      },
      {
        "duration": 17,
        "start_time": "2022-12-08T08:59:38.803Z"
      },
      {
        "duration": 7,
        "start_time": "2022-12-08T08:59:38.823Z"
      },
      {
        "duration": 13,
        "start_time": "2022-12-08T08:59:38.831Z"
      },
      {
        "duration": 20,
        "start_time": "2022-12-08T08:59:38.846Z"
      },
      {
        "duration": 5,
        "start_time": "2022-12-08T08:59:38.868Z"
      },
      {
        "duration": 1557,
        "start_time": "2022-12-08T08:59:38.897Z"
      },
      {
        "duration": 10,
        "start_time": "2022-12-08T08:59:40.456Z"
      },
      {
        "duration": 20,
        "start_time": "2022-12-08T08:59:40.468Z"
      },
      {
        "duration": 16,
        "start_time": "2022-12-08T08:59:40.490Z"
      },
      {
        "duration": 10,
        "start_time": "2022-12-08T08:59:43.886Z"
      },
      {
        "duration": 7,
        "start_time": "2022-12-08T08:59:45.467Z"
      },
      {
        "duration": 4,
        "start_time": "2022-12-08T14:05:47.066Z"
      },
      {
        "duration": 6,
        "start_time": "2022-12-08T14:08:21.568Z"
      },
      {
        "duration": 13,
        "start_time": "2022-12-08T14:09:57.551Z"
      },
      {
        "duration": 12,
        "start_time": "2022-12-08T14:10:40.819Z"
      },
      {
        "duration": 26,
        "start_time": "2022-12-08T14:11:00.854Z"
      },
      {
        "duration": 10,
        "start_time": "2022-12-08T14:12:09.613Z"
      },
      {
        "duration": 110,
        "start_time": "2022-12-08T14:13:06.476Z"
      },
      {
        "duration": 5,
        "start_time": "2022-12-08T14:15:17.606Z"
      },
      {
        "duration": 12,
        "start_time": "2022-12-08T14:15:40.555Z"
      },
      {
        "duration": 11,
        "start_time": "2022-12-08T14:15:47.142Z"
      },
      {
        "duration": 18,
        "start_time": "2022-12-08T14:16:29.731Z"
      },
      {
        "duration": 11,
        "start_time": "2022-12-08T14:16:32.438Z"
      },
      {
        "duration": 12,
        "start_time": "2022-12-08T14:16:41.671Z"
      },
      {
        "duration": 18,
        "start_time": "2022-12-08T14:17:00.505Z"
      },
      {
        "duration": 11,
        "start_time": "2022-12-08T14:17:02.579Z"
      },
      {
        "duration": 9,
        "start_time": "2022-12-08T14:17:11.361Z"
      },
      {
        "duration": 38,
        "start_time": "2022-12-08T14:17:16.094Z"
      },
      {
        "duration": 30,
        "start_time": "2022-12-08T14:17:32.290Z"
      },
      {
        "duration": 12,
        "start_time": "2022-12-08T15:55:10.584Z"
      },
      {
        "duration": 9,
        "start_time": "2022-12-08T15:58:18.770Z"
      },
      {
        "duration": 3,
        "start_time": "2022-12-08T15:58:21.130Z"
      },
      {
        "duration": 113,
        "start_time": "2022-12-08T15:58:23.387Z"
      },
      {
        "duration": 8,
        "start_time": "2022-12-08T15:58:58.681Z"
      },
      {
        "duration": 18,
        "start_time": "2022-12-08T15:59:00.103Z"
      },
      {
        "duration": 35,
        "start_time": "2022-12-08T15:59:02.406Z"
      },
      {
        "duration": 3,
        "start_time": "2022-12-08T15:59:29.814Z"
      },
      {
        "duration": 210,
        "start_time": "2022-12-08T15:59:32.789Z"
      },
      {
        "duration": 47,
        "start_time": "2022-12-08T16:02:16.955Z"
      },
      {
        "duration": 4,
        "start_time": "2022-12-08T16:02:20.608Z"
      },
      {
        "duration": 43,
        "start_time": "2022-12-08T16:02:23.062Z"
      },
      {
        "duration": 4,
        "start_time": "2022-12-08T16:03:39.984Z"
      },
      {
        "duration": 38,
        "start_time": "2022-12-08T16:03:42.564Z"
      },
      {
        "duration": 3,
        "start_time": "2022-12-08T16:03:55.374Z"
      },
      {
        "duration": 29,
        "start_time": "2022-12-08T16:04:10.182Z"
      },
      {
        "duration": 3,
        "start_time": "2022-12-08T16:04:59.571Z"
      },
      {
        "duration": 14,
        "start_time": "2022-12-08T16:05:01.407Z"
      },
      {
        "duration": 13,
        "start_time": "2022-12-08T16:06:34.793Z"
      },
      {
        "duration": 3,
        "start_time": "2022-12-08T16:07:09.103Z"
      },
      {
        "duration": 12,
        "start_time": "2022-12-08T16:07:11.302Z"
      },
      {
        "duration": 14,
        "start_time": "2022-12-08T16:07:25.871Z"
      },
      {
        "duration": 5,
        "start_time": "2022-12-08T16:13:22.544Z"
      },
      {
        "duration": 4,
        "start_time": "2022-12-08T16:13:36.295Z"
      },
      {
        "duration": 147,
        "start_time": "2022-12-08T16:13:56.852Z"
      },
      {
        "duration": 8,
        "start_time": "2022-12-08T16:14:13.693Z"
      },
      {
        "duration": 15,
        "start_time": "2022-12-08T16:14:42.183Z"
      },
      {
        "duration": 15,
        "start_time": "2022-12-08T16:14:49.204Z"
      },
      {
        "duration": 4,
        "start_time": "2022-12-08T16:17:41.419Z"
      },
      {
        "duration": 20,
        "start_time": "2022-12-08T16:17:43.492Z"
      },
      {
        "duration": 30,
        "start_time": "2022-12-08T16:17:49.374Z"
      },
      {
        "duration": 5,
        "start_time": "2022-12-08T16:21:01.126Z"
      },
      {
        "duration": 20,
        "start_time": "2022-12-08T16:21:06.083Z"
      },
      {
        "duration": 3,
        "start_time": "2022-12-08T16:21:15.423Z"
      },
      {
        "duration": 1292,
        "start_time": "2022-12-08T16:21:35.558Z"
      },
      {
        "duration": 40,
        "start_time": "2022-12-08T16:21:36.852Z"
      },
      {
        "duration": 16,
        "start_time": "2022-12-08T16:21:36.894Z"
      },
      {
        "duration": 3,
        "start_time": "2022-12-08T16:21:36.912Z"
      },
      {
        "duration": 6,
        "start_time": "2022-12-08T16:21:36.917Z"
      },
      {
        "duration": 16,
        "start_time": "2022-12-08T16:21:36.924Z"
      },
      {
        "duration": 4,
        "start_time": "2022-12-08T16:21:36.941Z"
      },
      {
        "duration": 1432,
        "start_time": "2022-12-08T16:21:36.946Z"
      },
      {
        "duration": 7,
        "start_time": "2022-12-08T16:21:38.380Z"
      },
      {
        "duration": 13,
        "start_time": "2022-12-08T16:21:38.389Z"
      },
      {
        "duration": 11,
        "start_time": "2022-12-08T16:21:38.403Z"
      },
      {
        "duration": 5,
        "start_time": "2022-12-08T16:21:38.415Z"
      },
      {
        "duration": 5,
        "start_time": "2022-12-08T16:21:38.422Z"
      },
      {
        "duration": 7,
        "start_time": "2022-12-08T16:21:38.428Z"
      },
      {
        "duration": 144,
        "start_time": "2022-12-08T16:21:38.436Z"
      },
      {
        "duration": 4,
        "start_time": "2022-12-08T16:21:38.581Z"
      },
      {
        "duration": 118,
        "start_time": "2022-12-08T16:21:38.587Z"
      },
      {
        "duration": 0,
        "start_time": "2022-12-08T16:21:38.707Z"
      },
      {
        "duration": 0,
        "start_time": "2022-12-08T16:21:38.709Z"
      },
      {
        "duration": 0,
        "start_time": "2022-12-08T16:21:38.710Z"
      },
      {
        "duration": 0,
        "start_time": "2022-12-08T16:21:38.711Z"
      },
      {
        "duration": 0,
        "start_time": "2022-12-08T16:21:38.712Z"
      },
      {
        "duration": 0,
        "start_time": "2022-12-08T16:21:38.714Z"
      },
      {
        "duration": 0,
        "start_time": "2022-12-08T16:21:38.716Z"
      },
      {
        "duration": 0,
        "start_time": "2022-12-08T16:21:38.718Z"
      },
      {
        "duration": 0,
        "start_time": "2022-12-08T16:21:38.719Z"
      },
      {
        "duration": 4,
        "start_time": "2022-12-08T16:21:40.261Z"
      },
      {
        "duration": 9,
        "start_time": "2022-12-08T16:21:43.707Z"
      },
      {
        "duration": 4,
        "start_time": "2022-12-08T16:21:50.300Z"
      },
      {
        "duration": 47,
        "start_time": "2022-12-08T16:21:50.306Z"
      },
      {
        "duration": 13,
        "start_time": "2022-12-08T16:21:50.354Z"
      },
      {
        "duration": 14,
        "start_time": "2022-12-08T16:21:50.369Z"
      },
      {
        "duration": 6,
        "start_time": "2022-12-08T16:21:50.385Z"
      },
      {
        "duration": 23,
        "start_time": "2022-12-08T16:21:50.393Z"
      },
      {
        "duration": 4,
        "start_time": "2022-12-08T16:21:50.417Z"
      },
      {
        "duration": 1345,
        "start_time": "2022-12-08T16:21:50.423Z"
      },
      {
        "duration": 8,
        "start_time": "2022-12-08T16:21:51.771Z"
      },
      {
        "duration": 23,
        "start_time": "2022-12-08T16:21:51.780Z"
      },
      {
        "duration": 11,
        "start_time": "2022-12-08T16:21:51.805Z"
      },
      {
        "duration": 32,
        "start_time": "2022-12-08T16:21:51.817Z"
      },
      {
        "duration": 88,
        "start_time": "2022-12-08T16:21:51.850Z"
      },
      {
        "duration": 59,
        "start_time": "2022-12-08T16:21:51.940Z"
      },
      {
        "duration": 143,
        "start_time": "2022-12-08T16:21:52.001Z"
      },
      {
        "duration": 4,
        "start_time": "2022-12-08T16:21:52.145Z"
      },
      {
        "duration": 21,
        "start_time": "2022-12-08T16:21:52.151Z"
      },
      {
        "duration": 0,
        "start_time": "2022-12-08T16:21:52.174Z"
      },
      {
        "duration": 0,
        "start_time": "2022-12-08T16:21:52.175Z"
      },
      {
        "duration": 0,
        "start_time": "2022-12-08T16:21:52.176Z"
      },
      {
        "duration": 0,
        "start_time": "2022-12-08T16:21:52.177Z"
      },
      {
        "duration": 0,
        "start_time": "2022-12-08T16:21:52.178Z"
      },
      {
        "duration": 0,
        "start_time": "2022-12-08T16:21:52.179Z"
      },
      {
        "duration": 0,
        "start_time": "2022-12-08T16:21:52.181Z"
      },
      {
        "duration": 0,
        "start_time": "2022-12-08T16:21:52.182Z"
      },
      {
        "duration": 0,
        "start_time": "2022-12-08T16:21:52.182Z"
      },
      {
        "duration": 5,
        "start_time": "2022-12-08T16:21:54.902Z"
      },
      {
        "duration": 8,
        "start_time": "2022-12-08T16:21:56.818Z"
      },
      {
        "duration": 9,
        "start_time": "2022-12-08T16:22:02.520Z"
      },
      {
        "duration": 12,
        "start_time": "2022-12-08T16:22:06.503Z"
      },
      {
        "duration": 10,
        "start_time": "2022-12-08T16:22:08.019Z"
      },
      {
        "duration": 20,
        "start_time": "2022-12-08T16:22:09.938Z"
      },
      {
        "duration": 11,
        "start_time": "2022-12-08T16:22:12.022Z"
      },
      {
        "duration": 40,
        "start_time": "2022-12-08T16:22:14.105Z"
      },
      {
        "duration": 92,
        "start_time": "2022-12-08T16:22:16.307Z"
      },
      {
        "duration": 3,
        "start_time": "2022-12-08T16:22:18.224Z"
      },
      {
        "duration": 9,
        "start_time": "2022-12-08T16:22:20.413Z"
      },
      {
        "duration": 5,
        "start_time": "2022-12-08T16:22:22.104Z"
      },
      {
        "duration": 267,
        "start_time": "2022-12-08T16:22:23.933Z"
      },
      {
        "duration": 4,
        "start_time": "2022-12-08T16:22:48.526Z"
      },
      {
        "duration": 29,
        "start_time": "2022-12-08T16:47:14.345Z"
      },
      {
        "duration": 1906,
        "start_time": "2022-12-08T16:47:31.839Z"
      },
      {
        "duration": 143,
        "start_time": "2022-12-08T16:47:42.167Z"
      },
      {
        "duration": 7,
        "start_time": "2022-12-08T16:51:22.083Z"
      },
      {
        "duration": 9,
        "start_time": "2022-12-08T16:51:26.247Z"
      },
      {
        "duration": 127,
        "start_time": "2022-12-08T16:51:42.373Z"
      },
      {
        "duration": 91953,
        "start_time": "2022-12-08T16:53:30.357Z"
      },
      {
        "duration": 37,
        "start_time": "2022-12-08T16:56:19.798Z"
      },
      {
        "duration": 127,
        "start_time": "2022-12-08T16:56:31.575Z"
      },
      {
        "duration": 26,
        "start_time": "2022-12-08T16:57:58.967Z"
      },
      {
        "duration": 39,
        "start_time": "2022-12-08T16:58:02.867Z"
      },
      {
        "duration": 255,
        "start_time": "2022-12-08T16:59:13.631Z"
      },
      {
        "duration": 8,
        "start_time": "2022-12-08T17:00:15.351Z"
      },
      {
        "duration": 11,
        "start_time": "2022-12-08T17:00:21.460Z"
      },
      {
        "duration": 30,
        "start_time": "2022-12-08T17:01:06.189Z"
      },
      {
        "duration": 5,
        "start_time": "2022-12-08T17:02:39.847Z"
      },
      {
        "duration": 24,
        "start_time": "2022-12-08T17:03:55.676Z"
      },
      {
        "duration": 18,
        "start_time": "2022-12-08T17:04:16.416Z"
      },
      {
        "duration": 91,
        "start_time": "2022-12-08T17:04:27.279Z"
      },
      {
        "duration": 21,
        "start_time": "2022-12-08T17:04:35.402Z"
      },
      {
        "duration": 1321,
        "start_time": "2022-12-08T17:04:51.130Z"
      },
      {
        "duration": 40,
        "start_time": "2022-12-08T17:04:52.453Z"
      },
      {
        "duration": 15,
        "start_time": "2022-12-08T17:04:52.494Z"
      },
      {
        "duration": 5,
        "start_time": "2022-12-08T17:04:52.511Z"
      },
      {
        "duration": 12,
        "start_time": "2022-12-08T17:04:52.518Z"
      },
      {
        "duration": 20,
        "start_time": "2022-12-08T17:04:52.531Z"
      },
      {
        "duration": 6,
        "start_time": "2022-12-08T17:04:52.553Z"
      },
      {
        "duration": 1430,
        "start_time": "2022-12-08T17:04:52.560Z"
      },
      {
        "duration": 7,
        "start_time": "2022-12-08T17:04:53.992Z"
      },
      {
        "duration": 30,
        "start_time": "2022-12-08T17:04:54.000Z"
      },
      {
        "duration": 30,
        "start_time": "2022-12-08T17:04:54.032Z"
      },
      {
        "duration": 13,
        "start_time": "2022-12-08T17:04:54.065Z"
      },
      {
        "duration": 18,
        "start_time": "2022-12-08T17:04:54.080Z"
      },
      {
        "duration": 29,
        "start_time": "2022-12-08T17:04:54.100Z"
      },
      {
        "duration": 138,
        "start_time": "2022-12-08T17:04:54.130Z"
      },
      {
        "duration": 4,
        "start_time": "2022-12-08T17:04:54.269Z"
      },
      {
        "duration": 116,
        "start_time": "2022-12-08T17:04:54.274Z"
      },
      {
        "duration": 0,
        "start_time": "2022-12-08T17:04:54.392Z"
      },
      {
        "duration": 0,
        "start_time": "2022-12-08T17:04:54.397Z"
      },
      {
        "duration": 0,
        "start_time": "2022-12-08T17:04:54.399Z"
      },
      {
        "duration": 0,
        "start_time": "2022-12-08T17:04:54.400Z"
      },
      {
        "duration": 0,
        "start_time": "2022-12-08T17:04:54.401Z"
      },
      {
        "duration": 0,
        "start_time": "2022-12-08T17:04:54.402Z"
      },
      {
        "duration": 0,
        "start_time": "2022-12-08T17:04:54.403Z"
      },
      {
        "duration": 0,
        "start_time": "2022-12-08T17:04:54.404Z"
      },
      {
        "duration": 0,
        "start_time": "2022-12-08T17:04:54.406Z"
      },
      {
        "duration": 0,
        "start_time": "2022-12-08T17:04:54.407Z"
      },
      {
        "duration": 0,
        "start_time": "2022-12-08T17:04:54.408Z"
      },
      {
        "duration": 0,
        "start_time": "2022-12-08T17:04:54.409Z"
      },
      {
        "duration": 0,
        "start_time": "2022-12-08T17:04:54.410Z"
      },
      {
        "duration": 0,
        "start_time": "2022-12-08T17:04:54.411Z"
      },
      {
        "duration": 0,
        "start_time": "2022-12-08T17:04:54.412Z"
      },
      {
        "duration": 0,
        "start_time": "2022-12-08T17:04:54.413Z"
      },
      {
        "duration": 0,
        "start_time": "2022-12-08T17:04:54.414Z"
      },
      {
        "duration": 0,
        "start_time": "2022-12-08T17:04:54.416Z"
      },
      {
        "duration": 0,
        "start_time": "2022-12-08T17:04:54.417Z"
      },
      {
        "duration": 0,
        "start_time": "2022-12-08T17:04:54.419Z"
      },
      {
        "duration": 0,
        "start_time": "2022-12-08T17:04:54.420Z"
      },
      {
        "duration": 0,
        "start_time": "2022-12-08T17:04:54.421Z"
      },
      {
        "duration": 11,
        "start_time": "2022-12-08T17:05:17.838Z"
      },
      {
        "duration": 7,
        "start_time": "2022-12-08T17:05:23.194Z"
      },
      {
        "duration": 82,
        "start_time": "2022-12-08T17:05:23.203Z"
      },
      {
        "duration": 12,
        "start_time": "2022-12-08T17:05:23.287Z"
      },
      {
        "duration": 39,
        "start_time": "2022-12-08T17:05:23.301Z"
      },
      {
        "duration": 21,
        "start_time": "2022-12-08T17:05:23.342Z"
      },
      {
        "duration": 25,
        "start_time": "2022-12-08T17:05:23.365Z"
      },
      {
        "duration": 36,
        "start_time": "2022-12-08T17:05:23.392Z"
      },
      {
        "duration": 1536,
        "start_time": "2022-12-08T17:05:23.429Z"
      },
      {
        "duration": 7,
        "start_time": "2022-12-08T17:05:24.968Z"
      },
      {
        "duration": 22,
        "start_time": "2022-12-08T17:05:24.976Z"
      },
      {
        "duration": 26,
        "start_time": "2022-12-08T17:05:25.000Z"
      },
      {
        "duration": 13,
        "start_time": "2022-12-08T17:05:25.028Z"
      },
      {
        "duration": 25,
        "start_time": "2022-12-08T17:05:25.043Z"
      },
      {
        "duration": 12,
        "start_time": "2022-12-08T17:05:25.070Z"
      },
      {
        "duration": 167,
        "start_time": "2022-12-08T17:05:25.084Z"
      },
      {
        "duration": 4,
        "start_time": "2022-12-08T17:05:25.254Z"
      },
      {
        "duration": 27,
        "start_time": "2022-12-08T17:05:25.259Z"
      },
      {
        "duration": 0,
        "start_time": "2022-12-08T17:05:25.288Z"
      },
      {
        "duration": 0,
        "start_time": "2022-12-08T17:05:25.290Z"
      },
      {
        "duration": 0,
        "start_time": "2022-12-08T17:05:25.291Z"
      },
      {
        "duration": 0,
        "start_time": "2022-12-08T17:05:25.292Z"
      },
      {
        "duration": 0,
        "start_time": "2022-12-08T17:05:25.292Z"
      },
      {
        "duration": 0,
        "start_time": "2022-12-08T17:05:25.298Z"
      },
      {
        "duration": 0,
        "start_time": "2022-12-08T17:05:25.299Z"
      },
      {
        "duration": 0,
        "start_time": "2022-12-08T17:05:25.300Z"
      },
      {
        "duration": 0,
        "start_time": "2022-12-08T17:05:25.302Z"
      },
      {
        "duration": 0,
        "start_time": "2022-12-08T17:05:25.303Z"
      },
      {
        "duration": 0,
        "start_time": "2022-12-08T17:05:25.304Z"
      },
      {
        "duration": 0,
        "start_time": "2022-12-08T17:05:25.305Z"
      },
      {
        "duration": 0,
        "start_time": "2022-12-08T17:05:25.307Z"
      },
      {
        "duration": 0,
        "start_time": "2022-12-08T17:05:25.308Z"
      },
      {
        "duration": 0,
        "start_time": "2022-12-08T17:05:25.309Z"
      },
      {
        "duration": 0,
        "start_time": "2022-12-08T17:05:25.310Z"
      },
      {
        "duration": 0,
        "start_time": "2022-12-08T17:05:25.312Z"
      },
      {
        "duration": 0,
        "start_time": "2022-12-08T17:05:25.313Z"
      },
      {
        "duration": 0,
        "start_time": "2022-12-08T17:05:25.315Z"
      },
      {
        "duration": 0,
        "start_time": "2022-12-08T17:05:25.485Z"
      },
      {
        "duration": 0,
        "start_time": "2022-12-08T17:05:25.486Z"
      },
      {
        "duration": 0,
        "start_time": "2022-12-08T17:05:25.488Z"
      },
      {
        "duration": 14,
        "start_time": "2022-12-08T17:05:35.761Z"
      },
      {
        "duration": 394,
        "start_time": "2022-12-08T17:05:50.494Z"
      },
      {
        "duration": 4,
        "start_time": "2022-12-08T17:06:14.314Z"
      },
      {
        "duration": 52,
        "start_time": "2022-12-08T17:06:14.320Z"
      },
      {
        "duration": 11,
        "start_time": "2022-12-08T17:06:14.374Z"
      },
      {
        "duration": 11,
        "start_time": "2022-12-08T17:06:14.387Z"
      },
      {
        "duration": 29,
        "start_time": "2022-12-08T17:06:14.400Z"
      },
      {
        "duration": 30,
        "start_time": "2022-12-08T17:06:14.430Z"
      },
      {
        "duration": 10,
        "start_time": "2022-12-08T17:06:14.461Z"
      },
      {
        "duration": 1560,
        "start_time": "2022-12-08T17:06:14.472Z"
      },
      {
        "duration": 8,
        "start_time": "2022-12-08T17:06:16.034Z"
      },
      {
        "duration": 29,
        "start_time": "2022-12-08T17:06:16.044Z"
      },
      {
        "duration": 47,
        "start_time": "2022-12-08T17:06:16.075Z"
      },
      {
        "duration": 13,
        "start_time": "2022-12-08T17:06:16.124Z"
      },
      {
        "duration": 19,
        "start_time": "2022-12-08T17:06:16.138Z"
      },
      {
        "duration": 29,
        "start_time": "2022-12-08T17:06:16.160Z"
      },
      {
        "duration": 177,
        "start_time": "2022-12-08T17:06:16.191Z"
      },
      {
        "duration": 4,
        "start_time": "2022-12-08T17:06:16.369Z"
      },
      {
        "duration": 420,
        "start_time": "2022-12-08T17:06:16.374Z"
      },
      {
        "duration": 9,
        "start_time": "2022-12-08T17:06:16.797Z"
      },
      {
        "duration": 32,
        "start_time": "2022-12-08T17:06:16.808Z"
      },
      {
        "duration": 20,
        "start_time": "2022-12-08T17:06:16.842Z"
      },
      {
        "duration": 10,
        "start_time": "2022-12-08T17:06:16.864Z"
      },
      {
        "duration": 50,
        "start_time": "2022-12-08T17:06:16.876Z"
      },
      {
        "duration": 95,
        "start_time": "2022-12-08T17:06:16.928Z"
      },
      {
        "duration": 72,
        "start_time": "2022-12-08T17:06:17.026Z"
      },
      {
        "duration": 31,
        "start_time": "2022-12-08T17:06:17.100Z"
      },
      {
        "duration": 165,
        "start_time": "2022-12-08T17:06:17.134Z"
      },
      {
        "duration": 288,
        "start_time": "2022-12-08T17:06:17.301Z"
      },
      {
        "duration": 39,
        "start_time": "2022-12-08T17:06:17.591Z"
      },
      {
        "duration": 2096,
        "start_time": "2022-12-08T17:06:17.631Z"
      },
      {
        "duration": 177,
        "start_time": "2022-12-08T17:06:19.729Z"
      },
      {
        "duration": 11,
        "start_time": "2022-12-08T17:06:19.908Z"
      },
      {
        "duration": 148,
        "start_time": "2022-12-08T17:06:19.921Z"
      },
      {
        "duration": 98303,
        "start_time": "2022-12-08T17:06:20.071Z"
      },
      {
        "duration": 51,
        "start_time": "2022-12-08T17:07:58.375Z"
      },
      {
        "duration": 176,
        "start_time": "2022-12-08T17:07:58.427Z"
      },
      {
        "duration": 29,
        "start_time": "2022-12-08T17:07:58.606Z"
      },
      {
        "duration": 303,
        "start_time": "2022-12-08T17:07:58.814Z"
      },
      {
        "duration": 14,
        "start_time": "2022-12-08T17:07:59.120Z"
      },
      {
        "duration": 309,
        "start_time": "2022-12-08T17:07:59.199Z"
      },
      {
        "duration": 26,
        "start_time": "2022-12-08T17:08:11.405Z"
      },
      {
        "duration": 96,
        "start_time": "2022-12-08T17:08:22.091Z"
      },
      {
        "duration": 15,
        "start_time": "2022-12-08T17:08:29.670Z"
      },
      {
        "duration": 13,
        "start_time": "2022-12-08T17:08:58.241Z"
      },
      {
        "duration": 11,
        "start_time": "2022-12-08T17:09:09.839Z"
      },
      {
        "duration": 51,
        "start_time": "2022-12-08T17:09:23.444Z"
      },
      {
        "duration": 165,
        "start_time": "2022-12-08T17:09:37.848Z"
      },
      {
        "duration": 9,
        "start_time": "2022-12-08T17:11:13.181Z"
      },
      {
        "duration": 268,
        "start_time": "2022-12-08T17:11:21.475Z"
      },
      {
        "duration": 16,
        "start_time": "2022-12-08T17:11:32.362Z"
      },
      {
        "duration": 10,
        "start_time": "2022-12-08T17:11:52.097Z"
      },
      {
        "duration": 3,
        "start_time": "2022-12-08T17:15:38.603Z"
      },
      {
        "duration": 11,
        "start_time": "2022-12-08T17:15:40.599Z"
      },
      {
        "duration": 44,
        "start_time": "2022-12-08T17:15:44.101Z"
      },
      {
        "duration": 115,
        "start_time": "2022-12-08T17:15:51.988Z"
      },
      {
        "duration": 13,
        "start_time": "2022-12-08T17:16:02.479Z"
      },
      {
        "duration": 1853,
        "start_time": "2022-12-08T17:16:11.453Z"
      },
      {
        "duration": 13,
        "start_time": "2022-12-08T17:40:25.054Z"
      },
      {
        "duration": 6,
        "start_time": "2022-12-08T17:40:32.238Z"
      },
      {
        "duration": 23289,
        "start_time": "2022-12-08T17:41:32.242Z"
      },
      {
        "duration": 55249,
        "start_time": "2022-12-08T17:42:05.462Z"
      },
      {
        "duration": 6646,
        "start_time": "2022-12-08T17:43:58.806Z"
      },
      {
        "duration": 33,
        "start_time": "2022-12-08T17:45:28.747Z"
      },
      {
        "duration": 59,
        "start_time": "2022-12-08T17:45:51.701Z"
      },
      {
        "duration": 42,
        "start_time": "2022-12-08T17:45:57.545Z"
      },
      {
        "duration": 2007,
        "start_time": "2022-12-08T17:46:01.106Z"
      },
      {
        "duration": 3421,
        "start_time": "2022-12-08T17:46:31.676Z"
      },
      {
        "duration": 2127,
        "start_time": "2022-12-08T17:47:11.846Z"
      },
      {
        "duration": 16,
        "start_time": "2022-12-08T18:09:44.736Z"
      },
      {
        "duration": 10,
        "start_time": "2022-12-08T18:10:13.979Z"
      },
      {
        "duration": 2110,
        "start_time": "2022-12-08T18:10:21.088Z"
      },
      {
        "duration": 43,
        "start_time": "2022-12-08T18:10:23.201Z"
      },
      {
        "duration": 18,
        "start_time": "2022-12-08T18:10:23.245Z"
      },
      {
        "duration": 6,
        "start_time": "2022-12-08T18:10:23.265Z"
      },
      {
        "duration": 12,
        "start_time": "2022-12-08T18:10:23.273Z"
      },
      {
        "duration": 23,
        "start_time": "2022-12-08T18:10:23.286Z"
      },
      {
        "duration": 4,
        "start_time": "2022-12-08T18:10:23.310Z"
      },
      {
        "duration": 1599,
        "start_time": "2022-12-08T18:10:23.315Z"
      },
      {
        "duration": 7,
        "start_time": "2022-12-08T18:10:24.916Z"
      },
      {
        "duration": 64,
        "start_time": "2022-12-08T18:10:24.925Z"
      },
      {
        "duration": 54,
        "start_time": "2022-12-08T18:10:24.991Z"
      },
      {
        "duration": 49,
        "start_time": "2022-12-08T18:10:25.046Z"
      },
      {
        "duration": 33,
        "start_time": "2022-12-08T18:10:25.097Z"
      },
      {
        "duration": 22,
        "start_time": "2022-12-08T18:10:25.133Z"
      },
      {
        "duration": 144,
        "start_time": "2022-12-08T18:10:25.156Z"
      },
      {
        "duration": 3,
        "start_time": "2022-12-08T18:10:25.302Z"
      },
      {
        "duration": 431,
        "start_time": "2022-12-08T18:10:25.307Z"
      },
      {
        "duration": 5,
        "start_time": "2022-12-08T18:10:25.740Z"
      },
      {
        "duration": 48,
        "start_time": "2022-12-08T18:10:25.747Z"
      },
      {
        "duration": 39,
        "start_time": "2022-12-08T18:10:25.797Z"
      },
      {
        "duration": 38,
        "start_time": "2022-12-08T18:10:25.838Z"
      },
      {
        "duration": 62,
        "start_time": "2022-12-08T18:10:25.878Z"
      },
      {
        "duration": 61,
        "start_time": "2022-12-08T18:10:25.942Z"
      },
      {
        "duration": 100,
        "start_time": "2022-12-08T18:10:26.006Z"
      },
      {
        "duration": 45,
        "start_time": "2022-12-08T18:10:26.108Z"
      },
      {
        "duration": 45,
        "start_time": "2022-12-08T18:10:26.155Z"
      },
      {
        "duration": 397,
        "start_time": "2022-12-08T18:10:26.202Z"
      },
      {
        "duration": 44,
        "start_time": "2022-12-08T18:10:50.020Z"
      },
      {
        "duration": 5,
        "start_time": "2022-12-08T18:10:59.951Z"
      },
      {
        "duration": 5,
        "start_time": "2022-12-08T18:11:31.861Z"
      },
      {
        "duration": 21,
        "start_time": "2022-12-08T18:13:59.042Z"
      },
      {
        "duration": 48614,
        "start_time": "2022-12-08T18:16:47.563Z"
      },
      {
        "duration": 4,
        "start_time": "2022-12-08T18:17:52.856Z"
      },
      {
        "duration": 3,
        "start_time": "2022-12-08T18:22:29.947Z"
      },
      {
        "duration": 39883,
        "start_time": "2022-12-08T18:23:23.946Z"
      },
      {
        "duration": 4,
        "start_time": "2022-12-08T18:24:23.363Z"
      },
      {
        "duration": 3,
        "start_time": "2022-12-08T18:24:27.395Z"
      },
      {
        "duration": 66386,
        "start_time": "2022-12-08T18:24:52.722Z"
      },
      {
        "duration": 3,
        "start_time": "2022-12-08T18:26:02.738Z"
      },
      {
        "duration": 3,
        "start_time": "2022-12-08T18:26:04.747Z"
      },
      {
        "duration": 5,
        "start_time": "2022-12-08T19:13:10.353Z"
      },
      {
        "duration": 4,
        "start_time": "2022-12-08T19:17:28.584Z"
      },
      {
        "duration": 82,
        "start_time": "2022-12-08T19:17:34.797Z"
      },
      {
        "duration": 45,
        "start_time": "2022-12-08T19:23:54.936Z"
      },
      {
        "duration": 1214,
        "start_time": "2022-12-08T19:23:59.334Z"
      },
      {
        "duration": 2051,
        "start_time": "2022-12-08T19:24:00.550Z"
      },
      {
        "duration": 42,
        "start_time": "2022-12-08T19:24:02.603Z"
      },
      {
        "duration": 17,
        "start_time": "2022-12-08T19:24:02.647Z"
      },
      {
        "duration": 20,
        "start_time": "2022-12-08T19:24:02.665Z"
      },
      {
        "duration": 21,
        "start_time": "2022-12-08T19:24:02.687Z"
      },
      {
        "duration": 34,
        "start_time": "2022-12-08T19:24:02.709Z"
      },
      {
        "duration": 18,
        "start_time": "2022-12-08T19:24:02.745Z"
      },
      {
        "duration": 1582,
        "start_time": "2022-12-08T19:24:02.764Z"
      },
      {
        "duration": 10,
        "start_time": "2022-12-08T19:24:04.349Z"
      },
      {
        "duration": 96,
        "start_time": "2022-12-08T19:24:07.072Z"
      },
      {
        "duration": 90,
        "start_time": "2022-12-08T19:24:47.756Z"
      },
      {
        "duration": 133,
        "start_time": "2022-12-08T19:25:28.997Z"
      },
      {
        "duration": 13,
        "start_time": "2022-12-08T19:26:10.408Z"
      },
      {
        "duration": 96,
        "start_time": "2022-12-08T19:26:39.043Z"
      },
      {
        "duration": 97,
        "start_time": "2022-12-08T19:27:05.464Z"
      },
      {
        "duration": 11,
        "start_time": "2022-12-08T19:27:09.805Z"
      },
      {
        "duration": 6,
        "start_time": "2022-12-08T19:27:11.357Z"
      },
      {
        "duration": 6,
        "start_time": "2022-12-08T19:27:14.417Z"
      },
      {
        "duration": 7,
        "start_time": "2022-12-08T19:27:19.702Z"
      },
      {
        "duration": 4,
        "start_time": "2022-12-08T19:27:24.204Z"
      },
      {
        "duration": 408,
        "start_time": "2022-12-08T19:27:31.312Z"
      },
      {
        "duration": 6,
        "start_time": "2022-12-08T19:27:36.591Z"
      },
      {
        "duration": 8,
        "start_time": "2022-12-08T19:27:41.522Z"
      },
      {
        "duration": 18,
        "start_time": "2022-12-08T19:27:43.759Z"
      },
      {
        "duration": 12,
        "start_time": "2022-12-08T19:32:46.047Z"
      },
      {
        "duration": 36,
        "start_time": "2022-12-08T19:32:52.058Z"
      },
      {
        "duration": 92,
        "start_time": "2022-12-08T19:32:54.705Z"
      },
      {
        "duration": 3,
        "start_time": "2022-12-08T19:33:00.240Z"
      },
      {
        "duration": 3,
        "start_time": "2022-12-08T19:33:41.813Z"
      },
      {
        "duration": 3,
        "start_time": "2022-12-08T19:34:18.162Z"
      },
      {
        "duration": 4,
        "start_time": "2022-12-08T19:34:41.793Z"
      },
      {
        "duration": 3,
        "start_time": "2022-12-08T19:34:59.511Z"
      },
      {
        "duration": 3,
        "start_time": "2022-12-08T19:36:36.387Z"
      },
      {
        "duration": 6,
        "start_time": "2022-12-08T19:36:39.640Z"
      },
      {
        "duration": 7,
        "start_time": "2022-12-08T19:36:42.573Z"
      },
      {
        "duration": 17,
        "start_time": "2022-12-08T19:36:44.302Z"
      },
      {
        "duration": 12,
        "start_time": "2022-12-08T19:36:45.683Z"
      },
      {
        "duration": 46,
        "start_time": "2022-12-08T19:36:47.939Z"
      },
      {
        "duration": 104,
        "start_time": "2022-12-08T19:36:54.095Z"
      },
      {
        "duration": 111,
        "start_time": "2022-12-08T19:37:39.987Z"
      },
      {
        "duration": 27,
        "start_time": "2022-12-08T19:38:04.975Z"
      },
      {
        "duration": 2,
        "start_time": "2022-12-08T19:38:19.658Z"
      },
      {
        "duration": 3,
        "start_time": "2022-12-08T19:38:42.916Z"
      },
      {
        "duration": 10,
        "start_time": "2022-12-08T19:38:47.202Z"
      },
      {
        "duration": 70,
        "start_time": "2022-12-08T19:39:01.928Z"
      },
      {
        "duration": 28,
        "start_time": "2022-12-08T19:39:07.759Z"
      },
      {
        "duration": 9,
        "start_time": "2022-12-08T19:39:10.929Z"
      },
      {
        "duration": 3,
        "start_time": "2022-12-08T19:39:53.880Z"
      },
      {
        "duration": 56,
        "start_time": "2022-12-08T19:40:01.043Z"
      },
      {
        "duration": 3,
        "start_time": "2022-12-08T19:40:18.686Z"
      },
      {
        "duration": 266,
        "start_time": "2022-12-08T19:40:21.615Z"
      },
      {
        "duration": 37,
        "start_time": "2022-12-08T19:43:42.899Z"
      },
      {
        "duration": 1802,
        "start_time": "2022-12-08T19:43:49.129Z"
      },
      {
        "duration": 2,
        "start_time": "2022-12-08T19:44:39.205Z"
      },
      {
        "duration": 154,
        "start_time": "2022-12-08T19:44:42.620Z"
      },
      {
        "duration": 8,
        "start_time": "2022-12-08T19:45:06.196Z"
      },
      {
        "duration": 2,
        "start_time": "2022-12-08T19:45:30.356Z"
      },
      {
        "duration": 107,
        "start_time": "2022-12-08T19:45:33.807Z"
      },
      {
        "duration": 55639,
        "start_time": "2022-12-08T19:46:11.152Z"
      },
      {
        "duration": 86213,
        "start_time": "2022-12-08T19:47:12.266Z"
      },
      {
        "duration": 3,
        "start_time": "2022-12-08T19:48:58.046Z"
      },
      {
        "duration": 34,
        "start_time": "2022-12-08T19:49:22.912Z"
      },
      {
        "duration": 2,
        "start_time": "2022-12-08T19:49:39.227Z"
      },
      {
        "duration": 129,
        "start_time": "2022-12-08T19:49:42.675Z"
      },
      {
        "duration": 1843,
        "start_time": "2022-12-08T19:50:40.897Z"
      },
      {
        "duration": 19,
        "start_time": "2022-12-08T19:51:29.202Z"
      },
      {
        "duration": 61,
        "start_time": "2022-12-08T19:51:31.946Z"
      },
      {
        "duration": 217,
        "start_time": "2022-12-08T19:51:43.865Z"
      },
      {
        "duration": 63,
        "start_time": "2022-12-08T19:51:47.035Z"
      },
      {
        "duration": 3,
        "start_time": "2022-12-08T19:52:27.428Z"
      },
      {
        "duration": 12,
        "start_time": "2022-12-08T19:52:29.707Z"
      },
      {
        "duration": 47,
        "start_time": "2022-12-08T19:52:35.131Z"
      },
      {
        "duration": 47,
        "start_time": "2022-12-08T19:53:13.964Z"
      },
      {
        "duration": 56,
        "start_time": "2022-12-08T19:53:37.954Z"
      },
      {
        "duration": 42,
        "start_time": "2022-12-08T19:53:41.403Z"
      },
      {
        "duration": 281,
        "start_time": "2022-12-08T19:53:54.275Z"
      },
      {
        "duration": 67,
        "start_time": "2022-12-08T19:55:27.335Z"
      },
      {
        "duration": 14,
        "start_time": "2022-12-08T19:55:35.669Z"
      },
      {
        "duration": 161,
        "start_time": "2022-12-08T19:55:39.837Z"
      },
      {
        "duration": 3,
        "start_time": "2022-12-08T19:56:18.931Z"
      },
      {
        "duration": 3,
        "start_time": "2022-12-08T19:56:36.912Z"
      },
      {
        "duration": 5,
        "start_time": "2022-12-08T19:56:42.741Z"
      },
      {
        "duration": 6,
        "start_time": "2022-12-08T19:57:15.868Z"
      },
      {
        "duration": 1238,
        "start_time": "2022-12-08T19:58:09.297Z"
      },
      {
        "duration": 2088,
        "start_time": "2022-12-08T19:58:10.537Z"
      },
      {
        "duration": 41,
        "start_time": "2022-12-08T19:58:12.626Z"
      },
      {
        "duration": 15,
        "start_time": "2022-12-08T19:58:12.669Z"
      },
      {
        "duration": 4,
        "start_time": "2022-12-08T19:58:12.686Z"
      },
      {
        "duration": 7,
        "start_time": "2022-12-08T19:58:12.692Z"
      },
      {
        "duration": 13,
        "start_time": "2022-12-08T19:58:12.701Z"
      },
      {
        "duration": 3,
        "start_time": "2022-12-08T19:58:12.716Z"
      },
      {
        "duration": 1481,
        "start_time": "2022-12-08T19:58:12.721Z"
      },
      {
        "duration": 7,
        "start_time": "2022-12-08T19:58:14.204Z"
      },
      {
        "duration": 111,
        "start_time": "2022-12-08T19:58:14.212Z"
      },
      {
        "duration": 11,
        "start_time": "2022-12-08T19:58:14.325Z"
      },
      {
        "duration": 11,
        "start_time": "2022-12-08T19:58:14.337Z"
      },
      {
        "duration": 10,
        "start_time": "2022-12-08T19:58:14.350Z"
      },
      {
        "duration": 29,
        "start_time": "2022-12-08T19:58:14.361Z"
      },
      {
        "duration": 130,
        "start_time": "2022-12-08T19:58:14.392Z"
      },
      {
        "duration": 5,
        "start_time": "2022-12-08T19:58:14.523Z"
      },
      {
        "duration": 483,
        "start_time": "2022-12-08T19:58:14.529Z"
      },
      {
        "duration": 4,
        "start_time": "2022-12-08T19:58:15.013Z"
      },
      {
        "duration": 23,
        "start_time": "2022-12-08T19:58:15.018Z"
      },
      {
        "duration": 13,
        "start_time": "2022-12-08T19:58:15.042Z"
      },
      {
        "duration": 9,
        "start_time": "2022-12-08T19:58:15.057Z"
      },
      {
        "duration": 10,
        "start_time": "2022-12-08T19:58:15.068Z"
      },
      {
        "duration": 22,
        "start_time": "2022-12-08T19:58:15.079Z"
      },
      {
        "duration": 11,
        "start_time": "2022-12-08T19:58:15.103Z"
      },
      {
        "duration": 39,
        "start_time": "2022-12-08T19:58:15.116Z"
      },
      {
        "duration": 144,
        "start_time": "2022-12-08T19:58:15.156Z"
      },
      {
        "duration": 3,
        "start_time": "2022-12-08T19:58:15.302Z"
      },
      {
        "duration": 1158,
        "start_time": "2022-12-08T19:58:31.353Z"
      },
      {
        "duration": 2063,
        "start_time": "2022-12-08T19:58:32.513Z"
      },
      {
        "duration": 42,
        "start_time": "2022-12-08T19:58:34.578Z"
      },
      {
        "duration": 28,
        "start_time": "2022-12-08T19:58:34.621Z"
      },
      {
        "duration": 25,
        "start_time": "2022-12-08T19:58:34.651Z"
      },
      {
        "duration": 16,
        "start_time": "2022-12-08T19:58:34.678Z"
      },
      {
        "duration": 35,
        "start_time": "2022-12-08T19:58:34.696Z"
      },
      {
        "duration": 24,
        "start_time": "2022-12-08T19:58:34.733Z"
      },
      {
        "duration": 1575,
        "start_time": "2022-12-08T19:58:34.759Z"
      },
      {
        "duration": 8,
        "start_time": "2022-12-08T19:58:36.337Z"
      },
      {
        "duration": 125,
        "start_time": "2022-12-08T19:58:36.346Z"
      },
      {
        "duration": 10,
        "start_time": "2022-12-08T19:58:36.473Z"
      },
      {
        "duration": 20,
        "start_time": "2022-12-08T19:58:36.485Z"
      },
      {
        "duration": 27,
        "start_time": "2022-12-08T19:58:36.506Z"
      },
      {
        "duration": 30,
        "start_time": "2022-12-08T19:58:36.535Z"
      },
      {
        "duration": 148,
        "start_time": "2022-12-08T19:58:36.567Z"
      },
      {
        "duration": 4,
        "start_time": "2022-12-08T19:58:36.716Z"
      },
      {
        "duration": 393,
        "start_time": "2022-12-08T19:58:36.721Z"
      },
      {
        "duration": 2,
        "start_time": "2022-12-08T19:58:37.116Z"
      },
      {
        "duration": 7,
        "start_time": "2022-12-08T19:58:37.120Z"
      },
      {
        "duration": 7,
        "start_time": "2022-12-08T19:58:37.128Z"
      },
      {
        "duration": 7,
        "start_time": "2022-12-08T19:58:37.136Z"
      },
      {
        "duration": 8,
        "start_time": "2022-12-08T19:58:37.145Z"
      },
      {
        "duration": 21,
        "start_time": "2022-12-08T19:58:37.154Z"
      },
      {
        "duration": 21,
        "start_time": "2022-12-08T19:58:37.177Z"
      },
      {
        "duration": 35,
        "start_time": "2022-12-08T19:58:37.199Z"
      },
      {
        "duration": 70,
        "start_time": "2022-12-08T19:58:37.236Z"
      },
      {
        "duration": 90,
        "start_time": "2022-12-08T19:58:37.309Z"
      },
      {
        "duration": 197,
        "start_time": "2022-12-08T19:58:37.400Z"
      },
      {
        "duration": 3,
        "start_time": "2022-12-08T19:58:37.599Z"
      },
      {
        "duration": 281,
        "start_time": "2022-12-08T19:58:37.604Z"
      },
      {
        "duration": 45,
        "start_time": "2022-12-08T19:58:37.887Z"
      },
      {
        "duration": 1824,
        "start_time": "2022-12-08T19:58:37.934Z"
      },
      {
        "duration": 3,
        "start_time": "2022-12-08T19:58:39.759Z"
      },
      {
        "duration": 157,
        "start_time": "2022-12-08T19:58:39.764Z"
      },
      {
        "duration": 8,
        "start_time": "2022-12-08T19:58:39.923Z"
      },
      {
        "duration": 3,
        "start_time": "2022-12-08T19:58:39.933Z"
      },
      {
        "duration": 145,
        "start_time": "2022-12-08T19:58:39.938Z"
      },
      {
        "duration": 85458,
        "start_time": "2022-12-08T19:58:40.084Z"
      },
      {
        "duration": 3,
        "start_time": "2022-12-08T20:00:05.544Z"
      },
      {
        "duration": 40,
        "start_time": "2022-12-08T20:00:05.548Z"
      },
      {
        "duration": 9,
        "start_time": "2022-12-08T20:00:05.589Z"
      },
      {
        "duration": 166,
        "start_time": "2022-12-08T20:00:05.599Z"
      },
      {
        "duration": 18,
        "start_time": "2022-12-08T20:00:05.767Z"
      },
      {
        "duration": 108,
        "start_time": "2022-12-08T20:00:05.797Z"
      },
      {
        "duration": 93,
        "start_time": "2022-12-08T20:00:05.907Z"
      },
      {
        "duration": 16,
        "start_time": "2022-12-08T20:00:06.001Z"
      },
      {
        "duration": 80,
        "start_time": "2022-12-08T20:00:06.019Z"
      },
      {
        "duration": 5,
        "start_time": "2022-12-08T20:00:06.101Z"
      },
      {
        "duration": 371,
        "start_time": "2022-12-08T20:00:06.107Z"
      },
      {
        "duration": 25,
        "start_time": "2022-12-08T20:00:06.480Z"
      },
      {
        "duration": 193,
        "start_time": "2022-12-08T20:00:06.507Z"
      },
      {
        "duration": 22,
        "start_time": "2022-12-08T20:00:06.701Z"
      },
      {
        "duration": 66973,
        "start_time": "2022-12-08T20:00:06.725Z"
      },
      {
        "duration": 3,
        "start_time": "2022-12-08T20:01:13.699Z"
      },
      {
        "duration": 6,
        "start_time": "2022-12-08T20:01:13.704Z"
      },
      {
        "duration": 190,
        "start_time": "2022-12-08T20:01:13.711Z"
      },
      {
        "duration": 5,
        "start_time": "2022-12-08T20:05:01.547Z"
      },
      {
        "duration": 2153,
        "start_time": "2022-12-08T20:05:01.554Z"
      },
      {
        "duration": 42,
        "start_time": "2022-12-08T20:05:03.709Z"
      },
      {
        "duration": 13,
        "start_time": "2022-12-08T20:05:03.753Z"
      },
      {
        "duration": 6,
        "start_time": "2022-12-08T20:05:03.768Z"
      },
      {
        "duration": 10,
        "start_time": "2022-12-08T20:05:03.776Z"
      },
      {
        "duration": 17,
        "start_time": "2022-12-08T20:05:03.787Z"
      },
      {
        "duration": 4,
        "start_time": "2022-12-08T20:05:03.806Z"
      },
      {
        "duration": 1567,
        "start_time": "2022-12-08T20:05:03.812Z"
      },
      {
        "duration": 8,
        "start_time": "2022-12-08T20:05:05.380Z"
      },
      {
        "duration": 113,
        "start_time": "2022-12-08T20:05:05.398Z"
      },
      {
        "duration": 11,
        "start_time": "2022-12-08T20:05:05.512Z"
      },
      {
        "duration": 18,
        "start_time": "2022-12-08T20:05:05.524Z"
      },
      {
        "duration": 19,
        "start_time": "2022-12-08T20:05:05.543Z"
      },
      {
        "duration": 23,
        "start_time": "2022-12-08T20:05:05.563Z"
      },
      {
        "duration": 147,
        "start_time": "2022-12-08T20:05:05.587Z"
      },
      {
        "duration": 3,
        "start_time": "2022-12-08T20:05:05.736Z"
      },
      {
        "duration": 461,
        "start_time": "2022-12-08T20:05:05.741Z"
      },
      {
        "duration": 4,
        "start_time": "2022-12-08T20:05:06.203Z"
      },
      {
        "duration": 9,
        "start_time": "2022-12-08T20:05:06.208Z"
      },
      {
        "duration": 9,
        "start_time": "2022-12-08T20:05:06.218Z"
      },
      {
        "duration": 8,
        "start_time": "2022-12-08T20:05:06.228Z"
      },
      {
        "duration": 9,
        "start_time": "2022-12-08T20:05:06.237Z"
      },
      {
        "duration": 18,
        "start_time": "2022-12-08T20:05:06.248Z"
      },
      {
        "duration": 10,
        "start_time": "2022-12-08T20:05:06.268Z"
      },
      {
        "duration": 50,
        "start_time": "2022-12-08T20:05:06.280Z"
      },
      {
        "duration": 74,
        "start_time": "2022-12-08T20:05:06.332Z"
      },
      {
        "duration": 91,
        "start_time": "2022-12-08T20:05:06.408Z"
      },
      {
        "duration": 13,
        "start_time": "2022-12-08T20:05:06.501Z"
      },
      {
        "duration": 99,
        "start_time": "2022-12-08T20:05:06.599Z"
      },
      {
        "duration": 274,
        "start_time": "2022-12-08T20:05:06.700Z"
      },
      {
        "duration": 44,
        "start_time": "2022-12-08T20:05:06.976Z"
      },
      {
        "duration": 1803,
        "start_time": "2022-12-08T20:05:07.022Z"
      },
      {
        "duration": 3,
        "start_time": "2022-12-08T20:05:08.827Z"
      },
      {
        "duration": 158,
        "start_time": "2022-12-08T20:05:08.831Z"
      },
      {
        "duration": 11,
        "start_time": "2022-12-08T20:05:08.991Z"
      },
      {
        "duration": 3,
        "start_time": "2022-12-08T20:05:09.004Z"
      },
      {
        "duration": 117,
        "start_time": "2022-12-08T20:05:09.009Z"
      },
      {
        "duration": 86859,
        "start_time": "2022-12-08T20:05:09.128Z"
      },
      {
        "duration": 3,
        "start_time": "2022-12-08T20:06:35.988Z"
      },
      {
        "duration": 37,
        "start_time": "2022-12-08T20:06:35.992Z"
      },
      {
        "duration": 2,
        "start_time": "2022-12-08T20:06:36.031Z"
      },
      {
        "duration": 165,
        "start_time": "2022-12-08T20:06:36.034Z"
      },
      {
        "duration": 17,
        "start_time": "2022-12-08T20:06:36.201Z"
      },
      {
        "duration": 86,
        "start_time": "2022-12-08T20:06:36.220Z"
      },
      {
        "duration": 90,
        "start_time": "2022-12-08T20:06:36.308Z"
      },
      {
        "duration": 98,
        "start_time": "2022-12-08T20:06:36.400Z"
      },
      {
        "duration": 104,
        "start_time": "2022-12-08T20:06:36.499Z"
      },
      {
        "duration": 5,
        "start_time": "2022-12-08T20:06:36.606Z"
      },
      {
        "duration": 422,
        "start_time": "2022-12-08T20:06:36.612Z"
      },
      {
        "duration": 62,
        "start_time": "2022-12-08T20:06:37.037Z"
      },
      {
        "duration": 104,
        "start_time": "2022-12-08T20:06:37.101Z"
      },
      {
        "duration": 20,
        "start_time": "2022-12-08T20:06:37.207Z"
      },
      {
        "duration": 12,
        "start_time": "2022-12-08T20:07:43.263Z"
      },
      {
        "duration": 276,
        "start_time": "2022-12-08T20:08:45.306Z"
      },
      {
        "duration": 1202,
        "start_time": "2022-12-08T20:09:21.097Z"
      },
      {
        "duration": 2046,
        "start_time": "2022-12-08T20:09:22.301Z"
      },
      {
        "duration": 42,
        "start_time": "2022-12-08T20:09:24.349Z"
      },
      {
        "duration": 17,
        "start_time": "2022-12-08T20:09:24.393Z"
      },
      {
        "duration": 4,
        "start_time": "2022-12-08T20:09:24.411Z"
      },
      {
        "duration": 8,
        "start_time": "2022-12-08T20:09:24.416Z"
      },
      {
        "duration": 15,
        "start_time": "2022-12-08T20:09:24.425Z"
      },
      {
        "duration": 4,
        "start_time": "2022-12-08T20:09:24.441Z"
      },
      {
        "duration": 1527,
        "start_time": "2022-12-08T20:09:24.447Z"
      },
      {
        "duration": 7,
        "start_time": "2022-12-08T20:09:25.977Z"
      },
      {
        "duration": 106,
        "start_time": "2022-12-08T20:09:25.985Z"
      },
      {
        "duration": 13,
        "start_time": "2022-12-08T20:09:26.093Z"
      },
      {
        "duration": 5,
        "start_time": "2022-12-08T20:09:26.108Z"
      },
      {
        "duration": 8,
        "start_time": "2022-12-08T20:09:26.114Z"
      },
      {
        "duration": 9,
        "start_time": "2022-12-08T20:09:26.123Z"
      },
      {
        "duration": 136,
        "start_time": "2022-12-08T20:09:26.133Z"
      },
      {
        "duration": 4,
        "start_time": "2022-12-08T20:09:26.270Z"
      },
      {
        "duration": 417,
        "start_time": "2022-12-08T20:09:26.275Z"
      },
      {
        "duration": 4,
        "start_time": "2022-12-08T20:09:26.694Z"
      },
      {
        "duration": 9,
        "start_time": "2022-12-08T20:09:26.699Z"
      },
      {
        "duration": 6,
        "start_time": "2022-12-08T20:09:26.709Z"
      },
      {
        "duration": 9,
        "start_time": "2022-12-08T20:09:26.716Z"
      },
      {
        "duration": 8,
        "start_time": "2022-12-08T20:09:26.726Z"
      },
      {
        "duration": 17,
        "start_time": "2022-12-08T20:09:26.736Z"
      },
      {
        "duration": 19,
        "start_time": "2022-12-08T20:09:26.754Z"
      },
      {
        "duration": 54,
        "start_time": "2022-12-08T20:09:26.774Z"
      },
      {
        "duration": 70,
        "start_time": "2022-12-08T20:09:26.830Z"
      },
      {
        "duration": 3,
        "start_time": "2022-12-08T20:09:26.997Z"
      },
      {
        "duration": 17,
        "start_time": "2022-12-08T20:09:27.001Z"
      },
      {
        "duration": 78,
        "start_time": "2022-12-08T20:09:27.020Z"
      },
      {
        "duration": 286,
        "start_time": "2022-12-08T20:09:27.101Z"
      },
      {
        "duration": 44,
        "start_time": "2022-12-08T20:09:27.388Z"
      },
      {
        "duration": 1771,
        "start_time": "2022-12-08T20:09:27.434Z"
      },
      {
        "duration": 3,
        "start_time": "2022-12-08T20:09:29.206Z"
      },
      {
        "duration": 156,
        "start_time": "2022-12-08T20:09:29.210Z"
      },
      {
        "duration": 7,
        "start_time": "2022-12-08T20:09:29.367Z"
      },
      {
        "duration": 8,
        "start_time": "2022-12-08T20:09:29.376Z"
      },
      {
        "duration": 112,
        "start_time": "2022-12-08T20:09:29.385Z"
      },
      {
        "duration": 84399,
        "start_time": "2022-12-08T20:09:29.498Z"
      },
      {
        "duration": 2,
        "start_time": "2022-12-08T20:10:53.899Z"
      },
      {
        "duration": 38,
        "start_time": "2022-12-08T20:10:53.903Z"
      },
      {
        "duration": 3,
        "start_time": "2022-12-08T20:10:53.942Z"
      },
      {
        "duration": 152,
        "start_time": "2022-12-08T20:10:53.947Z"
      },
      {
        "duration": 17,
        "start_time": "2022-12-08T20:10:54.101Z"
      },
      {
        "duration": 88,
        "start_time": "2022-12-08T20:10:54.119Z"
      },
      {
        "duration": 11,
        "start_time": "2022-12-08T20:10:54.298Z"
      },
      {
        "duration": 429,
        "start_time": "2022-12-08T20:10:54.399Z"
      },
      {
        "duration": 5,
        "start_time": "2022-12-08T20:10:54.830Z"
      },
      {
        "duration": 19,
        "start_time": "2022-12-08T20:10:54.836Z"
      },
      {
        "duration": 55,
        "start_time": "2022-12-08T20:10:54.857Z"
      },
      {
        "duration": 3,
        "start_time": "2022-12-08T20:10:54.914Z"
      },
      {
        "duration": 3,
        "start_time": "2022-12-08T20:11:29.323Z"
      },
      {
        "duration": 3,
        "start_time": "2022-12-08T20:11:37.688Z"
      },
      {
        "duration": 5,
        "start_time": "2022-12-08T20:11:44.932Z"
      },
      {
        "duration": 4,
        "start_time": "2022-12-08T20:11:51.740Z"
      },
      {
        "duration": 5,
        "start_time": "2022-12-08T20:12:09.454Z"
      },
      {
        "duration": 21,
        "start_time": "2022-12-08T20:12:11.524Z"
      },
      {
        "duration": 4473,
        "start_time": "2022-12-08T20:12:13.656Z"
      },
      {
        "duration": 65650,
        "start_time": "2022-12-08T20:12:26.222Z"
      },
      {
        "duration": 4,
        "start_time": "2022-12-08T20:13:37.851Z"
      },
      {
        "duration": 4,
        "start_time": "2022-12-08T20:13:40.704Z"
      },
      {
        "duration": 2,
        "start_time": "2022-12-08T20:14:21.984Z"
      },
      {
        "duration": 10,
        "start_time": "2022-12-08T20:14:53.096Z"
      },
      {
        "duration": 9,
        "start_time": "2022-12-08T20:15:02.601Z"
      },
      {
        "duration": 11,
        "start_time": "2022-12-08T20:15:08.745Z"
      },
      {
        "duration": 3,
        "start_time": "2022-12-08T20:16:10.312Z"
      },
      {
        "duration": 111,
        "start_time": "2022-12-08T20:16:26.134Z"
      },
      {
        "duration": 80,
        "start_time": "2022-12-08T20:18:35.393Z"
      },
      {
        "duration": 1015222,
        "start_time": "2022-12-08T20:18:54.894Z"
      },
      {
        "duration": 6,
        "start_time": "2022-12-08T20:35:50.118Z"
      },
      {
        "duration": 18438,
        "start_time": "2022-12-08T20:36:07.445Z"
      },
      {
        "duration": 7,
        "start_time": "2022-12-08T20:36:47.719Z"
      },
      {
        "duration": 721361,
        "start_time": "2022-12-08T20:36:56.187Z"
      },
      {
        "duration": 3,
        "start_time": "2022-12-08T20:50:44.319Z"
      },
      {
        "duration": 3,
        "start_time": "2022-12-08T20:50:47.293Z"
      },
      {
        "duration": 2,
        "start_time": "2022-12-08T20:51:29.081Z"
      },
      {
        "duration": 29,
        "start_time": "2022-12-08T20:51:54.854Z"
      },
      {
        "duration": 2,
        "start_time": "2022-12-08T20:52:10.193Z"
      },
      {
        "duration": 127,
        "start_time": "2022-12-08T20:52:28.087Z"
      },
      {
        "duration": 14,
        "start_time": "2022-12-08T20:52:35.605Z"
      },
      {
        "duration": 10,
        "start_time": "2022-12-08T20:54:51.444Z"
      },
      {
        "duration": 11,
        "start_time": "2022-12-08T20:55:26.364Z"
      },
      {
        "duration": 11,
        "start_time": "2022-12-08T20:55:56.115Z"
      },
      {
        "duration": 10,
        "start_time": "2022-12-08T20:56:08.062Z"
      },
      {
        "duration": 8,
        "start_time": "2022-12-08T20:56:53.763Z"
      },
      {
        "duration": 14,
        "start_time": "2022-12-08T20:57:02.902Z"
      },
      {
        "duration": 12,
        "start_time": "2022-12-08T20:57:14.134Z"
      },
      {
        "duration": 11,
        "start_time": "2022-12-08T20:58:08.023Z"
      },
      {
        "duration": 11,
        "start_time": "2022-12-08T20:58:11.543Z"
      },
      {
        "duration": 14,
        "start_time": "2022-12-08T20:58:49.957Z"
      },
      {
        "duration": 18,
        "start_time": "2022-12-08T20:59:04.662Z"
      },
      {
        "duration": 15,
        "start_time": "2022-12-08T20:59:14.649Z"
      },
      {
        "duration": 16,
        "start_time": "2022-12-08T20:59:30.311Z"
      },
      {
        "duration": 17,
        "start_time": "2022-12-08T20:59:34.601Z"
      },
      {
        "duration": 12,
        "start_time": "2022-12-08T20:59:37.397Z"
      },
      {
        "duration": 495,
        "start_time": "2022-12-08T21:00:17.516Z"
      },
      {
        "duration": 14,
        "start_time": "2022-12-08T21:00:29.092Z"
      },
      {
        "duration": 410,
        "start_time": "2022-12-08T21:00:33.549Z"
      },
      {
        "duration": 109,
        "start_time": "2022-12-08T21:00:44.173Z"
      },
      {
        "duration": 178,
        "start_time": "2022-12-08T21:00:51.137Z"
      },
      {
        "duration": 288,
        "start_time": "2022-12-08T21:01:44.045Z"
      },
      {
        "duration": 243,
        "start_time": "2022-12-08T21:01:53.109Z"
      },
      {
        "duration": 174,
        "start_time": "2022-12-08T21:01:59.300Z"
      },
      {
        "duration": 217,
        "start_time": "2022-12-08T21:02:03.022Z"
      },
      {
        "duration": 10,
        "start_time": "2022-12-08T21:03:06.481Z"
      },
      {
        "duration": 312,
        "start_time": "2022-12-08T21:03:25.315Z"
      },
      {
        "duration": 214,
        "start_time": "2022-12-08T21:03:32.693Z"
      },
      {
        "duration": 9,
        "start_time": "2022-12-08T21:03:37.633Z"
      },
      {
        "duration": 7,
        "start_time": "2022-12-08T21:03:55.856Z"
      },
      {
        "duration": 16,
        "start_time": "2022-12-08T21:04:47.164Z"
      },
      {
        "duration": 59,
        "start_time": "2022-12-09T04:46:59.397Z"
      },
      {
        "duration": 1667,
        "start_time": "2022-12-09T04:47:04.915Z"
      },
      {
        "duration": 7855,
        "start_time": "2022-12-09T04:47:06.584Z"
      },
      {
        "duration": 0,
        "start_time": "2022-12-09T04:47:14.443Z"
      },
      {
        "duration": 0,
        "start_time": "2022-12-09T04:47:14.443Z"
      },
      {
        "duration": 0,
        "start_time": "2022-12-09T04:47:14.444Z"
      },
      {
        "duration": 0,
        "start_time": "2022-12-09T04:47:14.445Z"
      },
      {
        "duration": 0,
        "start_time": "2022-12-09T04:47:14.446Z"
      },
      {
        "duration": 0,
        "start_time": "2022-12-09T04:47:14.447Z"
      },
      {
        "duration": 0,
        "start_time": "2022-12-09T04:47:14.448Z"
      },
      {
        "duration": 0,
        "start_time": "2022-12-09T04:47:14.449Z"
      },
      {
        "duration": 0,
        "start_time": "2022-12-09T04:47:14.450Z"
      },
      {
        "duration": 0,
        "start_time": "2022-12-09T04:47:14.451Z"
      },
      {
        "duration": 0,
        "start_time": "2022-12-09T04:47:14.452Z"
      },
      {
        "duration": 0,
        "start_time": "2022-12-09T04:47:14.453Z"
      },
      {
        "duration": 0,
        "start_time": "2022-12-09T04:47:14.454Z"
      },
      {
        "duration": 0,
        "start_time": "2022-12-09T04:47:14.455Z"
      },
      {
        "duration": 0,
        "start_time": "2022-12-09T04:47:14.456Z"
      },
      {
        "duration": 0,
        "start_time": "2022-12-09T04:47:14.457Z"
      },
      {
        "duration": 0,
        "start_time": "2022-12-09T04:47:14.458Z"
      },
      {
        "duration": 0,
        "start_time": "2022-12-09T04:47:14.459Z"
      },
      {
        "duration": 0,
        "start_time": "2022-12-09T04:47:14.460Z"
      },
      {
        "duration": 0,
        "start_time": "2022-12-09T04:47:14.462Z"
      },
      {
        "duration": 0,
        "start_time": "2022-12-09T04:47:14.463Z"
      },
      {
        "duration": 0,
        "start_time": "2022-12-09T04:47:14.464Z"
      },
      {
        "duration": 0,
        "start_time": "2022-12-09T04:47:14.465Z"
      },
      {
        "duration": 0,
        "start_time": "2022-12-09T04:47:14.467Z"
      },
      {
        "duration": 0,
        "start_time": "2022-12-09T04:47:14.468Z"
      },
      {
        "duration": 0,
        "start_time": "2022-12-09T04:47:14.469Z"
      },
      {
        "duration": 0,
        "start_time": "2022-12-09T04:47:14.471Z"
      },
      {
        "duration": 0,
        "start_time": "2022-12-09T04:47:14.472Z"
      },
      {
        "duration": 0,
        "start_time": "2022-12-09T04:47:14.473Z"
      },
      {
        "duration": 0,
        "start_time": "2022-12-09T04:47:14.473Z"
      },
      {
        "duration": 0,
        "start_time": "2022-12-09T04:47:14.474Z"
      },
      {
        "duration": 0,
        "start_time": "2022-12-09T04:47:14.515Z"
      },
      {
        "duration": 0,
        "start_time": "2022-12-09T04:47:14.517Z"
      },
      {
        "duration": 0,
        "start_time": "2022-12-09T04:47:14.518Z"
      },
      {
        "duration": 0,
        "start_time": "2022-12-09T04:47:14.519Z"
      },
      {
        "duration": 0,
        "start_time": "2022-12-09T04:47:14.519Z"
      },
      {
        "duration": 0,
        "start_time": "2022-12-09T04:47:14.520Z"
      },
      {
        "duration": 0,
        "start_time": "2022-12-09T04:47:14.521Z"
      },
      {
        "duration": 0,
        "start_time": "2022-12-09T04:47:14.523Z"
      },
      {
        "duration": 0,
        "start_time": "2022-12-09T04:47:14.524Z"
      },
      {
        "duration": 0,
        "start_time": "2022-12-09T04:47:14.524Z"
      },
      {
        "duration": 0,
        "start_time": "2022-12-09T04:47:14.525Z"
      },
      {
        "duration": 0,
        "start_time": "2022-12-09T04:47:14.525Z"
      },
      {
        "duration": 0,
        "start_time": "2022-12-09T04:47:14.526Z"
      },
      {
        "duration": 0,
        "start_time": "2022-12-09T04:47:14.527Z"
      },
      {
        "duration": 0,
        "start_time": "2022-12-09T04:47:14.527Z"
      },
      {
        "duration": 0,
        "start_time": "2022-12-09T04:47:14.528Z"
      },
      {
        "duration": 0,
        "start_time": "2022-12-09T04:47:14.529Z"
      },
      {
        "duration": 0,
        "start_time": "2022-12-09T04:47:14.529Z"
      },
      {
        "duration": 0,
        "start_time": "2022-12-09T04:47:14.531Z"
      },
      {
        "duration": 9,
        "start_time": "2022-12-09T04:47:23.183Z"
      },
      {
        "duration": 10,
        "start_time": "2022-12-09T04:47:23.278Z"
      },
      {
        "duration": 10,
        "start_time": "2022-12-09T04:47:35.247Z"
      },
      {
        "duration": 1257,
        "start_time": "2022-12-09T04:48:14.556Z"
      },
      {
        "duration": 2314,
        "start_time": "2022-12-09T04:48:17.943Z"
      },
      {
        "duration": 12,
        "start_time": "2022-12-09T04:48:35.518Z"
      },
      {
        "duration": 2456,
        "start_time": "2022-12-09T04:48:35.541Z"
      },
      {
        "duration": 112,
        "start_time": "2022-12-09T04:48:38.000Z"
      },
      {
        "duration": 30,
        "start_time": "2022-12-09T04:48:38.114Z"
      },
      {
        "duration": 5,
        "start_time": "2022-12-09T04:48:38.152Z"
      },
      {
        "duration": 11,
        "start_time": "2022-12-09T04:48:38.159Z"
      },
      {
        "duration": 20,
        "start_time": "2022-12-09T04:48:38.171Z"
      },
      {
        "duration": 4,
        "start_time": "2022-12-09T04:48:38.192Z"
      },
      {
        "duration": 1662,
        "start_time": "2022-12-09T04:48:38.198Z"
      },
      {
        "duration": 11,
        "start_time": "2022-12-09T04:48:39.862Z"
      },
      {
        "duration": 114,
        "start_time": "2022-12-09T04:48:39.877Z"
      },
      {
        "duration": 13,
        "start_time": "2022-12-09T04:48:39.993Z"
      },
      {
        "duration": 11,
        "start_time": "2022-12-09T04:48:40.007Z"
      },
      {
        "duration": 40,
        "start_time": "2022-12-09T04:48:40.020Z"
      },
      {
        "duration": 10,
        "start_time": "2022-12-09T04:48:40.062Z"
      },
      {
        "duration": 136,
        "start_time": "2022-12-09T04:48:40.074Z"
      },
      {
        "duration": 4,
        "start_time": "2022-12-09T04:48:40.211Z"
      },
      {
        "duration": 458,
        "start_time": "2022-12-09T04:48:40.217Z"
      },
      {
        "duration": 3,
        "start_time": "2022-12-09T04:48:40.677Z"
      },
      {
        "duration": 6,
        "start_time": "2022-12-09T04:48:40.681Z"
      },
      {
        "duration": 5,
        "start_time": "2022-12-09T04:48:40.688Z"
      },
      {
        "duration": 8,
        "start_time": "2022-12-09T04:48:40.694Z"
      },
      {
        "duration": 27,
        "start_time": "2022-12-09T04:48:40.703Z"
      },
      {
        "duration": 20,
        "start_time": "2022-12-09T04:48:40.735Z"
      },
      {
        "duration": 11,
        "start_time": "2022-12-09T04:48:40.757Z"
      },
      {
        "duration": 60,
        "start_time": "2022-12-09T04:48:40.769Z"
      },
      {
        "duration": 87,
        "start_time": "2022-12-09T04:48:40.831Z"
      },
      {
        "duration": 3,
        "start_time": "2022-12-09T04:48:40.920Z"
      },
      {
        "duration": 122,
        "start_time": "2022-12-09T04:48:40.929Z"
      },
      {
        "duration": 164,
        "start_time": "2022-12-09T04:48:41.053Z"
      },
      {
        "duration": 286,
        "start_time": "2022-12-09T04:48:41.219Z"
      },
      {
        "duration": 50,
        "start_time": "2022-12-09T04:48:41.517Z"
      },
      {
        "duration": 2110,
        "start_time": "2022-12-09T04:48:41.569Z"
      },
      {
        "duration": 2,
        "start_time": "2022-12-09T04:48:43.681Z"
      },
      {
        "duration": 196,
        "start_time": "2022-12-09T04:48:43.685Z"
      },
      {
        "duration": 10,
        "start_time": "2022-12-09T04:48:43.883Z"
      },
      {
        "duration": 3,
        "start_time": "2022-12-09T04:48:43.895Z"
      },
      {
        "duration": 153,
        "start_time": "2022-12-09T04:48:43.899Z"
      },
      {
        "duration": 98534,
        "start_time": "2022-12-09T04:48:44.055Z"
      },
      {
        "duration": 3,
        "start_time": "2022-12-09T04:50:22.590Z"
      },
      {
        "duration": 67,
        "start_time": "2022-12-09T04:50:22.594Z"
      },
      {
        "duration": 3,
        "start_time": "2022-12-09T04:50:22.662Z"
      },
      {
        "duration": 174,
        "start_time": "2022-12-09T04:50:22.667Z"
      },
      {
        "duration": 17,
        "start_time": "2022-12-09T04:50:22.844Z"
      },
      {
        "duration": 69,
        "start_time": "2022-12-09T04:50:22.863Z"
      },
      {
        "duration": 99,
        "start_time": "2022-12-09T04:50:22.934Z"
      },
      {
        "duration": 421,
        "start_time": "2022-12-09T04:50:23.035Z"
      },
      {
        "duration": 4,
        "start_time": "2022-12-09T04:50:23.458Z"
      },
      {
        "duration": 16,
        "start_time": "2022-12-09T04:50:23.463Z"
      },
      {
        "duration": 64,
        "start_time": "2022-12-09T04:50:23.481Z"
      },
      {
        "duration": 71,
        "start_time": "2022-12-09T04:50:23.548Z"
      },
      {
        "duration": 2,
        "start_time": "2022-12-09T04:50:44.247Z"
      },
      {
        "duration": 152,
        "start_time": "2022-12-09T04:52:07.712Z"
      },
      {
        "duration": 12,
        "start_time": "2022-12-09T04:52:13.579Z"
      },
      {
        "duration": 5,
        "start_time": "2022-12-09T04:52:34.587Z"
      },
      {
        "duration": 39,
        "start_time": "2022-12-09T04:53:14.309Z"
      },
      {
        "duration": 48,
        "start_time": "2022-12-09T04:53:47.053Z"
      },
      {
        "duration": 33,
        "start_time": "2022-12-09T04:54:49.854Z"
      },
      {
        "duration": 24,
        "start_time": "2022-12-09T04:55:04.149Z"
      },
      {
        "duration": 80278,
        "start_time": "2022-12-09T04:55:15.245Z"
      },
      {
        "duration": 6,
        "start_time": "2022-12-09T04:58:26.701Z"
      },
      {
        "duration": 14,
        "start_time": "2022-12-09T04:58:33.709Z"
      },
      {
        "duration": 73,
        "start_time": "2022-12-09T04:59:26.088Z"
      },
      {
        "duration": 4,
        "start_time": "2022-12-09T05:00:45.252Z"
      },
      {
        "duration": 3,
        "start_time": "2022-12-09T05:01:15.706Z"
      },
      {
        "duration": 2,
        "start_time": "2022-12-09T05:01:22.888Z"
      },
      {
        "duration": 12,
        "start_time": "2022-12-09T05:01:24.746Z"
      },
      {
        "duration": 5,
        "start_time": "2022-12-09T05:01:26.474Z"
      },
      {
        "duration": 149,
        "start_time": "2022-12-09T05:01:28.704Z"
      },
      {
        "duration": 7,
        "start_time": "2022-12-09T05:01:57.849Z"
      },
      {
        "duration": 14494,
        "start_time": "2022-12-09T05:02:41.347Z"
      },
      {
        "duration": 13,
        "start_time": "2022-12-09T05:03:44.697Z"
      },
      {
        "duration": 8,
        "start_time": "2022-12-09T05:03:49.546Z"
      },
      {
        "duration": 51,
        "start_time": "2022-12-09T05:03:50.726Z"
      },
      {
        "duration": 37,
        "start_time": "2022-12-09T05:04:06.463Z"
      },
      {
        "duration": 19,
        "start_time": "2022-12-09T05:04:18.147Z"
      },
      {
        "duration": 18,
        "start_time": "2022-12-09T05:04:24.667Z"
      },
      {
        "duration": 28967,
        "start_time": "2022-12-09T05:04:31.754Z"
      },
      {
        "duration": 1517,
        "start_time": "2022-12-09T05:05:25.684Z"
      },
      {
        "duration": 2508,
        "start_time": "2022-12-09T05:05:27.203Z"
      },
      {
        "duration": 67,
        "start_time": "2022-12-09T05:05:29.713Z"
      },
      {
        "duration": 22,
        "start_time": "2022-12-09T05:05:29.783Z"
      },
      {
        "duration": 5,
        "start_time": "2022-12-09T05:05:29.807Z"
      },
      {
        "duration": 43,
        "start_time": "2022-12-09T05:05:29.814Z"
      },
      {
        "duration": 21,
        "start_time": "2022-12-09T05:05:29.859Z"
      },
      {
        "duration": 5,
        "start_time": "2022-12-09T05:05:29.883Z"
      },
      {
        "duration": 1798,
        "start_time": "2022-12-09T05:05:29.890Z"
      },
      {
        "duration": 9,
        "start_time": "2022-12-09T05:05:31.691Z"
      },
      {
        "duration": 207,
        "start_time": "2022-12-09T05:05:31.701Z"
      },
      {
        "duration": 18,
        "start_time": "2022-12-09T05:05:31.910Z"
      },
      {
        "duration": 21,
        "start_time": "2022-12-09T05:05:31.931Z"
      },
      {
        "duration": 45,
        "start_time": "2022-12-09T05:05:31.954Z"
      },
      {
        "duration": 55,
        "start_time": "2022-12-09T05:05:32.001Z"
      },
      {
        "duration": 166,
        "start_time": "2022-12-09T05:05:32.058Z"
      },
      {
        "duration": 11,
        "start_time": "2022-12-09T05:05:32.226Z"
      },
      {
        "duration": 483,
        "start_time": "2022-12-09T05:05:32.239Z"
      },
      {
        "duration": 7,
        "start_time": "2022-12-09T05:05:32.725Z"
      },
      {
        "duration": 31,
        "start_time": "2022-12-09T05:05:32.734Z"
      },
      {
        "duration": 9,
        "start_time": "2022-12-09T05:05:32.767Z"
      },
      {
        "duration": 13,
        "start_time": "2022-12-09T05:05:32.777Z"
      },
      {
        "duration": 17,
        "start_time": "2022-12-09T05:05:32.792Z"
      },
      {
        "duration": 62,
        "start_time": "2022-12-09T05:05:32.811Z"
      },
      {
        "duration": 16,
        "start_time": "2022-12-09T05:05:32.876Z"
      },
      {
        "duration": 70,
        "start_time": "2022-12-09T05:05:32.894Z"
      },
      {
        "duration": 165,
        "start_time": "2022-12-09T05:05:32.966Z"
      },
      {
        "duration": 77,
        "start_time": "2022-12-09T05:05:33.139Z"
      },
      {
        "duration": 59,
        "start_time": "2022-12-09T05:05:33.218Z"
      },
      {
        "duration": 171,
        "start_time": "2022-12-09T05:05:33.280Z"
      },
      {
        "duration": 275,
        "start_time": "2022-12-09T05:05:33.453Z"
      },
      {
        "duration": 59,
        "start_time": "2022-12-09T05:05:33.730Z"
      },
      {
        "duration": 2167,
        "start_time": "2022-12-09T05:05:33.791Z"
      },
      {
        "duration": 3,
        "start_time": "2022-12-09T05:05:35.959Z"
      },
      {
        "duration": 208,
        "start_time": "2022-12-09T05:05:35.964Z"
      },
      {
        "duration": 7,
        "start_time": "2022-12-09T05:05:36.174Z"
      },
      {
        "duration": 9,
        "start_time": "2022-12-09T05:05:36.183Z"
      },
      {
        "duration": 204,
        "start_time": "2022-12-09T05:05:36.193Z"
      },
      {
        "duration": 102121,
        "start_time": "2022-12-09T05:05:36.399Z"
      },
      {
        "duration": 5,
        "start_time": "2022-12-09T05:07:18.523Z"
      },
      {
        "duration": 40,
        "start_time": "2022-12-09T05:07:18.530Z"
      },
      {
        "duration": 2,
        "start_time": "2022-12-09T05:07:18.572Z"
      },
      {
        "duration": 211,
        "start_time": "2022-12-09T05:07:18.576Z"
      },
      {
        "duration": 19,
        "start_time": "2022-12-09T05:07:18.788Z"
      },
      {
        "duration": 121,
        "start_time": "2022-12-09T05:07:18.809Z"
      },
      {
        "duration": 94,
        "start_time": "2022-12-09T05:07:18.932Z"
      },
      {
        "duration": 414,
        "start_time": "2022-12-09T05:07:19.028Z"
      },
      {
        "duration": 5,
        "start_time": "2022-12-09T05:07:19.444Z"
      },
      {
        "duration": 25,
        "start_time": "2022-12-09T05:07:19.451Z"
      },
      {
        "duration": 59,
        "start_time": "2022-12-09T05:07:19.477Z"
      },
      {
        "duration": 2,
        "start_time": "2022-12-09T05:07:19.538Z"
      },
      {
        "duration": 202,
        "start_time": "2022-12-09T05:07:19.542Z"
      },
      {
        "duration": 29,
        "start_time": "2022-12-09T05:07:19.747Z"
      },
      {
        "duration": 41,
        "start_time": "2022-12-09T05:07:19.777Z"
      },
      {
        "duration": 32,
        "start_time": "2022-12-09T05:07:19.820Z"
      },
      {
        "duration": 3,
        "start_time": "2022-12-09T05:07:22.517Z"
      },
      {
        "duration": 46,
        "start_time": "2022-12-09T05:07:24.865Z"
      },
      {
        "duration": 5,
        "start_time": "2022-12-09T05:07:26.970Z"
      },
      {
        "duration": 164,
        "start_time": "2022-12-09T05:07:29.298Z"
      },
      {
        "duration": 1324,
        "start_time": "2022-12-09T05:08:00.274Z"
      },
      {
        "duration": 2403,
        "start_time": "2022-12-09T05:08:01.600Z"
      },
      {
        "duration": 58,
        "start_time": "2022-12-09T05:08:04.005Z"
      },
      {
        "duration": 22,
        "start_time": "2022-12-09T05:08:04.066Z"
      },
      {
        "duration": 10,
        "start_time": "2022-12-09T05:08:04.091Z"
      },
      {
        "duration": 9,
        "start_time": "2022-12-09T05:08:04.102Z"
      },
      {
        "duration": 48,
        "start_time": "2022-12-09T05:08:04.113Z"
      },
      {
        "duration": 5,
        "start_time": "2022-12-09T05:08:04.163Z"
      },
      {
        "duration": 1650,
        "start_time": "2022-12-09T05:08:04.170Z"
      },
      {
        "duration": 11,
        "start_time": "2022-12-09T05:08:05.822Z"
      },
      {
        "duration": 135,
        "start_time": "2022-12-09T05:08:05.835Z"
      },
      {
        "duration": 12,
        "start_time": "2022-12-09T05:08:05.972Z"
      },
      {
        "duration": 5,
        "start_time": "2022-12-09T05:08:05.986Z"
      },
      {
        "duration": 6,
        "start_time": "2022-12-09T05:08:05.994Z"
      },
      {
        "duration": 20,
        "start_time": "2022-12-09T05:08:06.002Z"
      },
      {
        "duration": 161,
        "start_time": "2022-12-09T05:08:06.024Z"
      },
      {
        "duration": 4,
        "start_time": "2022-12-09T05:08:06.187Z"
      },
      {
        "duration": 500,
        "start_time": "2022-12-09T05:08:06.193Z"
      },
      {
        "duration": 3,
        "start_time": "2022-12-09T05:08:06.695Z"
      },
      {
        "duration": 14,
        "start_time": "2022-12-09T05:08:06.700Z"
      },
      {
        "duration": 27,
        "start_time": "2022-12-09T05:08:06.716Z"
      },
      {
        "duration": 10,
        "start_time": "2022-12-09T05:08:06.745Z"
      },
      {
        "duration": 9,
        "start_time": "2022-12-09T05:08:06.756Z"
      },
      {
        "duration": 21,
        "start_time": "2022-12-09T05:08:06.767Z"
      },
      {
        "duration": 11,
        "start_time": "2022-12-09T05:08:06.789Z"
      },
      {
        "duration": 69,
        "start_time": "2022-12-09T05:08:06.801Z"
      },
      {
        "duration": 64,
        "start_time": "2022-12-09T05:08:06.871Z"
      },
      {
        "duration": 4,
        "start_time": "2022-12-09T05:08:06.937Z"
      },
      {
        "duration": 179,
        "start_time": "2022-12-09T05:08:06.943Z"
      },
      {
        "duration": 122,
        "start_time": "2022-12-09T05:08:07.127Z"
      },
      {
        "duration": 280,
        "start_time": "2022-12-09T05:08:07.251Z"
      },
      {
        "duration": 46,
        "start_time": "2022-12-09T05:08:07.534Z"
      },
      {
        "duration": 2125,
        "start_time": "2022-12-09T05:08:07.582Z"
      },
      {
        "duration": 2,
        "start_time": "2022-12-09T05:08:09.709Z"
      },
      {
        "duration": 212,
        "start_time": "2022-12-09T05:08:09.723Z"
      },
      {
        "duration": 14,
        "start_time": "2022-12-09T05:08:09.937Z"
      },
      {
        "duration": 3,
        "start_time": "2022-12-09T05:08:09.954Z"
      },
      {
        "duration": 151,
        "start_time": "2022-12-09T05:08:09.959Z"
      },
      {
        "duration": 104241,
        "start_time": "2022-12-09T05:08:17.090Z"
      },
      {
        "duration": 4,
        "start_time": "2022-12-09T05:10:07.702Z"
      },
      {
        "duration": 43,
        "start_time": "2022-12-09T05:10:13.707Z"
      },
      {
        "duration": 3,
        "start_time": "2022-12-09T05:10:16.249Z"
      },
      {
        "duration": 168,
        "start_time": "2022-12-09T05:10:17.959Z"
      },
      {
        "duration": 19,
        "start_time": "2022-12-09T05:10:22.243Z"
      },
      {
        "duration": 173,
        "start_time": "2022-12-09T05:10:23.850Z"
      },
      {
        "duration": 12,
        "start_time": "2022-12-09T05:10:27.243Z"
      },
      {
        "duration": 278,
        "start_time": "2022-12-09T05:10:29.340Z"
      },
      {
        "duration": 4,
        "start_time": "2022-12-09T05:10:32.556Z"
      },
      {
        "duration": 11,
        "start_time": "2022-12-09T05:10:36.182Z"
      },
      {
        "duration": 60,
        "start_time": "2022-12-09T05:10:38.212Z"
      },
      {
        "duration": 3,
        "start_time": "2022-12-09T05:10:45.881Z"
      },
      {
        "duration": 3,
        "start_time": "2022-12-09T05:10:51.893Z"
      },
      {
        "duration": 8,
        "start_time": "2022-12-09T05:10:56.637Z"
      },
      {
        "duration": 38,
        "start_time": "2022-12-09T05:10:59.436Z"
      },
      {
        "duration": 20,
        "start_time": "2022-12-09T05:11:03.142Z"
      },
      {
        "duration": 46740,
        "start_time": "2022-12-09T05:11:05.540Z"
      },
      {
        "duration": 45912,
        "start_time": "2022-12-09T05:11:59.542Z"
      },
      {
        "duration": 4,
        "start_time": "2022-12-09T05:12:50.235Z"
      },
      {
        "duration": 4,
        "start_time": "2022-12-09T05:12:53.560Z"
      },
      {
        "duration": 2,
        "start_time": "2022-12-09T05:12:56.183Z"
      },
      {
        "duration": 12,
        "start_time": "2022-12-09T05:12:58.139Z"
      },
      {
        "duration": 12,
        "start_time": "2022-12-09T05:13:16.442Z"
      },
      {
        "duration": 2,
        "start_time": "2022-12-09T05:13:20.158Z"
      },
      {
        "duration": 127,
        "start_time": "2022-12-09T05:13:26.861Z"
      },
      {
        "duration": 382297,
        "start_time": "2022-12-09T05:13:49.905Z"
      },
      {
        "duration": 3,
        "start_time": "2022-12-09T05:20:44.678Z"
      },
      {
        "duration": 4,
        "start_time": "2022-12-09T05:21:28.235Z"
      },
      {
        "duration": 4,
        "start_time": "2022-12-09T05:22:30.744Z"
      },
      {
        "duration": 2100,
        "start_time": "2022-12-09T05:23:02.148Z"
      },
      {
        "duration": 2302,
        "start_time": "2022-12-09T05:23:21.548Z"
      },
      {
        "duration": 4,
        "start_time": "2022-12-09T05:23:27.485Z"
      },
      {
        "duration": 3,
        "start_time": "2022-12-09T05:23:31.393Z"
      },
      {
        "duration": 4292,
        "start_time": "2022-12-09T05:24:29.275Z"
      },
      {
        "duration": 9,
        "start_time": "2022-12-09T05:24:46.563Z"
      },
      {
        "duration": 3862,
        "start_time": "2022-12-09T05:24:49.103Z"
      },
      {
        "duration": 4,
        "start_time": "2022-12-09T05:24:55.378Z"
      },
      {
        "duration": 4,
        "start_time": "2022-12-09T05:24:58.386Z"
      },
      {
        "duration": 2,
        "start_time": "2022-12-09T05:25:01.907Z"
      },
      {
        "duration": 8,
        "start_time": "2022-12-09T05:25:10.903Z"
      },
      {
        "duration": 145,
        "start_time": "2022-12-09T05:25:34.552Z"
      },
      {
        "duration": 1396,
        "start_time": "2022-12-09T05:26:15.712Z"
      },
      {
        "duration": 2447,
        "start_time": "2022-12-09T05:26:17.110Z"
      },
      {
        "duration": 41,
        "start_time": "2022-12-09T05:26:19.559Z"
      },
      {
        "duration": 23,
        "start_time": "2022-12-09T05:26:19.602Z"
      },
      {
        "duration": 36,
        "start_time": "2022-12-09T05:26:19.626Z"
      },
      {
        "duration": 7,
        "start_time": "2022-12-09T05:26:19.664Z"
      },
      {
        "duration": 13,
        "start_time": "2022-12-09T05:26:19.672Z"
      },
      {
        "duration": 4,
        "start_time": "2022-12-09T05:26:19.686Z"
      },
      {
        "duration": 1752,
        "start_time": "2022-12-09T05:26:19.692Z"
      },
      {
        "duration": 10,
        "start_time": "2022-12-09T05:26:21.448Z"
      },
      {
        "duration": 133,
        "start_time": "2022-12-09T05:26:21.460Z"
      },
      {
        "duration": 10,
        "start_time": "2022-12-09T05:26:21.595Z"
      },
      {
        "duration": 16,
        "start_time": "2022-12-09T05:26:21.607Z"
      },
      {
        "duration": 31,
        "start_time": "2022-12-09T05:26:21.625Z"
      },
      {
        "duration": 9,
        "start_time": "2022-12-09T05:26:21.657Z"
      },
      {
        "duration": 138,
        "start_time": "2022-12-09T05:26:21.668Z"
      },
      {
        "duration": 4,
        "start_time": "2022-12-09T05:26:21.808Z"
      },
      {
        "duration": 529,
        "start_time": "2022-12-09T05:26:21.813Z"
      },
      {
        "duration": 11,
        "start_time": "2022-12-09T05:26:22.344Z"
      },
      {
        "duration": 5,
        "start_time": "2022-12-09T05:26:22.358Z"
      },
      {
        "duration": 7,
        "start_time": "2022-12-09T05:26:22.365Z"
      },
      {
        "duration": 7,
        "start_time": "2022-12-09T05:26:22.373Z"
      },
      {
        "duration": 8,
        "start_time": "2022-12-09T05:26:22.382Z"
      },
      {
        "duration": 20,
        "start_time": "2022-12-09T05:26:22.392Z"
      },
      {
        "duration": 14,
        "start_time": "2022-12-09T05:26:22.419Z"
      },
      {
        "duration": 75,
        "start_time": "2022-12-09T05:26:22.435Z"
      },
      {
        "duration": 207,
        "start_time": "2022-12-09T05:26:22.512Z"
      },
      {
        "duration": 28,
        "start_time": "2022-12-09T05:26:22.726Z"
      },
      {
        "duration": 10,
        "start_time": "2022-12-09T05:26:22.759Z"
      },
      {
        "duration": 136,
        "start_time": "2022-12-09T05:26:22.819Z"
      },
      {
        "duration": 285,
        "start_time": "2022-12-09T05:26:22.957Z"
      },
      {
        "duration": 43,
        "start_time": "2022-12-09T05:26:23.244Z"
      },
      {
        "duration": 2122,
        "start_time": "2022-12-09T05:26:23.288Z"
      },
      {
        "duration": 2,
        "start_time": "2022-12-09T05:26:25.412Z"
      },
      {
        "duration": 196,
        "start_time": "2022-12-09T05:26:25.426Z"
      },
      {
        "duration": 12,
        "start_time": "2022-12-09T05:26:25.629Z"
      },
      {
        "duration": 18,
        "start_time": "2022-12-09T05:26:25.642Z"
      },
      {
        "duration": 132,
        "start_time": "2022-12-09T05:26:25.661Z"
      },
      {
        "duration": 105161,
        "start_time": "2022-12-09T05:26:25.795Z"
      },
      {
        "duration": 9,
        "start_time": "2022-12-09T05:28:10.960Z"
      },
      {
        "duration": 40,
        "start_time": "2022-12-09T05:28:10.971Z"
      },
      {
        "duration": 6,
        "start_time": "2022-12-09T05:28:11.013Z"
      },
      {
        "duration": 206,
        "start_time": "2022-12-09T05:28:11.021Z"
      },
      {
        "duration": 36,
        "start_time": "2022-12-09T05:28:11.229Z"
      },
      {
        "duration": 252,
        "start_time": "2022-12-09T05:28:11.267Z"
      },
      {
        "duration": 44,
        "start_time": "2022-12-09T05:28:11.521Z"
      },
      {
        "duration": 483,
        "start_time": "2022-12-09T05:28:11.571Z"
      },
      {
        "duration": 10,
        "start_time": "2022-12-09T05:28:12.063Z"
      },
      {
        "duration": 27,
        "start_time": "2022-12-09T05:28:12.077Z"
      },
      {
        "duration": 110,
        "start_time": "2022-12-09T05:28:12.106Z"
      },
      {
        "duration": 7,
        "start_time": "2022-12-09T05:28:12.225Z"
      },
      {
        "duration": 124,
        "start_time": "2022-12-09T05:28:12.243Z"
      },
      {
        "duration": 13,
        "start_time": "2022-12-09T05:28:12.369Z"
      },
      {
        "duration": 44,
        "start_time": "2022-12-09T05:28:12.384Z"
      },
      {
        "duration": 41,
        "start_time": "2022-12-09T05:28:12.430Z"
      },
      {
        "duration": 2423,
        "start_time": "2022-12-09T05:28:12.475Z"
      },
      {
        "duration": 3,
        "start_time": "2022-12-09T05:28:14.900Z"
      },
      {
        "duration": 19,
        "start_time": "2022-12-09T05:28:14.904Z"
      },
      {
        "duration": 24,
        "start_time": "2022-12-09T05:28:14.925Z"
      },
      {
        "duration": 30,
        "start_time": "2022-12-09T05:28:14.951Z"
      },
      {
        "duration": 2,
        "start_time": "2022-12-09T05:28:14.983Z"
      },
      {
        "duration": 155,
        "start_time": "2022-12-09T05:28:14.987Z"
      },
      {
        "duration": 4466,
        "start_time": "2022-12-09T05:28:15.144Z"
      },
      {
        "duration": 5,
        "start_time": "2022-12-09T05:28:19.616Z"
      },
      {
        "duration": 48,
        "start_time": "2022-12-09T05:28:19.626Z"
      },
      {
        "duration": 9,
        "start_time": "2022-12-09T05:28:19.676Z"
      },
      {
        "duration": 27,
        "start_time": "2022-12-09T05:28:19.687Z"
      },
      {
        "duration": 2,
        "start_time": "2022-12-09T05:28:19.715Z"
      },
      {
        "duration": 151,
        "start_time": "2022-12-09T05:28:26.049Z"
      },
      {
        "duration": 304,
        "start_time": "2022-12-09T05:28:32.357Z"
      },
      {
        "duration": 16,
        "start_time": "2022-12-09T05:28:50.416Z"
      },
      {
        "duration": 9,
        "start_time": "2022-12-09T05:29:07.550Z"
      },
      {
        "duration": 130,
        "start_time": "2022-12-09T05:30:44.262Z"
      },
      {
        "duration": 58,
        "start_time": "2022-12-09T05:31:00.314Z"
      },
      {
        "duration": 20,
        "start_time": "2022-12-09T05:31:07.014Z"
      },
      {
        "duration": 10,
        "start_time": "2022-12-09T05:33:54.366Z"
      },
      {
        "duration": 19,
        "start_time": "2022-12-09T05:34:03.018Z"
      },
      {
        "duration": 83,
        "start_time": "2022-12-09T05:34:15.752Z"
      },
      {
        "duration": 92,
        "start_time": "2022-12-09T05:34:27.986Z"
      },
      {
        "duration": 1318,
        "start_time": "2022-12-09T05:37:18.600Z"
      },
      {
        "duration": 2476,
        "start_time": "2022-12-09T05:37:19.922Z"
      },
      {
        "duration": 61,
        "start_time": "2022-12-09T05:37:22.399Z"
      },
      {
        "duration": 18,
        "start_time": "2022-12-09T05:37:22.463Z"
      },
      {
        "duration": 4,
        "start_time": "2022-12-09T05:37:22.483Z"
      },
      {
        "duration": 19,
        "start_time": "2022-12-09T05:37:22.488Z"
      },
      {
        "duration": 60,
        "start_time": "2022-12-09T05:37:22.508Z"
      },
      {
        "duration": 5,
        "start_time": "2022-12-09T05:37:22.570Z"
      },
      {
        "duration": 1756,
        "start_time": "2022-12-09T05:37:22.576Z"
      },
      {
        "duration": 11,
        "start_time": "2022-12-09T05:37:24.335Z"
      },
      {
        "duration": 137,
        "start_time": "2022-12-09T05:37:24.348Z"
      },
      {
        "duration": 12,
        "start_time": "2022-12-09T05:37:24.486Z"
      },
      {
        "duration": 5,
        "start_time": "2022-12-09T05:37:24.499Z"
      },
      {
        "duration": 20,
        "start_time": "2022-12-09T05:37:24.506Z"
      },
      {
        "duration": 39,
        "start_time": "2022-12-09T05:37:24.527Z"
      },
      {
        "duration": 155,
        "start_time": "2022-12-09T05:37:24.567Z"
      },
      {
        "duration": 15,
        "start_time": "2022-12-09T05:37:24.724Z"
      },
      {
        "duration": 452,
        "start_time": "2022-12-09T05:37:24.741Z"
      },
      {
        "duration": 3,
        "start_time": "2022-12-09T05:37:25.195Z"
      },
      {
        "duration": 6,
        "start_time": "2022-12-09T05:37:25.200Z"
      },
      {
        "duration": 10,
        "start_time": "2022-12-09T05:37:25.215Z"
      },
      {
        "duration": 31,
        "start_time": "2022-12-09T05:37:25.229Z"
      },
      {
        "duration": 17,
        "start_time": "2022-12-09T05:37:25.262Z"
      },
      {
        "duration": 22,
        "start_time": "2022-12-09T05:37:25.280Z"
      },
      {
        "duration": 10,
        "start_time": "2022-12-09T05:37:25.303Z"
      },
      {
        "duration": 77,
        "start_time": "2022-12-09T05:37:25.314Z"
      },
      {
        "duration": 34,
        "start_time": "2022-12-09T05:37:25.393Z"
      },
      {
        "duration": 87,
        "start_time": "2022-12-09T05:37:25.434Z"
      },
      {
        "duration": 95,
        "start_time": "2022-12-09T05:37:25.527Z"
      },
      {
        "duration": 4,
        "start_time": "2022-12-09T05:37:25.624Z"
      },
      {
        "duration": 374,
        "start_time": "2022-12-09T05:37:25.633Z"
      },
      {
        "duration": 51,
        "start_time": "2022-12-09T05:37:26.017Z"
      },
      {
        "duration": 2211,
        "start_time": "2022-12-09T05:37:26.070Z"
      },
      {
        "duration": 2,
        "start_time": "2022-12-09T05:37:28.283Z"
      },
      {
        "duration": 212,
        "start_time": "2022-12-09T05:37:28.286Z"
      },
      {
        "duration": 20,
        "start_time": "2022-12-09T05:37:28.500Z"
      },
      {
        "duration": 5,
        "start_time": "2022-12-09T05:37:28.522Z"
      },
      {
        "duration": 160,
        "start_time": "2022-12-09T05:37:28.529Z"
      },
      {
        "duration": 105418,
        "start_time": "2022-12-09T05:37:28.691Z"
      },
      {
        "duration": 2,
        "start_time": "2022-12-09T05:39:14.115Z"
      },
      {
        "duration": 71,
        "start_time": "2022-12-09T05:39:14.120Z"
      },
      {
        "duration": 3,
        "start_time": "2022-12-09T05:39:14.193Z"
      },
      {
        "duration": 173,
        "start_time": "2022-12-09T05:39:14.197Z"
      },
      {
        "duration": 18,
        "start_time": "2022-12-09T05:39:14.371Z"
      },
      {
        "duration": 150,
        "start_time": "2022-12-09T05:39:14.390Z"
      },
      {
        "duration": 182,
        "start_time": "2022-12-09T05:39:14.542Z"
      },
      {
        "duration": 316,
        "start_time": "2022-12-09T05:39:14.726Z"
      },
      {
        "duration": 6,
        "start_time": "2022-12-09T05:39:15.044Z"
      },
      {
        "duration": 23,
        "start_time": "2022-12-09T05:39:15.053Z"
      },
      {
        "duration": 67,
        "start_time": "2022-12-09T05:39:15.077Z"
      },
      {
        "duration": 5,
        "start_time": "2022-12-09T05:39:15.146Z"
      },
      {
        "duration": 198,
        "start_time": "2022-12-09T05:39:15.155Z"
      },
      {
        "duration": 13,
        "start_time": "2022-12-09T05:39:15.356Z"
      },
      {
        "duration": 35,
        "start_time": "2022-12-09T05:39:15.370Z"
      },
      {
        "duration": 28,
        "start_time": "2022-12-09T05:39:15.407Z"
      },
      {
        "duration": 2455,
        "start_time": "2022-12-09T05:39:15.440Z"
      },
      {
        "duration": 3,
        "start_time": "2022-12-09T05:39:17.896Z"
      },
      {
        "duration": 25,
        "start_time": "2022-12-09T05:39:17.901Z"
      },
      {
        "duration": 17,
        "start_time": "2022-12-09T05:39:17.942Z"
      },
      {
        "duration": 15,
        "start_time": "2022-12-09T05:39:17.960Z"
      },
      {
        "duration": 6,
        "start_time": "2022-12-09T05:39:17.976Z"
      },
      {
        "duration": 141,
        "start_time": "2022-12-09T05:39:17.984Z"
      },
      {
        "duration": 26923,
        "start_time": "2022-12-09T05:39:52.110Z"
      },
      {
        "duration": 4,
        "start_time": "2022-12-09T05:40:26.445Z"
      },
      {
        "duration": 3,
        "start_time": "2022-12-09T05:40:29.683Z"
      },
      {
        "duration": 62,
        "start_time": "2022-12-09T05:40:37.540Z"
      },
      {
        "duration": 174,
        "start_time": "2022-12-09T05:40:40.340Z"
      },
      {
        "duration": 24,
        "start_time": "2022-12-09T05:40:48.937Z"
      },
      {
        "duration": 2074,
        "start_time": "2022-12-09T05:41:07.140Z"
      },
      {
        "duration": 4,
        "start_time": "2022-12-09T05:41:12.949Z"
      },
      {
        "duration": 3,
        "start_time": "2022-12-09T05:41:15.435Z"
      },
      {
        "duration": 29099,
        "start_time": "2022-12-09T05:41:24.544Z"
      },
      {
        "duration": 4,
        "start_time": "2022-12-09T05:41:56.461Z"
      },
      {
        "duration": 59,
        "start_time": "2022-12-09T05:42:01.965Z"
      },
      {
        "duration": 175,
        "start_time": "2022-12-09T05:42:05.014Z"
      },
      {
        "duration": 20,
        "start_time": "2022-12-09T05:42:08.539Z"
      },
      {
        "duration": 2164,
        "start_time": "2022-12-09T05:42:35.906Z"
      },
      {
        "duration": 3,
        "start_time": "2022-12-09T05:42:41.351Z"
      },
      {
        "duration": 4,
        "start_time": "2022-12-09T05:42:43.109Z"
      },
      {
        "duration": 21,
        "start_time": "2022-12-09T05:42:49.255Z"
      },
      {
        "duration": 25573,
        "start_time": "2022-12-09T05:43:10.072Z"
      },
      {
        "duration": 3,
        "start_time": "2022-12-09T05:43:38.979Z"
      },
      {
        "duration": 3,
        "start_time": "2022-12-09T05:43:41.380Z"
      },
      {
        "duration": 54,
        "start_time": "2022-12-09T05:43:46.410Z"
      },
      {
        "duration": 24778,
        "start_time": "2022-12-09T05:43:54.397Z"
      },
      {
        "duration": 4,
        "start_time": "2022-12-09T05:44:22.505Z"
      },
      {
        "duration": 27793,
        "start_time": "2022-12-09T05:44:32.474Z"
      },
      {
        "duration": 4,
        "start_time": "2022-12-09T05:45:03.651Z"
      },
      {
        "duration": 38,
        "start_time": "2022-12-09T05:45:39.637Z"
      },
      {
        "duration": 17,
        "start_time": "2022-12-09T05:45:52.170Z"
      },
      {
        "duration": 1888,
        "start_time": "2022-12-09T05:46:08.307Z"
      },
      {
        "duration": 4,
        "start_time": "2022-12-09T05:46:13.735Z"
      },
      {
        "duration": 3,
        "start_time": "2022-12-09T05:46:15.265Z"
      },
      {
        "duration": 123,
        "start_time": "2022-12-09T05:46:19.742Z"
      },
      {
        "duration": 125,
        "start_time": "2022-12-09T05:46:34.328Z"
      },
      {
        "duration": 22541,
        "start_time": "2022-12-09T05:46:42.703Z"
      },
      {
        "duration": 3,
        "start_time": "2022-12-09T05:47:08.944Z"
      },
      {
        "duration": 32,
        "start_time": "2022-12-09T05:47:12.413Z"
      },
      {
        "duration": 1761,
        "start_time": "2022-12-09T05:47:40.942Z"
      },
      {
        "duration": 3,
        "start_time": "2022-12-09T05:47:45.250Z"
      },
      {
        "duration": 23394,
        "start_time": "2022-12-09T05:47:48.294Z"
      },
      {
        "duration": 3,
        "start_time": "2022-12-09T05:48:23.403Z"
      },
      {
        "duration": 137,
        "start_time": "2022-12-09T05:48:25.739Z"
      },
      {
        "duration": 13,
        "start_time": "2022-12-09T05:48:34.868Z"
      },
      {
        "duration": 1244,
        "start_time": "2022-12-09T05:49:34.540Z"
      },
      {
        "duration": 2308,
        "start_time": "2022-12-09T05:49:35.786Z"
      },
      {
        "duration": 60,
        "start_time": "2022-12-09T05:49:38.096Z"
      },
      {
        "duration": 20,
        "start_time": "2022-12-09T05:49:38.157Z"
      },
      {
        "duration": 6,
        "start_time": "2022-12-09T05:49:38.180Z"
      },
      {
        "duration": 12,
        "start_time": "2022-12-09T05:49:38.188Z"
      },
      {
        "duration": 19,
        "start_time": "2022-12-09T05:49:38.201Z"
      },
      {
        "duration": 11,
        "start_time": "2022-12-09T05:49:38.231Z"
      },
      {
        "duration": 1599,
        "start_time": "2022-12-09T05:49:38.244Z"
      },
      {
        "duration": 8,
        "start_time": "2022-12-09T05:49:39.845Z"
      },
      {
        "duration": 111,
        "start_time": "2022-12-09T05:49:39.855Z"
      },
      {
        "duration": 11,
        "start_time": "2022-12-09T05:49:39.968Z"
      },
      {
        "duration": 5,
        "start_time": "2022-12-09T05:49:39.980Z"
      },
      {
        "duration": 5,
        "start_time": "2022-12-09T05:49:39.989Z"
      },
      {
        "duration": 34,
        "start_time": "2022-12-09T05:49:39.996Z"
      },
      {
        "duration": 157,
        "start_time": "2022-12-09T05:49:40.031Z"
      },
      {
        "duration": 4,
        "start_time": "2022-12-09T05:49:40.189Z"
      },
      {
        "duration": 450,
        "start_time": "2022-12-09T05:49:40.195Z"
      },
      {
        "duration": 3,
        "start_time": "2022-12-09T05:49:40.648Z"
      },
      {
        "duration": 6,
        "start_time": "2022-12-09T05:49:40.652Z"
      },
      {
        "duration": 8,
        "start_time": "2022-12-09T05:49:40.660Z"
      },
      {
        "duration": 7,
        "start_time": "2022-12-09T05:49:40.670Z"
      },
      {
        "duration": 19,
        "start_time": "2022-12-09T05:49:40.678Z"
      },
      {
        "duration": 33,
        "start_time": "2022-12-09T05:49:40.699Z"
      },
      {
        "duration": 12,
        "start_time": "2022-12-09T05:49:40.735Z"
      },
      {
        "duration": 36,
        "start_time": "2022-12-09T05:49:40.749Z"
      },
      {
        "duration": 52,
        "start_time": "2022-12-09T05:49:40.787Z"
      },
      {
        "duration": 77,
        "start_time": "2022-12-09T05:49:40.841Z"
      },
      {
        "duration": 109,
        "start_time": "2022-12-09T05:49:40.920Z"
      },
      {
        "duration": 211,
        "start_time": "2022-12-09T05:49:41.031Z"
      },
      {
        "duration": 281,
        "start_time": "2022-12-09T05:49:41.244Z"
      },
      {
        "duration": 53,
        "start_time": "2022-12-09T05:49:41.531Z"
      },
      {
        "duration": 2051,
        "start_time": "2022-12-09T05:49:41.585Z"
      },
      {
        "duration": 3,
        "start_time": "2022-12-09T05:49:43.639Z"
      },
      {
        "duration": 169,
        "start_time": "2022-12-09T05:49:43.643Z"
      },
      {
        "duration": 22,
        "start_time": "2022-12-09T05:49:43.815Z"
      },
      {
        "duration": 24,
        "start_time": "2022-12-09T05:49:43.839Z"
      },
      {
        "duration": 138,
        "start_time": "2022-12-09T05:49:43.865Z"
      },
      {
        "duration": 98163,
        "start_time": "2022-12-09T05:49:44.004Z"
      },
      {
        "duration": 3,
        "start_time": "2022-12-09T05:51:22.169Z"
      },
      {
        "duration": 52,
        "start_time": "2022-12-09T05:51:22.176Z"
      },
      {
        "duration": 3,
        "start_time": "2022-12-09T05:51:22.230Z"
      },
      {
        "duration": 154,
        "start_time": "2022-12-09T05:51:22.235Z"
      },
      {
        "duration": 36,
        "start_time": "2022-12-09T05:51:22.392Z"
      },
      {
        "duration": 86,
        "start_time": "2022-12-09T05:51:22.446Z"
      },
      {
        "duration": 93,
        "start_time": "2022-12-09T05:51:22.533Z"
      },
      {
        "duration": 489,
        "start_time": "2022-12-09T05:51:22.628Z"
      },
      {
        "duration": 7,
        "start_time": "2022-12-09T05:51:23.119Z"
      },
      {
        "duration": 15,
        "start_time": "2022-12-09T05:51:23.129Z"
      },
      {
        "duration": 89,
        "start_time": "2022-12-09T05:51:23.146Z"
      },
      {
        "duration": 82,
        "start_time": "2022-12-09T05:51:23.238Z"
      },
      {
        "duration": 17,
        "start_time": "2022-12-09T05:51:23.321Z"
      },
      {
        "duration": 32,
        "start_time": "2022-12-09T05:51:23.340Z"
      },
      {
        "duration": 70,
        "start_time": "2022-12-09T05:51:23.373Z"
      },
      {
        "duration": 1768,
        "start_time": "2022-12-09T05:51:23.444Z"
      },
      {
        "duration": 14,
        "start_time": "2022-12-09T05:51:25.213Z"
      },
      {
        "duration": 6,
        "start_time": "2022-12-09T05:51:25.228Z"
      },
      {
        "duration": 6,
        "start_time": "2022-12-09T05:51:25.236Z"
      },
      {
        "duration": 12,
        "start_time": "2022-12-09T05:51:25.243Z"
      },
      {
        "duration": 3,
        "start_time": "2022-12-09T05:51:25.256Z"
      },
      {
        "duration": 130,
        "start_time": "2022-12-09T05:51:25.260Z"
      },
      {
        "duration": 19799,
        "start_time": "2022-12-09T05:51:25.392Z"
      },
      {
        "duration": 3,
        "start_time": "2022-12-09T05:51:45.193Z"
      },
      {
        "duration": 8,
        "start_time": "2022-12-09T05:51:45.198Z"
      },
      {
        "duration": 12,
        "start_time": "2022-12-09T05:51:45.207Z"
      },
      {
        "duration": 102,
        "start_time": "2022-12-09T05:51:45.227Z"
      },
      {
        "duration": 2,
        "start_time": "2022-12-09T05:51:45.331Z"
      },
      {
        "duration": 207,
        "start_time": "2022-12-09T05:51:45.335Z"
      },
      {
        "duration": 245,
        "start_time": "2022-12-09T05:51:45.544Z"
      },
      {
        "duration": 9,
        "start_time": "2022-12-09T05:51:50.428Z"
      },
      {
        "duration": 37,
        "start_time": "2022-12-09T05:51:52.793Z"
      },
      {
        "duration": 1298,
        "start_time": "2022-12-09T05:53:59.911Z"
      },
      {
        "duration": 2403,
        "start_time": "2022-12-09T05:54:01.211Z"
      },
      {
        "duration": 54,
        "start_time": "2022-12-09T05:54:03.621Z"
      },
      {
        "duration": 22,
        "start_time": "2022-12-09T05:54:03.678Z"
      },
      {
        "duration": 8,
        "start_time": "2022-12-09T05:54:03.703Z"
      },
      {
        "duration": 48,
        "start_time": "2022-12-09T05:54:03.712Z"
      },
      {
        "duration": 19,
        "start_time": "2022-12-09T05:54:03.762Z"
      },
      {
        "duration": 4,
        "start_time": "2022-12-09T05:54:03.783Z"
      },
      {
        "duration": 1649,
        "start_time": "2022-12-09T05:54:03.789Z"
      },
      {
        "duration": 11,
        "start_time": "2022-12-09T05:54:05.439Z"
      },
      {
        "duration": 121,
        "start_time": "2022-12-09T05:54:05.452Z"
      },
      {
        "duration": 10,
        "start_time": "2022-12-09T05:54:05.575Z"
      },
      {
        "duration": 6,
        "start_time": "2022-12-09T05:54:05.587Z"
      },
      {
        "duration": 22,
        "start_time": "2022-12-09T05:54:05.596Z"
      },
      {
        "duration": 24,
        "start_time": "2022-12-09T05:54:05.619Z"
      },
      {
        "duration": 164,
        "start_time": "2022-12-09T05:54:05.645Z"
      },
      {
        "duration": 5,
        "start_time": "2022-12-09T05:54:05.811Z"
      },
      {
        "duration": 485,
        "start_time": "2022-12-09T05:54:05.817Z"
      },
      {
        "duration": 4,
        "start_time": "2022-12-09T05:54:06.304Z"
      },
      {
        "duration": 41,
        "start_time": "2022-12-09T05:54:06.320Z"
      },
      {
        "duration": 8,
        "start_time": "2022-12-09T05:54:06.364Z"
      },
      {
        "duration": 14,
        "start_time": "2022-12-09T05:54:06.374Z"
      },
      {
        "duration": 49,
        "start_time": "2022-12-09T05:54:06.389Z"
      },
      {
        "duration": 56,
        "start_time": "2022-12-09T05:54:06.447Z"
      },
      {
        "duration": 21,
        "start_time": "2022-12-09T05:54:06.505Z"
      },
      {
        "duration": 86,
        "start_time": "2022-12-09T05:54:06.527Z"
      },
      {
        "duration": 111,
        "start_time": "2022-12-09T05:54:06.615Z"
      },
      {
        "duration": 119,
        "start_time": "2022-12-09T05:54:06.728Z"
      },
      {
        "duration": 15,
        "start_time": "2022-12-09T05:54:06.852Z"
      },
      {
        "duration": 51,
        "start_time": "2022-12-09T05:54:06.869Z"
      },
      {
        "duration": 412,
        "start_time": "2022-12-09T05:54:06.921Z"
      },
      {
        "duration": 64,
        "start_time": "2022-12-09T05:54:07.344Z"
      },
      {
        "duration": 2111,
        "start_time": "2022-12-09T05:54:07.410Z"
      },
      {
        "duration": 16,
        "start_time": "2022-12-09T05:54:09.522Z"
      },
      {
        "duration": 197,
        "start_time": "2022-12-09T05:54:09.540Z"
      },
      {
        "duration": 10,
        "start_time": "2022-12-09T05:54:09.739Z"
      },
      {
        "duration": 14,
        "start_time": "2022-12-09T05:54:09.750Z"
      },
      {
        "duration": 131,
        "start_time": "2022-12-09T05:54:09.766Z"
      },
      {
        "duration": 100859,
        "start_time": "2022-12-09T05:54:09.899Z"
      },
      {
        "duration": 3,
        "start_time": "2022-12-09T05:55:50.759Z"
      },
      {
        "duration": 40,
        "start_time": "2022-12-09T05:55:50.765Z"
      },
      {
        "duration": 11,
        "start_time": "2022-12-09T05:55:50.815Z"
      },
      {
        "duration": 173,
        "start_time": "2022-12-09T05:55:50.832Z"
      },
      {
        "duration": 24,
        "start_time": "2022-12-09T05:55:51.015Z"
      },
      {
        "duration": 91,
        "start_time": "2022-12-09T05:55:51.040Z"
      },
      {
        "duration": 189,
        "start_time": "2022-12-09T05:55:51.133Z"
      },
      {
        "duration": 300,
        "start_time": "2022-12-09T05:55:51.324Z"
      },
      {
        "duration": 6,
        "start_time": "2022-12-09T05:55:51.626Z"
      },
      {
        "duration": 25,
        "start_time": "2022-12-09T05:55:51.633Z"
      },
      {
        "duration": 70,
        "start_time": "2022-12-09T05:55:51.659Z"
      },
      {
        "duration": 2,
        "start_time": "2022-12-09T05:55:51.731Z"
      },
      {
        "duration": 115,
        "start_time": "2022-12-09T05:55:51.735Z"
      },
      {
        "duration": 31,
        "start_time": "2022-12-09T05:55:51.852Z"
      },
      {
        "duration": 17,
        "start_time": "2022-12-09T05:55:51.885Z"
      },
      {
        "duration": 1903,
        "start_time": "2022-12-09T05:55:51.904Z"
      },
      {
        "duration": 18,
        "start_time": "2022-12-09T05:55:53.808Z"
      },
      {
        "duration": 26,
        "start_time": "2022-12-09T05:55:53.829Z"
      },
      {
        "duration": 14,
        "start_time": "2022-12-09T05:55:53.857Z"
      },
      {
        "duration": 29,
        "start_time": "2022-12-09T05:55:53.872Z"
      },
      {
        "duration": 2,
        "start_time": "2022-12-09T05:55:53.903Z"
      },
      {
        "duration": 162,
        "start_time": "2022-12-09T05:55:53.907Z"
      },
      {
        "duration": 25417,
        "start_time": "2022-12-09T05:55:54.071Z"
      },
      {
        "duration": 3,
        "start_time": "2022-12-09T05:56:19.490Z"
      },
      {
        "duration": 11,
        "start_time": "2022-12-09T05:56:19.494Z"
      },
      {
        "duration": 7,
        "start_time": "2022-12-09T05:56:19.519Z"
      },
      {
        "duration": 50,
        "start_time": "2022-12-09T05:56:19.527Z"
      },
      {
        "duration": 2,
        "start_time": "2022-12-09T05:56:19.579Z"
      },
      {
        "duration": 171,
        "start_time": "2022-12-09T05:56:19.583Z"
      },
      {
        "duration": 252,
        "start_time": "2022-12-09T05:56:19.756Z"
      },
      {
        "duration": 26,
        "start_time": "2022-12-09T05:56:20.010Z"
      },
      {
        "duration": 21,
        "start_time": "2022-12-09T05:56:30.031Z"
      },
      {
        "duration": 21969,
        "start_time": "2022-12-09T05:56:52.601Z"
      },
      {
        "duration": 3,
        "start_time": "2022-12-09T05:57:18.967Z"
      },
      {
        "duration": 17216,
        "start_time": "2022-12-09T05:57:30.146Z"
      },
      {
        "duration": 4,
        "start_time": "2022-12-09T05:57:50.909Z"
      },
      {
        "duration": 37393,
        "start_time": "2022-12-09T05:58:08.037Z"
      },
      {
        "duration": 4,
        "start_time": "2022-12-09T05:58:48.239Z"
      },
      {
        "duration": 82,
        "start_time": "2022-12-09T05:58:52.450Z"
      },
      {
        "duration": 1239,
        "start_time": "2022-12-09T05:59:13.375Z"
      },
      {
        "duration": 2353,
        "start_time": "2022-12-09T05:59:14.616Z"
      },
      {
        "duration": 41,
        "start_time": "2022-12-09T05:59:16.972Z"
      },
      {
        "duration": 24,
        "start_time": "2022-12-09T05:59:17.015Z"
      },
      {
        "duration": 7,
        "start_time": "2022-12-09T05:59:17.041Z"
      },
      {
        "duration": 8,
        "start_time": "2022-12-09T05:59:17.050Z"
      },
      {
        "duration": 18,
        "start_time": "2022-12-09T05:59:17.059Z"
      },
      {
        "duration": 4,
        "start_time": "2022-12-09T05:59:17.078Z"
      },
      {
        "duration": 1708,
        "start_time": "2022-12-09T05:59:17.084Z"
      },
      {
        "duration": 7,
        "start_time": "2022-12-09T05:59:18.795Z"
      },
      {
        "duration": 136,
        "start_time": "2022-12-09T05:59:18.804Z"
      },
      {
        "duration": 15,
        "start_time": "2022-12-09T05:59:18.941Z"
      },
      {
        "duration": 6,
        "start_time": "2022-12-09T05:59:18.958Z"
      },
      {
        "duration": 9,
        "start_time": "2022-12-09T05:59:18.966Z"
      },
      {
        "duration": 9,
        "start_time": "2022-12-09T05:59:18.976Z"
      },
      {
        "duration": 169,
        "start_time": "2022-12-09T05:59:18.987Z"
      },
      {
        "duration": 5,
        "start_time": "2022-12-09T05:59:19.157Z"
      },
      {
        "duration": 444,
        "start_time": "2022-12-09T05:59:19.164Z"
      },
      {
        "duration": 3,
        "start_time": "2022-12-09T05:59:19.610Z"
      },
      {
        "duration": 34,
        "start_time": "2022-12-09T05:59:19.614Z"
      },
      {
        "duration": 6,
        "start_time": "2022-12-09T05:59:19.650Z"
      },
      {
        "duration": 7,
        "start_time": "2022-12-09T05:59:19.657Z"
      },
      {
        "duration": 9,
        "start_time": "2022-12-09T05:59:19.666Z"
      },
      {
        "duration": 19,
        "start_time": "2022-12-09T05:59:19.676Z"
      },
      {
        "duration": 10,
        "start_time": "2022-12-09T05:59:19.697Z"
      },
      {
        "duration": 48,
        "start_time": "2022-12-09T05:59:19.709Z"
      },
      {
        "duration": 69,
        "start_time": "2022-12-09T05:59:19.759Z"
      },
      {
        "duration": 16,
        "start_time": "2022-12-09T05:59:19.834Z"
      },
      {
        "duration": 105,
        "start_time": "2022-12-09T05:59:19.916Z"
      },
      {
        "duration": 109,
        "start_time": "2022-12-09T05:59:20.027Z"
      },
      {
        "duration": 269,
        "start_time": "2022-12-09T05:59:20.139Z"
      },
      {
        "duration": 49,
        "start_time": "2022-12-09T05:59:20.415Z"
      },
      {
        "duration": 2022,
        "start_time": "2022-12-09T05:59:20.466Z"
      },
      {
        "duration": 3,
        "start_time": "2022-12-09T05:59:22.490Z"
      },
      {
        "duration": 192,
        "start_time": "2022-12-09T05:59:22.495Z"
      },
      {
        "duration": 8,
        "start_time": "2022-12-09T05:59:22.689Z"
      },
      {
        "duration": 20,
        "start_time": "2022-12-09T05:59:22.699Z"
      },
      {
        "duration": 134,
        "start_time": "2022-12-09T05:59:22.730Z"
      },
      {
        "duration": 98619,
        "start_time": "2022-12-09T05:59:22.866Z"
      },
      {
        "duration": 3,
        "start_time": "2022-12-09T06:01:01.487Z"
      },
      {
        "duration": 55,
        "start_time": "2022-12-09T06:01:01.491Z"
      },
      {
        "duration": 3,
        "start_time": "2022-12-09T06:01:01.547Z"
      },
      {
        "duration": 181,
        "start_time": "2022-12-09T06:01:01.552Z"
      },
      {
        "duration": 19,
        "start_time": "2022-12-09T06:01:01.734Z"
      },
      {
        "duration": 81,
        "start_time": "2022-12-09T06:01:01.754Z"
      },
      {
        "duration": 99,
        "start_time": "2022-12-09T06:01:01.837Z"
      },
      {
        "duration": 484,
        "start_time": "2022-12-09T06:01:01.938Z"
      },
      {
        "duration": 5,
        "start_time": "2022-12-09T06:01:02.424Z"
      },
      {
        "duration": 24,
        "start_time": "2022-12-09T06:01:02.435Z"
      },
      {
        "duration": 58,
        "start_time": "2022-12-09T06:01:02.461Z"
      },
      {
        "duration": 3,
        "start_time": "2022-12-09T06:01:02.520Z"
      },
      {
        "duration": 118,
        "start_time": "2022-12-09T06:01:02.525Z"
      },
      {
        "duration": 33,
        "start_time": "2022-12-09T06:01:02.644Z"
      },
      {
        "duration": 53,
        "start_time": "2022-12-09T06:01:02.679Z"
      },
      {
        "duration": 1654,
        "start_time": "2022-12-09T06:01:02.734Z"
      },
      {
        "duration": 4,
        "start_time": "2022-12-09T06:01:04.390Z"
      },
      {
        "duration": 18,
        "start_time": "2022-12-09T06:01:04.395Z"
      },
      {
        "duration": 13,
        "start_time": "2022-12-09T06:01:04.419Z"
      },
      {
        "duration": 15,
        "start_time": "2022-12-09T06:01:04.434Z"
      },
      {
        "duration": 3,
        "start_time": "2022-12-09T06:01:04.451Z"
      },
      {
        "duration": 120,
        "start_time": "2022-12-09T06:01:04.455Z"
      },
      {
        "duration": 28285,
        "start_time": "2022-12-09T06:01:04.576Z"
      },
      {
        "duration": 3,
        "start_time": "2022-12-09T06:01:32.863Z"
      },
      {
        "duration": 8,
        "start_time": "2022-12-09T06:01:32.867Z"
      },
      {
        "duration": 4,
        "start_time": "2022-12-09T06:01:32.877Z"
      },
      {
        "duration": 110,
        "start_time": "2022-12-09T06:01:32.883Z"
      },
      {
        "duration": 3,
        "start_time": "2022-12-09T06:01:32.994Z"
      },
      {
        "duration": 231,
        "start_time": "2022-12-09T06:01:32.998Z"
      },
      {
        "duration": 338,
        "start_time": "2022-12-09T06:01:33.231Z"
      },
      {
        "duration": 8,
        "start_time": "2022-12-09T06:01:33.571Z"
      },
      {
        "duration": 57,
        "start_time": "2022-12-09T06:01:33.580Z"
      },
      {
        "duration": 5,
        "start_time": "2022-12-09T06:04:56.069Z"
      },
      {
        "duration": 418,
        "start_time": "2022-12-09T06:07:08.885Z"
      },
      {
        "duration": 7,
        "start_time": "2022-12-09T06:13:03.399Z"
      },
      {
        "duration": 41,
        "start_time": "2022-12-09T06:13:32.089Z"
      },
      {
        "duration": 24,
        "start_time": "2022-12-09T06:13:58.700Z"
      },
      {
        "duration": 2377,
        "start_time": "2022-12-09T06:14:04.186Z"
      },
      {
        "duration": 3,
        "start_time": "2022-12-09T06:14:10.647Z"
      },
      {
        "duration": 69229,
        "start_time": "2022-12-09T06:14:15.831Z"
      },
      {
        "duration": 80,
        "start_time": "2022-12-09T06:15:45.818Z"
      },
      {
        "duration": 82,
        "start_time": "2022-12-09T06:15:57.728Z"
      },
      {
        "duration": 37231,
        "start_time": "2022-12-09T06:16:10.654Z"
      },
      {
        "duration": 42,
        "start_time": "2022-12-09T06:16:56.453Z"
      },
      {
        "duration": 1361,
        "start_time": "2022-12-09T06:17:15.287Z"
      },
      {
        "duration": 2314,
        "start_time": "2022-12-09T06:17:16.650Z"
      },
      {
        "duration": 42,
        "start_time": "2022-12-09T06:17:18.966Z"
      },
      {
        "duration": 41,
        "start_time": "2022-12-09T06:17:19.010Z"
      },
      {
        "duration": 11,
        "start_time": "2022-12-09T06:17:19.052Z"
      },
      {
        "duration": 7,
        "start_time": "2022-12-09T06:17:19.064Z"
      },
      {
        "duration": 15,
        "start_time": "2022-12-09T06:17:19.072Z"
      },
      {
        "duration": 5,
        "start_time": "2022-12-09T06:17:19.088Z"
      },
      {
        "duration": 1697,
        "start_time": "2022-12-09T06:17:19.094Z"
      },
      {
        "duration": 8,
        "start_time": "2022-12-09T06:17:20.794Z"
      },
      {
        "duration": 123,
        "start_time": "2022-12-09T06:17:20.803Z"
      },
      {
        "duration": 19,
        "start_time": "2022-12-09T06:17:20.931Z"
      },
      {
        "duration": 8,
        "start_time": "2022-12-09T06:17:20.952Z"
      },
      {
        "duration": 14,
        "start_time": "2022-12-09T06:17:20.962Z"
      },
      {
        "duration": 14,
        "start_time": "2022-12-09T06:17:20.978Z"
      },
      {
        "duration": 160,
        "start_time": "2022-12-09T06:17:20.994Z"
      },
      {
        "duration": 4,
        "start_time": "2022-12-09T06:17:21.157Z"
      },
      {
        "duration": 524,
        "start_time": "2022-12-09T06:17:21.162Z"
      },
      {
        "duration": 3,
        "start_time": "2022-12-09T06:17:21.688Z"
      },
      {
        "duration": 20,
        "start_time": "2022-12-09T06:17:21.692Z"
      },
      {
        "duration": 38,
        "start_time": "2022-12-09T06:17:21.714Z"
      },
      {
        "duration": 15,
        "start_time": "2022-12-09T06:17:21.754Z"
      },
      {
        "duration": 22,
        "start_time": "2022-12-09T06:17:21.771Z"
      },
      {
        "duration": 19,
        "start_time": "2022-12-09T06:17:21.795Z"
      },
      {
        "duration": 43,
        "start_time": "2022-12-09T06:17:21.815Z"
      },
      {
        "duration": 43,
        "start_time": "2022-12-09T06:17:21.859Z"
      },
      {
        "duration": 221,
        "start_time": "2022-12-09T06:17:21.904Z"
      },
      {
        "duration": 5,
        "start_time": "2022-12-09T06:17:22.134Z"
      },
      {
        "duration": 113,
        "start_time": "2022-12-09T06:17:22.144Z"
      },
      {
        "duration": 171,
        "start_time": "2022-12-09T06:17:22.260Z"
      },
      {
        "duration": 303,
        "start_time": "2022-12-09T06:17:22.434Z"
      },
      {
        "duration": 43,
        "start_time": "2022-12-09T06:17:22.747Z"
      },
      {
        "duration": 2155,
        "start_time": "2022-12-09T06:17:22.792Z"
      },
      {
        "duration": 5,
        "start_time": "2022-12-09T06:17:24.949Z"
      },
      {
        "duration": 217,
        "start_time": "2022-12-09T06:17:24.956Z"
      },
      {
        "duration": 8,
        "start_time": "2022-12-09T06:17:25.175Z"
      },
      {
        "duration": 4,
        "start_time": "2022-12-09T06:17:25.184Z"
      },
      {
        "duration": 156,
        "start_time": "2022-12-09T06:17:25.189Z"
      },
      {
        "duration": 99699,
        "start_time": "2022-12-09T06:17:25.346Z"
      },
      {
        "duration": 3,
        "start_time": "2022-12-09T06:19:05.048Z"
      },
      {
        "duration": 48,
        "start_time": "2022-12-09T06:19:05.053Z"
      },
      {
        "duration": 3,
        "start_time": "2022-12-09T06:19:05.103Z"
      },
      {
        "duration": 159,
        "start_time": "2022-12-09T06:19:05.107Z"
      },
      {
        "duration": 19,
        "start_time": "2022-12-09T06:19:05.268Z"
      },
      {
        "duration": 143,
        "start_time": "2022-12-09T06:19:05.288Z"
      },
      {
        "duration": 95,
        "start_time": "2022-12-09T06:19:05.436Z"
      },
      {
        "duration": 488,
        "start_time": "2022-12-09T06:19:05.538Z"
      },
      {
        "duration": 6,
        "start_time": "2022-12-09T06:19:06.028Z"
      },
      {
        "duration": 22,
        "start_time": "2022-12-09T06:19:06.039Z"
      },
      {
        "duration": 61,
        "start_time": "2022-12-09T06:19:06.063Z"
      },
      {
        "duration": 2,
        "start_time": "2022-12-09T06:19:06.129Z"
      },
      {
        "duration": 123,
        "start_time": "2022-12-09T06:19:06.133Z"
      },
      {
        "duration": 17,
        "start_time": "2022-12-09T06:19:06.258Z"
      },
      {
        "duration": 60,
        "start_time": "2022-12-09T06:19:06.277Z"
      },
      {
        "duration": 26,
        "start_time": "2022-12-09T06:19:06.339Z"
      },
      {
        "duration": 2245,
        "start_time": "2022-12-09T06:19:06.367Z"
      },
      {
        "duration": 10,
        "start_time": "2022-12-09T06:19:08.614Z"
      },
      {
        "duration": 21,
        "start_time": "2022-12-09T06:19:08.626Z"
      },
      {
        "duration": 8,
        "start_time": "2022-12-09T06:19:08.649Z"
      },
      {
        "duration": 14,
        "start_time": "2022-12-09T06:19:08.658Z"
      },
      {
        "duration": 5,
        "start_time": "2022-12-09T06:19:08.673Z"
      },
      {
        "duration": 129,
        "start_time": "2022-12-09T06:19:08.679Z"
      },
      {
        "duration": 28725,
        "start_time": "2022-12-09T06:19:08.810Z"
      },
      {
        "duration": 4,
        "start_time": "2022-12-09T06:19:37.540Z"
      },
      {
        "duration": 8,
        "start_time": "2022-12-09T06:19:37.547Z"
      },
      {
        "duration": 5,
        "start_time": "2022-12-09T06:19:37.556Z"
      },
      {
        "duration": 170,
        "start_time": "2022-12-09T06:19:37.563Z"
      },
      {
        "duration": 9,
        "start_time": "2022-12-09T06:19:37.734Z"
      },
      {
        "duration": 290,
        "start_time": "2022-12-09T06:19:37.744Z"
      },
      {
        "duration": 246,
        "start_time": "2022-12-09T06:19:38.040Z"
      },
      {
        "duration": 8,
        "start_time": "2022-12-09T06:19:38.287Z"
      },
      {
        "duration": 59,
        "start_time": "2022-12-09T06:19:38.296Z"
      },
      {
        "duration": 27360,
        "start_time": "2022-12-09T06:20:04.992Z"
      },
      {
        "duration": 29,
        "start_time": "2022-12-09T06:20:37.969Z"
      },
      {
        "duration": 1311,
        "start_time": "2022-12-09T06:20:51.954Z"
      },
      {
        "duration": 2362,
        "start_time": "2022-12-09T06:20:53.267Z"
      },
      {
        "duration": 49,
        "start_time": "2022-12-09T06:20:55.634Z"
      },
      {
        "duration": 18,
        "start_time": "2022-12-09T06:20:55.685Z"
      },
      {
        "duration": 9,
        "start_time": "2022-12-09T06:20:55.705Z"
      },
      {
        "duration": 39,
        "start_time": "2022-12-09T06:20:55.718Z"
      },
      {
        "duration": 17,
        "start_time": "2022-12-09T06:20:55.758Z"
      },
      {
        "duration": 4,
        "start_time": "2022-12-09T06:20:55.777Z"
      },
      {
        "duration": 1790,
        "start_time": "2022-12-09T06:20:55.782Z"
      },
      {
        "duration": 8,
        "start_time": "2022-12-09T06:20:57.575Z"
      },
      {
        "duration": 122,
        "start_time": "2022-12-09T06:20:57.585Z"
      },
      {
        "duration": 19,
        "start_time": "2022-12-09T06:20:57.708Z"
      },
      {
        "duration": 23,
        "start_time": "2022-12-09T06:20:57.728Z"
      },
      {
        "duration": 10,
        "start_time": "2022-12-09T06:20:57.753Z"
      },
      {
        "duration": 7,
        "start_time": "2022-12-09T06:20:57.764Z"
      },
      {
        "duration": 136,
        "start_time": "2022-12-09T06:20:57.773Z"
      },
      {
        "duration": 6,
        "start_time": "2022-12-09T06:20:57.911Z"
      },
      {
        "duration": 436,
        "start_time": "2022-12-09T06:20:57.921Z"
      },
      {
        "duration": 3,
        "start_time": "2022-12-09T06:20:58.359Z"
      },
      {
        "duration": 5,
        "start_time": "2022-12-09T06:20:58.364Z"
      },
      {
        "duration": 9,
        "start_time": "2022-12-09T06:20:58.371Z"
      },
      {
        "duration": 8,
        "start_time": "2022-12-09T06:20:58.382Z"
      },
      {
        "duration": 28,
        "start_time": "2022-12-09T06:20:58.391Z"
      },
      {
        "duration": 29,
        "start_time": "2022-12-09T06:20:58.421Z"
      },
      {
        "duration": 11,
        "start_time": "2022-12-09T06:20:58.452Z"
      },
      {
        "duration": 43,
        "start_time": "2022-12-09T06:20:58.465Z"
      },
      {
        "duration": 40,
        "start_time": "2022-12-09T06:20:58.510Z"
      },
      {
        "duration": 4,
        "start_time": "2022-12-09T06:20:58.624Z"
      },
      {
        "duration": 186,
        "start_time": "2022-12-09T06:20:58.629Z"
      },
      {
        "duration": 127,
        "start_time": "2022-12-09T06:20:58.820Z"
      },
      {
        "duration": 267,
        "start_time": "2022-12-09T06:20:58.948Z"
      },
      {
        "duration": 49,
        "start_time": "2022-12-09T06:20:59.220Z"
      },
      {
        "duration": 1995,
        "start_time": "2022-12-09T06:20:59.270Z"
      },
      {
        "duration": 2,
        "start_time": "2022-12-09T06:21:01.267Z"
      },
      {
        "duration": 194,
        "start_time": "2022-12-09T06:21:01.271Z"
      },
      {
        "duration": 8,
        "start_time": "2022-12-09T06:21:01.466Z"
      },
      {
        "duration": 25,
        "start_time": "2022-12-09T06:21:01.475Z"
      },
      {
        "duration": 162,
        "start_time": "2022-12-09T06:21:01.502Z"
      },
      {
        "duration": 99523,
        "start_time": "2022-12-09T06:21:01.665Z"
      },
      {
        "duration": 3,
        "start_time": "2022-12-09T06:22:41.189Z"
      },
      {
        "duration": 49,
        "start_time": "2022-12-09T06:22:41.194Z"
      },
      {
        "duration": 3,
        "start_time": "2022-12-09T06:22:41.244Z"
      },
      {
        "duration": 164,
        "start_time": "2022-12-09T06:22:41.249Z"
      },
      {
        "duration": 33,
        "start_time": "2022-12-09T06:22:41.414Z"
      },
      {
        "duration": 77,
        "start_time": "2022-12-09T06:22:41.449Z"
      },
      {
        "duration": 108,
        "start_time": "2022-12-09T06:22:41.528Z"
      },
      {
        "duration": 389,
        "start_time": "2022-12-09T06:22:41.642Z"
      },
      {
        "duration": 10,
        "start_time": "2022-12-09T06:22:42.033Z"
      },
      {
        "duration": 14,
        "start_time": "2022-12-09T06:22:42.045Z"
      },
      {
        "duration": 63,
        "start_time": "2022-12-09T06:22:42.060Z"
      },
      {
        "duration": 4,
        "start_time": "2022-12-09T06:22:42.125Z"
      },
      {
        "duration": 114,
        "start_time": "2022-12-09T06:22:42.131Z"
      },
      {
        "duration": 9,
        "start_time": "2022-12-09T06:22:42.247Z"
      },
      {
        "duration": 73,
        "start_time": "2022-12-09T06:22:42.258Z"
      },
      {
        "duration": 23,
        "start_time": "2022-12-09T06:22:42.333Z"
      },
      {
        "duration": 2492,
        "start_time": "2022-12-09T06:22:42.357Z"
      },
      {
        "duration": 3,
        "start_time": "2022-12-09T06:22:44.851Z"
      },
      {
        "duration": 6,
        "start_time": "2022-12-09T06:22:44.856Z"
      },
      {
        "duration": 5,
        "start_time": "2022-12-09T06:22:44.864Z"
      },
      {
        "duration": 12,
        "start_time": "2022-12-09T06:22:44.870Z"
      },
      {
        "duration": 3,
        "start_time": "2022-12-09T06:22:44.883Z"
      },
      {
        "duration": 155,
        "start_time": "2022-12-09T06:22:44.887Z"
      },
      {
        "duration": 42528,
        "start_time": "2022-12-09T06:22:45.043Z"
      },
      {
        "duration": 3,
        "start_time": "2022-12-09T06:23:27.573Z"
      },
      {
        "duration": 12,
        "start_time": "2022-12-09T06:23:27.577Z"
      },
      {
        "duration": 4,
        "start_time": "2022-12-09T06:23:27.591Z"
      },
      {
        "duration": 183,
        "start_time": "2022-12-09T06:23:27.597Z"
      },
      {
        "duration": 3,
        "start_time": "2022-12-09T06:23:27.781Z"
      },
      {
        "duration": 302,
        "start_time": "2022-12-09T06:23:27.785Z"
      },
      {
        "duration": 254,
        "start_time": "2022-12-09T06:23:28.088Z"
      },
      {
        "duration": 8,
        "start_time": "2022-12-09T06:23:28.344Z"
      },
      {
        "duration": 64,
        "start_time": "2022-12-09T06:23:28.354Z"
      },
      {
        "duration": 48968,
        "start_time": "2022-12-09T06:30:05.635Z"
      },
      {
        "duration": 42,
        "start_time": "2022-12-09T06:31:30.243Z"
      },
      {
        "duration": 1432,
        "start_time": "2022-12-09T06:31:58.110Z"
      },
      {
        "duration": 2633,
        "start_time": "2022-12-09T06:31:59.544Z"
      },
      {
        "duration": 61,
        "start_time": "2022-12-09T06:32:02.181Z"
      },
      {
        "duration": 28,
        "start_time": "2022-12-09T06:32:02.244Z"
      },
      {
        "duration": 5,
        "start_time": "2022-12-09T06:32:02.276Z"
      },
      {
        "duration": 10,
        "start_time": "2022-12-09T06:32:02.282Z"
      },
      {
        "duration": 14,
        "start_time": "2022-12-09T06:32:02.294Z"
      },
      {
        "duration": 4,
        "start_time": "2022-12-09T06:32:02.310Z"
      },
      {
        "duration": 1942,
        "start_time": "2022-12-09T06:32:02.326Z"
      },
      {
        "duration": 8,
        "start_time": "2022-12-09T06:32:04.270Z"
      },
      {
        "duration": 132,
        "start_time": "2022-12-09T06:32:04.280Z"
      },
      {
        "duration": 33,
        "start_time": "2022-12-09T06:32:04.413Z"
      },
      {
        "duration": 30,
        "start_time": "2022-12-09T06:32:04.448Z"
      },
      {
        "duration": 5,
        "start_time": "2022-12-09T06:32:04.481Z"
      },
      {
        "duration": 7,
        "start_time": "2022-12-09T06:32:04.487Z"
      },
      {
        "duration": 147,
        "start_time": "2022-12-09T06:32:04.496Z"
      },
      {
        "duration": 5,
        "start_time": "2022-12-09T06:32:04.646Z"
      },
      {
        "duration": 455,
        "start_time": "2022-12-09T06:32:04.652Z"
      },
      {
        "duration": 3,
        "start_time": "2022-12-09T06:32:05.109Z"
      },
      {
        "duration": 51,
        "start_time": "2022-12-09T06:32:05.113Z"
      },
      {
        "duration": 11,
        "start_time": "2022-12-09T06:32:05.166Z"
      },
      {
        "duration": 8,
        "start_time": "2022-12-09T06:32:05.178Z"
      },
      {
        "duration": 11,
        "start_time": "2022-12-09T06:32:05.187Z"
      },
      {
        "duration": 21,
        "start_time": "2022-12-09T06:32:05.200Z"
      },
      {
        "duration": 16,
        "start_time": "2022-12-09T06:32:05.231Z"
      },
      {
        "duration": 60,
        "start_time": "2022-12-09T06:32:05.249Z"
      },
      {
        "duration": 62,
        "start_time": "2022-12-09T06:32:05.311Z"
      },
      {
        "duration": 44,
        "start_time": "2022-12-09T06:32:05.376Z"
      },
      {
        "duration": 144,
        "start_time": "2022-12-09T06:32:05.422Z"
      },
      {
        "duration": 90,
        "start_time": "2022-12-09T06:32:05.574Z"
      },
      {
        "duration": 381,
        "start_time": "2022-12-09T06:32:05.668Z"
      },
      {
        "duration": 59,
        "start_time": "2022-12-09T06:32:06.050Z"
      },
      {
        "duration": 2378,
        "start_time": "2022-12-09T06:32:06.111Z"
      },
      {
        "duration": 3,
        "start_time": "2022-12-09T06:32:08.490Z"
      },
      {
        "duration": 201,
        "start_time": "2022-12-09T06:32:08.494Z"
      },
      {
        "duration": 8,
        "start_time": "2022-12-09T06:32:08.697Z"
      },
      {
        "duration": 17,
        "start_time": "2022-12-09T06:32:08.706Z"
      },
      {
        "duration": 180,
        "start_time": "2022-12-09T06:32:08.725Z"
      },
      {
        "duration": 109972,
        "start_time": "2022-12-09T06:32:08.906Z"
      },
      {
        "duration": 3,
        "start_time": "2022-12-09T06:33:58.879Z"
      },
      {
        "duration": 65,
        "start_time": "2022-12-09T06:33:58.886Z"
      },
      {
        "duration": 15,
        "start_time": "2022-12-09T06:33:58.953Z"
      },
      {
        "duration": 183,
        "start_time": "2022-12-09T06:33:58.969Z"
      },
      {
        "duration": 19,
        "start_time": "2022-12-09T06:33:59.154Z"
      },
      {
        "duration": 52,
        "start_time": "2022-12-09T06:33:59.175Z"
      },
      {
        "duration": 16,
        "start_time": "2022-12-09T06:33:59.228Z"
      },
      {
        "duration": 471,
        "start_time": "2022-12-09T06:33:59.246Z"
      },
      {
        "duration": 4,
        "start_time": "2022-12-09T06:33:59.719Z"
      },
      {
        "duration": 35,
        "start_time": "2022-12-09T06:33:59.725Z"
      },
      {
        "duration": 58,
        "start_time": "2022-12-09T06:33:59.761Z"
      },
      {
        "duration": 3,
        "start_time": "2022-12-09T06:33:59.821Z"
      },
      {
        "duration": 89,
        "start_time": "2022-12-09T06:33:59.828Z"
      },
      {
        "duration": 34,
        "start_time": "2022-12-09T06:33:59.920Z"
      },
      {
        "duration": 35,
        "start_time": "2022-12-09T06:33:59.956Z"
      },
      {
        "duration": 45,
        "start_time": "2022-12-09T06:33:59.992Z"
      },
      {
        "duration": 2554,
        "start_time": "2022-12-09T06:34:00.042Z"
      },
      {
        "duration": 3,
        "start_time": "2022-12-09T06:34:02.598Z"
      },
      {
        "duration": 61,
        "start_time": "2022-12-09T06:34:02.602Z"
      },
      {
        "duration": 29,
        "start_time": "2022-12-09T06:34:02.664Z"
      },
      {
        "duration": 92,
        "start_time": "2022-12-09T06:34:02.695Z"
      },
      {
        "duration": 2,
        "start_time": "2022-12-09T06:34:02.789Z"
      },
      {
        "duration": 151,
        "start_time": "2022-12-09T06:34:02.793Z"
      },
      {
        "duration": 44783,
        "start_time": "2022-12-09T06:34:02.946Z"
      },
      {
        "duration": 8,
        "start_time": "2022-12-09T06:34:47.731Z"
      },
      {
        "duration": 18,
        "start_time": "2022-12-09T06:34:47.740Z"
      },
      {
        "duration": 11,
        "start_time": "2022-12-09T06:34:47.760Z"
      },
      {
        "duration": 122,
        "start_time": "2022-12-09T06:34:47.773Z"
      },
      {
        "duration": 3,
        "start_time": "2022-12-09T06:34:47.896Z"
      },
      {
        "duration": 256,
        "start_time": "2022-12-09T06:34:47.900Z"
      },
      {
        "duration": 248,
        "start_time": "2022-12-09T06:34:48.158Z"
      },
      {
        "duration": 22,
        "start_time": "2022-12-09T06:34:48.408Z"
      },
      {
        "duration": 53,
        "start_time": "2022-12-09T06:34:48.434Z"
      },
      {
        "duration": 36,
        "start_time": "2022-12-09T06:41:33.249Z"
      },
      {
        "duration": 41,
        "start_time": "2022-12-09T06:43:25.532Z"
      },
      {
        "duration": 36,
        "start_time": "2022-12-09T06:45:12.976Z"
      },
      {
        "duration": 281,
        "start_time": "2022-12-09T06:45:30.390Z"
      },
      {
        "duration": 1354,
        "start_time": "2022-12-09T07:06:07.943Z"
      },
      {
        "duration": 2243,
        "start_time": "2022-12-09T07:06:09.299Z"
      },
      {
        "duration": 44,
        "start_time": "2022-12-09T07:06:11.544Z"
      },
      {
        "duration": 17,
        "start_time": "2022-12-09T07:06:11.590Z"
      },
      {
        "duration": 4,
        "start_time": "2022-12-09T07:06:11.608Z"
      },
      {
        "duration": 23,
        "start_time": "2022-12-09T07:06:11.613Z"
      },
      {
        "duration": 15,
        "start_time": "2022-12-09T07:06:11.637Z"
      },
      {
        "duration": 4,
        "start_time": "2022-12-09T07:06:11.653Z"
      },
      {
        "duration": 1649,
        "start_time": "2022-12-09T07:06:11.658Z"
      },
      {
        "duration": 11,
        "start_time": "2022-12-09T07:06:13.310Z"
      },
      {
        "duration": 126,
        "start_time": "2022-12-09T07:06:13.323Z"
      },
      {
        "duration": 10,
        "start_time": "2022-12-09T07:06:13.451Z"
      },
      {
        "duration": 8,
        "start_time": "2022-12-09T07:06:13.463Z"
      },
      {
        "duration": 10,
        "start_time": "2022-12-09T07:06:13.472Z"
      },
      {
        "duration": 9,
        "start_time": "2022-12-09T07:06:13.484Z"
      },
      {
        "duration": 168,
        "start_time": "2022-12-09T07:06:13.495Z"
      },
      {
        "duration": 4,
        "start_time": "2022-12-09T07:06:13.665Z"
      },
      {
        "duration": 482,
        "start_time": "2022-12-09T07:06:13.671Z"
      },
      {
        "duration": 3,
        "start_time": "2022-12-09T07:06:14.156Z"
      },
      {
        "duration": 5,
        "start_time": "2022-12-09T07:06:14.161Z"
      },
      {
        "duration": 6,
        "start_time": "2022-12-09T07:06:14.167Z"
      },
      {
        "duration": 7,
        "start_time": "2022-12-09T07:06:14.174Z"
      },
      {
        "duration": 9,
        "start_time": "2022-12-09T07:06:14.183Z"
      },
      {
        "duration": 37,
        "start_time": "2022-12-09T07:06:14.193Z"
      },
      {
        "duration": 11,
        "start_time": "2022-12-09T07:06:14.231Z"
      },
      {
        "duration": 51,
        "start_time": "2022-12-09T07:06:14.244Z"
      },
      {
        "duration": 124,
        "start_time": "2022-12-09T07:06:14.297Z"
      },
      {
        "duration": 5,
        "start_time": "2022-12-09T07:06:14.431Z"
      },
      {
        "duration": 108,
        "start_time": "2022-12-09T07:06:14.438Z"
      },
      {
        "duration": 188,
        "start_time": "2022-12-09T07:06:14.549Z"
      },
      {
        "duration": 309,
        "start_time": "2022-12-09T07:06:14.740Z"
      },
      {
        "duration": 40,
        "start_time": "2022-12-09T07:06:15.051Z"
      },
      {
        "duration": 2093,
        "start_time": "2022-12-09T07:06:15.093Z"
      },
      {
        "duration": 2,
        "start_time": "2022-12-09T07:06:17.188Z"
      },
      {
        "duration": 189,
        "start_time": "2022-12-09T07:06:17.192Z"
      },
      {
        "duration": 7,
        "start_time": "2022-12-09T07:06:17.383Z"
      },
      {
        "duration": 2,
        "start_time": "2022-12-09T07:06:17.392Z"
      },
      {
        "duration": 124,
        "start_time": "2022-12-09T07:06:17.416Z"
      },
      {
        "duration": 97947,
        "start_time": "2022-12-09T07:06:17.542Z"
      },
      {
        "duration": 2,
        "start_time": "2022-12-09T07:07:55.491Z"
      },
      {
        "duration": 87,
        "start_time": "2022-12-09T07:07:55.495Z"
      },
      {
        "duration": 3,
        "start_time": "2022-12-09T07:07:55.584Z"
      },
      {
        "duration": 208,
        "start_time": "2022-12-09T07:07:55.589Z"
      },
      {
        "duration": 24,
        "start_time": "2022-12-09T07:07:55.798Z"
      },
      {
        "duration": 195,
        "start_time": "2022-12-09T07:07:55.825Z"
      },
      {
        "duration": 98,
        "start_time": "2022-12-09T07:07:56.022Z"
      },
      {
        "duration": 428,
        "start_time": "2022-12-09T07:07:56.127Z"
      },
      {
        "duration": 5,
        "start_time": "2022-12-09T07:07:56.557Z"
      },
      {
        "duration": 25,
        "start_time": "2022-12-09T07:07:56.564Z"
      },
      {
        "duration": 56,
        "start_time": "2022-12-09T07:07:56.591Z"
      },
      {
        "duration": 68,
        "start_time": "2022-12-09T07:07:56.650Z"
      },
      {
        "duration": 118,
        "start_time": "2022-12-09T07:07:56.721Z"
      },
      {
        "duration": 9,
        "start_time": "2022-12-09T07:07:56.841Z"
      },
      {
        "duration": 36,
        "start_time": "2022-12-09T07:07:56.851Z"
      },
      {
        "duration": 19,
        "start_time": "2022-12-09T07:07:56.889Z"
      },
      {
        "duration": 2449,
        "start_time": "2022-12-09T07:07:56.909Z"
      },
      {
        "duration": 3,
        "start_time": "2022-12-09T07:07:59.359Z"
      },
      {
        "duration": 19,
        "start_time": "2022-12-09T07:07:59.364Z"
      },
      {
        "duration": 6,
        "start_time": "2022-12-09T07:07:59.385Z"
      },
      {
        "duration": 14,
        "start_time": "2022-12-09T07:07:59.392Z"
      },
      {
        "duration": 9,
        "start_time": "2022-12-09T07:07:59.408Z"
      },
      {
        "duration": 139,
        "start_time": "2022-12-09T07:07:59.418Z"
      },
      {
        "duration": 45182,
        "start_time": "2022-12-09T07:07:59.559Z"
      },
      {
        "duration": 7,
        "start_time": "2022-12-09T07:08:44.744Z"
      },
      {
        "duration": 11,
        "start_time": "2022-12-09T07:08:44.752Z"
      },
      {
        "duration": 8,
        "start_time": "2022-12-09T07:08:44.764Z"
      },
      {
        "duration": 128,
        "start_time": "2022-12-09T07:08:44.775Z"
      },
      {
        "duration": 2,
        "start_time": "2022-12-09T07:08:44.905Z"
      },
      {
        "duration": 295,
        "start_time": "2022-12-09T07:08:44.909Z"
      },
      {
        "duration": 277,
        "start_time": "2022-12-09T07:08:45.206Z"
      },
      {
        "duration": 8,
        "start_time": "2022-12-09T07:08:45.485Z"
      },
      {
        "duration": 59,
        "start_time": "2022-12-09T07:08:45.494Z"
      },
      {
        "duration": 36,
        "start_time": "2022-12-09T07:08:45.554Z"
      },
      {
        "duration": 296,
        "start_time": "2022-12-09T07:08:45.592Z"
      },
      {
        "duration": 916,
        "start_time": "2022-12-09T07:17:25.349Z"
      },
      {
        "duration": 34,
        "start_time": "2022-12-09T07:18:43.513Z"
      },
      {
        "duration": 16,
        "start_time": "2022-12-09T07:19:03.527Z"
      },
      {
        "duration": 13,
        "start_time": "2022-12-09T07:20:14.639Z"
      },
      {
        "duration": 263,
        "start_time": "2022-12-09T07:21:17.759Z"
      },
      {
        "duration": 239,
        "start_time": "2022-12-09T07:21:22.131Z"
      },
      {
        "duration": 181,
        "start_time": "2022-12-09T07:21:41.543Z"
      },
      {
        "duration": 10,
        "start_time": "2022-12-09T07:22:00.057Z"
      },
      {
        "duration": 227,
        "start_time": "2022-12-09T07:22:06.750Z"
      },
      {
        "duration": 13,
        "start_time": "2022-12-09T07:22:23.295Z"
      },
      {
        "duration": 538,
        "start_time": "2022-12-09T07:22:49.545Z"
      },
      {
        "duration": 15,
        "start_time": "2022-12-09T07:22:57.213Z"
      },
      {
        "duration": 176,
        "start_time": "2022-12-09T07:23:02.100Z"
      },
      {
        "duration": 510,
        "start_time": "2022-12-09T07:23:21.853Z"
      },
      {
        "duration": 208,
        "start_time": "2022-12-09T07:23:36.663Z"
      },
      {
        "duration": 270,
        "start_time": "2022-12-09T07:24:08.335Z"
      },
      {
        "duration": 8,
        "start_time": "2022-12-09T07:25:29.915Z"
      },
      {
        "duration": 14,
        "start_time": "2022-12-09T07:25:33.758Z"
      },
      {
        "duration": 938,
        "start_time": "2022-12-09T07:26:21.268Z"
      },
      {
        "duration": 959,
        "start_time": "2022-12-09T07:26:26.500Z"
      },
      {
        "duration": 20,
        "start_time": "2022-12-09T07:26:35.587Z"
      },
      {
        "duration": 964,
        "start_time": "2022-12-09T07:26:55.092Z"
      },
      {
        "duration": 948,
        "start_time": "2022-12-09T07:27:18.397Z"
      },
      {
        "duration": 19,
        "start_time": "2022-12-09T07:27:33.743Z"
      },
      {
        "duration": 1319,
        "start_time": "2022-12-09T07:31:54.130Z"
      },
      {
        "duration": 15,
        "start_time": "2022-12-09T07:32:02.291Z"
      },
      {
        "duration": 1210,
        "start_time": "2022-12-09T07:32:21.987Z"
      },
      {
        "duration": 17,
        "start_time": "2022-12-09T07:32:26.751Z"
      },
      {
        "duration": 1177,
        "start_time": "2022-12-09T07:33:05.303Z"
      },
      {
        "duration": 1243,
        "start_time": "2022-12-09T07:33:10.578Z"
      },
      {
        "duration": 21,
        "start_time": "2022-12-09T07:33:16.144Z"
      },
      {
        "duration": 18,
        "start_time": "2022-12-09T07:33:25.547Z"
      },
      {
        "duration": 150,
        "start_time": "2022-12-09T07:33:37.563Z"
      },
      {
        "duration": 164,
        "start_time": "2022-12-09T07:33:49.224Z"
      },
      {
        "duration": 17,
        "start_time": "2022-12-09T07:34:06.804Z"
      },
      {
        "duration": 160,
        "start_time": "2022-12-09T07:34:19.949Z"
      },
      {
        "duration": 171,
        "start_time": "2022-12-09T07:35:29.790Z"
      },
      {
        "duration": 622,
        "start_time": "2022-12-09T07:35:36.174Z"
      },
      {
        "duration": 430,
        "start_time": "2022-12-09T07:35:55.414Z"
      },
      {
        "duration": 278,
        "start_time": "2022-12-09T07:36:08.262Z"
      },
      {
        "duration": 281,
        "start_time": "2022-12-09T07:37:11.060Z"
      },
      {
        "duration": 269,
        "start_time": "2022-12-09T07:37:23.143Z"
      },
      {
        "duration": 341,
        "start_time": "2022-12-09T07:37:29.468Z"
      },
      {
        "duration": 170,
        "start_time": "2022-12-09T07:38:08.411Z"
      },
      {
        "duration": 452,
        "start_time": "2022-12-09T07:38:20.408Z"
      },
      {
        "duration": 558,
        "start_time": "2022-12-09T07:39:30.080Z"
      },
      {
        "duration": 469,
        "start_time": "2022-12-09T07:39:34.559Z"
      },
      {
        "duration": 44,
        "start_time": "2022-12-09T07:40:03.168Z"
      },
      {
        "duration": 40,
        "start_time": "2022-12-09T07:40:07.470Z"
      },
      {
        "duration": 5,
        "start_time": "2022-12-09T08:47:11.400Z"
      },
      {
        "duration": 25,
        "start_time": "2022-12-09T08:47:30.446Z"
      },
      {
        "duration": 13,
        "start_time": "2022-12-09T08:47:59.080Z"
      },
      {
        "duration": 82,
        "start_time": "2022-12-09T08:48:20.538Z"
      },
      {
        "duration": 13,
        "start_time": "2022-12-09T08:50:19.813Z"
      },
      {
        "duration": 475,
        "start_time": "2022-12-09T08:50:23.015Z"
      },
      {
        "duration": 50,
        "start_time": "2022-12-09T08:54:14.372Z"
      },
      {
        "duration": 1742,
        "start_time": "2022-12-10T07:43:52.171Z"
      },
      {
        "duration": 9018,
        "start_time": "2022-12-10T07:43:53.916Z"
      },
      {
        "duration": 0,
        "start_time": "2022-12-10T07:44:02.937Z"
      },
      {
        "duration": 0,
        "start_time": "2022-12-10T07:44:02.938Z"
      },
      {
        "duration": 0,
        "start_time": "2022-12-10T07:44:02.939Z"
      },
      {
        "duration": 12,
        "start_time": "2022-12-10T07:44:14.284Z"
      },
      {
        "duration": 2370,
        "start_time": "2022-12-10T07:44:22.879Z"
      },
      {
        "duration": 3364,
        "start_time": "2022-12-10T07:44:49.032Z"
      },
      {
        "duration": 104,
        "start_time": "2022-12-10T07:45:02.581Z"
      },
      {
        "duration": 522,
        "start_time": "2022-12-10T07:45:06.535Z"
      },
      {
        "duration": 157,
        "start_time": "2022-12-10T07:45:10.882Z"
      },
      {
        "duration": 11,
        "start_time": "2022-12-10T07:45:13.364Z"
      },
      {
        "duration": 6,
        "start_time": "2022-12-10T07:47:21.441Z"
      },
      {
        "duration": 7,
        "start_time": "2022-12-10T07:47:24.341Z"
      },
      {
        "duration": 1429,
        "start_time": "2022-12-10T07:47:42.495Z"
      },
      {
        "duration": 2592,
        "start_time": "2022-12-10T07:47:43.926Z"
      },
      {
        "duration": 43,
        "start_time": "2022-12-10T07:47:46.520Z"
      },
      {
        "duration": 19,
        "start_time": "2022-12-10T07:47:46.566Z"
      },
      {
        "duration": 4,
        "start_time": "2022-12-10T07:47:46.587Z"
      },
      {
        "duration": 11,
        "start_time": "2022-12-10T07:47:46.593Z"
      },
      {
        "duration": 5,
        "start_time": "2022-12-10T07:48:13.413Z"
      },
      {
        "duration": 1369,
        "start_time": "2022-12-10T07:48:28.532Z"
      },
      {
        "duration": 2404,
        "start_time": "2022-12-10T07:48:29.903Z"
      },
      {
        "duration": 45,
        "start_time": "2022-12-10T07:48:32.309Z"
      },
      {
        "duration": 19,
        "start_time": "2022-12-10T07:48:32.356Z"
      },
      {
        "duration": 4,
        "start_time": "2022-12-10T07:48:32.377Z"
      },
      {
        "duration": 5,
        "start_time": "2022-12-10T07:48:34.469Z"
      },
      {
        "duration": 6,
        "start_time": "2022-12-10T07:49:21.457Z"
      },
      {
        "duration": 7,
        "start_time": "2022-12-10T07:49:46.125Z"
      },
      {
        "duration": 5,
        "start_time": "2022-12-10T07:49:58.793Z"
      },
      {
        "duration": 6,
        "start_time": "2022-12-10T07:50:03.028Z"
      },
      {
        "duration": 6,
        "start_time": "2022-12-10T07:50:09.446Z"
      },
      {
        "duration": 7,
        "start_time": "2022-12-10T07:50:10.220Z"
      },
      {
        "duration": 7,
        "start_time": "2022-12-10T07:50:10.653Z"
      },
      {
        "duration": 7,
        "start_time": "2022-12-10T07:50:10.949Z"
      },
      {
        "duration": 6,
        "start_time": "2022-12-10T07:50:11.541Z"
      },
      {
        "duration": 7,
        "start_time": "2022-12-10T07:50:12.095Z"
      },
      {
        "duration": 1470,
        "start_time": "2022-12-10T07:50:28.156Z"
      },
      {
        "duration": 2558,
        "start_time": "2022-12-10T07:50:29.628Z"
      },
      {
        "duration": 43,
        "start_time": "2022-12-10T07:50:32.188Z"
      },
      {
        "duration": 19,
        "start_time": "2022-12-10T07:50:32.234Z"
      },
      {
        "duration": 9,
        "start_time": "2022-12-10T07:50:52.583Z"
      }
    ],
    "kernelspec": {
      "display_name": "Python 3 (ipykernel)",
      "language": "python",
      "name": "python3"
    },
    "language_info": {
      "codemirror_mode": {
        "name": "ipython",
        "version": 3
      },
      "file_extension": ".py",
      "mimetype": "text/x-python",
      "name": "python",
      "nbconvert_exporter": "python",
      "pygments_lexer": "ipython3",
      "version": "3.9.5"
    },
    "toc": {
      "base_numbering": 1,
      "nav_menu": {},
      "number_sections": false,
      "sideBar": true,
      "skip_h1_title": true,
      "title_cell": "Содержание",
      "title_sidebar": "Contents",
      "toc_cell": true,
      "toc_position": {},
      "toc_section_display": true,
      "toc_window_display": true
    },
    "colab": {
      "provenance": []
    }
  },
  "nbformat": 4,
  "nbformat_minor": 0
}