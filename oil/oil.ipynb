{
  "cells": [
    {
      "cell_type": "markdown",
      "metadata": {
        "id": "pl42-m58C0C6"
      },
      "source": [
        "# Выбор локации для скважины"
      ]
    },
    {
      "cell_type": "markdown",
      "metadata": {
        "id": "uXUAkl6nC0C7"
      },
      "source": [
        "## Цели и задачи исследования\n",
        "\n",
        "### Предоставленные данные и исходные предпосылки\n",
        "\n",
        "У нас есть данные о нефти в трех регионах. Были измерены качество нефти и объем запасов сырья. \n",
        "\n",
        "Бюджет на разработку новых скважин — 10 млрд рублей.\n",
        "\n",
        "Из 500 возможных точек необходимо выбрать 200 лучших для разработки.\n",
        "\n",
        "Стоимость одного барреля — 450 рублей. Объем сырья указан в тысячах баррелей.\n",
        "\n",
        "\n",
        "### Цель исследования\n",
        "\n",
        "Определить регион для разработки новых нефтяных скважин с учетом объема прибыли и возможных рисков.\n",
        "\n",
        "### Задачи исследования\n",
        "\n",
        "1. С использованием модели линейной регрессии спрогнозировать средний запас сырья в регионе\n",
        "2. Рассчитать достаточный объем сырья для безубыточной разработки новой скважины и сравнить этот показатель со средним запасом сырья в каждом регионе\n",
        "3. Выбрать скважины с максимальными предсказанными значениями и определить суммарный объем сырья по реальным значениям на этих скважинах. Рассчитать прибыль\n",
        "4. Построить распределение прибыли, найти доверительный интервал для прибыли и рассчитать риск убытков (с использованием бутстрапа)\n",
        "5. Предложить для разработки новых скважин регион с наибольшей средней прибылью, в котором вероятность убытков не превышает 2.5%"
      ]
    },
    {
      "cell_type": "markdown",
      "metadata": {
        "id": "9Y22410QC0C7"
      },
      "source": [
        "## Загрузка и подготовка данных"
      ]
    },
    {
      "cell_type": "code",
      "execution_count": 1,
      "metadata": {
        "id": "5XUGlBomC0C8"
      },
      "outputs": [],
      "source": [
        "# Импортируем необходимые библиотеки и функции\n",
        "import pandas as pd\n",
        "import numpy as np\n",
        "import matplotlib.pyplot as plt\n",
        "import seaborn as sns\n",
        "import warnings\n",
        "from sklearn.linear_model import LinearRegression\n",
        "from sklearn.model_selection import train_test_split\n",
        "from sklearn.preprocessing import MinMaxScaler\n",
        "from sklearn.metrics import mean_squared_error\n",
        "warnings.filterwarnings('ignore')\n"
      ]
    },
    {
      "cell_type": "code",
      "execution_count": 2,
      "metadata": {
        "id": "Jo0wPcYsC0C9"
      },
      "outputs": [],
      "source": [
        "# Загружаем данные по каждому региону в отдельные переменные\n",
        "try:\n",
        "    d1 = pd.read_csv('/datasets/geo_data_0.csv')\n",
        "    d2 = pd.read_csv('/datasets/geo_data_1.csv')\n",
        "    d3 = pd.read_csv('/datasets/geo_data_2.csv')\n",
        "except:\n",
        "    d1 = pd.read_csv('/content/geo_data_0.csv')\n",
        "    d2 = pd.read_csv('/content/geo_data_1.csv')\n",
        "    d3 = pd.read_csv('/content/geo_data_2.csv')"
      ]
    },
    {
      "cell_type": "code",
      "execution_count": 3,
      "metadata": {
        "id": "JKxj4WXpC0C9"
      },
      "outputs": [],
      "source": [
        "# Делаем функцию для проведения обзора данных\n",
        "def data_overview(data):\n",
        "    '''\n",
        "    Функция для обзора данных,\n",
        "    принимает на вход датафрейм,\n",
        "    выводит на экран его основные характеристики\n",
        "    и графики\n",
        "    '''\n",
        "    print('Первые пять строк', (80 - len('Первые пять строк')) * '-')\n",
        "    display(data.head())   \n",
        "    print('')\n",
        "    print('Общая информация о данных (info)', (80 - len('Общая информация о данных (info)')) * '-', '\\n')\n",
        "    data.info()\n",
        "    print('')\n",
        "    print('Статистические показатели (describe)', (80 - len('Статистические показатели (describe)')) * '-')\n",
        "    display(data.describe().T)\n",
        "    print('')\n",
        "    print ('Пропущенные значения в данных', (80 - len('Пропущенные значения в данных')) * '-')\n",
        "    print('')\n",
        "    empty = sum(data.isna().sum())\n",
        "    if empty > 0:\n",
        "        print(f'Количество пропусков в данных: {empty}')\n",
        "    else:\n",
        "        print('Пропущенных значений нет')\n",
        "    print('')\n",
        "    print('Дубликаты в данных', (80 - len('Дубликаты в данных')) * '-')\n",
        "    print('')\n",
        "    if data.duplicated().sum() > 0:\n",
        "        print (f'Количество дубликатов в данных: {data.duplicated().sum()}')\n",
        "    else:\n",
        "        print('Дубликатов нет')\n",
        "    print('')\n",
        "    print('Корреляция между количественными признаками', (80 - len('Корреляция между количественными признаками')) * '-')\n",
        "    plt.figure(figsize=(5,4))\n",
        "    sns.heatmap(data.drop('id', axis=1).corr(), cmap=\"viridis\", annot=True)\n",
        "    plt.show()\n",
        "    print(' ')\n",
        "    print('Распределение количественных данных на гистограммах', \n",
        "          (80 - len('Распределение количественных данных на гистограммах')) * '-')\n",
        "    data.hist(figsize=(15,15))\n",
        "    plt.show()\n",
        "    "
      ]
    },
    {
      "cell_type": "markdown",
      "metadata": {
        "id": "pd76rs3uC0C-"
      },
      "source": [
        "### Регион 1"
      ]
    },
    {
      "cell_type": "code",
      "execution_count": 4,
      "metadata": {
        "colab": {
          "base_uri": "https://localhost:8080/",
          "height": 1000
        },
        "id": "slI3vhvpC0C-",
        "outputId": "8cc22c8e-0f54-4f98-c0f0-4024a4eeb749"
      },
      "outputs": [
        {
          "output_type": "stream",
          "name": "stdout",
          "text": [
            "Первые пять строк ---------------------------------------------------------------\n"
          ]
        },
        {
          "output_type": "display_data",
          "data": {
            "text/plain": [
              "      id        f0        f1        f2     product\n",
              "0  txEyH  0.705745 -0.497823  1.221170  105.280062\n",
              "1  2acmU  1.334711 -0.340164  4.365080   73.037750\n",
              "2  409Wp  1.022732  0.151990  1.419926   85.265647\n",
              "3  iJLyR -0.032172  0.139033  2.978566  168.620776\n",
              "4  Xdl7t  1.988431  0.155413  4.751769  154.036647"
            ],
            "text/html": [
              "\n",
              "  <div id=\"df-95a16234-4bc4-4a63-ad82-dc917c0712d5\">\n",
              "    <div class=\"colab-df-container\">\n",
              "      <div>\n",
              "<style scoped>\n",
              "    .dataframe tbody tr th:only-of-type {\n",
              "        vertical-align: middle;\n",
              "    }\n",
              "\n",
              "    .dataframe tbody tr th {\n",
              "        vertical-align: top;\n",
              "    }\n",
              "\n",
              "    .dataframe thead th {\n",
              "        text-align: right;\n",
              "    }\n",
              "</style>\n",
              "<table border=\"1\" class=\"dataframe\">\n",
              "  <thead>\n",
              "    <tr style=\"text-align: right;\">\n",
              "      <th></th>\n",
              "      <th>id</th>\n",
              "      <th>f0</th>\n",
              "      <th>f1</th>\n",
              "      <th>f2</th>\n",
              "      <th>product</th>\n",
              "    </tr>\n",
              "  </thead>\n",
              "  <tbody>\n",
              "    <tr>\n",
              "      <th>0</th>\n",
              "      <td>txEyH</td>\n",
              "      <td>0.705745</td>\n",
              "      <td>-0.497823</td>\n",
              "      <td>1.221170</td>\n",
              "      <td>105.280062</td>\n",
              "    </tr>\n",
              "    <tr>\n",
              "      <th>1</th>\n",
              "      <td>2acmU</td>\n",
              "      <td>1.334711</td>\n",
              "      <td>-0.340164</td>\n",
              "      <td>4.365080</td>\n",
              "      <td>73.037750</td>\n",
              "    </tr>\n",
              "    <tr>\n",
              "      <th>2</th>\n",
              "      <td>409Wp</td>\n",
              "      <td>1.022732</td>\n",
              "      <td>0.151990</td>\n",
              "      <td>1.419926</td>\n",
              "      <td>85.265647</td>\n",
              "    </tr>\n",
              "    <tr>\n",
              "      <th>3</th>\n",
              "      <td>iJLyR</td>\n",
              "      <td>-0.032172</td>\n",
              "      <td>0.139033</td>\n",
              "      <td>2.978566</td>\n",
              "      <td>168.620776</td>\n",
              "    </tr>\n",
              "    <tr>\n",
              "      <th>4</th>\n",
              "      <td>Xdl7t</td>\n",
              "      <td>1.988431</td>\n",
              "      <td>0.155413</td>\n",
              "      <td>4.751769</td>\n",
              "      <td>154.036647</td>\n",
              "    </tr>\n",
              "  </tbody>\n",
              "</table>\n",
              "</div>\n",
              "      <button class=\"colab-df-convert\" onclick=\"convertToInteractive('df-95a16234-4bc4-4a63-ad82-dc917c0712d5')\"\n",
              "              title=\"Convert this dataframe to an interactive table.\"\n",
              "              style=\"display:none;\">\n",
              "        \n",
              "  <svg xmlns=\"http://www.w3.org/2000/svg\" height=\"24px\"viewBox=\"0 0 24 24\"\n",
              "       width=\"24px\">\n",
              "    <path d=\"M0 0h24v24H0V0z\" fill=\"none\"/>\n",
              "    <path d=\"M18.56 5.44l.94 2.06.94-2.06 2.06-.94-2.06-.94-.94-2.06-.94 2.06-2.06.94zm-11 1L8.5 8.5l.94-2.06 2.06-.94-2.06-.94L8.5 2.5l-.94 2.06-2.06.94zm10 10l.94 2.06.94-2.06 2.06-.94-2.06-.94-.94-2.06-.94 2.06-2.06.94z\"/><path d=\"M17.41 7.96l-1.37-1.37c-.4-.4-.92-.59-1.43-.59-.52 0-1.04.2-1.43.59L10.3 9.45l-7.72 7.72c-.78.78-.78 2.05 0 2.83L4 21.41c.39.39.9.59 1.41.59.51 0 1.02-.2 1.41-.59l7.78-7.78 2.81-2.81c.8-.78.8-2.07 0-2.86zM5.41 20L4 18.59l7.72-7.72 1.47 1.35L5.41 20z\"/>\n",
              "  </svg>\n",
              "      </button>\n",
              "      \n",
              "  <style>\n",
              "    .colab-df-container {\n",
              "      display:flex;\n",
              "      flex-wrap:wrap;\n",
              "      gap: 12px;\n",
              "    }\n",
              "\n",
              "    .colab-df-convert {\n",
              "      background-color: #E8F0FE;\n",
              "      border: none;\n",
              "      border-radius: 50%;\n",
              "      cursor: pointer;\n",
              "      display: none;\n",
              "      fill: #1967D2;\n",
              "      height: 32px;\n",
              "      padding: 0 0 0 0;\n",
              "      width: 32px;\n",
              "    }\n",
              "\n",
              "    .colab-df-convert:hover {\n",
              "      background-color: #E2EBFA;\n",
              "      box-shadow: 0px 1px 2px rgba(60, 64, 67, 0.3), 0px 1px 3px 1px rgba(60, 64, 67, 0.15);\n",
              "      fill: #174EA6;\n",
              "    }\n",
              "\n",
              "    [theme=dark] .colab-df-convert {\n",
              "      background-color: #3B4455;\n",
              "      fill: #D2E3FC;\n",
              "    }\n",
              "\n",
              "    [theme=dark] .colab-df-convert:hover {\n",
              "      background-color: #434B5C;\n",
              "      box-shadow: 0px 1px 3px 1px rgba(0, 0, 0, 0.15);\n",
              "      filter: drop-shadow(0px 1px 2px rgba(0, 0, 0, 0.3));\n",
              "      fill: #FFFFFF;\n",
              "    }\n",
              "  </style>\n",
              "\n",
              "      <script>\n",
              "        const buttonEl =\n",
              "          document.querySelector('#df-95a16234-4bc4-4a63-ad82-dc917c0712d5 button.colab-df-convert');\n",
              "        buttonEl.style.display =\n",
              "          google.colab.kernel.accessAllowed ? 'block' : 'none';\n",
              "\n",
              "        async function convertToInteractive(key) {\n",
              "          const element = document.querySelector('#df-95a16234-4bc4-4a63-ad82-dc917c0712d5');\n",
              "          const dataTable =\n",
              "            await google.colab.kernel.invokeFunction('convertToInteractive',\n",
              "                                                     [key], {});\n",
              "          if (!dataTable) return;\n",
              "\n",
              "          const docLinkHtml = 'Like what you see? Visit the ' +\n",
              "            '<a target=\"_blank\" href=https://colab.research.google.com/notebooks/data_table.ipynb>data table notebook</a>'\n",
              "            + ' to learn more about interactive tables.';\n",
              "          element.innerHTML = '';\n",
              "          dataTable['output_type'] = 'display_data';\n",
              "          await google.colab.output.renderOutput(dataTable, element);\n",
              "          const docLink = document.createElement('div');\n",
              "          docLink.innerHTML = docLinkHtml;\n",
              "          element.appendChild(docLink);\n",
              "        }\n",
              "      </script>\n",
              "    </div>\n",
              "  </div>\n",
              "  "
            ]
          },
          "metadata": {}
        },
        {
          "output_type": "stream",
          "name": "stdout",
          "text": [
            "\n",
            "Общая информация о данных (info) ------------------------------------------------ \n",
            "\n",
            "<class 'pandas.core.frame.DataFrame'>\n",
            "RangeIndex: 100000 entries, 0 to 99999\n",
            "Data columns (total 5 columns):\n",
            " #   Column   Non-Null Count   Dtype  \n",
            "---  ------   --------------   -----  \n",
            " 0   id       100000 non-null  object \n",
            " 1   f0       100000 non-null  float64\n",
            " 2   f1       100000 non-null  float64\n",
            " 3   f2       100000 non-null  float64\n",
            " 4   product  100000 non-null  float64\n",
            "dtypes: float64(4), object(1)\n",
            "memory usage: 3.8+ MB\n",
            "\n",
            "Статистические показатели (describe) --------------------------------------------\n"
          ]
        },
        {
          "output_type": "display_data",
          "data": {
            "text/plain": [
              "            count       mean        std        min        25%        50%  \\\n",
              "f0       100000.0   0.500419   0.871832  -1.408605  -0.072580   0.502360   \n",
              "f1       100000.0   0.250143   0.504433  -0.848218  -0.200881   0.250252   \n",
              "f2       100000.0   2.502647   3.248248 -12.088328   0.287748   2.515969   \n",
              "product  100000.0  92.500000  44.288691   0.000000  56.497507  91.849972   \n",
              "\n",
              "                75%         max  \n",
              "f0         1.073581    2.362331  \n",
              "f1         0.700646    1.343769  \n",
              "f2         4.715088   16.003790  \n",
              "product  128.564089  185.364347  "
            ],
            "text/html": [
              "\n",
              "  <div id=\"df-08fd8bf0-d029-48c0-b3c4-a02483cea74f\">\n",
              "    <div class=\"colab-df-container\">\n",
              "      <div>\n",
              "<style scoped>\n",
              "    .dataframe tbody tr th:only-of-type {\n",
              "        vertical-align: middle;\n",
              "    }\n",
              "\n",
              "    .dataframe tbody tr th {\n",
              "        vertical-align: top;\n",
              "    }\n",
              "\n",
              "    .dataframe thead th {\n",
              "        text-align: right;\n",
              "    }\n",
              "</style>\n",
              "<table border=\"1\" class=\"dataframe\">\n",
              "  <thead>\n",
              "    <tr style=\"text-align: right;\">\n",
              "      <th></th>\n",
              "      <th>count</th>\n",
              "      <th>mean</th>\n",
              "      <th>std</th>\n",
              "      <th>min</th>\n",
              "      <th>25%</th>\n",
              "      <th>50%</th>\n",
              "      <th>75%</th>\n",
              "      <th>max</th>\n",
              "    </tr>\n",
              "  </thead>\n",
              "  <tbody>\n",
              "    <tr>\n",
              "      <th>f0</th>\n",
              "      <td>100000.0</td>\n",
              "      <td>0.500419</td>\n",
              "      <td>0.871832</td>\n",
              "      <td>-1.408605</td>\n",
              "      <td>-0.072580</td>\n",
              "      <td>0.502360</td>\n",
              "      <td>1.073581</td>\n",
              "      <td>2.362331</td>\n",
              "    </tr>\n",
              "    <tr>\n",
              "      <th>f1</th>\n",
              "      <td>100000.0</td>\n",
              "      <td>0.250143</td>\n",
              "      <td>0.504433</td>\n",
              "      <td>-0.848218</td>\n",
              "      <td>-0.200881</td>\n",
              "      <td>0.250252</td>\n",
              "      <td>0.700646</td>\n",
              "      <td>1.343769</td>\n",
              "    </tr>\n",
              "    <tr>\n",
              "      <th>f2</th>\n",
              "      <td>100000.0</td>\n",
              "      <td>2.502647</td>\n",
              "      <td>3.248248</td>\n",
              "      <td>-12.088328</td>\n",
              "      <td>0.287748</td>\n",
              "      <td>2.515969</td>\n",
              "      <td>4.715088</td>\n",
              "      <td>16.003790</td>\n",
              "    </tr>\n",
              "    <tr>\n",
              "      <th>product</th>\n",
              "      <td>100000.0</td>\n",
              "      <td>92.500000</td>\n",
              "      <td>44.288691</td>\n",
              "      <td>0.000000</td>\n",
              "      <td>56.497507</td>\n",
              "      <td>91.849972</td>\n",
              "      <td>128.564089</td>\n",
              "      <td>185.364347</td>\n",
              "    </tr>\n",
              "  </tbody>\n",
              "</table>\n",
              "</div>\n",
              "      <button class=\"colab-df-convert\" onclick=\"convertToInteractive('df-08fd8bf0-d029-48c0-b3c4-a02483cea74f')\"\n",
              "              title=\"Convert this dataframe to an interactive table.\"\n",
              "              style=\"display:none;\">\n",
              "        \n",
              "  <svg xmlns=\"http://www.w3.org/2000/svg\" height=\"24px\"viewBox=\"0 0 24 24\"\n",
              "       width=\"24px\">\n",
              "    <path d=\"M0 0h24v24H0V0z\" fill=\"none\"/>\n",
              "    <path d=\"M18.56 5.44l.94 2.06.94-2.06 2.06-.94-2.06-.94-.94-2.06-.94 2.06-2.06.94zm-11 1L8.5 8.5l.94-2.06 2.06-.94-2.06-.94L8.5 2.5l-.94 2.06-2.06.94zm10 10l.94 2.06.94-2.06 2.06-.94-2.06-.94-.94-2.06-.94 2.06-2.06.94z\"/><path d=\"M17.41 7.96l-1.37-1.37c-.4-.4-.92-.59-1.43-.59-.52 0-1.04.2-1.43.59L10.3 9.45l-7.72 7.72c-.78.78-.78 2.05 0 2.83L4 21.41c.39.39.9.59 1.41.59.51 0 1.02-.2 1.41-.59l7.78-7.78 2.81-2.81c.8-.78.8-2.07 0-2.86zM5.41 20L4 18.59l7.72-7.72 1.47 1.35L5.41 20z\"/>\n",
              "  </svg>\n",
              "      </button>\n",
              "      \n",
              "  <style>\n",
              "    .colab-df-container {\n",
              "      display:flex;\n",
              "      flex-wrap:wrap;\n",
              "      gap: 12px;\n",
              "    }\n",
              "\n",
              "    .colab-df-convert {\n",
              "      background-color: #E8F0FE;\n",
              "      border: none;\n",
              "      border-radius: 50%;\n",
              "      cursor: pointer;\n",
              "      display: none;\n",
              "      fill: #1967D2;\n",
              "      height: 32px;\n",
              "      padding: 0 0 0 0;\n",
              "      width: 32px;\n",
              "    }\n",
              "\n",
              "    .colab-df-convert:hover {\n",
              "      background-color: #E2EBFA;\n",
              "      box-shadow: 0px 1px 2px rgba(60, 64, 67, 0.3), 0px 1px 3px 1px rgba(60, 64, 67, 0.15);\n",
              "      fill: #174EA6;\n",
              "    }\n",
              "\n",
              "    [theme=dark] .colab-df-convert {\n",
              "      background-color: #3B4455;\n",
              "      fill: #D2E3FC;\n",
              "    }\n",
              "\n",
              "    [theme=dark] .colab-df-convert:hover {\n",
              "      background-color: #434B5C;\n",
              "      box-shadow: 0px 1px 3px 1px rgba(0, 0, 0, 0.15);\n",
              "      filter: drop-shadow(0px 1px 2px rgba(0, 0, 0, 0.3));\n",
              "      fill: #FFFFFF;\n",
              "    }\n",
              "  </style>\n",
              "\n",
              "      <script>\n",
              "        const buttonEl =\n",
              "          document.querySelector('#df-08fd8bf0-d029-48c0-b3c4-a02483cea74f button.colab-df-convert');\n",
              "        buttonEl.style.display =\n",
              "          google.colab.kernel.accessAllowed ? 'block' : 'none';\n",
              "\n",
              "        async function convertToInteractive(key) {\n",
              "          const element = document.querySelector('#df-08fd8bf0-d029-48c0-b3c4-a02483cea74f');\n",
              "          const dataTable =\n",
              "            await google.colab.kernel.invokeFunction('convertToInteractive',\n",
              "                                                     [key], {});\n",
              "          if (!dataTable) return;\n",
              "\n",
              "          const docLinkHtml = 'Like what you see? Visit the ' +\n",
              "            '<a target=\"_blank\" href=https://colab.research.google.com/notebooks/data_table.ipynb>data table notebook</a>'\n",
              "            + ' to learn more about interactive tables.';\n",
              "          element.innerHTML = '';\n",
              "          dataTable['output_type'] = 'display_data';\n",
              "          await google.colab.output.renderOutput(dataTable, element);\n",
              "          const docLink = document.createElement('div');\n",
              "          docLink.innerHTML = docLinkHtml;\n",
              "          element.appendChild(docLink);\n",
              "        }\n",
              "      </script>\n",
              "    </div>\n",
              "  </div>\n",
              "  "
            ]
          },
          "metadata": {}
        },
        {
          "output_type": "stream",
          "name": "stdout",
          "text": [
            "\n",
            "Пропущенные значения в данных ---------------------------------------------------\n",
            "\n",
            "Пропущенных значений нет\n",
            "\n",
            "Дубликаты в данных --------------------------------------------------------------\n",
            "\n",
            "Дубликатов нет\n",
            "\n",
            "Корреляция между количественными признаками -------------------------------------\n"
          ]
        },
        {
          "output_type": "display_data",
          "data": {
            "text/plain": [
              "<Figure size 500x400 with 2 Axes>"
            ],
            "image/png": "[encoded data removed]"
          },
          "metadata": {}
        },
        {
          "output_type": "stream",
          "name": "stdout",
          "text": [
            " \n",
            "Распределение количественных данных на гистограммах -----------------------------\n"
          ]
        },
        {
          "output_type": "display_data",
          "data": {
            "text/plain": [
              "<Figure size 1500x1500 with 4 Axes>"
            ],
            "image/png": "[encoded data removed]"
          },
          "metadata": {}
        }
      ],
      "source": [
        "# Смотрим на данные по региону 1\n",
        "data_overview(d1)"
      ]
    },
    {
      "cell_type": "markdown",
      "metadata": {
        "id": "WgKe0S-6C0C_"
      },
      "source": [
        "1. В данных по региону 1 нет пропусков и явных дубликатов, количество строк в датасете — 100_000, типы данных соответствуют значениям в столбцах. \n",
        "\n",
        "2. Наблюдается средняя положительная корреляция (0.48) между объемом получаемого сырья и признаком f2.\n",
        "\n",
        "3. Значения числовых переменных являются непрерывными (это видно на гистограммах).\n",
        "\n"
      ]
    },
    {
      "cell_type": "markdown",
      "metadata": {
        "id": "ac4zLUxuC0C_"
      },
      "source": [
        "### Регион 2"
      ]
    },
    {
      "cell_type": "code",
      "execution_count": 5,
      "metadata": {
        "colab": {
          "base_uri": "https://localhost:8080/",
          "height": 1000
        },
        "id": "zb9qFF4kC0C_",
        "outputId": "d7e9e461-e5ac-4683-b698-039dc49dc6e7"
      },
      "outputs": [
        {
          "output_type": "stream",
          "name": "stdout",
          "text": [
            "Первые пять строк ---------------------------------------------------------------\n"
          ]
        },
        {
          "output_type": "display_data",
          "data": {
            "text/plain": [
              "      id         f0         f1        f2     product\n",
              "0  kBEdx -15.001348  -8.276000 -0.005876    3.179103\n",
              "1  62mP7  14.272088  -3.475083  0.999183   26.953261\n",
              "2  vyE1P   6.263187  -5.948386  5.001160  134.766305\n",
              "3  KcrkZ -13.081196 -11.506057  4.999415  137.945408\n",
              "4  AHL4O  12.702195  -8.147433  5.004363  134.766305"
            ],
            "text/html": [
              "\n",
              "  <div id=\"df-d86a9459-544c-43d4-92e3-1eb9412bc647\">\n",
              "    <div class=\"colab-df-container\">\n",
              "      <div>\n",
              "<style scoped>\n",
              "    .dataframe tbody tr th:only-of-type {\n",
              "        vertical-align: middle;\n",
              "    }\n",
              "\n",
              "    .dataframe tbody tr th {\n",
              "        vertical-align: top;\n",
              "    }\n",
              "\n",
              "    .dataframe thead th {\n",
              "        text-align: right;\n",
              "    }\n",
              "</style>\n",
              "<table border=\"1\" class=\"dataframe\">\n",
              "  <thead>\n",
              "    <tr style=\"text-align: right;\">\n",
              "      <th></th>\n",
              "      <th>id</th>\n",
              "      <th>f0</th>\n",
              "      <th>f1</th>\n",
              "      <th>f2</th>\n",
              "      <th>product</th>\n",
              "    </tr>\n",
              "  </thead>\n",
              "  <tbody>\n",
              "    <tr>\n",
              "      <th>0</th>\n",
              "      <td>kBEdx</td>\n",
              "      <td>-15.001348</td>\n",
              "      <td>-8.276000</td>\n",
              "      <td>-0.005876</td>\n",
              "      <td>3.179103</td>\n",
              "    </tr>\n",
              "    <tr>\n",
              "      <th>1</th>\n",
              "      <td>62mP7</td>\n",
              "      <td>14.272088</td>\n",
              "      <td>-3.475083</td>\n",
              "      <td>0.999183</td>\n",
              "      <td>26.953261</td>\n",
              "    </tr>\n",
              "    <tr>\n",
              "      <th>2</th>\n",
              "      <td>vyE1P</td>\n",
              "      <td>6.263187</td>\n",
              "      <td>-5.948386</td>\n",
              "      <td>5.001160</td>\n",
              "      <td>134.766305</td>\n",
              "    </tr>\n",
              "    <tr>\n",
              "      <th>3</th>\n",
              "      <td>KcrkZ</td>\n",
              "      <td>-13.081196</td>\n",
              "      <td>-11.506057</td>\n",
              "      <td>4.999415</td>\n",
              "      <td>137.945408</td>\n",
              "    </tr>\n",
              "    <tr>\n",
              "      <th>4</th>\n",
              "      <td>AHL4O</td>\n",
              "      <td>12.702195</td>\n",
              "      <td>-8.147433</td>\n",
              "      <td>5.004363</td>\n",
              "      <td>134.766305</td>\n",
              "    </tr>\n",
              "  </tbody>\n",
              "</table>\n",
              "</div>\n",
              "      <button class=\"colab-df-convert\" onclick=\"convertToInteractive('df-d86a9459-544c-43d4-92e3-1eb9412bc647')\"\n",
              "              title=\"Convert this dataframe to an interactive table.\"\n",
              "              style=\"display:none;\">\n",
              "        \n",
              "  <svg xmlns=\"http://www.w3.org/2000/svg\" height=\"24px\"viewBox=\"0 0 24 24\"\n",
              "       width=\"24px\">\n",
              "    <path d=\"M0 0h24v24H0V0z\" fill=\"none\"/>\n",
              "    <path d=\"M18.56 5.44l.94 2.06.94-2.06 2.06-.94-2.06-.94-.94-2.06-.94 2.06-2.06.94zm-11 1L8.5 8.5l.94-2.06 2.06-.94-2.06-.94L8.5 2.5l-.94 2.06-2.06.94zm10 10l.94 2.06.94-2.06 2.06-.94-2.06-.94-.94-2.06-.94 2.06-2.06.94z\"/><path d=\"M17.41 7.96l-1.37-1.37c-.4-.4-.92-.59-1.43-.59-.52 0-1.04.2-1.43.59L10.3 9.45l-7.72 7.72c-.78.78-.78 2.05 0 2.83L4 21.41c.39.39.9.59 1.41.59.51 0 1.02-.2 1.41-.59l7.78-7.78 2.81-2.81c.8-.78.8-2.07 0-2.86zM5.41 20L4 18.59l7.72-7.72 1.47 1.35L5.41 20z\"/>\n",
              "  </svg>\n",
              "      </button>\n",
              "      \n",
              "  <style>\n",
              "    .colab-df-container {\n",
              "      display:flex;\n",
              "      flex-wrap:wrap;\n",
              "      gap: 12px;\n",
              "    }\n",
              "\n",
              "    .colab-df-convert {\n",
              "      background-color: #E8F0FE;\n",
              "      border: none;\n",
              "      border-radius: 50%;\n",
              "      cursor: pointer;\n",
              "      display: none;\n",
              "      fill: #1967D2;\n",
              "      height: 32px;\n",
              "      padding: 0 0 0 0;\n",
              "      width: 32px;\n",
              "    }\n",
              "\n",
              "    .colab-df-convert:hover {\n",
              "      background-color: #E2EBFA;\n",
              "      box-shadow: 0px 1px 2px rgba(60, 64, 67, 0.3), 0px 1px 3px 1px rgba(60, 64, 67, 0.15);\n",
              "      fill: #174EA6;\n",
              "    }\n",
              "\n",
              "    [theme=dark] .colab-df-convert {\n",
              "      background-color: #3B4455;\n",
              "      fill: #D2E3FC;\n",
              "    }\n",
              "\n",
              "    [theme=dark] .colab-df-convert:hover {\n",
              "      background-color: #434B5C;\n",
              "      box-shadow: 0px 1px 3px 1px rgba(0, 0, 0, 0.15);\n",
              "      filter: drop-shadow(0px 1px 2px rgba(0, 0, 0, 0.3));\n",
              "      fill: #FFFFFF;\n",
              "    }\n",
              "  </style>\n",
              "\n",
              "      <script>\n",
              "        const buttonEl =\n",
              "          document.querySelector('#df-d86a9459-544c-43d4-92e3-1eb9412bc647 button.colab-df-convert');\n",
              "        buttonEl.style.display =\n",
              "          google.colab.kernel.accessAllowed ? 'block' : 'none';\n",
              "\n",
              "        async function convertToInteractive(key) {\n",
              "          const element = document.querySelector('#df-d86a9459-544c-43d4-92e3-1eb9412bc647');\n",
              "          const dataTable =\n",
              "            await google.colab.kernel.invokeFunction('convertToInteractive',\n",
              "                                                     [key], {});\n",
              "          if (!dataTable) return;\n",
              "\n",
              "          const docLinkHtml = 'Like what you see? Visit the ' +\n",
              "            '<a target=\"_blank\" href=https://colab.research.google.com/notebooks/data_table.ipynb>data table notebook</a>'\n",
              "            + ' to learn more about interactive tables.';\n",
              "          element.innerHTML = '';\n",
              "          dataTable['output_type'] = 'display_data';\n",
              "          await google.colab.output.renderOutput(dataTable, element);\n",
              "          const docLink = document.createElement('div');\n",
              "          docLink.innerHTML = docLinkHtml;\n",
              "          element.appendChild(docLink);\n",
              "        }\n",
              "      </script>\n",
              "    </div>\n",
              "  </div>\n",
              "  "
            ]
          },
          "metadata": {}
        },
        {
          "output_type": "stream",
          "name": "stdout",
          "text": [
            "\n",
            "Общая информация о данных (info) ------------------------------------------------ \n",
            "\n",
            "<class 'pandas.core.frame.DataFrame'>\n",
            "RangeIndex: 100000 entries, 0 to 99999\n",
            "Data columns (total 5 columns):\n",
            " #   Column   Non-Null Count   Dtype  \n",
            "---  ------   --------------   -----  \n",
            " 0   id       100000 non-null  object \n",
            " 1   f0       100000 non-null  float64\n",
            " 2   f1       100000 non-null  float64\n",
            " 3   f2       100000 non-null  float64\n",
            " 4   product  100000 non-null  float64\n",
            "dtypes: float64(4), object(1)\n",
            "memory usage: 3.8+ MB\n",
            "\n",
            "Статистические показатели (describe) --------------------------------------------\n"
          ]
        },
        {
          "output_type": "display_data",
          "data": {
            "text/plain": [
              "            count       mean        std        min        25%        50%  \\\n",
              "f0       100000.0   1.141296   8.965932 -31.609576  -6.298551   1.153055   \n",
              "f1       100000.0  -4.796579   5.119872 -26.358598  -8.267985  -4.813172   \n",
              "f2       100000.0   2.494541   1.703572  -0.018144   1.000021   2.011479   \n",
              "product  100000.0  68.825000  45.944423   0.000000  26.953261  57.085625   \n",
              "\n",
              "                75%         max  \n",
              "f0         8.621015   29.421755  \n",
              "f1        -1.332816   18.734063  \n",
              "f2         3.999904    5.019721  \n",
              "product  107.813044  137.945408  "
            ],
            "text/html": [
              "\n",
              "  <div id=\"df-caf8052d-4fe4-443b-8a65-ca859cbd7856\">\n",
              "    <div class=\"colab-df-container\">\n",
              "      <div>\n",
              "<style scoped>\n",
              "    .dataframe tbody tr th:only-of-type {\n",
              "        vertical-align: middle;\n",
              "    }\n",
              "\n",
              "    .dataframe tbody tr th {\n",
              "        vertical-align: top;\n",
              "    }\n",
              "\n",
              "    .dataframe thead th {\n",
              "        text-align: right;\n",
              "    }\n",
              "</style>\n",
              "<table border=\"1\" class=\"dataframe\">\n",
              "  <thead>\n",
              "    <tr style=\"text-align: right;\">\n",
              "      <th></th>\n",
              "      <th>count</th>\n",
              "      <th>mean</th>\n",
              "      <th>std</th>\n",
              "      <th>min</th>\n",
              "      <th>25%</th>\n",
              "      <th>50%</th>\n",
              "      <th>75%</th>\n",
              "      <th>max</th>\n",
              "    </tr>\n",
              "  </thead>\n",
              "  <tbody>\n",
              "    <tr>\n",
              "      <th>f0</th>\n",
              "      <td>100000.0</td>\n",
              "      <td>1.141296</td>\n",
              "      <td>8.965932</td>\n",
              "      <td>-31.609576</td>\n",
              "      <td>-6.298551</td>\n",
              "      <td>1.153055</td>\n",
              "      <td>8.621015</td>\n",
              "      <td>29.421755</td>\n",
              "    </tr>\n",
              "    <tr>\n",
              "      <th>f1</th>\n",
              "      <td>100000.0</td>\n",
              "      <td>-4.796579</td>\n",
              "      <td>5.119872</td>\n",
              "      <td>-26.358598</td>\n",
              "      <td>-8.267985</td>\n",
              "      <td>-4.813172</td>\n",
              "      <td>-1.332816</td>\n",
              "      <td>18.734063</td>\n",
              "    </tr>\n",
              "    <tr>\n",
              "      <th>f2</th>\n",
              "      <td>100000.0</td>\n",
              "      <td>2.494541</td>\n",
              "      <td>1.703572</td>\n",
              "      <td>-0.018144</td>\n",
              "      <td>1.000021</td>\n",
              "      <td>2.011479</td>\n",
              "      <td>3.999904</td>\n",
              "      <td>5.019721</td>\n",
              "    </tr>\n",
              "    <tr>\n",
              "      <th>product</th>\n",
              "      <td>100000.0</td>\n",
              "      <td>68.825000</td>\n",
              "      <td>45.944423</td>\n",
              "      <td>0.000000</td>\n",
              "      <td>26.953261</td>\n",
              "      <td>57.085625</td>\n",
              "      <td>107.813044</td>\n",
              "      <td>137.945408</td>\n",
              "    </tr>\n",
              "  </tbody>\n",
              "</table>\n",
              "</div>\n",
              "      <button class=\"colab-df-convert\" onclick=\"convertToInteractive('df-caf8052d-4fe4-443b-8a65-ca859cbd7856')\"\n",
              "              title=\"Convert this dataframe to an interactive table.\"\n",
              "              style=\"display:none;\">\n",
              "        \n",
              "  <svg xmlns=\"http://www.w3.org/2000/svg\" height=\"24px\"viewBox=\"0 0 24 24\"\n",
              "       width=\"24px\">\n",
              "    <path d=\"M0 0h24v24H0V0z\" fill=\"none\"/>\n",
              "    <path d=\"M18.56 5.44l.94 2.06.94-2.06 2.06-.94-2.06-.94-.94-2.06-.94 2.06-2.06.94zm-11 1L8.5 8.5l.94-2.06 2.06-.94-2.06-.94L8.5 2.5l-.94 2.06-2.06.94zm10 10l.94 2.06.94-2.06 2.06-.94-2.06-.94-.94-2.06-.94 2.06-2.06.94z\"/><path d=\"M17.41 7.96l-1.37-1.37c-.4-.4-.92-.59-1.43-.59-.52 0-1.04.2-1.43.59L10.3 9.45l-7.72 7.72c-.78.78-.78 2.05 0 2.83L4 21.41c.39.39.9.59 1.41.59.51 0 1.02-.2 1.41-.59l7.78-7.78 2.81-2.81c.8-.78.8-2.07 0-2.86zM5.41 20L4 18.59l7.72-7.72 1.47 1.35L5.41 20z\"/>\n",
              "  </svg>\n",
              "      </button>\n",
              "      \n",
              "  <style>\n",
              "    .colab-df-container {\n",
              "      display:flex;\n",
              "      flex-wrap:wrap;\n",
              "      gap: 12px;\n",
              "    }\n",
              "\n",
              "    .colab-df-convert {\n",
              "      background-color: #E8F0FE;\n",
              "      border: none;\n",
              "      border-radius: 50%;\n",
              "      cursor: pointer;\n",
              "      display: none;\n",
              "      fill: #1967D2;\n",
              "      height: 32px;\n",
              "      padding: 0 0 0 0;\n",
              "      width: 32px;\n",
              "    }\n",
              "\n",
              "    .colab-df-convert:hover {\n",
              "      background-color: #E2EBFA;\n",
              "      box-shadow: 0px 1px 2px rgba(60, 64, 67, 0.3), 0px 1px 3px 1px rgba(60, 64, 67, 0.15);\n",
              "      fill: #174EA6;\n",
              "    }\n",
              "\n",
              "    [theme=dark] .colab-df-convert {\n",
              "      background-color: #3B4455;\n",
              "      fill: #D2E3FC;\n",
              "    }\n",
              "\n",
              "    [theme=dark] .colab-df-convert:hover {\n",
              "      background-color: #434B5C;\n",
              "      box-shadow: 0px 1px 3px 1px rgba(0, 0, 0, 0.15);\n",
              "      filter: drop-shadow(0px 1px 2px rgba(0, 0, 0, 0.3));\n",
              "      fill: #FFFFFF;\n",
              "    }\n",
              "  </style>\n",
              "\n",
              "      <script>\n",
              "        const buttonEl =\n",
              "          document.querySelector('#df-caf8052d-4fe4-443b-8a65-ca859cbd7856 button.colab-df-convert');\n",
              "        buttonEl.style.display =\n",
              "          google.colab.kernel.accessAllowed ? 'block' : 'none';\n",
              "\n",
              "        async function convertToInteractive(key) {\n",
              "          const element = document.querySelector('#df-caf8052d-4fe4-443b-8a65-ca859cbd7856');\n",
              "          const dataTable =\n",
              "            await google.colab.kernel.invokeFunction('convertToInteractive',\n",
              "                                                     [key], {});\n",
              "          if (!dataTable) return;\n",
              "\n",
              "          const docLinkHtml = 'Like what you see? Visit the ' +\n",
              "            '<a target=\"_blank\" href=https://colab.research.google.com/notebooks/data_table.ipynb>data table notebook</a>'\n",
              "            + ' to learn more about interactive tables.';\n",
              "          element.innerHTML = '';\n",
              "          dataTable['output_type'] = 'display_data';\n",
              "          await google.colab.output.renderOutput(dataTable, element);\n",
              "          const docLink = document.createElement('div');\n",
              "          docLink.innerHTML = docLinkHtml;\n",
              "          element.appendChild(docLink);\n",
              "        }\n",
              "      </script>\n",
              "    </div>\n",
              "  </div>\n",
              "  "
            ]
          },
          "metadata": {}
        },
        {
          "output_type": "stream",
          "name": "stdout",
          "text": [
            "\n",
            "Пропущенные значения в данных ---------------------------------------------------\n",
            "\n",
            "Пропущенных значений нет\n",
            "\n",
            "Дубликаты в данных --------------------------------------------------------------\n",
            "\n",
            "Дубликатов нет\n",
            "\n",
            "Корреляция между количественными признаками -------------------------------------\n"
          ]
        },
        {
          "output_type": "display_data",
          "data": {
            "text/plain": [
              "<Figure size 500x400 with 2 Axes>"
            ],
            "image/png": "[encoded data removed]"
          },
          "metadata": {}
        },
        {
          "output_type": "stream",
          "name": "stdout",
          "text": [
            " \n",
            "Распределение количественных данных на гистограммах -----------------------------\n"
          ]
        },
        {
          "output_type": "display_data",
          "data": {
            "text/plain": [
              "<Figure size 1500x1500 with 4 Axes>"
            ],
            "image/png": "[encoded data removed]"
          },
          "metadata": {}
        }
      ],
      "source": [
        "data_overview(d2)"
      ]
    },
    {
      "cell_type": "markdown",
      "metadata": {
        "id": "bdB0niM4C0C_"
      },
      "source": [
        "1. В данных по региону 2 нет пропусков и явных дубликатов, количество строк в датасете — 100_000, типы данных соответствуют значениям в столбцах. \n",
        "\n",
        "2. Наблюдается сильная положительная корреляция (около 1) между объемом получаемого сырья и признаком f2, то есть мы можем говорить, что эти переменные имеют линейную связь.\n",
        "\n"
      ]
    },
    {
      "cell_type": "markdown",
      "metadata": {
        "id": "vb12CxUIC0C_"
      },
      "source": [
        "### Регион 3"
      ]
    },
    {
      "cell_type": "code",
      "execution_count": 6,
      "metadata": {
        "colab": {
          "base_uri": "https://localhost:8080/",
          "height": 1000
        },
        "id": "LMRXtDWHC0DA",
        "outputId": "f46d6fd5-ba5c-4d41-f6ab-0cdb762b6180"
      },
      "outputs": [
        {
          "output_type": "stream",
          "name": "stdout",
          "text": [
            "Первые пять строк ---------------------------------------------------------------\n"
          ]
        },
        {
          "output_type": "display_data",
          "data": {
            "text/plain": [
              "      id        f0        f1        f2     product\n",
              "0  fwXo0 -1.146987  0.963328 -0.828965   27.758673\n",
              "1  WJtFt  0.262778  0.269839 -2.530187   56.069697\n",
              "2  ovLUW  0.194587  0.289035 -5.586433   62.871910\n",
              "3  q6cA6  2.236060 -0.553760  0.930038  114.572842\n",
              "4  WPMUX -0.515993  1.716266  5.899011  149.600746"
            ],
            "text/html": [
              "\n",
              "  <div id=\"df-f2f83d3f-f629-4f51-bd4c-5801ea9cdc6b\">\n",
              "    <div class=\"colab-df-container\">\n",
              "      <div>\n",
              "<style scoped>\n",
              "    .dataframe tbody tr th:only-of-type {\n",
              "        vertical-align: middle;\n",
              "    }\n",
              "\n",
              "    .dataframe tbody tr th {\n",
              "        vertical-align: top;\n",
              "    }\n",
              "\n",
              "    .dataframe thead th {\n",
              "        text-align: right;\n",
              "    }\n",
              "</style>\n",
              "<table border=\"1\" class=\"dataframe\">\n",
              "  <thead>\n",
              "    <tr style=\"text-align: right;\">\n",
              "      <th></th>\n",
              "      <th>id</th>\n",
              "      <th>f0</th>\n",
              "      <th>f1</th>\n",
              "      <th>f2</th>\n",
              "      <th>product</th>\n",
              "    </tr>\n",
              "  </thead>\n",
              "  <tbody>\n",
              "    <tr>\n",
              "      <th>0</th>\n",
              "      <td>fwXo0</td>\n",
              "      <td>-1.146987</td>\n",
              "      <td>0.963328</td>\n",
              "      <td>-0.828965</td>\n",
              "      <td>27.758673</td>\n",
              "    </tr>\n",
              "    <tr>\n",
              "      <th>1</th>\n",
              "      <td>WJtFt</td>\n",
              "      <td>0.262778</td>\n",
              "      <td>0.269839</td>\n",
              "      <td>-2.530187</td>\n",
              "      <td>56.069697</td>\n",
              "    </tr>\n",
              "    <tr>\n",
              "      <th>2</th>\n",
              "      <td>ovLUW</td>\n",
              "      <td>0.194587</td>\n",
              "      <td>0.289035</td>\n",
              "      <td>-5.586433</td>\n",
              "      <td>62.871910</td>\n",
              "    </tr>\n",
              "    <tr>\n",
              "      <th>3</th>\n",
              "      <td>q6cA6</td>\n",
              "      <td>2.236060</td>\n",
              "      <td>-0.553760</td>\n",
              "      <td>0.930038</td>\n",
              "      <td>114.572842</td>\n",
              "    </tr>\n",
              "    <tr>\n",
              "      <th>4</th>\n",
              "      <td>WPMUX</td>\n",
              "      <td>-0.515993</td>\n",
              "      <td>1.716266</td>\n",
              "      <td>5.899011</td>\n",
              "      <td>149.600746</td>\n",
              "    </tr>\n",
              "  </tbody>\n",
              "</table>\n",
              "</div>\n",
              "      <button class=\"colab-df-convert\" onclick=\"convertToInteractive('df-f2f83d3f-f629-4f51-bd4c-5801ea9cdc6b')\"\n",
              "              title=\"Convert this dataframe to an interactive table.\"\n",
              "              style=\"display:none;\">\n",
              "        \n",
              "  <svg xmlns=\"http://www.w3.org/2000/svg\" height=\"24px\"viewBox=\"0 0 24 24\"\n",
              "       width=\"24px\">\n",
              "    <path d=\"M0 0h24v24H0V0z\" fill=\"none\"/>\n",
              "    <path d=\"M18.56 5.44l.94 2.06.94-2.06 2.06-.94-2.06-.94-.94-2.06-.94 2.06-2.06.94zm-11 1L8.5 8.5l.94-2.06 2.06-.94-2.06-.94L8.5 2.5l-.94 2.06-2.06.94zm10 10l.94 2.06.94-2.06 2.06-.94-2.06-.94-.94-2.06-.94 2.06-2.06.94z\"/><path d=\"M17.41 7.96l-1.37-1.37c-.4-.4-.92-.59-1.43-.59-.52 0-1.04.2-1.43.59L10.3 9.45l-7.72 7.72c-.78.78-.78 2.05 0 2.83L4 21.41c.39.39.9.59 1.41.59.51 0 1.02-.2 1.41-.59l7.78-7.78 2.81-2.81c.8-.78.8-2.07 0-2.86zM5.41 20L4 18.59l7.72-7.72 1.47 1.35L5.41 20z\"/>\n",
              "  </svg>\n",
              "      </button>\n",
              "      \n",
              "  <style>\n",
              "    .colab-df-container {\n",
              "      display:flex;\n",
              "      flex-wrap:wrap;\n",
              "      gap: 12px;\n",
              "    }\n",
              "\n",
              "    .colab-df-convert {\n",
              "      background-color: #E8F0FE;\n",
              "      border: none;\n",
              "      border-radius: 50%;\n",
              "      cursor: pointer;\n",
              "      display: none;\n",
              "      fill: #1967D2;\n",
              "      height: 32px;\n",
              "      padding: 0 0 0 0;\n",
              "      width: 32px;\n",
              "    }\n",
              "\n",
              "    .colab-df-convert:hover {\n",
              "      background-color: #E2EBFA;\n",
              "      box-shadow: 0px 1px 2px rgba(60, 64, 67, 0.3), 0px 1px 3px 1px rgba(60, 64, 67, 0.15);\n",
              "      fill: #174EA6;\n",
              "    }\n",
              "\n",
              "    [theme=dark] .colab-df-convert {\n",
              "      background-color: #3B4455;\n",
              "      fill: #D2E3FC;\n",
              "    }\n",
              "\n",
              "    [theme=dark] .colab-df-convert:hover {\n",
              "      background-color: #434B5C;\n",
              "      box-shadow: 0px 1px 3px 1px rgba(0, 0, 0, 0.15);\n",
              "      filter: drop-shadow(0px 1px 2px rgba(0, 0, 0, 0.3));\n",
              "      fill: #FFFFFF;\n",
              "    }\n",
              "  </style>\n",
              "\n",
              "      <script>\n",
              "        const buttonEl =\n",
              "          document.querySelector('#df-f2f83d3f-f629-4f51-bd4c-5801ea9cdc6b button.colab-df-convert');\n",
              "        buttonEl.style.display =\n",
              "          google.colab.kernel.accessAllowed ? 'block' : 'none';\n",
              "\n",
              "        async function convertToInteractive(key) {\n",
              "          const element = document.querySelector('#df-f2f83d3f-f629-4f51-bd4c-5801ea9cdc6b');\n",
              "          const dataTable =\n",
              "            await google.colab.kernel.invokeFunction('convertToInteractive',\n",
              "                                                     [key], {});\n",
              "          if (!dataTable) return;\n",
              "\n",
              "          const docLinkHtml = 'Like what you see? Visit the ' +\n",
              "            '<a target=\"_blank\" href=https://colab.research.google.com/notebooks/data_table.ipynb>data table notebook</a>'\n",
              "            + ' to learn more about interactive tables.';\n",
              "          element.innerHTML = '';\n",
              "          dataTable['output_type'] = 'display_data';\n",
              "          await google.colab.output.renderOutput(dataTable, element);\n",
              "          const docLink = document.createElement('div');\n",
              "          docLink.innerHTML = docLinkHtml;\n",
              "          element.appendChild(docLink);\n",
              "        }\n",
              "      </script>\n",
              "    </div>\n",
              "  </div>\n",
              "  "
            ]
          },
          "metadata": {}
        },
        {
          "output_type": "stream",
          "name": "stdout",
          "text": [
            "\n",
            "Общая информация о данных (info) ------------------------------------------------ \n",
            "\n",
            "<class 'pandas.core.frame.DataFrame'>\n",
            "RangeIndex: 100000 entries, 0 to 99999\n",
            "Data columns (total 5 columns):\n",
            " #   Column   Non-Null Count   Dtype  \n",
            "---  ------   --------------   -----  \n",
            " 0   id       100000 non-null  object \n",
            " 1   f0       100000 non-null  float64\n",
            " 2   f1       100000 non-null  float64\n",
            " 3   f2       100000 non-null  float64\n",
            " 4   product  100000 non-null  float64\n",
            "dtypes: float64(4), object(1)\n",
            "memory usage: 3.8+ MB\n",
            "\n",
            "Статистические показатели (describe) --------------------------------------------\n"
          ]
        },
        {
          "output_type": "display_data",
          "data": {
            "text/plain": [
              "            count       mean        std        min        25%        50%  \\\n",
              "f0       100000.0   0.002023   1.732045  -8.760004  -1.162288   0.009424   \n",
              "f1       100000.0  -0.002081   1.730417  -7.084020  -1.174820  -0.009482   \n",
              "f2       100000.0   2.495128   3.473445 -11.970335   0.130359   2.484236   \n",
              "product  100000.0  95.000000  44.749921   0.000000  59.450441  94.925613   \n",
              "\n",
              "                75%         max  \n",
              "f0         1.158535    7.238262  \n",
              "f1         1.163678    7.844801  \n",
              "f2         4.858794   16.739402  \n",
              "product  130.595027  190.029838  "
            ],
            "text/html": [
              "\n",
              "  <div id=\"df-2d91998c-adaf-42fe-8adc-90ad365255c2\">\n",
              "    <div class=\"colab-df-container\">\n",
              "      <div>\n",
              "<style scoped>\n",
              "    .dataframe tbody tr th:only-of-type {\n",
              "        vertical-align: middle;\n",
              "    }\n",
              "\n",
              "    .dataframe tbody tr th {\n",
              "        vertical-align: top;\n",
              "    }\n",
              "\n",
              "    .dataframe thead th {\n",
              "        text-align: right;\n",
              "    }\n",
              "</style>\n",
              "<table border=\"1\" class=\"dataframe\">\n",
              "  <thead>\n",
              "    <tr style=\"text-align: right;\">\n",
              "      <th></th>\n",
              "      <th>count</th>\n",
              "      <th>mean</th>\n",
              "      <th>std</th>\n",
              "      <th>min</th>\n",
              "      <th>25%</th>\n",
              "      <th>50%</th>\n",
              "      <th>75%</th>\n",
              "      <th>max</th>\n",
              "    </tr>\n",
              "  </thead>\n",
              "  <tbody>\n",
              "    <tr>\n",
              "      <th>f0</th>\n",
              "      <td>100000.0</td>\n",
              "      <td>0.002023</td>\n",
              "      <td>1.732045</td>\n",
              "      <td>-8.760004</td>\n",
              "      <td>-1.162288</td>\n",
              "      <td>0.009424</td>\n",
              "      <td>1.158535</td>\n",
              "      <td>7.238262</td>\n",
              "    </tr>\n",
              "    <tr>\n",
              "      <th>f1</th>\n",
              "      <td>100000.0</td>\n",
              "      <td>-0.002081</td>\n",
              "      <td>1.730417</td>\n",
              "      <td>-7.084020</td>\n",
              "      <td>-1.174820</td>\n",
              "      <td>-0.009482</td>\n",
              "      <td>1.163678</td>\n",
              "      <td>7.844801</td>\n",
              "    </tr>\n",
              "    <tr>\n",
              "      <th>f2</th>\n",
              "      <td>100000.0</td>\n",
              "      <td>2.495128</td>\n",
              "      <td>3.473445</td>\n",
              "      <td>-11.970335</td>\n",
              "      <td>0.130359</td>\n",
              "      <td>2.484236</td>\n",
              "      <td>4.858794</td>\n",
              "      <td>16.739402</td>\n",
              "    </tr>\n",
              "    <tr>\n",
              "      <th>product</th>\n",
              "      <td>100000.0</td>\n",
              "      <td>95.000000</td>\n",
              "      <td>44.749921</td>\n",
              "      <td>0.000000</td>\n",
              "      <td>59.450441</td>\n",
              "      <td>94.925613</td>\n",
              "      <td>130.595027</td>\n",
              "      <td>190.029838</td>\n",
              "    </tr>\n",
              "  </tbody>\n",
              "</table>\n",
              "</div>\n",
              "      <button class=\"colab-df-convert\" onclick=\"convertToInteractive('df-2d91998c-adaf-42fe-8adc-90ad365255c2')\"\n",
              "              title=\"Convert this dataframe to an interactive table.\"\n",
              "              style=\"display:none;\">\n",
              "        \n",
              "  <svg xmlns=\"http://www.w3.org/2000/svg\" height=\"24px\"viewBox=\"0 0 24 24\"\n",
              "       width=\"24px\">\n",
              "    <path d=\"M0 0h24v24H0V0z\" fill=\"none\"/>\n",
              "    <path d=\"M18.56 5.44l.94 2.06.94-2.06 2.06-.94-2.06-.94-.94-2.06-.94 2.06-2.06.94zm-11 1L8.5 8.5l.94-2.06 2.06-.94-2.06-.94L8.5 2.5l-.94 2.06-2.06.94zm10 10l.94 2.06.94-2.06 2.06-.94-2.06-.94-.94-2.06-.94 2.06-2.06.94z\"/><path d=\"M17.41 7.96l-1.37-1.37c-.4-.4-.92-.59-1.43-.59-.52 0-1.04.2-1.43.59L10.3 9.45l-7.72 7.72c-.78.78-.78 2.05 0 2.83L4 21.41c.39.39.9.59 1.41.59.51 0 1.02-.2 1.41-.59l7.78-7.78 2.81-2.81c.8-.78.8-2.07 0-2.86zM5.41 20L4 18.59l7.72-7.72 1.47 1.35L5.41 20z\"/>\n",
              "  </svg>\n",
              "      </button>\n",
              "      \n",
              "  <style>\n",
              "    .colab-df-container {\n",
              "      display:flex;\n",
              "      flex-wrap:wrap;\n",
              "      gap: 12px;\n",
              "    }\n",
              "\n",
              "    .colab-df-convert {\n",
              "      background-color: #E8F0FE;\n",
              "      border: none;\n",
              "      border-radius: 50%;\n",
              "      cursor: pointer;\n",
              "      display: none;\n",
              "      fill: #1967D2;\n",
              "      height: 32px;\n",
              "      padding: 0 0 0 0;\n",
              "      width: 32px;\n",
              "    }\n",
              "\n",
              "    .colab-df-convert:hover {\n",
              "      background-color: #E2EBFA;\n",
              "      box-shadow: 0px 1px 2px rgba(60, 64, 67, 0.3), 0px 1px 3px 1px rgba(60, 64, 67, 0.15);\n",
              "      fill: #174EA6;\n",
              "    }\n",
              "\n",
              "    [theme=dark] .colab-df-convert {\n",
              "      background-color: #3B4455;\n",
              "      fill: #D2E3FC;\n",
              "    }\n",
              "\n",
              "    [theme=dark] .colab-df-convert:hover {\n",
              "      background-color: #434B5C;\n",
              "      box-shadow: 0px 1px 3px 1px rgba(0, 0, 0, 0.15);\n",
              "      filter: drop-shadow(0px 1px 2px rgba(0, 0, 0, 0.3));\n",
              "      fill: #FFFFFF;\n",
              "    }\n",
              "  </style>\n",
              "\n",
              "      <script>\n",
              "        const buttonEl =\n",
              "          document.querySelector('#df-2d91998c-adaf-42fe-8adc-90ad365255c2 button.colab-df-convert');\n",
              "        buttonEl.style.display =\n",
              "          google.colab.kernel.accessAllowed ? 'block' : 'none';\n",
              "\n",
              "        async function convertToInteractive(key) {\n",
              "          const element = document.querySelector('#df-2d91998c-adaf-42fe-8adc-90ad365255c2');\n",
              "          const dataTable =\n",
              "            await google.colab.kernel.invokeFunction('convertToInteractive',\n",
              "                                                     [key], {});\n",
              "          if (!dataTable) return;\n",
              "\n",
              "          const docLinkHtml = 'Like what you see? Visit the ' +\n",
              "            '<a target=\"_blank\" href=https://colab.research.google.com/notebooks/data_table.ipynb>data table notebook</a>'\n",
              "            + ' to learn more about interactive tables.';\n",
              "          element.innerHTML = '';\n",
              "          dataTable['output_type'] = 'display_data';\n",
              "          await google.colab.output.renderOutput(dataTable, element);\n",
              "          const docLink = document.createElement('div');\n",
              "          docLink.innerHTML = docLinkHtml;\n",
              "          element.appendChild(docLink);\n",
              "        }\n",
              "      </script>\n",
              "    </div>\n",
              "  </div>\n",
              "  "
            ]
          },
          "metadata": {}
        },
        {
          "output_type": "stream",
          "name": "stdout",
          "text": [
            "\n",
            "Пропущенные значения в данных ---------------------------------------------------\n",
            "\n",
            "Пропущенных значений нет\n",
            "\n",
            "Дубликаты в данных --------------------------------------------------------------\n",
            "\n",
            "Дубликатов нет\n",
            "\n",
            "Корреляция между количественными признаками -------------------------------------\n"
          ]
        },
        {
          "output_type": "display_data",
          "data": {
            "text/plain": [
              "<Figure size 500x400 with 2 Axes>"
            ],
            "image/png": "[encoded data removed]"
          },
          "metadata": {}
        },
        {
          "output_type": "stream",
          "name": "stdout",
          "text": [
            " \n",
            "Распределение количественных данных на гистограммах -----------------------------\n"
          ]
        },
        {
          "output_type": "display_data",
          "data": {
            "text/plain": [
              "<Figure size 1500x1500 with 4 Axes>"
            ],
            "image/png": "[encoded data removed]"
          },
          "metadata": {}
        }
      ],
      "source": [
        "data_overview(d3)"
      ]
    },
    {
      "cell_type": "markdown",
      "metadata": {
        "id": "iWrMRAZpC0DA"
      },
      "source": [
        "1. В данных по региону 3 нет пропусков и явных дубликатов, количество строк в датасете — 100_000, типы данных соответствуют значениям в столбцах. \n",
        "\n",
        "2. Наблюдается средняя положительная корреляция (0.45) между объемом получаемого сырья и признаком f2.\n",
        "\n",
        "3. Значения числовых переменных являются непрерывными (это видно на гистограммах). Значения переменной product имеют нормальное распределение.\n",
        "\n"
      ]
    },
    {
      "cell_type": "markdown",
      "metadata": {
        "id": "oho26DApC0DA"
      },
      "source": [
        "### Общие замечания"
      ]
    },
    {
      "cell_type": "markdown",
      "metadata": {
        "id": "myJcHPM6C0DA"
      },
      "source": [
        "Сравним объем добываемого сырья по регионам, посмотрим на данные на графике."
      ]
    },
    {
      "cell_type": "code",
      "execution_count": 7,
      "metadata": {
        "colab": {
          "base_uri": "https://localhost:8080/",
          "height": 547
        },
        "id": "5OtCkB-4C0DA",
        "outputId": "94c2bec7-8dfb-4db9-ac21-61702b242031"
      },
      "outputs": [
        {
          "output_type": "display_data",
          "data": {
            "text/plain": [
              "<Figure size 1000x700 with 1 Axes>"
            ],
            "image/png": "[encoded data removed]"
          },
          "metadata": {}
        }
      ],
      "source": [
        "plt.figure(figsize=(10,7))\n",
        "sns.histplot(d1['product'].sample(frac=0.1), label='Регион_1', \n",
        "             color=\"g\", alpha=.7, kde=True)\n",
        "sns.histplot(d2['product'].sample(frac=0.1), label='Регион_2', \n",
        "             color=\"deeppink\", alpha=.7, kde=True)\n",
        "sns.histplot(d3['product'].sample(frac=0.1), label='Регион_3', \n",
        "             color=\"orange\", alpha=.4, kde=True)\n",
        "plt.legend()\n",
        "plt.show()\n"
      ]
    },
    {
      "cell_type": "markdown",
      "metadata": {
        "id": "l2C7Y-ggC0DA"
      },
      "source": [
        "Мы видим, что в данных по второму региону присутствуют явно выраженные пики в нескольких участках графика, тогда как у данных по первому и третьему регионам распределение значений непрерывное. На этом графике видно, что второй регион по каким-то причинам сильно отличается от двух остальных."
      ]
    },
    {
      "cell_type": "markdown",
      "metadata": {
        "id": "CDXrzarbC0DB"
      },
      "source": [
        "### Выводы по разделу"
      ]
    },
    {
      "cell_type": "markdown",
      "metadata": {
        "id": "YkPPuy6XC0DB"
      },
      "source": [
        "В ходе обзора данных было выявлено:\n",
        "1. Явных дубликатов и пропусков в данных нет.\n",
        "2. Во втором регионе наблюдается прямая линейная зависимость между признаком f2 и количеством сырья.\n",
        "3. Второй регион отличается от двух других по значениям в столбце product (имеются явно выраженные пиковые значения в нескольких участках графика).\n",
        "4. Положительная линейная корреляция между f2 и product присутствует также в первом и третьем регионах, но она не так явно выражена, как во втором."
      ]
    },
    {
      "cell_type": "markdown",
      "metadata": {
        "id": "gJ0Bx9oIC0DB"
      },
      "source": [
        "## Обучение и проверка модели"
      ]
    },
    {
      "cell_type": "markdown",
      "metadata": {
        "id": "n4gD0AIVC0DB"
      },
      "source": [
        "Создадим функцию для разбивки данных, обучения модели и выведения на экран необходимых показателей (метрики RMSE для модели линейной регрессии и среднего предсказанного запаса сырья в регионе)."
      ]
    },
    {
      "cell_type": "code",
      "execution_count": 8,
      "metadata": {
        "id": "iTKtK7WpC0DB"
      },
      "outputs": [],
      "source": [
        "def using_linear_regression(data):\n",
        "    '''\n",
        "    Функция принимает на вход датасет и делает следующее:\n",
        "    - разбивает его на features и target\n",
        "    - разбивает на тренировочную и валидационную подвыборки\n",
        "    - масштабирует признаки через MinMaxScaler\n",
        "    - выводит на экран метрику RMSE и среднее значение предсказания\n",
        "    - строит график плотности распределений предсказанных и целевых значений\n",
        "    - возвращает значения таргета и предсказаний\n",
        "    \n",
        "    '''\n",
        "    features = data.drop(['product', 'id'], axis=1)\n",
        "    target = data['product']\n",
        "    features_train, features_valid, target_train, target_valid = train_test_split(\n",
        "    features, target, test_size=0.25, random_state=910)\n",
        "    scaler=MinMaxScaler()\n",
        "    features_train = scaler.fit_transform(features_train)\n",
        "    features_valid = scaler.transform(features_valid)\n",
        "    model=LinearRegression()\n",
        "    model.fit(features_train, target_train)\n",
        "    predictions = model.predict(features_valid)\n",
        "    mse = mean_squared_error(target_valid, predictions)\n",
        "    print(f'RMSE модели по региону: {mse**0.5:.2f}')\n",
        "    print(f'Средний запас предсказанного сырья в регионе: {predictions.mean():.2f} тыс. баррелей')\n",
        "    plt.figure(figsize=(15,10))\n",
        "    sns.kdeplot(data=pd.Series(predictions), label='Предсказанные значения')\n",
        "    sns.kdeplot(data=target_valid, alpha=.3, label='Реальные значения')\n",
        "    plt.legend(fontsize=16)\n",
        "    plt.show()\n",
        "    return target_valid, predictions"
      ]
    },
    {
      "cell_type": "markdown",
      "metadata": {
        "id": "VbC8GZvJC0DC"
      },
      "source": [
        "### Регион 1"
      ]
    },
    {
      "cell_type": "code",
      "execution_count": 9,
      "metadata": {
        "colab": {
          "base_uri": "https://localhost:8080/",
          "height": 556
        },
        "id": "wqXhyFCzC0DC",
        "outputId": "74dc901b-6873-4194-92a4-235e8c414aee"
      },
      "outputs": [
        {
          "output_type": "stream",
          "name": "stdout",
          "text": [
            "RMSE модели по региону: 37.68\n",
            "Средний запас предсказанного сырья в регионе: 92.52 тыс. баррелей\n"
          ]
        },
        {
          "output_type": "display_data",
          "data": {
            "text/plain": [
              "<Figure size 1500x1000 with 1 Axes>"
            ],
            "image/png": "[encoded data removed]"
          },
          "metadata": {}
        }
      ],
      "source": [
        "target_valid_1, predictions_1 = using_linear_regression(d1)"
      ]
    },
    {
      "cell_type": "markdown",
      "metadata": {
        "id": "8t6BqcEWC0DC"
      },
      "source": [
        "Мы видим, что плотность распределения значений, предсказанных моделью, отличается от плотности распределения реальных данных. Это говорит о том, что мы не можем в дальнейшем исследовании полагаться только на предсказания модели. "
      ]
    },
    {
      "cell_type": "markdown",
      "metadata": {
        "id": "vDgs28gMC0DC"
      },
      "source": [
        "В регионе 1 RMSE модели составляет 37.68, а средний запас предсказанного сырья — 92.52 тыс. баррелей"
      ]
    },
    {
      "cell_type": "markdown",
      "metadata": {
        "id": "i4JUWFUPC0DC"
      },
      "source": [
        "### Регион 2"
      ]
    },
    {
      "cell_type": "code",
      "execution_count": 10,
      "metadata": {
        "colab": {
          "base_uri": "https://localhost:8080/",
          "height": 556
        },
        "id": "l8klciURC0DC",
        "outputId": "05c3fd44-73dd-40ce-c90d-47bda9978add"
      },
      "outputs": [
        {
          "output_type": "stream",
          "name": "stdout",
          "text": [
            "RMSE модели по региону: 0.89\n",
            "Средний запас предсказанного сырья в регионе: 69.09 тыс. баррелей\n"
          ]
        },
        {
          "output_type": "display_data",
          "data": {
            "text/plain": [
              "<Figure size 1500x1000 with 1 Axes>"
            ],
            "image/png": "[encoded data removed]"
          },
          "metadata": {}
        }
      ],
      "source": [
        "target_valid_2, predictions_2 = using_linear_regression(d2)"
      ]
    },
    {
      "cell_type": "markdown",
      "metadata": {
        "id": "8mV3_REBC0DD"
      },
      "source": [
        "Средний запас предсказанного сырья в регионе 2 (69.09 тыс. баррелей) меньше, чем в регионе 1, однако качество модели значительно лучше. Об этом говорит низкое значение RMSE (0.89) и график, на котором кривые по предсказанным и реальным данным практически сливаются. Такая ситуация ожидаема, поскольку в наших данных есть признак, который практически на 100% коррелирует с целевым показателем."
      ]
    },
    {
      "cell_type": "markdown",
      "metadata": {
        "id": "OLDLxj6jC0DE"
      },
      "source": [
        "### Регион 3"
      ]
    },
    {
      "cell_type": "code",
      "execution_count": 11,
      "metadata": {
        "colab": {
          "base_uri": "https://localhost:8080/",
          "height": 553
        },
        "id": "OlAp00giC0DE",
        "outputId": "b5ed0e55-7d9d-49bf-db45-b6e3c0d88a04"
      },
      "outputs": [
        {
          "output_type": "stream",
          "name": "stdout",
          "text": [
            "RMSE модели по региону: 40.02\n",
            "Средний запас предсказанного сырья в регионе: 94.98 тыс. баррелей\n"
          ]
        },
        {
          "output_type": "display_data",
          "data": {
            "text/plain": [
              "<Figure size 1500x1000 with 1 Axes>"
            ],
            "image/png": "[encoded data removed]"
          },
          "metadata": {}
        }
      ],
      "source": [
        "target_valid_3, predictions_3 = using_linear_regression(d3)"
      ]
    },
    {
      "cell_type": "markdown",
      "metadata": {
        "id": "vCwA0_BRC0DE"
      },
      "source": [
        "В регионе 3 самый большой из трех представленных средний запас предсказанного сырья (94.98 тыс. баррелей), но и самая большая ошибка модели (RMSE около 40). Добыча нефти в этом регионе может быть сопряжена с более высоким риском."
      ]
    },
    {
      "cell_type": "markdown",
      "metadata": {
        "id": "rzrD7zpyC0DL"
      },
      "source": [
        "### Выводы по разделу\n",
        "\n",
        "1. Мы обучили и проверили модели линейной регрессии на данных по трем представленным регионам.\n",
        "2. Наилучший результат по RMSE показала модель по региону 2, поскольку в данных по этому региону целевой признак (product) практически на 100% коррелирует с одним из нецелевых (f2). Вместе с тем в этом регионе самый низкий из трех средний запас предсказанного сырья.\n",
        "3. Модели, построенные на данных по первому и третьему регионам, показали сопоставимые показатели по среднему запасу и значению метрики RMSE: предсказанный запас в этих регионах больше, но и ошибка модели также выше, то есть принятие решений на основе предсказания моделей сопряжено с более высоким риском."
      ]
    },
    {
      "cell_type": "markdown",
      "metadata": {
        "id": "YJMTTwlzC0DL"
      },
      "source": [
        "## Подготовка к расчёту прибыли"
      ]
    },
    {
      "cell_type": "markdown",
      "metadata": {
        "id": "PY2LPwCkC0DM"
      },
      "source": [
        "Сохраним значения для расчетов в отдельные переменные."
      ]
    },
    {
      "cell_type": "code",
      "execution_count": 12,
      "metadata": {
        "colab": {
          "base_uri": "https://localhost:8080/"
        },
        "id": "F_MgRyFwC0DM",
        "outputId": "98588584-fa68-4e15-d234-76727c5ac380"
      },
      "outputs": [
        {
          "output_type": "stream",
          "name": "stdout",
          "text": [
            "Минимальный объем сырья для безубыточной разработки скважины: 111.11 тыс. баррелей\n"
          ]
        }
      ],
      "source": [
        "# Общий бюджет на разработку скважин в регионе\n",
        "BUDGET = 10_000_000_000\n",
        "\n",
        "# Цена 1000 баррелей\n",
        "PRICE_PER_1000 = 450_000\n",
        "\n",
        "# Минимальный объем сырья для безубыточной разработки новой скважины\n",
        "min_oil_amount = BUDGET / 200 / PRICE_PER_1000\n",
        "print(f'Минимальный объем сырья для безубыточной разработки скважины: {min_oil_amount:.2f} тыс. баррелей')"
      ]
    },
    {
      "cell_type": "markdown",
      "metadata": {
        "id": "ubQTvGpSC0DM"
      },
      "source": [
        "Сравним рассчитанное минимальное значение объема сырья со средними запасами нефти в регионах."
      ]
    },
    {
      "cell_type": "code",
      "execution_count": 13,
      "metadata": {
        "id": "-JE3LwIlC0DM"
      },
      "outputs": [],
      "source": [
        "def compare_mean_and_min(data):\n",
        "    '''\n",
        "    Функция для сравнения среднего объема сырья в регионе\n",
        "    с минимальным количеством сырья,\n",
        "    необходимым для безубыточной разработки скважины\n",
        "    '''\n",
        "    \n",
        "    diff = data['product'].mean() - min_oil_amount\n",
        "    \n",
        "    if diff >= 0:\n",
        "        print('В регионе достаточный объём сырья для безубыточной разработки новой скважины')\n",
        "        \n",
        "    else:\n",
        "        print('В регионе недостаточный объём сырья') \n",
        "        print(f'Средний убыток c новой скважины составит {(int(abs(diff)) * PRICE_PER_1000)/1000000} млн рублей')"
      ]
    },
    {
      "cell_type": "code",
      "execution_count": 14,
      "metadata": {
        "colab": {
          "base_uri": "https://localhost:8080/"
        },
        "id": "uj4qPaUaC0DN",
        "outputId": "bd902918-d7d4-44e3-aacc-625e1a8c34fd"
      },
      "outputs": [
        {
          "output_type": "stream",
          "name": "stdout",
          "text": [
            "В регионе недостаточный объём сырья\n",
            "Средний убыток c новой скважины составит 8.1 млн рублей\n"
          ]
        }
      ],
      "source": [
        "compare_mean_and_min(d1)"
      ]
    },
    {
      "cell_type": "code",
      "execution_count": 15,
      "metadata": {
        "colab": {
          "base_uri": "https://localhost:8080/"
        },
        "id": "bAzcrJSmC0DN",
        "outputId": "14fa4a15-cb1b-49e8-a376-40ce5e3545a2"
      },
      "outputs": [
        {
          "output_type": "stream",
          "name": "stdout",
          "text": [
            "В регионе недостаточный объём сырья\n",
            "Средний убыток c новой скважины составит 18.9 млн рублей\n"
          ]
        }
      ],
      "source": [
        "compare_mean_and_min(d2)"
      ]
    },
    {
      "cell_type": "code",
      "execution_count": 16,
      "metadata": {
        "colab": {
          "base_uri": "https://localhost:8080/"
        },
        "id": "tfHLQtLvC0DN",
        "outputId": "00eb536b-06fc-4424-d341-19f59baf1bae"
      },
      "outputs": [
        {
          "output_type": "stream",
          "name": "stdout",
          "text": [
            "В регионе недостаточный объём сырья\n",
            "Средний убыток c новой скважины составит 7.2 млн рублей\n"
          ]
        }
      ],
      "source": [
        "compare_mean_and_min(d3)"
      ]
    },
    {
      "cell_type": "markdown",
      "metadata": {
        "id": "v_wsKiN7C0DN"
      },
      "source": [
        "Из сравнения среднего запаса сырья в регионах с минимальным объемом, достаточным для безубыточной разработки новой скважины, следует, что все три представленных региона являются убыточными. "
      ]
    },
    {
      "cell_type": "markdown",
      "metadata": {
        "id": "cjYNQ9AmC0DO"
      },
      "source": [
        "## Расчёт прибыли и рисков "
      ]
    },
    {
      "cell_type": "markdown",
      "metadata": {
        "id": "Wotj46UhC0DO"
      },
      "source": [
        "Создадим функцию для расчета прибыли. Для этого выберем 200 скважин с максимальными предсказанными значениями, после чего найдем реальный показатель объема сырья по этим скважинам и рассчитаем прибыль (умножим стоимость тысячи баррелей на суммарный объем и вычтем затраты на разработку скважин). Для удобства разделим итоговое число на миллион, чтобы прибыль выводилась в млн рублей."
      ]
    },
    {
      "cell_type": "code",
      "execution_count": 17,
      "metadata": {
        "id": "r0AYkYK5C0DO"
      },
      "outputs": [],
      "source": [
        "# Делаем функцию для расчета прибыли по выбранным скважинам и предсказаниям модели\n",
        "def profit(target, probs):\n",
        "    probs_sorted = pd.Series(probs).sort_values(ascending=False)\n",
        "    sel = target.iloc[probs_sorted.index][:200]\n",
        "    return (PRICE_PER_1000 * sel.sum() - BUDGET)/1000000\n",
        "    \n"
      ]
    },
    {
      "cell_type": "markdown",
      "metadata": {
        "id": "I9IaNgRMC0DO"
      },
      "source": [
        "Поскольку речь идет о возможной большой прибыли или больших убытках, нам нужно быть уверенными в том, что в наш отбор не вмешалась случайность. Для этого нужно найти вероятное распределение прибыли. Нам подходит техника bootstrap. \n",
        "\n",
        "Мы используем bootstrap (получение выборок с возвращением) 1000 раз и найдем распределение прибыли. Используя эти данные, найдем среднее значение прибыли, 95%-ный доверительный интервал и вероятность убытков (отрицательной прибыли).\n",
        "\n",
        "Создадим функцию для проведения описанных расчетов.\n"
      ]
    },
    {
      "cell_type": "code",
      "execution_count": 18,
      "metadata": {
        "id": "Z3KG_QT9C0DP"
      },
      "outputs": [],
      "source": [
        "def choose_best_region (target, predictions):\n",
        "    \n",
        "    # Пустой список, куда будем сохранять значения прибыли\n",
        "    values = []\n",
        "\n",
        "    # Бутстрапируем выборку\n",
        "    state = np.random.RandomState(3337)\n",
        "    for i in range(1000):\n",
        "        target = target.reset_index(drop=True)\n",
        "        target_subsample = target.sample(n=500, replace=True, random_state=state)\n",
        "        predictions_subsample = predictions[target_subsample.index]\n",
        "        value = profit(target_subsample, predictions_subsample)\n",
        "        values.append(value)\n",
        "\n",
        "    # Считаем средний риск отрицательной прибыли\n",
        "    values = pd.Series(values)\n",
        "    risk = (values < 0).mean()\n",
        "\n",
        "    # Рассчитываем доверительный интервал\n",
        "    lower = values.quantile(q=0.025)\n",
        "    upper = values.quantile(q=0.975)\n",
        "    \n",
        "    sns.kdeplot(values)\n",
        "\n",
        "    print(f'Средняя прибыль в регионе: {values.mean():.2f} млн рублей')\n",
        "    print(f'95% доверительный интервал: {lower:.2f}, {upper:.2f}')\n",
        "    print(f'Средний риск убытков: {risk:.1%}')\n",
        "\n",
        "    # сравниваем с риском в 2.5% (условия задачи)\n",
        "    if (risk * 100) <= 2.5:\n",
        "          print('Риск убытков меньше 2.5%')\n",
        "    else:\n",
        "          print('Риск убытков выше 2.5%')      "
      ]
    },
    {
      "cell_type": "code",
      "execution_count": 19,
      "metadata": {
        "colab": {
          "base_uri": "https://localhost:8080/",
          "height": 501
        },
        "id": "yKMeBxA-C0DP",
        "outputId": "a25780d4-ab9a-41cd-d563-6b94e6cd27d6"
      },
      "outputs": [
        {
          "output_type": "stream",
          "name": "stdout",
          "text": [
            "Средняя прибыль в регионе: 394.82 млн рублей\n",
            "95% доверительный интервал: -154.35, 965.49\n",
            "Средний риск убытков: 8.3%\n",
            "Риск убытков выше 2.5%\n"
          ]
        },
        {
          "output_type": "display_data",
          "data": {
            "text/plain": [
              "<Figure size 640x480 with 1 Axes>"
            ],
            "image/png": "[encoded data removed]"
          },
          "metadata": {}
        }
      ],
      "source": [
        "choose_best_region(target_valid_1, predictions_1)\n"
      ]
    },
    {
      "cell_type": "code",
      "execution_count": 20,
      "metadata": {
        "colab": {
          "base_uri": "https://localhost:8080/",
          "height": 501
        },
        "id": "Qrn2mguyC0DP",
        "outputId": "66a98ae8-4c90-4b4b-adad-d82e71e653b2"
      },
      "outputs": [
        {
          "output_type": "stream",
          "name": "stdout",
          "text": [
            "Средняя прибыль в регионе: 480.91 млн рублей\n",
            "95% доверительный интервал: 83.82, 878.17\n",
            "Средний риск убытков: 0.9%\n",
            "Риск убытков меньше 2.5%\n"
          ]
        },
        {
          "output_type": "display_data",
          "data": {
            "text/plain": [
              "<Figure size 640x480 with 1 Axes>"
            ],
            "image/png": "[encoded data removed]"
          },
          "metadata": {}
        }
      ],
      "source": [
        "choose_best_region(target_valid_2, predictions_2)"
      ]
    },
    {
      "cell_type": "code",
      "execution_count": 21,
      "metadata": {
        "colab": {
          "base_uri": "https://localhost:8080/",
          "height": 501
        },
        "id": "PHSo2ZXsC0DP",
        "outputId": "14465224-372c-4a96-cb31-a139a07bb08f"
      },
      "outputs": [
        {
          "output_type": "stream",
          "name": "stdout",
          "text": [
            "Средняя прибыль в регионе: 342.87 млн рублей\n",
            "95% доверительный интервал: -163.20, 904.46\n",
            "Средний риск убытков: 9.3%\n",
            "Риск убытков выше 2.5%\n"
          ]
        },
        {
          "output_type": "display_data",
          "data": {
            "text/plain": [
              "<Figure size 640x480 with 1 Axes>"
            ],
            "image/png": "[encoded data removed]"
          },
          "metadata": {}
        }
      ],
      "source": [
        "choose_best_region(target_valid_3, predictions_3)"
      ]
    },
    {
      "cell_type": "markdown",
      "metadata": {
        "id": "DK_QeSi3C0DQ"
      },
      "source": [
        "Исходя из проведенных расчетов, наиболее надежным регионом является регион 2. Он показал самое высокое значение средней прибыли, а также самый низкий объем рисков (самую низкую долю вероятной отрицательной прибыли). Как мы помним, в этом регионе присутствует высокая корреляция между одним из нецелевых показателей (f2) и объемом добычи, поэтому модель, построенная на данных этого региона, показала самое низкое значение ошибки. Следовательно, для разработки новых скважин мы будем рекомендовать регион 2.\n"
      ]
    },
    {
      "cell_type": "markdown",
      "metadata": {
        "id": "-hA4TZsgC0DQ"
      },
      "source": [
        "## Вывод по проекту"
      ]
    },
    {
      "cell_type": "markdown",
      "metadata": {
        "id": "zhwbqNvvC0DQ"
      },
      "source": [
        "В результате исследования было установлено, что предпочительным регионом для разработки новых скважин является регион 2. Такой вывод был сделан исходя из представленных данных (бюджет, максимально возможные риски убытков, количество новых скважин, характеристики регионов). Второй регион отличается от двух других по ряду показателей. В этом регионе риск убытков наименьший (0.9%), а средняя прибыль наиболее высокая (480.91 млн рублей). Кроме того, модель, построенная на данных по этому региону, показала наименьшее значение ошибки (RMSE), поскольку целевой признак сильно коррелирует с одной из характеристик (f2). "
      ]
    }
  ],
  "metadata": {
    "ExecuteTimeLog": [
      {
        "duration": 381,
        "start_time": "2022-12-14T15:49:23.939Z"
      },
      {
        "duration": 624,
        "start_time": "2022-12-14T15:50:37.002Z"
      },
      {
        "duration": 16,
        "start_time": "2022-12-14T15:50:43.834Z"
      },
      {
        "duration": 9,
        "start_time": "2022-12-14T15:50:51.504Z"
      },
      {
        "duration": 9,
        "start_time": "2022-12-14T15:50:58.683Z"
      },
      {
        "duration": 16,
        "start_time": "2022-12-14T15:51:22.445Z"
      },
      {
        "duration": 14,
        "start_time": "2022-12-14T15:51:31.161Z"
      },
      {
        "duration": 15,
        "start_time": "2022-12-14T15:51:41.678Z"
      },
      {
        "duration": 3,
        "start_time": "2022-12-14T15:54:15.834Z"
      },
      {
        "duration": 60,
        "start_time": "2022-12-14T15:54:26.562Z"
      },
      {
        "duration": 4,
        "start_time": "2022-12-14T15:54:42.603Z"
      },
      {
        "duration": 3,
        "start_time": "2022-12-14T15:54:50.305Z"
      },
      {
        "duration": 3,
        "start_time": "2022-12-14T15:54:57.674Z"
      },
      {
        "duration": 4,
        "start_time": "2022-12-14T15:55:30.234Z"
      },
      {
        "duration": 3,
        "start_time": "2022-12-14T15:56:33.222Z"
      },
      {
        "duration": 61,
        "start_time": "2022-12-14T15:56:39.454Z"
      },
      {
        "duration": 9,
        "start_time": "2022-12-14T15:58:36.232Z"
      },
      {
        "duration": 4,
        "start_time": "2022-12-14T15:59:02.102Z"
      },
      {
        "duration": 4,
        "start_time": "2022-12-14T15:59:20.414Z"
      },
      {
        "duration": 8,
        "start_time": "2022-12-14T15:59:31.014Z"
      },
      {
        "duration": 72,
        "start_time": "2022-12-14T15:59:53.932Z"
      },
      {
        "duration": 7,
        "start_time": "2022-12-14T16:00:01.519Z"
      },
      {
        "duration": 4,
        "start_time": "2022-12-14T16:00:33.415Z"
      },
      {
        "duration": 3,
        "start_time": "2022-12-14T16:00:44.275Z"
      },
      {
        "duration": 3,
        "start_time": "2022-12-14T16:00:50.724Z"
      },
      {
        "duration": 4,
        "start_time": "2022-12-14T16:01:16.277Z"
      },
      {
        "duration": 732,
        "start_time": "2022-12-14T16:01:51.398Z"
      },
      {
        "duration": 526,
        "start_time": "2022-12-14T16:02:12.109Z"
      },
      {
        "duration": 4671,
        "start_time": "2022-12-14T16:02:23.509Z"
      },
      {
        "duration": 0,
        "start_time": "2022-12-14T16:05:43.250Z"
      },
      {
        "duration": 4784,
        "start_time": "2022-12-14T16:05:48.380Z"
      },
      {
        "duration": 57,
        "start_time": "2022-12-15T06:57:32.022Z"
      },
      {
        "duration": 1510,
        "start_time": "2022-12-15T06:57:38.222Z"
      },
      {
        "duration": 1814,
        "start_time": "2022-12-15T06:57:39.735Z"
      },
      {
        "duration": 5,
        "start_time": "2022-12-15T06:57:41.550Z"
      },
      {
        "duration": 5,
        "start_time": "2022-12-15T06:57:51.800Z"
      },
      {
        "duration": 76,
        "start_time": "2022-12-15T06:58:00.199Z"
      },
      {
        "duration": 51920,
        "start_time": "2022-12-15T06:58:15.528Z"
      },
      {
        "duration": 5,
        "start_time": "2022-12-15T08:49:27.979Z"
      },
      {
        "duration": 5,
        "start_time": "2022-12-15T08:50:28.124Z"
      },
      {
        "duration": 5,
        "start_time": "2022-12-15T08:50:31.504Z"
      },
      {
        "duration": 759,
        "start_time": "2022-12-15T08:50:55.683Z"
      },
      {
        "duration": 93,
        "start_time": "2022-12-15T08:51:14.508Z"
      },
      {
        "duration": 4,
        "start_time": "2022-12-15T08:51:24.745Z"
      },
      {
        "duration": 4,
        "start_time": "2022-12-15T08:51:35.438Z"
      },
      {
        "duration": 7,
        "start_time": "2022-12-15T08:51:58.607Z"
      },
      {
        "duration": 647,
        "start_time": "2022-12-15T08:52:01.082Z"
      },
      {
        "duration": 8,
        "start_time": "2022-12-15T08:52:24.173Z"
      },
      {
        "duration": 588,
        "start_time": "2022-12-15T08:52:26.122Z"
      },
      {
        "duration": 8,
        "start_time": "2022-12-15T08:52:49.558Z"
      },
      {
        "duration": 633,
        "start_time": "2022-12-15T08:52:51.364Z"
      },
      {
        "duration": 7,
        "start_time": "2022-12-15T08:52:58.358Z"
      },
      {
        "duration": 701,
        "start_time": "2022-12-15T08:53:00.665Z"
      },
      {
        "duration": 6,
        "start_time": "2022-12-15T08:55:02.440Z"
      },
      {
        "duration": 0,
        "start_time": "2022-12-15T08:55:57.581Z"
      },
      {
        "duration": 0,
        "start_time": "2022-12-15T08:55:57.582Z"
      },
      {
        "duration": 5,
        "start_time": "2022-12-15T08:56:04.334Z"
      },
      {
        "duration": 684,
        "start_time": "2022-12-15T08:56:06.052Z"
      },
      {
        "duration": 5,
        "start_time": "2022-12-15T08:56:52.372Z"
      },
      {
        "duration": 1648,
        "start_time": "2022-12-15T08:56:57.183Z"
      },
      {
        "duration": 7,
        "start_time": "2022-12-15T08:57:22.963Z"
      },
      {
        "duration": 1318,
        "start_time": "2022-12-15T08:57:25.723Z"
      },
      {
        "duration": 1337,
        "start_time": "2022-12-15T08:57:55.439Z"
      },
      {
        "duration": 448,
        "start_time": "2022-12-15T08:57:56.780Z"
      },
      {
        "duration": 5,
        "start_time": "2022-12-15T08:57:57.229Z"
      },
      {
        "duration": 1181,
        "start_time": "2022-12-15T08:57:57.236Z"
      },
      {
        "duration": 1276,
        "start_time": "2022-12-15T08:58:44.513Z"
      },
      {
        "duration": 442,
        "start_time": "2022-12-15T08:58:45.792Z"
      },
      {
        "duration": 4,
        "start_time": "2022-12-15T08:58:46.236Z"
      },
      {
        "duration": 679,
        "start_time": "2022-12-15T08:58:46.242Z"
      },
      {
        "duration": 1344,
        "start_time": "2022-12-15T08:59:29.210Z"
      },
      {
        "duration": 476,
        "start_time": "2022-12-15T08:59:30.557Z"
      },
      {
        "duration": 5,
        "start_time": "2022-12-15T08:59:31.035Z"
      },
      {
        "duration": 648,
        "start_time": "2022-12-15T08:59:31.042Z"
      },
      {
        "duration": 55039,
        "start_time": "2022-12-15T08:59:31.693Z"
      },
      {
        "duration": 27,
        "start_time": "2022-12-15T09:00:26.734Z"
      },
      {
        "duration": 29,
        "start_time": "2022-12-15T09:00:26.764Z"
      },
      {
        "duration": 14,
        "start_time": "2022-12-15T09:00:26.794Z"
      },
      {
        "duration": 19,
        "start_time": "2022-12-15T09:00:26.810Z"
      },
      {
        "duration": 16,
        "start_time": "2022-12-15T09:00:26.832Z"
      },
      {
        "duration": 28,
        "start_time": "2022-12-15T09:00:26.849Z"
      },
      {
        "duration": 628,
        "start_time": "2022-12-15T09:00:26.879Z"
      },
      {
        "duration": 715,
        "start_time": "2022-12-15T09:00:44.431Z"
      },
      {
        "duration": 1195,
        "start_time": "2022-12-15T09:01:06.984Z"
      },
      {
        "duration": 3,
        "start_time": "2022-12-15T09:03:14.371Z"
      },
      {
        "duration": 122,
        "start_time": "2022-12-15T09:05:16.665Z"
      },
      {
        "duration": 92,
        "start_time": "2022-12-15T09:05:43.321Z"
      },
      {
        "duration": 109,
        "start_time": "2022-12-15T09:05:55.360Z"
      },
      {
        "duration": 4492,
        "start_time": "2022-12-15T09:07:40.795Z"
      },
      {
        "duration": 9818,
        "start_time": "2022-12-15T09:08:07.271Z"
      },
      {
        "duration": 11175,
        "start_time": "2022-12-15T09:11:16.672Z"
      },
      {
        "duration": 8310,
        "start_time": "2022-12-15T09:16:10.223Z"
      },
      {
        "duration": 499,
        "start_time": "2022-12-15T09:16:46.235Z"
      },
      {
        "duration": 988,
        "start_time": "2022-12-15T09:16:57.783Z"
      },
      {
        "duration": 501,
        "start_time": "2022-12-15T09:17:13.145Z"
      },
      {
        "duration": 532,
        "start_time": "2022-12-15T09:17:30.318Z"
      },
      {
        "duration": 286,
        "start_time": "2022-12-15T09:19:51.575Z"
      },
      {
        "duration": 554,
        "start_time": "2022-12-15T09:20:07.914Z"
      },
      {
        "duration": 575,
        "start_time": "2022-12-15T09:20:30.486Z"
      },
      {
        "duration": 632,
        "start_time": "2022-12-15T09:20:45.339Z"
      },
      {
        "duration": 566,
        "start_time": "2022-12-15T09:20:52.598Z"
      },
      {
        "duration": 779,
        "start_time": "2022-12-15T09:21:14.667Z"
      },
      {
        "duration": 648,
        "start_time": "2022-12-15T09:21:26.580Z"
      },
      {
        "duration": 54,
        "start_time": "2022-12-15T10:16:14.880Z"
      },
      {
        "duration": 1554,
        "start_time": "2022-12-15T10:16:20.781Z"
      },
      {
        "duration": 1743,
        "start_time": "2022-12-15T10:16:22.337Z"
      },
      {
        "duration": 5,
        "start_time": "2022-12-15T10:16:24.082Z"
      },
      {
        "duration": 601,
        "start_time": "2022-12-15T10:16:24.090Z"
      },
      {
        "duration": 606,
        "start_time": "2022-12-15T10:16:24.693Z"
      },
      {
        "duration": 582,
        "start_time": "2022-12-15T10:16:25.301Z"
      },
      {
        "duration": 795,
        "start_time": "2022-12-15T10:16:25.885Z"
      },
      {
        "duration": 645,
        "start_time": "2022-12-15T10:16:35.342Z"
      },
      {
        "duration": 2,
        "start_time": "2022-12-15T10:16:48.335Z"
      },
      {
        "duration": 445,
        "start_time": "2022-12-15T10:16:50.235Z"
      },
      {
        "duration": 6,
        "start_time": "2022-12-15T10:16:51.950Z"
      },
      {
        "duration": 563,
        "start_time": "2022-12-15T10:16:53.702Z"
      },
      {
        "duration": 110476,
        "start_time": "2022-12-15T10:17:00.844Z"
      },
      {
        "duration": 112666,
        "start_time": "2022-12-15T10:22:03.274Z"
      },
      {
        "duration": 506,
        "start_time": "2022-12-15T11:13:30.586Z"
      },
      {
        "duration": 96,
        "start_time": "2022-12-15T11:16:18.526Z"
      },
      {
        "duration": 27,
        "start_time": "2022-12-15T11:16:24.667Z"
      },
      {
        "duration": 14,
        "start_time": "2022-12-15T11:20:21.390Z"
      },
      {
        "duration": 56,
        "start_time": "2022-12-15T11:20:28.547Z"
      },
      {
        "duration": 17,
        "start_time": "2022-12-15T11:20:54.245Z"
      },
      {
        "duration": 83,
        "start_time": "2022-12-15T11:20:58.476Z"
      },
      {
        "duration": 5,
        "start_time": "2022-12-15T11:21:13.088Z"
      },
      {
        "duration": 24,
        "start_time": "2022-12-15T11:21:28.887Z"
      },
      {
        "duration": 69,
        "start_time": "2022-12-15T11:23:14.597Z"
      },
      {
        "duration": 23,
        "start_time": "2022-12-15T11:24:46.148Z"
      },
      {
        "duration": 19,
        "start_time": "2022-12-15T11:24:53.686Z"
      },
      {
        "duration": 21,
        "start_time": "2022-12-15T11:25:00.539Z"
      },
      {
        "duration": 201,
        "start_time": "2022-12-15T11:25:32.049Z"
      },
      {
        "duration": 105,
        "start_time": "2022-12-15T11:25:37.249Z"
      },
      {
        "duration": 18,
        "start_time": "2022-12-15T11:25:45.966Z"
      },
      {
        "duration": 26,
        "start_time": "2022-12-15T11:27:34.324Z"
      },
      {
        "duration": 43,
        "start_time": "2022-12-15T11:27:40.634Z"
      },
      {
        "duration": 26,
        "start_time": "2022-12-15T11:27:42.993Z"
      },
      {
        "duration": 11,
        "start_time": "2022-12-15T11:40:36.682Z"
      },
      {
        "duration": 5,
        "start_time": "2022-12-15T11:41:20.004Z"
      },
      {
        "duration": 28,
        "start_time": "2022-12-15T11:43:10.440Z"
      },
      {
        "duration": 20,
        "start_time": "2022-12-15T11:43:29.926Z"
      },
      {
        "duration": 15,
        "start_time": "2022-12-15T11:44:07.604Z"
      },
      {
        "duration": 47,
        "start_time": "2022-12-15T11:44:53.836Z"
      },
      {
        "duration": 15,
        "start_time": "2022-12-15T11:45:05.975Z"
      },
      {
        "duration": 109,
        "start_time": "2022-12-15T11:46:00.479Z"
      },
      {
        "duration": 19,
        "start_time": "2022-12-15T11:46:04.880Z"
      },
      {
        "duration": 26,
        "start_time": "2022-12-15T11:46:09.778Z"
      },
      {
        "duration": 21,
        "start_time": "2022-12-15T11:46:26.712Z"
      },
      {
        "duration": 13,
        "start_time": "2022-12-15T11:46:53.432Z"
      },
      {
        "duration": 94,
        "start_time": "2022-12-15T11:46:57.561Z"
      },
      {
        "duration": 3,
        "start_time": "2022-12-15T12:01:52.138Z"
      },
      {
        "duration": 102,
        "start_time": "2022-12-15T12:02:29.925Z"
      },
      {
        "duration": 23,
        "start_time": "2022-12-15T12:02:41.602Z"
      },
      {
        "duration": 38,
        "start_time": "2022-12-15T12:02:46.418Z"
      },
      {
        "duration": 4,
        "start_time": "2022-12-15T12:06:08.070Z"
      },
      {
        "duration": 4,
        "start_time": "2022-12-15T12:07:28.747Z"
      },
      {
        "duration": 534,
        "start_time": "2022-12-15T12:07:32.241Z"
      },
      {
        "duration": 5,
        "start_time": "2022-12-15T12:07:38.898Z"
      },
      {
        "duration": 4,
        "start_time": "2022-12-15T12:07:52.211Z"
      },
      {
        "duration": 5,
        "start_time": "2022-12-15T12:08:05.242Z"
      },
      {
        "duration": 5,
        "start_time": "2022-12-15T12:08:10.765Z"
      },
      {
        "duration": 46,
        "start_time": "2022-12-15T12:08:34.841Z"
      },
      {
        "duration": 5,
        "start_time": "2022-12-15T12:08:43.992Z"
      },
      {
        "duration": 579,
        "start_time": "2022-12-15T12:08:51.591Z"
      },
      {
        "duration": 5,
        "start_time": "2022-12-15T12:09:04.600Z"
      },
      {
        "duration": 561,
        "start_time": "2022-12-15T12:09:07.333Z"
      },
      {
        "duration": 632,
        "start_time": "2022-12-15T12:10:19.902Z"
      },
      {
        "duration": 718,
        "start_time": "2022-12-15T12:10:33.150Z"
      },
      {
        "duration": 648,
        "start_time": "2022-12-15T12:12:16.455Z"
      },
      {
        "duration": 599,
        "start_time": "2022-12-15T12:12:21.817Z"
      },
      {
        "duration": 112414,
        "start_time": "2022-12-15T12:12:27.869Z"
      },
      {
        "duration": 538,
        "start_time": "2022-12-15T12:17:08.466Z"
      },
      {
        "duration": 758,
        "start_time": "2022-12-15T12:17:15.193Z"
      },
      {
        "duration": 554,
        "start_time": "2022-12-15T12:17:21.480Z"
      },
      {
        "duration": 557,
        "start_time": "2022-12-15T12:17:47.856Z"
      },
      {
        "duration": 69,
        "start_time": "2022-12-15T12:22:46.483Z"
      },
      {
        "duration": 15,
        "start_time": "2022-12-15T12:23:07.317Z"
      },
      {
        "duration": 60,
        "start_time": "2022-12-15T12:23:09.491Z"
      },
      {
        "duration": 18,
        "start_time": "2022-12-15T12:23:18.572Z"
      },
      {
        "duration": 1700,
        "start_time": "2022-12-15T12:23:29.411Z"
      },
      {
        "duration": 429,
        "start_time": "2022-12-15T12:23:31.115Z"
      },
      {
        "duration": 6,
        "start_time": "2022-12-15T12:23:31.545Z"
      },
      {
        "duration": 664,
        "start_time": "2022-12-15T12:23:31.553Z"
      },
      {
        "duration": 690,
        "start_time": "2022-12-15T12:23:32.219Z"
      },
      {
        "duration": 738,
        "start_time": "2022-12-15T12:23:32.911Z"
      },
      {
        "duration": 538,
        "start_time": "2022-12-15T12:23:33.651Z"
      },
      {
        "duration": 15850,
        "start_time": "2022-12-15T12:23:34.191Z"
      },
      {
        "duration": 0,
        "start_time": "2022-12-15T12:23:50.044Z"
      },
      {
        "duration": 0,
        "start_time": "2022-12-15T12:23:50.053Z"
      },
      {
        "duration": 0,
        "start_time": "2022-12-15T12:23:50.055Z"
      },
      {
        "duration": 0,
        "start_time": "2022-12-15T12:23:50.056Z"
      },
      {
        "duration": 21,
        "start_time": "2022-12-15T12:23:56.323Z"
      },
      {
        "duration": 29,
        "start_time": "2022-12-15T12:23:58.311Z"
      },
      {
        "duration": 18,
        "start_time": "2022-12-15T12:24:09.816Z"
      },
      {
        "duration": 45,
        "start_time": "2022-12-15T12:24:11.107Z"
      },
      {
        "duration": 3,
        "start_time": "2022-12-15T12:24:28.303Z"
      },
      {
        "duration": 10,
        "start_time": "2022-12-15T13:39:21.632Z"
      },
      {
        "duration": 3,
        "start_time": "2022-12-15T13:39:25.025Z"
      },
      {
        "duration": 8,
        "start_time": "2022-12-15T13:39:27.275Z"
      },
      {
        "duration": 94,
        "start_time": "2022-12-15T13:39:40.458Z"
      },
      {
        "duration": 6,
        "start_time": "2022-12-15T13:39:42.797Z"
      },
      {
        "duration": 4,
        "start_time": "2022-12-15T13:39:54.574Z"
      },
      {
        "duration": 6,
        "start_time": "2022-12-15T13:39:58.654Z"
      },
      {
        "duration": 4,
        "start_time": "2022-12-15T13:40:21.782Z"
      },
      {
        "duration": 540,
        "start_time": "2022-12-15T13:40:24.204Z"
      },
      {
        "duration": 9,
        "start_time": "2022-12-15T13:44:58.888Z"
      },
      {
        "duration": 83,
        "start_time": "2022-12-15T13:45:02.283Z"
      },
      {
        "duration": 12,
        "start_time": "2022-12-15T13:46:08.061Z"
      },
      {
        "duration": 91,
        "start_time": "2022-12-15T13:46:10.738Z"
      },
      {
        "duration": 12,
        "start_time": "2022-12-15T13:46:41.426Z"
      },
      {
        "duration": 6,
        "start_time": "2022-12-15T13:47:14.025Z"
      },
      {
        "duration": 713,
        "start_time": "2022-12-15T13:47:16.403Z"
      },
      {
        "duration": 7,
        "start_time": "2022-12-15T13:48:02.997Z"
      },
      {
        "duration": 635,
        "start_time": "2022-12-15T13:48:05.433Z"
      },
      {
        "duration": 117,
        "start_time": "2022-12-15T13:48:37.587Z"
      },
      {
        "duration": 7,
        "start_time": "2022-12-15T13:48:44.842Z"
      },
      {
        "duration": 598,
        "start_time": "2022-12-15T13:48:46.737Z"
      },
      {
        "duration": 7,
        "start_time": "2022-12-15T13:49:04.958Z"
      },
      {
        "duration": 617,
        "start_time": "2022-12-15T13:49:07.124Z"
      },
      {
        "duration": 7,
        "start_time": "2022-12-15T13:51:33.213Z"
      },
      {
        "duration": 720,
        "start_time": "2022-12-15T13:51:35.333Z"
      },
      {
        "duration": 10,
        "start_time": "2022-12-15T13:51:52.821Z"
      },
      {
        "duration": 722,
        "start_time": "2022-12-15T13:51:56.165Z"
      },
      {
        "duration": 72,
        "start_time": "2022-12-15T13:52:23.296Z"
      },
      {
        "duration": 8,
        "start_time": "2022-12-15T13:52:29.483Z"
      },
      {
        "duration": 781,
        "start_time": "2022-12-15T13:52:32.314Z"
      },
      {
        "duration": 188,
        "start_time": "2022-12-15T13:52:56.628Z"
      },
      {
        "duration": 1968,
        "start_time": "2022-12-15T13:52:59.102Z"
      },
      {
        "duration": 10,
        "start_time": "2022-12-15T13:53:16.471Z"
      },
      {
        "duration": 1362,
        "start_time": "2022-12-15T13:53:20.982Z"
      },
      {
        "duration": 10,
        "start_time": "2022-12-15T13:53:58.550Z"
      },
      {
        "duration": 1000,
        "start_time": "2022-12-15T13:54:00.081Z"
      },
      {
        "duration": 8,
        "start_time": "2022-12-15T13:54:55.864Z"
      },
      {
        "duration": 1197,
        "start_time": "2022-12-15T13:54:59.347Z"
      },
      {
        "duration": 4,
        "start_time": "2022-12-15T13:55:26.335Z"
      },
      {
        "duration": 8,
        "start_time": "2022-12-15T13:55:37.854Z"
      },
      {
        "duration": 1054,
        "start_time": "2022-12-15T13:55:39.625Z"
      },
      {
        "duration": 983,
        "start_time": "2022-12-15T13:55:50.483Z"
      },
      {
        "duration": 8,
        "start_time": "2022-12-15T13:55:58.804Z"
      },
      {
        "duration": 1003,
        "start_time": "2022-12-15T13:56:03.788Z"
      },
      {
        "duration": 7,
        "start_time": "2022-12-15T13:56:57.752Z"
      },
      {
        "duration": 9,
        "start_time": "2022-12-15T13:57:19.606Z"
      },
      {
        "duration": 822,
        "start_time": "2022-12-15T13:57:21.585Z"
      },
      {
        "duration": 8,
        "start_time": "2022-12-15T13:57:37.445Z"
      },
      {
        "duration": 1047,
        "start_time": "2022-12-15T13:57:39.161Z"
      },
      {
        "duration": 8,
        "start_time": "2022-12-15T13:58:12.605Z"
      },
      {
        "duration": 988,
        "start_time": "2022-12-15T13:58:14.355Z"
      },
      {
        "duration": 7,
        "start_time": "2022-12-15T13:58:40.787Z"
      },
      {
        "duration": 8,
        "start_time": "2022-12-15T13:58:45.041Z"
      },
      {
        "duration": 991,
        "start_time": "2022-12-15T13:58:46.931Z"
      },
      {
        "duration": 8,
        "start_time": "2022-12-15T13:59:25.856Z"
      },
      {
        "duration": 1097,
        "start_time": "2022-12-15T13:59:28.216Z"
      },
      {
        "duration": 12,
        "start_time": "2022-12-15T13:59:57.872Z"
      },
      {
        "duration": 1058,
        "start_time": "2022-12-15T13:59:59.764Z"
      },
      {
        "duration": 12,
        "start_time": "2022-12-15T14:00:24.534Z"
      },
      {
        "duration": 1004,
        "start_time": "2022-12-15T14:00:26.673Z"
      },
      {
        "duration": 11,
        "start_time": "2022-12-15T14:00:50.645Z"
      },
      {
        "duration": 952,
        "start_time": "2022-12-15T14:00:52.405Z"
      },
      {
        "duration": 151,
        "start_time": "2022-12-15T14:01:30.236Z"
      },
      {
        "duration": 10,
        "start_time": "2022-12-15T14:01:37.790Z"
      },
      {
        "duration": 1111,
        "start_time": "2022-12-15T14:01:39.613Z"
      },
      {
        "duration": 1002,
        "start_time": "2022-12-15T14:02:26.479Z"
      },
      {
        "duration": 957,
        "start_time": "2022-12-15T14:02:40.563Z"
      },
      {
        "duration": 139,
        "start_time": "2022-12-15T15:12:27.493Z"
      },
      {
        "duration": 1088,
        "start_time": "2022-12-15T15:12:30.442Z"
      },
      {
        "duration": 8,
        "start_time": "2022-12-15T15:17:45.047Z"
      },
      {
        "duration": 1076,
        "start_time": "2022-12-15T15:17:47.280Z"
      },
      {
        "duration": 957,
        "start_time": "2022-12-15T15:17:53.774Z"
      },
      {
        "duration": 1164,
        "start_time": "2022-12-15T15:18:37.286Z"
      },
      {
        "duration": 1605,
        "start_time": "2022-12-15T15:19:01.217Z"
      },
      {
        "duration": 431,
        "start_time": "2022-12-15T15:19:02.825Z"
      },
      {
        "duration": 9,
        "start_time": "2022-12-15T15:19:03.258Z"
      },
      {
        "duration": 1098,
        "start_time": "2022-12-15T15:19:03.269Z"
      },
      {
        "duration": 1117,
        "start_time": "2022-12-15T15:19:04.369Z"
      },
      {
        "duration": 1085,
        "start_time": "2022-12-15T15:19:05.487Z"
      },
      {
        "duration": 501,
        "start_time": "2022-12-15T15:19:06.574Z"
      },
      {
        "duration": 3,
        "start_time": "2022-12-15T15:19:07.076Z"
      },
      {
        "duration": 42,
        "start_time": "2022-12-15T15:19:07.080Z"
      },
      {
        "duration": 41,
        "start_time": "2022-12-15T15:19:07.125Z"
      },
      {
        "duration": 21,
        "start_time": "2022-12-15T15:19:07.167Z"
      },
      {
        "duration": 171,
        "start_time": "2022-12-15T15:19:07.190Z"
      },
      {
        "duration": 283,
        "start_time": "2022-12-15T15:24:23.386Z"
      },
      {
        "duration": 119,
        "start_time": "2022-12-15T15:24:33.765Z"
      },
      {
        "duration": 3,
        "start_time": "2022-12-15T15:25:34.737Z"
      },
      {
        "duration": 3,
        "start_time": "2022-12-15T15:25:42.504Z"
      },
      {
        "duration": 229,
        "start_time": "2022-12-15T15:28:04.835Z"
      },
      {
        "duration": 369,
        "start_time": "2022-12-15T15:28:32.446Z"
      },
      {
        "duration": 1211,
        "start_time": "2022-12-15T15:28:39.036Z"
      },
      {
        "duration": 280,
        "start_time": "2022-12-15T15:30:00.916Z"
      },
      {
        "duration": 315,
        "start_time": "2022-12-15T15:30:09.676Z"
      },
      {
        "duration": 10612,
        "start_time": "2022-12-15T15:30:28.496Z"
      },
      {
        "duration": 10229,
        "start_time": "2022-12-15T15:31:45.774Z"
      },
      {
        "duration": 10136,
        "start_time": "2022-12-15T15:34:19.343Z"
      },
      {
        "duration": 232,
        "start_time": "2022-12-15T15:35:11.213Z"
      },
      {
        "duration": 464,
        "start_time": "2022-12-15T15:35:15.507Z"
      },
      {
        "duration": 5132,
        "start_time": "2022-12-15T15:35:21.846Z"
      },
      {
        "duration": 845,
        "start_time": "2022-12-15T15:53:36.706Z"
      },
      {
        "duration": 883,
        "start_time": "2022-12-15T15:53:51.972Z"
      },
      {
        "duration": 12,
        "start_time": "2022-12-15T16:01:31.144Z"
      },
      {
        "duration": 8,
        "start_time": "2022-12-15T16:01:42.603Z"
      },
      {
        "duration": 7,
        "start_time": "2022-12-15T16:02:02.924Z"
      },
      {
        "duration": 5,
        "start_time": "2022-12-15T16:03:49.294Z"
      },
      {
        "duration": 6,
        "start_time": "2022-12-15T16:04:16.603Z"
      },
      {
        "duration": 46,
        "start_time": "2022-12-15T19:43:02.400Z"
      },
      {
        "duration": 1442,
        "start_time": "2022-12-15T19:43:07.477Z"
      },
      {
        "duration": 1658,
        "start_time": "2022-12-15T19:43:08.921Z"
      },
      {
        "duration": 7,
        "start_time": "2022-12-15T19:43:10.581Z"
      },
      {
        "duration": 980,
        "start_time": "2022-12-15T19:43:10.590Z"
      },
      {
        "duration": 966,
        "start_time": "2022-12-15T19:43:11.571Z"
      },
      {
        "duration": 915,
        "start_time": "2022-12-15T19:43:12.539Z"
      },
      {
        "duration": 521,
        "start_time": "2022-12-15T19:43:13.456Z"
      },
      {
        "duration": 3,
        "start_time": "2022-12-15T19:43:13.978Z"
      },
      {
        "duration": 8,
        "start_time": "2022-12-15T19:43:13.982Z"
      },
      {
        "duration": 25,
        "start_time": "2022-12-15T19:43:13.992Z"
      },
      {
        "duration": 98,
        "start_time": "2022-12-15T19:43:14.019Z"
      },
      {
        "duration": 103,
        "start_time": "2022-12-15T19:43:14.119Z"
      },
      {
        "duration": 895,
        "start_time": "2022-12-15T19:43:14.224Z"
      },
      {
        "duration": 6,
        "start_time": "2022-12-15T19:43:15.121Z"
      },
      {
        "duration": 13,
        "start_time": "2022-12-15T19:43:35.583Z"
      },
      {
        "duration": 14,
        "start_time": "2022-12-15T19:43:58.287Z"
      },
      {
        "duration": 5,
        "start_time": "2022-12-15T19:44:13.678Z"
      },
      {
        "duration": 693,
        "start_time": "2022-12-15T19:44:35.656Z"
      },
      {
        "duration": 12,
        "start_time": "2022-12-15T19:45:39.826Z"
      },
      {
        "duration": 14,
        "start_time": "2022-12-15T19:45:58.461Z"
      },
      {
        "duration": 5,
        "start_time": "2022-12-15T19:46:10.546Z"
      },
      {
        "duration": 774,
        "start_time": "2022-12-15T19:46:29.237Z"
      },
      {
        "duration": 53,
        "start_time": "2022-12-16T04:38:16.192Z"
      },
      {
        "duration": 1548,
        "start_time": "2022-12-16T04:38:20.355Z"
      },
      {
        "duration": 602,
        "start_time": "2022-12-16T04:38:21.905Z"
      },
      {
        "duration": 9,
        "start_time": "2022-12-16T04:38:22.509Z"
      },
      {
        "duration": 1096,
        "start_time": "2022-12-16T04:38:22.520Z"
      },
      {
        "duration": 990,
        "start_time": "2022-12-16T04:38:23.619Z"
      },
      {
        "duration": 956,
        "start_time": "2022-12-16T04:38:24.612Z"
      },
      {
        "duration": 467,
        "start_time": "2022-12-16T04:38:25.569Z"
      },
      {
        "duration": 2,
        "start_time": "2022-12-16T04:38:26.038Z"
      },
      {
        "duration": 15,
        "start_time": "2022-12-16T04:38:26.042Z"
      },
      {
        "duration": 47,
        "start_time": "2022-12-16T04:38:26.058Z"
      },
      {
        "duration": 108,
        "start_time": "2022-12-16T04:38:26.107Z"
      },
      {
        "duration": 97,
        "start_time": "2022-12-16T04:38:26.217Z"
      },
      {
        "duration": 816,
        "start_time": "2022-12-16T04:38:26.316Z"
      },
      {
        "duration": 13,
        "start_time": "2022-12-16T04:38:27.134Z"
      },
      {
        "duration": 26,
        "start_time": "2022-12-16T04:38:27.149Z"
      },
      {
        "duration": 102,
        "start_time": "2022-12-16T04:38:27.213Z"
      },
      {
        "duration": 719,
        "start_time": "2022-12-16T04:38:27.317Z"
      },
      {
        "duration": 5,
        "start_time": "2022-12-16T04:38:32.572Z"
      },
      {
        "duration": 77,
        "start_time": "2022-12-16T05:44:17.227Z"
      },
      {
        "duration": 14,
        "start_time": "2022-12-16T05:44:23.810Z"
      },
      {
        "duration": 407,
        "start_time": "2022-12-16T05:44:23.830Z"
      },
      {
        "duration": 104,
        "start_time": "2022-12-16T05:44:24.239Z"
      },
      {
        "duration": 1063,
        "start_time": "2022-12-16T05:44:24.345Z"
      },
      {
        "duration": 987,
        "start_time": "2022-12-16T05:44:25.422Z"
      },
      {
        "duration": 1041,
        "start_time": "2022-12-16T05:44:26.411Z"
      },
      {
        "duration": 599,
        "start_time": "2022-12-16T05:44:27.454Z"
      },
      {
        "duration": 2,
        "start_time": "2022-12-16T05:44:28.055Z"
      },
      {
        "duration": 14,
        "start_time": "2022-12-16T05:44:28.059Z"
      },
      {
        "duration": 15,
        "start_time": "2022-12-16T05:44:28.075Z"
      },
      {
        "duration": 38,
        "start_time": "2022-12-16T05:44:28.093Z"
      },
      {
        "duration": 21,
        "start_time": "2022-12-16T05:44:28.212Z"
      },
      {
        "duration": 802,
        "start_time": "2022-12-16T05:44:28.235Z"
      },
      {
        "duration": 13,
        "start_time": "2022-12-16T05:44:29.039Z"
      },
      {
        "duration": 12,
        "start_time": "2022-12-16T05:44:29.053Z"
      },
      {
        "duration": 157,
        "start_time": "2022-12-16T05:44:29.067Z"
      },
      {
        "duration": 724,
        "start_time": "2022-12-16T05:44:29.226Z"
      },
      {
        "duration": 6,
        "start_time": "2022-12-16T05:44:29.952Z"
      },
      {
        "duration": 15,
        "start_time": "2022-12-16T05:44:29.959Z"
      },
      {
        "duration": 46,
        "start_time": "2022-12-16T05:44:29.976Z"
      },
      {
        "duration": 98,
        "start_time": "2022-12-16T05:44:30.032Z"
      },
      {
        "duration": 762,
        "start_time": "2022-12-16T05:44:31.597Z"
      },
      {
        "duration": 720,
        "start_time": "2022-12-16T05:44:47.146Z"
      },
      {
        "duration": 825,
        "start_time": "2022-12-16T05:44:55.106Z"
      },
      {
        "duration": 10,
        "start_time": "2022-12-16T05:50:11.782Z"
      },
      {
        "duration": 3,
        "start_time": "2022-12-16T06:07:07.590Z"
      },
      {
        "duration": 4,
        "start_time": "2022-12-16T06:07:18.580Z"
      },
      {
        "duration": 3,
        "start_time": "2022-12-16T06:07:43.407Z"
      },
      {
        "duration": 3,
        "start_time": "2022-12-16T06:08:13.468Z"
      },
      {
        "duration": 4,
        "start_time": "2022-12-16T06:15:24.977Z"
      },
      {
        "duration": 13,
        "start_time": "2022-12-16T06:15:38.964Z"
      },
      {
        "duration": 3,
        "start_time": "2022-12-16T06:15:49.489Z"
      },
      {
        "duration": 4,
        "start_time": "2022-12-16T06:15:51.828Z"
      },
      {
        "duration": 78,
        "start_time": "2022-12-16T06:16:21.870Z"
      },
      {
        "duration": 52,
        "start_time": "2022-12-16T06:16:29.226Z"
      },
      {
        "duration": 4,
        "start_time": "2022-12-16T06:16:43.236Z"
      },
      {
        "duration": 4,
        "start_time": "2022-12-16T06:16:45.324Z"
      },
      {
        "duration": 4,
        "start_time": "2022-12-16T06:17:18.292Z"
      },
      {
        "duration": 5,
        "start_time": "2022-12-16T06:17:21.965Z"
      },
      {
        "duration": 54,
        "start_time": "2022-12-16T06:17:43.782Z"
      },
      {
        "duration": 45,
        "start_time": "2022-12-16T06:17:50.023Z"
      },
      {
        "duration": 4,
        "start_time": "2022-12-16T06:18:01.730Z"
      },
      {
        "duration": 3,
        "start_time": "2022-12-16T06:18:03.769Z"
      },
      {
        "duration": 4,
        "start_time": "2022-12-16T06:18:34.384Z"
      },
      {
        "duration": 5,
        "start_time": "2022-12-16T06:18:46.524Z"
      },
      {
        "duration": 6,
        "start_time": "2022-12-16T06:18:48.369Z"
      },
      {
        "duration": 5,
        "start_time": "2022-12-16T06:18:54.925Z"
      },
      {
        "duration": 9,
        "start_time": "2022-12-16T06:18:56.696Z"
      },
      {
        "duration": 5,
        "start_time": "2022-12-16T06:18:58.456Z"
      },
      {
        "duration": 4,
        "start_time": "2022-12-16T06:19:04.190Z"
      },
      {
        "duration": 5,
        "start_time": "2022-12-16T06:21:24.032Z"
      },
      {
        "duration": 5,
        "start_time": "2022-12-16T06:21:29.866Z"
      },
      {
        "duration": 5,
        "start_time": "2022-12-16T06:21:44.304Z"
      },
      {
        "duration": 5,
        "start_time": "2022-12-16T06:21:54.887Z"
      },
      {
        "duration": 15,
        "start_time": "2022-12-16T06:29:33.986Z"
      },
      {
        "duration": 3,
        "start_time": "2022-12-16T06:29:50.063Z"
      },
      {
        "duration": 15,
        "start_time": "2022-12-16T06:30:45.864Z"
      },
      {
        "duration": 16,
        "start_time": "2022-12-16T06:32:44.128Z"
      },
      {
        "duration": 15,
        "start_time": "2022-12-16T06:32:50.463Z"
      },
      {
        "duration": 16,
        "start_time": "2022-12-16T06:32:59.338Z"
      },
      {
        "duration": 9,
        "start_time": "2022-12-16T06:33:05.847Z"
      },
      {
        "duration": 1101,
        "start_time": "2022-12-16T06:33:10.055Z"
      },
      {
        "duration": 3,
        "start_time": "2022-12-16T06:35:39.171Z"
      },
      {
        "duration": 3,
        "start_time": "2022-12-16T07:37:44.498Z"
      },
      {
        "duration": 15,
        "start_time": "2022-12-16T07:38:18.882Z"
      },
      {
        "duration": 4,
        "start_time": "2022-12-16T07:39:20.953Z"
      },
      {
        "duration": 25,
        "start_time": "2022-12-16T07:39:23.524Z"
      },
      {
        "duration": 4,
        "start_time": "2022-12-16T07:39:50.141Z"
      },
      {
        "duration": 8,
        "start_time": "2022-12-16T07:39:52.429Z"
      },
      {
        "duration": 11,
        "start_time": "2022-12-16T07:43:50.241Z"
      },
      {
        "duration": 4,
        "start_time": "2022-12-16T07:44:04.961Z"
      },
      {
        "duration": 396,
        "start_time": "2022-12-16T07:44:04.971Z"
      },
      {
        "duration": 107,
        "start_time": "2022-12-16T07:44:05.369Z"
      },
      {
        "duration": 1059,
        "start_time": "2022-12-16T07:44:05.477Z"
      },
      {
        "duration": 1046,
        "start_time": "2022-12-16T07:44:06.538Z"
      },
      {
        "duration": 1044,
        "start_time": "2022-12-16T07:44:07.585Z"
      },
      {
        "duration": 620,
        "start_time": "2022-12-16T07:44:08.631Z"
      },
      {
        "duration": 3,
        "start_time": "2022-12-16T07:44:09.252Z"
      },
      {
        "duration": 17,
        "start_time": "2022-12-16T07:44:09.257Z"
      },
      {
        "duration": 67,
        "start_time": "2022-12-16T07:44:09.276Z"
      },
      {
        "duration": 26,
        "start_time": "2022-12-16T07:44:09.346Z"
      },
      {
        "duration": 112,
        "start_time": "2022-12-16T07:44:09.411Z"
      },
      {
        "duration": 733,
        "start_time": "2022-12-16T07:44:09.526Z"
      },
      {
        "duration": 13,
        "start_time": "2022-12-16T07:44:10.261Z"
      },
      {
        "duration": 40,
        "start_time": "2022-12-16T07:44:10.276Z"
      },
      {
        "duration": 101,
        "start_time": "2022-12-16T07:44:10.318Z"
      },
      {
        "duration": 831,
        "start_time": "2022-12-16T07:44:10.421Z"
      },
      {
        "duration": 6,
        "start_time": "2022-12-16T07:44:11.254Z"
      },
      {
        "duration": 28,
        "start_time": "2022-12-16T07:44:11.262Z"
      },
      {
        "duration": 37,
        "start_time": "2022-12-16T07:44:11.292Z"
      },
      {
        "duration": 6,
        "start_time": "2022-12-16T07:44:11.331Z"
      },
      {
        "duration": 842,
        "start_time": "2022-12-16T07:44:11.412Z"
      },
      {
        "duration": 3,
        "start_time": "2022-12-16T07:44:12.256Z"
      },
      {
        "duration": 25,
        "start_time": "2022-12-16T07:44:12.260Z"
      },
      {
        "duration": 36,
        "start_time": "2022-12-16T07:44:12.286Z"
      },
      {
        "duration": 15,
        "start_time": "2022-12-16T07:44:12.324Z"
      },
      {
        "duration": 17,
        "start_time": "2022-12-16T07:44:12.340Z"
      },
      {
        "duration": 23,
        "start_time": "2022-12-16T07:44:12.359Z"
      },
      {
        "duration": 16,
        "start_time": "2022-12-16T07:44:12.385Z"
      },
      {
        "duration": 11,
        "start_time": "2022-12-16T07:44:17.668Z"
      },
      {
        "duration": 4,
        "start_time": "2022-12-16T07:44:31.088Z"
      },
      {
        "duration": 12,
        "start_time": "2022-12-16T07:44:38.129Z"
      },
      {
        "duration": 22,
        "start_time": "2022-12-16T07:45:02.601Z"
      },
      {
        "duration": 12,
        "start_time": "2022-12-16T07:45:18.342Z"
      },
      {
        "duration": 21,
        "start_time": "2022-12-16T07:45:39.725Z"
      },
      {
        "duration": 18,
        "start_time": "2022-12-16T07:47:12.277Z"
      },
      {
        "duration": 19,
        "start_time": "2022-12-16T07:51:01.524Z"
      },
      {
        "duration": 20,
        "start_time": "2022-12-16T07:51:40.955Z"
      },
      {
        "duration": 3,
        "start_time": "2022-12-16T07:52:58.445Z"
      },
      {
        "duration": 16,
        "start_time": "2022-12-16T07:53:21.437Z"
      },
      {
        "duration": 5,
        "start_time": "2022-12-16T07:53:32.396Z"
      },
      {
        "duration": 7,
        "start_time": "2022-12-16T07:53:40.676Z"
      },
      {
        "duration": 21,
        "start_time": "2022-12-16T07:54:06.825Z"
      },
      {
        "duration": 23,
        "start_time": "2022-12-16T07:54:22.824Z"
      },
      {
        "duration": 7,
        "start_time": "2022-12-16T07:54:28.539Z"
      },
      {
        "duration": 18,
        "start_time": "2022-12-16T07:54:52.326Z"
      },
      {
        "duration": 5,
        "start_time": "2022-12-16T07:55:10.932Z"
      },
      {
        "duration": 5,
        "start_time": "2022-12-16T07:55:19.688Z"
      },
      {
        "duration": 6,
        "start_time": "2022-12-16T07:55:30.248Z"
      },
      {
        "duration": 20,
        "start_time": "2022-12-16T07:55:48.988Z"
      },
      {
        "duration": 1428,
        "start_time": "2022-12-16T07:56:14.151Z"
      },
      {
        "duration": 380,
        "start_time": "2022-12-16T07:56:15.581Z"
      },
      {
        "duration": 8,
        "start_time": "2022-12-16T07:56:15.963Z"
      },
      {
        "duration": 1118,
        "start_time": "2022-12-16T07:56:15.972Z"
      },
      {
        "duration": 1060,
        "start_time": "2022-12-16T07:56:17.092Z"
      },
      {
        "duration": 1037,
        "start_time": "2022-12-16T07:56:18.154Z"
      },
      {
        "duration": 537,
        "start_time": "2022-12-16T07:56:19.193Z"
      },
      {
        "duration": 2,
        "start_time": "2022-12-16T07:56:19.732Z"
      },
      {
        "duration": 7,
        "start_time": "2022-12-16T07:56:19.736Z"
      },
      {
        "duration": 24,
        "start_time": "2022-12-16T07:56:19.744Z"
      },
      {
        "duration": 43,
        "start_time": "2022-12-16T07:56:19.770Z"
      },
      {
        "duration": 98,
        "start_time": "2022-12-16T07:56:19.817Z"
      },
      {
        "duration": 730,
        "start_time": "2022-12-16T07:56:19.917Z"
      },
      {
        "duration": 14,
        "start_time": "2022-12-16T07:56:20.650Z"
      },
      {
        "duration": 46,
        "start_time": "2022-12-16T07:56:20.666Z"
      },
      {
        "duration": 6,
        "start_time": "2022-12-16T07:56:20.714Z"
      },
      {
        "duration": 831,
        "start_time": "2022-12-16T07:56:20.722Z"
      },
      {
        "duration": 5,
        "start_time": "2022-12-16T07:56:21.555Z"
      },
      {
        "duration": 20,
        "start_time": "2022-12-16T07:56:21.562Z"
      },
      {
        "duration": 35,
        "start_time": "2022-12-16T07:56:21.584Z"
      },
      {
        "duration": 5,
        "start_time": "2022-12-16T07:56:21.621Z"
      },
      {
        "duration": 915,
        "start_time": "2022-12-16T07:56:21.711Z"
      },
      {
        "duration": 5,
        "start_time": "2022-12-16T07:56:22.628Z"
      },
      {
        "duration": 14,
        "start_time": "2022-12-16T07:56:22.635Z"
      },
      {
        "duration": 9,
        "start_time": "2022-12-16T07:56:22.651Z"
      },
      {
        "duration": 11,
        "start_time": "2022-12-16T07:56:22.661Z"
      },
      {
        "duration": 14,
        "start_time": "2022-12-16T07:56:22.674Z"
      },
      {
        "duration": 22,
        "start_time": "2022-12-16T07:56:22.690Z"
      },
      {
        "duration": 9,
        "start_time": "2022-12-16T07:56:22.714Z"
      },
      {
        "duration": 132,
        "start_time": "2022-12-16T07:56:22.724Z"
      },
      {
        "duration": 0,
        "start_time": "2022-12-16T07:56:22.858Z"
      },
      {
        "duration": 11,
        "start_time": "2022-12-16T07:56:46.739Z"
      },
      {
        "duration": 12,
        "start_time": "2022-12-16T07:58:18.949Z"
      },
      {
        "duration": 11,
        "start_time": "2022-12-16T07:58:21.507Z"
      },
      {
        "duration": 11,
        "start_time": "2022-12-16T07:58:22.113Z"
      },
      {
        "duration": 13,
        "start_time": "2022-12-16T07:58:44.069Z"
      },
      {
        "duration": 12,
        "start_time": "2022-12-16T07:59:03.799Z"
      },
      {
        "duration": 11,
        "start_time": "2022-12-16T07:59:27.880Z"
      },
      {
        "duration": 12,
        "start_time": "2022-12-16T07:59:40.799Z"
      },
      {
        "duration": 4,
        "start_time": "2022-12-16T08:03:17.248Z"
      },
      {
        "duration": 4,
        "start_time": "2022-12-16T08:03:28.074Z"
      },
      {
        "duration": 5,
        "start_time": "2022-12-16T08:03:32.478Z"
      },
      {
        "duration": 3,
        "start_time": "2022-12-16T08:03:41.829Z"
      },
      {
        "duration": 10,
        "start_time": "2022-12-16T08:03:43.577Z"
      },
      {
        "duration": 10,
        "start_time": "2022-12-16T08:04:21.469Z"
      },
      {
        "duration": 19,
        "start_time": "2022-12-16T08:04:32.968Z"
      },
      {
        "duration": 10,
        "start_time": "2022-12-16T08:05:26.278Z"
      },
      {
        "duration": 16,
        "start_time": "2022-12-16T08:05:30.078Z"
      },
      {
        "duration": 4,
        "start_time": "2022-12-16T08:06:03.528Z"
      },
      {
        "duration": 13,
        "start_time": "2022-12-16T08:06:24.606Z"
      },
      {
        "duration": 15,
        "start_time": "2022-12-16T08:27:50.044Z"
      },
      {
        "duration": 14,
        "start_time": "2022-12-16T08:27:53.438Z"
      },
      {
        "duration": 13,
        "start_time": "2022-12-16T08:28:05.467Z"
      },
      {
        "duration": 17,
        "start_time": "2022-12-16T08:28:34.784Z"
      },
      {
        "duration": 7,
        "start_time": "2022-12-16T08:30:08.586Z"
      },
      {
        "duration": 10,
        "start_time": "2022-12-16T08:30:16.984Z"
      },
      {
        "duration": 11,
        "start_time": "2022-12-16T08:31:13.575Z"
      },
      {
        "duration": 9,
        "start_time": "2022-12-16T08:31:45.653Z"
      },
      {
        "duration": 14,
        "start_time": "2022-12-16T08:32:34.245Z"
      },
      {
        "duration": 27,
        "start_time": "2022-12-16T08:32:39.558Z"
      },
      {
        "duration": 26,
        "start_time": "2022-12-16T08:32:57.397Z"
      },
      {
        "duration": 9,
        "start_time": "2022-12-16T08:55:41.307Z"
      },
      {
        "duration": 3,
        "start_time": "2022-12-16T08:57:01.788Z"
      },
      {
        "duration": 31,
        "start_time": "2022-12-16T08:58:44.684Z"
      },
      {
        "duration": 21,
        "start_time": "2022-12-16T09:01:18.907Z"
      },
      {
        "duration": 29,
        "start_time": "2022-12-16T09:01:33.595Z"
      },
      {
        "duration": 2,
        "start_time": "2022-12-16T09:02:04.125Z"
      },
      {
        "duration": 24,
        "start_time": "2022-12-16T09:02:58.745Z"
      },
      {
        "duration": 4,
        "start_time": "2022-12-16T09:50:56.283Z"
      },
      {
        "duration": 3,
        "start_time": "2022-12-16T09:51:28.162Z"
      },
      {
        "duration": 7,
        "start_time": "2022-12-16T09:51:31.234Z"
      },
      {
        "duration": 5,
        "start_time": "2022-12-16T09:54:21.719Z"
      },
      {
        "duration": 27,
        "start_time": "2022-12-16T09:54:37.925Z"
      },
      {
        "duration": 49,
        "start_time": "2022-12-16T10:31:26.576Z"
      },
      {
        "duration": 5,
        "start_time": "2022-12-16T10:31:35.083Z"
      },
      {
        "duration": 16,
        "start_time": "2022-12-16T10:31:51.511Z"
      },
      {
        "duration": 5,
        "start_time": "2022-12-16T10:32:13.332Z"
      },
      {
        "duration": 538,
        "start_time": "2022-12-16T10:32:15.559Z"
      },
      {
        "duration": 5,
        "start_time": "2022-12-16T10:32:39.759Z"
      },
      {
        "duration": 540,
        "start_time": "2022-12-16T10:32:42.562Z"
      },
      {
        "duration": 5,
        "start_time": "2022-12-16T10:51:05.891Z"
      },
      {
        "duration": 903,
        "start_time": "2022-12-16T10:51:08.209Z"
      },
      {
        "duration": 44,
        "start_time": "2022-12-16T18:14:10.085Z"
      },
      {
        "duration": 1761,
        "start_time": "2022-12-16T18:14:14.414Z"
      },
      {
        "duration": 1573,
        "start_time": "2022-12-16T18:14:16.176Z"
      },
      {
        "duration": 7,
        "start_time": "2022-12-16T18:14:17.751Z"
      },
      {
        "duration": 1015,
        "start_time": "2022-12-16T18:14:17.760Z"
      },
      {
        "duration": 944,
        "start_time": "2022-12-16T18:14:46.950Z"
      },
      {
        "duration": 916,
        "start_time": "2022-12-16T18:16:34.838Z"
      },
      {
        "duration": 4,
        "start_time": "2022-12-16T18:24:54.267Z"
      },
      {
        "duration": 12,
        "start_time": "2022-12-16T18:24:57.884Z"
      },
      {
        "duration": 14,
        "start_time": "2022-12-16T18:24:59.862Z"
      },
      {
        "duration": 14,
        "start_time": "2022-12-16T18:26:16.434Z"
      },
      {
        "duration": 11,
        "start_time": "2022-12-16T18:26:32.792Z"
      },
      {
        "duration": 5,
        "start_time": "2022-12-16T18:27:08.468Z"
      },
      {
        "duration": 13,
        "start_time": "2022-12-16T18:28:27.278Z"
      },
      {
        "duration": 15,
        "start_time": "2022-12-16T18:28:33.109Z"
      },
      {
        "duration": 12,
        "start_time": "2022-12-16T18:28:45.267Z"
      },
      {
        "duration": 12,
        "start_time": "2022-12-16T18:28:53.426Z"
      },
      {
        "duration": 5,
        "start_time": "2022-12-16T18:29:07.956Z"
      },
      {
        "duration": 68,
        "start_time": "2022-12-16T18:29:11.686Z"
      },
      {
        "duration": 10,
        "start_time": "2022-12-16T18:29:18.753Z"
      },
      {
        "duration": 13,
        "start_time": "2022-12-16T18:29:26.043Z"
      },
      {
        "duration": 14,
        "start_time": "2022-12-16T18:29:27.913Z"
      },
      {
        "duration": 4,
        "start_time": "2022-12-16T18:29:29.698Z"
      },
      {
        "duration": 718,
        "start_time": "2022-12-16T18:30:26.599Z"
      },
      {
        "duration": 747,
        "start_time": "2022-12-16T18:32:44.287Z"
      },
      {
        "duration": 4,
        "start_time": "2022-12-16T18:45:55.383Z"
      },
      {
        "duration": 9,
        "start_time": "2022-12-16T18:46:04.248Z"
      },
      {
        "duration": 3,
        "start_time": "2022-12-16T18:46:05.957Z"
      },
      {
        "duration": 4,
        "start_time": "2022-12-16T18:46:07.427Z"
      },
      {
        "duration": 3,
        "start_time": "2022-12-16T18:51:44.006Z"
      },
      {
        "duration": 85,
        "start_time": "2022-12-17T05:20:48.563Z"
      },
      {
        "duration": 5,
        "start_time": "2022-12-17T05:20:58.616Z"
      },
      {
        "duration": 40,
        "start_time": "2022-12-17T05:21:19.759Z"
      },
      {
        "duration": 1565,
        "start_time": "2022-12-17T05:21:24.906Z"
      },
      {
        "duration": 1551,
        "start_time": "2022-12-17T05:21:26.473Z"
      },
      {
        "duration": 8,
        "start_time": "2022-12-17T05:21:28.025Z"
      },
      {
        "duration": 1026,
        "start_time": "2022-12-17T05:21:28.035Z"
      },
      {
        "duration": 861,
        "start_time": "2022-12-17T05:21:29.063Z"
      },
      {
        "duration": 947,
        "start_time": "2022-12-17T05:21:29.926Z"
      },
      {
        "duration": 464,
        "start_time": "2022-12-17T05:21:30.874Z"
      },
      {
        "duration": 3,
        "start_time": "2022-12-17T05:21:31.340Z"
      },
      {
        "duration": 19,
        "start_time": "2022-12-17T05:21:31.345Z"
      },
      {
        "duration": 57,
        "start_time": "2022-12-17T05:21:31.366Z"
      },
      {
        "duration": 106,
        "start_time": "2022-12-17T05:21:31.424Z"
      },
      {
        "duration": 893,
        "start_time": "2022-12-17T05:21:31.532Z"
      },
      {
        "duration": 12,
        "start_time": "2022-12-17T05:21:32.427Z"
      },
      {
        "duration": 34,
        "start_time": "2022-12-17T05:21:32.441Z"
      },
      {
        "duration": 157,
        "start_time": "2022-12-17T05:21:32.477Z"
      },
      {
        "duration": 719,
        "start_time": "2022-12-17T05:21:32.636Z"
      },
      {
        "duration": 13,
        "start_time": "2022-12-17T05:21:33.358Z"
      },
      {
        "duration": 33,
        "start_time": "2022-12-17T05:21:33.372Z"
      },
      {
        "duration": 16,
        "start_time": "2022-12-17T05:21:33.407Z"
      },
      {
        "duration": 912,
        "start_time": "2022-12-17T05:21:33.426Z"
      },
      {
        "duration": 4,
        "start_time": "2022-12-17T05:21:34.340Z"
      },
      {
        "duration": 7,
        "start_time": "2022-12-17T05:21:34.345Z"
      },
      {
        "duration": 84,
        "start_time": "2022-12-17T05:21:34.353Z"
      },
      {
        "duration": 0,
        "start_time": "2022-12-17T05:21:34.438Z"
      },
      {
        "duration": 0,
        "start_time": "2022-12-17T05:21:34.439Z"
      },
      {
        "duration": 0,
        "start_time": "2022-12-17T05:21:34.441Z"
      },
      {
        "duration": 13,
        "start_time": "2022-12-17T05:21:43.398Z"
      },
      {
        "duration": 5,
        "start_time": "2022-12-17T05:28:24.629Z"
      },
      {
        "duration": 19,
        "start_time": "2022-12-17T05:28:28.421Z"
      },
      {
        "duration": 6,
        "start_time": "2022-12-17T05:28:42.307Z"
      },
      {
        "duration": 16,
        "start_time": "2022-12-17T05:28:45.055Z"
      },
      {
        "duration": 8,
        "start_time": "2022-12-17T05:29:43.078Z"
      },
      {
        "duration": 16,
        "start_time": "2022-12-17T05:29:45.880Z"
      },
      {
        "duration": 5,
        "start_time": "2022-12-17T05:30:21.623Z"
      },
      {
        "duration": 13,
        "start_time": "2022-12-17T05:30:24.962Z"
      },
      {
        "duration": 7,
        "start_time": "2022-12-17T05:32:04.105Z"
      },
      {
        "duration": 13,
        "start_time": "2022-12-17T05:32:06.703Z"
      },
      {
        "duration": 4,
        "start_time": "2022-12-17T05:33:22.028Z"
      },
      {
        "duration": 14,
        "start_time": "2022-12-17T05:33:25.120Z"
      },
      {
        "duration": 5,
        "start_time": "2022-12-17T05:40:49.863Z"
      },
      {
        "duration": 14,
        "start_time": "2022-12-17T05:40:53.224Z"
      },
      {
        "duration": 5,
        "start_time": "2022-12-17T05:41:02.919Z"
      },
      {
        "duration": 13,
        "start_time": "2022-12-17T05:41:05.892Z"
      },
      {
        "duration": 4,
        "start_time": "2022-12-17T05:41:36.072Z"
      },
      {
        "duration": 5,
        "start_time": "2022-12-17T05:41:38.388Z"
      },
      {
        "duration": 13,
        "start_time": "2022-12-17T05:41:40.981Z"
      },
      {
        "duration": 13,
        "start_time": "2022-12-17T05:41:47.700Z"
      },
      {
        "duration": 3,
        "start_time": "2022-12-17T05:42:01.303Z"
      },
      {
        "duration": 4,
        "start_time": "2022-12-17T05:42:03.517Z"
      },
      {
        "duration": 3,
        "start_time": "2022-12-17T05:42:40.860Z"
      },
      {
        "duration": 3,
        "start_time": "2022-12-17T05:42:43.413Z"
      },
      {
        "duration": 3,
        "start_time": "2022-12-17T05:43:01.957Z"
      },
      {
        "duration": 3,
        "start_time": "2022-12-17T05:43:03.695Z"
      },
      {
        "duration": 3,
        "start_time": "2022-12-17T05:43:15.069Z"
      },
      {
        "duration": 15,
        "start_time": "2022-12-17T05:43:33.825Z"
      },
      {
        "duration": 3,
        "start_time": "2022-12-17T05:43:56.082Z"
      },
      {
        "duration": 11,
        "start_time": "2022-12-17T05:43:58.614Z"
      },
      {
        "duration": 8,
        "start_time": "2022-12-17T05:44:20.097Z"
      },
      {
        "duration": 70,
        "start_time": "2022-12-17T05:45:07.017Z"
      },
      {
        "duration": 6,
        "start_time": "2022-12-17T05:45:18.239Z"
      },
      {
        "duration": 6,
        "start_time": "2022-12-17T05:45:41.109Z"
      },
      {
        "duration": 13,
        "start_time": "2022-12-17T05:45:43.624Z"
      },
      {
        "duration": 11,
        "start_time": "2022-12-17T05:47:31.727Z"
      },
      {
        "duration": 5,
        "start_time": "2022-12-17T05:48:04.792Z"
      },
      {
        "duration": 665,
        "start_time": "2022-12-17T05:48:28.319Z"
      },
      {
        "duration": 686,
        "start_time": "2022-12-17T05:49:18.082Z"
      },
      {
        "duration": 7,
        "start_time": "2022-12-17T05:49:39.804Z"
      },
      {
        "duration": 7,
        "start_time": "2022-12-17T05:50:42.034Z"
      },
      {
        "duration": 694,
        "start_time": "2022-12-17T05:50:44.768Z"
      },
      {
        "duration": 701,
        "start_time": "2022-12-17T05:51:15.481Z"
      },
      {
        "duration": 11,
        "start_time": "2022-12-17T05:53:32.218Z"
      },
      {
        "duration": 719,
        "start_time": "2022-12-17T05:53:34.448Z"
      },
      {
        "duration": 714,
        "start_time": "2022-12-17T05:53:37.219Z"
      },
      {
        "duration": 717,
        "start_time": "2022-12-17T05:53:40.098Z"
      },
      {
        "duration": 3,
        "start_time": "2022-12-17T05:56:50.083Z"
      },
      {
        "duration": 5,
        "start_time": "2022-12-17T05:57:26.621Z"
      },
      {
        "duration": 658,
        "start_time": "2022-12-17T05:57:28.879Z"
      },
      {
        "duration": 5,
        "start_time": "2022-12-17T06:01:43.477Z"
      },
      {
        "duration": 849,
        "start_time": "2022-12-17T06:01:45.781Z"
      },
      {
        "duration": 812,
        "start_time": "2022-12-17T06:01:51.795Z"
      },
      {
        "duration": 831,
        "start_time": "2022-12-17T06:01:55.576Z"
      },
      {
        "duration": 880,
        "start_time": "2022-12-17T06:02:54.784Z"
      },
      {
        "duration": 857,
        "start_time": "2022-12-17T06:03:06.775Z"
      },
      {
        "duration": 4,
        "start_time": "2022-12-17T06:15:46.914Z"
      },
      {
        "duration": 4,
        "start_time": "2022-12-17T06:16:03.289Z"
      },
      {
        "duration": 359,
        "start_time": "2022-12-17T06:16:05.296Z"
      },
      {
        "duration": 7,
        "start_time": "2022-12-17T06:16:08.192Z"
      },
      {
        "duration": 970,
        "start_time": "2022-12-17T06:16:15.064Z"
      },
      {
        "duration": 3,
        "start_time": "2022-12-17T06:17:36.982Z"
      },
      {
        "duration": 12,
        "start_time": "2022-12-17T06:17:40.009Z"
      },
      {
        "duration": 11,
        "start_time": "2022-12-17T06:17:41.799Z"
      },
      {
        "duration": 5,
        "start_time": "2022-12-17T06:17:47.602Z"
      },
      {
        "duration": 844,
        "start_time": "2022-12-17T06:17:51.290Z"
      },
      {
        "duration": 12,
        "start_time": "2022-12-17T06:18:02.706Z"
      },
      {
        "duration": 12,
        "start_time": "2022-12-17T06:18:04.436Z"
      },
      {
        "duration": 4,
        "start_time": "2022-12-17T06:18:06.454Z"
      },
      {
        "duration": 736,
        "start_time": "2022-12-17T06:18:08.604Z"
      },
      {
        "duration": 13,
        "start_time": "2022-12-17T06:18:22.874Z"
      },
      {
        "duration": 12,
        "start_time": "2022-12-17T06:18:24.331Z"
      },
      {
        "duration": 5,
        "start_time": "2022-12-17T06:18:26.116Z"
      },
      {
        "duration": 683,
        "start_time": "2022-12-17T06:18:29.634Z"
      },
      {
        "duration": 4,
        "start_time": "2022-12-17T06:18:59.332Z"
      },
      {
        "duration": 4,
        "start_time": "2022-12-17T06:19:09.772Z"
      },
      {
        "duration": 4,
        "start_time": "2022-12-17T06:19:13.003Z"
      },
      {
        "duration": 4,
        "start_time": "2022-12-17T06:19:15.134Z"
      },
      {
        "duration": 3,
        "start_time": "2022-12-17T06:19:17.239Z"
      },
      {
        "duration": 3,
        "start_time": "2022-12-17T06:19:32.664Z"
      },
      {
        "duration": 5,
        "start_time": "2022-12-17T06:19:44.429Z"
      },
      {
        "duration": 826,
        "start_time": "2022-12-17T06:19:46.841Z"
      },
      {
        "duration": 803,
        "start_time": "2022-12-17T06:19:54.966Z"
      },
      {
        "duration": 5,
        "start_time": "2022-12-17T06:21:16.992Z"
      },
      {
        "duration": 717,
        "start_time": "2022-12-17T06:21:19.083Z"
      },
      {
        "duration": 7,
        "start_time": "2022-12-17T06:21:34.234Z"
      },
      {
        "duration": 797,
        "start_time": "2022-12-17T06:21:36.525Z"
      },
      {
        "duration": 8,
        "start_time": "2022-12-17T09:26:47.440Z"
      },
      {
        "duration": 4,
        "start_time": "2022-12-17T09:27:44.779Z"
      },
      {
        "duration": 1484,
        "start_time": "2022-12-17T09:28:51.320Z"
      },
      {
        "duration": 1601,
        "start_time": "2022-12-17T09:28:53.529Z"
      },
      {
        "duration": 8,
        "start_time": "2022-12-17T09:28:55.809Z"
      },
      {
        "duration": 3,
        "start_time": "2022-12-17T09:30:10.168Z"
      },
      {
        "duration": 47,
        "start_time": "2022-12-17T09:30:23.504Z"
      },
      {
        "duration": 160,
        "start_time": "2022-12-17T09:30:35.536Z"
      },
      {
        "duration": 3,
        "start_time": "2022-12-17T09:30:56.051Z"
      },
      {
        "duration": 3,
        "start_time": "2022-12-17T09:31:49.934Z"
      },
      {
        "duration": 3,
        "start_time": "2022-12-17T09:32:04.764Z"
      },
      {
        "duration": 4,
        "start_time": "2022-12-17T09:33:23.710Z"
      },
      {
        "duration": 2,
        "start_time": "2022-12-17T09:33:25.868Z"
      },
      {
        "duration": 4,
        "start_time": "2022-12-17T09:34:00.852Z"
      },
      {
        "duration": 166,
        "start_time": "2022-12-17T09:35:09.614Z"
      },
      {
        "duration": 3,
        "start_time": "2022-12-17T09:35:26.335Z"
      },
      {
        "duration": 103,
        "start_time": "2022-12-17T09:35:41.735Z"
      },
      {
        "duration": 5,
        "start_time": "2022-12-17T09:36:02.264Z"
      },
      {
        "duration": 5,
        "start_time": "2022-12-17T09:37:18.980Z"
      },
      {
        "duration": 34,
        "start_time": "2022-12-17T09:37:44.869Z"
      },
      {
        "duration": 5,
        "start_time": "2022-12-17T09:38:40.338Z"
      },
      {
        "duration": 35,
        "start_time": "2022-12-17T09:38:43.149Z"
      },
      {
        "duration": 4,
        "start_time": "2022-12-17T09:43:27.017Z"
      },
      {
        "duration": 31,
        "start_time": "2022-12-17T09:43:29.165Z"
      },
      {
        "duration": 2,
        "start_time": "2022-12-17T09:43:59.688Z"
      },
      {
        "duration": 2,
        "start_time": "2022-12-17T09:44:50.200Z"
      },
      {
        "duration": 158,
        "start_time": "2022-12-17T09:45:20.219Z"
      },
      {
        "duration": 3,
        "start_time": "2022-12-17T09:45:25.368Z"
      },
      {
        "duration": 157,
        "start_time": "2022-12-17T09:45:26.593Z"
      },
      {
        "duration": 38,
        "start_time": "2022-12-17T09:45:30.069Z"
      },
      {
        "duration": 3,
        "start_time": "2022-12-17T09:45:31.669Z"
      },
      {
        "duration": 157,
        "start_time": "2022-12-17T09:45:38.640Z"
      },
      {
        "duration": 3,
        "start_time": "2022-12-17T09:45:54.547Z"
      },
      {
        "duration": 34,
        "start_time": "2022-12-17T09:45:58.087Z"
      },
      {
        "duration": 5,
        "start_time": "2022-12-17T09:46:04.224Z"
      },
      {
        "duration": 5,
        "start_time": "2022-12-17T09:46:36.641Z"
      },
      {
        "duration": 40,
        "start_time": "2022-12-17T09:46:39.341Z"
      },
      {
        "duration": 5,
        "start_time": "2022-12-17T09:46:40.635Z"
      },
      {
        "duration": 4,
        "start_time": "2022-12-17T09:46:51.889Z"
      },
      {
        "duration": 5,
        "start_time": "2022-12-17T09:47:10.651Z"
      },
      {
        "duration": 6,
        "start_time": "2022-12-17T09:48:40.214Z"
      },
      {
        "duration": 36,
        "start_time": "2022-12-17T09:48:45.108Z"
      },
      {
        "duration": 5,
        "start_time": "2022-12-17T09:48:46.972Z"
      },
      {
        "duration": 5,
        "start_time": "2022-12-17T09:50:39.994Z"
      },
      {
        "duration": 14,
        "start_time": "2022-12-17T09:54:21.414Z"
      },
      {
        "duration": 8,
        "start_time": "2022-12-17T09:54:21.429Z"
      },
      {
        "duration": 5,
        "start_time": "2022-12-17T09:56:01.504Z"
      },
      {
        "duration": 54,
        "start_time": "2022-12-17T09:56:03.941Z"
      },
      {
        "duration": 7,
        "start_time": "2022-12-17T09:57:04.869Z"
      },
      {
        "duration": 34,
        "start_time": "2022-12-17T09:57:06.769Z"
      },
      {
        "duration": 4,
        "start_time": "2022-12-17T09:57:17.121Z"
      },
      {
        "duration": 38,
        "start_time": "2022-12-17T09:57:18.830Z"
      },
      {
        "duration": 9,
        "start_time": "2022-12-17T09:57:43.770Z"
      },
      {
        "duration": 5,
        "start_time": "2022-12-17T09:58:41.692Z"
      },
      {
        "duration": 34,
        "start_time": "2022-12-17T09:58:43.730Z"
      },
      {
        "duration": 3,
        "start_time": "2022-12-17T09:58:52.428Z"
      },
      {
        "duration": 148,
        "start_time": "2022-12-17T09:58:59.385Z"
      },
      {
        "duration": 3,
        "start_time": "2022-12-17T09:59:05.030Z"
      },
      {
        "duration": 3,
        "start_time": "2022-12-17T09:59:11.137Z"
      },
      {
        "duration": 4,
        "start_time": "2022-12-17T09:59:15.742Z"
      },
      {
        "duration": 3,
        "start_time": "2022-12-17T09:59:22.829Z"
      },
      {
        "duration": 54,
        "start_time": "2022-12-17T10:02:47.466Z"
      },
      {
        "duration": 4,
        "start_time": "2022-12-17T10:02:49.868Z"
      },
      {
        "duration": 33,
        "start_time": "2022-12-17T10:02:55.457Z"
      },
      {
        "duration": 110,
        "start_time": "2022-12-17T10:04:27.177Z"
      },
      {
        "duration": 3,
        "start_time": "2022-12-17T10:04:30.726Z"
      },
      {
        "duration": 5,
        "start_time": "2022-12-17T10:04:36.831Z"
      },
      {
        "duration": 83,
        "start_time": "2022-12-17T10:04:48.295Z"
      },
      {
        "duration": 5,
        "start_time": "2022-12-17T10:04:52.199Z"
      },
      {
        "duration": 5,
        "start_time": "2022-12-17T10:12:41.163Z"
      },
      {
        "duration": 32,
        "start_time": "2022-12-17T10:12:57.941Z"
      },
      {
        "duration": 10,
        "start_time": "2022-12-17T10:13:05.465Z"
      },
      {
        "duration": 747,
        "start_time": "2022-12-17T10:13:16.155Z"
      },
      {
        "duration": 74,
        "start_time": "2022-12-17T10:14:24.867Z"
      },
      {
        "duration": 7,
        "start_time": "2022-12-17T10:14:32.503Z"
      },
      {
        "duration": 47,
        "start_time": "2022-12-17T10:14:34.815Z"
      },
      {
        "duration": 5,
        "start_time": "2022-12-17T10:15:45.589Z"
      },
      {
        "duration": 37,
        "start_time": "2022-12-17T10:15:49.161Z"
      },
      {
        "duration": 70,
        "start_time": "2022-12-17T10:16:17.156Z"
      },
      {
        "duration": 10,
        "start_time": "2022-12-17T10:18:06.296Z"
      },
      {
        "duration": 39,
        "start_time": "2022-12-17T10:18:15.657Z"
      },
      {
        "duration": 795,
        "start_time": "2022-12-17T10:18:26.370Z"
      },
      {
        "duration": 122,
        "start_time": "2022-12-17T10:19:00.858Z"
      },
      {
        "duration": 701,
        "start_time": "2022-12-17T10:19:12.073Z"
      },
      {
        "duration": 6,
        "start_time": "2022-12-17T10:20:12.315Z"
      },
      {
        "duration": 900,
        "start_time": "2022-12-17T10:20:16.101Z"
      },
      {
        "duration": 6,
        "start_time": "2022-12-17T10:20:42.682Z"
      },
      {
        "duration": 846,
        "start_time": "2022-12-17T10:21:09.945Z"
      },
      {
        "duration": 929,
        "start_time": "2022-12-17T10:21:22.050Z"
      },
      {
        "duration": 7,
        "start_time": "2022-12-17T10:22:13.175Z"
      },
      {
        "duration": 884,
        "start_time": "2022-12-17T10:22:15.405Z"
      },
      {
        "duration": 6,
        "start_time": "2022-12-17T10:22:27.171Z"
      },
      {
        "duration": 7,
        "start_time": "2022-12-17T10:23:04.492Z"
      },
      {
        "duration": 933,
        "start_time": "2022-12-17T10:23:06.653Z"
      },
      {
        "duration": 817,
        "start_time": "2022-12-17T10:23:11.376Z"
      },
      {
        "duration": 1075,
        "start_time": "2022-12-17T10:23:16.721Z"
      },
      {
        "duration": 4,
        "start_time": "2022-12-17T10:24:44.115Z"
      },
      {
        "duration": 5,
        "start_time": "2022-12-17T10:24:52.275Z"
      },
      {
        "duration": 9,
        "start_time": "2022-12-17T10:25:00.451Z"
      },
      {
        "duration": 29,
        "start_time": "2022-12-17T10:25:15.960Z"
      },
      {
        "duration": 4,
        "start_time": "2022-12-17T10:25:24.979Z"
      },
      {
        "duration": 381,
        "start_time": "2022-12-17T10:25:24.985Z"
      },
      {
        "duration": 9,
        "start_time": "2022-12-17T10:25:25.759Z"
      },
      {
        "duration": 998,
        "start_time": "2022-12-17T10:25:25.799Z"
      },
      {
        "duration": 980,
        "start_time": "2022-12-17T10:25:26.799Z"
      },
      {
        "duration": 1061,
        "start_time": "2022-12-17T10:25:27.783Z"
      },
      {
        "duration": 481,
        "start_time": "2022-12-17T10:25:28.846Z"
      },
      {
        "duration": 6,
        "start_time": "2022-12-17T10:25:29.330Z"
      },
      {
        "duration": 961,
        "start_time": "2022-12-17T10:25:29.338Z"
      },
      {
        "duration": 900,
        "start_time": "2022-12-17T10:25:30.301Z"
      },
      {
        "duration": 1007,
        "start_time": "2022-12-17T10:25:31.203Z"
      },
      {
        "duration": 4,
        "start_time": "2022-12-17T10:25:32.211Z"
      },
      {
        "duration": 38,
        "start_time": "2022-12-17T10:25:32.216Z"
      },
      {
        "duration": 27,
        "start_time": "2022-12-17T10:25:32.256Z"
      },
      {
        "duration": 48,
        "start_time": "2022-12-17T10:25:32.285Z"
      },
      {
        "duration": 35,
        "start_time": "2022-12-17T10:25:32.335Z"
      },
      {
        "duration": 37,
        "start_time": "2022-12-17T10:25:32.373Z"
      },
      {
        "duration": 18,
        "start_time": "2022-12-17T10:25:32.411Z"
      },
      {
        "duration": 7,
        "start_time": "2022-12-17T10:25:56.290Z"
      },
      {
        "duration": 880,
        "start_time": "2022-12-17T10:25:56.298Z"
      },
      {
        "duration": 888,
        "start_time": "2022-12-17T10:26:00.795Z"
      },
      {
        "duration": 10,
        "start_time": "2022-12-17T10:26:18.894Z"
      },
      {
        "duration": 869,
        "start_time": "2022-12-17T10:26:22.295Z"
      },
      {
        "duration": 1392,
        "start_time": "2022-12-17T10:26:49.090Z"
      },
      {
        "duration": 363,
        "start_time": "2022-12-17T10:26:50.484Z"
      },
      {
        "duration": 8,
        "start_time": "2022-12-17T10:26:50.849Z"
      },
      {
        "duration": 937,
        "start_time": "2022-12-17T10:26:50.858Z"
      },
      {
        "duration": 967,
        "start_time": "2022-12-17T10:26:51.797Z"
      },
      {
        "duration": 919,
        "start_time": "2022-12-17T10:26:52.765Z"
      },
      {
        "duration": 541,
        "start_time": "2022-12-17T10:26:53.686Z"
      },
      {
        "duration": 6,
        "start_time": "2022-12-17T10:26:54.229Z"
      },
      {
        "duration": 929,
        "start_time": "2022-12-17T10:26:54.237Z"
      },
      {
        "duration": 868,
        "start_time": "2022-12-17T10:26:55.168Z"
      },
      {
        "duration": 1035,
        "start_time": "2022-12-17T10:26:56.038Z"
      },
      {
        "duration": 4,
        "start_time": "2022-12-17T10:26:57.074Z"
      },
      {
        "duration": 17,
        "start_time": "2022-12-17T10:26:57.080Z"
      },
      {
        "duration": 7,
        "start_time": "2022-12-17T10:26:57.101Z"
      },
      {
        "duration": 6,
        "start_time": "2022-12-17T10:26:57.110Z"
      },
      {
        "duration": 5,
        "start_time": "2022-12-17T10:26:57.117Z"
      },
      {
        "duration": 7,
        "start_time": "2022-12-17T10:26:57.124Z"
      },
      {
        "duration": 10,
        "start_time": "2022-12-17T10:26:57.132Z"
      },
      {
        "duration": 858,
        "start_time": "2022-12-17T10:26:57.144Z"
      },
      {
        "duration": 849,
        "start_time": "2022-12-17T10:26:58.004Z"
      },
      {
        "duration": 830,
        "start_time": "2022-12-17T10:26:58.855Z"
      },
      {
        "duration": 6,
        "start_time": "2022-12-17T10:27:33.079Z"
      },
      {
        "duration": 5,
        "start_time": "2022-12-17T10:27:45.893Z"
      },
      {
        "duration": 472,
        "start_time": "2022-12-17T10:46:55.803Z"
      },
      {
        "duration": 447,
        "start_time": "2022-12-17T10:47:19.917Z"
      },
      {
        "duration": 883,
        "start_time": "2022-12-17T10:48:24.204Z"
      },
      {
        "duration": 816,
        "start_time": "2022-12-17T10:50:59.034Z"
      }
    ],
    "kernelspec": {
      "display_name": "Python 3 (ipykernel)",
      "language": "python",
      "name": "python3"
    },
    "language_info": {
      "codemirror_mode": {
        "name": "ipython",
        "version": 3
      },
      "file_extension": ".py",
      "mimetype": "text/x-python",
      "name": "python",
      "nbconvert_exporter": "python",
      "pygments_lexer": "ipython3",
      "version": "3.9.5"
    },
    "toc": {
      "base_numbering": 1,
      "nav_menu": {},
      "number_sections": false,
      "sideBar": true,
      "skip_h1_title": true,
      "title_cell": "Table of Contents",
      "title_sidebar": "Contents",
      "toc_cell": false,
      "toc_position": {},
      "toc_section_display": true,
      "toc_window_display": false
    },
    "colab": {
      "provenance": []
    }
  },
  "nbformat": 4,
  "nbformat_minor": 0
}